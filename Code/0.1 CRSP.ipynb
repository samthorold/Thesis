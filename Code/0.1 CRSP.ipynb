{
 "cells": [
  {
   "cell_type": "markdown",
   "metadata": {},
   "source": [
    "# CRSP\n",
    "\n",
    "- Load CRSP data\n",
    "- Tickle the data\n",
    "- Create variables\n",
    "    + ME\n",
    "    + Prior"
   ]
  },
  {
   "cell_type": "code",
   "execution_count": 47,
   "metadata": {},
   "outputs": [],
   "source": [
    "library(data.table)    # read csv much faster than standard function\n",
    "library(dplyr)         # infinitely nicer grouping operations\n",
    "library(ggplot2)       # sexy plots"
   ]
  },
  {
   "cell_type": "markdown",
   "metadata": {},
   "source": [
    "## Load Data"
   ]
  },
  {
   "cell_type": "code",
   "execution_count": 48,
   "metadata": {},
   "outputs": [],
   "source": [
    "crsp.path = 'C:/Data/CRSP/20171123_CRSP_196001_201612.csv'\n",
    "# colClasses='character' because fread is upset that our columns\n",
    "#   contain multiple variable types\n",
    "# CRSP uses 'C' and 'Z' and some other characters to mean stuff\n",
    "#   whatever they mean, fread is upset\n",
    "# fread rather smugly reports how quickly it has read our file\n",
    "#   if we do not set showProgress=FALSE\n",
    "crsp = fread(crsp.path, colClasses='character', showProgress=FALSE)"
   ]
  },
  {
   "cell_type": "markdown",
   "metadata": {},
   "source": [
    "Let's see what we have."
   ]
  },
  {
   "cell_type": "code",
   "execution_count": 49,
   "metadata": {},
   "outputs": [
    {
     "data": {
      "text/html": [
       "<ol class=list-inline>\n",
       "\t<li>'PERMNO'</li>\n",
       "\t<li>'date'</li>\n",
       "\t<li>'SHRCD'</li>\n",
       "\t<li>'EXCHCD'</li>\n",
       "\t<li>'SICCD'</li>\n",
       "\t<li>'TICKER'</li>\n",
       "\t<li>'COMNAM'</li>\n",
       "\t<li>'CUSIP'</li>\n",
       "\t<li>'DLSTCD'</li>\n",
       "\t<li>'DLRET'</li>\n",
       "\t<li>'PRC'</li>\n",
       "\t<li>'RET'</li>\n",
       "\t<li>'SHROUT'</li>\n",
       "\t<li>'SPREAD'</li>\n",
       "\t<li>'vwretd'</li>\n",
       "</ol>\n"
      ],
      "text/latex": [
       "\\begin{enumerate*}\n",
       "\\item 'PERMNO'\n",
       "\\item 'date'\n",
       "\\item 'SHRCD'\n",
       "\\item 'EXCHCD'\n",
       "\\item 'SICCD'\n",
       "\\item 'TICKER'\n",
       "\\item 'COMNAM'\n",
       "\\item 'CUSIP'\n",
       "\\item 'DLSTCD'\n",
       "\\item 'DLRET'\n",
       "\\item 'PRC'\n",
       "\\item 'RET'\n",
       "\\item 'SHROUT'\n",
       "\\item 'SPREAD'\n",
       "\\item 'vwretd'\n",
       "\\end{enumerate*}\n"
      ],
      "text/markdown": [
       "1. 'PERMNO'\n",
       "2. 'date'\n",
       "3. 'SHRCD'\n",
       "4. 'EXCHCD'\n",
       "5. 'SICCD'\n",
       "6. 'TICKER'\n",
       "7. 'COMNAM'\n",
       "8. 'CUSIP'\n",
       "9. 'DLSTCD'\n",
       "10. 'DLRET'\n",
       "11. 'PRC'\n",
       "12. 'RET'\n",
       "13. 'SHROUT'\n",
       "14. 'SPREAD'\n",
       "15. 'vwretd'\n",
       "\n",
       "\n"
      ],
      "text/plain": [
       " [1] \"PERMNO\" \"date\"   \"SHRCD\"  \"EXCHCD\" \"SICCD\"  \"TICKER\" \"COMNAM\" \"CUSIP\" \n",
       " [9] \"DLSTCD\" \"DLRET\"  \"PRC\"    \"RET\"    \"SHROUT\" \"SPREAD\" \"vwretd\""
      ]
     },
     "metadata": {},
     "output_type": "display_data"
    }
   ],
   "source": [
    "colnames(crsp)"
   ]
  },
  {
   "cell_type": "markdown",
   "metadata": {},
   "source": [
    "There should be no duplicate `PERMNO`-`date` pairs."
   ]
  },
  {
   "cell_type": "code",
   "execution_count": 65,
   "metadata": {},
   "outputs": [
    {
     "data": {
      "text/html": [
       "0"
      ],
      "text/latex": [
       "0"
      ],
      "text/markdown": [
       "0"
      ],
      "text/plain": [
       "[1] 0"
      ]
     },
     "metadata": {},
     "output_type": "display_data"
    }
   ],
   "source": [
    "pairs = duplicated(crsp[,c(\"PERMNO\", \"date\")])\n",
    "sum(pairs)"
   ]
  },
  {
   "cell_type": "code",
   "execution_count": 66,
   "metadata": {
    "collapsed": true
   },
   "outputs": [],
   "source": [
    "if (sum(pairs)>0){\n",
    "    crsp = crsp[!duplicated(crsp[,c(\"PERMNO\", \"date\")]),]\n",
    "}"
   ]
  },
  {
   "cell_type": "markdown",
   "metadata": {},
   "source": [
    "We know we only want firms with a `SHRCD` of 10 or 11 and an\n",
    "`EXCHCD` of 1, 2, or 3."
   ]
  },
  {
   "cell_type": "code",
   "execution_count": 50,
   "metadata": {
    "collapsed": true
   },
   "outputs": [],
   "source": [
    "crsp = crsp[crsp$SHRCD==\"10\" | crsp$SHRCD==\"11\", ]\n",
    "crsp = crsp[crsp$EXCHCD==\"1\"| crsp$EXCHCD==\"2\" | crsp$EXCHCD==\"3\",]"
   ]
  },
  {
   "cell_type": "markdown",
   "metadata": {},
   "source": [
    "For now, we are not bothered about the `TICKER`, `COMNAM`, `CUSIP`, `DLSTCD`, `SPREAD`, or `vwretd`.\n",
    "We will borrow the value-weighted return from Dr. Ken French."
   ]
  },
  {
   "cell_type": "code",
   "execution_count": 51,
   "metadata": {},
   "outputs": [],
   "source": [
    "# The funny '%>%' operator belongs to dplyr. It has all sorts of\n",
    "#   magical properties but basically, we can perform grouping and\n",
    "#   operations on groups in a sane and readable way.\n",
    "#   Unfortunately, dplyr is so magic it begins to get in the way of\n",
    "#   automating some of the more interesting procedures.\n",
    "crsp = crsp %>%\n",
    "    select(-c(SHRCD, TICKER, COMNAM, CUSIP, DLSTCD, SPREAD, vwretd))"
   ]
  },
  {
   "cell_type": "markdown",
   "metadata": {},
   "source": [
    "### How many firms do we have?\n",
    "\n",
    "There are roughly 24K unique `PERMNO` codes.\n",
    "But by 2016 there are less than 4K firms.\n",
    "We should be mindful of firms dying.\n",
    "We also see two important dates regarding the exchanges used in\n",
    "the data.\n",
    "In 1962 we see tha addition of AMEX stocks and in 1973 we see the\n",
    "addition of NASDAQ stocks.\n",
    "It is also important to note that NASDAQ stocks are the most common."
   ]
  },
  {
   "cell_type": "code",
   "execution_count": 88,
   "metadata": {},
   "outputs": [
    {
     "data": {
      "text/html": [
       "24010"
      ],
      "text/latex": [
       "24010"
      ],
      "text/markdown": [
       "24010"
      ],
      "text/plain": [
       "[1] 24010"
      ]
     },
     "metadata": {},
     "output_type": "display_data"
    }
   ],
   "source": [
    "length(unique(crsp$PERMNO))"
   ]
  },
  {
   "cell_type": "code",
   "execution_count": 116,
   "metadata": {},
   "outputs": [
    {
     "data": {},
     "metadata": {},
     "output_type": "display_data"
    },
    {
     "data": {
      "image/png": "[encoded data removed]",
      "text/plain": [
       "plot without title"
      ]
     },
     "metadata": {},
     "output_type": "display_data"
    }
   ],
   "source": [
    "dt = crsp %>% group_by(date) %>% summarise(N=n())\n",
    "dt$date = as.Date(dt$date, format='%Y%m%d')\n",
    "p = ggplot(dt, aes(x=date, y=N)) + geom_line()\n",
    "p = p + scale_x_date(date_breaks=\"2 year\", date_labels=\"%Y%m\")\n",
    "p + theme(axis.text.x=element_text(angle=90, vjust=0.5))"
   ]
  },
  {
   "cell_type": "code",
   "execution_count": 117,
   "metadata": {},
   "outputs": [
    {
     "data": {},
     "metadata": {},
     "output_type": "display_data"
    },
    {
     "data": {
      "image/png": "[encoded data removed]",
      "text/plain": [
       "plot without title"
      ]
     },
     "metadata": {},
     "output_type": "display_data"
    }
   ],
   "source": [
    "dt = crsp %>% group_by(date, EXCHCD) %>% summarise(N=n())\n",
    "dt$date = as.Date(dt$date, format='%Y%m%d')\n",
    "p = ggplot(dt, aes(x=date, y=N, color=EXCHCD)) + geom_line()\n",
    "p = p + scale_x_date(date_breaks=\"2 year\", date_labels=\"%Y%m\")\n",
    "p + theme(axis.text.x=element_text(angle=90, vjust=0.5))"
   ]
  },
  {
   "cell_type": "markdown",
   "metadata": {},
   "source": [
    "On average, there are 4.5K firms each month.\n",
    "This has implications for when we make buckets.\n",
    "Fine sorts would be great but we see already there are some\n",
    "problems with extremely fine sorts.\n",
    "\n",
    "For example, if we want to make 10x10 unconditional sorts,\n",
    "we will be left with, on average, 45 firms in each bucket."
   ]
  },
  {
   "cell_type": "code",
   "execution_count": 92,
   "metadata": {},
   "outputs": [
    {
     "data": {
      "text/html": [
       "4558"
      ],
      "text/latex": [
       "4558"
      ],
      "text/markdown": [
       "4558"
      ],
      "text/plain": [
       "[1] 4558"
      ]
     },
     "metadata": {},
     "output_type": "display_data"
    }
   ],
   "source": [
    "round(mean(dt$N),0)"
   ]
  },
  {
   "cell_type": "code",
   "execution_count": 94,
   "metadata": {},
   "outputs": [
    {
     "data": {
      "text/html": [
       "<table>\n",
       "<thead><tr><th scope=col>date</th><th scope=col>N</th></tr></thead>\n",
       "<tbody>\n",
       "\t<tr><td>1997-07-31</td><td>7525      </td></tr>\n",
       "\t<tr><td>1997-12-31</td><td>7520      </td></tr>\n",
       "\t<tr><td>1997-11-28</td><td>7517      </td></tr>\n",
       "\t<tr><td>1997-06-30</td><td>7515      </td></tr>\n",
       "\t<tr><td>1997-08-29</td><td>7505      </td></tr>\n",
       "\t<tr><td>1997-10-31</td><td>7501      </td></tr>\n",
       "</tbody>\n",
       "</table>\n"
      ],
      "text/latex": [
       "\\begin{tabular}{r|ll}\n",
       " date & N\\\\\n",
       "\\hline\n",
       "\t 1997-07-31 & 7525      \\\\\n",
       "\t 1997-12-31 & 7520      \\\\\n",
       "\t 1997-11-28 & 7517      \\\\\n",
       "\t 1997-06-30 & 7515      \\\\\n",
       "\t 1997-08-29 & 7505      \\\\\n",
       "\t 1997-10-31 & 7501      \\\\\n",
       "\\end{tabular}\n"
      ],
      "text/markdown": [
       "\n",
       "date | N | \n",
       "|---|---|---|---|---|---|\n",
       "| 1997-07-31 | 7525       | \n",
       "| 1997-12-31 | 7520       | \n",
       "| 1997-11-28 | 7517       | \n",
       "| 1997-06-30 | 7515       | \n",
       "| 1997-08-29 | 7505       | \n",
       "| 1997-10-31 | 7501       | \n",
       "\n",
       "\n"
      ],
      "text/plain": [
       "  date       N   \n",
       "1 1997-07-31 7525\n",
       "2 1997-12-31 7520\n",
       "3 1997-11-28 7517\n",
       "4 1997-06-30 7515\n",
       "5 1997-08-29 7505\n",
       "6 1997-10-31 7501"
      ]
     },
     "metadata": {},
     "output_type": "display_data"
    }
   ],
   "source": [
    "dt %>% arrange(-N) %>% head"
   ]
  },
  {
   "cell_type": "markdown",
   "metadata": {},
   "source": [
    "All our columns are characters because we told `fread` to do this\n",
    "to prevent it from whining.\n",
    "We can change them into numeric values and remove the annoying\n",
    "letters at the same time (creating the ugly\n",
    "`Warning` messages).\n",
    "`SHROUT` is divided by 1,000."
   ]
  },
  {
   "cell_type": "code",
   "execution_count": 52,
   "metadata": {
    "scrolled": false
   },
   "outputs": [
    {
     "name": "stdout",
     "output_type": "stream",
     "text": [
      "Classes 'data.table' and 'data.frame':\t3117344 obs. of  8 variables:\n",
      " $ PERMNO: chr  \"10000\" \"10000\" \"10000\" \"10000\" ...\n",
      " $ date  : chr  \"19860131\" \"19860228\" \"19860331\" \"19860430\" ...\n",
      " $ EXCHCD: chr  \"3\" \"3\" \"3\" \"3\" ...\n",
      " $ SICCD : chr  \"3990\" \"3990\" \"3990\" \"3990\" ...\n",
      " $ DLRET : chr  \"\" \"\" \"\" \"\" ...\n",
      " $ PRC   : chr  \"-4.37500\" \"-3.25000\" \"-4.43750\" \"-4.00000\" ...\n",
      " $ RET   : chr  \"C\" \"-0.257143\" \"0.365385\" \"-0.098592\" ...\n",
      " $ SHROUT: chr  \"3680\" \"3680\" \"3680\" \"3793\" ...\n",
      " - attr(*, \".internal.selfref\")=<externalptr> \n"
     ]
    }
   ],
   "source": [
    "str(crsp)"
   ]
  },
  {
   "cell_type": "code",
   "execution_count": 60,
   "metadata": {},
   "outputs": [],
   "source": [
    "crsp$PRC = as.numeric(crsp$PRC)\n",
    "crsp$RET = as.numeric(crsp$RET)\n",
    "crsp$DLRET = as.numeric(crsp$DLRET)\n",
    "crsp$SHROUT = as.numeric(crsp$SHROUT) / 1000"
   ]
  },
  {
   "cell_type": "markdown",
   "metadata": {},
   "source": [
    "Some of our columns only contain numbers but they are descrete\n",
    "values.\n",
    "\n",
    "- `EXCHCD` is only 1, 2 or 3\n",
    "- `SICCD` is only from 1000 to 9000 or something\n",
    "- `PERMNO` is unique to each firm\n",
    "\n",
    "So we will leave these values as characters."
   ]
  },
  {
   "cell_type": "markdown",
   "metadata": {},
   "source": [
    "We need to grab the year and month and from the date."
   ]
  },
  {
   "cell_type": "code",
   "execution_count": 123,
   "metadata": {},
   "outputs": [],
   "source": [
    "# Rather annoyingly, this method seems to take unnecessarily long\n",
    "# crsp$date = as.Date(crsp$date, \"%Y%m%d\")\n",
    "# crsp$Year = as.numeric(format(crsp$date, \"%Y\"))\n",
    "# crsp$Month = as.numeric(format(crsp$date, \"%m\"))\n",
    "\n",
    "# This is faster, I guess 'format' and 'as.Date' take a while\n",
    "crsp$Year = as.numeric(substr(crsp$date, 1, 4))\n",
    "crsp$Month = as.numeric(substr(crsp$date, 5, 6))"
   ]
  },
  {
   "cell_type": "markdown",
   "metadata": {},
   "source": [
    "We want to adjust our returns for any delisting returns.\n",
    "Where the return is missing but we have a delisting return we will\n",
    "just drop the delisting return in place of the return.\n",
    "Where we have a return and delisting return we will multiply\n",
    "the return by the delisting return.\n",
    "Where we have neither we will just leave it."
   ]
  },
  {
   "cell_type": "code",
   "execution_count": 62,
   "metadata": {
    "collapsed": true
   },
   "outputs": [],
   "source": [
    "ix = is.na(crsp$RET)\n",
    "crsp$RET[ix] = crsp$DLRET[ix]\n",
    "ix = !is.na(crsp$RET) & !is.na(crsp$DLRET)\n",
    "crsp$RET[ix] = (1+crsp$RET[ix]) * (1+crsp$DLRET[ix]) - 1"
   ]
  },
  {
   "cell_type": "markdown",
   "metadata": {},
   "source": [
    "We will frequently rebalance portfolios every 12 months.\n",
    "We hold portfolios from July to June."
   ]
  },
  {
   "cell_type": "code",
   "execution_count": 124,
   "metadata": {
    "collapsed": true
   },
   "outputs": [],
   "source": [
    "crsp$HP = crsp$Year\n",
    "crsp$HP[crsp$Month<7] = crsp$HP[crsp$Month<7] - 1"
   ]
  },
  {
   "cell_type": "markdown",
   "metadata": {},
   "source": [
    "## Tickle Data"
   ]
  },
  {
   "cell_type": "markdown",
   "metadata": {},
   "source": [
    "Where did we end up?"
   ]
  },
  {
   "cell_type": "code",
   "execution_count": 126,
   "metadata": {
    "scrolled": true
   },
   "outputs": [
    {
     "data": {
      "text/html": [
       "<table>\n",
       "<thead><tr><th scope=col>PERMNO</th><th scope=col>date</th><th scope=col>EXCHCD</th><th scope=col>SICCD</th><th scope=col>DLRET</th><th scope=col>PRC</th><th scope=col>RET</th><th scope=col>SHROUT</th><th scope=col>Year</th><th scope=col>Month</th><th scope=col>ME</th><th scope=col>HP</th></tr></thead>\n",
       "<tbody>\n",
       "\t<tr><td>10000    </td><td>19860131 </td><td>3        </td><td>3990     </td><td>NA       </td><td>-4.37500 </td><td>       NA</td><td>3.680    </td><td>1986     </td><td> 1       </td><td>16.100000</td><td>1985     </td></tr>\n",
       "\t<tr><td>10000    </td><td>19860228 </td><td>3        </td><td>3990     </td><td>NA       </td><td>-3.25000 </td><td>-0.257143</td><td>3.680    </td><td>1986     </td><td> 2       </td><td>11.960000</td><td>1985     </td></tr>\n",
       "\t<tr><td>10000    </td><td>19860331 </td><td>3        </td><td>3990     </td><td>NA       </td><td>-4.43750 </td><td> 0.365385</td><td>3.680    </td><td>1986     </td><td> 3       </td><td>16.330000</td><td>1985     </td></tr>\n",
       "\t<tr><td>10000    </td><td>19860430 </td><td>3        </td><td>3990     </td><td>NA       </td><td>-4.00000 </td><td>-0.098592</td><td>3.793    </td><td>1986     </td><td> 4       </td><td>15.172000</td><td>1985     </td></tr>\n",
       "\t<tr><td>10000    </td><td>19860530 </td><td>3        </td><td>3990     </td><td>NA       </td><td>-3.10938 </td><td>-0.222656</td><td>3.793    </td><td>1986     </td><td> 5       </td><td>11.793878</td><td>1985     </td></tr>\n",
       "\t<tr><td>10000    </td><td>19860630 </td><td>3        </td><td>3990     </td><td>NA       </td><td>-3.09375 </td><td>-0.005025</td><td>3.793    </td><td>1986     </td><td> 6       </td><td>11.734594</td><td>1985     </td></tr>\n",
       "\t<tr><td>10000    </td><td>19860731 </td><td>3        </td><td>3990     </td><td>NA       </td><td>-2.84375 </td><td>-0.080808</td><td>3.793    </td><td>1986     </td><td> 7       </td><td>10.786344</td><td>1986     </td></tr>\n",
       "\t<tr><td>10000    </td><td>19860829 </td><td>3        </td><td>3990     </td><td>NA       </td><td>-1.09375 </td><td>-0.615385</td><td>3.793    </td><td>1986     </td><td> 8       </td><td> 4.148594</td><td>1986     </td></tr>\n",
       "\t<tr><td>10000    </td><td>19860930 </td><td>3        </td><td>3990     </td><td>NA       </td><td>-1.03125 </td><td>-0.057143</td><td>3.793    </td><td>1986     </td><td> 9       </td><td> 3.911531</td><td>1986     </td></tr>\n",
       "\t<tr><td>10000    </td><td>19861031 </td><td>3        </td><td>3990     </td><td>NA       </td><td>-0.78125 </td><td>-0.242424</td><td>3.843    </td><td>1986     </td><td>10       </td><td> 3.002344</td><td>1986     </td></tr>\n",
       "</tbody>\n",
       "</table>\n"
      ],
      "text/latex": [
       "\\begin{tabular}{r|llllllllllll}\n",
       " PERMNO & date & EXCHCD & SICCD & DLRET & PRC & RET & SHROUT & Year & Month & ME & HP\\\\\n",
       "\\hline\n",
       "\t 10000     & 19860131  & 3         & 3990      & NA        & -4.37500  &        NA & 3.680     & 1986      &  1        & 16.100000 & 1985     \\\\\n",
       "\t 10000     & 19860228  & 3         & 3990      & NA        & -3.25000  & -0.257143 & 3.680     & 1986      &  2        & 11.960000 & 1985     \\\\\n",
       "\t 10000     & 19860331  & 3         & 3990      & NA        & -4.43750  &  0.365385 & 3.680     & 1986      &  3        & 16.330000 & 1985     \\\\\n",
       "\t 10000     & 19860430  & 3         & 3990      & NA        & -4.00000  & -0.098592 & 3.793     & 1986      &  4        & 15.172000 & 1985     \\\\\n",
       "\t 10000     & 19860530  & 3         & 3990      & NA        & -3.10938  & -0.222656 & 3.793     & 1986      &  5        & 11.793878 & 1985     \\\\\n",
       "\t 10000     & 19860630  & 3         & 3990      & NA        & -3.09375  & -0.005025 & 3.793     & 1986      &  6        & 11.734594 & 1985     \\\\\n",
       "\t 10000     & 19860731  & 3         & 3990      & NA        & -2.84375  & -0.080808 & 3.793     & 1986      &  7        & 10.786344 & 1986     \\\\\n",
       "\t 10000     & 19860829  & 3         & 3990      & NA        & -1.09375  & -0.615385 & 3.793     & 1986      &  8        &  4.148594 & 1986     \\\\\n",
       "\t 10000     & 19860930  & 3         & 3990      & NA        & -1.03125  & -0.057143 & 3.793     & 1986      &  9        &  3.911531 & 1986     \\\\\n",
       "\t 10000     & 19861031  & 3         & 3990      & NA        & -0.78125  & -0.242424 & 3.843     & 1986      & 10        &  3.002344 & 1986     \\\\\n",
       "\\end{tabular}\n"
      ],
      "text/markdown": [
       "\n",
       "PERMNO | date | EXCHCD | SICCD | DLRET | PRC | RET | SHROUT | Year | Month | ME | HP | \n",
       "|---|---|---|---|---|---|---|---|---|---|\n",
       "| 10000     | 19860131  | 3         | 3990      | NA        | -4.37500  |        NA | 3.680     | 1986      |  1        | 16.100000 | 1985      | \n",
       "| 10000     | 19860228  | 3         | 3990      | NA        | -3.25000  | -0.257143 | 3.680     | 1986      |  2        | 11.960000 | 1985      | \n",
       "| 10000     | 19860331  | 3         | 3990      | NA        | -4.43750  |  0.365385 | 3.680     | 1986      |  3        | 16.330000 | 1985      | \n",
       "| 10000     | 19860430  | 3         | 3990      | NA        | -4.00000  | -0.098592 | 3.793     | 1986      |  4        | 15.172000 | 1985      | \n",
       "| 10000     | 19860530  | 3         | 3990      | NA        | -3.10938  | -0.222656 | 3.793     | 1986      |  5        | 11.793878 | 1985      | \n",
       "| 10000     | 19860630  | 3         | 3990      | NA        | -3.09375  | -0.005025 | 3.793     | 1986      |  6        | 11.734594 | 1985      | \n",
       "| 10000     | 19860731  | 3         | 3990      | NA        | -2.84375  | -0.080808 | 3.793     | 1986      |  7        | 10.786344 | 1986      | \n",
       "| 10000     | 19860829  | 3         | 3990      | NA        | -1.09375  | -0.615385 | 3.793     | 1986      |  8        |  4.148594 | 1986      | \n",
       "| 10000     | 19860930  | 3         | 3990      | NA        | -1.03125  | -0.057143 | 3.793     | 1986      |  9        |  3.911531 | 1986      | \n",
       "| 10000     | 19861031  | 3         | 3990      | NA        | -0.78125  | -0.242424 | 3.843     | 1986      | 10        |  3.002344 | 1986      | \n",
       "\n",
       "\n"
      ],
      "text/plain": [
       "   PERMNO date     EXCHCD SICCD DLRET PRC      RET       SHROUT Year Month\n",
       "1  10000  19860131 3      3990  NA    -4.37500        NA 3.680  1986  1   \n",
       "2  10000  19860228 3      3990  NA    -3.25000 -0.257143 3.680  1986  2   \n",
       "3  10000  19860331 3      3990  NA    -4.43750  0.365385 3.680  1986  3   \n",
       "4  10000  19860430 3      3990  NA    -4.00000 -0.098592 3.793  1986  4   \n",
       "5  10000  19860530 3      3990  NA    -3.10938 -0.222656 3.793  1986  5   \n",
       "6  10000  19860630 3      3990  NA    -3.09375 -0.005025 3.793  1986  6   \n",
       "7  10000  19860731 3      3990  NA    -2.84375 -0.080808 3.793  1986  7   \n",
       "8  10000  19860829 3      3990  NA    -1.09375 -0.615385 3.793  1986  8   \n",
       "9  10000  19860930 3      3990  NA    -1.03125 -0.057143 3.793  1986  9   \n",
       "10 10000  19861031 3      3990  NA    -0.78125 -0.242424 3.843  1986 10   \n",
       "   ME        HP  \n",
       "1  16.100000 1985\n",
       "2  11.960000 1985\n",
       "3  16.330000 1985\n",
       "4  15.172000 1985\n",
       "5  11.793878 1985\n",
       "6  11.734594 1985\n",
       "7  10.786344 1986\n",
       "8   4.148594 1986\n",
       "9   3.911531 1986\n",
       "10  3.002344 1986"
      ]
     },
     "metadata": {},
     "output_type": "display_data"
    }
   ],
   "source": [
    "head(crsp, n=10)"
   ]
  },
  {
   "cell_type": "markdown",
   "metadata": {},
   "source": [
    "We need to create some variables;\n",
    "\n",
    "- Market equity\n",
    "- Prior return"
   ]
  },
  {
   "cell_type": "markdown",
   "metadata": {},
   "source": [
    "Market equity is price times shares outstanding.\n",
    "$$abs(PRC) \\cdot SHROUT$$\n",
    "We need to use the absolute price because CRSP uses a negative\n",
    "sign to indicate that the price was not directly available but we\n",
    "infer it from the bid-ask spread."
   ]
  },
  {
   "cell_type": "code",
   "execution_count": 119,
   "metadata": {
    "collapsed": true
   },
   "outputs": [],
   "source": [
    "crsp$ME = abs(crsp$PRC) * crsp$SHROUT"
   ]
  },
  {
   "cell_type": "markdown",
   "metadata": {},
   "source": [
    "We will frequently use the breakpoints for ME from NYSE stocks at\n",
    "certain months (December, June, lagged)."
   ]
  },
  {
   "cell_type": "code",
   "execution_count": 168,
   "metadata": {},
   "outputs": [],
   "source": [
    "q = c(.05, .1, .15, .2, .25, .3, .35, .4, .45, .5,\n",
    "      .55, .6, .65, .7, .75, .8, .85, .9, .95, 1.)\n",
    "\n",
    "dt = crsp %>% filter(EXCHCD==\"1\", !is.na(ME))\n",
    "\n",
    "N = dt %>% group_by(date) %>% summarise(N=n()) %>% as.data.frame\n",
    "rownames(N) = N$date\n",
    "N$date = NULL\n",
    "\n",
    "quantiles = do.call(\"rbind\", tapply(dt$ME, dt$date, quantile, q))\n",
    "quantiles = tibble::rownames_to_column(cbind(quantiles, N), \"date\")\n",
    "\n",
    "write.csv(quantiles, \"C:/Data/Thesis/ME_20_quantiles.csv\")"
   ]
  },
  {
   "cell_type": "markdown",
   "metadata": {},
   "source": [
    "Only about 1% are missing in total.\n",
    "As many as 8.5% are missing in August, 1976.\n",
    "The months with the highest percentages of missing values are all\n",
    "in the mid-1970s.\n",
    "This is when NASDAQ stocks were introduced."
   ]
  },
  {
   "cell_type": "code",
   "execution_count": 74,
   "metadata": {},
   "outputs": [
    {
     "data": {
      "text/plain": [
       "NA's \n",
       "1.21 "
      ]
     },
     "metadata": {},
     "output_type": "display_data"
    }
   ],
   "source": [
    "round(summary(crsp$ME)[\"NA's\"] / nrow(crsp) * 100, 2)"
   ]
  },
  {
   "cell_type": "code",
   "execution_count": 115,
   "metadata": {},
   "outputs": [
    {
     "data": {},
     "metadata": {},
     "output_type": "display_data"
    },
    {
     "data": {
      "image/png": "[encoded data removed]",
      "text/plain": [
       "plot without title"
      ]
     },
     "metadata": {},
     "output_type": "display_data"
    }
   ],
   "source": [
    "dt = crsp %>% group_by(date) %>% summarise(mssg=sum(is.na(ME))/n())\n",
    "dt$date = as.Date(dt$date, format='%Y%m%d')\n",
    "#qplot(date, mssg*100, data=dt, geom='line')\n",
    "p = ggplot(dt, aes(x=date, y=mssg*100)) + geom_line()\n",
    "p = p + scale_x_date(date_breaks=\"2 year\", date_labels=\"%Y%m\")\n",
    "p + theme(axis.text.x=element_text(angle=90, vjust=0.5))"
   ]
  },
  {
   "cell_type": "code",
   "execution_count": 87,
   "metadata": {
    "scrolled": true
   },
   "outputs": [
    {
     "data": {
      "text/html": [
       "<table>\n",
       "<thead><tr><th scope=col>date</th><th scope=col>mssg</th></tr></thead>\n",
       "<tbody>\n",
       "\t<tr><td>1976-08-31</td><td>0.08732453</td></tr>\n",
       "\t<tr><td>1975-01-31</td><td>0.05919836</td></tr>\n",
       "\t<tr><td>1974-12-31</td><td>0.05803938</td></tr>\n",
       "\t<tr><td>1976-01-30</td><td>0.05555556</td></tr>\n",
       "\t<tr><td>1974-11-29</td><td>0.05358969</td></tr>\n",
       "\t<tr><td>1975-02-28</td><td>0.05226193</td></tr>\n",
       "</tbody>\n",
       "</table>\n"
      ],
      "text/latex": [
       "\\begin{tabular}{r|ll}\n",
       " date & mssg\\\\\n",
       "\\hline\n",
       "\t 1976-08-31 & 0.08732453\\\\\n",
       "\t 1975-01-31 & 0.05919836\\\\\n",
       "\t 1974-12-31 & 0.05803938\\\\\n",
       "\t 1976-01-30 & 0.05555556\\\\\n",
       "\t 1974-11-29 & 0.05358969\\\\\n",
       "\t 1975-02-28 & 0.05226193\\\\\n",
       "\\end{tabular}\n"
      ],
      "text/markdown": [
       "\n",
       "date | mssg | \n",
       "|---|---|---|---|---|---|\n",
       "| 1976-08-31 | 0.08732453 | \n",
       "| 1975-01-31 | 0.05919836 | \n",
       "| 1974-12-31 | 0.05803938 | \n",
       "| 1976-01-30 | 0.05555556 | \n",
       "| 1974-11-29 | 0.05358969 | \n",
       "| 1975-02-28 | 0.05226193 | \n",
       "\n",
       "\n"
      ],
      "text/plain": [
       "  date       mssg      \n",
       "1 1976-08-31 0.08732453\n",
       "2 1975-01-31 0.05919836\n",
       "3 1974-12-31 0.05803938\n",
       "4 1976-01-30 0.05555556\n",
       "5 1974-11-29 0.05358969\n",
       "6 1975-02-28 0.05226193"
      ]
     },
     "metadata": {},
     "output_type": "display_data"
    }
   ],
   "source": [
    "dt %>% arrange(-mssg) %>% head"
   ]
  },
  {
   "cell_type": "markdown",
   "metadata": {},
   "source": [
    "Given the plots above about the number of firms on each exchange\n",
    "and the results below,\n",
    "we see results will be driven by NYSE and NASDAQ stocks.\n",
    "There are more NASDAQ stocks but they are small.\n",
    "There are few NYSE stocks but they are large."
   ]
  },
  {
   "cell_type": "code",
   "execution_count": 122,
   "metadata": {},
   "outputs": [
    {
     "name": "stderr",
     "output_type": "stream",
     "text": [
      "Warning message:\n",
      "\"Removed 47 rows containing missing values (geom_path).\""
     ]
    },
    {
     "data": {},
     "metadata": {},
     "output_type": "display_data"
    },
    {
     "data": {
      "image/png": "[encoded data removed]",
      "text/plain": [
       "plot without title"
      ]
     },
     "metadata": {},
     "output_type": "display_data"
    }
   ],
   "source": [
    "dt = crsp %>% group_by(date, EXCHCD) %>%\n",
    "    summarise(ME=mean(ME, na.rm=TRUE))\n",
    "dt$date = as.Date(dt$date, format='%Y%m%d')\n",
    "p = ggplot(dt, aes(x=date, y=ME, color=EXCHCD)) + geom_line()\n",
    "p = p + scale_x_date(date_breaks=\"2 year\", date_labels=\"%Y%m\")\n",
    "p + theme(axis.text.x=element_text(angle=90, vjust=0.5))"
   ]
  }
 ],
 "metadata": {
  "kernelspec": {
   "display_name": "R",
   "language": "R",
   "name": "ir"
  },
  "language_info": {
   "codemirror_mode": "r",
   "file_extension": ".r",
   "mimetype": "text/x-r-source",
   "name": "R",
   "pygments_lexer": "r",
   "version": "3.4.2"
  }
 },
 "nbformat": 4,
 "nbformat_minor": 2
}
