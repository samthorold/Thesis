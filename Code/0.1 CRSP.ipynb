{
 "cells": [
  {
   "cell_type": "markdown",
   "metadata": {},
   "source": [
    "# CRSP\n",
    "\n",
    "- Load CRSP data\n",
    "- Tickle the data\n",
    "- Create variables\n",
    "    + ME\n",
    "    + Prior"
   ]
  },
  {
   "cell_type": "code",
   "execution_count": null,
   "metadata": {},
   "outputs": [],
   "source": [
    "library(data.table)    # read csv much faster than standard function\n",
    "library(dplyr)         # infinitely nicer grouping operations\n",
    "library(ggplot2)       # sexy plots"
   ]
  },
  {
   "cell_type": "markdown",
   "metadata": {},
   "source": [
    "## Load Data"
   ]
  },
  {
   "cell_type": "code",
   "execution_count": null,
   "metadata": {},
   "outputs": [],
   "source": [
    "crsp.path = 'C:/Data/CRSP/20171123_CRSP_196001_201612.csv'\n",
    "# colClasses='character' because fread is upset that our columns\n",
    "#   contain multiple variable types\n",
    "# CRSP uses 'C' and 'Z' and some other characters to mean stuff\n",
    "#   whatever they mean, fread is upset\n",
    "# fread rather smugly reports how quickly it has read our file\n",
    "#   if we do not set showProgress=FALSE\n",
    "crsp = fread(crsp.path, colClasses='character', showProgress=FALSE)"
   ]
  },
  {
   "cell_type": "markdown",
   "metadata": {},
   "source": [
    "Let's see what we have."
   ]
  },
  {
   "cell_type": "code",
   "execution_count": null,
   "metadata": {},
   "outputs": [],
   "source": [
    "colnames(crsp)"
   ]
  },
  {
   "cell_type": "markdown",
   "metadata": {},
   "source": [
    "There should be no duplicate `PERMNO`-`date` pairs."
   ]
  },
  {
   "cell_type": "code",
   "execution_count": null,
   "metadata": {},
   "outputs": [],
   "source": [
    "pairs = duplicated(crsp[,c(\"PERMNO\", \"date\")])\n",
    "sum(pairs)"
   ]
  },
  {
   "cell_type": "code",
   "execution_count": null,
   "metadata": {},
   "outputs": [],
   "source": [
    "if (sum(pairs)>0){\n",
    "    crsp = crsp[!duplicated(crsp[,c(\"PERMNO\", \"date\")]),]\n",
    "}"
   ]
  },
  {
   "cell_type": "markdown",
   "metadata": {},
   "source": [
    "We know we only want firms with a `SHRCD` of 10 or 11 and an\n",
    "`EXCHCD` of 1, 2, or 3."
   ]
  },
  {
   "cell_type": "code",
   "execution_count": null,
   "metadata": {},
   "outputs": [],
   "source": [
    "crsp = crsp[crsp$SHRCD==\"10\" | crsp$SHRCD==\"11\", ]\n",
    "crsp = crsp[crsp$EXCHCD==\"1\"| crsp$EXCHCD==\"2\" | crsp$EXCHCD==\"3\",]"
   ]
  },
  {
   "cell_type": "markdown",
   "metadata": {},
   "source": [
    "For now, we are not bothered about the `TICKER`, `COMNAM`, `CUSIP`, `DLSTCD`, `SPREAD`, or `vwretd`.\n",
    "We will borrow the value-weighted return from Dr. Ken French."
   ]
  },
  {
   "cell_type": "code",
   "execution_count": null,
   "metadata": {},
   "outputs": [],
   "source": [
    "# The funny '%>%' operator belongs to dplyr. It has all sorts of\n",
    "#   magical properties but basically, we can perform grouping and\n",
    "#   operations on groups in a sane and readable way.\n",
    "#   Unfortunately, dplyr is so magic it begins to get in the way of\n",
    "#   automating some of the more interesting procedures.\n",
    "crsp = crsp %>%\n",
    "    select(-c(SHRCD, TICKER, COMNAM, CUSIP, DLSTCD, SPREAD, vwretd))"
   ]
  },
  {
   "cell_type": "markdown",
   "metadata": {},
   "source": [
    "### How many firms do we have?\n",
    "\n",
    "There are roughly 24K unique `PERMNO` codes.\n",
    "But by 2016 there are less than 4K firms.\n",
    "We should be mindful of firms dying.\n",
    "We also see two important dates regarding the exchanges used in\n",
    "the data.\n",
    "In 1962 we see tha addition of AMEX stocks and in 1973 we see the\n",
    "addition of NASDAQ stocks.\n",
    "It is also important to note that NASDAQ stocks are the most common."
   ]
  },
  {
   "cell_type": "code",
   "execution_count": null,
   "metadata": {},
   "outputs": [],
   "source": [
    "length(unique(crsp$PERMNO))"
   ]
  },
  {
   "cell_type": "code",
   "execution_count": null,
   "metadata": {},
   "outputs": [],
   "source": [
    "options(repr.plot.width=8, repr.plot.height=3)\n",
    "\n",
    "dt = crsp %>% group_by(date) %>% summarise(N=n())\n",
    "dt$date = as.Date(dt$date, format='%Y%m%d')\n",
    "p = ggplot(dt, aes(x=date, y=N)) + geom_line()\n",
    "p = p + scale_x_date(date_breaks=\"5 year\", date_labels=\"%Y%m\")\n",
    "p  # + theme(axis.text.x=element_text(angle=90, vjust=0.5))"
   ]
  },
  {
   "cell_type": "markdown",
   "metadata": {},
   "source": [
    "On average, there are 4.5K firms each month.\n",
    "This has implications for when we make buckets.\n",
    "Fine sorts would be great but we see already there are some\n",
    "problems with extremely fine sorts.\n",
    "For example, if we want to make 10x10 sorts,\n",
    "we will be left with, on average, 45 firms in each bucket."
   ]
  },
  {
   "cell_type": "code",
   "execution_count": null,
   "metadata": {},
   "outputs": [],
   "source": [
    "round(mean(dt$N),0)"
   ]
  },
  {
   "cell_type": "code",
   "execution_count": null,
   "metadata": {},
   "outputs": [],
   "source": [
    "dt %>% arrange(-N) %>% head"
   ]
  },
  {
   "cell_type": "code",
   "execution_count": null,
   "metadata": {},
   "outputs": [],
   "source": [
    "dt = crsp %>% group_by(date, EXCHCD) %>% summarise(N=n())\n",
    "dt$date = as.Date(dt$date, format='%Y%m%d')\n",
    "p = ggplot(dt, aes(x=date, y=N, color=EXCHCD)) + geom_line()\n",
    "p = p + scale_x_date(date_breaks=\"5 year\", date_labels=\"%Y%m\")\n",
    "p  # + theme(axis.text.x=element_text(angle=90, vjust=0.5))"
   ]
  },
  {
   "cell_type": "markdown",
   "metadata": {},
   "source": [
    "All our columns are characters because we told `fread` to do this\n",
    "to prevent it whining.\n",
    "We can change them into numeric values and remove the annoying\n",
    "letters at the same time (creating the ugly\n",
    "`Warning` messages).\n",
    "`SHROUT` is divided by 1,000."
   ]
  },
  {
   "cell_type": "code",
   "execution_count": null,
   "metadata": {
    "scrolled": false
   },
   "outputs": [],
   "source": [
    "str(crsp)"
   ]
  },
  {
   "cell_type": "code",
   "execution_count": null,
   "metadata": {},
   "outputs": [],
   "source": [
    "crsp$PRC = as.numeric(crsp$PRC)\n",
    "crsp$RET = as.numeric(crsp$RET)\n",
    "crsp$DLRET = as.numeric(crsp$DLRET)\n",
    "crsp$SHROUT = as.numeric(crsp$SHROUT) / 1000"
   ]
  },
  {
   "cell_type": "markdown",
   "metadata": {},
   "source": [
    "Some of our columns only contain numbers but they are descrete\n",
    "values.\n",
    "\n",
    "- `EXCHCD` is only 1, 2 or 3\n",
    "- `SICCD` is only from 1000 to 9000 or something\n",
    "- `PERMNO` is unique to each firm\n",
    "\n",
    "So we will leave these values as characters."
   ]
  },
  {
   "cell_type": "markdown",
   "metadata": {},
   "source": [
    "We need to grab the year and month and from the date."
   ]
  },
  {
   "cell_type": "code",
   "execution_count": null,
   "metadata": {},
   "outputs": [],
   "source": [
    "# Rather annoyingly, this method seems to take unnecessarily long\n",
    "# crsp$date = as.Date(crsp$date, \"%Y%m%d\")\n",
    "# crsp$Year = as.numeric(format(crsp$date, \"%Y\"))\n",
    "# crsp$Month = as.numeric(format(crsp$date, \"%m\"))\n",
    "\n",
    "# This is faster, I guess 'format' and 'as.Date' take a while\n",
    "crsp$Year = as.numeric(substr(crsp$date, 1, 4))\n",
    "crsp$Month = as.numeric(substr(crsp$date, 5, 6))"
   ]
  },
  {
   "cell_type": "markdown",
   "metadata": {},
   "source": [
    "We want to adjust our returns for any **delisting returns**.\n",
    "\n",
    "Where the return is missing but we have a delisting return we will\n",
    "just drop the delisting return in place of the return.\n",
    "If the delisting return is also missing,\n",
    "we will have no return for this month.\n",
    "\n",
    "Where we have a return and delisting return we will multiply\n",
    "the return by the delisting return.\n",
    "\n",
    "Where we have neither we will just leave it."
   ]
  },
  {
   "cell_type": "code",
   "execution_count": null,
   "metadata": {},
   "outputs": [],
   "source": [
    "ix = is.na(crsp$RET)\n",
    "crsp$RET[ix] = crsp$DLRET[ix]\n",
    "ix = !is.na(crsp$RET) & !is.na(crsp$DLRET)\n",
    "crsp$RET[ix] = (1+crsp$RET[ix]) * (1+crsp$DLRET[ix]) - 1\n",
    "\n",
    "# we do not need DLRET anymore\n",
    "crsp$DLRET = NULL"
   ]
  },
  {
   "cell_type": "markdown",
   "metadata": {},
   "source": [
    "Often, we portfolios every 12 months.\n",
    "We hold portfolios from July to June."
   ]
  },
  {
   "cell_type": "code",
   "execution_count": null,
   "metadata": {},
   "outputs": [],
   "source": [
    "crsp$HP = crsp$Year\n",
    "crsp$HP[crsp$Month<7] = crsp$HP[crsp$Month<7] - 1"
   ]
  },
  {
   "cell_type": "markdown",
   "metadata": {},
   "source": [
    "## Tickle Data"
   ]
  },
  {
   "cell_type": "markdown",
   "metadata": {},
   "source": [
    "Where did we end up?\n",
    "\n",
    "Our `PERMNO`, `date`, `EXCHCD` and `SICCD` columns\n",
    "remain characters.\n",
    "These are descrete variables so we don't mind.\n",
    "\n",
    "`RET` has been adjusted for delisting returns\n",
    "and where it is missing a value we see `NA`.\n",
    "Returns are given in decimals.\n",
    "We must multiply them by 100 to see percentage\n",
    "returns.\n",
    "\n",
    "`PRC` is the share price and some of them are\n",
    "negative.\n",
    "This is because CRSP uses a negative sign to\n",
    "denote a missing share price.\n",
    "Where we see a dash, the price was inferred\n",
    "from the bid-ask spread.\n",
    "This is not important for our purposes.\n",
    "\n",
    "`SHROUT` is the number of shares oustanding.\n",
    "It is in millions after we divided it by 1000."
   ]
  },
  {
   "cell_type": "code",
   "execution_count": null,
   "metadata": {
    "scrolled": true
   },
   "outputs": [],
   "source": [
    "head(crsp, n=10)"
   ]
  },
  {
   "cell_type": "markdown",
   "metadata": {},
   "source": [
    "We need to create some variables;\n",
    "\n",
    "- Market equity\n",
    "- Prior return"
   ]
  },
  {
   "cell_type": "markdown",
   "metadata": {},
   "source": [
    "**Market equity** is price times shares outstanding.\n",
    "$$abs(PRC) \\cdot SHROUT$$\n",
    "We need to use the absolute price because CRSP uses a negative\n",
    "sign to indicate that the price was not directly available."
   ]
  },
  {
   "cell_type": "code",
   "execution_count": null,
   "metadata": {},
   "outputs": [],
   "source": [
    "crsp$ME = abs(crsp$PRC) * crsp$SHROUT"
   ]
  },
  {
   "cell_type": "markdown",
   "metadata": {},
   "source": [
    "Only about 1% are missing in total.\n",
    "As many as 8.5% are missing in August, 1976.\n",
    "The months with the highest percentages of missing values are all\n",
    "in the mid-1970s.\n",
    "This is when NASDAQ stocks were introduced."
   ]
  },
  {
   "cell_type": "code",
   "execution_count": null,
   "metadata": {},
   "outputs": [],
   "source": [
    "round(summary(crsp$ME)[\"NA's\"] / nrow(crsp) * 100, 2)"
   ]
  },
  {
   "cell_type": "code",
   "execution_count": null,
   "metadata": {},
   "outputs": [],
   "source": [
    "dt = crsp %>% group_by(date) %>% summarise(mssg=sum(is.na(ME))/n())\n",
    "dt$date = as.Date(dt$date, format='%Y%m%d')\n",
    "p = ggplot(dt, aes(x=date, y=mssg*100)) + geom_line()\n",
    "p = p + scale_x_date(date_breaks=\"5 year\", date_labels=\"%Y%m\")\n",
    "p  # + theme(axis.text.x=element_text(angle=90, vjust=0.5))"
   ]
  },
  {
   "cell_type": "code",
   "execution_count": null,
   "metadata": {},
   "outputs": [],
   "source": [
    "# NASDAQ is 100% missing for some months\n",
    "# This dominates graph and is not useful\n",
    "# Absolute values used\n",
    "dt = crsp %>% group_by(date, EXCHCD) %>% summarise(mssg=sum(is.na(ME)))  # /n())\n",
    "dt$date = as.Date(dt$date, format='%Y%m%d')\n",
    "p = ggplot(dt, aes(x=date, y=mssg*100, color=EXCHCD)) + geom_line()\n",
    "p = p + scale_x_date(date_breaks=\"5 year\", date_labels=\"%Y%m\")\n",
    "p  # + theme(axis.text.x=element_text(angle=90, vjust=0.5))"
   ]
  },
  {
   "cell_type": "code",
   "execution_count": null,
   "metadata": {
    "scrolled": false
   },
   "outputs": [],
   "source": [
    "dt %>% arrange(-mssg) %>% head"
   ]
  },
  {
   "cell_type": "markdown",
   "metadata": {},
   "source": [
    "Given the plots above about the number of firms on each exchange\n",
    "and the results below,\n",
    "we see results will be driven by NYSE and NASDAQ stocks.\n",
    "There are more NASDAQ stocks but they are small.\n",
    "There are few NYSE stocks but they are large."
   ]
  },
  {
   "cell_type": "code",
   "execution_count": null,
   "metadata": {
    "scrolled": false
   },
   "outputs": [],
   "source": [
    "dt = crsp %>% group_by(date, EXCHCD) %>%\n",
    "    summarise(ME=mean(ME, na.rm=TRUE))\n",
    "dt$date = as.Date(dt$date, format='%Y%m%d')\n",
    "p = ggplot(dt, aes(x=date, y=ME, color=EXCHCD)) + geom_line()\n",
    "p = p + scale_x_date(date_breaks=\"5 year\", date_labels=\"%Y%m\")\n",
    "p  # + theme(axis.text.x=element_text(angle=90, vjust=0.5))"
   ]
  },
  {
   "cell_type": "markdown",
   "metadata": {},
   "source": [
    "**Prior return** is the sum of the past\n",
    "11 to 1 lagged returns.\n",
    "The return for month t is not included."
   ]
  },
  {
   "cell_type": "code",
   "execution_count": null,
   "metadata": {},
   "outputs": [],
   "source": [
    "crsp$ri = crsp$RET\n",
    "crsp$ri[is.null(crsp$ri) | is.na(crsp$ri)] = -.9999\n",
    "\n",
    "crsp = crsp %>% group_by(PERMNO) %>%\n",
    "    mutate(\n",
    "        PR=lag(ri,11)+lag(ri,10)+lag(ri, 9)+lag(ri, 8)+\n",
    "           lag(ri, 7)+lag(ri, 6)+lag(ri, 5)+lag(ri, 4)+\n",
    "           lag(ri, 3)+lag(ri, 2)+lag(ri, 1),\n",
    "        PR.OK=!is.na(lag(PRC,12))&!is.na(lag(RET))&!is.na(lag(ME))\n",
    "    ) %>% as.data.frame"
   ]
  },
  {
   "cell_type": "code",
   "execution_count": null,
   "metadata": {},
   "outputs": [],
   "source": [
    "summary(crsp %>% select(ri, PR, PR.OK))"
   ]
  },
  {
   "cell_type": "code",
   "execution_count": null,
   "metadata": {},
   "outputs": [],
   "source": [
    "dt = crsp %>% group_by(date) %>% summarise(mssg=sum(PR.OK)/n())\n",
    "dt$date = as.Date(dt$date, format='%Y%m%d')\n",
    "p = ggplot(dt, aes(x=date, y=mssg*100)) + geom_line()\n",
    "p = p + scale_x_date(date_breaks=\"5 year\", date_labels=\"%Y%m\")\n",
    "p  # + theme(axis.text.x=element_text(angle=90, vjust=0.5))"
   ]
  },
  {
   "cell_type": "code",
   "execution_count": null,
   "metadata": {},
   "outputs": [],
   "source": [
    "dt = crsp %>% group_by(date, EXCHCD) %>% summarise(mssg=sum(PR.OK)/n())\n",
    "dt$date = as.Date(dt$date, format='%Y%m%d')\n",
    "p = ggplot(dt, aes(x=date, y=mssg*100, color=EXCHCD)) + geom_line()\n",
    "p = p + scale_x_date(date_breaks=\"5 year\", date_labels=\"%Y%m\")\n",
    "p  # + theme(axis.text.x=element_text(angle=90, vjust=0.5))"
   ]
  },
  {
   "cell_type": "markdown",
   "metadata": {},
   "source": [
    "## Quantiles\n",
    "\n",
    "We will frequently use the breakpoints from NYSE stocks.\n",
    "\n",
    "Typically, this will be December and June but some\n",
    "strategies, like momentum, require monthly quantiles.\n",
    "This also allows us to compare what we find with\n",
    "the data on Dr. Ken French's website."
   ]
  },
  {
   "cell_type": "code",
   "execution_count": null,
   "metadata": {},
   "outputs": [],
   "source": [
    "q = c(.05, .1, .15, .2, .25, .3, .35, .4, .45, .5,\n",
    "      .55, .6, .65, .7, .75, .8, .85, .9, .95, 1.)\n",
    "\n",
    "dt = crsp %>% filter(EXCHCD==\"1\", !is.na(ME))\n",
    "\n",
    "N = dt %>% group_by(date) %>% summarise(N=n()) %>% as.data.frame\n",
    "rownames(N) = N$date\n",
    "N$date = NULL\n",
    "\n",
    "quantiles = do.call(\"rbind\", tapply(dt$ME, dt$date, quantile, q))\n",
    "quantiles = tibble::rownames_to_column(cbind(quantiles, N), \"date\")\n",
    "\n",
    "write.csv(quantiles, \"C:/Data/Thesis/20Q_ME.csv\")\n",
    "\n",
    "dt = crsp %>% filter(EXCHCD==\"1\", PR.OK)\n",
    "\n",
    "N = dt %>% group_by(date) %>% summarise(N=n()) %>% as.data.frame\n",
    "rownames(N) = N$date\n",
    "N$date = NULL\n",
    "\n",
    "quantiles = do.call(\"rbind\", tapply(dt$PR, dt$date, quantile, q))\n",
    "quantiles = tibble::rownames_to_column(cbind(quantiles, N), \"date\")\n",
    "\n",
    "write.csv(quantiles, \"C:/Data/Thesis/20Q_PR.csv\")"
   ]
  }
 ],
 "metadata": {
  "kernelspec": {
   "display_name": "R",
   "language": "R",
   "name": "ir"
  },
  "language_info": {
   "codemirror_mode": "r",
   "file_extension": ".r",
   "mimetype": "text/x-r-source",
   "name": "R",
   "pygments_lexer": "r",
   "version": "3.4.2"
  }
 },
 "nbformat": 4,
 "nbformat_minor": 2
}
