{
 "cells": [
  {
   "cell_type": "markdown",
   "metadata": {},
   "source": [
    "# SDF"
   ]
  },
  {
   "cell_type": "code",
   "execution_count": 10,
   "metadata": {},
   "outputs": [],
   "source": [
    "from collections import OrderedDict\n",
    "\n",
    "import jinja2\n",
    "import matplotlib.pyplot as plot\n",
    "import os\n",
    "import pandas as pd\n",
    "from scipy.optimize import minimize\n",
    "import statsmodels.api as sm\n",
    "\n",
    "%matplotlib inline"
   ]
  },
  {
   "cell_type": "code",
   "execution_count": 2,
   "metadata": {},
   "outputs": [
    {
     "data": {
      "text/html": [
       "<div>\n",
       "<style scoped>\n",
       "    .dataframe tbody tr th:only-of-type {\n",
       "        vertical-align: middle;\n",
       "    }\n",
       "\n",
       "    .dataframe tbody tr th {\n",
       "        vertical-align: top;\n",
       "    }\n",
       "\n",
       "    .dataframe thead th {\n",
       "        text-align: right;\n",
       "    }\n",
       "</style>\n",
       "<table border=\"1\" class=\"dataframe\">\n",
       "  <thead>\n",
       "    <tr style=\"text-align: right;\">\n",
       "      <th></th>\n",
       "      <th>rf</th>\n",
       "      <th>rm</th>\n",
       "      <th>smb</th>\n",
       "      <th>hml</th>\n",
       "      <th>rmw</th>\n",
       "      <th>cma</th>\n",
       "      <th>wml</th>\n",
       "      <th>str</th>\n",
       "      <th>hmlm</th>\n",
       "      <th>bab</th>\n",
       "      <th>qmj</th>\n",
       "      <th>HML</th>\n",
       "      <th>HMLm</th>\n",
       "      <th>PMU06</th>\n",
       "      <th>PMU16</th>\n",
       "      <th>PMU</th>\n",
       "      <th>CMA</th>\n",
       "      <th>WML</th>\n",
       "    </tr>\n",
       "    <tr>\n",
       "      <th>date</th>\n",
       "      <th></th>\n",
       "      <th></th>\n",
       "      <th></th>\n",
       "      <th></th>\n",
       "      <th></th>\n",
       "      <th></th>\n",
       "      <th></th>\n",
       "      <th></th>\n",
       "      <th></th>\n",
       "      <th></th>\n",
       "      <th></th>\n",
       "      <th></th>\n",
       "      <th></th>\n",
       "      <th></th>\n",
       "      <th></th>\n",
       "      <th></th>\n",
       "      <th></th>\n",
       "      <th></th>\n",
       "    </tr>\n",
       "  </thead>\n",
       "  <tbody>\n",
       "    <tr>\n",
       "      <th>1963-07-01</th>\n",
       "      <td>0.27</td>\n",
       "      <td>-0.39</td>\n",
       "      <td>-0.46</td>\n",
       "      <td>-0.81</td>\n",
       "      <td>0.72</td>\n",
       "      <td>-1.16</td>\n",
       "      <td>0.99</td>\n",
       "      <td>-0.04</td>\n",
       "      <td>-0.59</td>\n",
       "      <td>0.81</td>\n",
       "      <td>0.47</td>\n",
       "      <td>-0.721155</td>\n",
       "      <td>-0.864465</td>\n",
       "      <td>0.888426</td>\n",
       "      <td>0.739828</td>\n",
       "      <td>0.355650</td>\n",
       "      <td>-1.132040</td>\n",
       "      <td>0.550726</td>\n",
       "    </tr>\n",
       "    <tr>\n",
       "      <th>1963-08-01</th>\n",
       "      <td>0.25</td>\n",
       "      <td>5.07</td>\n",
       "      <td>-0.81</td>\n",
       "      <td>1.65</td>\n",
       "      <td>0.42</td>\n",
       "      <td>-0.40</td>\n",
       "      <td>1.08</td>\n",
       "      <td>1.36</td>\n",
       "      <td>0.28</td>\n",
       "      <td>-1.22</td>\n",
       "      <td>-0.63</td>\n",
       "      <td>1.000628</td>\n",
       "      <td>-0.060107</td>\n",
       "      <td>0.212301</td>\n",
       "      <td>0.470122</td>\n",
       "      <td>0.456718</td>\n",
       "      <td>-0.070141</td>\n",
       "      <td>1.443902</td>\n",
       "    </tr>\n",
       "    <tr>\n",
       "      <th>1963-09-01</th>\n",
       "      <td>0.27</td>\n",
       "      <td>-1.57</td>\n",
       "      <td>-0.48</td>\n",
       "      <td>0.19</td>\n",
       "      <td>-0.80</td>\n",
       "      <td>0.23</td>\n",
       "      <td>0.13</td>\n",
       "      <td>1.20</td>\n",
       "      <td>0.27</td>\n",
       "      <td>1.07</td>\n",
       "      <td>0.61</td>\n",
       "      <td>1.045719</td>\n",
       "      <td>1.463823</td>\n",
       "      <td>-1.169019</td>\n",
       "      <td>-1.130309</td>\n",
       "      <td>-0.665664</td>\n",
       "      <td>-0.361107</td>\n",
       "      <td>0.267052</td>\n",
       "    </tr>\n",
       "    <tr>\n",
       "      <th>1963-10-01</th>\n",
       "      <td>0.29</td>\n",
       "      <td>2.53</td>\n",
       "      <td>-1.29</td>\n",
       "      <td>-0.09</td>\n",
       "      <td>2.75</td>\n",
       "      <td>-2.26</td>\n",
       "      <td>3.14</td>\n",
       "      <td>-0.66</td>\n",
       "      <td>-2.11</td>\n",
       "      <td>-1.88</td>\n",
       "      <td>2.08</td>\n",
       "      <td>-0.549914</td>\n",
       "      <td>-1.635921</td>\n",
       "      <td>2.612164</td>\n",
       "      <td>3.006009</td>\n",
       "      <td>3.007174</td>\n",
       "      <td>-1.886318</td>\n",
       "      <td>3.648531</td>\n",
       "    </tr>\n",
       "    <tr>\n",
       "      <th>1963-11-01</th>\n",
       "      <td>0.27</td>\n",
       "      <td>-0.85</td>\n",
       "      <td>-0.85</td>\n",
       "      <td>1.71</td>\n",
       "      <td>-0.34</td>\n",
       "      <td>2.22</td>\n",
       "      <td>-0.75</td>\n",
       "      <td>1.15</td>\n",
       "      <td>0.91</td>\n",
       "      <td>-0.52</td>\n",
       "      <td>-0.88</td>\n",
       "      <td>1.288533</td>\n",
       "      <td>1.400487</td>\n",
       "      <td>-0.099125</td>\n",
       "      <td>-0.481188</td>\n",
       "      <td>-0.625498</td>\n",
       "      <td>0.314912</td>\n",
       "      <td>-1.489579</td>\n",
       "    </tr>\n",
       "  </tbody>\n",
       "</table>\n",
       "</div>"
      ],
      "text/plain": [
       "              rf    rm   smb   hml   rmw   cma   wml   str  hmlm   bab   qmj  \\\n",
       "date                                                                           \n",
       "1963-07-01  0.27 -0.39 -0.46 -0.81  0.72 -1.16  0.99 -0.04 -0.59  0.81  0.47   \n",
       "1963-08-01  0.25  5.07 -0.81  1.65  0.42 -0.40  1.08  1.36  0.28 -1.22 -0.63   \n",
       "1963-09-01  0.27 -1.57 -0.48  0.19 -0.80  0.23  0.13  1.20  0.27  1.07  0.61   \n",
       "1963-10-01  0.29  2.53 -1.29 -0.09  2.75 -2.26  3.14 -0.66 -2.11 -1.88  2.08   \n",
       "1963-11-01  0.27 -0.85 -0.85  1.71 -0.34  2.22 -0.75  1.15  0.91 -0.52 -0.88   \n",
       "\n",
       "                 HML      HMLm     PMU06     PMU16       PMU       CMA  \\\n",
       "date                                                                     \n",
       "1963-07-01 -0.721155 -0.864465  0.888426  0.739828  0.355650 -1.132040   \n",
       "1963-08-01  1.000628 -0.060107  0.212301  0.470122  0.456718 -0.070141   \n",
       "1963-09-01  1.045719  1.463823 -1.169019 -1.130309 -0.665664 -0.361107   \n",
       "1963-10-01 -0.549914 -1.635921  2.612164  3.006009  3.007174 -1.886318   \n",
       "1963-11-01  1.288533  1.400487 -0.099125 -0.481188 -0.625498  0.314912   \n",
       "\n",
       "                 WML  \n",
       "date                  \n",
       "1963-07-01  0.550726  \n",
       "1963-08-01  1.443902  \n",
       "1963-09-01  0.267052  \n",
       "1963-10-01  3.648531  \n",
       "1963-11-01 -1.489579  "
      ]
     },
     "execution_count": 2,
     "metadata": {},
     "output_type": "execute_result"
    }
   ],
   "source": [
    "factors = pd.read_csv(\"C:/Data/Thesis/_Factors.csv\")\n",
    "\n",
    "myfactors = pd.read_csv(\"C:/Data/Thesis/_MyFactors.csv\")\n",
    "myfactors.iloc[:,1:] = myfactors.iloc[:,1:]*100\n",
    "\n",
    "f = pd.concat([factors, myfactors[[\"HML\", \"HMLm\", \"PMU06\", \"PMU16\", \"PMU\", \"CMA\", \"WML\"]]], axis=1)\n",
    "f.date = pd.to_datetime(f.date.astype(\"str\"), format=\"%Y%m\")\n",
    "f = f.set_index(\"date\")\n",
    "\n",
    "f.head()"
   ]
  },
  {
   "cell_type": "markdown",
   "metadata": {},
   "source": [
    "Factor weights in max Sh2 portfolio\n",
    "\n",
    "$$E(R_p) = w'\\bar{R}$$\n",
    "$$Var(R_p) = w'V_Rw$$\n",
    "$$Sh^2(f) = \\bar{f}'V_f^{-1}\\bar{f}$$"
   ]
  },
  {
   "cell_type": "code",
   "execution_count": null,
   "metadata": {},
   "outputs": [],
   "source": [
    "def E(w, R):\n",
    "    \"\"\"Expected return on portfolio given vector of weights `w` and matrix of returns `R`\n",
    "    \n",
    "    Returns scalar\"\"\"\n",
    "\n",
    "    return w.transpose() @ pd.np.mean(R, axis=0)\n",
    "\n",
    "def V(w, R):\n",
    "    \"\"\"Variance of portfolio given vector of weights `w` and matrix of returns `R`\n",
    "\n",
    "    Returns scalar\"\"\"\n",
    "\n",
    "    return w.transpose() @ pd.np.cov(R, rowvar=False) @ w\n",
    "\n",
    "def SR(w, R):\n",
    "    \"\"\"Sharpe ratio of portfolio given weights `w` and matrix of returns `R`\n",
    "\n",
    "    Returns scalar\"\"\"\n",
    "\n",
    "    return (E(w, R) / pd.np.sqrt(V(w, R)))\n",
    "\n",
    "def obj_SR(*args, **kwargs):\n",
    "    \"\"\"Objective function to minimize negative Sharpe ratio.\n",
    "\n",
    "    Wrapped function expects vector of weights `w` and matrix of returns `R`\n",
    "\n",
    "    Returns optimization results object\"\"\"\n",
    "\n",
    "    return -SR(*args, **kwargs)\n",
    "\n",
    "# equality constraint functions are set to 0\n",
    "cons = ({\"type\": \"eq\", \"fun\": lambda w: pd.np.sum(w) - 1},)"
   ]
  },
  {
   "cell_type": "code",
   "execution_count": 37,
   "metadata": {},
   "outputs": [
    {
     "data": {
      "text/plain": [
       "(array([0.52, 0.48]), 0.29413184785396596)"
      ]
     },
     "execution_count": 37,
     "metadata": {},
     "output_type": "execute_result"
    }
   ],
   "source": [
    "ValMom = f[\"1963-07\":\"2017-12\"][[\"hmlm\", \"wml\"]].as_matrix()\n",
    "ValMom_res = minimize(obj_SR, [.5,.5], args=(ValMom,), constraints=cons)\n",
    "ValMom_res[\"x\"].round(2), SR(ValMom_res[\"x\"], ValMom)"
   ]
  },
  {
   "cell_type": "code",
   "execution_count": 38,
   "metadata": {},
   "outputs": [
    {
     "data": {
      "text/plain": [
       "(array([0.1 , 0.07, 0.23, 0.14, 0.46]), 0.5624495392772361)"
      ]
     },
     "execution_count": 38,
     "metadata": {},
     "output_type": "execute_result"
    }
   ],
   "source": [
    "SDF = f[\"1963-07\":\"2017-12\"][[\"rm\", \"smb\", \"hmlm\", \"wml\", \"PMU\"]].as_matrix()\n",
    "SDF_res = minimize(obj_SR, [.2,.2,.2,.2,.2], args=(SDF,), constraints=cons)\n",
    "SDF_res[\"x\"].round(2), SR(SDF_res[\"x\"], SDF)"
   ]
  },
  {
   "cell_type": "code",
   "execution_count": 48,
   "metadata": {},
   "outputs": [
    {
     "data": {
      "text/plain": [
       "(array([0.12, 0.1 , 0.13, 0.54, 0.12]), 0.47416457882441704)"
      ]
     },
     "execution_count": 48,
     "metadata": {},
     "output_type": "execute_result"
    }
   ],
   "source": [
    "SDF2 = f[\"1963-07\":\"2017-12\"][[\"rm\", \"smb\", \"hml\", \"PMU\", \"cma\"]].as_matrix()\n",
    "SDF2_res = minimize(obj_SR, [.2,.2,.2,.2,.2], args=(SDF2,), constraints=cons)\n",
    "SDF2_res[\"x\"].round(2), SR(SDF2_res[\"x\"], SDF2)"
   ]
  },
  {
   "cell_type": "code",
   "execution_count": 49,
   "metadata": {},
   "outputs": [],
   "source": [
    "df = pd.DataFrame(OrderedDict([\n",
    "    (\"Model 1\", SDF.dot(SDF_res[\"x\"])),\n",
    "    (\"Model 2\", SDF2.dot(SDF2_res[\"x\"])),\n",
    "    (\"Mkt\", f[\"1963-07\":\"2017-12\"][\"rm\"]),\n",
    "    #(\"Mom\", f[\"1963-07\":\"2017-12\"][\"wml\"]),\n",
    "    #(\"Val\", f[\"1963-07\":\"2017-12\"][\"hmlm\"]),\n",
    "    (\"ValMom\", ValMom.dot(ValMom_res[\"x\"])),\n",
    "]))/100"
   ]
  },
  {
   "cell_type": "code",
   "execution_count": 50,
   "metadata": {},
   "outputs": [
    {
     "data": {
      "text/plain": [
       "<matplotlib.axes._subplots.AxesSubplot at 0x1f96a0f8908>"
      ]
     },
     "execution_count": 50,
     "metadata": {},
     "output_type": "execute_result"
    },
    {
     "data": {
      "image/png": "[encoded data removed]",
      "text/plain": [
       "<matplotlib.figure.Figure at 0x1f96a15f0b8>"
      ]
     },
     "metadata": {},
     "output_type": "display_data"
    }
   ],
   "source": [
    "# (df + 1).cumprod().plot()\n",
    "pd.np.log(df + 1).cumsum().plot()"
   ]
  },
  {
   "cell_type": "code",
   "execution_count": 52,
   "metadata": {},
   "outputs": [
    {
     "data": {
      "text/plain": [
       "<matplotlib.axes._subplots.AxesSubplot at 0x1f96a2d3d30>"
      ]
     },
     "execution_count": 52,
     "metadata": {},
     "output_type": "execute_result"
    },
    {
     "data": {
      "image/png": "[encoded data removed]",
      "text/plain": [
       "<matplotlib.figure.Figure at 0x1f96a2ec160>"
      ]
     },
     "metadata": {},
     "output_type": "display_data"
    }
   ],
   "source": [
    "pd.np.log(df[\"1990\":] + 1).cumsum().plot()"
   ]
  }
 ],
 "metadata": {
  "kernelspec": {
   "display_name": "Python 3",
   "language": "python",
   "name": "python3"
  },
  "language_info": {
   "codemirror_mode": {
    "name": "ipython",
    "version": 3
   },
   "file_extension": ".py",
   "mimetype": "text/x-python",
   "name": "python",
   "nbconvert_exporter": "python",
   "pygments_lexer": "ipython3",
   "version": "3.6.4"
  }
 },
 "nbformat": 4,
 "nbformat_minor": 2
}
