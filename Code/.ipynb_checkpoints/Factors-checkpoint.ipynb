{
 "cells": [
  {
   "cell_type": "markdown",
   "metadata": {},
   "source": [
    "# Factors"
   ]
  },
  {
   "cell_type": "code",
   "execution_count": null,
   "metadata": {},
   "outputs": [],
   "source": [
    "import pandas as pd\n",
    "from scipy.optimize import minimize\n",
    "import statsmodels.api as sm\n",
    "\n",
    "#%pylab inline"
   ]
  },
  {
   "cell_type": "code",
   "execution_count": null,
   "metadata": {},
   "outputs": [],
   "source": [
    "# pd.read_csv(\"C:/Data/Thesis/Factors.csv\").set_index(\"date\")\n",
    "\n",
    "F = pd.read_stata(\"C:/Data/Thesis/Factors.dta\").set_index(\"date\")"
   ]
  },
  {
   "cell_type": "code",
   "execution_count": null,
   "metadata": {},
   "outputs": [],
   "source": [
    "ff2015 = [\"rm\", \"smb\", \"hmlo\", \"rmw\", \"cma\"]\n",
    "ff2016a = [\"rm\", \"smb\", \"hml\", \"RMWr\", \"cma\"]\n",
    "ff2016b = [\"rm\", \"smb\", \"hml\", \"RMWc\", \"cma\"]\n",
    "bs2015 = [\"rm\", \"smb\", \"HMLm\", \"wml\", \"RMWc\"]"
   ]
  },
  {
   "cell_type": "markdown",
   "metadata": {},
   "source": [
    "## Summary Statistics"
   ]
  },
  {
   "cell_type": "markdown",
   "metadata": {},
   "source": [
    "### French Dartmouth Website"
   ]
  },
  {
   "cell_type": "code",
   "execution_count": null,
   "metadata": {},
   "outputs": [],
   "source": [
    "x = [\"SMB\", \"smb\", \"HML\", \"hml\", \"RMW\", \"rmw\", \"CMA\", \"cma\", \"WML\", \"wml\"]\n",
    "tbl = pd.concat({\"Mean\":  F[x].mean(),\n",
    "                 \"Stdev\": F[x].std(),\n",
    "                 \"N\":     F[x].count()}, axis=\"columns\")\n",
    "\n",
    "tbl[\"t-stat\"] = tbl[\"Mean\"] / (tbl[\"Stdev\"] / pd.np.sqrt(tbl[\"N\"]))\n",
    "round(tbl.drop(\"N\", axis=1).transpose(), 2)"
   ]
  },
  {
   "cell_type": "code",
   "execution_count": null,
   "metadata": {},
   "outputs": [],
   "source": [
    "x = [\"HMLs\", \"HMLb\", \"RMWs\", \"RMWb\", \"CMAs\", \"CMAb\", \"WMLs\", \"WMLb\"]\n",
    "tbl = pd.concat({\"Mean\":  F[x].mean(),\n",
    "                 \"Stdev\": F[x].std(),\n",
    "                 \"N\":     F[x].count()}, axis=\"columns\")\n",
    "\n",
    "tbl[\"t-stat\"] = tbl[\"Mean\"] / (tbl[\"Stdev\"] / pd.np.sqrt(tbl[\"N\"]))\n",
    "round(tbl.drop(\"N\", axis=1).transpose(), 2)"
   ]
  },
  {
   "cell_type": "raw",
   "metadata": {
    "collapsed": true
   },
   "source": [
    "round(F[[\"SMB\", \"smb\", \"HML\", \"hml\", \"RMW\", \"rmw\", \"CMA\", \"cma\", \"WML\", \"wml\"]].corr(), 2)"
   ]
  },
  {
   "cell_type": "markdown",
   "metadata": {},
   "source": [
    "### Fama French (2016) _Choosing Factors_"
   ]
  },
  {
   "cell_type": "code",
   "execution_count": null,
   "metadata": {},
   "outputs": [],
   "source": [
    "x = [\"HML\", \"HMLs\", \"HMLb\", \"RMWr\", \"RMWrs\", \"RMWrb\",\n",
    "     \"RMWc\", \"RMWcs\", \"RMWcb\", \"CMA\", \"CMAs\", \"CMAb\"]\n",
    "tbl = pd.concat({\"Mean\":  F[:\"2015\"][x].mean(),\n",
    "                 \"Stdev\": F[:\"2015\"][x].std(),\n",
    "                 \"N\":     F[:\"2015\"][x].count()}, axis=\"columns\")\n",
    "\n",
    "tbl[\"t-stat\"] = tbl[\"Mean\"] / (tbl[\"Stdev\"] / pd.np.sqrt(tbl[\"N\"]))\n",
    "round(tbl.drop(\"N\", axis=1).transpose(), 2)"
   ]
  },
  {
   "cell_type": "markdown",
   "metadata": {},
   "source": [
    "### Table 1"
   ]
  },
  {
   "cell_type": "code",
   "execution_count": null,
   "metadata": {},
   "outputs": [],
   "source": [
    "x = [\"rm\", \"smb\", \"hml\", \"HMLm\", \"RMWc\", \"cma\", \"wml\"]\n",
    "tbl = pd.concat({\"Mean\":  F[x].mean(),\n",
    "                 \"Stdev\": F[x].std(),\n",
    "                 \"N\":     F[x].count()}, axis=\"columns\")\n",
    "\n",
    "tbl[\"t-stat\"] = tbl[\"Mean\"] / (tbl[\"Stdev\"] / pd.np.sqrt(tbl[\"N\"]))\n",
    "tbl[\"Sh\"] = tbl[\"Mean\"] / tbl[\"Stdev\"]\n",
    "tbl[\"Sh2\"] = tbl[\"Sh\"]**2\n",
    "round(tbl.drop(\"N\", axis=1).transpose(), 2)"
   ]
  },
  {
   "cell_type": "markdown",
   "metadata": {},
   "source": [
    "### Value"
   ]
  },
  {
   "cell_type": "code",
   "execution_count": null,
   "metadata": {},
   "outputs": [],
   "source": [
    "x = [\"HMLs\", \"HMLb\", \"HML\", \"HMLcs\", \"HMLcb\", \"HMLc\",\n",
    "     \"HMLms\", \"HMLmb\", \"HMLm\"]\n",
    "tbl = pd.concat({\"Mean\":  F[x].mean(),\n",
    "                 \"Stdev\": F[x].std(),\n",
    "                 \"N\":     F[x].count()}, axis=\"columns\")\n",
    "\n",
    "tbl[\"t-stat\"] = tbl[\"Mean\"] / (tbl[\"Stdev\"] / pd.np.sqrt(tbl[\"N\"]))\n",
    "round(tbl.drop(\"N\", axis=1).transpose(), 2)"
   ]
  },
  {
   "cell_type": "markdown",
   "metadata": {},
   "source": [
    "### Profit"
   ]
  },
  {
   "cell_type": "code",
   "execution_count": null,
   "metadata": {},
   "outputs": [],
   "source": [
    "x = [\"RMWs\", \"RMWb\", \"RMW\", \"RMWrs\", \"RMWrb\", \"RMWr\",\n",
    "     \"RMWgs\", \"RMWgb\", \"RMWg\", \"RMWcs\", \"RMWcb\", \"RMWc\"]\n",
    "tbl = pd.concat({\"Mean\":  F[x].mean(),\n",
    "                 \"Stdev\": F[x].std(),\n",
    "                 \"N\":     F[x].count()}, axis=\"columns\")\n",
    "\n",
    "tbl[\"t-stat\"] = tbl[\"Mean\"] / (tbl[\"Stdev\"] / pd.np.sqrt(tbl[\"N\"]))\n",
    "round(tbl.drop(\"N\", axis=1).transpose(), 2)"
   ]
  },
  {
   "cell_type": "markdown",
   "metadata": {},
   "source": [
    "## Sharpe Ratio"
   ]
  },
  {
   "cell_type": "markdown",
   "metadata": {},
   "source": [
    "We are inverting a matrix - check the condition number."
   ]
  },
  {
   "cell_type": "code",
   "execution_count": null,
   "metadata": {},
   "outputs": [],
   "source": [
    "r = F[:\"2015\"][ff2016a].mean()\n",
    "Vf = F[:\"2015\"][ff2016a].cov()\n",
    "\n",
    "r.dot(pd.np.linalg.pinv(Vf)).dot(r)"
   ]
  },
  {
   "cell_type": "code",
   "execution_count": null,
   "metadata": {},
   "outputs": [],
   "source": [
    "r = F[:\"2015\"][ff2016a].mean().as_matrix()\n",
    "Vf = F[:\"2015\"][ff2016a].cov().as_matrix()\n",
    "\n",
    "r @ pd.np.linalg.pinv(Vf) @ r"
   ]
  },
  {
   "cell_type": "code",
   "execution_count": null,
   "metadata": {},
   "outputs": [],
   "source": [
    "r = F[:\"2015\"][ff2016b].mean()\n",
    "Vf = F[:\"2015\"][ff2016b].cov()\n",
    "\n",
    "r.dot(pd.np.linalg.pinv(Vf)).dot(r)"
   ]
  },
  {
   "cell_type": "code",
   "execution_count": null,
   "metadata": {},
   "outputs": [],
   "source": [
    "r = F[:\"2015\"][bs2015].mean()\n",
    "Vf = F[:\"2015\"][bs2015].cov()\n",
    "\n",
    "r.dot(pd.np.linalg.pinv(Vf)).dot(r)"
   ]
  },
  {
   "cell_type": "code",
   "execution_count": null,
   "metadata": {},
   "outputs": [],
   "source": [
    "r = F[:\"2016\"][bs2015].mean()\n",
    "Vf = F[:\"2016\"][bs2015].cov()\n",
    "\n",
    "r.dot(pd.np.linalg.pinv(Vf)).dot(r)"
   ]
  },
  {
   "cell_type": "code",
   "execution_count": null,
   "metadata": {},
   "outputs": [],
   "source": [
    "r = F[\"2000\":\"2016\"][ff2016b].mean()\n",
    "Vf = F[\"2000\":\"2016\"][ff2016b].cov()\n",
    "\n",
    "r.dot(pd.np.linalg.pinv(Vf)).dot(r)"
   ]
  },
  {
   "cell_type": "code",
   "execution_count": null,
   "metadata": {},
   "outputs": [],
   "source": [
    "r = F[\"2000\":\"2016\"][bs2015].mean()\n",
    "Vf = F[\"2000\":\"2016\"][bs2015].cov()\n",
    "\n",
    "r.dot(pd.np.linalg.pinv(Vf)).dot(r)"
   ]
  },
  {
   "cell_type": "code",
   "execution_count": null,
   "metadata": {},
   "outputs": [],
   "source": [
    "r = F[\"1963\":\"1999\"][ff2016b].mean()\n",
    "Vf = F[\"1963\":\"1999\"][ff2016b].cov()\n",
    "\n",
    "r.dot(pd.np.linalg.pinv(Vf)).dot(r)"
   ]
  },
  {
   "cell_type": "code",
   "execution_count": null,
   "metadata": {},
   "outputs": [],
   "source": [
    "r = F[\"1963\":\"1999\"][bs2015].mean()\n",
    "Vf = F[\"1963\":\"1999\"][bs2015].cov()\n",
    "\n",
    "r.dot(pd.np.linalg.pinv(Vf)).dot(r)"
   ]
  },
  {
   "cell_type": "markdown",
   "metadata": {},
   "source": [
    "## Weights"
   ]
  },
  {
   "cell_type": "markdown",
   "metadata": {},
   "source": [
    "### Sharpe Ratio\n",
    "\n",
    "$$E(R_p) = w'\\bar{R}$$\n",
    "$$Var(R_p) = w'V_Rw$$\n",
    "$$Sh^2(f) = \\bar{f}'V_f^{-1}\\bar{f}$$"
   ]
  },
  {
   "cell_type": "code",
   "execution_count": null,
   "metadata": {},
   "outputs": [],
   "source": [
    "def ERp(w, R):\n",
    "    ER = pd.np.mean(R, axis=0)\n",
    "    return w.transpose() @ ER"
   ]
  },
  {
   "cell_type": "code",
   "execution_count": null,
   "metadata": {},
   "outputs": [],
   "source": [
    "def VRp(w, R):\n",
    "    CoVR = pd.np.cov(R, rowvar=False)\n",
    "    return w.transpose() @ CoVR @ w"
   ]
  },
  {
   "cell_type": "code",
   "execution_count": null,
   "metadata": {},
   "outputs": [],
   "source": [
    "R = F[:\"2016\"][bs2015].as_matrix()\n",
    "CoVR = pd.np.cov(R, rowvar=False)\n",
    "F[:\"2016\"][bs2015].cov().as_matrix() == CoVR"
   ]
  },
  {
   "cell_type": "code",
   "execution_count": null,
   "metadata": {},
   "outputs": [],
   "source": [
    "def Sh2(f):\n",
    "    Ef = pd.np.mean(f, axis=0)\n",
    "    CoVf = pd.np.cov(f, rowvar=False)\n",
    "    return Ef.transpose() @ pd.np.linalg.pinv(CoVf) @ Ef"
   ]
  },
  {
   "cell_type": "code",
   "execution_count": null,
   "metadata": {},
   "outputs": [],
   "source": [
    "def SR(w, R):\n",
    "    return (ERp(w, R) / pd.np.sqrt(VRp(w, R)))"
   ]
  },
  {
   "cell_type": "code",
   "execution_count": null,
   "metadata": {},
   "outputs": [],
   "source": [
    "R = F[bs2015].as_matrix()\n",
    "w = pd.np.matrix([.2, .2, .2, .2, .2]).transpose()"
   ]
  },
  {
   "cell_type": "code",
   "execution_count": null,
   "metadata": {},
   "outputs": [],
   "source": [
    "w.transpose() @ pd.np.mean(R, axis=0), pd.np.mean(w.transpose() @ R.transpose())"
   ]
  },
  {
   "cell_type": "code",
   "execution_count": null,
   "metadata": {},
   "outputs": [],
   "source": [
    "w.shape, R.shape"
   ]
  },
  {
   "cell_type": "code",
   "execution_count": null,
   "metadata": {},
   "outputs": [],
   "source": [
    "ERp(w, R), VRp(w, R), SR(w, R), pd.np.sqrt(Sh2(R))"
   ]
  },
  {
   "cell_type": "markdown",
   "metadata": {},
   "source": [
    "### Objective Function"
   ]
  },
  {
   "cell_type": "code",
   "execution_count": null,
   "metadata": {},
   "outputs": [],
   "source": [
    "def obj_SR(*args, **kwargs):\n",
    "    return -SR(*args, **kwargs)"
   ]
  },
  {
   "cell_type": "code",
   "execution_count": null,
   "metadata": {},
   "outputs": [],
   "source": [
    "obj_SR(w, R)"
   ]
  },
  {
   "cell_type": "code",
   "execution_count": null,
   "metadata": {},
   "outputs": [],
   "source": [
    "# equality constraint functions are set to 0\n",
    "cons = ({\"type\": \"eq\", \"fun\": lambda w: pd.np.sum(w) - 1},)"
   ]
  },
  {
   "cell_type": "code",
   "execution_count": null,
   "metadata": {},
   "outputs": [],
   "source": [
    "R = F[:\"2016\"][bs2015].as_matrix()\n",
    "res = minimize(obj_SR, [.2,.2,.2,.2,.2], args=(R,), constraints=cons)\n",
    "BS2015 = pd.Series(res[\"x\"] @ R.transpose(), index=F.index)\n",
    "bs2015, res[\"x\"].round(2)"
   ]
  },
  {
   "cell_type": "code",
   "execution_count": null,
   "metadata": {},
   "outputs": [],
   "source": [
    "R = F[:\"2016\"][ff2015].as_matrix()\n",
    "res = minimize(obj_SR, [.2,.2,.2,.2,.2], args=(R,), constraints=cons)\n",
    "FF2015 = pd.Series(res[\"x\"] @ R.transpose(), index=F.index)\n",
    "ff2015, res[\"x\"].round(2)"
   ]
  },
  {
   "cell_type": "code",
   "execution_count": null,
   "metadata": {},
   "outputs": [],
   "source": [
    "R = F[:\"2016\"][ff2016a].as_matrix()\n",
    "res = minimize(obj_SR, [.2,.2,.2,.2,.2], args=(R,), constraints=cons)\n",
    "FF2016a = pd.Series(res[\"x\"] @ R.transpose(), index=F.index)\n",
    "ff2016a, res[\"x\"].round(2)"
   ]
  },
  {
   "cell_type": "code",
   "execution_count": null,
   "metadata": {},
   "outputs": [],
   "source": [
    "R = F[:\"2016\"][ff2016b].as_matrix()\n",
    "res = minimize(obj_SR, [.2,.2,.2,.2,.2], args=(R,), constraints=cons)\n",
    "FF2016b = pd.Series(res[\"x\"] @ R.transpose(), index=F.index)\n",
    "ff2016b, res[\"x\"].round(2)"
   ]
  },
  {
   "cell_type": "code",
   "execution_count": null,
   "metadata": {},
   "outputs": [],
   "source": [
    "models = pd.DataFrame(\n",
    "    {\"BS2015\": BS2015,\n",
    "     \"FF2015\": FF2015,\n",
    "     \"FF2016a\": FF2016a,\n",
    "     \"FF2016b\": FF2016b,\n",
    "     \"Rm\": F[\"rm\"]}\n",
    ")"
   ]
  },
  {
   "cell_type": "markdown",
   "metadata": {},
   "source": [
    "## Table 1"
   ]
  },
  {
   "cell_type": "code",
   "execution_count": null,
   "metadata": {},
   "outputs": [],
   "source": [
    "tbl = pd.concat({\"Mean\":  models.mean(),\n",
    "                 \"Stdev\": models.std(),\n",
    "                 \"N\":     models.count()}, axis=\"columns\")\n",
    "\n",
    "tbl[\"t-stat\"] = tbl[\"Mean\"] / (tbl[\"Stdev\"] / pd.np.sqrt(tbl[\"N\"]))\n",
    "tbl[\"Sh\"] = tbl[\"Mean\"] / tbl[\"Stdev\"]\n",
    "round(tbl.drop(\"N\", axis=1).transpose(), 2)"
   ]
  },
  {
   "cell_type": "code",
   "execution_count": null,
   "metadata": {},
   "outputs": [],
   "source": [
    "(models / 100 + 1).cumprod().plot()"
   ]
  },
  {
   "cell_type": "code",
   "execution_count": null,
   "metadata": {},
   "outputs": [],
   "source": [
    "(models[:\"1999\"] / 100 + 1).cumprod().plot()"
   ]
  },
  {
   "cell_type": "code",
   "execution_count": null,
   "metadata": {},
   "outputs": [],
   "source": [
    "(models[\"2000\":] / 100 + 1).cumprod().plot()"
   ]
  },
  {
   "cell_type": "code",
   "execution_count": null,
   "metadata": {},
   "outputs": [],
   "source": [
    "(models[\"1963\":\"1969\"] / 100 + 1).cumprod().plot()"
   ]
  },
  {
   "cell_type": "code",
   "execution_count": null,
   "metadata": {},
   "outputs": [],
   "source": [
    "(models[\"1970\":\"1979\"] / 100 + 1).cumprod().plot()"
   ]
  },
  {
   "cell_type": "code",
   "execution_count": null,
   "metadata": {},
   "outputs": [],
   "source": [
    "(models[\"1980\":\"1989\"] / 100 + 1).cumprod().plot()"
   ]
  },
  {
   "cell_type": "code",
   "execution_count": null,
   "metadata": {},
   "outputs": [],
   "source": [
    "(models[\"1990\":\"1999\"] / 100 + 1).cumprod().plot()"
   ]
  },
  {
   "cell_type": "code",
   "execution_count": null,
   "metadata": {},
   "outputs": [],
   "source": [
    "(models[\"2000\":\"2009\"] / 100 + 1).cumprod().plot()"
   ]
  },
  {
   "cell_type": "code",
   "execution_count": null,
   "metadata": {},
   "outputs": [],
   "source": [
    "(models[\"2010\":\"2016\"] / 100 + 1).cumprod().plot()"
   ]
  },
  {
   "cell_type": "code",
   "execution_count": null,
   "metadata": {},
   "outputs": [],
   "source": [
    "R = F[\"1996\":\"2016\"][bs2015].as_matrix()\n",
    "res = minimize(obj_SR, [.2,.2,.2,.2,.2], args=(R,), constraints=cons)\n",
    "BS2015 = pd.Series(res[\"x\"] @ R.transpose(), index=F[\"1996\":\"2016\"].index)\n",
    "bs2015, res[\"x\"].round(2)"
   ]
  },
  {
   "cell_type": "code",
   "execution_count": null,
   "metadata": {},
   "outputs": [],
   "source": [
    "R = F[\"1996\":\"2016\"][ff2015].as_matrix()\n",
    "res = minimize(obj_SR, [.2,.2,.2,.2,.2], args=(R,), constraints=cons)\n",
    "FF2015 = pd.Series(res[\"x\"] @ R.transpose(), index=F[\"1996\":\"2016\"].index)\n",
    "ff2015, res[\"x\"].round(2)"
   ]
  },
  {
   "cell_type": "code",
   "execution_count": null,
   "metadata": {},
   "outputs": [],
   "source": [
    "R = F[\"1996\":\"2016\"][ff2016a].as_matrix()\n",
    "res = minimize(obj_SR, [.2,.2,.2,.2,.2], args=(R,), constraints=cons)\n",
    "FF2016a = pd.Series(res[\"x\"] @ R.transpose(), index=F[\"1996\":\"2016\"].index)\n",
    "ff2016a, res[\"x\"].round(2)"
   ]
  },
  {
   "cell_type": "code",
   "execution_count": null,
   "metadata": {},
   "outputs": [],
   "source": [
    "R = F[\"1996\":\"2016\"][ff2016b].as_matrix()\n",
    "res = minimize(obj_SR, [.2,.2,.2,.2,.2], args=(R,), constraints=cons)\n",
    "FF2016b = pd.Series(res[\"x\"] @ R.transpose(), index=F[\"1996\":\"2016\"].index)\n",
    "ff2016b, res[\"x\"].round(2)"
   ]
  },
  {
   "cell_type": "code",
   "execution_count": null,
   "metadata": {},
   "outputs": [],
   "source": [
    "models = pd.DataFrame(\n",
    "    {\"BS2015\": BS2015,\n",
    "     \"FF2015\": FF2015,\n",
    "     \"FF2016a\": FF2016a,\n",
    "     \"FF2016b\": FF2016b,\n",
    "     \"Rm\": F[\"1996\":\"2016\"][\"rm\"]}\n",
    ")"
   ]
  },
  {
   "cell_type": "code",
   "execution_count": null,
   "metadata": {},
   "outputs": [],
   "source": [
    "(models / 100 + 1).cumprod().plot()"
   ]
  },
  {
   "cell_type": "markdown",
   "metadata": {},
   "source": [
    "## Spanning Regressions"
   ]
  },
  {
   "cell_type": "markdown",
   "metadata": {},
   "source": [
    "### FF2016 Operating Profit\n",
    "\n",
    "$R^M + SMB + HML + RMW^r + CMA$"
   ]
  },
  {
   "cell_type": "code",
   "execution_count": null,
   "metadata": {},
   "outputs": [],
   "source": [
    "factors = ff2016a\n",
    "end = \"2015\"\n",
    "contrib = []\n",
    "\n",
    "for LHS in factors:\n",
    "    RHS = [RHS for RHS in factors if RHS!=LHS]\n",
    "    model = sm.OLS(F[:end][LHS], sm.add_constant(F[:end][RHS]))\n",
    "    fit = model.fit()\n",
    "\n",
    "    contrib.append(pd.Series({\"name\": LHS,\n",
    "                    \"a\": fit.params[\"const\"],\n",
    "                    \"Stdev\": fit.resid.std(),\n",
    "                    \"contrib\": fit.params[\"const\"]/fit.resid.std()}))\n",
    "\n",
    "pd.DataFrame(contrib).set_index(\"name\")[[\"a\", \"Stdev\", \"contrib\"]].transpose().round(3)"
   ]
  },
  {
   "cell_type": "markdown",
   "metadata": {},
   "source": [
    "### FF2016b Cash Profit\n",
    "\n",
    "$R^M + SMB + HML + RMW^c + CMA$"
   ]
  },
  {
   "cell_type": "code",
   "execution_count": null,
   "metadata": {},
   "outputs": [],
   "source": [
    "factors = ff2016b  #  + [\"wml\",]\n",
    "end = \"2016\"\n",
    "contrib = []\n",
    "\n",
    "for LHS in factors:\n",
    "    RHS = [RHS for RHS in factors if RHS!=LHS]\n",
    "    model = sm.OLS(F[:end][LHS], sm.add_constant(F[:end][RHS]))\n",
    "    fit = model.fit()\n",
    "\n",
    "    contrib.append(pd.Series({\"name\": LHS,\n",
    "                    \"a\": fit.params[\"const\"],\n",
    "                    \"SD\": fit.resid.std(),\n",
    "                    \"N\": len(fit.resid)}))\n",
    "\n",
    "contrib = pd.DataFrame(contrib).set_index(\"name\")  #[[\"a\", \"Stdev\", \"contrib\", \"contrib2\"]].transpose().round(2)\n",
    "contrib[\"SE\"] = contrib[\"SD\"] / contrib[\"N\"]**(1/2)\n",
    "contrib[\"a/SE\"] = contrib[\"a\"] / contrib[\"SE\"]  # From table description\n",
    "contrib[\"a/SD\"] = contrib[\"a\"] / contrib[\"SD\"]  # From text description (sec 1)\n",
    "contrib[\"(a/SE)^2\"] = contrib[\"a/SE\"]**2\n",
    "contrib[\"(a/SD)^2\"] = contrib[\"a/SD\"]**2\n",
    "contrib[[\"a\", \"SD\", \"(a/SE)^2\", \"(a/SD)^2\"]].transpose().round(3)"
   ]
  },
  {
   "cell_type": "markdown",
   "metadata": {},
   "source": [
    "### BS2015\n",
    "\n",
    "$R^M + SMB + HML^m + RMW^c + WML$"
   ]
  },
  {
   "cell_type": "code",
   "execution_count": null,
   "metadata": {},
   "outputs": [],
   "source": [
    "factors = bs2015  #  + [\"cma\",]\n",
    "end = \"2016\"\n",
    "contrib = []\n",
    "\n",
    "for LHS in factors:\n",
    "    RHS = [RHS for RHS in factors if RHS!=LHS]\n",
    "    model = sm.OLS(F[:end][LHS], sm.add_constant(F[:end][RHS]))\n",
    "    fit = model.fit()\n",
    "\n",
    "    contrib.append(pd.Series({\"name\": LHS,\n",
    "                    \"a\": fit.params[\"const\"],\n",
    "                    \"SD\": fit.resid.std(),\n",
    "                    \"N\": len(fit.resid)}))\n",
    "\n",
    "contrib = pd.DataFrame(contrib).set_index(\"name\")  #[[\"a\", \"Stdev\", \"contrib\", \"contrib2\"]].transpose().round(2)\n",
    "contrib[\"SE\"] = contrib[\"SD\"] / contrib[\"N\"]**(1/2)\n",
    "contrib[\"a/SE\"] = contrib[\"a\"] / contrib[\"SE\"]  # From table description\n",
    "contrib[\"a/SD\"] = contrib[\"a\"] / contrib[\"SD\"]  # From text description (sec 1)\n",
    "contrib[\"(a/SE)^2\"] = contrib[\"a/SE\"]**2\n",
    "contrib[\"(a/SD)^2\"] = contrib[\"a/SD\"]**2\n",
    "contrib[[\"a\", \"SD\", \"(a/SE)^2\", \"(a/SD)^2\"]].transpose().round(3)"
   ]
  },
  {
   "cell_type": "code",
   "execution_count": null,
   "metadata": {},
   "outputs": [],
   "source": [
    "LHS = \"cma\"\n",
    "RHS = bs2015\n",
    "\n",
    "model = sm.OLS(F[:end][LHS], sm.add_constant(F[:end][RHS]))\n",
    "fit = model.fit()\n",
    "pd.Series({\"name\": LHS,\n",
    " \"a\": fit.params[\"const\"],\n",
    " \"Stdev\": fit.resid.std(),\n",
    " \"contrib\": (fit.params[\"const\"]/fit.resid.std())**2})"
   ]
  },
  {
   "cell_type": "markdown",
   "metadata": {},
   "source": [
    "## Cumulative Returns"
   ]
  },
  {
   "cell_type": "markdown",
   "metadata": {},
   "source": [
    "### Whole Sample"
   ]
  },
  {
   "cell_type": "raw",
   "metadata": {},
   "source": [
    "(F[ff2015] / 100 + 1).cumprod().plot()"
   ]
  },
  {
   "cell_type": "raw",
   "metadata": {
    "scrolled": true
   },
   "source": [
    "(F[bs2015] / 100 + 1).cumprod().plot()"
   ]
  },
  {
   "cell_type": "markdown",
   "metadata": {},
   "source": [
    "### 2000-"
   ]
  },
  {
   "cell_type": "raw",
   "metadata": {},
   "source": [
    "(F[\"2000\":][ff2015] / 100 + 1).cumprod().plot()"
   ]
  },
  {
   "cell_type": "raw",
   "metadata": {},
   "source": [
    "(F[\"2000\":][bs2015] / 100 + 1).cumprod().plot()"
   ]
  }
 ],
 "metadata": {
  "kernelspec": {
   "display_name": "Python 3",
   "language": "python",
   "name": "python3"
  },
  "language_info": {
   "codemirror_mode": {
    "name": "ipython",
    "version": 3
   },
   "file_extension": ".py",
   "mimetype": "text/x-python",
   "name": "python",
   "nbconvert_exporter": "python",
   "pygments_lexer": "ipython3",
   "version": "3.5.2"
  }
 },
 "nbformat": 4,
 "nbformat_minor": 2
}
