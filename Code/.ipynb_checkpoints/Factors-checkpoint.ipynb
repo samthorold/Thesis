{
 "cells": [
  {
   "cell_type": "markdown",
   "metadata": {},
   "source": [
    "# Factors"
   ]
  },
  {
   "cell_type": "code",
   "execution_count": 1,
   "metadata": {},
   "outputs": [
    {
     "name": "stderr",
     "output_type": "stream",
     "text": [
      "c:\\users\\samth\\miniconda3\\envs\\econ\\lib\\site-packages\\statsmodels\\compat\\pandas.py:56: FutureWarning: The pandas.core.datetools module is deprecated and will be removed in a future version. Please use the pandas.tseries module instead.\n",
      "  from pandas.core import datetools\n"
     ]
    }
   ],
   "source": [
    "import pandas as pd\n",
    "from scipy.optimize import minimize\n",
    "import statsmodels.api as sm\n",
    "\n",
    "#%pylab inline"
   ]
  },
  {
   "cell_type": "code",
   "execution_count": 2,
   "metadata": {},
   "outputs": [],
   "source": [
    "# pd.read_csv(\"C:/Data/Thesis/Factors.csv\").set_index(\"date\")\n",
    "\n",
    "F = pd.read_stata(\"C:/Data/Thesis/Factors.dta\").set_index(\"date\")"
   ]
  },
  {
   "cell_type": "code",
   "execution_count": 3,
   "metadata": {},
   "outputs": [],
   "source": [
    "ff2015 = [\"rm\", \"smb\", \"hmlo\", \"rmw\", \"cma\"]\n",
    "ff2016 = [\"rm\", \"smb\", \"hml\", \"RMWc\", \"cma\"]\n",
    "ff2016b = [\"rm\", \"smb\", \"hml\", \"RMWr\", \"cma\"]\n",
    "b2016 = [\"rm\", \"smb\", \"HMLm\", \"wml\", \"RMWc\"]"
   ]
  },
  {
   "cell_type": "markdown",
   "metadata": {},
   "source": [
    "## Summary Statistics"
   ]
  },
  {
   "cell_type": "markdown",
   "metadata": {},
   "source": [
    "### French Dartmouth Website"
   ]
  },
  {
   "cell_type": "code",
   "execution_count": null,
   "metadata": {},
   "outputs": [],
   "source": [
    "x = [\"SMB\", \"smb\", \"HML\", \"hml\", \"RMW\", \"rmw\", \"CMA\", \"cma\", \"WML\", \"wml\"]\n",
    "tbl = pd.concat({\"Mean\":  F[x].mean(),\n",
    "                 \"Stdev\": F[x].std(),\n",
    "                 \"N\":     F[x].count()}, axis=\"columns\")\n",
    "\n",
    "tbl[\"t-stat\"] = tbl[\"Mean\"] / (tbl[\"Stdev\"] / pd.np.sqrt(tbl[\"N\"]))\n",
    "round(tbl.drop(\"N\", axis=1).transpose(), 2)"
   ]
  },
  {
   "cell_type": "code",
   "execution_count": null,
   "metadata": {},
   "outputs": [],
   "source": [
    "x = [\"HMLs\", \"HMLb\", \"RMWs\", \"RMWb\", \"CMAs\", \"CMAb\", \"WMLs\", \"WMLb\"]\n",
    "tbl = pd.concat({\"Mean\":  F[x].mean(),\n",
    "                 \"Stdev\": F[x].std(),\n",
    "                 \"N\":     F[x].count()}, axis=\"columns\")\n",
    "\n",
    "tbl[\"t-stat\"] = tbl[\"Mean\"] / (tbl[\"Stdev\"] / pd.np.sqrt(tbl[\"N\"]))\n",
    "round(tbl.drop(\"N\", axis=1).transpose(), 2)"
   ]
  },
  {
   "cell_type": "raw",
   "metadata": {
    "collapsed": true
   },
   "source": [
    "round(F[[\"SMB\", \"smb\", \"HML\", \"hml\", \"RMW\", \"rmw\", \"CMA\", \"cma\", \"WML\", \"wml\"]].corr(), 2)"
   ]
  },
  {
   "cell_type": "markdown",
   "metadata": {},
   "source": [
    "### Fama French (2016) _Choosing Factors_"
   ]
  },
  {
   "cell_type": "code",
   "execution_count": null,
   "metadata": {},
   "outputs": [],
   "source": [
    "x = [\"HML\", \"HMLs\", \"HMLb\", \"RMWr\", \"RMWrs\", \"RMWrb\",\n",
    "     \"RMWc\", \"RMWcs\", \"RMWcb\", \"CMA\", \"CMAs\", \"CMAb\"]\n",
    "tbl = pd.concat({\"Mean\":  F[:\"2015\"][x].mean(),\n",
    "                 \"Stdev\": F[:\"2015\"][x].std(),\n",
    "                 \"N\":     F[:\"2015\"][x].count()}, axis=\"columns\")\n",
    "\n",
    "tbl[\"t-stat\"] = tbl[\"Mean\"] / (tbl[\"Stdev\"] / pd.np.sqrt(tbl[\"N\"]))\n",
    "round(tbl.drop(\"N\", axis=1).transpose(), 2)"
   ]
  },
  {
   "cell_type": "markdown",
   "metadata": {},
   "source": [
    "### Table 1"
   ]
  },
  {
   "cell_type": "code",
   "execution_count": null,
   "metadata": {},
   "outputs": [],
   "source": [
    "x = [\"rm\", \"smb\", \"hml\", \"HMLm\", \"RMWc\", \"cma\", \"wml\"]\n",
    "tbl = pd.concat({\"Mean\":  F[x].mean(),\n",
    "                 \"Stdev\": F[x].std(),\n",
    "                 \"N\":     F[x].count()}, axis=\"columns\")\n",
    "\n",
    "tbl[\"t-stat\"] = tbl[\"Mean\"] / (tbl[\"Stdev\"] / pd.np.sqrt(tbl[\"N\"]))\n",
    "tbl[\"Sh\"] = tbl[\"Mean\"] / tbl[\"Stdev\"]\n",
    "tbl[\"Sh2\"] = tbl[\"Sh\"]**2\n",
    "round(tbl.drop(\"N\", axis=1).transpose(), 2)"
   ]
  },
  {
   "cell_type": "markdown",
   "metadata": {},
   "source": [
    "### Value"
   ]
  },
  {
   "cell_type": "code",
   "execution_count": null,
   "metadata": {},
   "outputs": [],
   "source": [
    "x = [\"HMLs\", \"HMLb\", \"HML\", \"HMLcs\", \"HMLcb\", \"HMLc\",\n",
    "     \"HMLms\", \"HMLmb\", \"HMLm\"]\n",
    "tbl = pd.concat({\"Mean\":  F[x].mean(),\n",
    "                 \"Stdev\": F[x].std(),\n",
    "                 \"N\":     F[x].count()}, axis=\"columns\")\n",
    "\n",
    "tbl[\"t-stat\"] = tbl[\"Mean\"] / (tbl[\"Stdev\"] / pd.np.sqrt(tbl[\"N\"]))\n",
    "round(tbl.drop(\"N\", axis=1).transpose(), 2)"
   ]
  },
  {
   "cell_type": "markdown",
   "metadata": {},
   "source": [
    "### Profit"
   ]
  },
  {
   "cell_type": "code",
   "execution_count": null,
   "metadata": {},
   "outputs": [],
   "source": [
    "x = [\"RMWs\", \"RMWb\", \"RMW\", \"RMWrs\", \"RMWrb\", \"RMWr\",\n",
    "     \"RMWgs\", \"RMWgb\", \"RMWg\", \"RMWcs\", \"RMWcb\", \"RMWc\"]\n",
    "tbl = pd.concat({\"Mean\":  F[x].mean(),\n",
    "                 \"Stdev\": F[x].std(),\n",
    "                 \"N\":     F[x].count()}, axis=\"columns\")\n",
    "\n",
    "tbl[\"t-stat\"] = tbl[\"Mean\"] / (tbl[\"Stdev\"] / pd.np.sqrt(tbl[\"N\"]))\n",
    "round(tbl.drop(\"N\", axis=1).transpose(), 2)"
   ]
  },
  {
   "cell_type": "markdown",
   "metadata": {},
   "source": [
    "## Sharpe Ratio"
   ]
  },
  {
   "cell_type": "markdown",
   "metadata": {},
   "source": [
    "We are inverting a matrix - check the condition number."
   ]
  },
  {
   "cell_type": "code",
   "execution_count": 4,
   "metadata": {},
   "outputs": [
    {
     "data": {
      "text/plain": [
       "0.24691783857468111"
      ]
     },
     "execution_count": 4,
     "metadata": {},
     "output_type": "execute_result"
    }
   ],
   "source": [
    "r = F[:\"2015\"][ff2016].mean()\n",
    "Vf = F[:\"2015\"][ff2016].cov()\n",
    "\n",
    "r.dot(pd.np.linalg.pinv(Vf)).dot(r)"
   ]
  },
  {
   "cell_type": "code",
   "execution_count": 5,
   "metadata": {},
   "outputs": [
    {
     "data": {
      "text/plain": [
       "0.24691783857468111"
      ]
     },
     "execution_count": 5,
     "metadata": {},
     "output_type": "execute_result"
    }
   ],
   "source": [
    "r = F[:\"2015\"][ff2016].mean().as_matrix()\n",
    "Vf = F[:\"2015\"][ff2016].cov().as_matrix()\n",
    "\n",
    "r @ pd.np.linalg.pinv(Vf) @ r"
   ]
  },
  {
   "cell_type": "code",
   "execution_count": 7,
   "metadata": {},
   "outputs": [
    {
     "data": {
      "text/plain": [
       "0.18153059101603303"
      ]
     },
     "execution_count": 7,
     "metadata": {},
     "output_type": "execute_result"
    }
   ],
   "source": [
    "r = F[:\"2015\"][ff2016b].mean()\n",
    "Vf = F[:\"2015\"][ff2016b].cov()\n",
    "\n",
    "r.dot(pd.np.linalg.pinv(Vf)).dot(r)"
   ]
  },
  {
   "cell_type": "code",
   "execution_count": 8,
   "metadata": {},
   "outputs": [
    {
     "data": {
      "text/plain": [
       "0.35805656899647442"
      ]
     },
     "execution_count": 8,
     "metadata": {},
     "output_type": "execute_result"
    }
   ],
   "source": [
    "r = F[:\"2015\"][b2016].mean()\n",
    "Vf = F[:\"2015\"][b2016].cov()\n",
    "\n",
    "r.dot(pd.np.linalg.pinv(Vf)).dot(r)"
   ]
  },
  {
   "cell_type": "code",
   "execution_count": 9,
   "metadata": {},
   "outputs": [
    {
     "data": {
      "text/plain": [
       "0.36077403320733548"
      ]
     },
     "execution_count": 9,
     "metadata": {},
     "output_type": "execute_result"
    }
   ],
   "source": [
    "r = F[:\"2016\"][b2016].mean()\n",
    "Vf = F[:\"2016\"][b2016].cov()\n",
    "\n",
    "r.dot(pd.np.linalg.pinv(Vf)).dot(r)"
   ]
  },
  {
   "cell_type": "code",
   "execution_count": 10,
   "metadata": {},
   "outputs": [
    {
     "data": {
      "text/plain": [
       "0.3756723309552103"
      ]
     },
     "execution_count": 10,
     "metadata": {},
     "output_type": "execute_result"
    }
   ],
   "source": [
    "r = F[:\"2016\"][b2016+[\"STR\",]].mean()\n",
    "Vf = F[:\"2016\"][b2016+[\"STR\",]].cov()\n",
    "\n",
    "r.dot(pd.np.linalg.pinv(Vf)).dot(r)"
   ]
  },
  {
   "cell_type": "code",
   "execution_count": null,
   "metadata": {},
   "outputs": [],
   "source": [
    "r = F[\"2000\":\"2016\"][ff2016].mean()\n",
    "Vf = F[\"2000\":\"2016\"][ff2016].cov()\n",
    "\n",
    "r.dot(pd.np.linalg.pinv(Vf)).dot(r)"
   ]
  },
  {
   "cell_type": "code",
   "execution_count": null,
   "metadata": {},
   "outputs": [],
   "source": [
    "r = F[\"2000\":\"2016\"][b2016].mean()\n",
    "Vf = F[\"2000\":\"2016\"][b2016].cov()\n",
    "\n",
    "r.dot(pd.np.linalg.pinv(Vf)).dot(r)"
   ]
  },
  {
   "cell_type": "code",
   "execution_count": null,
   "metadata": {},
   "outputs": [],
   "source": [
    "r = F[\"1963\":\"1999\"][ff2016].mean()\n",
    "Vf = F[\"1963\":\"1999\"][ff2016].cov()\n",
    "\n",
    "r.dot(pd.np.linalg.pinv(Vf)).dot(r)"
   ]
  },
  {
   "cell_type": "code",
   "execution_count": null,
   "metadata": {},
   "outputs": [],
   "source": [
    "r = F[\"1963\":\"1999\"][b2016].mean()\n",
    "Vf = F[\"1963\":\"1999\"][b2016].cov()\n",
    "\n",
    "r.dot(pd.np.linalg.pinv(Vf)).dot(r)"
   ]
  },
  {
   "cell_type": "markdown",
   "metadata": {},
   "source": [
    "## Weights"
   ]
  },
  {
   "cell_type": "markdown",
   "metadata": {},
   "source": [
    "### Sharpe Ratio\n",
    "\n",
    "$$E(R_p) = w'\\bar{R}$$\n",
    "$$Var(R_p) = w'V_Rw$$\n",
    "$$Sh^2(f) = \\bar{f}'V_f^{-1}\\bar{f}$$"
   ]
  },
  {
   "cell_type": "code",
   "execution_count": 11,
   "metadata": {},
   "outputs": [],
   "source": [
    "def ERp(w, R):\n",
    "    ER = pd.np.mean(R, axis=0)\n",
    "    return w.transpose() @ ER"
   ]
  },
  {
   "cell_type": "code",
   "execution_count": 12,
   "metadata": {},
   "outputs": [],
   "source": [
    "def VRp(w, R):\n",
    "    CoVR = pd.np.cov(R, rowvar=False)\n",
    "    return w.transpose() @ CoVR @ w"
   ]
  },
  {
   "cell_type": "code",
   "execution_count": 13,
   "metadata": {},
   "outputs": [
    {
     "data": {
      "text/plain": [
       "array([[ True,  True,  True,  True,  True],\n",
       "       [ True,  True,  True,  True,  True],\n",
       "       [ True,  True,  True,  True,  True],\n",
       "       [ True,  True,  True,  True,  True],\n",
       "       [ True,  True,  True,  True,  True]], dtype=bool)"
      ]
     },
     "execution_count": 13,
     "metadata": {},
     "output_type": "execute_result"
    }
   ],
   "source": [
    "R = F[:\"2016\"][b2016].as_matrix()\n",
    "CoVR = pd.np.cov(R, rowvar=False)\n",
    "F[:\"2016\"][b2016].cov().as_matrix() == CoVR"
   ]
  },
  {
   "cell_type": "code",
   "execution_count": 14,
   "metadata": {},
   "outputs": [],
   "source": [
    "def Sh2(f):\n",
    "    Ef = pd.np.mean(f, axis=0)\n",
    "    CoVf = pd.np.cov(f, rowvar=False)\n",
    "    return Ef.transpose() @ pd.np.linalg.pinv(CoVf) @ Ef"
   ]
  },
  {
   "cell_type": "code",
   "execution_count": 15,
   "metadata": {},
   "outputs": [],
   "source": [
    "def SR(w, R):\n",
    "    return (ERp(w, R) / pd.np.sqrt(VRp(w, R)))"
   ]
  },
  {
   "cell_type": "code",
   "execution_count": 16,
   "metadata": {},
   "outputs": [],
   "source": [
    "R = F[b2016].as_matrix()\n",
    "w = pd.np.matrix([.2, .2, .2, .2, .2]).transpose()"
   ]
  },
  {
   "cell_type": "code",
   "execution_count": 17,
   "metadata": {},
   "outputs": [
    {
     "data": {
      "text/plain": [
       "(matrix([[ 0.4356014]]), 0.4356014015280153)"
      ]
     },
     "execution_count": 17,
     "metadata": {},
     "output_type": "execute_result"
    }
   ],
   "source": [
    "w.transpose() @ pd.np.mean(R, axis=0), pd.np.mean(w.transpose() @ R.transpose())"
   ]
  },
  {
   "cell_type": "code",
   "execution_count": null,
   "metadata": {},
   "outputs": [],
   "source": [
    "w.shape, R.shape"
   ]
  },
  {
   "cell_type": "code",
   "execution_count": 18,
   "metadata": {},
   "outputs": [
    {
     "data": {
      "text/plain": [
       "(matrix([[ 0.4356014]]),\n",
       " matrix([[ 1.23649547]]),\n",
       " matrix([[ 0.39173557]]),\n",
       " 0.60064468132776772)"
      ]
     },
     "execution_count": 18,
     "metadata": {},
     "output_type": "execute_result"
    }
   ],
   "source": [
    "ERp(w, R), VRp(w, R), SR(w, R), pd.np.sqrt(Sh2(R))"
   ]
  },
  {
   "cell_type": "markdown",
   "metadata": {},
   "source": [
    "### Objective Function"
   ]
  },
  {
   "cell_type": "code",
   "execution_count": 19,
   "metadata": {},
   "outputs": [],
   "source": [
    "def obj_SR(*args, **kwargs):\n",
    "    return -SR(*args, **kwargs)"
   ]
  },
  {
   "cell_type": "code",
   "execution_count": 20,
   "metadata": {},
   "outputs": [
    {
     "data": {
      "text/plain": [
       "matrix([[-0.39173557]])"
      ]
     },
     "execution_count": 20,
     "metadata": {},
     "output_type": "execute_result"
    }
   ],
   "source": [
    "obj_SR(w, R)"
   ]
  },
  {
   "cell_type": "code",
   "execution_count": 21,
   "metadata": {},
   "outputs": [],
   "source": [
    "# equality constraint functions are set to 0\n",
    "cons = ({\"type\": \"eq\", \"fun\": lambda w: pd.np.sum(w) - 1},)"
   ]
  },
  {
   "cell_type": "code",
   "execution_count": 22,
   "metadata": {},
   "outputs": [
    {
     "data": {
      "text/plain": [
       "(['rm', 'smb', 'HMLm', 'wml', 'RMWc'],\n",
       " array([ 0.11,  0.08,  0.23,  0.13,  0.45]))"
      ]
     },
     "execution_count": 22,
     "metadata": {},
     "output_type": "execute_result"
    }
   ],
   "source": [
    "R = F[:\"2016\"][b2016].as_matrix()\n",
    "res = minimize(obj_SR, [.2,.2,.2,.2,.2], args=(R,), constraints=cons)\n",
    "B2016 = pd.Series(res[\"x\"] @ R.transpose(), index=F.index)\n",
    "b2016, res[\"x\"].round(2)"
   ]
  },
  {
   "cell_type": "code",
   "execution_count": 35,
   "metadata": {},
   "outputs": [
    {
     "data": {
      "text/plain": [
       "(['rm', 'smb', 'HMLm', 'wml', 'RMWc', 'STR'],\n",
       " array([ 0.09,  0.07,  0.22,  0.13,  0.43,  0.05]))"
      ]
     },
     "execution_count": 35,
     "metadata": {},
     "output_type": "execute_result"
    }
   ],
   "source": [
    "R = F[:\"2016\"][b2016+[\"STR\",]].as_matrix()\n",
    "res = minimize(obj_SR, [.1,.1,.1,.1,.1,.5], args=(R,), constraints=cons)\n",
    "B2016b = pd.Series(res[\"x\"] @ R.transpose(), index=F.index)\n",
    "b2016+[\"STR\",], res[\"x\"].round(2)"
   ]
  },
  {
   "cell_type": "code",
   "execution_count": 27,
   "metadata": {},
   "outputs": [
    {
     "data": {
      "text/plain": [
       "(['rm', 'smb', 'hmlo', 'rmw', 'cma'],\n",
       " array([ 0.16,  0.13,  0.01,  0.3 ,  0.4 ]))"
      ]
     },
     "execution_count": 27,
     "metadata": {},
     "output_type": "execute_result"
    }
   ],
   "source": [
    "R = F[:\"2016\"][ff2015].as_matrix()\n",
    "res = minimize(obj_SR, [.2,.2,.2,.2,.2], args=(R,), constraints=cons)\n",
    "FF2015 = pd.Series(res[\"x\"] @ R.transpose(), index=F.index)\n",
    "ff2015, res[\"x\"].round(2)"
   ]
  },
  {
   "cell_type": "code",
   "execution_count": 28,
   "metadata": {},
   "outputs": [
    {
     "data": {
      "text/plain": [
       "(['rm', 'smb', 'hml', 'RMWc', 'cma'],\n",
       " array([ 0.12,  0.09,  0.15,  0.54,  0.11]))"
      ]
     },
     "execution_count": 28,
     "metadata": {},
     "output_type": "execute_result"
    }
   ],
   "source": [
    "R = F[:\"2016\"][ff2016].as_matrix()\n",
    "res = minimize(obj_SR, [.2,.2,.2,.2,.2], args=(R,), constraints=cons)\n",
    "FF2016 = pd.Series(res[\"x\"] @ R.transpose(), index=F.index)\n",
    "ff2016, res[\"x\"].round(2)"
   ]
  },
  {
   "cell_type": "code",
   "execution_count": 29,
   "metadata": {},
   "outputs": [
    {
     "data": {
      "text/plain": [
       "(['rm', 'smb', 'hml', 'RMWr', 'cma'],\n",
       " array([ 0.1 ,  0.07,  0.12,  0.45,  0.26]))"
      ]
     },
     "execution_count": 29,
     "metadata": {},
     "output_type": "execute_result"
    }
   ],
   "source": [
    "R = F[:\"2016\"][ff2016b].as_matrix()\n",
    "res = minimize(obj_SR, [.2,.2,.2,.2,.2], args=(R,), constraints=cons)\n",
    "FF2016b = pd.Series(res[\"x\"] @ R.transpose(), index=F.index)\n",
    "ff2016b, res[\"x\"].round(2)"
   ]
  },
  {
   "cell_type": "code",
   "execution_count": 36,
   "metadata": {},
   "outputs": [],
   "source": [
    "models = pd.DataFrame(\n",
    "    {\"B2016\": B2016,\n",
    "     \"B2016B\": B2016b,\n",
    "     \"FF2015\": FF2015,\n",
    "     \"FF2016\": FF2016,\n",
    "     \"FF2016b\": FF2016b,\n",
    "     \"Rm\": F[\"rm\"]}\n",
    ")"
   ]
  },
  {
   "cell_type": "markdown",
   "metadata": {},
   "source": [
    "## Table 1"
   ]
  },
  {
   "cell_type": "code",
   "execution_count": 37,
   "metadata": {},
   "outputs": [
    {
     "data": {
      "text/html": [
       "<div>\n",
       "<style scoped>\n",
       "    .dataframe tbody tr th:only-of-type {\n",
       "        vertical-align: middle;\n",
       "    }\n",
       "\n",
       "    .dataframe tbody tr th {\n",
       "        vertical-align: top;\n",
       "    }\n",
       "\n",
       "    .dataframe thead th {\n",
       "        text-align: right;\n",
       "    }\n",
       "</style>\n",
       "<table border=\"1\" class=\"dataframe\">\n",
       "  <thead>\n",
       "    <tr style=\"text-align: right;\">\n",
       "      <th></th>\n",
       "      <th>B2016</th>\n",
       "      <th>B2016B</th>\n",
       "      <th>FF2015</th>\n",
       "      <th>FF2016</th>\n",
       "      <th>FF2016b</th>\n",
       "      <th>Rm</th>\n",
       "    </tr>\n",
       "  </thead>\n",
       "  <tbody>\n",
       "    <tr>\n",
       "      <th>Mean</th>\n",
       "      <td>0.42</td>\n",
       "      <td>0.42</td>\n",
       "      <td>0.31</td>\n",
       "      <td>0.37</td>\n",
       "      <td>0.33</td>\n",
       "      <td>0.51</td>\n",
       "    </tr>\n",
       "    <tr>\n",
       "      <th>Stdev</th>\n",
       "      <td>0.69</td>\n",
       "      <td>0.69</td>\n",
       "      <td>0.98</td>\n",
       "      <td>0.75</td>\n",
       "      <td>0.78</td>\n",
       "      <td>4.42</td>\n",
       "    </tr>\n",
       "    <tr>\n",
       "      <th>t-stat</th>\n",
       "      <td>15.22</td>\n",
       "      <td>15.53</td>\n",
       "      <td>8.10</td>\n",
       "      <td>12.68</td>\n",
       "      <td>10.90</td>\n",
       "      <td>2.92</td>\n",
       "    </tr>\n",
       "    <tr>\n",
       "      <th>Sh</th>\n",
       "      <td>0.60</td>\n",
       "      <td>0.61</td>\n",
       "      <td>0.32</td>\n",
       "      <td>0.50</td>\n",
       "      <td>0.43</td>\n",
       "      <td>0.12</td>\n",
       "    </tr>\n",
       "  </tbody>\n",
       "</table>\n",
       "</div>"
      ],
      "text/plain": [
       "        B2016  B2016B  FF2015  FF2016  FF2016b    Rm\n",
       "Mean     0.42    0.42    0.31    0.37     0.33  0.51\n",
       "Stdev    0.69    0.69    0.98    0.75     0.78  4.42\n",
       "t-stat  15.22   15.53    8.10   12.68    10.90  2.92\n",
       "Sh       0.60    0.61    0.32    0.50     0.43  0.12"
      ]
     },
     "execution_count": 37,
     "metadata": {},
     "output_type": "execute_result"
    }
   ],
   "source": [
    "tbl = pd.concat({\"Mean\":  models.mean(),\n",
    "                 \"Stdev\": models.std(),\n",
    "                 \"N\":     models.count()}, axis=\"columns\")\n",
    "\n",
    "tbl[\"t-stat\"] = tbl[\"Mean\"] / (tbl[\"Stdev\"] / pd.np.sqrt(tbl[\"N\"]))\n",
    "tbl[\"Sh\"] = tbl[\"Mean\"] / tbl[\"Stdev\"]\n",
    "round(tbl.drop(\"N\", axis=1).transpose(), 2)"
   ]
  },
  {
   "cell_type": "code",
   "execution_count": 38,
   "metadata": {},
   "outputs": [
    {
     "data": {
      "text/plain": [
       "<matplotlib.axes._subplots.AxesSubplot at 0x19eb5e3deb8>"
      ]
     },
     "execution_count": 38,
     "metadata": {},
     "output_type": "execute_result"
    }
   ],
   "source": [
    "(models / 100 + 1).cumprod().plot()"
   ]
  },
  {
   "cell_type": "code",
   "execution_count": null,
   "metadata": {},
   "outputs": [],
   "source": [
    "(models[:\"1999\"] / 100 + 1).cumprod().plot()"
   ]
  },
  {
   "cell_type": "code",
   "execution_count": null,
   "metadata": {},
   "outputs": [],
   "source": [
    "(models[\"2000\":] / 100 + 1).cumprod().plot()"
   ]
  },
  {
   "cell_type": "code",
   "execution_count": null,
   "metadata": {},
   "outputs": [],
   "source": [
    "(models[\"1963\":\"1969\"] / 100 + 1).cumprod().plot()"
   ]
  },
  {
   "cell_type": "code",
   "execution_count": null,
   "metadata": {},
   "outputs": [],
   "source": [
    "(models[\"1970\":\"1979\"] / 100 + 1).cumprod().plot()"
   ]
  },
  {
   "cell_type": "code",
   "execution_count": null,
   "metadata": {},
   "outputs": [],
   "source": [
    "(models[\"1980\":\"1989\"] / 100 + 1).cumprod().plot()"
   ]
  },
  {
   "cell_type": "code",
   "execution_count": null,
   "metadata": {},
   "outputs": [],
   "source": [
    "(models[\"1990\":\"1999\"] / 100 + 1).cumprod().plot()"
   ]
  },
  {
   "cell_type": "code",
   "execution_count": null,
   "metadata": {},
   "outputs": [],
   "source": [
    "(models[\"2000\":\"2009\"] / 100 + 1).cumprod().plot()"
   ]
  },
  {
   "cell_type": "code",
   "execution_count": null,
   "metadata": {},
   "outputs": [],
   "source": [
    "(models[\"2010\":\"2016\"] / 100 + 1).cumprod().plot()"
   ]
  },
  {
   "cell_type": "code",
   "execution_count": null,
   "metadata": {},
   "outputs": [],
   "source": [
    "R = F[\"1996\":\"2016\"][bs2015].as_matrix()\n",
    "res = minimize(obj_SR, [.2,.2,.2,.2,.2], args=(R,), constraints=cons)\n",
    "BS2015 = pd.Series(res[\"x\"] @ R.transpose(), index=F[\"1996\":\"2016\"].index)\n",
    "bs2015, res[\"x\"].round(2)"
   ]
  },
  {
   "cell_type": "code",
   "execution_count": null,
   "metadata": {},
   "outputs": [],
   "source": [
    "R = F[\"1996\":\"2016\"][ff2015].as_matrix()\n",
    "res = minimize(obj_SR, [.2,.2,.2,.2,.2], args=(R,), constraints=cons)\n",
    "FF2015 = pd.Series(res[\"x\"] @ R.transpose(), index=F[\"1996\":\"2016\"].index)\n",
    "ff2015, res[\"x\"].round(2)"
   ]
  },
  {
   "cell_type": "code",
   "execution_count": null,
   "metadata": {},
   "outputs": [],
   "source": [
    "R = F[\"1996\":\"2016\"][ff2016a].as_matrix()\n",
    "res = minimize(obj_SR, [.2,.2,.2,.2,.2], args=(R,), constraints=cons)\n",
    "FF2016a = pd.Series(res[\"x\"] @ R.transpose(), index=F[\"1996\":\"2016\"].index)\n",
    "ff2016a, res[\"x\"].round(2)"
   ]
  },
  {
   "cell_type": "code",
   "execution_count": null,
   "metadata": {},
   "outputs": [],
   "source": [
    "R = F[\"1996\":\"2016\"][ff2016b].as_matrix()\n",
    "res = minimize(obj_SR, [.2,.2,.2,.2,.2], args=(R,), constraints=cons)\n",
    "FF2016b = pd.Series(res[\"x\"] @ R.transpose(), index=F[\"1996\":\"2016\"].index)\n",
    "ff2016b, res[\"x\"].round(2)"
   ]
  },
  {
   "cell_type": "code",
   "execution_count": null,
   "metadata": {},
   "outputs": [],
   "source": [
    "models = pd.DataFrame(\n",
    "    {\"BS2015\": BS2015,\n",
    "     \"FF2015\": FF2015,\n",
    "     \"FF2016a\": FF2016a,\n",
    "     \"FF2016b\": FF2016b,\n",
    "     \"Rm\": F[\"1996\":\"2016\"][\"rm\"]}\n",
    ")"
   ]
  },
  {
   "cell_type": "code",
   "execution_count": null,
   "metadata": {},
   "outputs": [],
   "source": [
    "(models / 100 + 1).cumprod().plot()"
   ]
  },
  {
   "cell_type": "markdown",
   "metadata": {},
   "source": [
    "## Spanning Regressions"
   ]
  },
  {
   "cell_type": "markdown",
   "metadata": {},
   "source": [
    "### FF2016 Operating Profit\n",
    "\n",
    "$R^M + SMB + HML + RMW^r + CMA$"
   ]
  },
  {
   "cell_type": "code",
   "execution_count": null,
   "metadata": {},
   "outputs": [],
   "source": [
    "factors = ff2016a\n",
    "end = \"2015\"\n",
    "contrib = []\n",
    "\n",
    "for LHS in factors:\n",
    "    RHS = [RHS for RHS in factors if RHS!=LHS]\n",
    "    model = sm.OLS(F[:end][LHS], sm.add_constant(F[:end][RHS]))\n",
    "    fit = model.fit()\n",
    "\n",
    "    contrib.append(pd.Series({\"name\": LHS,\n",
    "                    \"a\": fit.params[\"const\"],\n",
    "                    \"Stdev\": fit.resid.std(),\n",
    "                    \"contrib\": fit.params[\"const\"]/fit.resid.std()}))\n",
    "\n",
    "pd.DataFrame(contrib).set_index(\"name\")[[\"a\", \"Stdev\", \"contrib\"]].transpose().round(3)"
   ]
  },
  {
   "cell_type": "markdown",
   "metadata": {},
   "source": [
    "### FF2016b Cash Profit\n",
    "\n",
    "$R^M + SMB + HML + RMW^c + CMA$"
   ]
  },
  {
   "cell_type": "code",
   "execution_count": null,
   "metadata": {},
   "outputs": [],
   "source": [
    "factors = ff2016b  #  + [\"wml\",]\n",
    "end = \"2016\"\n",
    "contrib = []\n",
    "\n",
    "for LHS in factors:\n",
    "    RHS = [RHS for RHS in factors if RHS!=LHS]\n",
    "    model = sm.OLS(F[:end][LHS], sm.add_constant(F[:end][RHS]))\n",
    "    fit = model.fit()\n",
    "\n",
    "    contrib.append(pd.Series({\"name\": LHS,\n",
    "                    \"a\": fit.params[\"const\"],\n",
    "                    \"SD\": fit.resid.std(),\n",
    "                    \"N\": len(fit.resid)}))\n",
    "\n",
    "contrib = pd.DataFrame(contrib).set_index(\"name\")  #[[\"a\", \"Stdev\", \"contrib\", \"contrib2\"]].transpose().round(2)\n",
    "contrib[\"SE\"] = contrib[\"SD\"] / contrib[\"N\"]**(1/2)\n",
    "contrib[\"a/SE\"] = contrib[\"a\"] / contrib[\"SE\"]  # From table description\n",
    "contrib[\"a/SD\"] = contrib[\"a\"] / contrib[\"SD\"]  # From text description (sec 1)\n",
    "contrib[\"(a/SE)^2\"] = contrib[\"a/SE\"]**2\n",
    "contrib[\"(a/SD)^2\"] = contrib[\"a/SD\"]**2\n",
    "contrib[[\"a\", \"SD\", \"(a/SE)^2\", \"(a/SD)^2\"]].transpose().round(3)"
   ]
  },
  {
   "cell_type": "markdown",
   "metadata": {},
   "source": [
    "### BS2015\n",
    "\n",
    "$R^M + SMB + HML^m + RMW^c + WML$"
   ]
  },
  {
   "cell_type": "code",
   "execution_count": null,
   "metadata": {},
   "outputs": [],
   "source": [
    "factors = bs2015  #  + [\"cma\",]\n",
    "end = \"2016\"\n",
    "contrib = []\n",
    "\n",
    "for LHS in factors:\n",
    "    RHS = [RHS for RHS in factors if RHS!=LHS]\n",
    "    model = sm.OLS(F[:end][LHS], sm.add_constant(F[:end][RHS]))\n",
    "    fit = model.fit()\n",
    "\n",
    "    contrib.append(pd.Series({\"name\": LHS,\n",
    "                    \"a\": fit.params[\"const\"],\n",
    "                    \"SD\": fit.resid.std(),\n",
    "                    \"N\": len(fit.resid)}))\n",
    "\n",
    "contrib = pd.DataFrame(contrib).set_index(\"name\")  #[[\"a\", \"Stdev\", \"contrib\", \"contrib2\"]].transpose().round(2)\n",
    "contrib[\"SE\"] = contrib[\"SD\"] / contrib[\"N\"]**(1/2)\n",
    "contrib[\"a/SE\"] = contrib[\"a\"] / contrib[\"SE\"]  # From table description\n",
    "contrib[\"a/SD\"] = contrib[\"a\"] / contrib[\"SD\"]  # From text description (sec 1)\n",
    "contrib[\"(a/SE)^2\"] = contrib[\"a/SE\"]**2\n",
    "contrib[\"(a/SD)^2\"] = contrib[\"a/SD\"]**2\n",
    "contrib[[\"a\", \"SD\", \"(a/SE)^2\", \"(a/SD)^2\"]].transpose().round(3)"
   ]
  },
  {
   "cell_type": "code",
   "execution_count": null,
   "metadata": {},
   "outputs": [],
   "source": [
    "LHS = \"cma\"\n",
    "RHS = bs2015\n",
    "\n",
    "model = sm.OLS(F[:end][LHS], sm.add_constant(F[:end][RHS]))\n",
    "fit = model.fit()\n",
    "pd.Series({\"name\": LHS,\n",
    " \"a\": fit.params[\"const\"],\n",
    " \"Stdev\": fit.resid.std(),\n",
    " \"contrib\": (fit.params[\"const\"]/fit.resid.std())**2})"
   ]
  },
  {
   "cell_type": "markdown",
   "metadata": {},
   "source": [
    "## Cumulative Returns"
   ]
  },
  {
   "cell_type": "markdown",
   "metadata": {},
   "source": [
    "### Whole Sample"
   ]
  },
  {
   "cell_type": "raw",
   "metadata": {},
   "source": [
    "(F[ff2015] / 100 + 1).cumprod().plot()"
   ]
  },
  {
   "cell_type": "raw",
   "metadata": {
    "scrolled": true
   },
   "source": [
    "(F[bs2015] / 100 + 1).cumprod().plot()"
   ]
  },
  {
   "cell_type": "markdown",
   "metadata": {},
   "source": [
    "### 2000-"
   ]
  },
  {
   "cell_type": "raw",
   "metadata": {},
   "source": [
    "(F[\"2000\":][ff2015] / 100 + 1).cumprod().plot()"
   ]
  },
  {
   "cell_type": "raw",
   "metadata": {},
   "source": [
    "(F[\"2000\":][bs2015] / 100 + 1).cumprod().plot()"
   ]
  }
 ],
 "metadata": {
  "kernelspec": {
   "display_name": "Python 3",
   "language": "python",
   "name": "python3"
  },
  "language_info": {
   "codemirror_mode": {
    "name": "ipython",
    "version": 3
   },
   "file_extension": ".py",
   "mimetype": "text/x-python",
   "name": "python",
   "nbconvert_exporter": "python",
   "pygments_lexer": "ipython3",
   "version": "3.5.2"
  }
 },
 "nbformat": 4,
 "nbformat_minor": 2
}
