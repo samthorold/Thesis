{
 "cells": [
  {
   "cell_type": "markdown",
   "metadata": {},
   "source": [
    "# Factors"
   ]
  },
  {
   "cell_type": "code",
   "execution_count": null,
   "metadata": {},
   "outputs": [],
   "source": [
    "import pandas as pd\n",
    "import statsmodels.api as sm\n",
    "\n",
    "%pylab inline"
   ]
  },
  {
   "cell_type": "code",
   "execution_count": null,
   "metadata": {},
   "outputs": [],
   "source": [
    "# pd.read_csv(\"C:/Data/Thesis/Factors.csv\").set_index(\"date\")\n",
    "\n",
    "F = pd.read_stata(\"C:/Data/Thesis/Factors.dta\").set_index(\"date\")"
   ]
  },
  {
   "cell_type": "code",
   "execution_count": null,
   "metadata": {},
   "outputs": [],
   "source": [
    "ff2015 = [\"rm\", \"smb\", \"hmlo\", \"rmw\", \"cma\"]\n",
    "bs2015 = [\"rm\", \"smb\", \"HMLm\", \"RMWc\", \"wml\"]"
   ]
  },
  {
   "cell_type": "code",
   "execution_count": null,
   "metadata": {},
   "outputs": [],
   "source": [
    "x = [\"SMB\", \"smb\", \"HML\", \"hml\", \"RMW\", \"rmw\", \"CMA\", \"cma\", \"WML\", \"wml\"]\n",
    "round(pd.concat({\"Mean\": F[x].mean(), \"Stdev\": F[x].std()}, axis=\"columns\").transpose(), 2)"
   ]
  },
  {
   "cell_type": "code",
   "execution_count": null,
   "metadata": {},
   "outputs": [],
   "source": [
    "round(F[[\"SMB\", \"smb\", \"HML\", \"hml\", \"RMW\", \"rmw\", \"CMA\", \"cma\", \"WML\", \"wml\"]].corr(), 2)"
   ]
  },
  {
   "cell_type": "markdown",
   "metadata": {},
   "source": [
    "## Cumulative Returns"
   ]
  },
  {
   "cell_type": "markdown",
   "metadata": {},
   "source": [
    "### Whole Sample"
   ]
  },
  {
   "cell_type": "code",
   "execution_count": null,
   "metadata": {},
   "outputs": [],
   "source": [
    "(F[ff2015] / 100 + 1).cumprod().plot()"
   ]
  },
  {
   "cell_type": "code",
   "execution_count": null,
   "metadata": {
    "scrolled": true
   },
   "outputs": [],
   "source": [
    "(F[bs2015] / 100 + 1).cumprod().plot()"
   ]
  },
  {
   "cell_type": "markdown",
   "metadata": {},
   "source": [
    "### 2000-"
   ]
  },
  {
   "cell_type": "code",
   "execution_count": null,
   "metadata": {},
   "outputs": [],
   "source": [
    "(F[\"2000\":][ff2015] / 100 + 1).cumprod().plot()"
   ]
  },
  {
   "cell_type": "code",
   "execution_count": null,
   "metadata": {},
   "outputs": [],
   "source": [
    "(F[\"2000\":][bs2015] / 100 + 1).cumprod().plot()"
   ]
  },
  {
   "cell_type": "markdown",
   "metadata": {},
   "source": [
    "## Spanning Regressions"
   ]
  },
  {
   "cell_type": "markdown",
   "metadata": {},
   "source": [
    "$r_t^M - r_t^f = a + s\\cdot SMB_t + h\\cdot HML_t + r\\cdot RMW_t + c\\cdot CMA_t$"
   ]
  },
  {
   "cell_type": "code",
   "execution_count": null,
   "metadata": {},
   "outputs": [],
   "source": [
    "model = sm.OLS(F[\"rm\"], sm.add_constant(F[[\"SMB\", \"HML\", \"RMW\", \"CMA\"]]))\n",
    "\n",
    "fit = model.fit()\n",
    "round(pd.concat({'Coef': fit.params, 'Pval': fit.pvalues}, axis=\"columns\"), 2)"
   ]
  },
  {
   "cell_type": "markdown",
   "metadata": {},
   "source": [
    "$SMB_t = a + \\beta \\cdot \\left( r_t^M - r_t^f\\right) + h\\cdot HML_t + r\\cdot RMW_t + c\\cdot CMA_t$"
   ]
  },
  {
   "cell_type": "code",
   "execution_count": null,
   "metadata": {},
   "outputs": [],
   "source": [
    "model = sm.OLS(F[\"SMB\"], sm.add_constant(F[[\"rm\", \"HML\", \"RMW\", \"CMA\"]]))\n",
    "\n",
    "fit = model.fit()\n",
    "round(pd.concat({'Coef': fit.params, 'Pval': fit.pvalues}, axis=\"columns\"), 2)"
   ]
  },
  {
   "cell_type": "markdown",
   "metadata": {},
   "source": [
    "$HML_t = a + \\beta \\cdot \\left( r_t^M - r_t^f\\right) + s\\cdot SMB_t + r\\cdot RMW_t + c\\cdot CMA_t$"
   ]
  },
  {
   "cell_type": "code",
   "execution_count": null,
   "metadata": {},
   "outputs": [],
   "source": [
    "model = sm.OLS(F[\"HML\"], sm.add_constant(F[[\"rm\", \"SMB\", \"RMW\", \"CMA\"]]))\n",
    "\n",
    "fit = model.fit()\n",
    "round(pd.concat({'Coef': fit.params, 'Pval': fit.pvalues}, axis=\"columns\"), 2)"
   ]
  },
  {
   "cell_type": "markdown",
   "metadata": {},
   "source": [
    "$RMW_t = a + \\beta \\cdot \\left( r_t^M - r_t^f\\right) + s\\cdot SMB_t + h\\cdot HML_t + c\\cdot CMA_t$"
   ]
  },
  {
   "cell_type": "code",
   "execution_count": null,
   "metadata": {},
   "outputs": [],
   "source": [
    "model = sm.OLS(F[\"RMW\"], sm.add_constant(F[[\"rm\", \"SMB\", \"HML\", \"CMA\"]]))\n",
    "\n",
    "fit = model.fit()\n",
    "round(pd.concat({'Coef': fit.params, 'Pval': fit.pvalues}, axis=\"columns\"), 2)"
   ]
  },
  {
   "cell_type": "markdown",
   "metadata": {},
   "source": [
    "$CMA_t = a + \\beta \\cdot \\left( r_t^M - r_t^f\\right) + s\\cdot SMB_t + h\\cdot HML_t + r\\cdot RMW_t$"
   ]
  },
  {
   "cell_type": "code",
   "execution_count": null,
   "metadata": {},
   "outputs": [],
   "source": [
    "model = sm.OLS(F[\"CMA\"], sm.add_constant(F[[\"rm\", \"SMB\", \"HML\", \"RMW\"]]))\n",
    "\n",
    "fit = model.fit()\n",
    "round(pd.concat({'Coef': fit.params, 'Pval': fit.pvalues}, axis=\"columns\"), 2)"
   ]
  },
  {
   "cell_type": "markdown",
   "metadata": {},
   "source": [
    "## Anomalies"
   ]
  },
  {
   "cell_type": "markdown",
   "metadata": {},
   "source": [
    "### Size-Value"
   ]
  },
  {
   "cell_type": "code",
   "execution_count": null,
   "metadata": {},
   "outputs": [],
   "source": [
    "size_value = pd.read_csv(\"C:/Data/FrenchDartmouth/25_Portfolios_5x5.CSV\")\n",
    "size_value = size_value.iloc[:642, 1:]"
   ]
  },
  {
   "cell_type": "code",
   "execution_count": null,
   "metadata": {},
   "outputs": [],
   "source": [
    "size_value.index = F.index"
   ]
  },
  {
   "cell_type": "code",
   "execution_count": null,
   "metadata": {},
   "outputs": [],
   "source": [
    "factors = ff2015\n",
    "end = \"2013\"\n",
    "k = 5\n",
    "\n",
    "reg_list = []\n",
    "\n",
    "coef_list = []\n",
    "coef_names = [\"a\",] + factors  # [\"a\", \"b\", \"s\", \"v\", \"p\", \"m\"]\n",
    "\n",
    "for coef in coef_names:\n",
    "    coef_list.append({\"name\": coef, \"coef\": [], \"tval\": []})\n",
    "\n",
    "for col in size_value.columns:\n",
    "    reg_list.append(col)\n",
    "    # regress the \"anomaly\" on the factors\n",
    "    model = sm.OLS(size_value[\"1963-07\":end][col]-F[\"1963-07\":end][\"rf\"],\n",
    "                   sm.add_constant(F[\"1963-07\":end][factors]))\n",
    "    fit = model.fit()\n",
    "    # get the coefficients and their p-values\n",
    "    col_coef = list(round(fit.params, 2))\n",
    "    col_tval = list(round(fit.tvalues, 2))\n",
    "    \n",
    "    for i, coef in enumerate(coef_names):\n",
    "        coef_list[i][\"coef\"].append(col_coef[i])\n",
    "        coef_list[i][\"tval\"].append(col_tval[i])\n",
    "\n",
    "for i, coef in enumerate(coef_names):\n",
    "    coef_list[i][\"coef\"] = pd.np.array(coef_list[i][\"coef\"]).reshape(k,k).tolist()\n",
    "    coef_list[i][\"tval\"] = pd.np.array(coef_list[i][\"tval\"]).reshape(k,k).tolist()"
   ]
  },
  {
   "cell_type": "code",
   "execution_count": null,
   "metadata": {},
   "outputs": [],
   "source": [
    "import jinja2\n",
    "import os"
   ]
  },
  {
   "cell_type": "code",
   "execution_count": null,
   "metadata": {},
   "outputs": [],
   "source": [
    "path = \"C:/Users/samth/Dropbox/Thesis/Tex/Tables/\""
   ]
  },
  {
   "cell_type": "code",
   "execution_count": null,
   "metadata": {},
   "outputs": [],
   "source": [
    "env = jinja2.Environment(\n",
    "    block_start_string='-%', block_end_string='%-',\n",
    "    variable_start_string='=%', variable_end_string='%=',\n",
    "    loader=jinja2.FileSystemLoader(path)\n",
    ")"
   ]
  },
  {
   "cell_type": "code",
   "execution_count": null,
   "metadata": {},
   "outputs": [],
   "source": [
    "template = env.get_template(\"5x5_template.txt\")"
   ]
  },
  {
   "cell_type": "code",
   "execution_count": null,
   "metadata": {},
   "outputs": [],
   "source": [
    "context = {\n",
    "    \"var_name\": \"B/M\",\n",
    "    \"title\": \"FF2015\",\n",
    "    \"tbl\": coef_list,\n",
    "    \"caption\": \"Size-Value\",\n",
    "    \"label\": \"25_Size_Value\"\n",
    "}"
   ]
  },
  {
   "cell_type": "code",
   "execution_count": null,
   "metadata": {},
   "outputs": [],
   "source": [
    "with open(os.path.join(path, \"25_Size_Value.tex\"), \"w\") as table:\n",
    "    table.write(template.render(context))"
   ]
  }
 ],
 "metadata": {
  "kernelspec": {
   "display_name": "Python 3",
   "language": "python",
   "name": "python3"
  },
  "language_info": {
   "codemirror_mode": {
    "name": "ipython",
    "version": 3
   },
   "file_extension": ".py",
   "mimetype": "text/x-python",
   "name": "python",
   "nbconvert_exporter": "python",
   "pygments_lexer": "ipython3",
   "version": "3.5.2"
  }
 },
 "nbformat": 4,
 "nbformat_minor": 2
}
