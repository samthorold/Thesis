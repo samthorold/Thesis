{
 "cells": [
  {
   "cell_type": "markdown",
   "metadata": {},
   "source": [
    "# Factors"
   ]
  },
  {
   "cell_type": "code",
   "execution_count": 1,
   "metadata": {},
   "outputs": [
    {
     "name": "stderr",
     "output_type": "stream",
     "text": [
      "c:\\users\\samth\\miniconda3\\envs\\econ\\lib\\site-packages\\statsmodels\\compat\\pandas.py:56: FutureWarning: The pandas.core.datetools module is deprecated and will be removed in a future version. Please use the pandas.tseries module instead.\n",
      "  from pandas.core import datetools\n"
     ]
    }
   ],
   "source": [
    "import pandas as pd\n",
    "from scipy.optimize import minimize\n",
    "import statsmodels.api as sm\n",
    "\n",
    "#%pylab inline"
   ]
  },
  {
   "cell_type": "code",
   "execution_count": 2,
   "metadata": {},
   "outputs": [],
   "source": [
    "# pd.read_csv(\"C:/Data/Thesis/Factors.csv\").set_index(\"date\")\n",
    "\n",
    "F = pd.read_stata(\"C:/Data/Thesis/Factors.dta\").set_index(\"date\")"
   ]
  },
  {
   "cell_type": "code",
   "execution_count": 3,
   "metadata": {},
   "outputs": [],
   "source": [
    "ff2015 = [\"rm\", \"smb\", \"hmlo\", \"rmw\", \"cma\"]\n",
    "ff2016a = [\"rm\", \"smb\", \"hml\", \"RMWr\", \"cma\"]\n",
    "ff2016b = [\"rm\", \"smb\", \"hml\", \"RMWc\", \"cma\"]\n",
    "bs2015 = [\"rm\", \"smb\", \"HMLm\", \"wml\", \"RMWc\"]"
   ]
  },
  {
   "cell_type": "markdown",
   "metadata": {},
   "source": [
    "## Summary Statistics"
   ]
  },
  {
   "cell_type": "markdown",
   "metadata": {},
   "source": [
    "### French Dartmouth Website"
   ]
  },
  {
   "cell_type": "code",
   "execution_count": null,
   "metadata": {},
   "outputs": [],
   "source": [
    "x = [\"SMB\", \"smb\", \"HML\", \"hml\", \"RMW\", \"rmw\", \"CMA\", \"cma\", \"WML\", \"wml\"]\n",
    "tbl = pd.concat({\"Mean\":  F[x].mean(),\n",
    "                 \"Stdev\": F[x].std(),\n",
    "                 \"N\":     F[x].count()}, axis=\"columns\")\n",
    "\n",
    "tbl[\"t-stat\"] = tbl[\"Mean\"] / (tbl[\"Stdev\"] / pd.np.sqrt(tbl[\"N\"]))\n",
    "round(tbl.drop(\"N\", axis=1).transpose(), 2)"
   ]
  },
  {
   "cell_type": "code",
   "execution_count": null,
   "metadata": {},
   "outputs": [],
   "source": [
    "x = [\"HMLs\", \"HMLb\", \"RMWs\", \"RMWb\", \"CMAs\", \"CMAb\", \"WMLs\", \"WMLb\"]\n",
    "tbl = pd.concat({\"Mean\":  F[x].mean(),\n",
    "                 \"Stdev\": F[x].std(),\n",
    "                 \"N\":     F[x].count()}, axis=\"columns\")\n",
    "\n",
    "tbl[\"t-stat\"] = tbl[\"Mean\"] / (tbl[\"Stdev\"] / pd.np.sqrt(tbl[\"N\"]))\n",
    "round(tbl.drop(\"N\", axis=1).transpose(), 2)"
   ]
  },
  {
   "cell_type": "raw",
   "metadata": {
    "collapsed": true
   },
   "source": [
    "round(F[[\"SMB\", \"smb\", \"HML\", \"hml\", \"RMW\", \"rmw\", \"CMA\", \"cma\", \"WML\", \"wml\"]].corr(), 2)"
   ]
  },
  {
   "cell_type": "markdown",
   "metadata": {},
   "source": [
    "### Fama French (2016) _Choosing Factors_"
   ]
  },
  {
   "cell_type": "code",
   "execution_count": null,
   "metadata": {},
   "outputs": [],
   "source": [
    "x = [\"HML\", \"HMLs\", \"HMLb\", \"RMWr\", \"RMWrs\", \"RMWrb\",\n",
    "     \"RMWc\", \"RMWcs\", \"RMWcb\", \"CMA\", \"CMAs\", \"CMAb\"]\n",
    "tbl = pd.concat({\"Mean\":  F[:\"2015\"][x].mean(),\n",
    "                 \"Stdev\": F[:\"2015\"][x].std(),\n",
    "                 \"N\":     F[:\"2015\"][x].count()}, axis=\"columns\")\n",
    "\n",
    "tbl[\"t-stat\"] = tbl[\"Mean\"] / (tbl[\"Stdev\"] / pd.np.sqrt(tbl[\"N\"]))\n",
    "round(tbl.drop(\"N\", axis=1).transpose(), 2)"
   ]
  },
  {
   "cell_type": "markdown",
   "metadata": {},
   "source": [
    "### Table 1"
   ]
  },
  {
   "cell_type": "code",
   "execution_count": null,
   "metadata": {},
   "outputs": [],
   "source": [
    "x = [\"rm\", \"smb\", \"hml\", \"HMLm\", \"RMWc\", \"cma\", \"wml\"]\n",
    "tbl = pd.concat({\"Mean\":  F[x].mean(),\n",
    "                 \"Stdev\": F[x].std(),\n",
    "                 \"N\":     F[x].count()}, axis=\"columns\")\n",
    "\n",
    "tbl[\"t-stat\"] = tbl[\"Mean\"] / (tbl[\"Stdev\"] / pd.np.sqrt(tbl[\"N\"]))\n",
    "tbl[\"Sh\"] = tbl[\"Mean\"] / tbl[\"Stdev\"]\n",
    "tbl[\"Sh2\"] = tbl[\"Sh\"]**2\n",
    "round(tbl.drop(\"N\", axis=1).transpose(), 2)"
   ]
  },
  {
   "cell_type": "markdown",
   "metadata": {},
   "source": [
    "### Value"
   ]
  },
  {
   "cell_type": "code",
   "execution_count": null,
   "metadata": {},
   "outputs": [],
   "source": [
    "x = [\"HMLs\", \"HMLb\", \"HML\", \"HMLcs\", \"HMLcb\", \"HMLc\",\n",
    "     \"HMLms\", \"HMLmb\", \"HMLm\"]\n",
    "tbl = pd.concat({\"Mean\":  F[x].mean(),\n",
    "                 \"Stdev\": F[x].std(),\n",
    "                 \"N\":     F[x].count()}, axis=\"columns\")\n",
    "\n",
    "tbl[\"t-stat\"] = tbl[\"Mean\"] / (tbl[\"Stdev\"] / pd.np.sqrt(tbl[\"N\"]))\n",
    "round(tbl.drop(\"N\", axis=1).transpose(), 2)"
   ]
  },
  {
   "cell_type": "markdown",
   "metadata": {},
   "source": [
    "### Profit"
   ]
  },
  {
   "cell_type": "code",
   "execution_count": null,
   "metadata": {},
   "outputs": [],
   "source": [
    "x = [\"RMWs\", \"RMWb\", \"RMW\", \"RMWrs\", \"RMWrb\", \"RMWr\",\n",
    "     \"RMWgs\", \"RMWgb\", \"RMWg\", \"RMWcs\", \"RMWcb\", \"RMWc\"]\n",
    "tbl = pd.concat({\"Mean\":  F[x].mean(),\n",
    "                 \"Stdev\": F[x].std(),\n",
    "                 \"N\":     F[x].count()}, axis=\"columns\")\n",
    "\n",
    "tbl[\"t-stat\"] = tbl[\"Mean\"] / (tbl[\"Stdev\"] / pd.np.sqrt(tbl[\"N\"]))\n",
    "round(tbl.drop(\"N\", axis=1).transpose(), 2)"
   ]
  },
  {
   "cell_type": "markdown",
   "metadata": {},
   "source": [
    "## Sharpe Ratio"
   ]
  },
  {
   "cell_type": "markdown",
   "metadata": {},
   "source": [
    "We are inverting a matrix - check the condition number."
   ]
  },
  {
   "cell_type": "code",
   "execution_count": null,
   "metadata": {},
   "outputs": [],
   "source": [
    "r = F[:\"2015\"][ff2016a].mean()\n",
    "Vf = F[:\"2015\"][ff2016a].cov()\n",
    "\n",
    "r.dot(pd.np.linalg.pinv(Vf)).dot(r)"
   ]
  },
  {
   "cell_type": "code",
   "execution_count": null,
   "metadata": {},
   "outputs": [],
   "source": [
    "r = F[:\"2015\"][ff2016a].mean().as_matrix()\n",
    "Vf = F[:\"2015\"][ff2016a].cov().as_matrix()\n",
    "\n",
    "r @ pd.np.linalg.pinv(Vf) @ r"
   ]
  },
  {
   "cell_type": "code",
   "execution_count": null,
   "metadata": {},
   "outputs": [],
   "source": [
    "r = F[:\"2015\"][ff2016b].mean()\n",
    "Vf = F[:\"2015\"][ff2016b].cov()\n",
    "\n",
    "r.dot(pd.np.linalg.pinv(Vf)).dot(r)"
   ]
  },
  {
   "cell_type": "code",
   "execution_count": null,
   "metadata": {},
   "outputs": [],
   "source": [
    "r = F[:\"2015\"][bs2015].mean()\n",
    "Vf = F[:\"2015\"][bs2015].cov()\n",
    "\n",
    "r.dot(pd.np.linalg.pinv(Vf)).dot(r)"
   ]
  },
  {
   "cell_type": "code",
   "execution_count": null,
   "metadata": {},
   "outputs": [],
   "source": [
    "r = F[:\"2016\"][bs2015].mean()\n",
    "Vf = F[:\"2016\"][bs2015].cov()\n",
    "\n",
    "r.dot(pd.np.linalg.pinv(Vf)).dot(r)"
   ]
  },
  {
   "cell_type": "code",
   "execution_count": null,
   "metadata": {},
   "outputs": [],
   "source": [
    "r = F[\"2000\":\"2016\"][ff2016b].mean()\n",
    "Vf = F[\"2000\":\"2016\"][ff2016b].cov()\n",
    "\n",
    "r.dot(pd.np.linalg.pinv(Vf)).dot(r)"
   ]
  },
  {
   "cell_type": "code",
   "execution_count": null,
   "metadata": {},
   "outputs": [],
   "source": [
    "r = F[\"2000\":\"2016\"][bs2015].mean()\n",
    "Vf = F[\"2000\":\"2016\"][bs2015].cov()\n",
    "\n",
    "r.dot(pd.np.linalg.pinv(Vf)).dot(r)"
   ]
  },
  {
   "cell_type": "code",
   "execution_count": null,
   "metadata": {},
   "outputs": [],
   "source": [
    "r = F[\"1963\":\"1999\"][ff2016b].mean()\n",
    "Vf = F[\"1963\":\"1999\"][ff2016b].cov()\n",
    "\n",
    "r.dot(pd.np.linalg.pinv(Vf)).dot(r)"
   ]
  },
  {
   "cell_type": "code",
   "execution_count": null,
   "metadata": {},
   "outputs": [],
   "source": [
    "r = F[\"1963\":\"1999\"][bs2015].mean()\n",
    "Vf = F[\"1963\":\"1999\"][bs2015].cov()\n",
    "\n",
    "r.dot(pd.np.linalg.pinv(Vf)).dot(r)"
   ]
  },
  {
   "cell_type": "markdown",
   "metadata": {},
   "source": [
    "## Weights"
   ]
  },
  {
   "cell_type": "markdown",
   "metadata": {},
   "source": [
    "### Sharpe Ratio\n",
    "\n",
    "$$E(R_p) = w'\\bar{R}$$\n",
    "$$Var(R_p) = w'V_Rw$$\n",
    "$$Sh^2(f) = \\bar{f}'V_f^{-1}\\bar{f}$$"
   ]
  },
  {
   "cell_type": "code",
   "execution_count": null,
   "metadata": {},
   "outputs": [],
   "source": [
    "def ERp(w, R):\n",
    "    ER = pd.np.mean(R, axis=0)\n",
    "    return w.transpose() @ ER"
   ]
  },
  {
   "cell_type": "code",
   "execution_count": null,
   "metadata": {},
   "outputs": [],
   "source": [
    "def VRp(w, R):\n",
    "    CoVR = pd.np.cov(R, rowvar=False)\n",
    "    return w.transpose() @ CoVR @ w"
   ]
  },
  {
   "cell_type": "code",
   "execution_count": null,
   "metadata": {},
   "outputs": [],
   "source": [
    "R = F[:\"2016\"][bs2015].as_matrix()\n",
    "CoVR = pd.np.cov(R, rowvar=False)\n",
    "F[:\"2016\"][bs2015].cov().as_matrix() == CoVR"
   ]
  },
  {
   "cell_type": "code",
   "execution_count": null,
   "metadata": {},
   "outputs": [],
   "source": [
    "def Sh2(f):\n",
    "    Ef = pd.np.mean(f, axis=0)\n",
    "    CoVf = pd.np.cov(f, rowvar=False)\n",
    "    return Ef.transpose() @ pd.np.linalg.pinv(CoVf) @ Ef"
   ]
  },
  {
   "cell_type": "code",
   "execution_count": null,
   "metadata": {},
   "outputs": [],
   "source": [
    "def SR(w, R):\n",
    "    return (ERp(w, R) / pd.np.sqrt(VRp(w, R)))"
   ]
  },
  {
   "cell_type": "code",
   "execution_count": null,
   "metadata": {},
   "outputs": [],
   "source": [
    "R = F[bs2015].as_matrix()\n",
    "w = pd.np.matrix([.2, .2, .2, .2, .2]).transpose()"
   ]
  },
  {
   "cell_type": "code",
   "execution_count": null,
   "metadata": {},
   "outputs": [],
   "source": [
    "w.transpose() @ pd.np.mean(R, axis=0), pd.np.mean(w.transpose() @ R.transpose())"
   ]
  },
  {
   "cell_type": "code",
   "execution_count": null,
   "metadata": {},
   "outputs": [],
   "source": [
    "w.shape, R.shape"
   ]
  },
  {
   "cell_type": "code",
   "execution_count": null,
   "metadata": {},
   "outputs": [],
   "source": [
    "ERp(w, R), VRp(w, R), SR(w, R), pd.np.sqrt(Sh2(R))"
   ]
  },
  {
   "cell_type": "markdown",
   "metadata": {},
   "source": [
    "### Objective Function"
   ]
  },
  {
   "cell_type": "code",
   "execution_count": null,
   "metadata": {},
   "outputs": [],
   "source": [
    "def obj_SR(*args, **kwargs):\n",
    "    return -SR(*args, **kwargs)"
   ]
  },
  {
   "cell_type": "code",
   "execution_count": null,
   "metadata": {},
   "outputs": [],
   "source": [
    "obj_SR(w, R)"
   ]
  },
  {
   "cell_type": "code",
   "execution_count": null,
   "metadata": {},
   "outputs": [],
   "source": [
    "# equality constraint functions are set to 0\n",
    "cons = ({\"type\": \"eq\", \"fun\": lambda w: pd.np.sum(w) - 1},)"
   ]
  },
  {
   "cell_type": "code",
   "execution_count": null,
   "metadata": {},
   "outputs": [],
   "source": [
    "R = F[:\"2016\"][bs2015].as_matrix()\n",
    "res = minimize(obj_SR, [.2,.2,.2,.2,.2], args=(R,), constraints=cons)\n",
    "BS2015 = pd.Series(res[\"x\"] @ R.transpose(), index=F.index)\n",
    "bs2015, res[\"x\"].round(2)"
   ]
  },
  {
   "cell_type": "code",
   "execution_count": null,
   "metadata": {},
   "outputs": [],
   "source": [
    "R = F[:\"2016\"][ff2015].as_matrix()\n",
    "res = minimize(obj_SR, [.2,.2,.2,.2,.2], args=(R,), constraints=cons)\n",
    "FF2015 = pd.Series(res[\"x\"] @ R.transpose(), index=F.index)\n",
    "ff2015, res[\"x\"].round(2)"
   ]
  },
  {
   "cell_type": "code",
   "execution_count": null,
   "metadata": {},
   "outputs": [],
   "source": [
    "R = F[:\"2016\"][ff2016a].as_matrix()\n",
    "res = minimize(obj_SR, [.2,.2,.2,.2,.2], args=(R,), constraints=cons)\n",
    "FF2016a = pd.Series(res[\"x\"] @ R.transpose(), index=F.index)\n",
    "ff2016a, res[\"x\"].round(2)"
   ]
  },
  {
   "cell_type": "code",
   "execution_count": null,
   "metadata": {},
   "outputs": [],
   "source": [
    "R = F[:\"2016\"][ff2016b].as_matrix()\n",
    "res = minimize(obj_SR, [.2,.2,.2,.2,.2], args=(R,), constraints=cons)\n",
    "FF2016b = pd.Series(res[\"x\"] @ R.transpose(), index=F.index)\n",
    "ff2016b, res[\"x\"].round(2)"
   ]
  },
  {
   "cell_type": "code",
   "execution_count": null,
   "metadata": {},
   "outputs": [],
   "source": [
    "models = pd.DataFrame(\n",
    "    {\"BS2015\": BS2015,\n",
    "     \"FF2015\": FF2015,\n",
    "     \"FF2016a\": FF2016a,\n",
    "     \"FF2016b\": FF2016b,\n",
    "     \"Rm\": F[\"rm\"]}\n",
    ")"
   ]
  },
  {
   "cell_type": "markdown",
   "metadata": {},
   "source": [
    "## Table 1"
   ]
  },
  {
   "cell_type": "code",
   "execution_count": null,
   "metadata": {},
   "outputs": [],
   "source": [
    "tbl = pd.concat({\"Mean\":  models.mean(),\n",
    "                 \"Stdev\": models.std(),\n",
    "                 \"N\":     models.count()}, axis=\"columns\")\n",
    "\n",
    "tbl[\"t-stat\"] = tbl[\"Mean\"] / (tbl[\"Stdev\"] / pd.np.sqrt(tbl[\"N\"]))\n",
    "tbl[\"Sh\"] = tbl[\"Mean\"] / tbl[\"Stdev\"]\n",
    "round(tbl.drop(\"N\", axis=1).transpose(), 2)"
   ]
  },
  {
   "cell_type": "code",
   "execution_count": null,
   "metadata": {},
   "outputs": [],
   "source": [
    "(models / 100 + 1).cumprod().plot()"
   ]
  },
  {
   "cell_type": "code",
   "execution_count": null,
   "metadata": {},
   "outputs": [],
   "source": [
    "(models[:\"1999\"] / 100 + 1).cumprod().plot()"
   ]
  },
  {
   "cell_type": "code",
   "execution_count": null,
   "metadata": {},
   "outputs": [],
   "source": [
    "(models[\"2000\":] / 100 + 1).cumprod().plot()"
   ]
  },
  {
   "cell_type": "code",
   "execution_count": null,
   "metadata": {},
   "outputs": [],
   "source": [
    "(models[\"1963\":\"1969\"] / 100 + 1).cumprod().plot()"
   ]
  },
  {
   "cell_type": "code",
   "execution_count": null,
   "metadata": {},
   "outputs": [],
   "source": [
    "(models[\"1970\":\"1979\"] / 100 + 1).cumprod().plot()"
   ]
  },
  {
   "cell_type": "code",
   "execution_count": null,
   "metadata": {},
   "outputs": [],
   "source": [
    "(models[\"1980\":\"1989\"] / 100 + 1).cumprod().plot()"
   ]
  },
  {
   "cell_type": "code",
   "execution_count": null,
   "metadata": {},
   "outputs": [],
   "source": [
    "(models[\"1990\":\"1999\"] / 100 + 1).cumprod().plot()"
   ]
  },
  {
   "cell_type": "code",
   "execution_count": null,
   "metadata": {},
   "outputs": [],
   "source": [
    "(models[\"2000\":\"2009\"] / 100 + 1).cumprod().plot()"
   ]
  },
  {
   "cell_type": "code",
   "execution_count": null,
   "metadata": {},
   "outputs": [],
   "source": [
    "(models[\"2010\":\"2016\"] / 100 + 1).cumprod().plot()"
   ]
  },
  {
   "cell_type": "code",
   "execution_count": null,
   "metadata": {},
   "outputs": [],
   "source": [
    "R = F[\"1996\":\"2016\"][bs2015].as_matrix()\n",
    "res = minimize(obj_SR, [.2,.2,.2,.2,.2], args=(R,), constraints=cons)\n",
    "BS2015 = pd.Series(res[\"x\"] @ R.transpose(), index=F[\"1996\":\"2016\"].index)\n",
    "bs2015, res[\"x\"].round(2)"
   ]
  },
  {
   "cell_type": "code",
   "execution_count": null,
   "metadata": {},
   "outputs": [],
   "source": [
    "R = F[\"1996\":\"2016\"][ff2015].as_matrix()\n",
    "res = minimize(obj_SR, [.2,.2,.2,.2,.2], args=(R,), constraints=cons)\n",
    "FF2015 = pd.Series(res[\"x\"] @ R.transpose(), index=F[\"1996\":\"2016\"].index)\n",
    "ff2015, res[\"x\"].round(2)"
   ]
  },
  {
   "cell_type": "code",
   "execution_count": null,
   "metadata": {},
   "outputs": [],
   "source": [
    "R = F[\"1996\":\"2016\"][ff2016a].as_matrix()\n",
    "res = minimize(obj_SR, [.2,.2,.2,.2,.2], args=(R,), constraints=cons)\n",
    "FF2016a = pd.Series(res[\"x\"] @ R.transpose(), index=F[\"1996\":\"2016\"].index)\n",
    "ff2016a, res[\"x\"].round(2)"
   ]
  },
  {
   "cell_type": "code",
   "execution_count": null,
   "metadata": {},
   "outputs": [],
   "source": [
    "R = F[\"1996\":\"2016\"][ff2016b].as_matrix()\n",
    "res = minimize(obj_SR, [.2,.2,.2,.2,.2], args=(R,), constraints=cons)\n",
    "FF2016b = pd.Series(res[\"x\"] @ R.transpose(), index=F[\"1996\":\"2016\"].index)\n",
    "ff2016b, res[\"x\"].round(2)"
   ]
  },
  {
   "cell_type": "code",
   "execution_count": null,
   "metadata": {},
   "outputs": [],
   "source": [
    "models = pd.DataFrame(\n",
    "    {\"BS2015\": BS2015,\n",
    "     \"FF2015\": FF2015,\n",
    "     \"FF2016a\": FF2016a,\n",
    "     \"FF2016b\": FF2016b,\n",
    "     \"Rm\": F[\"1996\":\"2016\"][\"rm\"]}\n",
    ")"
   ]
  },
  {
   "cell_type": "code",
   "execution_count": null,
   "metadata": {},
   "outputs": [],
   "source": [
    "(models / 100 + 1).cumprod().plot()"
   ]
  },
  {
   "cell_type": "markdown",
   "metadata": {},
   "source": [
    "## Spanning Regressions"
   ]
  },
  {
   "cell_type": "markdown",
   "metadata": {},
   "source": [
    "### FF2016 Operating Profit\n",
    "\n",
    "$R^M + SMB + HML + RMW^r + CMA$"
   ]
  },
  {
   "cell_type": "code",
   "execution_count": null,
   "metadata": {},
   "outputs": [],
   "source": [
    "factors = ff2016a\n",
    "end = \"2015\"\n",
    "contrib = []\n",
    "\n",
    "for LHS in factors:\n",
    "    RHS = [RHS for RHS in factors if RHS!=LHS]\n",
    "    model = sm.OLS(F[:end][LHS], sm.add_constant(F[:end][RHS]))\n",
    "    fit = model.fit()\n",
    "\n",
    "    contrib.append(pd.Series({\"name\": LHS,\n",
    "                    \"a\": fit.params[\"const\"],\n",
    "                    \"Stdev\": fit.resid.std(),\n",
    "                    \"contrib\": fit.params[\"const\"]/fit.resid.std()}))\n",
    "\n",
    "pd.DataFrame(contrib).set_index(\"name\")[[\"a\", \"Stdev\", \"contrib\"]].transpose().round(3)"
   ]
  },
  {
   "cell_type": "markdown",
   "metadata": {},
   "source": [
    "### FF2016b Cash Profit\n",
    "\n",
    "$R^M + SMB + HML + RMW^c + CMA$"
   ]
  },
  {
   "cell_type": "code",
   "execution_count": null,
   "metadata": {},
   "outputs": [],
   "source": [
    "factors = ff2016b  #  + [\"wml\",]\n",
    "end = \"2016\"\n",
    "contrib = []\n",
    "\n",
    "for LHS in factors:\n",
    "    RHS = [RHS for RHS in factors if RHS!=LHS]\n",
    "    model = sm.OLS(F[:end][LHS], sm.add_constant(F[:end][RHS]))\n",
    "    fit = model.fit()\n",
    "\n",
    "    contrib.append(pd.Series({\"name\": LHS,\n",
    "                    \"a\": fit.params[\"const\"],\n",
    "                    \"SD\": fit.resid.std(),\n",
    "                    \"N\": len(fit.resid)}))\n",
    "\n",
    "contrib = pd.DataFrame(contrib).set_index(\"name\")  #[[\"a\", \"Stdev\", \"contrib\", \"contrib2\"]].transpose().round(2)\n",
    "contrib[\"SE\"] = contrib[\"SD\"] / contrib[\"N\"]**(1/2)\n",
    "contrib[\"a/SE\"] = contrib[\"a\"] / contrib[\"SE\"]  # From table description\n",
    "contrib[\"a/SD\"] = contrib[\"a\"] / contrib[\"SD\"]  # From text description (sec 1)\n",
    "contrib[\"(a/SE)^2\"] = contrib[\"a/SE\"]**2\n",
    "contrib[\"(a/SD)^2\"] = contrib[\"a/SD\"]**2\n",
    "contrib[[\"a\", \"SD\", \"(a/SE)^2\", \"(a/SD)^2\"]].transpose().round(3)"
   ]
  },
  {
   "cell_type": "markdown",
   "metadata": {},
   "source": [
    "### BS2015\n",
    "\n",
    "$R^M + SMB + HML^m + RMW^c + WML$"
   ]
  },
  {
   "cell_type": "code",
   "execution_count": null,
   "metadata": {},
   "outputs": [],
   "source": [
    "factors = bs2015  #  + [\"cma\",]\n",
    "end = \"2016\"\n",
    "contrib = []\n",
    "\n",
    "for LHS in factors:\n",
    "    RHS = [RHS for RHS in factors if RHS!=LHS]\n",
    "    model = sm.OLS(F[:end][LHS], sm.add_constant(F[:end][RHS]))\n",
    "    fit = model.fit()\n",
    "\n",
    "    contrib.append(pd.Series({\"name\": LHS,\n",
    "                    \"a\": fit.params[\"const\"],\n",
    "                    \"SD\": fit.resid.std(),\n",
    "                    \"N\": len(fit.resid)}))\n",
    "\n",
    "contrib = pd.DataFrame(contrib).set_index(\"name\")  #[[\"a\", \"Stdev\", \"contrib\", \"contrib2\"]].transpose().round(2)\n",
    "contrib[\"SE\"] = contrib[\"SD\"] / contrib[\"N\"]**(1/2)\n",
    "contrib[\"a/SE\"] = contrib[\"a\"] / contrib[\"SE\"]  # From table description\n",
    "contrib[\"a/SD\"] = contrib[\"a\"] / contrib[\"SD\"]  # From text description (sec 1)\n",
    "contrib[\"(a/SE)^2\"] = contrib[\"a/SE\"]**2\n",
    "contrib[\"(a/SD)^2\"] = contrib[\"a/SD\"]**2\n",
    "contrib[[\"a\", \"SD\", \"(a/SE)^2\", \"(a/SD)^2\"]].transpose().round(3)"
   ]
  },
  {
   "cell_type": "code",
   "execution_count": null,
   "metadata": {},
   "outputs": [],
   "source": [
    "LHS = \"cma\"\n",
    "RHS = bs2015\n",
    "\n",
    "model = sm.OLS(F[:end][LHS], sm.add_constant(F[:end][RHS]))\n",
    "fit = model.fit()\n",
    "pd.Series({\"name\": LHS,\n",
    " \"a\": fit.params[\"const\"],\n",
    " \"Stdev\": fit.resid.std(),\n",
    " \"contrib\": (fit.params[\"const\"]/fit.resid.std())**2})"
   ]
  },
  {
   "cell_type": "markdown",
   "metadata": {},
   "source": [
    "## Cumulative Returns"
   ]
  },
  {
   "cell_type": "markdown",
   "metadata": {},
   "source": [
    "### Whole Sample"
   ]
  },
  {
   "cell_type": "raw",
   "metadata": {},
   "source": [
    "(F[ff2015] / 100 + 1).cumprod().plot()"
   ]
  },
  {
   "cell_type": "raw",
   "metadata": {
    "scrolled": true
   },
   "source": [
    "(F[bs2015] / 100 + 1).cumprod().plot()"
   ]
  },
  {
   "cell_type": "markdown",
   "metadata": {},
   "source": [
    "### 2000-"
   ]
  },
  {
   "cell_type": "raw",
   "metadata": {},
   "source": [
    "(F[\"2000\":][ff2015] / 100 + 1).cumprod().plot()"
   ]
  },
  {
   "cell_type": "raw",
   "metadata": {},
   "source": [
    "(F[\"2000\":][bs2015] / 100 + 1).cumprod().plot()"
   ]
  },
  {
   "cell_type": "markdown",
   "metadata": {},
   "source": [
    "## Anomalies"
   ]
  },
  {
   "cell_type": "code",
   "execution_count": 4,
   "metadata": {},
   "outputs": [],
   "source": [
    "def GRS(R, F, factors, start=\"1963\", end=\"2016\"):\n",
    "    \"\"\"\n",
    "    Returns the GRS statistic of Gibbons, Ross and Shanken (1989)\n",
    "    given test assets R and factors F.\n",
    "    \n",
    "    R is expected to be \n",
    "    \"\"\"\n",
    "\n",
    "    alphas = []\n",
    "    errors = []\n",
    "\n",
    "    for p in R.columns:\n",
    "        model = sm.OLS(R[start:end][p] - F[start:end][\"rf\"],\n",
    "                       sm.add_constant(F[start:end][factors]))\n",
    "        fit = model.fit()\n",
    "        alphas.append(fit.params[\"const\"])\n",
    "        errors.append(fit.resid)\n",
    "\n",
    "    alphas = pd.np.array(alphas)\n",
    "    errors = pd.np.array(errors).transpose()\n",
    "\n",
    "    K = F[factors].shape[1]\n",
    "    T, N = errors.shape\n",
    "\n",
    "    Ve = errors.transpose().dot(errors) / (T - K - 1)\n",
    "\n",
    "    r = F[factors].mean().as_matrix()\n",
    "\n",
    "    f = F[factors].as_matrix()\n",
    "\n",
    "    Vf = (f-r).transpose().dot(f-r) / (T - 1)\n",
    "\n",
    "    Sh2_a = alphas.dot(pd.np.linalg.pinv(Ve)).dot(alphas)\n",
    "    Sh2_f = r.dot(pd.np.linalg.pinv(Vf)).dot(r)\n",
    "    Sh2_a, Sh2_f\n",
    "\n",
    "    return (T/N)*((T-N-K)/(T-K-1))*(Sh2_a/(1+Sh2_f))"
   ]
  },
  {
   "cell_type": "code",
   "execution_count": 6,
   "metadata": {},
   "outputs": [],
   "source": [
    "def model_coef_list(factors, LHS, end, k=5):\n",
    "\n",
    "    coef_list = []\n",
    "    coef_names = [\"a\",] + factors\n",
    "    alphas = []\n",
    "\n",
    "    for coef in coef_names:\n",
    "        coef_list.append({\"name\": coef, \"coef\": [], \"tval\": []})\n",
    "\n",
    "    for col in LHS.columns:\n",
    "\n",
    "        # regress the \"anomaly\" on the factors\n",
    "        model = sm.OLS(LHS[\"1963-07\":end][col]-F[\"1963-07\":end][\"rf\"],\n",
    "                       sm.add_constant(F[\"1963-07\":end][factors]))\n",
    "        fit = model.fit()\n",
    "        # get the coefficients and their p-values\n",
    "        col_coef = list(fit.params)\n",
    "        col_tval = list(fit.tvalues)\n",
    "\n",
    "        for i, coef in enumerate(coef_names):\n",
    "            coef_list[i][\"coef\"].append(round(col_coef[i], 2))\n",
    "            coef_list[i][\"tval\"].append(round(col_tval[i], 2))\n",
    "            \n",
    "            if coef_list[i][\"name\"]==\"a\":\n",
    "                alphas.append(col_coef[i])\n",
    "\n",
    "    for i, coef in enumerate(coef_names):\n",
    "        coef_list[i][\"coef\"] = pd.np.array(coef_list[i][\"coef\"]).reshape(k,k).tolist()\n",
    "        coef_list[i][\"tval\"] = pd.np.array(coef_list[i][\"tval\"]).reshape(k,k).tolist()\n",
    "    \n",
    "    return coef_list, alphas"
   ]
  },
  {
   "cell_type": "code",
   "execution_count": 7,
   "metadata": {},
   "outputs": [],
   "source": [
    "import jinja2\n",
    "import os\n",
    "\n",
    "path = \"C:/Users/samth/Dropbox/Thesis/Tex/Tables/\"\n",
    "\n",
    "env = jinja2.Environment(\n",
    "    block_start_string='-%', block_end_string='%-',\n",
    "    variable_start_string='=%', variable_end_string='%=',\n",
    "    loader=jinja2.FileSystemLoader(path)\n",
    ")"
   ]
  },
  {
   "cell_type": "code",
   "execution_count": 8,
   "metadata": {},
   "outputs": [],
   "source": [
    "template = env.get_template(\"5x5_template.txt\")"
   ]
  },
  {
   "cell_type": "markdown",
   "metadata": {},
   "source": [
    "### Size-Value (Replication)"
   ]
  },
  {
   "cell_type": "markdown",
   "metadata": {},
   "source": [
    "#### French Dartmouth Anomaly"
   ]
  },
  {
   "cell_type": "code",
   "execution_count": 9,
   "metadata": {},
   "outputs": [],
   "source": [
    "size_value = pd.read_csv(\"C:/Data/FrenchDartmouth/25_Portfolios_5x5.CSV\")\n",
    "size_value = size_value.iloc[:642, 1:]\n",
    "size_value.index = F.index"
   ]
  },
  {
   "cell_type": "code",
   "execution_count": 10,
   "metadata": {},
   "outputs": [
    {
     "data": {
      "text/plain": [
       "'3.20, 2.27, 2.21, 2.66'"
      ]
     },
     "execution_count": 10,
     "metadata": {},
     "output_type": "execute_result"
    }
   ],
   "source": [
    "a = size_value\n",
    "\"{:.2f}, {:.2f}, {:.2f}, {:.2f}\".format(GRS(a, F, ff2015), GRS(a, F, ff2016a), GRS(a, F, ff2016b), GRS(a, F, bs2015))"
   ]
  },
  {
   "cell_type": "markdown",
   "metadata": {},
   "source": [
    "#### FF2015"
   ]
  },
  {
   "cell_type": "code",
   "execution_count": 11,
   "metadata": {},
   "outputs": [],
   "source": [
    "coef_list, alphas = model_coef_list(ff2015, size_value, \"2013\")"
   ]
  },
  {
   "cell_type": "code",
   "execution_count": null,
   "metadata": {},
   "outputs": [],
   "source": [
    "a = pd.read_csv(\"C:/Data/FrenchDartmouth/32_Portfolios_ME_OP_INV_2x4x4.CSV\")\n",
    "# a = pd.read_csv(\"C:/Data/FrenchDartmouth/25_Portfolios_5x5.CSV\")\n",
    "a = a.iloc[:642, 1:]\n",
    "a.index = F.index\n",
    "\n",
    "factors = ff2015\n",
    "LHS = a\n",
    "start, end = \"1963-07\", \"2013-12\"\n",
    "precision = 2\n",
    "\n",
    "K = 2\n",
    "j = 4\n",
    "\n",
    "transpose_j = True\n",
    "\n",
    "coef_names = [\"a\", \"b\", \"s\", \"v\", \"p\", \"i\"]\n",
    "\n",
    "\n",
    "N = len(LHS.columns)\n",
    "A = dict(\n",
    "    zip(\n",
    "        coef_names,\n",
    "        [[[[[], []] for k in range(K)] for row in range(j)] for i in range(len(coef_names))]\n",
    "    )\n",
    ")\n",
    "\n",
    "for lhsi, lhs in enumerate(LHS.columns):\n",
    "\n",
    "    lhs = LHS[start:end][lhs] - F[start:end][\"rf\"]\n",
    "    rhs = sm.add_constant(F[start:end][factors])\n",
    "\n",
    "    # regress the \"anomaly\" on the factors\n",
    "    model = sm.OLS(lhs, rhs)\n",
    "    fit = model.fit()\n",
    "\n",
    "    # get the coefficients and their t-values\n",
    "    coef = [round(b, precision) for b in fit.params]\n",
    "    tval = [round(t, precision) for t in fit.tvalues]\n",
    "    \n",
    "    for namei, name in enumerate(coef_names):\n",
    "\n",
    "        k = int(lhsi//(N/K))\n",
    "        A[name][k][0].append(coef[namei])\n",
    "        A[name][k][1].append(tval[namei])\n",
    "\n",
    "for namei, name in enumerate(coef_names):\n",
    "    for k, coef in enumerate(A[name]):\n",
    "        coef = pd.np.array(A[name][k][0]).reshape(j, j)\n",
    "        if transpose_j: coef = coef.transpose()\n",
    "        A[name][k][0] = coef.tolist()\n",
    "        \n",
    "        tval = pd.np.array(A[name][k][1]).reshape(j, j)\n",
    "        if transpose_j: tval = tval.transpose()\n",
    "        A[name][k][1] = tval.tolist()"
   ]
  },
  {
   "cell_type": "code",
   "execution_count": 96,
   "metadata": {
    "scrolled": true
   },
   "outputs": [
    {
     "data": {
      "text/plain": [
       "[[[[], []], [[], []]],\n",
       " [[[], []], [[], []]],\n",
       " [[[], []], [[], []]],\n",
       " [[[], []], [[], []]],\n",
       " [[[], []], [[], []]],\n",
       " [[[], []], [[], []]]]"
      ]
     },
     "execution_count": 96,
     "metadata": {},
     "output_type": "execute_result"
    }
   ],
   "source": [
    "# For a 2x4x4, I want 4 rows of two pairs of lists\n",
    "[[[[], []] for k in range(K)] for i in range(len(coef_names))]"
   ]
  },
  {
   "cell_type": "code",
   "execution_count": 101,
   "metadata": {},
   "outputs": [
    {
     "data": {
      "text/plain": [
       "{'a': [[[[], []], [[], []]],\n",
       "  [[[], []], [[], []]],\n",
       "  [[[], []], [[], []]],\n",
       "  [[[], []], [[], []]]],\n",
       " 'b': [[[[], []], [[], []]],\n",
       "  [[[], []], [[], []]],\n",
       "  [[[], []], [[], []]],\n",
       "  [[[], []], [[], []]]],\n",
       " 'i': [[[[], []], [[], []]],\n",
       "  [[[], []], [[], []]],\n",
       "  [[[], []], [[], []]],\n",
       "  [[[], []], [[], []]]],\n",
       " 'p': [[[[], []], [[], []]],\n",
       "  [[[], []], [[], []]],\n",
       "  [[[], []], [[], []]],\n",
       "  [[[], []], [[], []]]],\n",
       " 's': [[[[], []], [[], []]],\n",
       "  [[[], []], [[], []]],\n",
       "  [[[], []], [[], []]],\n",
       "  [[[], []], [[], []]]],\n",
       " 'v': [[[[], []], [[], []]],\n",
       "  [[[], []], [[], []]],\n",
       "  [[[], []], [[], []]],\n",
       "  [[[], []], [[], []]]]}"
      ]
     },
     "execution_count": 101,
     "metadata": {},
     "output_type": "execute_result"
    }
   ],
   "source": [
    "\n",
    "dict(\n",
    "    zip(\n",
    "        coef_names,\n",
    "        [[[[[], []] for k in range(K)] for row in range(j)] for i in range(len(coef_names))]\n",
    "    )\n",
    ")\n"
   ]
  },
  {
   "cell_type": "code",
   "execution_count": 93,
   "metadata": {},
   "outputs": [
    {
     "data": {
      "text/plain": [
       "{'a': [[[[0.03, -0.02, 0.16, 0.12],\n",
       "    [0.13, -0.0, 0.03, 0.0],\n",
       "    [-0.15, 0.15, 0.04, 0.13],\n",
       "    [-0.49, -0.2, -0.08, -0.11]],\n",
       "   [[0.45, -0.27, 1.95, 1.42],\n",
       "    [1.91, -0.0, 0.5, 0.04],\n",
       "    [-1.84, 2.43, 0.8, 2.44],\n",
       "    [-6.06, -2.64, -1.48, -2.14]]],\n",
       "  [[[0.05, -0.12, 0.0, -0.11],\n",
       "    [-0.24, -0.08, 0.07, 0.01],\n",
       "    [0.05, -0.06, -0.08, 0.03],\n",
       "    [0.17, -0.26, 0.07, 0.33]],\n",
       "   [[0.67, -1.56, 0.06, -1.35],\n",
       "    [-2.49, -1.1, 0.99, 0.16],\n",
       "    [0.62, -0.64, -1.02, 0.42],\n",
       "    [2.01, -2.88, 0.81, 3.93]]]],\n",
       " 'b': [[[[1.1, 1.05, 1.02, 1.11],\n",
       "    [1.0, 0.97, 0.9, 1.02],\n",
       "    [1.05, 0.91, 0.92, 0.99],\n",
       "    [1.06, 1.07, 1.06, 1.12]],\n",
       "   [[62.44, 57.24, 50.69, 51.66],\n",
       "    [61.33, 71.01, 68.22, 65.42],\n",
       "    [51.55, 59.93, 72.3, 74.71],\n",
       "    [54.03, 56.9, 75.85, 86.2]]],\n",
       "  [[[1.13, 1.01, 1.02, 1.04],\n",
       "    [1.02, 0.9, 0.96, 0.94],\n",
       "    [1.04, 1.06, 0.99, 0.96],\n",
       "    [1.01, 1.1, 1.07, 1.03]],\n",
       "   [[59.08, 53.57, 49.97, 51.45],\n",
       "    [43.56, 49.6, 54.24, 49.95],\n",
       "    [49.26, 50.4, 54.29, 53.33],\n",
       "    [49.44, 49.42, 52.26, 50.25]]]],\n",
       " 'i': [[[[0.25, 0.63, 0.68, 0.62],\n",
       "    [0.26, 0.57, 0.51, 0.47],\n",
       "    [0.12, 0.25, 0.34, 0.22],\n",
       "    [-0.63, -0.16, -0.09, -0.23]],\n",
       "   [[6.56, 16.3, 15.98, 13.62],\n",
       "    [7.63, 19.63, 18.25, 14.25],\n",
       "    [2.79, 7.7, 12.42, 7.81],\n",
       "    [-15.12, -4.1, -3.22, -8.19]]],\n",
       "  [[[0.48, 0.7, 0.65, 0.57],\n",
       "    [0.31, 0.39, 0.26, 0.25],\n",
       "    [0.22, 0.29, 0.03, -0.09],\n",
       "    [-0.53, -0.27, -0.5, -0.77]],\n",
       "   [[11.91, 17.72, 14.95, 13.32],\n",
       "    [6.32, 10.23, 6.78, 6.16],\n",
       "    [4.83, 6.52, 0.87, -2.45],\n",
       "    [-12.21, -5.72, -11.52, -17.73]]]],\n",
       " 'p': [[[[-0.64, 0.15, 0.3, 0.49],\n",
       "    [-0.37, 0.25, 0.32, 0.52],\n",
       "    [-0.37, 0.06, 0.31, 0.52],\n",
       "    [-0.81, 0.1, 0.23, 0.49]],\n",
       "   [[-19.21, 4.31, 7.9, 12.14],\n",
       "    [-12.16, 9.76, 12.67, 17.56],\n",
       "    [-9.55, 1.96, 12.95, 20.73],\n",
       "    [-22.02, 2.89, 8.68, 20.01]]],\n",
       "  [[[-0.38, 0.15, 0.31, 0.38],\n",
       "    [-0.29, -0.04, 0.18, 0.36],\n",
       "    [-0.32, 0.12, 0.2, 0.41],\n",
       "    [-0.67, 0.1, 0.1, 0.16]],\n",
       "   [[-10.49, 4.13, 7.96, 10.06],\n",
       "    [-6.48, -1.3, 5.37, 10.19],\n",
       "    [-8.07, 3.03, 5.69, 11.96],\n",
       "    [-17.37, 2.31, 2.57, 4.0]]]],\n",
       " 's': [[[[1.16, 0.85, 0.88, 0.94],\n",
       "    [0.96, 0.7, 0.7, 0.81],\n",
       "    [0.96, 0.87, 0.77, 0.84],\n",
       "    [1.04, 0.97, 0.94, 1.0]],\n",
       "   [[47.2, 33.4, 31.16, 31.32],\n",
       "    [42.27, 36.79, 37.86, 37.2],\n",
       "    [33.88, 40.79, 43.26, 45.22],\n",
       "    [38.28, 36.96, 48.21, 54.98]]],\n",
       "  [[[-0.09, -0.07, -0.09, -0.02],\n",
       "    [-0.05, -0.07, -0.12, -0.12],\n",
       "    [-0.16, -0.11, -0.12, -0.14],\n",
       "    [-0.02, -0.02, -0.05, -0.02]],\n",
       "   [[-3.33, -2.63, -3.1, -0.78],\n",
       "    [-1.55, -2.9, -4.65, -4.45],\n",
       "    [-5.44, -3.87, -4.69, -5.4],\n",
       "    [-0.62, -0.66, -1.9, -0.75]]]],\n",
       " 'v': [[[[-0.14, 0.25, 0.2, 0.26],\n",
       "    [-0.02, 0.34, 0.32, 0.31],\n",
       "    [-0.02, 0.16, 0.29, 0.22],\n",
       "    [-0.17, 0.05, 0.1, 0.14]],\n",
       "   [[-4.08, 7.0, 5.13, 6.23],\n",
       "    [-0.61, 12.86, 12.39, 10.25],\n",
       "    [-0.46, 5.47, 11.95, 8.35],\n",
       "    [-4.43, 1.5, 3.78, 5.7]]],\n",
       "  [[[0.02, -0.01, 0.04, -0.08],\n",
       "    [0.23, 0.16, 0.03, -0.03],\n",
       "    [0.38, 0.19, 0.07, -0.09],\n",
       "    [0.06, 0.13, -0.04, -0.14]],\n",
       "   [[0.67, -0.17, 0.99, -2.17],\n",
       "    [5.0, 4.51, 0.93, -0.78],\n",
       "    [9.2, 4.7, 1.9, -2.57],\n",
       "    [1.58, 3.01, -1.06, -3.59]]]]}"
      ]
     },
     "execution_count": 93,
     "metadata": {},
     "output_type": "execute_result"
    }
   ],
   "source": [
    "A"
   ]
  },
  {
   "cell_type": "code",
   "execution_count": 55,
   "metadata": {},
   "outputs": [
    {
     "data": {
      "text/plain": [
       "{'a': [([], [])],\n",
       " 'b': [([], [])],\n",
       " 'i': [([], [])],\n",
       " 'p': [([], [])],\n",
       " 's': [([], [])],\n",
       " 'v': [([], [])]}"
      ]
     },
     "execution_count": 55,
     "metadata": {},
     "output_type": "execute_result"
    }
   ],
   "source": [
    "dict(zip(coef_names, [[([], []) for n in range(1)] for i in range(len(coef_names))]))"
   ]
  },
  {
   "cell_type": "code",
   "execution_count": 57,
   "metadata": {},
   "outputs": [
    {
     "data": {
      "text/plain": [
       "1"
      ]
     },
     "execution_count": 57,
     "metadata": {},
     "output_type": "execute_result"
    }
   ],
   "source": []
  },
  {
   "cell_type": "code",
   "execution_count": 12,
   "metadata": {},
   "outputs": [
    {
     "data": {
      "text/plain": [
       "[{'coef': [[-0.29, 0.11, -0.03, 0.17, 0.12],\n",
       "   [-0.11, -0.06, 0.0, 0.02, -0.04],\n",
       "   [0.02, 0.01, -0.09, -0.01, 0.0],\n",
       "   [0.18, -0.21, -0.18, 0.05, -0.11],\n",
       "   [0.12, -0.1, -0.09, -0.26, -0.02]],\n",
       "  'name': 'a',\n",
       "  'tval': [[-3.17, 1.73, -0.45, 3.03, 2.03],\n",
       "   [-1.67, -1.13, 0.08, 0.31, -0.61],\n",
       "   [0.33, 0.22, -1.35, -0.11, 0.05],\n",
       "   [2.76, -3.05, -2.52, 0.72, -1.19],\n",
       "   [2.59, -1.74, -1.29, -3.82, -0.2]]},\n",
       " {'coef': [[1.04, 0.94, 0.94, 0.88, 0.98],\n",
       "   [1.09, 1.02, 0.98, 0.98, 1.09],\n",
       "   [1.06, 1.05, 1.01, 1.01, 1.11],\n",
       "   [1.05, 1.11, 1.09, 1.04, 1.18],\n",
       "   [0.97, 1.03, 0.98, 1.05, 1.08]],\n",
       "  'name': 'rm',\n",
       "  'tval': [[47.14, 57.85, 68.84, 63.78, 66.77],\n",
       "   [70.3, 75.22, 73.21, 78.69, 77.45],\n",
       "   [70.55, 66.16, 64.71, 66.02, 59.5],\n",
       "   [66.15, 64.98, 61.97, 61.27, 53.98],\n",
       "   [86.66, 73.36, 55.16, 63.54, 44.74]]},\n",
       " {'coef': [[1.24, 1.23, 1.08, 1.06, 1.09],\n",
       "   [0.96, 0.93, 0.83, 0.74, 0.9],\n",
       "   [0.7, 0.61, 0.5, 0.46, 0.61],\n",
       "   [0.36, 0.28, 0.26, 0.23, 0.31],\n",
       "   [-0.21, -0.14, -0.2, -0.16, -0.12]],\n",
       "  'name': 'smb',\n",
       "  'tval': [[40.29, 54.33, 56.88, 54.96, 53.18],\n",
       "   [44.42, 48.97, 44.41, 42.3, 45.88],\n",
       "   [33.52, 27.35, 22.99, 21.76, 23.24],\n",
       "   [16.33, 11.85, 10.59, 9.92, 10.17],\n",
       "   [-13.19, -6.94, -8.13, -6.98, -3.59]]},\n",
       " {'coef': [[-0.41, -0.15, 0.12, 0.26, 0.5],\n",
       "   [-0.44, -0.01, 0.27, 0.42, 0.68],\n",
       "   [-0.42, 0.09, 0.34, 0.49, 0.67],\n",
       "   [-0.44, 0.06, 0.34, 0.5, 0.76],\n",
       "   [-0.31, 0.03, 0.26, 0.69, 0.99]],\n",
       "  'name': 'hmlo',\n",
       "  'tval': [[-9.61, -4.66, 4.45, 9.53, 17.55],\n",
       "   [-14.8, -0.52, 10.2, 17.37, 24.88],\n",
       "   [-14.29, 2.99, 11.35, 16.44, 18.62],\n",
       "   [-14.28, 1.72, 10.0, 15.08, 18.0],\n",
       "   [-14.56, 1.25, 7.64, 21.51, 21.22]]},\n",
       " {'coef': [[-0.54, -0.36, 0.0, 0.01, 0.09],\n",
       "   [-0.2, 0.11, 0.26, 0.2, 0.14],\n",
       "   [-0.21, 0.21, 0.27, 0.27, 0.3],\n",
       "   [-0.19, 0.27, 0.3, 0.15, 0.18],\n",
       "   [0.13, 0.22, 0.17, 0.17, -0.09]],\n",
       "  'name': 'rmw',\n",
       "  'tval': [[-12.91, -11.9, 0.02, 0.4, 3.2],\n",
       "   [-6.86, 4.12, 10.25, 8.58, 5.23],\n",
       "   [-7.25, 6.91, 9.18, 9.38, 8.39],\n",
       "   [-6.36, 8.49, 8.94, 4.58, 4.32],\n",
       "   [6.32, 8.39, 4.93, 5.57, -1.89]]},\n",
       " {'coef': [[-0.55, -0.12, 0.18, 0.33, 0.58],\n",
       "   [-0.59, 0.03, 0.31, 0.51, 0.68],\n",
       "   [-0.65, 0.12, 0.39, 0.61, 0.77],\n",
       "   [-0.5, 0.32, 0.52, 0.61, 0.74],\n",
       "   [-0.38, 0.24, 0.44, 0.68, 0.63]],\n",
       "  'name': 'cma',\n",
       "  'tval': [[-11.88, -3.62, 6.27, 11.37, 18.77],\n",
       "   [-17.92, 0.96, 10.78, 19.33, 22.68],\n",
       "   [-20.42, 3.46, 11.88, 18.71, 19.47],\n",
       "   [-15.0, 8.7, 13.89, 16.87, 15.95],\n",
       "   [-16.13, 7.97, 11.77, 19.22, 12.36]]}]"
      ]
     },
     "execution_count": 12,
     "metadata": {},
     "output_type": "execute_result"
    }
   ],
   "source": [
    "coef_list"
   ]
  },
  {
   "cell_type": "code",
   "execution_count": null,
   "metadata": {},
   "outputs": [],
   "source": [
    "context = {\n",
    "    \"var_name\": \"B/M\",\n",
    "    \"title\": r'R^i=a^i+\\beta^iMkt+s^iSize+v^iVal+p^iProf+i^iInv',\n",
    "    \"tbl\": coef_list,\n",
    "    \"caption\": r\"Size-Value Portfolios with FF2015 Factors. \\footnotesize{July, 1963 through December, 2013 (606 Months).}\",\n",
    "    \"label\": \"tbl:25_Size_Value_FF2015_FF\"\n",
    "}"
   ]
  },
  {
   "cell_type": "code",
   "execution_count": null,
   "metadata": {},
   "outputs": [],
   "source": [
    "with open(os.path.join(path, \"25_Size_Value_FF2015_FF_196307_201312.tex\"), \"w\") as table:\n",
    "    table.write(template.render(context))"
   ]
  },
  {
   "cell_type": "markdown",
   "metadata": {},
   "source": [
    "#### My Anomaly"
   ]
  },
  {
   "cell_type": "code",
   "execution_count": null,
   "metadata": {},
   "outputs": [],
   "source": [
    "size_value = pd.read_csv(\"C:/Data/Thesis/ME_BM_al_25_Returns.csv\")\n",
    "size_value = size_value.iloc[:642, 1:]\n",
    "size_value.index = F.index"
   ]
  },
  {
   "cell_type": "code",
   "execution_count": null,
   "metadata": {},
   "outputs": [],
   "source": [
    "# I am missing values for all of 1963 for the Small-LoBM Portfolio\n",
    "size_value = size_value.fillna(0)"
   ]
  },
  {
   "cell_type": "markdown",
   "metadata": {},
   "source": [
    "#### FF2015"
   ]
  },
  {
   "cell_type": "code",
   "execution_count": null,
   "metadata": {},
   "outputs": [],
   "source": [
    "coef_list, alphas = model_coef_list([\"rm\", \"SMB\", \"HMLo\", \"RMW\", \"CMA\"], size_value, \"2013\")"
   ]
  },
  {
   "cell_type": "code",
   "execution_count": null,
   "metadata": {},
   "outputs": [],
   "source": [
    "context = {\n",
    "    \"var_name\": \"B/M\",\n",
    "    \"title\": r'R^i=a^i+\\beta^iMkt+s^iSize+v^iVal+p^iProf+i^iInv',\n",
    "    \"tbl\": coef_list,\n",
    "    \"caption\": r\"Replicated Size-Value Portfolios with FF2015 Factors. \\footnotesize{July, 1963 through December, 2013 (606 Months).}\",\n",
    "    \"label\": \"tbl:25_Size_Value_FF2015\"\n",
    "}"
   ]
  },
  {
   "cell_type": "code",
   "execution_count": null,
   "metadata": {},
   "outputs": [],
   "source": [
    "with open(os.path.join(path, \"25_Size_Value_FF2015_196307_201312.tex\"), \"w\") as table:\n",
    "    table.write(template.render(context))"
   ]
  },
  {
   "cell_type": "markdown",
   "metadata": {},
   "source": [
    "### Size-Investment"
   ]
  },
  {
   "cell_type": "code",
   "execution_count": null,
   "metadata": {},
   "outputs": [],
   "source": [
    "a = pd.read_csv(\"C:/Data/FrenchDartmouth/25_Portfolios_ME_INV_5x5.CSV\")\n",
    "a = a.iloc[:642, 1:]\n",
    "a.index = F.index"
   ]
  },
  {
   "cell_type": "code",
   "execution_count": null,
   "metadata": {},
   "outputs": [],
   "source": [
    "\"{:.2f}, {:.2f}, {:.2f}, {:.2f}\".format(GRS(a, F, ff2015), GRS(a, F, ff2016a), GRS(a, F, ff2016b), GRS(a, F, bs2015))"
   ]
  },
  {
   "cell_type": "markdown",
   "metadata": {},
   "source": [
    "#### FF2015"
   ]
  },
  {
   "cell_type": "code",
   "execution_count": null,
   "metadata": {},
   "outputs": [],
   "source": [
    "coef_list, alphas = model_coef_list(ff2015, a, \"2016\")"
   ]
  },
  {
   "cell_type": "code",
   "execution_count": null,
   "metadata": {},
   "outputs": [],
   "source": [
    "context = {\n",
    "    \"var_name\": \"Inv\",\n",
    "    \"title\": r'R^i=a^i+\\beta^iMkt+s^iSize+v^iVal+p^iProf+i^iInv',\n",
    "    \"tbl\": coef_list,\n",
    "    \"caption\": r\"Size-Inv Portfolios with FF2015 Factors. \\footnotesize{July, 1963 through December, 2016 (642 Months).}\",\n",
    "    \"label\": \"tbl:25_Size_Inv_FF2015\"\n",
    "}"
   ]
  },
  {
   "cell_type": "code",
   "execution_count": null,
   "metadata": {},
   "outputs": [],
   "source": [
    "with open(os.path.join(path, \"25_Size_Inv_FF2015_196307_201612.tex\"), \"w\") as table:\n",
    "    table.write(template.render(context))"
   ]
  },
  {
   "cell_type": "markdown",
   "metadata": {},
   "source": [
    "#### FF2016a"
   ]
  },
  {
   "cell_type": "code",
   "execution_count": null,
   "metadata": {},
   "outputs": [],
   "source": [
    "GRS(a, F, bs2015)"
   ]
  },
  {
   "cell_type": "code",
   "execution_count": null,
   "metadata": {},
   "outputs": [],
   "source": [
    "coef_list, alphas = model_coef_list(ff2016a, a, \"2016\")"
   ]
  },
  {
   "cell_type": "code",
   "execution_count": null,
   "metadata": {},
   "outputs": [],
   "source": [
    "context = {\n",
    "    \"var_name\": \"Inv\",\n",
    "    \"title\": r'R^i=a^i+\\beta^iMkt+s^iSize+v^iVal+p^iProf+i^iInv',\n",
    "    \"tbl\": coef_list,\n",
    "    \"caption\": r\"Size-Inv Portfolios with FF2016a Factors.\\footnotesize{July, 1963 through December, 2016 (642 Months).}\",\n",
    "    \"label\": \"tbl:25_Size_Inv_FF2016a\"\n",
    "}"
   ]
  },
  {
   "cell_type": "code",
   "execution_count": null,
   "metadata": {},
   "outputs": [],
   "source": [
    "with open(os.path.join(path, \"25_Size_Inv_FF2016a_196307_201612.tex\"), \"w\") as table:\n",
    "    table.write(template.render(context))"
   ]
  },
  {
   "cell_type": "markdown",
   "metadata": {},
   "source": [
    "#### FF2016b"
   ]
  },
  {
   "cell_type": "code",
   "execution_count": null,
   "metadata": {},
   "outputs": [],
   "source": [
    "coef_list, alphas = model_coef_list(ff2016b, a, \"2016\")"
   ]
  },
  {
   "cell_type": "code",
   "execution_count": null,
   "metadata": {},
   "outputs": [],
   "source": [
    "context = {\n",
    "    \"var_name\": \"Inv\",\n",
    "    \"title\": r'R^i=a^i+\\beta^iMkt+s^iSize+v^iVal+p^iProf+i^iInv',\n",
    "    \"tbl\": coef_list,\n",
    "    \"caption\": r\"Size-Inv Portfolios with FF2016b Factors. \\footnotesize{July, 1963 through December, 2016 (642 Months).}\",\n",
    "    \"label\": \"tbl:25_Size_Inv_FF2016b\"\n",
    "}"
   ]
  },
  {
   "cell_type": "code",
   "execution_count": null,
   "metadata": {},
   "outputs": [],
   "source": [
    "with open(os.path.join(path, \"25_Size_Inv_FF2016b_196307_201612.tex\"), \"w\") as table:\n",
    "    table.write(template.render(context))"
   ]
  },
  {
   "cell_type": "markdown",
   "metadata": {},
   "source": [
    "#### BS2015"
   ]
  },
  {
   "cell_type": "code",
   "execution_count": null,
   "metadata": {},
   "outputs": [],
   "source": [
    "coef_list, alphas = model_coef_list(bs2015, a, \"2016\")"
   ]
  },
  {
   "cell_type": "code",
   "execution_count": null,
   "metadata": {},
   "outputs": [],
   "source": [
    "context = {\n",
    "    \"var_name\": \"Inv\",\n",
    "    \"title\": r'R^i=a^i+\\beta^iMkt+s^iSize+v^iVal+m^iMom+p^iProf',\n",
    "    \"tbl\": coef_list,\n",
    "    \"caption\": r\"Size-Inv Portfolios with BS2015 Factors. \\footnotesize{July, 1963 through December, 2016 (642 Months).}\",\n",
    "    \"label\": \"tbl:25_Size_Inv_BS2015\"\n",
    "}"
   ]
  },
  {
   "cell_type": "code",
   "execution_count": null,
   "metadata": {},
   "outputs": [],
   "source": [
    "with open(os.path.join(path, \"25_Size_Inv_BS2015_196307_201612.tex\"), \"w\") as table:\n",
    "    table.write(template.render(context))"
   ]
  },
  {
   "cell_type": "markdown",
   "metadata": {},
   "source": [
    "### Size-Volatility"
   ]
  },
  {
   "cell_type": "code",
   "execution_count": null,
   "metadata": {},
   "outputs": [],
   "source": [
    "a = pd.read_csv(\"C:/Data/FrenchDartmouth/25_Portfolios_ME_VAR_5x5.CSV\")\n",
    "a = a.iloc[:642, 1:]\n",
    "a.index = F.index"
   ]
  },
  {
   "cell_type": "code",
   "execution_count": null,
   "metadata": {},
   "outputs": [],
   "source": [
    "\"{:.2f}, {:.2f}, {:.2f}, {:.2f}\".format(GRS(a, F, ff2015), GRS(a, F, ff2016a), GRS(a, F, ff2016b), GRS(a, F, bs2015))"
   ]
  },
  {
   "cell_type": "markdown",
   "metadata": {},
   "source": [
    "#### FF2015"
   ]
  },
  {
   "cell_type": "code",
   "execution_count": null,
   "metadata": {},
   "outputs": [],
   "source": [
    "coef_list, alphas = model_coef_list(ff2015, a, \"2016\")"
   ]
  },
  {
   "cell_type": "code",
   "execution_count": null,
   "metadata": {},
   "outputs": [],
   "source": [
    "context = {\n",
    "    \"var_name\": \"Vol\",\n",
    "    \"title\": r'R^i=a^i+\\beta^iMkt+s^iSize+v^iVal+p^iProf+i^iInv',\n",
    "    \"tbl\": coef_list,\n",
    "    \"caption\": r\"Size-Vol Portfolios with FF2015 Factors. \\footnotesize{July, 1963 through December, 2016 (642 Months).}\",\n",
    "    \"label\": \"tbl:25_Size_Vol_FF2015\"\n",
    "}"
   ]
  },
  {
   "cell_type": "code",
   "execution_count": null,
   "metadata": {},
   "outputs": [],
   "source": [
    "with open(os.path.join(path, \"25_Size_Vol_FF2015_196307_201612.tex\"), \"w\") as table:\n",
    "    table.write(template.render(context))"
   ]
  },
  {
   "cell_type": "markdown",
   "metadata": {},
   "source": [
    "#### FF2016a"
   ]
  },
  {
   "cell_type": "code",
   "execution_count": null,
   "metadata": {},
   "outputs": [],
   "source": [
    "coef_list, alphas = model_coef_list(ff2016a, a, \"2016\")"
   ]
  },
  {
   "cell_type": "code",
   "execution_count": null,
   "metadata": {},
   "outputs": [],
   "source": [
    "context = {\n",
    "    \"var_name\": \"Vol\",\n",
    "    \"title\": r'R^i=a^i+\\beta^iMkt+s^iSize+v^iVal+p^iProf+i^iInv',\n",
    "    \"tbl\": coef_list,\n",
    "    \"caption\": r\"Size-Vol Portfolios with FF2016a Factors.\\footnotesize{July, 1963 through December, 2016 (642 Months).}\",\n",
    "    \"label\": \"tbl:25_Size_Vol_FF2016a\"\n",
    "}"
   ]
  },
  {
   "cell_type": "code",
   "execution_count": null,
   "metadata": {},
   "outputs": [],
   "source": [
    "with open(os.path.join(path, \"25_Size_Vol_FF2016a_196307_201612.tex\"), \"w\") as table:\n",
    "    table.write(template.render(context))"
   ]
  },
  {
   "cell_type": "markdown",
   "metadata": {},
   "source": [
    "#### FF2016b"
   ]
  },
  {
   "cell_type": "code",
   "execution_count": null,
   "metadata": {},
   "outputs": [],
   "source": [
    "coef_list, alphas = model_coef_list(ff2016b, a, \"2016\")"
   ]
  },
  {
   "cell_type": "code",
   "execution_count": null,
   "metadata": {},
   "outputs": [],
   "source": [
    "context = {\n",
    "    \"var_name\": \"Vol\",\n",
    "    \"title\": r'R^i=a^i+\\beta^iMkt+s^iSize+v^iVal+p^iProf+i^iInv',\n",
    "    \"tbl\": coef_list,\n",
    "    \"caption\": r\"Size-Vol Portfolios with FF2016b Factors. \\footnotesize{July, 1963 through December, 2016 (642 Months).}\",\n",
    "    \"label\": \"tbl:25_Size_Vol_FF2016b\"\n",
    "}"
   ]
  },
  {
   "cell_type": "code",
   "execution_count": null,
   "metadata": {},
   "outputs": [],
   "source": [
    "with open(os.path.join(path, \"25_Size_Vol_FF2016b_196307_201612.tex\"), \"w\") as table:\n",
    "    table.write(template.render(context))"
   ]
  },
  {
   "cell_type": "markdown",
   "metadata": {},
   "source": [
    "#### BS2015"
   ]
  },
  {
   "cell_type": "code",
   "execution_count": null,
   "metadata": {},
   "outputs": [],
   "source": [
    "coef_list, alphas = model_coef_list(bs2015, a, \"2016\")"
   ]
  },
  {
   "cell_type": "code",
   "execution_count": null,
   "metadata": {},
   "outputs": [],
   "source": [
    "context = {\n",
    "    \"var_name\": \"Vol\",\n",
    "    \"title\": r'R^i=a^i+\\beta^iMkt+s^iSize+v^iVal+m^iMom+p^iProf',\n",
    "    \"tbl\": coef_list,\n",
    "    \"caption\": r\"Size-Vol Portfolios with BS2015 Factors. \\footnotesize{July, 1963 through December, 2016 (642 Months).}\",\n",
    "    \"label\": \"tbl:25_Size_Vol_BS2015\"\n",
    "}"
   ]
  },
  {
   "cell_type": "code",
   "execution_count": null,
   "metadata": {},
   "outputs": [],
   "source": [
    "with open(os.path.join(path, \"25_Size_Vol_BS2015_196307_201612.tex\"), \"w\") as table:\n",
    "    table.write(template.render(context))"
   ]
  },
  {
   "cell_type": "markdown",
   "metadata": {},
   "source": [
    "### Size-Volatility"
   ]
  },
  {
   "cell_type": "code",
   "execution_count": null,
   "metadata": {},
   "outputs": [],
   "source": [
    "a = pd.read_csv(\"C:/Data/FrenchDartmouth/25_Portfolios_ME_Prior_12_2.CSV\")\n",
    "a = a.iloc[:642, 1:]\n",
    "a.index = F.index"
   ]
  },
  {
   "cell_type": "code",
   "execution_count": null,
   "metadata": {},
   "outputs": [],
   "source": [
    "\"{:.2f}, {:.2f}, {:.2f}, {:.2f}\".format(GRS(a, F, ff2015), GRS(a, F, ff2016a), GRS(a, F, ff2016b), GRS(a, F, bs2015))"
   ]
  },
  {
   "cell_type": "markdown",
   "metadata": {},
   "source": [
    "#### FF2015"
   ]
  },
  {
   "cell_type": "code",
   "execution_count": null,
   "metadata": {},
   "outputs": [],
   "source": [
    "coef_list, alphas = model_coef_list(ff2015, a, \"2016\")"
   ]
  },
  {
   "cell_type": "code",
   "execution_count": null,
   "metadata": {},
   "outputs": [],
   "source": [
    "context = {\n",
    "    \"var_name\": \"Mom\",\n",
    "    \"title\": r'R^i=a^i+\\beta^iMkt+s^iSize+v^iVal+p^iProf+i^iInv',\n",
    "    \"tbl\": coef_list,\n",
    "    \"caption\": r\"Size-Mom Portfolios with FF2015 Factors. \\footnotesize{July, 1963 through December, 2016 (642 Months).}\",\n",
    "    \"label\": \"tbl:25_Size_Mom_FF2015\"\n",
    "}"
   ]
  },
  {
   "cell_type": "code",
   "execution_count": null,
   "metadata": {},
   "outputs": [],
   "source": [
    "with open(os.path.join(path, \"25_Size_Mom_FF2015_196307_201612.tex\"), \"w\") as table:\n",
    "    table.write(template.render(context))"
   ]
  },
  {
   "cell_type": "markdown",
   "metadata": {},
   "source": [
    "#### FF2016a"
   ]
  },
  {
   "cell_type": "code",
   "execution_count": null,
   "metadata": {},
   "outputs": [],
   "source": [
    "coef_list, alphas = model_coef_list(ff2016a, a, \"2016\")"
   ]
  },
  {
   "cell_type": "code",
   "execution_count": null,
   "metadata": {},
   "outputs": [],
   "source": [
    "context = {\n",
    "    \"var_name\": \"Mom\",\n",
    "    \"title\": r'R^i=a^i+\\beta^iMkt+s^iSize+v^iVal+p^iProf+i^iInv',\n",
    "    \"tbl\": coef_list,\n",
    "    \"caption\": r\"Size-Mom Portfolios with FF2016a Factors.\\footnotesize{July, 1963 through December, 2016 (642 Months).}\",\n",
    "    \"label\": \"tbl:25_Size_Mom_FF2016a\"\n",
    "}"
   ]
  },
  {
   "cell_type": "code",
   "execution_count": null,
   "metadata": {},
   "outputs": [],
   "source": [
    "with open(os.path.join(path, \"25_Size_Mom_FF2016a_196307_201612.tex\"), \"w\") as table:\n",
    "    table.write(template.render(context))"
   ]
  },
  {
   "cell_type": "markdown",
   "metadata": {},
   "source": [
    "#### FF2016b"
   ]
  },
  {
   "cell_type": "code",
   "execution_count": null,
   "metadata": {},
   "outputs": [],
   "source": [
    "coef_list, alphas = model_coef_list(ff2016b, a, \"2016\")"
   ]
  },
  {
   "cell_type": "code",
   "execution_count": null,
   "metadata": {},
   "outputs": [],
   "source": [
    "context = {\n",
    "    \"var_name\": \"Mom\",\n",
    "    \"title\": r'R^i=a^i+\\beta^iMkt+s^iSize+v^iVal+p^iProf+i^iInv',\n",
    "    \"tbl\": coef_list,\n",
    "    \"caption\": r\"Size-Mom Portfolios with FF2016b Factors. \\footnotesize{July, 1963 through December, 2016 (642 Months).}\",\n",
    "    \"label\": \"tbl:25_Size_Mom_FF2016b\"\n",
    "}"
   ]
  },
  {
   "cell_type": "code",
   "execution_count": null,
   "metadata": {},
   "outputs": [],
   "source": [
    "with open(os.path.join(path, \"25_Size_Mom_FF2016b_196307_201612.tex\"), \"w\") as table:\n",
    "    table.write(template.render(context))"
   ]
  },
  {
   "cell_type": "markdown",
   "metadata": {},
   "source": [
    "#### BS2015"
   ]
  },
  {
   "cell_type": "code",
   "execution_count": null,
   "metadata": {},
   "outputs": [],
   "source": [
    "coef_list, alphas = model_coef_list(bs2015, a, \"2016\")"
   ]
  },
  {
   "cell_type": "code",
   "execution_count": null,
   "metadata": {},
   "outputs": [],
   "source": [
    "context = {\n",
    "    \"var_name\": \"Mom\",\n",
    "    \"title\": r'R^i=a^i+\\beta^iMkt+s^iSize+v^iVal+m^iMom+p^iProf',\n",
    "    \"tbl\": coef_list,\n",
    "    \"caption\": r\"Size-Mom Portfolios with BS2015 Factors. \\footnotesize{July, 1963 through December, 2016 (642 Months).}\",\n",
    "    \"label\": \"tbl:25_Size_Mom_BS2015\"\n",
    "}"
   ]
  },
  {
   "cell_type": "code",
   "execution_count": null,
   "metadata": {},
   "outputs": [],
   "source": [
    "with open(os.path.join(path, \"25_Size_Mom_BS2015_196307_201612.tex\"), \"w\") as table:\n",
    "    table.write(template.render(context))"
   ]
  },
  {
   "cell_type": "markdown",
   "metadata": {},
   "source": [
    "### Size-Profit"
   ]
  },
  {
   "cell_type": "code",
   "execution_count": null,
   "metadata": {},
   "outputs": [],
   "source": [
    "a = pd.read_csv(\"C:/Data/FrenchDartmouth/25_Portfolios_ME_OP_5x5.CSV\")\n",
    "a = a.iloc[:642, 1:]\n",
    "a.index = F.index"
   ]
  },
  {
   "cell_type": "code",
   "execution_count": null,
   "metadata": {},
   "outputs": [],
   "source": [
    "\"{:.2f}, {:.2f}, {:.2f}, {:.2f}\".format(GRS(a, F, ff2015), GRS(a, F, ff2016a), GRS(a, F, ff2016b), GRS(a, F, bs2015))"
   ]
  },
  {
   "cell_type": "markdown",
   "metadata": {},
   "source": [
    "#### FF2015"
   ]
  },
  {
   "cell_type": "code",
   "execution_count": null,
   "metadata": {},
   "outputs": [],
   "source": [
    "coef_list, alphas = model_coef_list(ff2015, a, \"2016\")"
   ]
  },
  {
   "cell_type": "code",
   "execution_count": null,
   "metadata": {},
   "outputs": [],
   "source": [
    "context = {\n",
    "    \"var_name\": \"OP\",\n",
    "    \"title\": r'R^i=a^i+\\beta^iMkt+s^iSize+v^iVal+p^iProf+i^iInv',\n",
    "    \"tbl\": coef_list,\n",
    "    \"caption\": r\"Size-OP Portfolios with FF2015 Factors. \\footnotesize{July, 1963 through December, 2016 (642 Months).}\",\n",
    "    \"label\": \"tbl:25_Size_OP_FF2015\"\n",
    "}"
   ]
  },
  {
   "cell_type": "code",
   "execution_count": null,
   "metadata": {},
   "outputs": [],
   "source": [
    "with open(os.path.join(path, \"25_Size_OP_FF2015_196307_201612.tex\"), \"w\") as table:\n",
    "    table.write(template.render(context))"
   ]
  },
  {
   "cell_type": "markdown",
   "metadata": {},
   "source": [
    "#### FF2016a"
   ]
  },
  {
   "cell_type": "code",
   "execution_count": null,
   "metadata": {},
   "outputs": [],
   "source": [
    "coef_list, alphas = model_coef_list(ff2016a, a, \"2016\")"
   ]
  },
  {
   "cell_type": "code",
   "execution_count": null,
   "metadata": {},
   "outputs": [],
   "source": [
    "context = {\n",
    "    \"var_name\": \"OP\",\n",
    "    \"title\": r'R^i=a^i+\\beta^iMkt+s^iSize+v^iVal+p^iProf+i^iInv',\n",
    "    \"tbl\": coef_list,\n",
    "    \"caption\": r\"Size-OP Portfolios with FF2016a Factors.\\footnotesize{July, 1963 through December, 2016 (642 Months).}\",\n",
    "    \"label\": \"tbl:25_Size_OP_FF2016a\"\n",
    "}"
   ]
  },
  {
   "cell_type": "code",
   "execution_count": null,
   "metadata": {},
   "outputs": [],
   "source": [
    "with open(os.path.join(path, \"25_Size_OP_FF2016a_196307_201612.tex\"), \"w\") as table:\n",
    "    table.write(template.render(context))"
   ]
  },
  {
   "cell_type": "markdown",
   "metadata": {},
   "source": [
    "#### FF2016b"
   ]
  },
  {
   "cell_type": "code",
   "execution_count": null,
   "metadata": {},
   "outputs": [],
   "source": [
    "coef_list, alphas = model_coef_list(ff2016b, a, \"2016\")"
   ]
  },
  {
   "cell_type": "code",
   "execution_count": null,
   "metadata": {},
   "outputs": [],
   "source": [
    "context = {\n",
    "    \"var_name\": \"OP\",\n",
    "    \"title\": r'R^i=a^i+\\beta^iMkt+s^iSize+v^iVal+p^iProf+i^iInv',\n",
    "    \"tbl\": coef_list,\n",
    "    \"caption\": r\"Size-OP Portfolios with FF2016b Factors. \\footnotesize{July, 1963 through December, 2016 (642 Months).}\",\n",
    "    \"label\": \"tbl:25_Size_OP_FF2016b\"\n",
    "}"
   ]
  },
  {
   "cell_type": "code",
   "execution_count": null,
   "metadata": {},
   "outputs": [],
   "source": [
    "with open(os.path.join(path, \"25_Size_OP_FF2016b_196307_201612.tex\"), \"w\") as table:\n",
    "    table.write(template.render(context))"
   ]
  },
  {
   "cell_type": "markdown",
   "metadata": {},
   "source": [
    "#### BS2015"
   ]
  },
  {
   "cell_type": "code",
   "execution_count": null,
   "metadata": {},
   "outputs": [],
   "source": [
    "coef_list, alphas = model_coef_list(bs2015, a, \"2016\")"
   ]
  },
  {
   "cell_type": "code",
   "execution_count": null,
   "metadata": {},
   "outputs": [],
   "source": [
    "context = {\n",
    "    \"var_name\": \"OP\",\n",
    "    \"title\": r'R^i=a^i+\\beta^iMkt+s^iSize+v^iVal+m^iMom+p^iProf',\n",
    "    \"tbl\": coef_list,\n",
    "    \"caption\": r\"Size-OP Portfolios with BS2015 Factors. \\footnotesize{July, 1963 through December, 2016 (642 Months).}\",\n",
    "    \"label\": \"tbl:25_Size_OP_BS2015\"\n",
    "}"
   ]
  },
  {
   "cell_type": "code",
   "execution_count": null,
   "metadata": {},
   "outputs": [],
   "source": [
    "with open(os.path.join(path, \"25_Size_OP_BS2015_196307_201612.tex\"), \"w\") as table:\n",
    "    table.write(template.render(context))"
   ]
  },
  {
   "cell_type": "markdown",
   "metadata": {},
   "source": [
    "### Size-Profit-Inv"
   ]
  },
  {
   "cell_type": "code",
   "execution_count": null,
   "metadata": {},
   "outputs": [],
   "source": [
    "a = pd.read_csv(\"C:/Data/FrenchDartmouth/32_Portfolios_ME_OP_INV_2x4x4.CSV\")\n",
    "a = a.iloc[:642, 1:]\n",
    "a.index = F.index\n",
    "\n",
    "#A = A.merge(a, left_index=True, right_index=True)\n",
    "\n",
    "\"{:.2f}, {:.2f}, {:.2f}, {:.2f}\".format(GRS(a, F, ff2015), GRS(a, F, ff2016a), GRS(a, F, ff2016b), GRS(a, F, bs2015))"
   ]
  },
  {
   "cell_type": "markdown",
   "metadata": {},
   "source": [
    "# 2x4x4 TEMPLATE"
   ]
  },
  {
   "cell_type": "markdown",
   "metadata": {},
   "source": [
    "#### FF2015"
   ]
  },
  {
   "cell_type": "code",
   "execution_count": null,
   "metadata": {},
   "outputs": [],
   "source": [
    "coef_list, alphas = model_coef_list(ff2015, a, \"2016\")"
   ]
  },
  {
   "cell_type": "code",
   "execution_count": null,
   "metadata": {},
   "outputs": [],
   "source": [
    "context = {\n",
    "    \"var_name\": \"OP\",\n",
    "    \"title\": r'R^i=a^i+\\beta^iMkt+s^iSize+v^iVal+p^iProf+i^iInv',\n",
    "    \"tbl\": coef_list,\n",
    "    \"caption\": r\"Size-OP Portfolios with FF2015 Factors. \\footnotesize{July, 1963 through December, 2016 (642 Months).}\",\n",
    "    \"label\": \"tbl:25_Size_OP_FF2015\"\n",
    "}"
   ]
  },
  {
   "cell_type": "code",
   "execution_count": null,
   "metadata": {},
   "outputs": [],
   "source": [
    "with open(os.path.join(path, \"25_Size_OP_FF2015_196307_201612.tex\"), \"w\") as table:\n",
    "    table.write(template.render(context))"
   ]
  },
  {
   "cell_type": "markdown",
   "metadata": {},
   "source": [
    "#### FF2016a"
   ]
  },
  {
   "cell_type": "code",
   "execution_count": null,
   "metadata": {},
   "outputs": [],
   "source": [
    "coef_list, alphas = model_coef_list(ff2016a, a, \"2016\")"
   ]
  },
  {
   "cell_type": "code",
   "execution_count": null,
   "metadata": {},
   "outputs": [],
   "source": [
    "context = {\n",
    "    \"var_name\": \"OP\",\n",
    "    \"title\": r'R^i=a^i+\\beta^iMkt+s^iSize+v^iVal+p^iProf+i^iInv',\n",
    "    \"tbl\": coef_list,\n",
    "    \"caption\": r\"Size-OP Portfolios with FF2016a Factors.\\footnotesize{July, 1963 through December, 2016 (642 Months).}\",\n",
    "    \"label\": \"tbl:25_Size_OP_FF2016a\"\n",
    "}"
   ]
  },
  {
   "cell_type": "code",
   "execution_count": null,
   "metadata": {},
   "outputs": [],
   "source": [
    "with open(os.path.join(path, \"25_Size_OP_FF2016a_196307_201612.tex\"), \"w\") as table:\n",
    "    table.write(template.render(context))"
   ]
  },
  {
   "cell_type": "markdown",
   "metadata": {},
   "source": [
    "#### FF2016b"
   ]
  },
  {
   "cell_type": "code",
   "execution_count": null,
   "metadata": {},
   "outputs": [],
   "source": [
    "coef_list, alphas = model_coef_list(ff2016b, a, \"2016\")"
   ]
  },
  {
   "cell_type": "code",
   "execution_count": null,
   "metadata": {},
   "outputs": [],
   "source": [
    "context = {\n",
    "    \"var_name\": \"OP\",\n",
    "    \"title\": r'R^i=a^i+\\beta^iMkt+s^iSize+v^iVal+p^iProf+i^iInv',\n",
    "    \"tbl\": coef_list,\n",
    "    \"caption\": r\"Size-OP Portfolios with FF2016b Factors. \\footnotesize{July, 1963 through December, 2016 (642 Months).}\",\n",
    "    \"label\": \"tbl:25_Size_OP_FF2016b\"\n",
    "}"
   ]
  },
  {
   "cell_type": "code",
   "execution_count": null,
   "metadata": {},
   "outputs": [],
   "source": [
    "with open(os.path.join(path, \"25_Size_OP_FF2016b_196307_201612.tex\"), \"w\") as table:\n",
    "    table.write(template.render(context))"
   ]
  },
  {
   "cell_type": "markdown",
   "metadata": {},
   "source": [
    "#### BS2015"
   ]
  },
  {
   "cell_type": "code",
   "execution_count": null,
   "metadata": {},
   "outputs": [],
   "source": [
    "coef_list, alphas = model_coef_list(bs2015, a, \"2016\")"
   ]
  },
  {
   "cell_type": "code",
   "execution_count": null,
   "metadata": {},
   "outputs": [],
   "source": [
    "context = {\n",
    "    \"var_name\": \"OP\",\n",
    "    \"title\": r'R^i=a^i+\\beta^iMkt+s^iSize+v^iVal+m^iMom+p^iProf',\n",
    "    \"tbl\": coef_list,\n",
    "    \"caption\": r\"Size-OP Portfolios with BS2015 Factors. \\footnotesize{July, 1963 through December, 2016 (642 Months).}\",\n",
    "    \"label\": \"tbl:25_Size_OP_BS2015\"\n",
    "}"
   ]
  },
  {
   "cell_type": "code",
   "execution_count": null,
   "metadata": {},
   "outputs": [],
   "source": [
    "with open(os.path.join(path, \"25_Size_OP_BS2015_196307_201612.tex\"), \"w\") as table:\n",
    "    table.write(template.render(context))"
   ]
  },
  {
   "cell_type": "markdown",
   "metadata": {},
   "source": [
    "# All Anomalies"
   ]
  },
  {
   "cell_type": "code",
   "execution_count": null,
   "metadata": {},
   "outputs": [],
   "source": [
    "a = pd.read_csv(\"C:/Data/FrenchDartmouth/32_Portfolios_ME_BEME_INV_2x4x4.CSV\")\n",
    "a = a.iloc[:642, 1:]\n",
    "a.index = F.index\n",
    "\n",
    "A = a\n",
    "\n",
    "\"{:.2f}, {:.2f}, {:.2f}, {:.2f}\".format(GRS(a, F, ff2015), GRS(a, F, ff2016a), GRS(a, F, ff2016b), GRS(a, F, bs2015))"
   ]
  },
  {
   "cell_type": "code",
   "execution_count": null,
   "metadata": {},
   "outputs": [],
   "source": [
    "a = pd.read_csv(\"C:/Data/FrenchDartmouth/32_Portfolios_ME_OP_INV_2x4x4.CSV\")\n",
    "a = a.iloc[:642, 1:]\n",
    "a.index = F.index\n",
    "\n",
    "A = A.merge(a, left_index=True, right_index=True)\n",
    "\n",
    "\"{:.2f}, {:.2f}, {:.2f}, {:.2f}\".format(GRS(a, F, ff2015), GRS(a, F, ff2016a), GRS(a, F, ff2016b), GRS(a, F, bs2015))"
   ]
  },
  {
   "cell_type": "code",
   "execution_count": null,
   "metadata": {},
   "outputs": [],
   "source": [
    "a = pd.read_csv(\"C:/Data/FrenchDartmouth/32_Portfolios_ME_BEME_OP_2x4x4.CSV\")\n",
    "a = a.iloc[:642, 1:]\n",
    "a.index = F.index\n",
    "\n",
    "A = A.merge(a, left_index=True, right_index=True)\n",
    "\n",
    "\"{:.2f}, {:.2f}, {:.2f}, {:.2f}\".format(GRS(a, F, ff2015), GRS(a, F, ff2016a), GRS(a, F, ff2016b), GRS(a, F, bs2015))"
   ]
  },
  {
   "cell_type": "code",
   "execution_count": null,
   "metadata": {},
   "outputs": [],
   "source": [
    "a = pd.read_csv(\"C:/Data/FrenchDartmouth/25_Portfolios_5x5.CSV\")\n",
    "a = a.iloc[:642, 1:]\n",
    "a.index = F.index\n",
    "\n",
    "A = A.merge(a, left_index=True, right_index=True)\n",
    "\n",
    "\"{:.2f}, {:.2f}, {:.2f}, {:.2f}\".format(GRS(a, F, ff2015), GRS(a, F, ff2016a), GRS(a, F, ff2016b), GRS(a, F, bs2015))"
   ]
  },
  {
   "cell_type": "code",
   "execution_count": null,
   "metadata": {},
   "outputs": [],
   "source": [
    "a = pd.read_csv(\"C:/Data/FrenchDartmouth/25_Portfolios_ME_OP_5x5.csv\")\n",
    "a = a.iloc[:642, 1:]\n",
    "a.index = F.index\n",
    "\n",
    "A = A.merge(a, left_index=True, right_index=True)\n",
    "\n",
    "\"{:.2f}, {:.2f}, {:.2f}, {:.2f}\".format(GRS(a, F, ff2015), GRS(a, F, ff2016a), GRS(a, F, ff2016b), GRS(a, F, bs2015))"
   ]
  },
  {
   "cell_type": "code",
   "execution_count": null,
   "metadata": {},
   "outputs": [],
   "source": [
    "a = pd.read_csv(\"C:/Data/FrenchDartmouth/25_Portfolios_ME_INV_5x5.csv\")\n",
    "a = a.iloc[:642, 1:]\n",
    "a.index = F.index\n",
    "\n",
    "A = A.merge(a, left_index=True, right_index=True)\n",
    "\n",
    "\"{:.2f}, {:.2f}, {:.2f}, {:.2f}\".format(GRS(a, F, ff2015), GRS(a, F, ff2016a), GRS(a, F, ff2016b), GRS(a, F, bs2015))"
   ]
  },
  {
   "cell_type": "code",
   "execution_count": null,
   "metadata": {},
   "outputs": [],
   "source": [
    "a = pd.read_csv(\"C:/Data/FrenchDartmouth/25_Portfolios_ME_AC_5x5.csv\")\n",
    "a = a.iloc[:642, 1:]\n",
    "a.index = F.index\n",
    "\n",
    "A = A.merge(a, left_index=True, right_index=True)\n",
    "\n",
    "\"{:.2f}, {:.2f}, {:.2f}, {:.2f}\".format(GRS(a, F, ff2015), GRS(a, F, ff2016a), GRS(a, F, ff2016b), GRS(a, F, bs2015))"
   ]
  },
  {
   "cell_type": "code",
   "execution_count": null,
   "metadata": {},
   "outputs": [],
   "source": [
    "a = pd.read_csv(\"C:/Data/FrenchDartmouth/25_Portfolios_ME_BETA_5x5.csv\")\n",
    "a = a.iloc[:642, 1:]\n",
    "a.index = F.index\n",
    "\n",
    "A = A.merge(a, left_index=True, right_index=True)\n",
    "\n",
    "\"{:.2f}, {:.2f}, {:.2f}, {:.2f}\".format(GRS(a, F, ff2015), GRS(a, F, ff2016a), GRS(a, F, ff2016b), GRS(a, F, bs2015))"
   ]
  },
  {
   "cell_type": "code",
   "execution_count": null,
   "metadata": {},
   "outputs": [],
   "source": [
    "a = pd.read_csv(\"C:/Data/FrenchDartmouth/25_Portfolios_ME_Prior_12_2.CSV\")\n",
    "a = a.iloc[:642, 1:]\n",
    "a.index = F.index\n",
    "\n",
    "A = A.merge(a, left_index=True, right_index=True)\n",
    "\n",
    "\"{:.2f}, {:.2f}, {:.2f}, {:.2f}\".format(GRS(a, F, ff2015), GRS(a, F, ff2016a), GRS(a, F, ff2016b), GRS(a, F, bs2015))"
   ]
  },
  {
   "cell_type": "code",
   "execution_count": null,
   "metadata": {},
   "outputs": [],
   "source": [
    "a = pd.read_csv(\"C:/Data/FrenchDartmouth/25_Portfolios_ME_RESVAR_5x5.csv\")\n",
    "a = a.iloc[:642, 1:]\n",
    "a.index = F.index\n",
    "\n",
    "A = A.merge(a, left_index=True, right_index=True)\n",
    "\n",
    "\"{:.2f}, {:.2f}, {:.2f}, {:.2f}\".format(GRS(a, F, ff2015), GRS(a, F, ff2016a), GRS(a, F, ff2016b), GRS(a, F, bs2015))"
   ]
  },
  {
   "cell_type": "code",
   "execution_count": null,
   "metadata": {},
   "outputs": [],
   "source": [
    "a = pd.read_csv(\"C:/Data/FrenchDartmouth/25_Portfolios_ME_VAR_5x5.csv\")\n",
    "a = a.iloc[:642, 1:]\n",
    "a.index = F.index\n",
    "\n",
    "A = A.merge(a, left_index=True, right_index=True)\n",
    "\n",
    "\"{:.2f}, {:.2f}, {:.2f}, {:.2f}\".format(GRS(a, F, ff2015), GRS(a, F, ff2016a), GRS(a, F, ff2016b), GRS(a, F, bs2015))"
   ]
  },
  {
   "cell_type": "code",
   "execution_count": null,
   "metadata": {},
   "outputs": [],
   "source": [
    "A.shape"
   ]
  },
  {
   "cell_type": "code",
   "execution_count": null,
   "metadata": {},
   "outputs": [],
   "source": [
    "\"{:.2f}, {:.2f}, {:.2f}, {:.2f}\".format(GRS(A, F, ff2015), GRS(A, F, ff2016a), GRS(A, F, ff2016b), GRS(A, F, bs2015))"
   ]
  }
 ],
 "metadata": {
  "kernelspec": {
   "display_name": "Python 3",
   "language": "python",
   "name": "python3"
  },
  "language_info": {
   "codemirror_mode": {
    "name": "ipython",
    "version": 3
   },
   "file_extension": ".py",
   "mimetype": "text/x-python",
   "name": "python",
   "nbconvert_exporter": "python",
   "pygments_lexer": "ipython3",
   "version": "3.5.2"
  }
 },
 "nbformat": 4,
 "nbformat_minor": 2
}
