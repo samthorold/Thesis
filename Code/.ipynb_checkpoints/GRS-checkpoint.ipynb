{
 "cells": [
  {
   "cell_type": "markdown",
   "metadata": {},
   "source": [
    "# GRS"
   ]
  },
  {
   "cell_type": "code",
   "execution_count": 1,
   "metadata": {},
   "outputs": [
    {
     "name": "stderr",
     "output_type": "stream",
     "text": [
      "C:\\Users\\samth\\Miniconda3\\envs\\econ36\\lib\\site-packages\\statsmodels\\compat\\pandas.py:56: FutureWarning: The pandas.core.datetools module is deprecated and will be removed in a future version. Please use the pandas.tseries module instead.\n",
      "  from pandas.core import datetools\n"
     ]
    }
   ],
   "source": [
    "from collections import OrderedDict\n",
    "\n",
    "import jinja2\n",
    "import os\n",
    "import pandas as pd\n",
    "#from scipy.optimize import minimize\n",
    "import statsmodels.api as sm\n",
    "\n",
    "#%matplotlib inline"
   ]
  },
  {
   "cell_type": "code",
   "execution_count": 2,
   "metadata": {},
   "outputs": [
    {
     "data": {
      "text/html": [
       "<div>\n",
       "<style scoped>\n",
       "    .dataframe tbody tr th:only-of-type {\n",
       "        vertical-align: middle;\n",
       "    }\n",
       "\n",
       "    .dataframe tbody tr th {\n",
       "        vertical-align: top;\n",
       "    }\n",
       "\n",
       "    .dataframe thead th {\n",
       "        text-align: right;\n",
       "    }\n",
       "</style>\n",
       "<table border=\"1\" class=\"dataframe\">\n",
       "  <thead>\n",
       "    <tr style=\"text-align: right;\">\n",
       "      <th></th>\n",
       "      <th>rf</th>\n",
       "      <th>rm</th>\n",
       "      <th>smb</th>\n",
       "      <th>hml</th>\n",
       "      <th>rmw</th>\n",
       "      <th>cma</th>\n",
       "      <th>wml</th>\n",
       "      <th>hmlm</th>\n",
       "      <th>HML</th>\n",
       "      <th>HMLm</th>\n",
       "      <th>PMU06</th>\n",
       "      <th>PMU16</th>\n",
       "      <th>PMU</th>\n",
       "      <th>CMA</th>\n",
       "      <th>WML</th>\n",
       "    </tr>\n",
       "    <tr>\n",
       "      <th>date</th>\n",
       "      <th></th>\n",
       "      <th></th>\n",
       "      <th></th>\n",
       "      <th></th>\n",
       "      <th></th>\n",
       "      <th></th>\n",
       "      <th></th>\n",
       "      <th></th>\n",
       "      <th></th>\n",
       "      <th></th>\n",
       "      <th></th>\n",
       "      <th></th>\n",
       "      <th></th>\n",
       "      <th></th>\n",
       "      <th></th>\n",
       "    </tr>\n",
       "  </thead>\n",
       "  <tbody>\n",
       "    <tr>\n",
       "      <th>1963-07-01</th>\n",
       "      <td>0.27</td>\n",
       "      <td>-0.39</td>\n",
       "      <td>-0.46</td>\n",
       "      <td>-0.81</td>\n",
       "      <td>0.72</td>\n",
       "      <td>-1.16</td>\n",
       "      <td>0.99</td>\n",
       "      <td>-0.59</td>\n",
       "      <td>-0.721155</td>\n",
       "      <td>-0.864465</td>\n",
       "      <td>0.888426</td>\n",
       "      <td>0.739828</td>\n",
       "      <td>0.355650</td>\n",
       "      <td>-1.132040</td>\n",
       "      <td>0.550726</td>\n",
       "    </tr>\n",
       "    <tr>\n",
       "      <th>1963-08-01</th>\n",
       "      <td>0.25</td>\n",
       "      <td>5.07</td>\n",
       "      <td>-0.81</td>\n",
       "      <td>1.65</td>\n",
       "      <td>0.42</td>\n",
       "      <td>-0.40</td>\n",
       "      <td>1.08</td>\n",
       "      <td>0.28</td>\n",
       "      <td>1.000628</td>\n",
       "      <td>-0.060107</td>\n",
       "      <td>0.212301</td>\n",
       "      <td>0.470122</td>\n",
       "      <td>0.456718</td>\n",
       "      <td>-0.070141</td>\n",
       "      <td>1.443902</td>\n",
       "    </tr>\n",
       "    <tr>\n",
       "      <th>1963-09-01</th>\n",
       "      <td>0.27</td>\n",
       "      <td>-1.57</td>\n",
       "      <td>-0.48</td>\n",
       "      <td>0.19</td>\n",
       "      <td>-0.80</td>\n",
       "      <td>0.23</td>\n",
       "      <td>0.13</td>\n",
       "      <td>0.27</td>\n",
       "      <td>1.045719</td>\n",
       "      <td>1.463823</td>\n",
       "      <td>-1.169019</td>\n",
       "      <td>-1.130309</td>\n",
       "      <td>-0.665664</td>\n",
       "      <td>-0.361107</td>\n",
       "      <td>0.267052</td>\n",
       "    </tr>\n",
       "    <tr>\n",
       "      <th>1963-10-01</th>\n",
       "      <td>0.29</td>\n",
       "      <td>2.53</td>\n",
       "      <td>-1.29</td>\n",
       "      <td>-0.09</td>\n",
       "      <td>2.75</td>\n",
       "      <td>-2.26</td>\n",
       "      <td>3.14</td>\n",
       "      <td>-2.11</td>\n",
       "      <td>-0.549914</td>\n",
       "      <td>-1.635921</td>\n",
       "      <td>2.612164</td>\n",
       "      <td>3.006009</td>\n",
       "      <td>3.007174</td>\n",
       "      <td>-1.886318</td>\n",
       "      <td>3.648531</td>\n",
       "    </tr>\n",
       "    <tr>\n",
       "      <th>1963-11-01</th>\n",
       "      <td>0.27</td>\n",
       "      <td>-0.85</td>\n",
       "      <td>-0.85</td>\n",
       "      <td>1.71</td>\n",
       "      <td>-0.34</td>\n",
       "      <td>2.22</td>\n",
       "      <td>-0.75</td>\n",
       "      <td>0.91</td>\n",
       "      <td>1.288533</td>\n",
       "      <td>1.400487</td>\n",
       "      <td>-0.099125</td>\n",
       "      <td>-0.481188</td>\n",
       "      <td>-0.625498</td>\n",
       "      <td>0.314912</td>\n",
       "      <td>-1.489579</td>\n",
       "    </tr>\n",
       "  </tbody>\n",
       "</table>\n",
       "</div>"
      ],
      "text/plain": [
       "              rf    rm   smb   hml   rmw   cma   wml  hmlm       HML  \\\n",
       "date                                                                   \n",
       "1963-07-01  0.27 -0.39 -0.46 -0.81  0.72 -1.16  0.99 -0.59 -0.721155   \n",
       "1963-08-01  0.25  5.07 -0.81  1.65  0.42 -0.40  1.08  0.28  1.000628   \n",
       "1963-09-01  0.27 -1.57 -0.48  0.19 -0.80  0.23  0.13  0.27  1.045719   \n",
       "1963-10-01  0.29  2.53 -1.29 -0.09  2.75 -2.26  3.14 -2.11 -0.549914   \n",
       "1963-11-01  0.27 -0.85 -0.85  1.71 -0.34  2.22 -0.75  0.91  1.288533   \n",
       "\n",
       "                HMLm     PMU06     PMU16       PMU       CMA       WML  \n",
       "date                                                                    \n",
       "1963-07-01 -0.864465  0.888426  0.739828  0.355650 -1.132040  0.550726  \n",
       "1963-08-01 -0.060107  0.212301  0.470122  0.456718 -0.070141  1.443902  \n",
       "1963-09-01  1.463823 -1.169019 -1.130309 -0.665664 -0.361107  0.267052  \n",
       "1963-10-01 -1.635921  2.612164  3.006009  3.007174 -1.886318  3.648531  \n",
       "1963-11-01  1.400487 -0.099125 -0.481188 -0.625498  0.314912 -1.489579  "
      ]
     },
     "execution_count": 2,
     "metadata": {},
     "output_type": "execute_result"
    }
   ],
   "source": [
    "# f = pd.read_stata(\"C:/Data/Thesis/Factors.dta\").set_index(\"date\")\n",
    "\n",
    "factors = pd.read_csv(\"C:/Data/Thesis/_Factors.csv\")\n",
    "\n",
    "myfactors = pd.read_csv(\"C:/Data/Thesis/_MyFactors.csv\")\n",
    "myfactors.iloc[:,1:] = myfactors.iloc[:,1:]*100\n",
    "\n",
    "f = pd.concat([factors, myfactors[[\"HML\", \"HMLm\", \"PMU06\", \"PMU16\", \"PMU\", \"CMA\", \"WML\"]]], axis=1)\n",
    "f.date = pd.to_datetime(f.date.astype(\"str\"), format=\"%Y%m\")\n",
    "f = f.set_index(\"date\")\n",
    "\n",
    "f.head()"
   ]
  },
  {
   "cell_type": "code",
   "execution_count": 3,
   "metadata": {},
   "outputs": [],
   "source": [
    "f93 = [\"rm\", \"smb\", \"hml\"]\n",
    "c97  = [\"rm\", \"smb\", \"hml\", \"wml\"]\n",
    "c97b = [\"rm\", \"smb\", \"hmlm\", \"wml\"]\n",
    "f15 = [\"rm\", \"smb\", \"hml\", \"rmw\", \"cma\"]\n",
    "f16 = [\"rm\", \"smb\", \"hml\", \"PMU\", \"cma\"]\n",
    "f17 = [\"rm\", \"smb\", \"hml\", \"PMU\", \"cma\", \"wml\"]\n",
    "b16  = [\"rm\", \"smb\", \"hmlm\", \"wml\", \"PMU\"]\n",
    "b16b = [\"rm\", \"smb\", \"hmlm\", \"wml\", \"PMU\", \"cma\"]"
   ]
  },
  {
   "cell_type": "code",
   "execution_count": 4,
   "metadata": {},
   "outputs": [],
   "source": [
    "def Sh2(f):\n",
    "    Ef = pd.np.mean(f, axis=0)\n",
    "    CoVf = pd.np.cov(f, rowvar=False)\n",
    "    return Ef.transpose() @ pd.np.linalg.pinv(CoVf) @ Ef"
   ]
  },
  {
   "cell_type": "code",
   "execution_count": 5,
   "metadata": {},
   "outputs": [],
   "source": [
    "def GRS(R, F, factors, start=\"1963-07\", end=\"2017-12\"):\n",
    "    \"\"\"\n",
    "    Returns the GRS statistic of Gibbons, Ross and Shanken (1989)\n",
    "    \"\"\"\n",
    "\n",
    "    alphas = []\n",
    "    errors = []\n",
    "\n",
    "    for p in R.columns:\n",
    "        model = sm.OLS(R[start:end][p] - F[start:end][\"rf\"],\n",
    "                       sm.add_constant(F[start:end][factors]))\n",
    "        fit = model.fit()\n",
    "        alphas.append(fit.params[\"const\"])\n",
    "        errors.append(fit.resid)\n",
    "\n",
    "    alphas = pd.np.array(alphas)\n",
    "    errors = pd.np.array(errors).transpose()\n",
    "\n",
    "    K = F[factors].shape[1]\n",
    "    T, N = errors.shape\n",
    "\n",
    "    Ve = errors.transpose().dot(errors) / (T - K - 1)\n",
    "\n",
    "    r = F[factors].mean().as_matrix()\n",
    "\n",
    "    f = F[factors].as_matrix()\n",
    "\n",
    "    Vf = (f-r).transpose().dot(f-r) / (T - 1)\n",
    "\n",
    "    Sh2_a = alphas.dot(pd.np.linalg.pinv(Ve)).dot(alphas)\n",
    "    Sh2_f = r.dot(pd.np.linalg.pinv(Vf)).dot(r)\n",
    "    Sh2_a, Sh2_f\n",
    "\n",
    "    return (T/N)*((T-N-K)/(T-K-1))*(Sh2_a/(1+Sh2_f))"
   ]
  },
  {
   "cell_type": "code",
   "execution_count": 6,
   "metadata": {},
   "outputs": [],
   "source": [
    "path = \"C:/Users/samth/Dropbox/Thesis/Tex/Tables/\"\n",
    "\n",
    "env = jinja2.Environment(\n",
    "    block_start_string='-%', block_end_string='%-',\n",
    "    variable_start_string='=%', variable_end_string='%=',\n",
    "    loader=jinja2.FileSystemLoader(path)\n",
    ")"
   ]
  },
  {
   "cell_type": "code",
   "execution_count": 7,
   "metadata": {},
   "outputs": [],
   "source": [
    "n_months, start, end = 654, \"1963-07\", \"2017-12\""
   ]
  },
  {
   "cell_type": "markdown",
   "metadata": {},
   "source": [
    "## Anomalies"
   ]
  },
  {
   "cell_type": "markdown",
   "metadata": {},
   "source": [
    "We need to combine some anomalies.\n",
    "\n",
    "* $BM$ constrained\n",
    "* Value constrained\n",
    "* Others\n",
    "* All"
   ]
  },
  {
   "cell_type": "code",
   "execution_count": 52,
   "metadata": {},
   "outputs": [],
   "source": [
    "BM_keys    = [r\"Size-BM\",\n",
    "              r\"Size-BM-Inv\",\n",
    "              r\"Size-BM-$\\text{OP}^{06}$\"]\n",
    "Value_keys = BM_keys + [r\"Size-$\\text{BM}^m$-Prior\",]\n",
    "Other_keys = [r\"Size-$\\text{OP}^{06}$\",\n",
    "              r\"Size-Inv\",\n",
    "              r\"Size-$\\text{OP}^{06}$-Inv\",\n",
    "              r\"Size-Acc\",\n",
    "              r\"Size-$\\beta$\",\n",
    "              r\"Size-NI\",\n",
    "              r\"Size-Prior\",\n",
    "              r\"Size-RVar\",\n",
    "              r\"Size-Var\"]\n",
    "All_keys   = Value_keys + Other_keys\n",
    "\n",
    "anomalies = OrderedDict([\n",
    "    (r\"Size-BM\", {\"path\": \"C:/Data/FrenchDartmouth/25_Portfolios_5x5.CSV\"}),\n",
    "    (r\"Size-BM-Inv\", {\"path\": \"C:/Data/FrenchDartmouth/32_Portfolios_ME_BEME_INV_2x4x4.CSV\"}),\n",
    "    (r\"Size-BM-$\\text{OP}^{06}$\", {\"path\": \"C:/Data/FrenchDartmouth/32_Portfolios_ME_BEME_OP_2x4x4.CSV\"}),\n",
    "])\n",
    "\n",
    "pd.concat(\n",
    "    [pd.read_csv(anomalies[a][\"path\"]).iloc[:, 1:] for a in BM_keys],\n",
    "    axis=1\n",
    ").to_csv(\"C:/Data/Thesis/89_BM_Portfolios.csv\")\n",
    "anomalies[r\"BM constrained\"] = {\"path\": \"C:/Data/Thesis/89_BM_Portfolios.csv\"}\n",
    "\n",
    "anomalies[r\"Size-$\\text{BM}^m$-Prior\"] = {\"path\": \"C:/Data/Thesis/32_Portfolios_BMm_Prior.csv\"}\n",
    "\n",
    "pd.concat(\n",
    "    [pd.read_csv(anomalies[a][\"path\"]).iloc[:, 1:] for a in Value_keys],\n",
    "    axis=1\n",
    ").to_csv(\"C:/Data/Thesis/121_BM_Portfolios.csv\")\n",
    "anomalies[r\"Value constrained\"] = {\"path\": \"C:/Data/Thesis/121_BM_Portfolios.csv\"}\n",
    "\n",
    "anomalies[r\"Size-$\\text{OP}^{06}$\"] = {\"path\": \"C:/Data/FrenchDartmouth/25_Portfolios_ME_OP_5x5.CSV\"}\n",
    "anomalies[r\"Size-Inv\"] = {\"path\": \"C:/Data/FrenchDartmouth/25_Portfolios_ME_INV_5x5.CSV\"}\n",
    "anomalies[r\"Size-$\\text{OP}^{06}$-Inv\"] = {\"path\": \"C:/Data/FrenchDartmouth/32_Portfolios_ME_OP_INV_2x4x4.CSV\"}\n",
    "anomalies[r\"Size-Acc\"] = {\"path\": \"C:/Data/FrenchDartmouth/25_Portfolios_ME_AC_5x5.CSV\"}\n",
    "anomalies[r\"Size-$\\beta$\"] = {\"path\": \"C:/Data/FrenchDartmouth/25_Portfolios_ME_BETA_5x5.CSV\"}\n",
    "anomalies[r\"Size-NI\"] = {\"path\": \"C:/Data/FrenchDartmouth/25_Portfolios_ME_NI_5x5.CSV\"}\n",
    "anomalies[r\"Size-Prior\"] = {\"path\": \"C:/Data/FrenchDartmouth/25_Portfolios_ME_Prior_12_2.CSV\"}\n",
    "anomalies[r\"Size-RVar\"] = {\"path\": \"C:/Data/FrenchDartmouth/25_Portfolios_ME_RESVAR_5x5.CSV\"}\n",
    "anomalies[r\"Size-Var\"] = {\"path\": \"C:/Data/FrenchDartmouth/25_Portfolios_ME_VAR_5x5.CSV\"}\n",
    "\n",
    "pd.concat(\n",
    "    [pd.read_csv(anomalies[a][\"path\"]).iloc[:, 1:] for a in Other_keys],\n",
    "    axis=1\n",
    ").to_csv(\"C:/Data/Thesis/242_Other_Portfolios.csv\")\n",
    "anomalies[r\"Selected anomalies\"] = {\"path\": \"C:/Data/Thesis/242_Other_Portfolios.csv\"}\n",
    "\n",
    "pd.concat(\n",
    "    [pd.read_csv(anomalies[a][\"path\"]).iloc[:, 1:] for a in All_keys],\n",
    "    axis=1\n",
    ").to_csv(\"C:/Data/Thesis/363_Portfolios.csv\")\n",
    "anomalies[r\"All\"] = {\"path\": \"C:/Data/Thesis/363_Portfolios.csv\"}"
   ]
  },
  {
   "cell_type": "code",
   "execution_count": 53,
   "metadata": {},
   "outputs": [
    {
     "name": "stdout",
     "output_type": "stream",
     "text": [
      "Size-BM............................ 654,   25\n",
      "Size-BM-Inv........................ 654,   32\n",
      "Size-BM-$\\text{OP}^{06}$........... 654,   32\n",
      "BM constrained..................... 654,   89\n",
      "Size-$\\text{BM}^m$-Prior........... 654,   32\n",
      "Value constrained.................. 654,  121\n",
      "Size-$\\text{OP}^{06}$.............. 654,   25\n",
      "Size-Inv........................... 654,   25\n",
      "Size-$\\text{OP}^{06}$-Inv.......... 654,   32\n",
      "Size-Acc........................... 654,   25\n",
      "Size-$\\beta$....................... 654,   25\n",
      "Size-NI............................ 654,   35\n",
      "Size-Prior......................... 654,   25\n",
      "Size-RVar.......................... 654,   25\n",
      "Size-Var........................... 654,   25\n",
      "Selected anomalies................. 654,  242\n",
      "All................................ 654,  363\n",
      "Wall time: 54.2 s\n"
     ]
    }
   ],
   "source": [
    "%%time\n",
    "\n",
    "for a in anomalies:\n",
    "    df = pd.read_csv(anomalies[a][\"path\"])\n",
    "    df.index = f.index\n",
    "\n",
    "    # remove date column from anomalies and the index column from combinations of anomalies\n",
    "    df = df.iloc[:, 1:]\n",
    "    df = df.fillna(-99.99)\n",
    "\n",
    "    print(\"{:.<35s}{:4d}, {:4d}\".format(a, df.shape[0], df.shape[1]))\n",
    "\n",
    "    anomalies[a][\"GRS\"] = OrderedDict([\n",
    "        (\"C97\",  \"{:.2f}\".format(GRS(df, f, c97))),\n",
    "        (\"C97b\", \"{:.2f}\".format(GRS(df, f, c97b))),\n",
    "        (\"F15\",  \"{:.2f}\".format(GRS(df, f, f15))),\n",
    "        (\"F16\",  \"{:.2f}\".format(GRS(df, f, f16))),\n",
    "        (\"F17\",  \"{:.2f}\".format(GRS(df, f, f17))),\n",
    "        (\"B16\",  \"{:.2f}\".format(GRS(df, f, b16))),\n",
    "        (\"B16b\", \"{:.2f}\".format(GRS(df, f, b16b))),\n",
    "    ])"
   ]
  },
  {
   "cell_type": "code",
   "execution_count": 83,
   "metadata": {},
   "outputs": [
    {
     "data": {
      "text/plain": [
       "('Size-$\\\\text{OP}^{06}$', 'Size-$\\text{OP}^{06}$')"
      ]
     },
     "execution_count": 83,
     "metadata": {},
     "output_type": "execute_result"
    }
   ],
   "source": [
    "r\"Size-$\\text{OP}^{06}$\", \"Size-$\\text{OP}^{06}$\""
   ]
  },
  {
   "cell_type": "code",
   "execution_count": 84,
   "metadata": {},
   "outputs": [],
   "source": [
    "template = env.get_template(\"GRS_template.txt\")"
   ]
  },
  {
   "cell_type": "code",
   "execution_count": 85,
   "metadata": {},
   "outputs": [],
   "source": [
    "context = {\n",
    "    \"caption\": r\"GRS Statistic and $Sh^2$ -- 1963-07 through 2017-12\",\n",
    "    \"label\": \"tbl:GRS\",\n",
    "    \"model_names\": [\"C97\", \"C97b\", \"F15\", \"F16\", \"F17\", \"B16\", \"B16b\"],\n",
    "    \"anomalies\": anomalies,\n",
    "}"
   ]
  },
  {
   "cell_type": "code",
   "execution_count": 86,
   "metadata": {},
   "outputs": [],
   "source": [
    "with open(os.path.join(path, \"GRS_196307_201712.tex\"), \"w\") as table:\n",
    "    table.write(template.render(context))"
   ]
  },
  {
   "cell_type": "markdown",
   "metadata": {},
   "source": [
    "# Annual value with monthly value"
   ]
  },
  {
   "cell_type": "code",
   "execution_count": null,
   "metadata": {},
   "outputs": [],
   "source": [
    "a = pd.read_csv(\"C:/Data/FrenchDartmouth/25_Portfolios_5x5.CSV\")\n",
    "a.date = pd.to_datetime(a.date.astype(str), format=\"%Y%m\")\n",
    "a = a.set_index(\"date\")\n",
    "GRS(a, f, [\"rm\", \"smb\", \"hmlm\", \"wml\", \"PMU\"]), GRS(a, f, [\"rm\", \"smb\", \"hmlm\", \"hml\", \"wml\", \"PMU\"])"
   ]
  },
  {
   "cell_type": "code",
   "execution_count": null,
   "metadata": {},
   "outputs": [],
   "source": [
    "a = pd.read_csv(\"C:/Data/FrenchDartmouth/32_Portfolios_ME_BEME_INV_2x4x4.CSV\")\n",
    "a.date = pd.to_datetime(a.date.astype(str), format=\"%Y%m\")\n",
    "a = a.set_index(\"date\")\n",
    "GRS(a, f, [\"rm\", \"smb\", \"hmlm\", \"wml\", \"PMU\"]), GRS(a, f, [\"rm\", \"smb\", \"hmlm\", \"hml\", \"wml\", \"PMU\"])"
   ]
  },
  {
   "cell_type": "code",
   "execution_count": null,
   "metadata": {},
   "outputs": [],
   "source": [
    "a = pd.read_csv(\"C:/Data/FrenchDartmouth/32_Portfolios_ME_BEME_OP_2x4x4.CSV\")\n",
    "a.date = pd.to_datetime(a.date.astype(str), format=\"%Y%m\")\n",
    "a = a.set_index(\"date\")\n",
    "GRS(a, f, [\"rm\", \"smb\", \"hmlm\", \"wml\", \"PMU\"]), GRS(a, f, [\"rm\", \"smb\", \"hmlm\", \"hml\", \"wml\", \"PMU\"])"
   ]
  }
 ],
 "metadata": {
  "kernelspec": {
   "display_name": "Python 3",
   "language": "python",
   "name": "python3"
  },
  "language_info": {
   "codemirror_mode": {
    "name": "ipython",
    "version": 3
   },
   "file_extension": ".py",
   "mimetype": "text/x-python",
   "name": "python",
   "nbconvert_exporter": "python",
   "pygments_lexer": "ipython3",
   "version": "3.6.4"
  }
 },
 "nbformat": 4,
 "nbformat_minor": 2
}
