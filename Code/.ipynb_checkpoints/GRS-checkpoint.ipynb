{
 "cells": [
  {
   "cell_type": "markdown",
   "metadata": {},
   "source": [
    "# GRS"
   ]
  },
  {
   "cell_type": "code",
   "execution_count": null,
   "metadata": {},
   "outputs": [],
   "source": [
    "import jinja2\n",
    "import os\n",
    "import pandas as pd\n",
    "#from scipy.optimize import minimize\n",
    "import statsmodels.api as sm\n",
    "\n",
    "#%pylab inline"
   ]
  },
  {
   "cell_type": "code",
   "execution_count": null,
   "metadata": {},
   "outputs": [],
   "source": [
    "F = pd.read_stata(\"C:/Data/Thesis/Factors.dta\").set_index(\"date\")\n",
    "\n",
    "ff1993 = [\"rm\", \"smb\", \"hml\"]\n",
    "c1997  = [\"rm\", \"smb\", \"hml\", \"wml\"]\n",
    "c1997b = [\"rm\", \"smb\", \"HMLm\", \"wml\"]\n",
    "ff2015 = [\"rm\", \"smb\", \"hmlo\", \"rmw\", \"cma\"]\n",
    "ff2016 = [\"rm\", \"smb\", \"hml\", \"RMWc\", \"cma\"]\n",
    "b2016  = [\"rm\", \"smb\", \"HMLm\", \"wml\", \"RMWc\"]\n",
    "b2016b = [\"rm\", \"smb\", \"hml\", \"wml\", \"RMWc\"]\n",
    "b2016c = [\"rm\", \"smb\", \"HMLm\", \"RMWc\"]"
   ]
  },
  {
   "cell_type": "code",
   "execution_count": null,
   "metadata": {},
   "outputs": [],
   "source": [
    "def Sh2(f):\n",
    "    Ef = pd.np.mean(f, axis=0)\n",
    "    CoVf = pd.np.cov(f, rowvar=False)\n",
    "    return Ef.transpose() @ pd.np.linalg.pinv(CoVf) @ Ef"
   ]
  },
  {
   "cell_type": "code",
   "execution_count": null,
   "metadata": {},
   "outputs": [],
   "source": [
    "def GRS(R, F, factors, start=\"1963-07\", end=\"2016-12\"):\n",
    "    \"\"\"\n",
    "    Returns the GRS statistic of Gibbons, Ross and Shanken (1989)\n",
    "    \"\"\"\n",
    "\n",
    "    alphas = []\n",
    "    errors = []\n",
    "\n",
    "    for p in R.columns:\n",
    "        model = sm.OLS(R[start:end][p] - F[start:end][\"rf\"],\n",
    "                       sm.add_constant(F[start:end][factors]))\n",
    "        fit = model.fit()\n",
    "        alphas.append(fit.params[\"const\"])\n",
    "        errors.append(fit.resid)\n",
    "\n",
    "    alphas = pd.np.array(alphas)\n",
    "    errors = pd.np.array(errors).transpose()\n",
    "\n",
    "    K = F[factors].shape[1]\n",
    "    T, N = errors.shape\n",
    "\n",
    "    Ve = errors.transpose().dot(errors) / (T - K - 1)\n",
    "\n",
    "    r = F[factors].mean().as_matrix()\n",
    "\n",
    "    f = F[factors].as_matrix()\n",
    "\n",
    "    Vf = (f-r).transpose().dot(f-r) / (T - 1)\n",
    "\n",
    "    Sh2_a = alphas.dot(pd.np.linalg.pinv(Ve)).dot(alphas)\n",
    "    Sh2_f = r.dot(pd.np.linalg.pinv(Vf)).dot(r)\n",
    "    Sh2_a, Sh2_f\n",
    "\n",
    "    return (T/N)*((T-N-K)/(T-K-1))*(Sh2_a/(1+Sh2_f))"
   ]
  },
  {
   "cell_type": "code",
   "execution_count": null,
   "metadata": {},
   "outputs": [],
   "source": [
    "path = \"C:/Users/samth/Dropbox/Thesis/Tex/Tables/\"\n",
    "\n",
    "env = jinja2.Environment(\n",
    "    block_start_string='-%', block_end_string='%-',\n",
    "    variable_start_string='=%', variable_end_string='%=',\n",
    "    loader=jinja2.FileSystemLoader(path)\n",
    ")"
   ]
  },
  {
   "cell_type": "markdown",
   "metadata": {},
   "source": [
    "## Anomalies"
   ]
  },
  {
   "cell_type": "markdown",
   "metadata": {},
   "source": [
    "### Without $Size$-$BM^m$-$Prior$"
   ]
  },
  {
   "cell_type": "code",
   "execution_count": null,
   "metadata": {},
   "outputs": [],
   "source": [
    "anomalies = [\n",
    "    {\"name\": \"$Size$-$BM$\",        \"path\": \"C:/Data/FrenchDartmouth/25_Portfolios_5x5.CSV\"},\n",
    "    {\"name\": \"$Size$-$Acc$\",       \"path\": \"C:/Data/FrenchDartmouth/25_Portfolios_ME_AC_5x5.csv\"},\n",
    "    {\"name\": \"$Size$-$Beta$\",      \"path\": \"C:/Data/FrenchDartmouth/25_Portfolios_ME_BETA_5x5.csv\"},\n",
    "    {\"name\": \"$Size$-$Inv$\",       \"path\": \"C:/Data/FrenchDartmouth/25_Portfolios_ME_INV_5x5.CSV\"},\n",
    "    {\"name\": \"$Size$-$NI$\",        \"path\": \"C:/Data/FrenchDartmouth/25_Portfolios_ME_NI_5x5.csv\"},\n",
    "    {\"name\": \"$Size$-$OP$\",        \"path\": \"C:/Data/FrenchDartmouth/25_Portfolios_ME_OP_5x5.CSV\"},\n",
    "    {\"name\": \"$Size$-$Prior$\",     \"path\": \"C:/Data/FrenchDartmouth/25_Portfolios_ME_Prior_12_2.CSV\"},\n",
    "    {\"name\": \"$Size$-$RVar$\",      \"path\": \"C:/Data/FrenchDartmouth/25_Portfolios_ME_RESVAR_5x5.csv\"},\n",
    "    {\"name\": \"$Size$-$Var$\",       \"path\": \"C:/Data/FrenchDartmouth/25_Portfolios_ME_VAR_5x5.csv\"},\n",
    "    {\"name\": \"$Size$-$BM$-$Inv$\",    \"path\": \"C:/Data/FrenchDartmouth/32_Portfolios_ME_BEME_INV_2x4x4.CSV\"},\n",
    "    {\"name\": \"$Size$-$BM$-$OP$\",     \"path\": \"C:/Data/FrenchDartmouth/32_Portfolios_ME_BEME_OP_2x4x4.CSV\"},\n",
    "    #{\"name\": \"$Size$-$BM^m$-$Prior$\",  \"path\": \"C:/Data/Thesis/32_Portfolios_ME_BM_PR.csv\"},\n",
    "    {\"name\": \"$Size$-$OP$-$Inv$\",    \"path\": \"C:/Data/FrenchDartmouth/32_Portfolios_ME_OP_INV_2x4x4.CSV\"},\n",
    "]\n",
    "\n",
    "for anomaly in anomalies:\n",
    "    #print(anomaly)\n",
    "    anomaly[\"df\"] = pd.read_csv(anomaly[\"path\"])\n",
    "    anomaly[\"df\"] = anomaly[\"df\"].iloc[:642, 1:]\n",
    "    anomaly[\"df\"].index = F.index\n",
    "    anomaly[\"df\"] = anomaly[\"df\"].fillna(-99.99)\n",
    "\n",
    "    anomaly[\"GRS\"] = {\n",
    "        #\"CAPM\": \"{:.3f}\".format(GRS(anomaly[\"df\"], F, [\"rm\",])),\n",
    "        #\"FF1993\": \"{:.3f}\".format(GRS(anomaly[\"df\"], F, ff1993)),\n",
    "        \"C1997\": \"{:.2f}\".format(GRS(anomaly[\"df\"], F, c1997)),\n",
    "        \"C1997b\": \"{:.2f}\".format(GRS(anomaly[\"df\"], F, c1997b)),\n",
    "        #\"FF2015\": \"{:.3f}\".format(GRS(anomaly[\"df\"], F, ff2015)),\n",
    "        #\"FF2016a\": \"{:.3f}\".format(GRS(anomaly[\"df\"], F, ff2016a)),\n",
    "        \"FF2016\": \"{:.2f}\".format(GRS(anomaly[\"df\"], F, ff2016)),\n",
    "        \"B2016\": \"{:.2f}\".format(GRS(anomaly[\"df\"], F, b2016)),\n",
    "        \"B2016b\": \"{:.2f}\".format(GRS(anomaly[\"df\"], F, b2016b)),\n",
    "        \"B2016c\": \"{:.2f}\".format(GRS(anomaly[\"df\"], F, b2016c)),\n",
    "    }\n",
    "\n",
    "All, All_BM, All_Non_BM = {\"name\": \"All\"}, {\"name\": \"All ($BM$)\"}, {\"name\": \"All (Non-$BM$)\"}\n",
    "\n",
    "for anomaly in anomalies:\n",
    "    if not \"df\" in All:\n",
    "        All[\"df\"] = anomaly[\"df\"]\n",
    "    All[\"df\"] = All[\"df\"].merge(anomaly[\"df\"], left_index=True, right_index=True)\n",
    "    if \"BM\" in anomaly[\"name\"]:\n",
    "        if not \"df\" in All_BM:\n",
    "            All_BM[\"df\"] = anomaly[\"df\"]\n",
    "        All_BM[\"df\"] = All_BM[\"df\"].merge(anomaly[\"df\"], left_index=True, right_index=True)\n",
    "    if not \"BM\" in anomaly[\"name\"]:\n",
    "        if not \"df\" in All_Non_BM:\n",
    "            All_Non_BM[\"df\"] = anomaly[\"df\"]\n",
    "        All_Non_BM[\"df\"] = All_Non_BM[\"df\"].merge(anomaly[\"df\"], left_index=True, right_index=True)\n",
    "    \n",
    "    #anomaly.pop(\"df\")\n",
    "\n",
    "for anomaly in [All, All_BM, All_Non_BM]:\n",
    "    anomaly[\"GRS\"] = {\n",
    "        #\"CAPM\": \"{:.3f}\".format(GRS(anomaly[\"df\"], F, [\"rm\",])),\n",
    "        #\"FF1993\": \"{:.3f}\".format(GRS(anomaly[\"df\"], F, ff1993)),\n",
    "        \"C1997\": \"{:.2f}\".format(GRS(anomaly[\"df\"], F, c1997)),\n",
    "        \"C1997b\": \"{:.2f}\".format(GRS(anomaly[\"df\"], F, c1997b)),\n",
    "        #\"FF2015\": \"{:.3f}\".format(GRS(anomaly[\"df\"], F, ff2015)),\n",
    "        #\"FF2016a\": \"{:.3f}\".format(GRS(anomaly[\"df\"], F, ff2016a)),\n",
    "        \"FF2016\": \"{:.2f}\".format(GRS(anomaly[\"df\"], F, ff2016)),\n",
    "        \"B2016\": \"{:.2f}\".format(GRS(anomaly[\"df\"], F, b2016)),\n",
    "        \"B2016b\": \"{:.2f}\".format(GRS(anomaly[\"df\"], F, b2016b)),\n",
    "        \"B2016c\": \"{:.2f}\".format(GRS(anomaly[\"df\"], F, b2016c)),\n",
    "    }\n",
    "\n",
    "    #anomaly.pop(\"df\")\n",
    "\n",
    "anomalies.extend([All_BM, All_Non_BM, All])"
   ]
  },
  {
   "cell_type": "markdown",
   "metadata": {},
   "source": [
    "### With $Size$-$BM$-$Prior$"
   ]
  },
  {
   "cell_type": "code",
   "execution_count": null,
   "metadata": {},
   "outputs": [],
   "source": [
    "anomaly = {\"name\": \"$Size$-$BM^m$-$Prior$\",  \"path\": \"C:/Data/Thesis/32_Portfolios_ME_BM_PR.csv\"}\n",
    "\n",
    "anomaly[\"df\"] = pd.read_csv(anomaly[\"path\"])\n",
    "anomaly[\"df\"] = anomaly[\"df\"].iloc[:642, 1:]\n",
    "anomaly[\"df\"].index = F.index\n",
    "anomaly[\"df\"] = anomaly[\"df\"].fillna(-99.99)\n",
    "\n",
    "anomaly[\"GRS\"] = {\n",
    "    #\"CAPM\": \"{:.3f}\".format(GRS(anomaly[\"df\"], F, [\"rm\",])),\n",
    "    #\"FF1993\": \"{:.3f}\".format(GRS(anomaly[\"df\"], F, ff1993)),\n",
    "    \"C1997\": \"{:.2f}\".format(GRS(anomaly[\"df\"], F, c1997)),\n",
    "    \"C1997b\": \"{:.2f}\".format(GRS(anomaly[\"df\"], F, c1997b)),\n",
    "    #\"FF2015\": \"{:.3f}\".format(GRS(anomaly[\"df\"], F, ff2015)),\n",
    "    #\"FF2016a\": \"{:.3f}\".format(GRS(anomaly[\"df\"], F, ff2016a)),\n",
    "    \"FF2016\": \"{:.2f}\".format(GRS(anomaly[\"df\"], F, ff2016)),\n",
    "    \"B2016\": \"{:.2f}\".format(GRS(anomaly[\"df\"], F, b2016)),\n",
    "    \"B2016b\": \"{:.2f}\".format(GRS(anomaly[\"df\"], F, b2016b)),\n",
    "    \"B2016c\": \"{:.2f}\".format(GRS(anomaly[\"df\"], F, b2016c)),\n",
    "}\n",
    "\n",
    "anomalies.append(anomaly)\n",
    "\n",
    "All, All_BM, All_Non_BM = {\"name\": \"All\"}, {\"name\": \"All ($BM$)\"}, {\"name\": \"All (Non-$BM$)\"}\n",
    "\n",
    "for anomaly in anomalies:\n",
    "\n",
    "    print(anomaly[\"name\"], end=\" \")\n",
    "    if anomaly[\"name\"] in [\"All\", \"All ($BM$)\", \"All (Non-$BM$)\"]:\n",
    "        print(\"Excluded\")\n",
    "        continue\n",
    "\n",
    "    print(\"Included\")\n",
    "    if not \"df\" in All:\n",
    "        All[\"df\"] = anomaly[\"df\"]\n",
    "\n",
    "    All[\"df\"] = All[\"df\"].merge(anomaly[\"df\"], left_index=True, right_index=True)\n",
    "\n",
    "    if \"BM\" in anomaly[\"name\"]:\n",
    "        if not \"df\" in All_BM:\n",
    "            All_BM[\"df\"] = anomaly[\"df\"]\n",
    "        All_BM[\"df\"] = All_BM[\"df\"].merge(anomaly[\"df\"], left_index=True, right_index=True)\n",
    "\n",
    "    if not \"BM\" in anomaly[\"name\"]:\n",
    "        if not \"df\" in All_Non_BM:\n",
    "            All_Non_BM[\"df\"] = anomaly[\"df\"]\n",
    "        All_Non_BM[\"df\"] = All_Non_BM[\"df\"].merge(anomaly[\"df\"], left_index=True, right_index=True)\n",
    "    \n",
    "    #anomaly.pop(\"df\")\n",
    "\n",
    "for anomaly in [All, All_BM, All_Non_BM]:\n",
    "    anomaly[\"GRS\"] = {\n",
    "        #\"CAPM\": \"{:.3f}\".format(GRS(anomaly[\"df\"], F, [\"rm\",])),\n",
    "        #\"FF1993\": \"{:.3f}\".format(GRS(anomaly[\"df\"], F, ff1993)),\n",
    "        \"C1997\": \"{:.2f}\".format(GRS(anomaly[\"df\"], F, c1997)),\n",
    "        \"C1997b\": \"{:.2f}\".format(GRS(anomaly[\"df\"], F, c1997b)),\n",
    "        #\"FF2015\": \"{:.3f}\".format(GRS(anomaly[\"df\"], F, ff2015)),\n",
    "        #\"FF2016a\": \"{:.3f}\".format(GRS(anomaly[\"df\"], F, ff2016a)),\n",
    "        \"FF2016\": \"{:.2f}\".format(GRS(anomaly[\"df\"], F, ff2016)),\n",
    "        \"B2016\": \"{:.2f}\".format(GRS(anomaly[\"df\"], F, b2016)),\n",
    "        \"B2016b\": \"{:.2f}\".format(GRS(anomaly[\"df\"], F, b2016b)),\n",
    "        \"B2016c\": \"{:.2f}\".format(GRS(anomaly[\"df\"], F, b2016c)),\n",
    "    }\n",
    "\n",
    "    anomaly.pop(\"df\")\n",
    "\n",
    "anomalies.extend([All_BM, All_Non_BM, All])"
   ]
  },
  {
   "cell_type": "code",
   "execution_count": null,
   "metadata": {},
   "outputs": [],
   "source": [
    "anomalies.append({\"name\": \"$Sh^2$\", \"GRS\": {\n",
    "    \"C1997\": \"{:.2f}\".format(Sh2(F[c1997].as_matrix())),\n",
    "    \"C1997b\": \"{:.2f}\".format(Sh2(F[c1997b].as_matrix())),\n",
    "    \"FF2016\": \"{:.2f}\".format(Sh2(F[ff2016].as_matrix())),\n",
    "    \"B2016\": \"{:.2f}\".format(Sh2(F[b2016].as_matrix())),\n",
    "    \"B2016b\": \"{:.2f}\".format(Sh2(F[b2016b].as_matrix())),\n",
    "    \"B2016c\": \"{:.2f}\".format(Sh2(F[b2016c].as_matrix())),\n",
    "}})"
   ]
  },
  {
   "cell_type": "code",
   "execution_count": null,
   "metadata": {},
   "outputs": [],
   "source": [
    "template = env.get_template(\"GRS_template.txt\")"
   ]
  },
  {
   "cell_type": "code",
   "execution_count": null,
   "metadata": {},
   "outputs": [],
   "source": [
    "context = {\n",
    "    \"caption\": r\"GRS Statistic and $Sh^2$ -- 1963-07 through 2016-12\",\n",
    "    \"label\": \"tbl:GRS\",\n",
    "    \"model_names\": [\"C1997\", \"C1997b\", \"FF2016\", \"B2016\", \"B2016b\", \"B2016c\"],\n",
    "    \"anomalies\": anomalies,\n",
    "}"
   ]
  },
  {
   "cell_type": "code",
   "execution_count": null,
   "metadata": {},
   "outputs": [],
   "source": [
    "with open(os.path.join(path, \"GRS_196307_201612.tex\"), \"w\") as table:\n",
    "    table.write(template.render(context))"
   ]
  }
 ],
 "metadata": {
  "kernelspec": {
   "display_name": "Python 3",
   "language": "python",
   "name": "python3"
  },
  "language_info": {
   "codemirror_mode": {
    "name": "ipython",
    "version": 3
   },
   "file_extension": ".py",
   "mimetype": "text/x-python",
   "name": "python",
   "nbconvert_exporter": "python",
   "pygments_lexer": "ipython3",
   "version": "3.5.2"
  }
 },
 "nbformat": 4,
 "nbformat_minor": 2
}
