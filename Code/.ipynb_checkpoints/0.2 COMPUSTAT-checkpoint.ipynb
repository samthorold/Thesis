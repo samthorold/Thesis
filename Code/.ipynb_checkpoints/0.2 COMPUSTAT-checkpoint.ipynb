{
 "cells": [
  {
   "cell_type": "markdown",
   "metadata": {},
   "source": [
    "# COMPUSTAT\n",
    "\n",
    "- Load COMPUSTAT data\n",
    "- Tickle the data\n",
    "- Create variables\n",
    "    + Book Equity\n",
    "    + Operating Profit\n",
    "    + Operating Profit less Research Costs\n",
    "    + Accruals\n",
    "    + Operating Profits less Research Costs less Accruals"
   ]
  },
  {
   "cell_type": "code",
   "execution_count": null,
   "metadata": {},
   "outputs": [],
   "source": [
    "library(data.table)    # read csv much faster than standard function\n",
    "library(dplyr)         # infinitely nicer grouping operations\n",
    "library(ggplot2)       # sexy plots"
   ]
  },
  {
   "cell_type": "markdown",
   "metadata": {},
   "source": [
    "## Load Data"
   ]
  },
  {
   "cell_type": "code",
   "execution_count": null,
   "metadata": {},
   "outputs": [],
   "source": [
    "comp.path = 'C:/Data/CRSP/20171123_COMP_196001_201612.csv'\n",
    "# fread rather smugly reports how quickly it has read our file\n",
    "#   if we do not set showProgress=FALSE\n",
    "comp = fread(comp.path, showProgress=FALSE)\n",
    "setnames(comp, c(\"LPERMNO\", \"datadate\"), c(\"PERMNO\", \"date\"))"
   ]
  },
  {
   "cell_type": "markdown",
   "metadata": {},
   "source": [
    "How many firms do we have?"
   ]
  },
  {
   "cell_type": "code",
   "execution_count": null,
   "metadata": {},
   "outputs": [],
   "source": [
    "options(repr.plot.width=8, repr.plot.height=3)\n",
    "\n",
    "dt = comp %>% group_by(fyear) %>% summarise(N=n())\n",
    "ggplot(dt, aes(x=fyear, y=N)) + geom_line()"
   ]
  },
  {
   "cell_type": "markdown",
   "metadata": {},
   "source": [
    "We have many accounting variables from COMPUSTAT.\n",
    "Oddly, `apc`, `arc` and `artfs` appear to be missing\n",
    "in every row.\n",
    "We will drop them along with weird stuff added by\n",
    "COMPUSTAT."
   ]
  },
  {
   "cell_type": "code",
   "execution_count": null,
   "metadata": {},
   "outputs": [],
   "source": [
    "comp = subset(comp, select=-c(apc, arc, artfs, indfmt, consol,\n",
    "                              popsrc, datafmt, curcd, costat))"
   ]
  },
  {
   "cell_type": "code",
   "execution_count": null,
   "metadata": {},
   "outputs": [],
   "source": [
    "# str(comp)"
   ]
  },
  {
   "cell_type": "markdown",
   "metadata": {},
   "source": [
    "## Short Years\n",
    "\n",
    "There should be no duplicate `PERMNO` and `fyear` pairs.\n",
    "This can happen when firms change their fiscal year-end.\n",
    "In this case we will keep the most recent values."
   ]
  },
  {
   "cell_type": "code",
   "execution_count": null,
   "metadata": {},
   "outputs": [],
   "source": [
    "# duplicated will omit return FALSE for the first instance of a duplicated row\n",
    "# calling from the top and the bottom ensure all instances are caught\n",
    "comp = comp %>% arrange(PERMNO, fyear, fyr)\n",
    "pairs.ix = duplicated(comp[, c(\"PERMNO\", \"fyear\")]) |\n",
    "           duplicated(comp[, c(\"PERMNO\", \"fyear\")], fromLast=TRUE)\n",
    "comp[pairs.ix, 1:5]"
   ]
  },
  {
   "cell_type": "code",
   "execution_count": null,
   "metadata": {},
   "outputs": [],
   "source": [
    "pairs.ix = duplicated(comp[, c(\"PERMNO\", \"fyear\")], fromLast=TRUE)\n",
    "comp[pairs.ix, 1:5]"
   ]
  },
  {
   "cell_type": "code",
   "execution_count": null,
   "metadata": {},
   "outputs": [],
   "source": [
    "comp = comp[!pairs.ix,]\n",
    "comp = comp[!is.na(comp$fyr),]"
   ]
  },
  {
   "cell_type": "markdown",
   "metadata": {},
   "source": [
    "## Book Equity\n",
    "\n",
    "$$BE = seq + txditc - ps$$\n",
    "where $ps$ equals (in order of preference); $pstkrv$, $pstkl$ or $pstk$.\n",
    "If all measures of preferred stock are missing,\n",
    "$$BE = ceq + upstk$$\n",
    "if we still do not have a value for $BE$,\n",
    "$$BE = at - lt$$"
   ]
  },
  {
   "cell_type": "code",
   "execution_count": null,
   "metadata": {},
   "outputs": [],
   "source": [
    "comp$ps = comp$pstkrv                                   # Redemption\n",
    "comp$ps[is.na(comp$ps)] = comp$pstkl[is.na(comp$ps)]    # Liquidation\n",
    "comp$ps[is.na(comp$ps)] = comp$pstk[is.na(comp$ps)]     # Book\n",
    "comp$ps[is.na(comp$ps)] = 0\n",
    "\n",
    "comp$txditc[is.na(comp$txditc)] = 0\n",
    "\n",
    "# Asness and Frazzini use only seq\n",
    "\n",
    "comp$BE = comp$seq + comp$txditc - comp$ps\n",
    "\n",
    "comp$upstk[is.na(comp$upstk)] = 0\n",
    "\n",
    "# Common Equity PLUS Par Value of Preferred Stock?\n",
    "ix = is.na(comp$BE)\n",
    "comp$BE[ix] = comp$ceq[ix] + comp$upstk[ix]\n",
    "\n",
    "ix = is.na(comp$BE)\n",
    "comp$BE[ix] = comp$at[ix] - comp$lt[ix]\n",
    "\n",
    "comp = comp %>% group_by(PERMNO) %>%\n",
    "    mutate(D1.BE=BE-lag(BE)) %>% as.data.frame"
   ]
  },
  {
   "cell_type": "code",
   "execution_count": null,
   "metadata": {},
   "outputs": [],
   "source": [
    "dt = comp %>% group_by(fyear) %>% summarise(mssg=sum(is.na(BE))/n())\n",
    "p = ggplot(dt, aes(x=fyear, y=mssg*100)) + geom_line()\n",
    "p = p + scale_x_continuous(limits=c(1963, 2015),\n",
    "                           breaks=seq(1963, 2015, 2))\n",
    "p + theme(axis.text.x=element_text(angle=90, vjust=0.5))"
   ]
  },
  {
   "cell_type": "markdown",
   "metadata": {},
   "source": [
    "## Operating Profit\n",
    "\n",
    "$$OP = (revt - cogs - xsga - xint)/BE$$"
   ]
  },
  {
   "cell_type": "code",
   "execution_count": null,
   "metadata": {},
   "outputs": [],
   "source": [
    "expenses.OK = !is.na(comp$cogs) | !is.na(!comp$xsga) | !is.na(comp$xint)\n",
    "comp$cogs[is.na(comp$cogs)] = 0\n",
    "comp$xsga[is.na(comp$xsga)] = 0\n",
    "comp$xint[is.na(comp$xint)] = 0\n",
    "\n",
    "comp$op.OK = !is.na(comp$revt) & expenses.OK\n",
    "\n",
    "comp$op = comp$revt - comp$cogs - comp$xsga - comp$xint"
   ]
  },
  {
   "cell_type": "code",
   "execution_count": null,
   "metadata": {},
   "outputs": [],
   "source": [
    "dt = comp %>% group_by(fyear) %>% summarise(mssg=sum(is.na(op))/n())\n",
    "p = ggplot(dt, aes(x=fyear, y=mssg*100)) + geom_line()\n",
    "p = p + scale_x_continuous(limits=c(1963, 2015), breaks=seq(1963, 2015, 2))\n",
    "p = p + scale_y_continuous(limits=c(0, 15), breaks=seq(0, 15, 1))\n",
    "p + theme(axis.text.x=element_text(angle=90, vjust=0.5))"
   ]
  },
  {
   "cell_type": "code",
   "execution_count": null,
   "metadata": {},
   "outputs": [],
   "source": [
    "comp$OP.OK = (comp$BE > 0) & comp$op.OK\n",
    "\n",
    "comp$OP.OK[is.na(comp$OP.OK)] = FALSE\n",
    "\n",
    "comp$OP = (comp$revt - comp$cogs - comp$xsga - comp$xint)/comp$BE"
   ]
  },
  {
   "cell_type": "code",
   "execution_count": null,
   "metadata": {},
   "outputs": [],
   "source": [
    "dt = comp %>% group_by(fyear) %>% summarise(mssg=sum(is.na(OP))/n())\n",
    "p = ggplot(dt, aes(x=fyear, y=mssg*100)) + geom_line()\n",
    "p = p + scale_x_continuous(limits=c(1963, 2015), breaks=seq(1963, 2015, 2))\n",
    "p = p + scale_y_continuous(limits=c(0, 15), breaks=seq(0, 15, 1))\n",
    "p + theme(axis.text.x=element_text(angle=90, vjust=0.5))"
   ]
  },
  {
   "cell_type": "markdown",
   "metadata": {},
   "source": [
    "## Operating Profit less Research Costs\n",
    "\n",
    "$$OP_r = (revt - cogs - xsga - xint + xrd)/BE$$"
   ]
  },
  {
   "cell_type": "code",
   "execution_count": null,
   "metadata": {},
   "outputs": [],
   "source": [
    "comp$xrd[is.na(comp$xrd)] = 0\n",
    "\n",
    "comp$OPr = (comp$op + comp$xrd) / comp$BE"
   ]
  },
  {
   "cell_type": "markdown",
   "metadata": {},
   "source": [
    "## Cash Profit\n",
    "\n",
    "$$CP = (revt - cogs - xsga - xint + xrd + acc)/BE$$\n",
    "where\n",
    "$$acc = -\\Delta rect -\\Delta invt -\\Delta xpp +\\Delta drc +\\Delta ap +\\Delta xacc$$"
   ]
  },
  {
   "cell_type": "code",
   "execution_count": null,
   "metadata": {},
   "outputs": [],
   "source": [
    "comp$xpp[is.na(comp$xpp)] = 0\n",
    "comp$invt[is.na(comp$invt)] = 0\n",
    "comp$drc[is.na(comp$drc)] = 0\n",
    "comp$xacc[is.na(comp$xacc)] = 0\n",
    "comp$ap[is.na(comp$ap)] = 0\n",
    "comp$rect[is.na(comp$rect)] = 0\n",
    "\n",
    "comp = comp %>% group_by(PERMNO) %>% mutate(\n",
    "    D1.rect=rect-lag(rect), D1.xpp=xpp-lag(xpp),\n",
    "    D1.ap=ap-lag(ap), D1.invt=invt-lag(invt),\n",
    "    D1.drc=drc-lag(drc), D1.xacc=xacc-lag(xacc)\n",
    ") %>% as.data.frame\n",
    "\n",
    "comp = comp %>% mutate(op.acc=-D1.rect-D1.invt-D1.xpp+D1.drc+D1.ap+D1.xacc)\n",
    "\n",
    "comp$op.acc[is.na(comp$op.acc)] = 0\n",
    "\n",
    "comp$CP = (comp$op + comp$xrd + comp$op.acc) / comp$BE"
   ]
  },
  {
   "cell_type": "markdown",
   "metadata": {},
   "source": [
    "## Gross Profit"
   ]
  },
  {
   "cell_type": "code",
   "execution_count": null,
   "metadata": {},
   "outputs": [],
   "source": [
    "comp$GP = comp$gp / comp$at\n",
    "ix = is.na(comp$GP)\n",
    "comp$GP[ix] = (comp$revt[ix] - comp$cogs[ix]) / comp$at[ix]\n",
    "comp$GP[is.infinite(comp$GP)] = NA"
   ]
  },
  {
   "cell_type": "code",
   "execution_count": null,
   "metadata": {},
   "outputs": [],
   "source": [
    "dt = comp %>% group_by(fyear) %>% summarise(mssg=sum(is.na(GP))/n())\n",
    "p = ggplot(dt, aes(x=fyear, y=mssg*100)) + geom_line()\n",
    "p = p + scale_x_continuous(limits=c(1963, 2015), breaks=seq(1963, 2015, 2))\n",
    "p = p + scale_y_continuous(limits=c(0, 15), breaks=seq(0, 15, 1))\n",
    "p + theme(axis.text.x=element_text(angle=90, vjust=0.5))"
   ]
  },
  {
   "cell_type": "markdown",
   "metadata": {},
   "source": [
    "## Investment"
   ]
  },
  {
   "cell_type": "code",
   "execution_count": null,
   "metadata": {},
   "outputs": [],
   "source": [
    "comp = comp %>% group_by(PERMNO) %>%\n",
    "    mutate(INV=(at-lag(at))/lag(at)) %>% as.data.frame\n",
    "comp$INV[is.infinite(comp$INV)] = NA"
   ]
  },
  {
   "cell_type": "code",
   "execution_count": null,
   "metadata": {},
   "outputs": [],
   "source": [
    "dt = comp %>% group_by(fyear) %>% summarise(mssg=sum(is.na(INV))/n())\n",
    "p = ggplot(dt, aes(x=fyear, y=mssg*100)) + geom_line()\n",
    "p = p + scale_x_continuous(limits=c(1963, 2015), breaks=seq(1963, 2015, 2))\n",
    "p = p + scale_y_continuous(limits=c(0, 35), breaks=seq(0, 35, 5))\n",
    "p + theme(axis.text.x=element_text(angle=90, vjust=0.5))"
   ]
  }
 ],
 "metadata": {
  "kernelspec": {
   "display_name": "R",
   "language": "R",
   "name": "ir"
  },
  "language_info": {
   "codemirror_mode": "r",
   "file_extension": ".r",
   "mimetype": "text/x-r-source",
   "name": "R",
   "pygments_lexer": "r",
   "version": "3.4.2"
  }
 },
 "nbformat": 4,
 "nbformat_minor": 2
}
