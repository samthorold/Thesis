{
 "cells": [
  {
   "cell_type": "markdown",
   "metadata": {},
   "source": [
    "# Size-Prior Sorts"
   ]
  },
  {
   "cell_type": "code",
   "execution_count": 1,
   "metadata": {},
   "outputs": [
    {
     "data": {
      "text/plain": [
       "'0.22.0'"
      ]
     },
     "execution_count": 1,
     "metadata": {},
     "output_type": "execute_result"
    }
   ],
   "source": [
    "import os\n",
    "import pandas as pd\n",
    "\n",
    "pd.__version__"
   ]
  },
  {
   "cell_type": "code",
   "execution_count": 16,
   "metadata": {},
   "outputs": [],
   "source": [
    "def assign_bkts(df, var, brkpts, prefix=None, suffix=\"Bkt\"):\n",
    "    \"\"\"\n",
    "    Assigns buckets to column `var` based on percentiles in `brkpts`.\n",
    "    \n",
    "    Assumes breakpoints are already in dataframe `df` and are named the same as given in `brkpts`.\n",
    "    Buckets are integers beginning with 1 ending with len(brkpts).\n",
    "    \"\"\"\n",
    "\n",
    "    if not prefix:\n",
    "        prefix = var\n",
    "    varbkt = prefix + suffix\n",
    "\n",
    "    df[varbkt] = pd.np.NaN\n",
    "\n",
    "    for i, brkpt in enumerate(brkpts):  # index begins at 0\n",
    "        if i==0:\n",
    "            df.loc[df[var]<=df[brkpt], varbkt] = 1\n",
    "        else:\n",
    "            df.loc[(df[var]>df[brkpts[i-1]]) & (df[var]<=df[brkpt]), varbkt] = i + 1\n",
    "\n",
    "    return df"
   ]
  },
  {
   "cell_type": "code",
   "execution_count": 2,
   "metadata": {},
   "outputs": [
    {
     "name": "stderr",
     "output_type": "stream",
     "text": [
      "<string>:2: DtypeWarning: Columns (4) have mixed types. Specify dtype option on import or set low_memory=False.\n"
     ]
    },
    {
     "name": "stdout",
     "output_type": "stream",
     "text": [
      "Wall time: 50.3 s\n"
     ]
    }
   ],
   "source": [
    "%%time\n",
    "\n",
    "df = pd.read_csv(\"C:/Data/Thesis/Combined_Data.csv\")"
   ]
  },
  {
   "cell_type": "code",
   "execution_count": 3,
   "metadata": {},
   "outputs": [],
   "source": [
    "df.date = pd.to_datetime(df.date)"
   ]
  },
  {
   "cell_type": "code",
   "execution_count": 32,
   "metadata": {},
   "outputs": [],
   "source": [
    "ME_brk = pd.read_csv(\"C:/Data/Thesis/Brks_Months_ME.csv\")\n",
    "\n",
    "pcts = [.2, .4, .6, .8, 1.]\n",
    "\n",
    "ME_brk = ME_brk.rename(columns=dict(zip([str(pct) for pct in pcts], pcts)))\n",
    "ME_brk.date = pd.to_datetime(ME_brk.date, format=\"%m/%d/%Y\").astype(pd.Timestamp)\n",
    "\n",
    "df = df.merge(ME_brk[[\"date\",] + pcts], on=\"date\", how=\"left\")"
   ]
  },
  {
   "cell_type": "code",
   "execution_count": 34,
   "metadata": {},
   "outputs": [],
   "source": [
    "df = assign_bkts(df, \"ME\", pcts)"
   ]
  },
  {
   "cell_type": "code",
   "execution_count": 36,
   "metadata": {},
   "outputs": [],
   "source": [
    "df[\"L1_MEBkt\"] = df.groupby(\"PERMNO\")[\"MEBkt\"].shift(1)\n",
    "df = df.drop(pcts, axis=1)"
   ]
  },
  {
   "cell_type": "code",
   "execution_count": 18,
   "metadata": {},
   "outputs": [],
   "source": [
    "Prior_bkts = pd.read_csv(\"C:/Data/Thesis/Bkts_Prior_5.csv\")\n",
    "\n",
    "Prior_bkts.date = pd.to_datetime(Prior_bkts.date).astype(pd.Timestamp)\n",
    "\n",
    "df = df.merge(Prior_bkts, on=[\"PERMNO\", \"date\"], how=\"left\")"
   ]
  },
  {
   "cell_type": "code",
   "execution_count": null,
   "metadata": {},
   "outputs": [],
   "source": [
    "grp, ix = [\"date\", \"L1_MEBkt\", \"PriorBkt\"], ((df.PriorOK) & (~df.L1_ME.isna()))\n",
    "\n",
    "df[\"BktSize\"] = df[ix].groupby(grp)[\"L1_ME\"].transform(\"sum\")"
   ]
  },
  {
   "cell_type": "code",
   "execution_count": 67,
   "metadata": {},
   "outputs": [
    {
     "data": {
      "text/plain": [
       "array([[0.52, 1.02, 1.24, 1.38, 1.61],\n",
       "       [0.6 , 1.01, 1.22, 1.32, 1.55],\n",
       "       [0.73, 1.01, 1.09, 1.13, 1.48],\n",
       "       [0.68, 0.99, 1.04, 1.16, 1.36],\n",
       "       [0.65, 0.86, 0.79, 0.98, 1.17]])"
      ]
     },
     "execution_count": 67,
     "metadata": {},
     "output_type": "execute_result"
    }
   ],
   "source": [
    "col = \"RET\"\n",
    "\n",
    "df[\"Wt\"+col] = df[col] * df.L1_ME / df.BktSize\n",
    "\n",
    "bkt = df[ix].groupby(grp)[\"Wt\"+col].sum()\n",
    "bkt = bkt.reset_index(grp[1:])\n",
    "bkt[grp[1]+grp[2]] = \"B\" + bkt[grp[1]].astype(\"int\").astype(\"str\") + bkt[grp[2]].astype(\"int\").astype(\"str\")\n",
    "bkt = bkt.pivot(columns=grp[1]+grp[2], values=\"Wt\"+col)\n",
    "\n",
    "multiplier = 100 if col==\"RET\" else 1\n",
    "\n",
    "(bkt[\"1963-07\":\"2017-12\"].mean()*multiplier).round(2).values.reshape([5, 5])  # Gross returns, not excess"
   ]
  },
  {
   "cell_type": "code",
   "execution_count": 62,
   "metadata": {},
   "outputs": [
    {
     "data": {
      "text/plain": [
       "array([[-0.38, -0.01,  0.12,  0.26,  0.68],\n",
       "       [-0.3 , -0.01,  0.12,  0.26,  0.64],\n",
       "       [-0.27, -0.01,  0.12,  0.26,  0.61],\n",
       "       [-0.24, -0.01,  0.12,  0.26,  0.57],\n",
       "       [-0.2 , -0.01,  0.12,  0.26,  0.51]])"
      ]
     },
     "execution_count": 62,
     "metadata": {},
     "output_type": "execute_result"
    }
   ],
   "source": [
    "col = \"Prior\"\n",
    "\n",
    "df[\"Wt\"+col] = df[col] * df.L1_ME / df.BktSize\n",
    "\n",
    "bkt = df[ix].groupby(grp)[\"Wt\"+col].sum()\n",
    "bkt = bkt.reset_index(grp[1:])\n",
    "bkt[grp[1]+grp[2]] = \"B\" + bkt[grp[1]].astype(\"int\").astype(\"str\") + bkt[grp[2]].astype(\"int\").astype(\"str\")\n",
    "bkt = bkt.pivot(columns=grp[1]+grp[2], values=\"Wt\"+col)\n",
    "\n",
    "multiplier = 100 if col==\"RET\" else 1\n",
    "\n",
    "(bkt[\"1963-07\":\"2017-12\"].mean()*multiplier).round(2).values.reshape([5, 5])  # Gross returns, not excess"
   ]
  },
  {
   "cell_type": "code",
   "execution_count": 60,
   "metadata": {},
   "outputs": [
    {
     "data": {
      "text/plain": [
       "array([[0.97, 0.84, 0.78, 0.69, 0.49],\n",
       "       [0.82, 0.72, 0.67, 0.6 , 0.41],\n",
       "       [0.8 , 0.7 , 0.65, 0.57, 0.4 ],\n",
       "       [0.8 , 0.68, 0.63, 0.55, 0.41],\n",
       "       [0.66, 0.59, 0.53, 0.48, 0.4 ]])"
      ]
     },
     "execution_count": 60,
     "metadata": {},
     "output_type": "execute_result"
    }
   ],
   "source": [
    "col = \"BMm\"\n",
    "\n",
    "df[\"Wt\"+col] = df[col] * df.L1_ME / df.BktSize\n",
    "\n",
    "bkt = df[ix].groupby(grp)[\"Wt\"+col].sum()\n",
    "bkt = bkt.reset_index(grp[1:])\n",
    "bkt[grp[1]+grp[2]] = \"B\" + bkt[grp[1]].astype(\"int\").astype(\"str\") + bkt[grp[2]].astype(\"int\").astype(\"str\")\n",
    "bkt = bkt.pivot(columns=grp[1]+grp[2], values=\"Wt\"+col)\n",
    "\n",
    "multiplier = 100 if col==\"RET\" else 1\n",
    "\n",
    "(bkt[\"1963-07\":\"2017-12\"].mean()*multiplier).round(2).values.reshape([5, 5])  # Gross returns, not excess"
   ]
  },
  {
   "cell_type": "code",
   "execution_count": 61,
   "metadata": {},
   "outputs": [
    {
     "data": {
      "text/plain": [
       "array([[0.65, 0.77, 0.81, 0.82, 0.78],\n",
       "       [0.6 , 0.69, 0.71, 0.72, 0.64],\n",
       "       [0.6 , 0.68, 0.71, 0.69, 0.62],\n",
       "       [0.62, 0.66, 0.68, 0.66, 0.62],\n",
       "       [0.54, 0.57, 0.58, 0.58, 0.58]])"
      ]
     },
     "execution_count": 61,
     "metadata": {},
     "output_type": "execute_result"
    }
   ],
   "source": [
    "col = \"BM\"\n",
    "\n",
    "df[\"Wt\"+col] = df[col] * df.L1_ME / df.BktSize\n",
    "\n",
    "bkt = df[ix].groupby(grp)[\"Wt\"+col].sum()\n",
    "bkt = bkt.reset_index(grp[1:])\n",
    "bkt[grp[1]+grp[2]] = \"B\" + bkt[grp[1]].astype(\"int\").astype(\"str\") + bkt[grp[2]].astype(\"int\").astype(\"str\")\n",
    "bkt = bkt.pivot(columns=grp[1]+grp[2], values=\"Wt\"+col)\n",
    "\n",
    "multiplier = 100 if col==\"RET\" else 1\n",
    "\n",
    "(bkt[\"1963-07\":\"2017-12\"].mean()*multiplier).round(2).values.reshape([5, 5])  # Gross returns, not excess"
   ]
  },
  {
   "cell_type": "code",
   "execution_count": 64,
   "metadata": {},
   "outputs": [
    {
     "data": {
      "text/plain": [
       "array([[0.22, 0.16, 0.13, 0.13, 0.13],\n",
       "       [0.25, 0.17, 0.16, 0.15, 0.19],\n",
       "       [0.23, 0.15, 0.14, 0.15, 0.2 ],\n",
       "       [0.19, 0.14, 0.13, 0.14, 0.19],\n",
       "       [0.2 , 0.14, 0.12, 0.13, 0.18]])"
      ]
     },
     "execution_count": 64,
     "metadata": {},
     "output_type": "execute_result"
    }
   ],
   "source": [
    "col = \"Inv\"\n",
    "\n",
    "df[\"Wt\"+col] = df[col] * df.L1_ME / df.BktSize\n",
    "\n",
    "bkt = df[ix].groupby(grp)[\"Wt\"+col].sum()\n",
    "bkt = bkt.reset_index(grp[1:])\n",
    "bkt[grp[1]+grp[2]] = \"B\" + bkt[grp[1]].astype(\"int\").astype(\"str\") + bkt[grp[2]].astype(\"int\").astype(\"str\")\n",
    "bkt = bkt.pivot(columns=grp[1]+grp[2], values=\"Wt\"+col)\n",
    "\n",
    "multiplier = 100 if col==\"RET\" else 1\n",
    "\n",
    "(bkt[\"1963-07\":\"2017-12\"].replace([pd.np.inf, -pd.np.inf], pd.np.nan).mean()*multiplier).round(2).values.reshape([5, 5])"
   ]
  },
  {
   "cell_type": "code",
   "execution_count": 65,
   "metadata": {},
   "outputs": [
    {
     "data": {
      "text/plain": [
       "array([[ 0.12,  0.22,  0.18,  0.19,  0.31],\n",
       "       [ 0.21,  0.27,  0.23,  0.25,  0.23],\n",
       "       [ 0.28,  0.28,  0.29,  0.27,  0.32],\n",
       "       [-0.03,  0.25,  0.29,  0.27,  0.27],\n",
       "       [ 0.35,  0.52,  0.21, -0.21,  0.37]])"
      ]
     },
     "execution_count": 65,
     "metadata": {},
     "output_type": "execute_result"
    }
   ],
   "source": [
    "col = \"CP\"\n",
    "\n",
    "df[\"Wt\"+col] = df[col] * df.L1_ME / df.BktSize\n",
    "\n",
    "bkt = df[ix].groupby(grp)[\"Wt\"+col].sum()\n",
    "bkt = bkt.reset_index(grp[1:])\n",
    "bkt[grp[1]+grp[2]] = \"B\" + bkt[grp[1]].astype(\"int\").astype(\"str\") + bkt[grp[2]].astype(\"int\").astype(\"str\")\n",
    "bkt = bkt.pivot(columns=grp[1]+grp[2], values=\"Wt\"+col)\n",
    "\n",
    "multiplier = 100 if col==\"RET\" else 1\n",
    "\n",
    "(bkt[\"1963-07\":\"2017-12\"].replace([pd.np.inf, -pd.np.inf], pd.np.nan).mean()*multiplier).round(2).values.reshape([5, 5])"
   ]
  },
  {
   "cell_type": "code",
   "execution_count": 66,
   "metadata": {},
   "outputs": [
    {
     "data": {
      "text/plain": [
       "array([[-0.05,  0.04,  0.09,  0.15,  0.28],\n",
       "       [-0.13,  0.08,  0.08,  0.14,  0.32],\n",
       "       [ 0.1 ,  0.09,  0.07,  0.14,  0.33],\n",
       "       [ 0.13,  0.1 ,  0.11,  0.11,  0.27],\n",
       "       [ 0.15,  0.18,  0.04, -0.1 ,  0.27]])"
      ]
     },
     "execution_count": 66,
     "metadata": {},
     "output_type": "execute_result"
    }
   ],
   "source": [
    "col = \"BE_Growth_Future\"\n",
    "\n",
    "df[\"Wt\"+col] = df[col] * df.L1_ME / df.BktSize\n",
    "\n",
    "bkt = df[ix].groupby(grp)[\"Wt\"+col].sum()\n",
    "bkt = bkt.reset_index(grp[1:])\n",
    "bkt[grp[1]+grp[2]] = \"B\" + bkt[grp[1]].astype(\"int\").astype(\"str\") + bkt[grp[2]].astype(\"int\").astype(\"str\")\n",
    "bkt = bkt.pivot(columns=grp[1]+grp[2], values=\"Wt\"+col)\n",
    "\n",
    "multiplier = 100 if col==\"RET\" else 1\n",
    "\n",
    "(bkt[\"1963-07\":\"2017-12\"].replace([pd.np.inf, -pd.np.inf], pd.np.nan).mean()*multiplier).round(2).values.reshape([5, 5])"
   ]
  }
 ],
 "metadata": {
  "kernelspec": {
   "display_name": "Python 3",
   "language": "python",
   "name": "python3"
  },
  "language_info": {
   "codemirror_mode": {
    "name": "ipython",
    "version": 3
   },
   "file_extension": ".py",
   "mimetype": "text/x-python",
   "name": "python",
   "nbconvert_exporter": "python",
   "pygments_lexer": "ipython3",
   "version": "3.6.4"
  }
 },
 "nbformat": 4,
 "nbformat_minor": 2
}
