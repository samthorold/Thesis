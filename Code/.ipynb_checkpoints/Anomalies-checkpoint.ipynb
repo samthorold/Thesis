{
 "cells": [
  {
   "cell_type": "markdown",
   "metadata": {},
   "source": [
    "# Anomalies"
   ]
  },
  {
   "cell_type": "code",
   "execution_count": 1,
   "metadata": {},
   "outputs": [
    {
     "name": "stderr",
     "output_type": "stream",
     "text": [
      "C:\\Users\\samth\\Miniconda3\\envs\\econ36\\lib\\site-packages\\statsmodels\\compat\\pandas.py:56: FutureWarning: The pandas.core.datetools module is deprecated and will be removed in a future version. Please use the pandas.tseries module instead.\n",
      "  from pandas.core import datetools\n"
     ]
    }
   ],
   "source": [
    "from collections import OrderedDict\n",
    "\n",
    "import jinja2\n",
    "import os\n",
    "import pandas as pd\n",
    "# from scipy.optimize import minimize\n",
    "import statsmodels.api as sm\n",
    "\n",
    "#%matplotlib inline"
   ]
  },
  {
   "cell_type": "code",
   "execution_count": 2,
   "metadata": {},
   "outputs": [
    {
     "data": {
      "text/html": [
       "<div>\n",
       "<style scoped>\n",
       "    .dataframe tbody tr th:only-of-type {\n",
       "        vertical-align: middle;\n",
       "    }\n",
       "\n",
       "    .dataframe tbody tr th {\n",
       "        vertical-align: top;\n",
       "    }\n",
       "\n",
       "    .dataframe thead th {\n",
       "        text-align: right;\n",
       "    }\n",
       "</style>\n",
       "<table border=\"1\" class=\"dataframe\">\n",
       "  <thead>\n",
       "    <tr style=\"text-align: right;\">\n",
       "      <th></th>\n",
       "      <th>rf</th>\n",
       "      <th>rm</th>\n",
       "      <th>smb</th>\n",
       "      <th>hml</th>\n",
       "      <th>rmw</th>\n",
       "      <th>cma</th>\n",
       "      <th>wml</th>\n",
       "      <th>hmlm</th>\n",
       "      <th>HML</th>\n",
       "      <th>HMLm</th>\n",
       "      <th>PMU06</th>\n",
       "      <th>PMU16</th>\n",
       "      <th>PMU</th>\n",
       "      <th>CMA</th>\n",
       "      <th>WML</th>\n",
       "    </tr>\n",
       "    <tr>\n",
       "      <th>date</th>\n",
       "      <th></th>\n",
       "      <th></th>\n",
       "      <th></th>\n",
       "      <th></th>\n",
       "      <th></th>\n",
       "      <th></th>\n",
       "      <th></th>\n",
       "      <th></th>\n",
       "      <th></th>\n",
       "      <th></th>\n",
       "      <th></th>\n",
       "      <th></th>\n",
       "      <th></th>\n",
       "      <th></th>\n",
       "      <th></th>\n",
       "    </tr>\n",
       "  </thead>\n",
       "  <tbody>\n",
       "    <tr>\n",
       "      <th>1963-07-01</th>\n",
       "      <td>0.27</td>\n",
       "      <td>-0.39</td>\n",
       "      <td>-0.46</td>\n",
       "      <td>-0.81</td>\n",
       "      <td>0.72</td>\n",
       "      <td>-1.16</td>\n",
       "      <td>0.99</td>\n",
       "      <td>-0.59</td>\n",
       "      <td>-0.721155</td>\n",
       "      <td>-0.864465</td>\n",
       "      <td>0.888426</td>\n",
       "      <td>0.739828</td>\n",
       "      <td>0.355650</td>\n",
       "      <td>-1.132040</td>\n",
       "      <td>0.550726</td>\n",
       "    </tr>\n",
       "    <tr>\n",
       "      <th>1963-08-01</th>\n",
       "      <td>0.25</td>\n",
       "      <td>5.07</td>\n",
       "      <td>-0.81</td>\n",
       "      <td>1.65</td>\n",
       "      <td>0.42</td>\n",
       "      <td>-0.40</td>\n",
       "      <td>1.08</td>\n",
       "      <td>0.28</td>\n",
       "      <td>1.000628</td>\n",
       "      <td>-0.060107</td>\n",
       "      <td>0.212301</td>\n",
       "      <td>0.470122</td>\n",
       "      <td>0.456718</td>\n",
       "      <td>-0.070141</td>\n",
       "      <td>1.443902</td>\n",
       "    </tr>\n",
       "    <tr>\n",
       "      <th>1963-09-01</th>\n",
       "      <td>0.27</td>\n",
       "      <td>-1.57</td>\n",
       "      <td>-0.48</td>\n",
       "      <td>0.19</td>\n",
       "      <td>-0.80</td>\n",
       "      <td>0.23</td>\n",
       "      <td>0.13</td>\n",
       "      <td>0.27</td>\n",
       "      <td>1.045719</td>\n",
       "      <td>1.463823</td>\n",
       "      <td>-1.169019</td>\n",
       "      <td>-1.130309</td>\n",
       "      <td>-0.665664</td>\n",
       "      <td>-0.361107</td>\n",
       "      <td>0.267052</td>\n",
       "    </tr>\n",
       "    <tr>\n",
       "      <th>1963-10-01</th>\n",
       "      <td>0.29</td>\n",
       "      <td>2.53</td>\n",
       "      <td>-1.29</td>\n",
       "      <td>-0.09</td>\n",
       "      <td>2.75</td>\n",
       "      <td>-2.26</td>\n",
       "      <td>3.14</td>\n",
       "      <td>-2.11</td>\n",
       "      <td>-0.549914</td>\n",
       "      <td>-1.635921</td>\n",
       "      <td>2.612164</td>\n",
       "      <td>3.006009</td>\n",
       "      <td>3.007174</td>\n",
       "      <td>-1.886318</td>\n",
       "      <td>3.648531</td>\n",
       "    </tr>\n",
       "    <tr>\n",
       "      <th>1963-11-01</th>\n",
       "      <td>0.27</td>\n",
       "      <td>-0.85</td>\n",
       "      <td>-0.85</td>\n",
       "      <td>1.71</td>\n",
       "      <td>-0.34</td>\n",
       "      <td>2.22</td>\n",
       "      <td>-0.75</td>\n",
       "      <td>0.91</td>\n",
       "      <td>1.288533</td>\n",
       "      <td>1.400487</td>\n",
       "      <td>-0.099125</td>\n",
       "      <td>-0.481188</td>\n",
       "      <td>-0.625498</td>\n",
       "      <td>0.314912</td>\n",
       "      <td>-1.489579</td>\n",
       "    </tr>\n",
       "  </tbody>\n",
       "</table>\n",
       "</div>"
      ],
      "text/plain": [
       "              rf    rm   smb   hml   rmw   cma   wml  hmlm       HML  \\\n",
       "date                                                                   \n",
       "1963-07-01  0.27 -0.39 -0.46 -0.81  0.72 -1.16  0.99 -0.59 -0.721155   \n",
       "1963-08-01  0.25  5.07 -0.81  1.65  0.42 -0.40  1.08  0.28  1.000628   \n",
       "1963-09-01  0.27 -1.57 -0.48  0.19 -0.80  0.23  0.13  0.27  1.045719   \n",
       "1963-10-01  0.29  2.53 -1.29 -0.09  2.75 -2.26  3.14 -2.11 -0.549914   \n",
       "1963-11-01  0.27 -0.85 -0.85  1.71 -0.34  2.22 -0.75  0.91  1.288533   \n",
       "\n",
       "                HMLm     PMU06     PMU16       PMU       CMA       WML  \n",
       "date                                                                    \n",
       "1963-07-01 -0.864465  0.888426  0.739828  0.355650 -1.132040  0.550726  \n",
       "1963-08-01 -0.060107  0.212301  0.470122  0.456718 -0.070141  1.443902  \n",
       "1963-09-01  1.463823 -1.169019 -1.130309 -0.665664 -0.361107  0.267052  \n",
       "1963-10-01 -1.635921  2.612164  3.006009  3.007174 -1.886318  3.648531  \n",
       "1963-11-01  1.400487 -0.099125 -0.481188 -0.625498  0.314912 -1.489579  "
      ]
     },
     "execution_count": 2,
     "metadata": {},
     "output_type": "execute_result"
    }
   ],
   "source": [
    "factors = pd.read_csv(\"C:/Data/Thesis/_Factors.csv\")\n",
    "\n",
    "myfactors = pd.read_csv(\"C:/Data/Thesis/_MyFactors.csv\")\n",
    "myfactors.iloc[:,1:] = myfactors.iloc[:,1:]*100\n",
    "\n",
    "f = pd.concat([factors, myfactors[[\"HML\", \"HMLm\", \"PMU06\", \"PMU16\", \"PMU\", \"CMA\", \"WML\"]]], axis=1)\n",
    "f.date = pd.to_datetime(f.date.astype(\"str\"), format=\"%Y%m\")\n",
    "f = f.set_index(\"date\")\n",
    "\n",
    "f.head()"
   ]
  },
  {
   "cell_type": "code",
   "execution_count": 3,
   "metadata": {},
   "outputs": [],
   "source": [
    "models = {\n",
    "    \"CAPM\": {\"f\": [\"rm\",],\n",
    "             \"regstr\": r'R^i=a^i+\\beta^iMkt',\n",
    "             \"coefs\": [\"a\", \"b\"],\n",
    "             \"display_coefs\": [\"a\", \"b\"]},\n",
    "    \"F93\": {\"f\": [\"rm\", \"smb\", \"hml\"],\n",
    "               \"regstr\": r'R^i=a^i+\\beta^iMkt+s^iSize+v^iVal',\n",
    "               \"coefs\": [\"a\", \"b\", \"s\", \"v\"],\n",
    "               \"display_coefs\": [\"a\", \"b\", \"s\", \"v\"]},\n",
    "    \"C97\": {\"f\" : [\"rm\", \"smb\", \"hml\", \"wml\"],\n",
    "              \"regstr\": r'R^i=a^i+\\beta^iMkt+s^iSize+v^iVal+m^iMom',\n",
    "              \"coefs\": [\"a\", \"b\", \"s\", \"v\", \"m\"],\n",
    "              \"display_coefs\": [\"a\", \"v\", \"m\"]},\n",
    "    \"C97b\": {\"f\" : [\"rm\", \"smb\", \"HMLm\", \"wml\"],\n",
    "               \"regstr\": r'R^i=a^i+\\beta^iMkt+s^iSize+v^iVal+m^iMom',\n",
    "               \"coefs\": [\"a\", \"b\", \"s\", \"v\", \"m\"],\n",
    "               \"display_coefs\": [\"a\", \"v\", \"m\"]},\n",
    "    \"F15\": {\"f\" : [\"rm\", \"smb\", \"hml\", \"rmw\", \"cma\"],\n",
    "               \"regstr\": r'R^i=a^i+\\beta^iMkt+s^iSize+v^iVal+m^iMom',\n",
    "               \"coefs\": [\"a\", \"b\", \"s\", \"v\", \"p\", \"i\"],\n",
    "              \"display_coefs\": [\"a\", \"v\", \"p\", \"i\"]},\n",
    "    \"F16\": {\"f\" : [\"rm\", \"smb\", \"hml\", \"PMU\", \"cma\"],\n",
    "               \"regstr\": r'R^i=a^i+\\beta^iMkt+s^iSize+v^iVal+p^iProf+i^iInv',\n",
    "               \"coefs\": [\"a\", \"b\", \"s\", \"v\", \"p\", \"i\"],\n",
    "              \"display_coefs\": [\"a\", \"v\", \"p\", \"i\"]},\n",
    "    \"F17\": {\"f\" : [\"rm\", \"smb\", \"hml\", \"PMU\", \"cma\", \"wml\"],\n",
    "               \"regstr\": r'R^i=a^i+\\beta^iMkt+s^iSize+v^iVal+p^iProf+i^iInv+m^iMom',\n",
    "               \"coefs\": [\"a\", \"b\", \"s\", \"v\", \"p\", \"i\", \"m\"],\n",
    "              \"display_coefs\": [\"a\", \"v\", \"p\", \"i\", \"m\"]},\n",
    "    \"B16\": {\"f\" : [\"rm\", \"smb\", \"HMLm\", \"wml\", \"PMU\"],\n",
    "              \"regstr\": r'R^i=a^i+\\beta^iMkt+s^iSize+v^iVal+m^iMom+p^iProf',\n",
    "              \"coefs\": [\"a\", \"b\", \"s\", \"v\", \"m\", \"p\"],\n",
    "              \"display_coefs\": [\"a\", \"v\", \"m\", \"p\"]},\n",
    "    \"B16b\": {\"f\" : [\"rm\", \"smb\", \"HMLm\", \"wml\", \"PMU\", \"cma\"],\n",
    "              \"regstr\": r'R^i=a^i+\\beta^iMkt+s^iSize+v^iVal+m^iMom+p^iProf+i^iInv',\n",
    "              \"coefs\": [\"a\", \"b\", \"s\", \"v\", \"m\", \"p\", \"i\"],\n",
    "              \"display_coefs\": [\"a\", \"v\", \"m\", \"p\", \"i\"]},\n",
    "}"
   ]
  },
  {
   "cell_type": "code",
   "execution_count": 18,
   "metadata": {},
   "outputs": [],
   "source": [
    "def gen_K_I_J_tbl_dict(LHS, f, factors_list, start=\"1963-07\", end=\"2017-12\",\n",
    "                 coef_display_names=None, K=1, I=5, J=5, transpose_tuple=None):\n",
    "\n",
    "    # RHS (independent variables i.e. the model) is the same for each anomaly\n",
    "    # sm.add_constant puts a column named \"const\" as the first column in the DataFrame\n",
    "    rhs = sm.add_constant(f[start:end][factors_list])\n",
    "\n",
    "    tbl_dict = OrderedDict([\n",
    "        (coef, {\"display\": coef, \"coef\": [], \"tval\": []}) for coef in rhs.columns\n",
    "    ])\n",
    "\n",
    "    if coef_display_names:\n",
    "        if len(coef_display_names)==(len(factors_list)+1):\n",
    "            for coefi, coef in enumerate(rhs.columns):\n",
    "                tbl_dict[coef][\"display\"] = coef_display_names[coefi]\n",
    "        else:\n",
    "            print(\"tbl_dictlert: len(coef_display_names)!=(len(factors_list)+1)\",\n",
    "                  \"Don't forget the intercept also needs a display name\",\n",
    "                  \"Using factors_list as coef_display_names\")\n",
    "\n",
    "    # grab the coefficients and t-values for each anomaly portfolio\n",
    "    # in the end, we'll have a list of len(LHS) coefs and tvals\n",
    "    # for each anomaly portfolio\n",
    "    for lhs in LHS.columns:\n",
    "\n",
    "        lhs = LHS[start:end][lhs].fillna(-99.99) - f[start:end][\"rf\"]       # DataFrame\n",
    "\n",
    "        # regress anomaly on factors+constant\n",
    "        model = sm.OLS(lhs, rhs)\n",
    "        fit = model.fit()\n",
    "\n",
    "        # get the coefficients and their t-values for 1 anomaly\n",
    "        # this is in the order of factors_list\n",
    "        coef = [\"{:.2f}\".format(b) for b in fit.params]\n",
    "        tval = [\"{:.2f}\".format(t) for t in fit.tvalues]\n",
    "\n",
    "        for factori, factor in enumerate(rhs.columns):\n",
    "            tbl_dict[factor][\"coef\"].append(coef[factori])\n",
    "            tbl_dict[factor][\"tval\"].append(tval[factori])\n",
    "\n",
    "    # for each coefficient turn the list of coefs and tvals into a KxIxJ array\n",
    "    for coef in tbl_dict:\n",
    "        tbl_dict[coef][\"coef\"] = pd.np.array(tbl_dict[coef][\"coef\"]).reshape(K, I, J)\n",
    "        tbl_dict[coef][\"tval\"] = pd.np.array(tbl_dict[coef][\"tval\"]).reshape(K, I, J)\n",
    "\n",
    "        if transpose_tuple:\n",
    "            tbl_dict[coef][\"coef\"] = tbl_dict[coef][\"coef\"].transpose(transpose_tuple)\n",
    "            tbl_dict[coef][\"tval\"] = tbl_dict[coef][\"tval\"].transpose(transpose_tuple)\n",
    "\n",
    "    return tbl_dict"
   ]
  },
  {
   "cell_type": "code",
   "execution_count": 5,
   "metadata": {},
   "outputs": [],
   "source": [
    "path = \"C:/Users/samth/Dropbox/Thesis/Tex/Tables/\"\n",
    "\n",
    "env = jinja2.Environment(\n",
    "    block_start_string='-%', block_end_string='%-',\n",
    "    variable_start_string='=%', variable_end_string='%=',\n",
    "    loader=jinja2.FileSystemLoader(path)\n",
    ")"
   ]
  },
  {
   "cell_type": "code",
   "execution_count": 6,
   "metadata": {},
   "outputs": [],
   "source": [
    "n_months, start, end = 654, \"1963-07\", \"2017-12\""
   ]
  },
  {
   "cell_type": "code",
   "execution_count": 7,
   "metadata": {},
   "outputs": [],
   "source": [
    "template = env.get_template(\"_K_I_J_template.txt\")"
   ]
  },
  {
   "cell_type": "markdown",
   "metadata": {},
   "source": [
    "## BM Constrained"
   ]
  },
  {
   "cell_type": "code",
   "execution_count": 19,
   "metadata": {},
   "outputs": [
    {
     "name": "stdout",
     "output_type": "stream",
     "text": [
      "B16_25_Size_BM_196307_201712.tex\n",
      "F16_25_Size_BM_196307_201712.tex\n",
      "F17_25_Size_BM_196307_201712.tex\n"
     ]
    }
   ],
   "source": [
    "a, K, I, J = pd.read_csv(\"C:/Data/FrenchDartmouth/25_Portfolios_5x5.CSV\"), 1, 5, 5\n",
    "a = a.iloc[:n_months, 1:]\n",
    "a.index = f.index\n",
    "\n",
    "fname_suffix, col_name = \"25_Size_BM\", r\"BM\"\n",
    "\n",
    "for m in [\"B16\", \"F16\", \"F17\"]:\n",
    "    tbl_dict = gen_K_I_J_tbl_dict(a, f, models[m][\"f\"], start=start, end=end,\n",
    "                                  coef_display_names=models[m][\"coefs\"],\n",
    "                                  K=K, I=I, J=J, transpose_tuple=None)  # ((0, 2, 1)))\n",
    "\n",
    "    context = {\n",
    "        \"coefs\": tbl_dict, \"K\":K, \"I\": I, \"J\": J,\n",
    "        \"col_name\": col_name,\n",
    "        \"col_names\": [\"Low\", \"2\", \"3\", \"4\", \"High\"],\n",
    "        \"row_names\": [\"Small\", \"2\", \"3\", \"4\", \"Big\"],\n",
    "        # \"K_hdrs\": [\"Small\", \"Big\"],\n",
    "        \"regstr\": models[m][\"regstr\"],\n",
    "        \"caption\": \"{} Portfolios with {} Factors {} through {}\".format(fname_suffix.replace(\"_\", \"-\"), m, start, end),\n",
    "        \"label\": \"tbl:{}_{}\".format(fname_suffix, m),\n",
    "        \"font_size\": r\"\\footnotesize\",\n",
    "    }\n",
    "\n",
    "    fname = \"{}_{}_{}_{}.tex\".format(m, fname_suffix, start.replace(\"-\", \"\"), end.replace(\"-\", \"\"))\n",
    "\n",
    "    with open(os.path.join(path, fname), \"w\") as table:\n",
    "        table.write(template.render(context))\n",
    "    print(fname)"
   ]
  },
  {
   "cell_type": "code",
   "execution_count": 20,
   "metadata": {},
   "outputs": [
    {
     "name": "stdout",
     "output_type": "stream",
     "text": [
      "B16_32_Size_BM_Inv_196307_201712.tex\n",
      "F16_32_Size_BM_Inv_196307_201712.tex\n",
      "F17_32_Size_BM_Inv_196307_201712.tex\n"
     ]
    }
   ],
   "source": [
    "a, K, I, J = pd.read_csv(\"C:/Data/FrenchDartmouth/32_Portfolios_ME_BEME_INV_2x4x4.CSV\"), 2, 4, 4\n",
    "a = a.iloc[:n_months, 1:]\n",
    "a.index = f.index\n",
    "\n",
    "fname_suffix, col_name = \"32_Size_BM_Inv\", r\"BM\"\n",
    "\n",
    "for m in [\"B16\", \"F16\", \"F17\"]:\n",
    "    tbl_dict = gen_K_I_J_tbl_dict(a, f, models[m][\"f\"], start=start, end=end,\n",
    "                                  coef_display_names=models[m][\"coefs\"],\n",
    "                                  K=K, I=I, J=J, transpose_tuple=((0, 2, 1)))\n",
    "\n",
    "    context = {\n",
    "        \"coefs\": tbl_dict, \"K\":K, \"I\": I, \"J\": J,\n",
    "        \"col_name\": col_name,\n",
    "        \"col_names\": [\"Low\", \"2\", \"3\", \"High\"],\n",
    "        \"row_names\": [\"Low Inv\", \"2\", \"3\", \"High Inv\"],\n",
    "        \"K_hdrs\": [\"Small\", \"Big\"],\n",
    "        \"regstr\": models[m][\"regstr\"],\n",
    "        \"caption\": \"{} Portfolios with {} Factors {} through {}\".format(fname_suffix.replace(\"_\", \"-\"), m, start, end),\n",
    "        \"label\": \"tbl:{}_{}\".format(fname_suffix, m),\n",
    "        \"font_size\": r\"\\footnotesize\",\n",
    "    }\n",
    "\n",
    "    fname = \"{}_{}_{}_{}.tex\".format(m, fname_suffix, start.replace(\"-\", \"\"), end.replace(\"-\", \"\"))\n",
    "\n",
    "    with open(os.path.join(path, fname), \"w\") as table:\n",
    "        table.write(template.render(context))\n",
    "    print(fname)"
   ]
  },
  {
   "cell_type": "code",
   "execution_count": 21,
   "metadata": {},
   "outputs": [
    {
     "name": "stdout",
     "output_type": "stream",
     "text": [
      "B16_32_Size_BM_OP_196307_201712.tex\n",
      "F16_32_Size_BM_OP_196307_201712.tex\n",
      "F17_32_Size_BM_OP_196307_201712.tex\n"
     ]
    }
   ],
   "source": [
    "a, K, I, J = pd.read_csv(\"C:/Data/FrenchDartmouth/32_Portfolios_ME_BEME_OP_2x4x4.CSV\"), 2, 4, 4\n",
    "a = a.iloc[:n_months, 1:]\n",
    "a.index = f.index\n",
    "\n",
    "fname_suffix, col_name = \"32_Size_BM_OP\", r\"BM\"\n",
    "\n",
    "for m in [\"B16\", \"F16\", \"F17\"]:\n",
    "    tbl_dict = gen_K_I_J_tbl_dict(a, f, models[m][\"f\"], start=start, end=end,\n",
    "                                  coef_display_names=models[m][\"coefs\"],\n",
    "                                  K=K, I=I, J=J, transpose_tuple=((0, 2, 1)))\n",
    "\n",
    "    context = {\n",
    "        \"coefs\": tbl_dict, \"K\":K, \"I\": I, \"J\": J,\n",
    "        \"col_name\": col_name,\n",
    "        \"col_names\": [\"Low\", \"2\", \"3\", \"High\"],\n",
    "        \"row_names\": [r\"Low $\\text{OP}^{06}$\", \"2\", \"3\", r\"High $\\text{OP}^{06}$\"],\n",
    "        \"K_hdrs\": [\"Small\", \"Big\"],\n",
    "        \"regstr\": models[m][\"regstr\"],\n",
    "        \"caption\": \"{} Portfolios with {} Factors {} through {}\".format(fname_suffix.replace(\"_\", \"-\"), m, start, end),\n",
    "        \"label\": \"tbl:{}_{}\".format(fname_suffix, m),\n",
    "        \"font_size\": r\"\\footnotesize\",\n",
    "    }\n",
    "\n",
    "    fname = \"{}_{}_{}_{}.tex\".format(m, fname_suffix, start.replace(\"-\", \"\"), end.replace(\"-\", \"\"))\n",
    "\n",
    "    with open(os.path.join(path, fname), \"w\") as table:\n",
    "        table.write(template.render(context))\n",
    "    print(fname)"
   ]
  },
  {
   "cell_type": "code",
   "execution_count": 22,
   "metadata": {},
   "outputs": [
    {
     "name": "stdout",
     "output_type": "stream",
     "text": [
      "B16_32_Size_BMm_Prior_196307_201712.tex\n",
      "F16_32_Size_BMm_Prior_196307_201712.tex\n",
      "F17_32_Size_BMm_Prior_196307_201712.tex\n"
     ]
    }
   ],
   "source": [
    "a, K, I, J = pd.read_csv(\"C:/Data/Thesis/32_Portfolios_BMm_Prior.csv\"), 2, 4, 4\n",
    "a = a.iloc[:n_months, 1:]\n",
    "a.index = f.index\n",
    "\n",
    "fname_suffix, col_name = \"32_Size_BMm_Prior\", r\"$\\text{BM}^{m}$\"\n",
    "\n",
    "for m in [\"B16\", \"F16\", \"F17\"]:\n",
    "    tbl_dict = gen_K_I_J_tbl_dict(a, f, models[m][\"f\"], start=start, end=end,\n",
    "                                  coef_display_names=models[m][\"coefs\"],\n",
    "                                  K=K, I=I, J=J, transpose_tuple=((0, 2, 1)))\n",
    "\n",
    "    context = {\n",
    "        \"coefs\": tbl_dict, \"K\":K, \"I\": I, \"J\": J,\n",
    "        \"col_name\": col_name,\n",
    "        \"col_names\": [\"Low\", \"2\", \"3\", \"High\"],\n",
    "        \"row_names\": [r\"Low Prior\", \"2\", \"3\", r\"High Prior\"],\n",
    "        \"K_hdrs\": [\"Small\", \"Big\"],\n",
    "        \"regstr\": models[m][\"regstr\"],\n",
    "        \"caption\": \"{} Portfolios with {} Factors {} through {}\".format(fname_suffix.replace(\"_\", \"-\"), m, start, end),\n",
    "        \"label\": \"tbl:{}_{}\".format(fname_suffix, m),\n",
    "        \"font_size\": r\"\\footnotesize\",\n",
    "    }\n",
    "\n",
    "    fname = \"{}_{}_{}_{}.tex\".format(m, fname_suffix, start.replace(\"-\", \"\"), end.replace(\"-\", \"\"))\n",
    "\n",
    "    with open(os.path.join(path, fname), \"w\") as table:\n",
    "        table.write(template.render(context))\n",
    "    print(fname)"
   ]
  },
  {
   "cell_type": "markdown",
   "metadata": {},
   "source": [
    "## Other Anomalies"
   ]
  },
  {
   "cell_type": "code",
   "execution_count": 27,
   "metadata": {},
   "outputs": [
    {
     "name": "stdout",
     "output_type": "stream",
     "text": [
      "B16_25_Size_Inv_196307_201712.tex\n",
      "F16_25_Size_Inv_196307_201712.tex\n",
      "F17_25_Size_Inv_196307_201712.tex\n"
     ]
    }
   ],
   "source": [
    "a, K, I, J = pd.read_csv(\"C:/Data/FrenchDartmouth/25_Portfolios_ME_INV_5x5.CSV\"), 1, 5, 5\n",
    "a = a.iloc[:n_months, 1:]\n",
    "a.index = f.index\n",
    "\n",
    "fname_suffix, col_name = \"25_Size_Inv\", r\"Inv\"\n",
    "\n",
    "for m in [\"B16\", \"F16\", \"F17\"]:\n",
    "    tbl_dict = gen_K_I_J_tbl_dict(a, f, models[m][\"f\"], start=start, end=end,\n",
    "                                  coef_display_names=models[m][\"coefs\"],\n",
    "                                  K=K, I=I, J=J, transpose_tuple=None)  # ((0, 2, 1)))\n",
    "\n",
    "    context = {\n",
    "        \"coefs\": tbl_dict, \"K\":K, \"I\": I, \"J\": J,\n",
    "        \"col_name\": col_name,\n",
    "        \"col_names\": [\"Low\", \"2\", \"3\", \"4\", \"High\"],\n",
    "        \"row_names\": [r\"Small\", \"2\", \"3\", \"4\", r\"Big\"],\n",
    "        # \"K_hdrs\": [\"Small\", \"Big\"],\n",
    "        \"regstr\": models[m][\"regstr\"],\n",
    "        \"caption\": \"{} Portfolios with {} Factors {} through {}\".format(fname_suffix.replace(\"_\", \"-\"), m, start, end),\n",
    "        \"label\": \"tbl:{}_{}\".format(fname_suffix, m),\n",
    "        \"font_size\": r\"\\footnotesize\",\n",
    "    }\n",
    "\n",
    "    fname = \"{}_{}_{}_{}.tex\".format(m, fname_suffix, start.replace(\"-\", \"\"), end.replace(\"-\", \"\"))\n",
    "\n",
    "    with open(os.path.join(path, fname), \"w\") as table:\n",
    "        table.write(template.render(context))\n",
    "    print(fname)"
   ]
  },
  {
   "cell_type": "code",
   "execution_count": 25,
   "metadata": {},
   "outputs": [
    {
     "name": "stdout",
     "output_type": "stream",
     "text": [
      "B16_32_Size_OP_Inv_196307_201712.tex\n",
      "F16_32_Size_OP_Inv_196307_201712.tex\n",
      "F17_32_Size_OP_Inv_196307_201712.tex\n"
     ]
    }
   ],
   "source": [
    "a, K, I, J = pd.read_csv(\"C:/Data/FrenchDartmouth/32_Portfolios_ME_OP_INV_2x4x4.CSV\"), 2, 4, 4\n",
    "a = a.iloc[:n_months, 1:]\n",
    "a.index = f.index\n",
    "\n",
    "fname_suffix, col_name = \"32_Size_OP_Inv\", r\"$\\text{OP}^{06}$\"\n",
    "\n",
    "for m in [\"B16\", \"F16\", \"F17\"]:\n",
    "    tbl_dict = gen_K_I_J_tbl_dict(a, f, models[m][\"f\"], start=start, end=end,\n",
    "                                  coef_display_names=models[m][\"coefs\"],\n",
    "                                  K=K, I=I, J=J, transpose_tuple=((0, 2, 1)))\n",
    "\n",
    "    context = {\n",
    "        \"coefs\": tbl_dict, \"K\":K, \"I\": I, \"J\": J,\n",
    "        \"col_name\": col_name,\n",
    "        \"col_names\": [\"Low\", \"2\", \"3\", \"High\"],\n",
    "        \"row_names\": [r\"Low Inv\", \"2\", \"3\", r\"High Inv\"],\n",
    "        \"K_hdrs\": [\"Small\", \"Big\"],\n",
    "        \"regstr\": models[m][\"regstr\"],\n",
    "        \"caption\": \"{} Portfolios with {} Factors {} through {}\".format(fname_suffix.replace(\"_\", \"-\"), m, start, end),\n",
    "        \"label\": \"tbl:{}_{}\".format(fname_suffix, m),\n",
    "        \"font_size\": r\"\\footnotesize\",\n",
    "    }\n",
    "\n",
    "    fname = \"{}_{}_{}_{}.tex\".format(m, fname_suffix, start.replace(\"-\", \"\"), end.replace(\"-\", \"\"))\n",
    "\n",
    "    with open(os.path.join(path, fname), \"w\") as table:\n",
    "        table.write(template.render(context))\n",
    "    print(fname)"
   ]
  },
  {
   "cell_type": "code",
   "execution_count": 28,
   "metadata": {},
   "outputs": [
    {
     "name": "stdout",
     "output_type": "stream",
     "text": [
      "B16_25_Size_Acc_196307_201712.tex\n",
      "F16_25_Size_Acc_196307_201712.tex\n",
      "F17_25_Size_Acc_196307_201712.tex\n"
     ]
    }
   ],
   "source": [
    "a, K, I, J = pd.read_csv(\"C:/Data/FrenchDartmouth/25_Portfolios_ME_AC_5x5.csv\"), 1, 5, 5\n",
    "a = a.iloc[:n_months, 1:]\n",
    "a.index = f.index\n",
    "\n",
    "fname_suffix, col_name = \"25_Size_Acc\", r\"Acc\"\n",
    "\n",
    "for m in [\"B16\", \"F16\", \"F17\"]:\n",
    "    tbl_dict = gen_K_I_J_tbl_dict(a, f, models[m][\"f\"], start=start, end=end,\n",
    "                                  coef_display_names=models[m][\"coefs\"],\n",
    "                                  K=K, I=I, J=J, transpose_tuple=None)  # ((0, 2, 1)))\n",
    "\n",
    "    context = {\n",
    "        \"coefs\": tbl_dict, \"K\":K, \"I\": I, \"J\": J,\n",
    "        \"col_name\": col_name,\n",
    "        \"col_names\": [\"Low\", \"2\", \"3\", \"4\", \"High\"],\n",
    "        \"row_names\": [r\"Small\", \"2\", \"3\", \"4\", r\"Big\"],\n",
    "        # \"K_hdrs\": [\"Small\", \"Big\"],\n",
    "        \"regstr\": models[m][\"regstr\"],\n",
    "        \"caption\": \"{} Portfolios with {} Factors {} through {}\".format(fname_suffix.replace(\"_\", \"-\"), m, start, end),\n",
    "        \"label\": \"tbl:{}_{}\".format(fname_suffix, m),\n",
    "        \"font_size\": r\"\\footnotesize\",\n",
    "    }\n",
    "\n",
    "    fname = \"{}_{}_{}_{}.tex\".format(m, fname_suffix, start.replace(\"-\", \"\"), end.replace(\"-\", \"\"))\n",
    "\n",
    "    with open(os.path.join(path, fname), \"w\") as table:\n",
    "        table.write(template.render(context))\n",
    "    print(fname)"
   ]
  },
  {
   "cell_type": "code",
   "execution_count": 29,
   "metadata": {},
   "outputs": [
    {
     "name": "stdout",
     "output_type": "stream",
     "text": [
      "B16_25_Size_Beta_196307_201712.tex\n",
      "F16_25_Size_Beta_196307_201712.tex\n",
      "F17_25_Size_Beta_196307_201712.tex\n"
     ]
    }
   ],
   "source": [
    "a, K, I, J = pd.read_csv(\"C:/Data/FrenchDartmouth/25_Portfolios_ME_BETA_5x5.csv\"), 1, 5, 5\n",
    "a = a.iloc[:n_months, 1:]\n",
    "a.index = f.index\n",
    "\n",
    "fname_suffix, col_name = \"25_Size_Beta\", r\"Beta\"\n",
    "\n",
    "for m in [\"B16\", \"F16\", \"F17\"]:\n",
    "    tbl_dict = gen_K_I_J_tbl_dict(a, f, models[m][\"f\"], start=start, end=end,\n",
    "                                  coef_display_names=models[m][\"coefs\"],\n",
    "                                  K=K, I=I, J=J, transpose_tuple=None)  # ((0, 2, 1)))\n",
    "\n",
    "    context = {\n",
    "        \"coefs\": tbl_dict, \"K\":K, \"I\": I, \"J\": J,\n",
    "        \"col_name\": col_name,\n",
    "        \"col_names\": [\"Low\", \"2\", \"3\", \"4\", \"High\"],\n",
    "        \"row_names\": [r\"Small\", \"2\", \"3\", \"4\", r\"Big\"],\n",
    "        # \"K_hdrs\": [\"Small\", \"Big\"],\n",
    "        \"regstr\": models[m][\"regstr\"],\n",
    "        \"caption\": \"{} Portfolios with {} Factors {} through {}\".format(fname_suffix.replace(\"_\", \"-\"), m, start, end),\n",
    "        \"label\": \"tbl:{}_{}\".format(fname_suffix, m),\n",
    "        \"font_size\": r\"\\footnotesize\",\n",
    "    }\n",
    "\n",
    "    fname = \"{}_{}_{}_{}.tex\".format(m, fname_suffix, start.replace(\"-\", \"\"), end.replace(\"-\", \"\"))\n",
    "\n",
    "    with open(os.path.join(path, fname), \"w\") as table:\n",
    "        table.write(template.render(context))\n",
    "    print(fname)"
   ]
  },
  {
   "cell_type": "code",
   "execution_count": 30,
   "metadata": {},
   "outputs": [
    {
     "name": "stdout",
     "output_type": "stream",
     "text": [
      "B16_25_Size_NI_196307_201712.tex\n",
      "F16_25_Size_NI_196307_201712.tex\n",
      "F17_25_Size_NI_196307_201712.tex\n"
     ]
    }
   ],
   "source": [
    "a, K, I, J = pd.read_csv(\"C:/Data/FrenchDartmouth/25_Portfolios_ME_NI_5x5.csv\"), 1, 5, 7\n",
    "a = a.iloc[:n_months, 1:]\n",
    "a.index = f.index\n",
    "\n",
    "fname_suffix, col_name = \"25_Size_NI\", r\"NI\"\n",
    "\n",
    "for m in [\"B16\", \"F16\", \"F17\"]:\n",
    "    tbl_dict = gen_K_I_J_tbl_dict(a, f, models[m][\"f\"], start=start, end=end,\n",
    "                                  coef_display_names=models[m][\"coefs\"],\n",
    "                                  K=K, I=I, J=J, transpose_tuple=None)  # ((0, 2, 1)))\n",
    "\n",
    "    context = {\n",
    "        \"coefs\": tbl_dict, \"K\":K, \"I\": I, \"J\": J,\n",
    "        \"col_name\": col_name,\n",
    "        \"col_names\": [\"Neg\", \"0\", \"Low\", \"2\", \"3\", \"4\", \"High\"],\n",
    "        \"row_names\": [r\"Small\", \"2\", \"3\", \"4\", r\"Big\"],\n",
    "        # \"K_hdrs\": [\"Small\", \"Big\"],\n",
    "        \"regstr\": models[m][\"regstr\"],\n",
    "        \"caption\": \"{} Portfolios with {} Factors {} through {}\".format(fname_suffix.replace(\"_\", \"-\"), m, start, end),\n",
    "        \"label\": \"tbl:{}_{}\".format(fname_suffix, m),\n",
    "        \"font_size\": r\"\\scriptsize\",\n",
    "    }\n",
    "\n",
    "    fname = \"{}_{}_{}_{}.tex\".format(m, fname_suffix, start.replace(\"-\", \"\"), end.replace(\"-\", \"\"))\n",
    "\n",
    "    with open(os.path.join(path, fname), \"w\") as table:\n",
    "        table.write(template.render(context))\n",
    "    print(fname)"
   ]
  },
  {
   "cell_type": "code",
   "execution_count": 31,
   "metadata": {},
   "outputs": [
    {
     "name": "stdout",
     "output_type": "stream",
     "text": [
      "B16_25_Size_Prior_196307_201712.tex\n",
      "F16_25_Size_Prior_196307_201712.tex\n",
      "F17_25_Size_Prior_196307_201712.tex\n"
     ]
    }
   ],
   "source": [
    "a, K, I, J = pd.read_csv(\"C:/Data/FrenchDartmouth/25_Portfolios_ME_Prior_12_2.CSV\"), 1, 5, 5\n",
    "a = a.iloc[:n_months, 1:]\n",
    "a.index = f.index\n",
    "\n",
    "fname_suffix, col_name = \"25_Size_Prior\", r\"Prior\"\n",
    "\n",
    "for m in [\"B16\", \"F16\", \"F17\"]:\n",
    "    tbl_dict = gen_K_I_J_tbl_dict(a, f, models[m][\"f\"], start=start, end=end,\n",
    "                                  coef_display_names=models[m][\"coefs\"],\n",
    "                                  K=K, I=I, J=J, transpose_tuple=None)  # ((0, 2, 1)))\n",
    "\n",
    "    context = {\n",
    "        \"coefs\": tbl_dict, \"K\":K, \"I\": I, \"J\": J,\n",
    "        \"col_name\": col_name,\n",
    "        \"col_names\": [\"Low\", \"2\", \"3\", \"4\", \"High\"],\n",
    "        \"row_names\": [r\"Small\", \"2\", \"3\", \"4\", r\"Big\"],\n",
    "        # \"K_hdrs\": [\"Small\", \"Big\"],\n",
    "        \"regstr\": models[m][\"regstr\"],\n",
    "        \"caption\": \"{} Portfolios with {} Factors {} through {}\".format(fname_suffix.replace(\"_\", \"-\"), m, start, end),\n",
    "        \"label\": \"tbl:{}_{}\".format(fname_suffix, m),\n",
    "        \"font_size\": r\"\\footnotesize\",\n",
    "    }\n",
    "\n",
    "    fname = \"{}_{}_{}_{}.tex\".format(m, fname_suffix, start.replace(\"-\", \"\"), end.replace(\"-\", \"\"))\n",
    "\n",
    "    with open(os.path.join(path, fname), \"w\") as table:\n",
    "        table.write(template.render(context))\n",
    "    print(fname)"
   ]
  },
  {
   "cell_type": "code",
   "execution_count": 32,
   "metadata": {},
   "outputs": [
    {
     "name": "stdout",
     "output_type": "stream",
     "text": [
      "B16_25_Size_RVar_196307_201712.tex\n",
      "F16_25_Size_RVar_196307_201712.tex\n",
      "F17_25_Size_RVar_196307_201712.tex\n"
     ]
    }
   ],
   "source": [
    "a, K, I, J = pd.read_csv(\"C:/Data/FrenchDartmouth/25_Portfolios_ME_RESVAR_5x5.csv\"), 1, 5, 5\n",
    "a = a.iloc[:n_months, 1:]\n",
    "a.index = f.index\n",
    "\n",
    "fname_suffix, col_name = \"25_Size_RVar\", r\"RVar\"\n",
    "\n",
    "for m in [\"B16\", \"F16\", \"F17\"]:\n",
    "    tbl_dict = gen_K_I_J_tbl_dict(a, f, models[m][\"f\"], start=start, end=end,\n",
    "                                  coef_display_names=models[m][\"coefs\"],\n",
    "                                  K=K, I=I, J=J, transpose_tuple=None)  # ((0, 2, 1)))\n",
    "\n",
    "    context = {\n",
    "        \"coefs\": tbl_dict, \"K\":K, \"I\": I, \"J\": J,\n",
    "        \"col_name\": col_name,\n",
    "        \"col_names\": [\"Low\", \"2\", \"3\", \"4\", \"High\"],\n",
    "        \"row_names\": [r\"Small\", \"2\", \"3\", \"4\", r\"Big\"],\n",
    "        # \"K_hdrs\": [\"Small\", \"Big\"],\n",
    "        \"regstr\": models[m][\"regstr\"],\n",
    "        \"caption\": \"{} Portfolios with {} Factors {} through {}\".format(fname_suffix.replace(\"_\", \"-\"), m, start, end),\n",
    "        \"label\": \"tbl:{}_{}\".format(fname_suffix, m),\n",
    "        \"font_size\": r\"\\footnotesize\",\n",
    "    }\n",
    "\n",
    "    fname = \"{}_{}_{}_{}.tex\".format(m, fname_suffix, start.replace(\"-\", \"\"), end.replace(\"-\", \"\"))\n",
    "\n",
    "    with open(os.path.join(path, fname), \"w\") as table:\n",
    "        table.write(template.render(context))\n",
    "    print(fname)"
   ]
  },
  {
   "cell_type": "code",
   "execution_count": 33,
   "metadata": {},
   "outputs": [
    {
     "name": "stdout",
     "output_type": "stream",
     "text": [
      "B16_25_Size_Var_196307_201712.tex\n",
      "F16_25_Size_Var_196307_201712.tex\n",
      "F17_25_Size_Var_196307_201712.tex\n"
     ]
    }
   ],
   "source": [
    "a, K, I, J = pd.read_csv(\"C:/Data/FrenchDartmouth/25_Portfolios_ME_VAR_5x5.csv\"), 1, 5, 5\n",
    "a = a.iloc[:n_months, 1:]\n",
    "a.index = f.index\n",
    "\n",
    "fname_suffix, col_name = \"25_Size_Var\", r\"Var\"\n",
    "\n",
    "for m in [\"B16\", \"F16\", \"F17\"]:\n",
    "    tbl_dict = gen_K_I_J_tbl_dict(a, f, models[m][\"f\"], start=start, end=end,\n",
    "                                  coef_display_names=models[m][\"coefs\"],\n",
    "                                  K=K, I=I, J=J, transpose_tuple=None)  # ((0, 2, 1)))\n",
    "\n",
    "    context = {\n",
    "        \"coefs\": tbl_dict, \"K\":K, \"I\": I, \"J\": J,\n",
    "        \"col_name\": col_name,\n",
    "        \"col_names\": [\"Low\", \"2\", \"3\", \"4\", \"High\"],\n",
    "        \"row_names\": [r\"Small\", \"2\", \"3\", \"4\", r\"Big\"],\n",
    "        # \"K_hdrs\": [\"Small\", \"Big\"],\n",
    "        \"regstr\": models[m][\"regstr\"],\n",
    "        \"caption\": \"{} Portfolios with {} Factors {} through {}\".format(fname_suffix.replace(\"_\", \"-\"), m, start, end),\n",
    "        \"label\": \"tbl:{}_{}\".format(fname_suffix, m),\n",
    "        \"font_size\": r\"\\footnotesize\",\n",
    "    }\n",
    "\n",
    "    fname = \"{}_{}_{}_{}.tex\".format(m, fname_suffix, start.replace(\"-\", \"\"), end.replace(\"-\", \"\"))\n",
    "\n",
    "    with open(os.path.join(path, fname), \"w\") as table:\n",
    "        table.write(template.render(context))\n",
    "    print(fname)"
   ]
  },
  {
   "cell_type": "markdown",
   "metadata": {},
   "source": [
    "# Annual value with monthly value"
   ]
  },
  {
   "cell_type": "code",
   "execution_count": null,
   "metadata": {},
   "outputs": [],
   "source": [
    "a = pd.read_csv(\"C:/Data/FrenchDartmouth/25_Portfolios_5x5.CSV\")"
   ]
  },
  {
   "cell_type": "code",
   "execution_count": null,
   "metadata": {},
   "outputs": [],
   "source": [
    "a.date = pd.to_datetime(a.date.astype(str), format=\"%Y%m\")\n",
    "a = a.set_index(\"date\")"
   ]
  },
  {
   "cell_type": "code",
   "execution_count": null,
   "metadata": {},
   "outputs": [],
   "source": [
    "fit = sm.OLS(a[\"SMALL LoBM\"], sm.add_constant(f[[\"rm\", \"smb\", \"hmlm\", \"wml\", \"PMU\"]])).fit()\n",
    "pd.concat([fit.params, fit.pvalues], axis=1).round(2)"
   ]
  },
  {
   "cell_type": "code",
   "execution_count": null,
   "metadata": {},
   "outputs": [],
   "source": [
    "fit = sm.OLS(a[\"SMALL LoBM\"], sm.add_constant(f[[\"rm\", \"smb\", \"hmlm\", \"hml\", \"wml\", \"PMU\"]])).fit()\n",
    "pd.concat([fit.params, fit.pvalues], axis=1).round(2)"
   ]
  },
  {
   "cell_type": "code",
   "execution_count": null,
   "metadata": {},
   "outputs": [],
   "source": [
    "fit = sm.OLS(a[\"SMALL HiBM\"], sm.add_constant(f[[\"rm\", \"smb\", \"hmlm\", \"wml\", \"PMU\"]])).fit()\n",
    "pd.concat([fit.params, fit.pvalues], axis=1).round(2)"
   ]
  },
  {
   "cell_type": "code",
   "execution_count": null,
   "metadata": {},
   "outputs": [],
   "source": [
    "fit = sm.OLS(a[\"SMALL HiBM\"], sm.add_constant(f[[\"rm\", \"smb\", \"hmlm\", \"hml\", \"wml\", \"PMU\"]])).fit()\n",
    "pd.concat([fit.params, fit.pvalues], axis=1).round(2)"
   ]
  }
 ],
 "metadata": {
  "kernelspec": {
   "display_name": "Python 3",
   "language": "python",
   "name": "python3"
  },
  "language_info": {
   "codemirror_mode": {
    "name": "ipython",
    "version": 3
   },
   "file_extension": ".py",
   "mimetype": "text/x-python",
   "name": "python",
   "nbconvert_exporter": "python",
   "pygments_lexer": "ipython3",
   "version": "3.6.4"
  }
 },
 "nbformat": 4,
 "nbformat_minor": 2
}
