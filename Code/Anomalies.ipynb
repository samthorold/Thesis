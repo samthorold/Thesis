{
 "cells": [
  {
   "cell_type": "markdown",
   "metadata": {},
   "source": [
    "# Anomalies"
   ]
  },
  {
   "cell_type": "code",
   "execution_count": 1,
   "metadata": {},
   "outputs": [
    {
     "name": "stderr",
     "output_type": "stream",
     "text": [
      "c:\\users\\samth\\miniconda3\\envs\\econ\\lib\\site-packages\\statsmodels\\compat\\pandas.py:56: FutureWarning: The pandas.core.datetools module is deprecated and will be removed in a future version. Please use the pandas.tseries module instead.\n",
      "  from pandas.core import datetools\n"
     ]
    }
   ],
   "source": [
    "import jinja2\n",
    "import os\n",
    "import pandas as pd\n",
    "#from scipy.optimize import minimize\n",
    "import statsmodels.api as sm\n",
    "\n",
    "#%pylab inline"
   ]
  },
  {
   "cell_type": "code",
   "execution_count": 187,
   "metadata": {},
   "outputs": [],
   "source": [
    "F = pd.read_stata(\"C:/Data/Thesis/Factors.dta\").set_index(\"date\")\n",
    "\n",
    "ff1993 = [\"rm\", \"smb\", \"hml\"]\n",
    "c1997 = [\"rm\", \"smb\", \"hml\", \"wml\"]\n",
    "ff2015 = [\"rm\", \"smb\", \"hmlo\", \"rmw\", \"cma\"]\n",
    "ff2016a = [\"rm\", \"smb\", \"hml\", \"RMWr\", \"cma\"]\n",
    "ff2016b = [\"rm\", \"smb\", \"hml\", \"RMWc\", \"cma\"]\n",
    "bs2015 = [\"rm\", \"smb\", \"HMLm\", \"wml\", \"RMWc\"]"
   ]
  },
  {
   "cell_type": "code",
   "execution_count": 73,
   "metadata": {},
   "outputs": [
    {
     "data": {
      "text/html": [
       "<div>\n",
       "<style scoped>\n",
       "    .dataframe tbody tr th:only-of-type {\n",
       "        vertical-align: middle;\n",
       "    }\n",
       "\n",
       "    .dataframe tbody tr th {\n",
       "        vertical-align: top;\n",
       "    }\n",
       "\n",
       "    .dataframe thead th {\n",
       "        text-align: right;\n",
       "    }\n",
       "</style>\n",
       "<table border=\"1\" class=\"dataframe\">\n",
       "  <thead>\n",
       "    <tr style=\"text-align: right;\">\n",
       "      <th></th>\n",
       "      <th>rm</th>\n",
       "      <th>smb</th>\n",
       "      <th>hml</th>\n",
       "      <th>HMLm</th>\n",
       "      <th>RMWc</th>\n",
       "      <th>wml</th>\n",
       "      <th>cma</th>\n",
       "    </tr>\n",
       "  </thead>\n",
       "  <tbody>\n",
       "    <tr>\n",
       "      <th>rm</th>\n",
       "      <td>1.000000</td>\n",
       "      <td>0.275998</td>\n",
       "      <td>-0.257824</td>\n",
       "      <td>-0.176170</td>\n",
       "      <td>-0.295320</td>\n",
       "      <td>-0.132263</td>\n",
       "      <td>-0.384005</td>\n",
       "    </tr>\n",
       "    <tr>\n",
       "      <th>smb</th>\n",
       "      <td>0.275998</td>\n",
       "      <td>1.000000</td>\n",
       "      <td>-0.081247</td>\n",
       "      <td>-0.086265</td>\n",
       "      <td>-0.296307</td>\n",
       "      <td>-0.024375</td>\n",
       "      <td>-0.101610</td>\n",
       "    </tr>\n",
       "    <tr>\n",
       "      <th>hml</th>\n",
       "      <td>-0.257824</td>\n",
       "      <td>-0.081247</td>\n",
       "      <td>1.000000</td>\n",
       "      <td>0.805267</td>\n",
       "      <td>-0.280033</td>\n",
       "      <td>-0.186647</td>\n",
       "      <td>0.691061</td>\n",
       "    </tr>\n",
       "    <tr>\n",
       "      <th>HMLm</th>\n",
       "      <td>-0.176170</td>\n",
       "      <td>-0.086265</td>\n",
       "      <td>0.805267</td>\n",
       "      <td>1.000000</td>\n",
       "      <td>-0.360100</td>\n",
       "      <td>-0.631604</td>\n",
       "      <td>0.527279</td>\n",
       "    </tr>\n",
       "    <tr>\n",
       "      <th>RMWc</th>\n",
       "      <td>-0.295320</td>\n",
       "      <td>-0.296307</td>\n",
       "      <td>-0.280033</td>\n",
       "      <td>-0.360100</td>\n",
       "      <td>1.000000</td>\n",
       "      <td>0.314495</td>\n",
       "      <td>-0.063024</td>\n",
       "    </tr>\n",
       "    <tr>\n",
       "      <th>wml</th>\n",
       "      <td>-0.132263</td>\n",
       "      <td>-0.024375</td>\n",
       "      <td>-0.186647</td>\n",
       "      <td>-0.631604</td>\n",
       "      <td>0.314495</td>\n",
       "      <td>1.000000</td>\n",
       "      <td>-0.012957</td>\n",
       "    </tr>\n",
       "    <tr>\n",
       "      <th>cma</th>\n",
       "      <td>-0.384005</td>\n",
       "      <td>-0.101610</td>\n",
       "      <td>0.691061</td>\n",
       "      <td>0.527279</td>\n",
       "      <td>-0.063024</td>\n",
       "      <td>-0.012957</td>\n",
       "      <td>1.000000</td>\n",
       "    </tr>\n",
       "  </tbody>\n",
       "</table>\n",
       "</div>"
      ],
      "text/plain": [
       "            rm       smb       hml      HMLm      RMWc       wml       cma\n",
       "rm    1.000000  0.275998 -0.257824 -0.176170 -0.295320 -0.132263 -0.384005\n",
       "smb   0.275998  1.000000 -0.081247 -0.086265 -0.296307 -0.024375 -0.101610\n",
       "hml  -0.257824 -0.081247  1.000000  0.805267 -0.280033 -0.186647  0.691061\n",
       "HMLm -0.176170 -0.086265  0.805267  1.000000 -0.360100 -0.631604  0.527279\n",
       "RMWc -0.295320 -0.296307 -0.280033 -0.360100  1.000000  0.314495 -0.063024\n",
       "wml  -0.132263 -0.024375 -0.186647 -0.631604  0.314495  1.000000 -0.012957\n",
       "cma  -0.384005 -0.101610  0.691061  0.527279 -0.063024 -0.012957  1.000000"
      ]
     },
     "execution_count": 73,
     "metadata": {},
     "output_type": "execute_result"
    }
   ],
   "source": [
    "F[[\"rm\", \"smb\", \"hml\", \"HMLm\", \"RMWc\", \"wml\", \"cma\"]].corr()"
   ]
  },
  {
   "cell_type": "code",
   "execution_count": 195,
   "metadata": {},
   "outputs": [],
   "source": [
    "def GRS(R, F, factors, start=\"1963-07\", end=\"2016-12\"):\n",
    "    \"\"\"\n",
    "    Returns the GRS statistic of Gibbons, Ross and Shanken (1989)\n",
    "    \"\"\"\n",
    "\n",
    "    alphas = []\n",
    "    errors = []\n",
    "\n",
    "    for p in R.columns:\n",
    "        model = sm.OLS(R[start:end][p] - F[start:end][\"rf\"],\n",
    "                       sm.add_constant(F[start:end][factors]))\n",
    "        fit = model.fit()\n",
    "        alphas.append(fit.params[\"const\"])\n",
    "        errors.append(fit.resid)\n",
    "\n",
    "    alphas = pd.np.array(alphas)\n",
    "    errors = pd.np.array(errors).transpose()\n",
    "\n",
    "    K = F[factors].shape[1]\n",
    "    T, N = errors.shape\n",
    "\n",
    "    Ve = errors.transpose().dot(errors) / (T - K - 1)\n",
    "\n",
    "    r = F[factors].mean().as_matrix()\n",
    "\n",
    "    f = F[factors].as_matrix()\n",
    "\n",
    "    Vf = (f-r).transpose().dot(f-r) / (T - 1)\n",
    "\n",
    "    Sh2_a = alphas.dot(pd.np.linalg.pinv(Ve)).dot(alphas)\n",
    "    Sh2_f = r.dot(pd.np.linalg.pinv(Vf)).dot(r)\n",
    "    Sh2_a, Sh2_f\n",
    "\n",
    "    return (T/N)*((T-N-K)/(T-K-1))*(Sh2_a/(1+Sh2_f))"
   ]
  },
  {
   "cell_type": "code",
   "execution_count": 83,
   "metadata": {},
   "outputs": [],
   "source": [
    "def tbl_content(LHS, factors, start, end, coef_names, K, j, precision=2, transpose_j=False):\n",
    "\n",
    "    N = len(LHS.columns)\n",
    "    A = {name: {\"coef\": [], \"tval\": [], \"rows\": []} for name in coef_names}\n",
    "\n",
    "    # for each anomaly portfolio\n",
    "    for lhsi, lhs in enumerate(LHS.columns):\n",
    "\n",
    "        lhs = LHS[start:end][lhs] - F[start:end][\"rf\"]  # DataFrame\n",
    "        rhs = sm.add_constant(F[start:end][factors])    # DataFrame\n",
    "\n",
    "        # regress the \"anomaly\" on the factors\n",
    "        model = sm.OLS(lhs, rhs)\n",
    "        fit = model.fit()\n",
    "\n",
    "        # get the coefficients and their t-values\n",
    "        coef = [round(b, precision) for b in fit.params]\n",
    "        tval = [round(t, precision) for t in fit.tvalues]\n",
    "\n",
    "        # for each coefficient\n",
    "        for namei, name in enumerate(coef_names):  # ordered\n",
    "            A[name][\"coef\"].append(coef[namei])\n",
    "            A[name][\"tval\"].append(tval[namei])\n",
    "\n",
    "    for coef in A:\n",
    "\n",
    "        A[coef][\"coef\"] = pd.np.array(A[coef][\"coef\"]).reshape(K, j, j)\n",
    "        A[coef][\"tval\"] = pd.np.array(A[coef][\"tval\"]).reshape(K, j, j)\n",
    "\n",
    "        if transpose_j:\n",
    "            for k, x in enumerate(A[coef][\"coef\"]):\n",
    "                A[coef][\"coef\"][k] = A[coef][\"coef\"][k].transpose()\n",
    "                A[coef][\"tval\"][k] = A[coef][\"tval\"][k].transpose()\n",
    "\n",
    "        A[coef][\"coef\"] = A[coef][\"coef\"].tolist()\n",
    "        A[coef][\"tval\"] = A[coef][\"tval\"].tolist()\n",
    "\n",
    "    for coef in A:\n",
    "        for row in range(j):\n",
    "            A[coef][\"rows\"].append([])\n",
    "            for k in range(K):\n",
    "                A[coef][\"rows\"][row].extend(A[coef][\"coef\"][k][row])\n",
    "                A[coef][\"rows\"][row].extend(A[coef][\"tval\"][k][row])\n",
    "    return A"
   ]
  },
  {
   "cell_type": "code",
   "execution_count": 5,
   "metadata": {},
   "outputs": [],
   "source": [
    "path = \"C:/Users/samth/Dropbox/Thesis/Tex/Tables/\"\n",
    "\n",
    "env = jinja2.Environment(\n",
    "    block_start_string='-%', block_end_string='%-',\n",
    "    variable_start_string='=%', variable_end_string='%=',\n",
    "    loader=jinja2.FileSystemLoader(path)\n",
    ")"
   ]
  },
  {
   "cell_type": "markdown",
   "metadata": {},
   "source": [
    "# GRS"
   ]
  },
  {
   "cell_type": "code",
   "execution_count": 234,
   "metadata": {},
   "outputs": [],
   "source": [
    "anomalies = [\n",
    "    {\"name\": \"Size-BM\", \"path\": \"C:/Data/FrenchDartmouth/25_Portfolios_5x5.CSV\"},\n",
    "    {\"name\": \"Size-Acc\", \"path\": \"C:/Data/FrenchDartmouth/25_Portfolios_ME_AC_5x5.csv\"},\n",
    "    {\"name\": \"Size-Beta\", \"path\": \"C:/Data/FrenchDartmouth/25_Portfolios_ME_BETA_5x5.csv\"},\n",
    "    {\"name\": \"Size-Inv\", \"path\": \"C:/Data/FrenchDartmouth/25_Portfolios_ME_INV_5x5.CSV\"},\n",
    "    {\"name\": \"Size-NI\", \"path\": \"C:/Data/FrenchDartmouth/25_Portfolios_ME_NI_5x5.csv\"},\n",
    "    {\"name\": \"Size-OP\", \"path\": \"C:/Data/FrenchDartmouth/25_Portfolios_ME_OP_5x5.CSV\"},\n",
    "    {\"name\": \"Size-Prior\", \"path\": \"C:/Data/FrenchDartmouth/25_Portfolios_ME_Prior_12_2.CSV\"},\n",
    "    {\"name\": \"Size-RVar\", \"path\": \"C:/Data/FrenchDartmouth/25_Portfolios_ME_RESVAR_5x5.csv\"},\n",
    "    {\"name\": \"Size-Var\", \"path\": \"C:/Data/FrenchDartmouth/25_Portfolios_ME_VAR_5x5.csv\"},\n",
    "    {\"name\": \"Size-BM-Inv\", \"path\": \"C:/Data/FrenchDartmouth/32_Portfolios_ME_BEME_INV_2x4x4.CSV\"},\n",
    "    {\"name\": \"Size-BM-OP\", \"path\": \"C:/Data/FrenchDartmouth/32_Portfolios_ME_BEME_OP_2x4x4.CSV\"},\n",
    "    {\"name\": \"Size-OP-Inv\", \"path\": \"C:/Data/FrenchDartmouth/32_Portfolios_ME_OP_INV_2x4x4.CSV\"},\n",
    "]\n",
    "\n",
    "for anomaly in anomalies:\n",
    "    #print(anomaly)\n",
    "    anomaly[\"df\"] = pd.read_csv(anomaly[\"path\"])\n",
    "    anomaly[\"df\"] = anomaly[\"df\"].iloc[:642, 1:]\n",
    "    anomaly[\"df\"].index = F.index\n",
    "\n",
    "    anomaly[\"GRS\"] = {\n",
    "        \"CAPM\": \"{:.3f}\".format(GRS(anomaly[\"df\"], F, [\"rm\",])),\n",
    "        \"FF1993\": \"{:.3f}\".format(GRS(anomaly[\"df\"], F, ff1993)),\n",
    "        \"C1997\": \"{:.3f}\".format(GRS(anomaly[\"df\"], F, c1997)),\n",
    "        \"FF2015\": \"{:.3f}\".format(GRS(anomaly[\"df\"], F, ff2015)),\n",
    "        \"FF2016a\": \"{:.3f}\".format(GRS(anomaly[\"df\"], F, ff2016a)),\n",
    "        \"FF2016b\": \"{:.3f}\".format(GRS(anomaly[\"df\"], F, ff2016b)),\n",
    "        \"BS2015b\": \"{:.3f}\".format(GRS(anomaly[\"df\"], F, [\"rm\", \"smb\", \"hml\", \"wml\", \"RMWc\"])),\n",
    "        \"BS2015\": \"{:.3f}\".format(GRS(anomaly[\"df\"], F, bs2015)),\n",
    "    }\n",
    "\n",
    "All, All_BM, All_Non_BM = {\"name\": \"All\"}, {\"name\": \"All-BM\"}, {\"name\": \"All-Non-BM\"}\n",
    "\n",
    "for anomaly in anomalies:\n",
    "    if not \"df\" in All:\n",
    "        All[\"df\"] = anomaly[\"df\"]\n",
    "    All[\"df\"] = All[\"df\"].merge(anomaly[\"df\"], left_index=True, right_index=True)\n",
    "    if \"BM\" in anomaly[\"name\"]:\n",
    "        if not \"df\" in All_BM:\n",
    "            All_BM[\"df\"] = anomaly[\"df\"]\n",
    "        All_BM[\"df\"] = All_BM[\"df\"].merge(anomaly[\"df\"], left_index=True, right_index=True)\n",
    "    if not \"BM\" in anomaly[\"name\"]:\n",
    "        if not \"df\" in All_Non_BM:\n",
    "            All_Non_BM[\"df\"] = anomaly[\"df\"]\n",
    "        All_Non_BM[\"df\"] = All_Non_BM[\"df\"].merge(anomaly[\"df\"], left_index=True, right_index=True)\n",
    "    \n",
    "    anomaly.pop(\"df\")\n",
    "\n",
    "for anomaly in [All, All_BM, All_Non_BM]:\n",
    "    anomaly[\"GRS\"] = {\n",
    "        #\"CAPM\": \"{:.3f}\".format(GRS(anomaly[\"df\"], F, [\"rm\",])),\n",
    "        #\"FF1993\": \"{:.3f}\".format(GRS(anomaly[\"df\"], F, ff1993)),\n",
    "        \"C1997\": \"{:.3f}\".format(GRS(anomaly[\"df\"], F, c1997)),\n",
    "        #\"FF2015\": \"{:.3f}\".format(GRS(anomaly[\"df\"], F, ff2015)),\n",
    "        #\"FF2016a\": \"{:.3f}\".format(GRS(anomaly[\"df\"], F, ff2016a)),\n",
    "        \"FF2016b\": \"{:.3f}\".format(GRS(anomaly[\"df\"], F, ff2016b)),\n",
    "        \"BS2015b\": \"{:.3f}\".format(GRS(anomaly[\"df\"], F, [\"rm\", \"smb\", \"hml\", \"wml\", \"RMWc\"])),\n",
    "        \"BS2015\": \"{:.3f}\".format(GRS(anomaly[\"df\"], F, bs2015)),\n",
    "        \"BS2015b\": \"{:.3f}\".format(GRS(anomaly[\"df\"], F, [\"rm\", \"smb\", \"hml\", \"wml\", \"RMWc\"])),\n",
    "        \"BS2015c\": \"{:.3f}\".format(GRS(anomaly[\"df\"], F, [\"rm\", \"smb\", \"HMLm\", \"RMWc\"])),\n",
    "    }\n",
    "\n",
    "    anomaly.pop(\"df\")\n",
    "\n",
    "anomalies.extend([All_BM, All_Non_BM, All])"
   ]
  },
  {
   "cell_type": "code",
   "execution_count": 235,
   "metadata": {},
   "outputs": [],
   "source": [
    "template = env.get_template(\"GRS_template.txt\")"
   ]
  },
  {
   "cell_type": "code",
   "execution_count": 236,
   "metadata": {},
   "outputs": [],
   "source": [
    "context = {\n",
    "    \"caption\": r\"GRS Statistic. \\footnotesize{July, 1963 through December, 2016 (642 Months).}\",\n",
    "    \"label\": \"tbl:GRS\",\n",
    "    \"model_names\": [\"C1997\", \"FF2016b\", \"BS2015\", \"BS2015b\", \"BS2015c\"],\n",
    "    \"anomalies\": anomalies,\n",
    "}"
   ]
  },
  {
   "cell_type": "code",
   "execution_count": 237,
   "metadata": {},
   "outputs": [],
   "source": [
    "with open(os.path.join(path, \"GRS_196307_201612.tex\"), \"w\") as table:\n",
    "    table.write(template.render(context))"
   ]
  },
  {
   "cell_type": "markdown",
   "metadata": {},
   "source": [
    "## 2x4x4"
   ]
  },
  {
   "cell_type": "code",
   "execution_count": 57,
   "metadata": {},
   "outputs": [],
   "source": [
    "template = env.get_template(\"2x4x4_template.txt\")"
   ]
  },
  {
   "cell_type": "markdown",
   "metadata": {},
   "source": [
    "## Size-OP-Inv"
   ]
  },
  {
   "cell_type": "code",
   "execution_count": 179,
   "metadata": {},
   "outputs": [],
   "source": [
    "a, K, j = pd.read_csv(\"C:/Data/FrenchDartmouth/32_Portfolios_ME_OP_INV_2x4x4.CSV\"), 2, 4\n",
    "# a, K, j = pd.read_csv(\"C:/Data/FrenchDartmouth/25_Portfolios_5x5.CSV\"), 1, 5\n",
    "a = a.iloc[:642, 1:]\n",
    "a.index = F.index"
   ]
  },
  {
   "cell_type": "code",
   "execution_count": 180,
   "metadata": {},
   "outputs": [
    {
     "data": {
      "text/plain": [
       "'3.43, 2.44, 2.46, 1.88'"
      ]
     },
     "execution_count": 180,
     "metadata": {},
     "output_type": "execute_result"
    }
   ],
   "source": [
    "\"{:.2f}, {:.2f}, {:.2f}, {:.2f}\".format(GRS(a, F, ff2015), GRS(a, F, ff2016a), GRS(a, F, ff2016b), GRS(a, F, bs2015))"
   ]
  },
  {
   "cell_type": "markdown",
   "metadata": {},
   "source": [
    "### FF2015"
   ]
  },
  {
   "cell_type": "code",
   "execution_count": 58,
   "metadata": {},
   "outputs": [],
   "source": [
    "factors, coef_names = ff2015, [\"a\", \"b\", \"s\", \"v\", \"p\", \"i\"]"
   ]
  },
  {
   "cell_type": "code",
   "execution_count": 59,
   "metadata": {},
   "outputs": [],
   "source": [
    "A = tbl_content(a, factors, \"1963-07\", \"2013-12\", coef_names, K, j, 2, True)"
   ]
  },
  {
   "cell_type": "code",
   "execution_count": 60,
   "metadata": {},
   "outputs": [],
   "source": [
    "context = {\n",
    "    \"A\": A, \"K\": K, \"j\": j, \"coef_names\": [\"a\", \"v\", \"p\", \"i\"],\n",
    "    \"var_name\": \"OP\",\n",
    "    \"title\": r'R^i=a^i+\\beta^iMkt+s^iSize+v^iVal+p^iProf+i^iInv',\n",
    "    \"caption\": r\"Size-OP-Inv Portfolios with FF2015 Factors. \\footnotesize{July, 1963 through December, 2013 (606 Months).}\",\n",
    "    \"label\": \"tbl:32_Size_OP_Inv_FF2015\"\n",
    "}"
   ]
  },
  {
   "cell_type": "code",
   "execution_count": 61,
   "metadata": {},
   "outputs": [],
   "source": [
    "with open(os.path.join(path, \"32_Size_OP_Inv_FF2015_196307_201312.tex\"), \"w\") as table:\n",
    "    table.write(template.render(context))"
   ]
  },
  {
   "cell_type": "markdown",
   "metadata": {},
   "source": [
    "### FF2016b"
   ]
  },
  {
   "cell_type": "code",
   "execution_count": 67,
   "metadata": {},
   "outputs": [],
   "source": [
    "factors, coef_names = ff2016b, [\"a\", \"b\", \"s\", \"v\", \"p\", \"i\"]"
   ]
  },
  {
   "cell_type": "code",
   "execution_count": 68,
   "metadata": {},
   "outputs": [],
   "source": [
    "A = tbl_content(a, factors, \"1963-07\", \"2016-12\", coef_names, K, j, 2, True)"
   ]
  },
  {
   "cell_type": "code",
   "execution_count": 69,
   "metadata": {},
   "outputs": [],
   "source": [
    "context = {\n",
    "    \"A\": A, \"K\": K, \"j\": j, \"coef_names\": [\"a\", \"v\", \"p\", \"i\"],\n",
    "    \"var_name\": \"OP\",\n",
    "    \"title\": r'R^i=a^i+\\beta^iMkt+s^iSize+v^iVal+p^iProf+i^iInv',\n",
    "    \"caption\": r\"Size-OP-Inv Portfolios with FF2016b Factors. \\footnotesize{July, 1963 through December, 2016 (642 Months).}\",\n",
    "    \"label\": \"tbl:32_Size_OP_Inv_FF2016b\"\n",
    "}"
   ]
  },
  {
   "cell_type": "code",
   "execution_count": 70,
   "metadata": {},
   "outputs": [],
   "source": [
    "with open(os.path.join(path, \"32_Size_OP_Inv_FF2016b_196307_201612.tex\"), \"w\") as table:\n",
    "    table.write(template.render(context))"
   ]
  },
  {
   "cell_type": "markdown",
   "metadata": {},
   "source": [
    "### BS2015"
   ]
  },
  {
   "cell_type": "code",
   "execution_count": 62,
   "metadata": {},
   "outputs": [],
   "source": [
    "factors, coef_names = bs2015, [\"a\", \"b\", \"s\", \"v\", \"m\", \"p\"]"
   ]
  },
  {
   "cell_type": "code",
   "execution_count": 63,
   "metadata": {},
   "outputs": [],
   "source": [
    "A = tbl_content(a, factors, \"1963-07\", \"2016-12\", coef_names, K, j, 2, True)"
   ]
  },
  {
   "cell_type": "code",
   "execution_count": 64,
   "metadata": {},
   "outputs": [],
   "source": [
    "context = {\n",
    "    \"A\": A, \"K\": K, \"j\": j, \"coef_names\": [\"a\", \"v\", \"m\", \"p\"],\n",
    "    \"var_name\": \"OP\",\n",
    "    \"title\": r'R^i=a^i+\\beta^iMkt+s^iSize+v^iVal+m^iMom+p^iProf',\n",
    "    \"caption\": r\"Size-OP-Inv Portfolios with BS2015 Factors. \\footnotesize{July, 1963 through December, 2016 (642 Months).}\",\n",
    "    \"label\": \"tbl:32_Size_OP_Inv_BS2015\"\n",
    "}"
   ]
  },
  {
   "cell_type": "code",
   "execution_count": 65,
   "metadata": {},
   "outputs": [],
   "source": [
    "with open(os.path.join(path, \"32_Size_OP_Inv_BS2015_196307_201612.tex\"), \"w\") as table:\n",
    "    table.write(template.render(context))"
   ]
  },
  {
   "cell_type": "markdown",
   "metadata": {},
   "source": [
    "## Size-BM-OP"
   ]
  },
  {
   "cell_type": "code",
   "execution_count": 181,
   "metadata": {},
   "outputs": [],
   "source": [
    "a, K, j = pd.read_csv(\"C:/Data/FrenchDartmouth/32_Portfolios_ME_BEME_OP_2x4x4.CSV\"), 2, 4\n",
    "# a, K, j = pd.read_csv(\"C:/Data/FrenchDartmouth/25_Portfolios_5x5.CSV\"), 1, 5\n",
    "a = a.iloc[:642, 1:]\n",
    "a.index = F.index"
   ]
  },
  {
   "cell_type": "code",
   "execution_count": 182,
   "metadata": {},
   "outputs": [
    {
     "data": {
      "text/plain": [
       "'2.32, 1.38, 1.21, 1.53'"
      ]
     },
     "execution_count": 182,
     "metadata": {},
     "output_type": "execute_result"
    }
   ],
   "source": [
    "\"{:.2f}, {:.2f}, {:.2f}, {:.2f}\".format(GRS(a, F, ff2015), GRS(a, F, ff2016a), GRS(a, F, ff2016b), GRS(a, F, bs2015))"
   ]
  },
  {
   "cell_type": "markdown",
   "metadata": {},
   "source": [
    "## Size-BM-Inv"
   ]
  },
  {
   "cell_type": "code",
   "execution_count": 183,
   "metadata": {},
   "outputs": [],
   "source": [
    "a, K, j = pd.read_csv(\"C:/Data/FrenchDartmouth/32_Portfolios_ME_BEME_INV_2x4x4.CSV\"), 2, 4\n",
    "# a, K, j = pd.read_csv(\"C:/Data/FrenchDartmouth/25_Portfolios_5x5.CSV\"), 1, 5\n",
    "a = a.iloc[:642, 1:]\n",
    "a.index = F.index"
   ]
  },
  {
   "cell_type": "code",
   "execution_count": 184,
   "metadata": {},
   "outputs": [
    {
     "data": {
      "text/plain": [
       "'2.39, 1.59, 1.69, 2.17'"
      ]
     },
     "execution_count": 184,
     "metadata": {},
     "output_type": "execute_result"
    }
   ],
   "source": [
    "\"{:.2f}, {:.2f}, {:.2f}, {:.2f}\".format(GRS(a, F, ff2015), GRS(a, F, ff2016a), GRS(a, F, ff2016b), GRS(a, F, bs2015))"
   ]
  },
  {
   "cell_type": "markdown",
   "metadata": {},
   "source": [
    "# 5x5"
   ]
  },
  {
   "cell_type": "code",
   "execution_count": 109,
   "metadata": {},
   "outputs": [],
   "source": [
    "template, transpose = env.get_template(\"5x5_template.txt\"), False"
   ]
  },
  {
   "cell_type": "markdown",
   "metadata": {},
   "source": [
    "## Size-Beta"
   ]
  },
  {
   "cell_type": "code",
   "execution_count": 196,
   "metadata": {},
   "outputs": [],
   "source": [
    "a, K, j = pd.read_csv(\"C:/Data/FrenchDartmouth/25_Portfolios_ME_BETA_5x5.csv\"), 1, 5\n",
    "# a, K, j = pd.read_csv(\"C:/Data/FrenchDartmouth/25_Portfolios_5x5.CSV\"), 1, 5\n",
    "a = a.iloc[:642, 1:]\n",
    "a.index = F.index"
   ]
  },
  {
   "cell_type": "code",
   "execution_count": 197,
   "metadata": {},
   "outputs": [
    {
     "data": {
      "text/plain": [
       "'1.78, 2.22, 1.64, 1.10'"
      ]
     },
     "execution_count": 197,
     "metadata": {},
     "output_type": "execute_result"
    }
   ],
   "source": [
    "\"{:.2f}, {:.2f}, {:.2f}, {:.2f}\".format(GRS(a, F, ff2015), GRS(a, F, ff2016a), GRS(a, F, ff2016b), GRS(a, F, bs2015))"
   ]
  },
  {
   "cell_type": "markdown",
   "metadata": {},
   "source": [
    "### BS2015"
   ]
  },
  {
   "cell_type": "code",
   "execution_count": 111,
   "metadata": {},
   "outputs": [],
   "source": [
    "factors, coef_names = bs2015, [\"a\", \"b\", \"s\", \"v\", \"m\", \"p\"]"
   ]
  },
  {
   "cell_type": "code",
   "execution_count": 112,
   "metadata": {},
   "outputs": [],
   "source": [
    "A = tbl_content(a, factors, \"1963-07\", \"2016-12\", coef_names, K, j, 2, transpose)"
   ]
  },
  {
   "cell_type": "code",
   "execution_count": 113,
   "metadata": {},
   "outputs": [],
   "source": [
    "model = \"BS2015\"\n",
    "label = \"{}_Size_Beta_{}\".format(K*j*j, model)\n",
    "context = {\n",
    "    \"A\": A, \"K\": K, \"j\": j, \"coef_names\": [\"a\", \"b\", \"s\", \"v\", \"m\", \"p\"],\n",
    "    \"var_name\": \"Beta\",\n",
    "    \"title\": r'R^i=a^i+\\beta^iMkt+s^iSize+v^iVal+m^iMom+p^iProf',\n",
    "    \"caption\": r\"Size-Beta Portfolios with \"+model+r\" Factors. \\footnotesize{July, 1963 through December, 2016 (642 Months).}\",\n",
    "    \"label\": \"tbl:{}\".format(label)\n",
    "}"
   ]
  },
  {
   "cell_type": "code",
   "execution_count": 114,
   "metadata": {},
   "outputs": [],
   "source": [
    "with open(os.path.join(path, \"{}_196307_201612.tex\".format(label)), \"w\") as table:\n",
    "    table.write(template.render(context))"
   ]
  },
  {
   "cell_type": "markdown",
   "metadata": {},
   "source": [
    "### FF2015"
   ]
  },
  {
   "cell_type": "code",
   "execution_count": 119,
   "metadata": {},
   "outputs": [],
   "source": [
    "factors, coef_names = ff2015, [\"a\", \"b\", \"s\", \"v\", \"p\", \"i\"]"
   ]
  },
  {
   "cell_type": "code",
   "execution_count": 120,
   "metadata": {},
   "outputs": [],
   "source": [
    "A = tbl_content(a, factors, \"1963-07\", \"2016-12\", coef_names, K, j, 2, transpose)"
   ]
  },
  {
   "cell_type": "code",
   "execution_count": 121,
   "metadata": {},
   "outputs": [],
   "source": [
    "model = \"FF2015\"\n",
    "label = \"{}_Size_Beta_{}\".format(K*j*j, model)\n",
    "context = {\n",
    "    \"A\": A, \"K\": K, \"j\": j, \"coef_names\": [\"a\", \"b\", \"s\", \"v\", \"p\", \"i\"],\n",
    "    \"var_name\": \"Beta\",\n",
    "    \"title\": r'R^i=a^i+\\beta^iMkt+s^iSize+v^iVal+p^iProf+i^iInv',\n",
    "    \"caption\": r\"Size-Beta Portfolios with \"+model+r\" Factors. \\footnotesize{July, 1963 through December, 2016 (642 Months).}\",\n",
    "    \"label\": \"tbl:{}\".format(label)\n",
    "}"
   ]
  },
  {
   "cell_type": "code",
   "execution_count": 122,
   "metadata": {},
   "outputs": [],
   "source": [
    "with open(os.path.join(path, \"{}_196307_201612.tex\".format(label)), \"w\") as table:\n",
    "    table.write(template.render(context))"
   ]
  },
  {
   "cell_type": "markdown",
   "metadata": {},
   "source": [
    "### FF2016a"
   ]
  },
  {
   "cell_type": "code",
   "execution_count": 115,
   "metadata": {},
   "outputs": [],
   "source": [
    "factors, coef_names = ff2016a, [\"a\", \"b\", \"s\", \"v\", \"p\", \"i\"]"
   ]
  },
  {
   "cell_type": "code",
   "execution_count": 116,
   "metadata": {},
   "outputs": [],
   "source": [
    "A = tbl_content(a, factors, \"1963-07\", \"2016-12\", coef_names, K, j, 2, transpose)"
   ]
  },
  {
   "cell_type": "code",
   "execution_count": 117,
   "metadata": {},
   "outputs": [],
   "source": [
    "model = \"FF2016a\"\n",
    "label = \"{}_Size_Beta_{}\".format(K*j*j, model)\n",
    "context = {\n",
    "    \"A\": A, \"K\": K, \"j\": j, \"coef_names\": [\"a\", \"b\", \"s\", \"v\", \"p\", \"i\"],\n",
    "    \"var_name\": \"Beta\",\n",
    "    \"title\": r'R^i=a^i+\\beta^iMkt+s^iSize+v^iVal+p^iProf+i^iInv',\n",
    "    \"caption\": r\"Size-Beta Portfolios with \"+model+r\" Factors. \\footnotesize{July, 1963 through December, 2016 (642 Months).}\",\n",
    "    \"label\": \"tbl:{}\".format(label)\n",
    "}"
   ]
  },
  {
   "cell_type": "code",
   "execution_count": 118,
   "metadata": {},
   "outputs": [],
   "source": [
    "with open(os.path.join(path, \"{}_196307_201612.tex\".format(label)), \"w\") as table:\n",
    "    table.write(template.render(context))"
   ]
  },
  {
   "cell_type": "markdown",
   "metadata": {},
   "source": [
    "### FF2016b"
   ]
  },
  {
   "cell_type": "code",
   "execution_count": 105,
   "metadata": {},
   "outputs": [],
   "source": [
    "factors, coef_names = ff2016b, [\"a\", \"b\", \"s\", \"v\", \"p\", \"i\"]"
   ]
  },
  {
   "cell_type": "code",
   "execution_count": 106,
   "metadata": {},
   "outputs": [],
   "source": [
    "A = tbl_content(a, factors, \"1963-07\", \"2016-12\", coef_names, K, j, 2, transpose)"
   ]
  },
  {
   "cell_type": "code",
   "execution_count": 107,
   "metadata": {},
   "outputs": [],
   "source": [
    "model = \"FF2016b\"\n",
    "label = \"{}_Size_Beta_{}\".format(K*j*j, model)\n",
    "context = {\n",
    "    \"A\": A, \"K\": K, \"j\": j, \"coef_names\": [\"a\", \"b\", \"s\", \"v\", \"p\", \"i\"],\n",
    "    \"var_name\": \"Beta\",\n",
    "    \"title\": r'R^i=a^i+\\beta^iMkt+s^iSize+v^iVal+p^iProf+i^iInv',\n",
    "    \"caption\": r\"Size-Beta Portfolios with \"+model+r\" Factors. \\footnotesize{July, 1963 through December, 2016 (642 Months).}\",\n",
    "    \"label\": \"tbl:{}\".format(label)\n",
    "}"
   ]
  },
  {
   "cell_type": "code",
   "execution_count": 108,
   "metadata": {},
   "outputs": [],
   "source": [
    "with open(os.path.join(path, \"{}_196307_201612.tex\".format(label)), \"w\") as table:\n",
    "    table.write(template.render(context))"
   ]
  },
  {
   "cell_type": "markdown",
   "metadata": {},
   "source": [
    "## Size-Vol"
   ]
  },
  {
   "cell_type": "code",
   "execution_count": 125,
   "metadata": {},
   "outputs": [],
   "source": [
    "a, K, j = pd.read_csv(\"C:/Data/FrenchDartmouth/25_Portfolios_ME_VAR_5x5.csv\"), 1, 5\n",
    "# a, K, j = pd.read_csv(\"C:/Data/FrenchDartmouth/25_Portfolios_5x5.CSV\"), 1, 5\n",
    "a = a.iloc[:642, 1:]\n",
    "a.index = F.index"
   ]
  },
  {
   "cell_type": "code",
   "execution_count": 126,
   "metadata": {},
   "outputs": [
    {
     "data": {
      "text/plain": [
       "'5.16, 4.64, 4.82, 4.21'"
      ]
     },
     "execution_count": 126,
     "metadata": {},
     "output_type": "execute_result"
    }
   ],
   "source": [
    "\"{:.2f}, {:.2f}, {:.2f}, {:.2f}\".format(GRS(a, F, ff2015), GRS(a, F, ff2016a), GRS(a, F, ff2016b), GRS(a, F, bs2015))"
   ]
  },
  {
   "cell_type": "markdown",
   "metadata": {},
   "source": [
    "### BS2015"
   ]
  },
  {
   "cell_type": "code",
   "execution_count": 127,
   "metadata": {},
   "outputs": [],
   "source": [
    "factors, coef_names = bs2015, [\"a\", \"b\", \"s\", \"v\", \"m\", \"p\"]"
   ]
  },
  {
   "cell_type": "code",
   "execution_count": 128,
   "metadata": {},
   "outputs": [],
   "source": [
    "A = tbl_content(a, factors, \"1963-07\", \"2016-12\", coef_names, K, j, 2, transpose)"
   ]
  },
  {
   "cell_type": "code",
   "execution_count": 129,
   "metadata": {},
   "outputs": [],
   "source": [
    "model = \"BS2015\"\n",
    "label = \"{}_Size_Beta_{}\".format(K*j*j, model)\n",
    "context = {\n",
    "    \"A\": A, \"K\": K, \"j\": j, \"coef_names\": [\"a\", \"b\", \"s\", \"v\", \"m\", \"p\"],\n",
    "    \"var_name\": \"Beta\",\n",
    "    \"title\": r'R^i=a^i+\\beta^iMkt+s^iSize+v^iVal+m^iMom+p^iProf',\n",
    "    \"caption\": r\"Size-Beta Portfolios with \"+model+r\" Factors. \\footnotesize{July, 1963 through December, 2016 (642 Months).}\",\n",
    "    \"label\": \"tbl:{}\".format(label)\n",
    "}"
   ]
  },
  {
   "cell_type": "code",
   "execution_count": 130,
   "metadata": {},
   "outputs": [],
   "source": [
    "with open(os.path.join(path, \"{}_196307_201612.tex\".format(label)), \"w\") as table:\n",
    "    table.write(template.render(context))"
   ]
  },
  {
   "cell_type": "markdown",
   "metadata": {},
   "source": [
    "### FF2015"
   ]
  },
  {
   "cell_type": "code",
   "execution_count": 131,
   "metadata": {},
   "outputs": [],
   "source": [
    "factors, coef_names = ff2015, [\"a\", \"b\", \"s\", \"v\", \"p\", \"i\"]"
   ]
  },
  {
   "cell_type": "code",
   "execution_count": 132,
   "metadata": {},
   "outputs": [],
   "source": [
    "A = tbl_content(a, factors, \"1963-07\", \"2016-12\", coef_names, K, j, 2, transpose)"
   ]
  },
  {
   "cell_type": "code",
   "execution_count": 133,
   "metadata": {},
   "outputs": [],
   "source": [
    "model = \"FF2015\"\n",
    "label = \"{}_Size_Beta_{}\".format(K*j*j, model)\n",
    "context = {\n",
    "    \"A\": A, \"K\": K, \"j\": j, \"coef_names\": [\"a\", \"b\", \"s\", \"v\", \"p\", \"i\"],\n",
    "    \"var_name\": \"Beta\",\n",
    "    \"title\": r'R^i=a^i+\\beta^iMkt+s^iSize+v^iVal+p^iProf+i^iInv',\n",
    "    \"caption\": r\"Size-Beta Portfolios with \"+model+r\" Factors. \\footnotesize{July, 1963 through December, 2016 (642 Months).}\",\n",
    "    \"label\": \"tbl:{}\".format(label)\n",
    "}"
   ]
  },
  {
   "cell_type": "code",
   "execution_count": 134,
   "metadata": {},
   "outputs": [],
   "source": [
    "with open(os.path.join(path, \"{}_196307_201612.tex\".format(label)), \"w\") as table:\n",
    "    table.write(template.render(context))"
   ]
  },
  {
   "cell_type": "markdown",
   "metadata": {},
   "source": [
    "### FF2016a"
   ]
  },
  {
   "cell_type": "code",
   "execution_count": 135,
   "metadata": {},
   "outputs": [],
   "source": [
    "factors, coef_names = ff2016a, [\"a\", \"b\", \"s\", \"v\", \"p\", \"i\"]"
   ]
  },
  {
   "cell_type": "code",
   "execution_count": 136,
   "metadata": {},
   "outputs": [],
   "source": [
    "A = tbl_content(a, factors, \"1963-07\", \"2016-12\", coef_names, K, j, 2, transpose)"
   ]
  },
  {
   "cell_type": "code",
   "execution_count": 137,
   "metadata": {},
   "outputs": [],
   "source": [
    "model = \"FF2016a\"\n",
    "label = \"{}_Size_Beta_{}\".format(K*j*j, model)\n",
    "context = {\n",
    "    \"A\": A, \"K\": K, \"j\": j, \"coef_names\": [\"a\", \"b\", \"s\", \"v\", \"p\", \"i\"],\n",
    "    \"var_name\": \"Beta\",\n",
    "    \"title\": r'R^i=a^i+\\beta^iMkt+s^iSize+v^iVal+p^iProf+i^iInv',\n",
    "    \"caption\": r\"Size-Beta Portfolios with \"+model+r\" Factors. \\footnotesize{July, 1963 through December, 2016 (642 Months).}\",\n",
    "    \"label\": \"tbl:{}\".format(label)\n",
    "}"
   ]
  },
  {
   "cell_type": "code",
   "execution_count": 138,
   "metadata": {},
   "outputs": [],
   "source": [
    "with open(os.path.join(path, \"{}_196307_201612.tex\".format(label)), \"w\") as table:\n",
    "    table.write(template.render(context))"
   ]
  },
  {
   "cell_type": "markdown",
   "metadata": {},
   "source": [
    "### FF2016b"
   ]
  },
  {
   "cell_type": "code",
   "execution_count": 139,
   "metadata": {},
   "outputs": [],
   "source": [
    "factors, coef_names = ff2016b, [\"a\", \"b\", \"s\", \"v\", \"p\", \"i\"]"
   ]
  },
  {
   "cell_type": "code",
   "execution_count": 140,
   "metadata": {},
   "outputs": [],
   "source": [
    "A = tbl_content(a, factors, \"1963-07\", \"2016-12\", coef_names, K, j, 2, transpose)"
   ]
  },
  {
   "cell_type": "code",
   "execution_count": 141,
   "metadata": {},
   "outputs": [],
   "source": [
    "model = \"FF2016b\"\n",
    "label = \"{}_Size_Beta_{}\".format(K*j*j, model)\n",
    "context = {\n",
    "    \"A\": A, \"K\": K, \"j\": j, \"coef_names\": [\"a\", \"b\", \"s\", \"v\", \"p\", \"i\"],\n",
    "    \"var_name\": \"Beta\",\n",
    "    \"title\": r'R^i=a^i+\\beta^iMkt+s^iSize+v^iVal+p^iProf+i^iInv',\n",
    "    \"caption\": r\"Size-Beta Portfolios with \"+model+r\" Factors. \\footnotesize{July, 1963 through December, 2016 (642 Months).}\",\n",
    "    \"label\": \"tbl:{}\".format(label)\n",
    "}"
   ]
  },
  {
   "cell_type": "code",
   "execution_count": 142,
   "metadata": {},
   "outputs": [],
   "source": [
    "with open(os.path.join(path, \"{}_196307_201612.tex\".format(label)), \"w\") as table:\n",
    "    table.write(template.render(context))"
   ]
  },
  {
   "cell_type": "markdown",
   "metadata": {},
   "source": [
    "## Size-Prior"
   ]
  },
  {
   "cell_type": "code",
   "execution_count": 143,
   "metadata": {},
   "outputs": [],
   "source": [
    "a, K, j = pd.read_csv(\"C:/Data/FrenchDartmouth/25_Portfolios_ME_Prior_12_2.CSV\"), 1, 5\n",
    "# a, K, j = pd.read_csv(\"C:/Data/FrenchDartmouth/25_Portfolios_5x5.CSV\"), 1, 5\n",
    "a = a.iloc[:642, 1:]\n",
    "a.index = F.index"
   ]
  },
  {
   "cell_type": "code",
   "execution_count": 144,
   "metadata": {},
   "outputs": [
    {
     "data": {
      "text/plain": [
       "'4.44, 4.19, 4.22, 3.70'"
      ]
     },
     "execution_count": 144,
     "metadata": {},
     "output_type": "execute_result"
    }
   ],
   "source": [
    "\"{:.2f}, {:.2f}, {:.2f}, {:.2f}\".format(GRS(a, F, ff2015), GRS(a, F, ff2016a), GRS(a, F, ff2016b), GRS(a, F, bs2015))"
   ]
  },
  {
   "cell_type": "markdown",
   "metadata": {},
   "source": [
    "### BS2015"
   ]
  },
  {
   "cell_type": "code",
   "execution_count": 145,
   "metadata": {},
   "outputs": [],
   "source": [
    "factors, coef_names = bs2015, [\"a\", \"b\", \"s\", \"v\", \"m\", \"p\"]"
   ]
  },
  {
   "cell_type": "code",
   "execution_count": 146,
   "metadata": {},
   "outputs": [],
   "source": [
    "A = tbl_content(a, factors, \"1963-07\", \"2016-12\", coef_names, K, j, 2, transpose)"
   ]
  },
  {
   "cell_type": "code",
   "execution_count": 147,
   "metadata": {},
   "outputs": [],
   "source": [
    "model = \"BS2015\"\n",
    "label = \"{}_Size_Beta_{}\".format(K*j*j, model)\n",
    "context = {\n",
    "    \"A\": A, \"K\": K, \"j\": j, \"coef_names\": [\"a\", \"b\", \"s\", \"v\", \"m\", \"p\"],\n",
    "    \"var_name\": \"Beta\",\n",
    "    \"title\": r'R^i=a^i+\\beta^iMkt+s^iSize+v^iVal+m^iMom+p^iProf',\n",
    "    \"caption\": r\"Size-Beta Portfolios with \"+model+r\" Factors. \\footnotesize{July, 1963 through December, 2016 (642 Months).}\",\n",
    "    \"label\": \"tbl:{}\".format(label)\n",
    "}"
   ]
  },
  {
   "cell_type": "code",
   "execution_count": 148,
   "metadata": {},
   "outputs": [],
   "source": [
    "with open(os.path.join(path, \"{}_196307_201612.tex\".format(label)), \"w\") as table:\n",
    "    table.write(template.render(context))"
   ]
  },
  {
   "cell_type": "markdown",
   "metadata": {},
   "source": [
    "### FF2015"
   ]
  },
  {
   "cell_type": "code",
   "execution_count": 149,
   "metadata": {},
   "outputs": [],
   "source": [
    "factors, coef_names = ff2015, [\"a\", \"b\", \"s\", \"v\", \"p\", \"i\"]"
   ]
  },
  {
   "cell_type": "code",
   "execution_count": 150,
   "metadata": {},
   "outputs": [],
   "source": [
    "A = tbl_content(a, factors, \"1963-07\", \"2016-12\", coef_names, K, j, 2, transpose)"
   ]
  },
  {
   "cell_type": "code",
   "execution_count": 151,
   "metadata": {},
   "outputs": [],
   "source": [
    "model = \"FF2015\"\n",
    "label = \"{}_Size_Beta_{}\".format(K*j*j, model)\n",
    "context = {\n",
    "    \"A\": A, \"K\": K, \"j\": j, \"coef_names\": [\"a\", \"b\", \"s\", \"v\", \"p\", \"i\"],\n",
    "    \"var_name\": \"Beta\",\n",
    "    \"title\": r'R^i=a^i+\\beta^iMkt+s^iSize+v^iVal+p^iProf+i^iInv',\n",
    "    \"caption\": r\"Size-Beta Portfolios with \"+model+r\" Factors. \\footnotesize{July, 1963 through December, 2016 (642 Months).}\",\n",
    "    \"label\": \"tbl:{}\".format(label)\n",
    "}"
   ]
  },
  {
   "cell_type": "code",
   "execution_count": 152,
   "metadata": {},
   "outputs": [],
   "source": [
    "with open(os.path.join(path, \"{}_196307_201612.tex\".format(label)), \"w\") as table:\n",
    "    table.write(template.render(context))"
   ]
  },
  {
   "cell_type": "markdown",
   "metadata": {},
   "source": [
    "### FF2016a"
   ]
  },
  {
   "cell_type": "code",
   "execution_count": 153,
   "metadata": {},
   "outputs": [],
   "source": [
    "factors, coef_names = ff2016a, [\"a\", \"b\", \"s\", \"v\", \"p\", \"i\"]"
   ]
  },
  {
   "cell_type": "code",
   "execution_count": 154,
   "metadata": {},
   "outputs": [],
   "source": [
    "A = tbl_content(a, factors, \"1963-07\", \"2016-12\", coef_names, K, j, 2, transpose)"
   ]
  },
  {
   "cell_type": "code",
   "execution_count": 155,
   "metadata": {},
   "outputs": [],
   "source": [
    "model = \"FF2016a\"\n",
    "label = \"{}_Size_Beta_{}\".format(K*j*j, model)\n",
    "context = {\n",
    "    \"A\": A, \"K\": K, \"j\": j, \"coef_names\": [\"a\", \"b\", \"s\", \"v\", \"p\", \"i\"],\n",
    "    \"var_name\": \"Beta\",\n",
    "    \"title\": r'R^i=a^i+\\beta^iMkt+s^iSize+v^iVal+p^iProf+i^iInv',\n",
    "    \"caption\": r\"Size-Beta Portfolios with \"+model+r\" Factors. \\footnotesize{July, 1963 through December, 2016 (642 Months).}\",\n",
    "    \"label\": \"tbl:{}\".format(label)\n",
    "}"
   ]
  },
  {
   "cell_type": "code",
   "execution_count": 156,
   "metadata": {},
   "outputs": [],
   "source": [
    "with open(os.path.join(path, \"{}_196307_201612.tex\".format(label)), \"w\") as table:\n",
    "    table.write(template.render(context))"
   ]
  },
  {
   "cell_type": "markdown",
   "metadata": {},
   "source": [
    "### FF2016b"
   ]
  },
  {
   "cell_type": "code",
   "execution_count": 157,
   "metadata": {},
   "outputs": [],
   "source": [
    "factors, coef_names = ff2016b, [\"a\", \"b\", \"s\", \"v\", \"p\", \"i\"]"
   ]
  },
  {
   "cell_type": "code",
   "execution_count": 158,
   "metadata": {},
   "outputs": [],
   "source": [
    "A = tbl_content(a, factors, \"1963-07\", \"2016-12\", coef_names, K, j, 2, transpose)"
   ]
  },
  {
   "cell_type": "code",
   "execution_count": 159,
   "metadata": {},
   "outputs": [],
   "source": [
    "model = \"FF2016b\"\n",
    "label = \"{}_Size_Beta_{}\".format(K*j*j, model)\n",
    "context = {\n",
    "    \"A\": A, \"K\": K, \"j\": j, \"coef_names\": [\"a\", \"b\", \"s\", \"v\", \"p\", \"i\"],\n",
    "    \"var_name\": \"Beta\",\n",
    "    \"title\": r'R^i=a^i+\\beta^iMkt+s^iSize+v^iVal+p^iProf+i^iInv',\n",
    "    \"caption\": r\"Size-Beta Portfolios with \"+model+r\" Factors. \\footnotesize{July, 1963 through December, 2016 (642 Months).}\",\n",
    "    \"label\": \"tbl:{}\".format(label)\n",
    "}"
   ]
  },
  {
   "cell_type": "code",
   "execution_count": 160,
   "metadata": {},
   "outputs": [],
   "source": [
    "with open(os.path.join(path, \"{}_196307_201612.tex\".format(label)), \"w\") as table:\n",
    "    table.write(template.render(context))"
   ]
  },
  {
   "cell_type": "markdown",
   "metadata": {},
   "source": [
    "## Size-Inv"
   ]
  },
  {
   "cell_type": "code",
   "execution_count": 161,
   "metadata": {},
   "outputs": [],
   "source": [
    "a, K, j = pd.read_csv(\"C:/Data/FrenchDartmouth/25_Portfolios_ME_INV_5x5.CSV\"), 1, 5\n",
    "# a, K, j = pd.read_csv(\"C:/Data/FrenchDartmouth/25_Portfolios_5x5.CSV\"), 1, 5\n",
    "a = a.iloc[:642, 1:]\n",
    "a.index = F.index"
   ]
  },
  {
   "cell_type": "code",
   "execution_count": 162,
   "metadata": {},
   "outputs": [
    {
     "data": {
      "text/plain": [
       "'3.42, 2.44, 2.46, 1.97'"
      ]
     },
     "execution_count": 162,
     "metadata": {},
     "output_type": "execute_result"
    }
   ],
   "source": [
    "\"{:.2f}, {:.2f}, {:.2f}, {:.2f}\".format(GRS(a, F, ff2015), GRS(a, F, ff2016a), GRS(a, F, ff2016b), GRS(a, F, bs2015))"
   ]
  },
  {
   "cell_type": "markdown",
   "metadata": {},
   "source": [
    "### BS2015"
   ]
  },
  {
   "cell_type": "code",
   "execution_count": 163,
   "metadata": {},
   "outputs": [],
   "source": [
    "factors, coef_names = bs2015, [\"a\", \"b\", \"s\", \"v\", \"m\", \"p\"]"
   ]
  },
  {
   "cell_type": "code",
   "execution_count": 164,
   "metadata": {},
   "outputs": [],
   "source": [
    "A = tbl_content(a, factors, \"1963-07\", \"2016-12\", coef_names, K, j, 2, transpose)"
   ]
  },
  {
   "cell_type": "code",
   "execution_count": 165,
   "metadata": {},
   "outputs": [],
   "source": [
    "model = \"BS2015\"\n",
    "label = \"{}_Size_Beta_{}\".format(K*j*j, model)\n",
    "context = {\n",
    "    \"A\": A, \"K\": K, \"j\": j, \"coef_names\": [\"a\", \"b\", \"s\", \"v\", \"m\", \"p\"],\n",
    "    \"var_name\": \"Beta\",\n",
    "    \"title\": r'R^i=a^i+\\beta^iMkt+s^iSize+v^iVal+m^iMom+p^iProf',\n",
    "    \"caption\": r\"Size-Beta Portfolios with \"+model+r\" Factors. \\footnotesize{July, 1963 through December, 2016 (642 Months).}\",\n",
    "    \"label\": \"tbl:{}\".format(label)\n",
    "}"
   ]
  },
  {
   "cell_type": "code",
   "execution_count": 166,
   "metadata": {},
   "outputs": [],
   "source": [
    "with open(os.path.join(path, \"{}_196307_201612.tex\".format(label)), \"w\") as table:\n",
    "    table.write(template.render(context))"
   ]
  },
  {
   "cell_type": "markdown",
   "metadata": {},
   "source": [
    "### FF2015"
   ]
  },
  {
   "cell_type": "code",
   "execution_count": 167,
   "metadata": {},
   "outputs": [],
   "source": [
    "factors, coef_names = ff2015, [\"a\", \"b\", \"s\", \"v\", \"p\", \"i\"]"
   ]
  },
  {
   "cell_type": "code",
   "execution_count": 168,
   "metadata": {},
   "outputs": [],
   "source": [
    "A = tbl_content(a, factors, \"1963-07\", \"2016-12\", coef_names, K, j, 2, transpose)"
   ]
  },
  {
   "cell_type": "code",
   "execution_count": 169,
   "metadata": {},
   "outputs": [],
   "source": [
    "model = \"FF2015\"\n",
    "label = \"{}_Size_Beta_{}\".format(K*j*j, model)\n",
    "context = {\n",
    "    \"A\": A, \"K\": K, \"j\": j, \"coef_names\": [\"a\", \"b\", \"s\", \"v\", \"p\", \"i\"],\n",
    "    \"var_name\": \"Beta\",\n",
    "    \"title\": r'R^i=a^i+\\beta^iMkt+s^iSize+v^iVal+p^iProf+i^iInv',\n",
    "    \"caption\": r\"Size-Beta Portfolios with \"+model+r\" Factors. \\footnotesize{July, 1963 through December, 2016 (642 Months).}\",\n",
    "    \"label\": \"tbl:{}\".format(label)\n",
    "}"
   ]
  },
  {
   "cell_type": "code",
   "execution_count": 170,
   "metadata": {},
   "outputs": [],
   "source": [
    "with open(os.path.join(path, \"{}_196307_201612.tex\".format(label)), \"w\") as table:\n",
    "    table.write(template.render(context))"
   ]
  },
  {
   "cell_type": "markdown",
   "metadata": {},
   "source": [
    "### FF2016a"
   ]
  },
  {
   "cell_type": "code",
   "execution_count": 171,
   "metadata": {},
   "outputs": [],
   "source": [
    "factors, coef_names = ff2016a, [\"a\", \"b\", \"s\", \"v\", \"p\", \"i\"]"
   ]
  },
  {
   "cell_type": "code",
   "execution_count": 172,
   "metadata": {},
   "outputs": [],
   "source": [
    "A = tbl_content(a, factors, \"1963-07\", \"2016-12\", coef_names, K, j, 2, transpose)"
   ]
  },
  {
   "cell_type": "code",
   "execution_count": 173,
   "metadata": {},
   "outputs": [],
   "source": [
    "model = \"FF2016a\"\n",
    "label = \"{}_Size_Beta_{}\".format(K*j*j, model)\n",
    "context = {\n",
    "    \"A\": A, \"K\": K, \"j\": j, \"coef_names\": [\"a\", \"b\", \"s\", \"v\", \"p\", \"i\"],\n",
    "    \"var_name\": \"Beta\",\n",
    "    \"title\": r'R^i=a^i+\\beta^iMkt+s^iSize+v^iVal+p^iProf+i^iInv',\n",
    "    \"caption\": r\"Size-Beta Portfolios with \"+model+r\" Factors. \\footnotesize{July, 1963 through December, 2016 (642 Months).}\",\n",
    "    \"label\": \"tbl:{}\".format(label)\n",
    "}"
   ]
  },
  {
   "cell_type": "code",
   "execution_count": 174,
   "metadata": {},
   "outputs": [],
   "source": [
    "with open(os.path.join(path, \"{}_196307_201612.tex\".format(label)), \"w\") as table:\n",
    "    table.write(template.render(context))"
   ]
  },
  {
   "cell_type": "markdown",
   "metadata": {},
   "source": [
    "### FF2016b"
   ]
  },
  {
   "cell_type": "code",
   "execution_count": 175,
   "metadata": {},
   "outputs": [],
   "source": [
    "factors, coef_names = ff2016b, [\"a\", \"b\", \"s\", \"v\", \"p\", \"i\"]"
   ]
  },
  {
   "cell_type": "code",
   "execution_count": 176,
   "metadata": {},
   "outputs": [],
   "source": [
    "A = tbl_content(a, factors, \"1963-07\", \"2016-12\", coef_names, K, j, 2, transpose)"
   ]
  },
  {
   "cell_type": "code",
   "execution_count": 177,
   "metadata": {},
   "outputs": [],
   "source": [
    "model = \"FF2016b\"\n",
    "label = \"{}_Size_Beta_{}\".format(K*j*j, model)\n",
    "context = {\n",
    "    \"A\": A, \"K\": K, \"j\": j, \"coef_names\": [\"a\", \"b\", \"s\", \"v\", \"p\", \"i\"],\n",
    "    \"var_name\": \"Beta\",\n",
    "    \"title\": r'R^i=a^i+\\beta^iMkt+s^iSize+v^iVal+p^iProf+i^iInv',\n",
    "    \"caption\": r\"Size-Beta Portfolios with \"+model+r\" Factors. \\footnotesize{July, 1963 through December, 2016 (642 Months).}\",\n",
    "    \"label\": \"tbl:{}\".format(label)\n",
    "}"
   ]
  },
  {
   "cell_type": "code",
   "execution_count": 178,
   "metadata": {},
   "outputs": [],
   "source": [
    "with open(os.path.join(path, \"{}_196307_201612.tex\".format(label)), \"w\") as table:\n",
    "    table.write(template.render(context))"
   ]
  },
  {
   "cell_type": "code",
   "execution_count": null,
   "metadata": {},
   "outputs": [],
   "source": []
  },
  {
   "cell_type": "code",
   "execution_count": null,
   "metadata": {},
   "outputs": [],
   "source": []
  }
 ],
 "metadata": {
  "kernelspec": {
   "display_name": "Python 3",
   "language": "python",
   "name": "python3"
  },
  "language_info": {
   "codemirror_mode": {
    "name": "ipython",
    "version": 3
   },
   "file_extension": ".py",
   "mimetype": "text/x-python",
   "name": "python",
   "nbconvert_exporter": "python",
   "pygments_lexer": "ipython3",
   "version": "3.5.2"
  }
 },
 "nbformat": 4,
 "nbformat_minor": 2
}
