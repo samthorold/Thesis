{
 "cells": [
  {
   "cell_type": "markdown",
   "metadata": {},
   "source": [
    "# Anomalies"
   ]
  },
  {
   "cell_type": "code",
   "execution_count": 1,
   "metadata": {},
   "outputs": [
    {
     "name": "stderr",
     "output_type": "stream",
     "text": [
      "c:\\users\\samth\\miniconda3\\envs\\econ\\lib\\site-packages\\statsmodels\\compat\\pandas.py:56: FutureWarning: The pandas.core.datetools module is deprecated and will be removed in a future version. Please use the pandas.tseries module instead.\n",
      "  from pandas.core import datetools\n"
     ]
    }
   ],
   "source": [
    "import jinja2\n",
    "import os\n",
    "import pandas as pd\n",
    "#from scipy.optimize import minimize\n",
    "import statsmodels.api as sm\n",
    "\n",
    "#%pylab inline"
   ]
  },
  {
   "cell_type": "code",
   "execution_count": 2,
   "metadata": {},
   "outputs": [],
   "source": [
    "F = pd.read_stata(\"C:/Data/Thesis/Factors.dta\").set_index(\"date\")"
   ]
  },
  {
   "cell_type": "code",
   "execution_count": 3,
   "metadata": {},
   "outputs": [],
   "source": [
    "models = {\n",
    "    \"CAPM\": {\"f\": [\"rm\",],\n",
    "             \"regstr\": r'R^i=a^i+\\beta^iMkt',\n",
    "             \"coefs\": [\"a\", \"b\"],\n",
    "             \"display_coefs\": [\"a\", \"b\"]},\n",
    "    \"FF1993\": {\"f\": [\"rm\", \"smb\", \"hml\"],\n",
    "               \"regstr\": r'R^i=a^i+\\beta^iMkt+s^iSize+v^iVal',\n",
    "               \"coefs\": [\"a\", \"b\", \"s\", \"v\"],\n",
    "               \"display_coefs\": [\"a\", \"b\", \"s\", \"v\"]},\n",
    "    \"C1997\": {\"f\" : [\"rm\", \"smb\", \"hml\", \"wml\"],\n",
    "              \"regstr\": r'R^i=a^i+\\beta^iMkt+s^iSize+v^iVal+m^iMom',\n",
    "              \"coefs\": [\"a\", \"b\", \"s\", \"v\", \"m\"],\n",
    "              \"display_coefs\": [\"a\", \"v\", \"m\"]},\n",
    "    \"C1997b\": {\"f\" : [\"rm\", \"smb\", \"HMLm\", \"wml\"],\n",
    "               \"regstr\": r'R^i=a^i+\\beta^iMkt+s^iSize+v^iVal+m^iMom',\n",
    "               \"coefs\": [\"a\", \"s\", \"b\", \"v\", \"m\"],\n",
    "               \"display_coefs\": [\"a\", \"v\", \"m\"]},\n",
    "    \"FF2015\": {\"f\" : [\"rm\", \"smb\", \"hml\", \"rmw\", \"cma\"],\n",
    "               \"regstr\": r'R^i=a^i+\\beta^iMkt+s^iSize+v^iVal+m^iMom',\n",
    "               \"coefs\": [\"a\", \"s\", \"b\", \"v\", \"p\", \"i\"],\n",
    "              \"display_coefs\": [\"a\", \"v\", \"p\", \"i\"]},\n",
    "    \"FF2016\": {\"f\" : [\"rm\", \"smb\", \"hml\", \"RMWc\", \"cma\"],\n",
    "               \"regstr\": r'R^i=a^i+\\beta^iMkt+s^iSize+v^iVal+p^iProf+i^iInv',\n",
    "               \"coefs\": [\"a\", \"b\", \"s\", \"v\", \"p\", \"i\"],\n",
    "              \"display_coefs\": [\"a\", \"v\", \"p\", \"i\"]},\n",
    "    \"B2016\": {\"f\" : [\"rm\", \"smb\", \"HMLm\", \"wml\", \"RMWc\"],\n",
    "              \"regstr\": r'R^i=a^i+\\beta^iMkt+s^iSize+v^iVal+m^iMom+p^iProf',\n",
    "              \"coefs\": [\"a\", \"b\", \"s\", \"v\", \"m\", \"p\"],\n",
    "              \"display_coefs\": [\"a\", \"v\", \"m\", \"p\"]},\n",
    "}"
   ]
  },
  {
   "cell_type": "code",
   "execution_count": 4,
   "metadata": {},
   "outputs": [],
   "source": [
    "def tbl_content(LHS, factors, start, end, coef_names, K, j, precision=2, transpose_j=False):\n",
    "\n",
    "    N = len(LHS.columns)\n",
    "    A = {name: {\"coef\": [], \"tval\": [], \"rows\": []} for name in coef_names}\n",
    "\n",
    "    # for each anomaly portfolio\n",
    "    for lhsi, lhs in enumerate(LHS.columns):\n",
    "\n",
    "        lhs = LHS[start:end][lhs] - F[start:end][\"rf\"]  # DataFrame\n",
    "        rhs = sm.add_constant(F[start:end][factors])    # DataFrame\n",
    "\n",
    "        # regress the \"anomaly\" on the factors\n",
    "        model = sm.OLS(lhs, rhs)\n",
    "        fit = model.fit()\n",
    "\n",
    "        # get the coefficients and their t-values\n",
    "        #coef = [round(b, precision) for b in fit.params]\n",
    "        #tval = [round(t, precision) for t in fit.tvalues]\n",
    "\n",
    "        coef = [\"{:.2f}\".format(b) for b in fit.params]\n",
    "        tval = [\"{:.2f}\".format(t) for t in fit.tvalues]\n",
    "\n",
    "        # for each coefficient\n",
    "        for namei, name in enumerate(coef_names):  # ordered\n",
    "            A[name][\"coef\"].append(coef[namei])\n",
    "            A[name][\"tval\"].append(tval[namei])\n",
    "\n",
    "    for coef in A:\n",
    "\n",
    "        A[coef][\"coef\"] = pd.np.array(A[coef][\"coef\"]).reshape(K, j, j)\n",
    "        A[coef][\"tval\"] = pd.np.array(A[coef][\"tval\"]).reshape(K, j, j)\n",
    "\n",
    "        if transpose_j:\n",
    "            for k, x in enumerate(A[coef][\"coef\"]):\n",
    "                A[coef][\"coef\"][k] = A[coef][\"coef\"][k].transpose()\n",
    "                A[coef][\"tval\"][k] = A[coef][\"tval\"][k].transpose()\n",
    "\n",
    "        A[coef][\"coef\"] = A[coef][\"coef\"].tolist()\n",
    "        A[coef][\"tval\"] = A[coef][\"tval\"].tolist()\n",
    "\n",
    "    for coef in A:\n",
    "        for row in range(j):\n",
    "            A[coef][\"rows\"].append([])\n",
    "            for k in range(K):\n",
    "                A[coef][\"rows\"][row].extend(A[coef][\"coef\"][k][row])\n",
    "                A[coef][\"rows\"][row].extend(A[coef][\"tval\"][k][row])\n",
    "    return A"
   ]
  },
  {
   "cell_type": "code",
   "execution_count": 5,
   "metadata": {},
   "outputs": [],
   "source": [
    "path = \"C:/Users/samth/Dropbox/Thesis/Tex/Tables/\"\n",
    "\n",
    "env = jinja2.Environment(\n",
    "    block_start_string='-%', block_end_string='%-',\n",
    "    variable_start_string='=%', variable_end_string='%=',\n",
    "    loader=jinja2.FileSystemLoader(path)\n",
    ")"
   ]
  },
  {
   "cell_type": "markdown",
   "metadata": {},
   "source": [
    "## 2x4x4"
   ]
  },
  {
   "cell_type": "code",
   "execution_count": 6,
   "metadata": {},
   "outputs": [],
   "source": [
    "template = env.get_template(\"2x4x4_template.txt\")"
   ]
  },
  {
   "cell_type": "markdown",
   "metadata": {},
   "source": [
    "### Size-OP-Inv"
   ]
  },
  {
   "cell_type": "code",
   "execution_count": null,
   "metadata": {},
   "outputs": [],
   "source": [
    "a, K, j = pd.read_csv(\"C:/Data/FrenchDartmouth/32_Portfolios_ME_OP_INV_2x4x4.CSV\"), 2, 4\n",
    "a = a.iloc[:642, 1:]\n",
    "a.index = F.index\n",
    "\n",
    "fname_prefix = \"32_Size_OP_Inv\"\n",
    "\n",
    "start, end = \"1963-07\", \"2016-12\""
   ]
  },
  {
   "cell_type": "code",
   "execution_count": null,
   "metadata": {},
   "outputs": [],
   "source": [
    "for m in models:\n",
    "    print(m)\n",
    "    A = tbl_content(a, models[m][\"f\"], start, end, models[m][\"coefs\"], K, j, 2, True)\n",
    "    context = {\n",
    "        \"A\": A, \"K\": K, \"j\":j, \"coef_names\": models[m][\"display_coefs\"],\n",
    "        \"var_name\": \"OP\", \"title\": models[m][\"regstr\"],\n",
    "        \"caption\": \"{} Portfolios with {} Factors {} through {}\".format(\n",
    "            fname_prefix.replace(\"_\", \"-\"), m, start, end),\n",
    "        \"label\": \"tbl:{}_{}\".format(fname_prefix, m)\n",
    "    }\n",
    "\n",
    "    fname = \"{}_{}_{}_{}.tex\".format(fname_prefix, m, start.replace(\"-\", \"\"), end.replace(\"-\", \"\"))\n",
    "\n",
    "    with open(os.path.join(path, fname), \"w\") as table:\n",
    "        table.write(template.render(context))"
   ]
  },
  {
   "cell_type": "markdown",
   "metadata": {},
   "source": [
    "### Size-BM-Inv"
   ]
  },
  {
   "cell_type": "code",
   "execution_count": null,
   "metadata": {},
   "outputs": [],
   "source": [
    "a, K, j = pd.read_csv(\"C:/Data/FrenchDartmouth/32_Portfolios_ME_BEME_INV_2x4x4.CSV\"), 2, 4\n",
    "a = a.iloc[:642, 1:]\n",
    "a.index = F.index\n",
    "\n",
    "fname_prefix = \"32_Size_BM_Inv\"\n",
    "\n",
    "start, end = \"1963-07\", \"2016-12\""
   ]
  },
  {
   "cell_type": "code",
   "execution_count": null,
   "metadata": {},
   "outputs": [],
   "source": [
    "for m in models:\n",
    "    print(m)\n",
    "    A = tbl_content(a, models[m][\"f\"], start, end, models[m][\"coefs\"], K, j, 2, True)\n",
    "    context = {\n",
    "        \"A\": A, \"K\": K, \"j\":j, \"coef_names\": models[m][\"display_coefs\"],\n",
    "        \"var_name\": \"BM\", \"title\": models[m][\"regstr\"],\n",
    "        \"caption\": \"{} Portfolios with {} Factors {} through {}\".format(\n",
    "            fname_prefix.replace(\"_\", \"-\"), m, start, end),\n",
    "        \"label\": \"tbl:{}_{}\".format(fname_prefix, m)\n",
    "    }\n",
    "\n",
    "    fname = \"{}_{}_{}_{}.tex\".format(fname_prefix, m, start.replace(\"-\", \"\"), end.replace(\"-\", \"\"))\n",
    "\n",
    "    with open(os.path.join(path, fname), \"w\") as table:\n",
    "        table.write(template.render(context))"
   ]
  },
  {
   "cell_type": "markdown",
   "metadata": {},
   "source": [
    "### Size-BM-Prior"
   ]
  },
  {
   "cell_type": "code",
   "execution_count": 9,
   "metadata": {},
   "outputs": [],
   "source": [
    "a, K, j = pd.read_csv(\"C:/Data/Thesis/32_Portfolios_ME_BM_PR.csv\"), 2, 4\n",
    "a = a.iloc[:642, 1:]\n",
    "a.index = F.index\n",
    "\n",
    "a = a.fillna(-99.99)\n",
    "\n",
    "fname_prefix = \"32_Size_BM_Prior\"\n",
    "\n",
    "start, end = \"1963-07\", \"2016-12\""
   ]
  },
  {
   "cell_type": "code",
   "execution_count": 10,
   "metadata": {},
   "outputs": [
    {
     "name": "stdout",
     "output_type": "stream",
     "text": [
      "C1997b\n",
      "C1997\n",
      "FF1993\n",
      "B2016\n",
      "FF2015\n",
      "FF2016\n",
      "CAPM\n"
     ]
    }
   ],
   "source": [
    "for m in models:\n",
    "    print(m)\n",
    "    A = tbl_content(a, models[m][\"f\"], start, end, models[m][\"coefs\"], K, j, 2, True)\n",
    "    context = {\n",
    "        \"A\": A, \"K\": K, \"j\":j, \"coef_names\": models[m][\"display_coefs\"],\n",
    "        \"var_name\": \"Prior\", \"title\": models[m][\"regstr\"],\n",
    "        \"caption\": \"{} Portfolios with {} Factors {} through {}\".format(\n",
    "            fname_prefix.replace(\"_\", \"-\"), m, start, end),\n",
    "        \"label\": \"tbl:{}_{}\".format(fname_prefix, m)\n",
    "    }\n",
    "\n",
    "    fname = \"{}_{}_{}_{}.tex\".format(fname_prefix, m, start.replace(\"-\", \"\"), end.replace(\"-\", \"\"))\n",
    "\n",
    "    with open(os.path.join(path, fname), \"w\") as table:\n",
    "        table.write(template.render(context))"
   ]
  },
  {
   "cell_type": "markdown",
   "metadata": {},
   "source": [
    "## 5x5"
   ]
  },
  {
   "cell_type": "code",
   "execution_count": null,
   "metadata": {},
   "outputs": [],
   "source": [
    "template = env.get_template(\"5x5_template.txt\")"
   ]
  },
  {
   "cell_type": "markdown",
   "metadata": {},
   "source": [
    "### Size-Inv"
   ]
  },
  {
   "cell_type": "code",
   "execution_count": null,
   "metadata": {},
   "outputs": [],
   "source": [
    "a, K, j = pd.read_csv(\"C:/Data/FrenchDartmouth/25_Portfolios_ME_INV_5x5.CSV\"), 1, 5\n",
    "a = a.iloc[:642, 1:]\n",
    "a.index = F.index\n",
    "\n",
    "fname_prefix = \"25_Size_Inv\"\n",
    "\n",
    "start, end = \"1963-07\", \"2016-12\""
   ]
  },
  {
   "cell_type": "code",
   "execution_count": null,
   "metadata": {},
   "outputs": [],
   "source": [
    "for m in models:\n",
    "    print(m)\n",
    "    A = tbl_content(a, models[m][\"f\"], start, end, models[m][\"coefs\"], K, j, 2, True)\n",
    "    context = {\n",
    "        \"A\": A, \"K\": K, \"j\":j, \"coef_names\": models[m][\"display_coefs\"],\n",
    "        \"var_name\": \"Inv\", \"title\": models[m][\"regstr\"],\n",
    "        \"caption\": \"{} Portfolios with {} Factors {} through {}\".format(\n",
    "            fname_prefix.replace(\"_\", \"-\"), m, start, end),\n",
    "        \"label\": \"tbl:{}_{}\".format(fname_prefix, m)\n",
    "    }\n",
    "\n",
    "    fname = \"{}_{}_{}_{}.tex\".format(fname_prefix, m, start.replace(\"-\", \"\"), end.replace(\"-\", \"\"))\n",
    "\n",
    "    with open(os.path.join(path, fname), \"w\") as table:\n",
    "        table.write(template.render(context))"
   ]
  },
  {
   "cell_type": "markdown",
   "metadata": {},
   "source": [
    "### Size-Var"
   ]
  },
  {
   "cell_type": "code",
   "execution_count": null,
   "metadata": {},
   "outputs": [],
   "source": [
    "a, K, j = pd.read_csv(\"C:/Data/FrenchDartmouth/25_Portfolios_ME_VAR_5x5.csv\"), 1, 5\n",
    "a = a.iloc[:642, 1:]\n",
    "a.index = F.index\n",
    "\n",
    "fname_prefix = \"25_Size_Var\"\n",
    "\n",
    "start, end = \"1963-07\", \"2016-12\""
   ]
  },
  {
   "cell_type": "code",
   "execution_count": null,
   "metadata": {},
   "outputs": [],
   "source": [
    "for m in models:\n",
    "    print(m)\n",
    "    A = tbl_content(a, models[m][\"f\"], start, end, models[m][\"coefs\"], K, j, 2, True)\n",
    "    context = {\n",
    "        \"A\": A, \"K\": K, \"j\":j, \"coef_names\": models[m][\"display_coefs\"],\n",
    "        \"var_name\": \"Var\", \"title\": models[m][\"regstr\"],\n",
    "        \"caption\": \"{} Portfolios with {} Factors {} through {}\".format(\n",
    "            fname_prefix.replace(\"_\", \"-\"), m, start, end),\n",
    "        \"label\": \"tbl:{}_{}\".format(fname_prefix, m)\n",
    "    }\n",
    "\n",
    "    fname = \"{}_{}_{}_{}.tex\".format(fname_prefix, m, start.replace(\"-\", \"\"), end.replace(\"-\", \"\"))\n",
    "\n",
    "    with open(os.path.join(path, fname), \"w\") as table:\n",
    "        table.write(template.render(context))"
   ]
  },
  {
   "cell_type": "markdown",
   "metadata": {},
   "source": [
    "### Size-Prior"
   ]
  },
  {
   "cell_type": "code",
   "execution_count": null,
   "metadata": {},
   "outputs": [],
   "source": [
    "a, K, j = pd.read_csv(\"C:/Data/FrenchDartmouth/25_Portfolios_ME_Prior_12_2.CSV\"), 1, 5\n",
    "a = a.iloc[:642, 1:]\n",
    "a.index = F.index\n",
    "\n",
    "fname_prefix = \"25_Size_Prior\"\n",
    "\n",
    "start, end = \"1963-07\", \"2016-12\""
   ]
  },
  {
   "cell_type": "code",
   "execution_count": null,
   "metadata": {},
   "outputs": [],
   "source": [
    "for m in models:\n",
    "    print(m)\n",
    "    A = tbl_content(a, models[m][\"f\"], start, end, models[m][\"coefs\"], K, j, 2, True)\n",
    "    context = {\n",
    "        \"A\": A, \"K\": K, \"j\":j, \"coef_names\": models[m][\"display_coefs\"],\n",
    "        \"var_name\": \"Prior\", \"title\": models[m][\"regstr\"],\n",
    "        \"caption\": \"{} Portfolios with {} Factors {} through {}\".format(\n",
    "            fname_prefix.replace(\"_\", \"-\"), m, start, end),\n",
    "        \"label\": \"tbl:{}_{}\".format(fname_prefix, m)\n",
    "    }\n",
    "\n",
    "    fname = \"{}_{}_{}_{}.tex\".format(fname_prefix, m, start.replace(\"-\", \"\"), end.replace(\"-\", \"\"))\n",
    "\n",
    "    with open(os.path.join(path, fname), \"w\") as table:\n",
    "        table.write(template.render(context))"
   ]
  },
  {
   "cell_type": "markdown",
   "metadata": {},
   "source": [
    "### Size-Beta"
   ]
  },
  {
   "cell_type": "code",
   "execution_count": null,
   "metadata": {},
   "outputs": [],
   "source": [
    "a, K, j = pd.read_csv(\"C:/Data/FrenchDartmouth/25_Portfolios_ME_BETA_5x5.csv\"), 1, 5\n",
    "a = a.iloc[:642, 1:]\n",
    "a.index = F.index\n",
    "\n",
    "fname_prefix = \"25_Size_Beta\"\n",
    "\n",
    "start, end = \"1963-07\", \"2016-12\""
   ]
  },
  {
   "cell_type": "code",
   "execution_count": null,
   "metadata": {},
   "outputs": [],
   "source": [
    "for m in models:\n",
    "    print(m)\n",
    "    A = tbl_content(a, models[m][\"f\"], start, end, models[m][\"coefs\"], K, j, 2, True)\n",
    "    context = {\n",
    "        \"A\": A, \"K\": K, \"j\":j, \"coef_names\": models[m][\"display_coefs\"],\n",
    "        \"var_name\": \"Beta\", \"title\": models[m][\"regstr\"],\n",
    "        \"caption\": \"{} Portfolios with {} Factors {} through {}\".format(\n",
    "            fname_prefix.replace(\"_\", \"-\"), m, start, end),\n",
    "        \"label\": \"tbl:{}_{}\".format(fname_prefix, m)\n",
    "    }\n",
    "\n",
    "    fname = \"{}_{}_{}_{}.tex\".format(fname_prefix, m, start.replace(\"-\", \"\"), end.replace(\"-\", \"\"))\n",
    "\n",
    "    with open(os.path.join(path, fname), \"w\") as table:\n",
    "        table.write(template.render(context))"
   ]
  }
 ],
 "metadata": {
  "kernelspec": {
   "display_name": "Python 3",
   "language": "python",
   "name": "python3"
  },
  "language_info": {
   "codemirror_mode": {
    "name": "ipython",
    "version": 3
   },
   "file_extension": ".py",
   "mimetype": "text/x-python",
   "name": "python",
   "nbconvert_exporter": "python",
   "pygments_lexer": "ipython3",
   "version": "3.5.2"
  }
 },
 "nbformat": 4,
 "nbformat_minor": 2
}
