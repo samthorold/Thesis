{
 "cells": [
  {
   "cell_type": "markdown",
   "metadata": {},
   "source": [
    "# Size-Value-Prior Sorts Summary"
   ]
  },
  {
   "cell_type": "code",
   "execution_count": 1,
   "metadata": {},
   "outputs": [
    {
     "name": "stderr",
     "output_type": "stream",
     "text": [
      "c:\\users\\samth\\miniconda3\\envs\\econ\\lib\\site-packages\\statsmodels\\compat\\pandas.py:56: FutureWarning: The pandas.core.datetools module is deprecated and will be removed in a future version. Please use the pandas.tseries module instead.\n",
      "  from pandas.core import datetools\n"
     ]
    }
   ],
   "source": [
    "import jinja2\n",
    "import os\n",
    "import pandas as pd\n",
    "#from scipy.optimize import minimize\n",
    "import statsmodels.api as sm\n",
    "\n",
    "#%pylab inline"
   ]
  },
  {
   "cell_type": "markdown",
   "metadata": {},
   "source": [
    "## Join Small and Big Tables"
   ]
  },
  {
   "cell_type": "code",
   "execution_count": 35,
   "metadata": {},
   "outputs": [],
   "source": [
    "path = \"C:/Data/Thesis\""
   ]
  },
  {
   "cell_type": "code",
   "execution_count": 36,
   "metadata": {},
   "outputs": [],
   "source": [
    "var = [\n",
    "    \"Returns\",\n",
    "    \"BM_mc\",\n",
    "    \"BM_al\",\n",
    "    \"PR\",\n",
    "    \"Inv\",\n",
    "    \"D_BE\",\n",
    "    \"D1_BE\",\n",
    "]\n",
    "\n",
    "var_names = [\n",
    "    \"$r^i$\",\n",
    "    \"$BM^m$\",\n",
    "    \"$BM$\",\n",
    "    \"$Prior$\",\n",
    "    \"$Inv$: $(A_t - A_{t-1}) / A_{t-1}$\",\n",
    "    \"Past $\\Delta BE$: $(BE_t - BE_{t-1}) / BE_{t-1}$\",\n",
    "    \"Future $\\Delta BE$: $(BE_{t+1} - BE_t) / BE_t$\",\n",
    "]"
   ]
  },
  {
   "cell_type": "code",
   "execution_count": 37,
   "metadata": {},
   "outputs": [
    {
     "data": {
      "text/plain": [
       "['BM_PR_16_Returns',\n",
       " 'BM_PR_16_BM_mc',\n",
       " 'BM_PR_16_BM_al',\n",
       " 'BM_PR_16_PR',\n",
       " 'BM_PR_16_Inv',\n",
       " 'BM_PR_16_D_BE',\n",
       " 'BM_PR_16_D1_BE']"
      ]
     },
     "execution_count": 37,
     "metadata": {},
     "output_type": "execute_result"
    }
   ],
   "source": [
    "suffixes = [\"BM_PR_16_\"+v for v in var]\n",
    "suffixes"
   ]
  },
  {
   "cell_type": "code",
   "execution_count": 38,
   "metadata": {},
   "outputs": [
    {
     "data": {
      "text/plain": [
       "[('C:/Data/Thesis\\\\Small_BM_PR_16_Returns.csv',\n",
       "  'C:/Data/Thesis\\\\Big_BM_PR_16_Returns.csv'),\n",
       " ('C:/Data/Thesis\\\\Small_BM_PR_16_BM_mc.csv',\n",
       "  'C:/Data/Thesis\\\\Big_BM_PR_16_BM_mc.csv'),\n",
       " ('C:/Data/Thesis\\\\Small_BM_PR_16_BM_al.csv',\n",
       "  'C:/Data/Thesis\\\\Big_BM_PR_16_BM_al.csv'),\n",
       " ('C:/Data/Thesis\\\\Small_BM_PR_16_PR.csv',\n",
       "  'C:/Data/Thesis\\\\Big_BM_PR_16_PR.csv'),\n",
       " ('C:/Data/Thesis\\\\Small_BM_PR_16_Inv.csv',\n",
       "  'C:/Data/Thesis\\\\Big_BM_PR_16_Inv.csv'),\n",
       " ('C:/Data/Thesis\\\\Small_BM_PR_16_D_BE.csv',\n",
       "  'C:/Data/Thesis\\\\Big_BM_PR_16_D_BE.csv'),\n",
       " ('C:/Data/Thesis\\\\Small_BM_PR_16_D1_BE.csv',\n",
       "  'C:/Data/Thesis\\\\Big_BM_PR_16_D1_BE.csv')]"
      ]
     },
     "execution_count": 38,
     "metadata": {},
     "output_type": "execute_result"
    }
   ],
   "source": [
    "files = [\n",
    "    (os.path.join(path, \"Small_\"+s+\".csv\"), os.path.join(path, \"Big_\"+s+\".csv\"))\n",
    "    for s in suffixes\n",
    "]\n",
    "files"
   ]
  },
  {
   "cell_type": "code",
   "execution_count": 39,
   "metadata": {},
   "outputs": [],
   "source": [
    "tbls = [\n",
    "    pd.read_csv(f[0]).join(pd.read_csv(f[1]), lsuffix=\"S\", rsuffix=\"B\").mean().as_matrix()\n",
    "    for f in files\n",
    "]"
   ]
  },
  {
   "cell_type": "code",
   "execution_count": 40,
   "metadata": {},
   "outputs": [],
   "source": [
    "tbls = dict(zip(var_names, tbls))"
   ]
  },
  {
   "cell_type": "code",
   "execution_count": 41,
   "metadata": {},
   "outputs": [],
   "source": [
    "#tbls[\"ME\"] = tbls[\"ME\"]/1000\n",
    "for t in tbls:\n",
    "    tbls[t] = tbls[t].round(2).reshape(2, 4, 4).tolist()"
   ]
  },
  {
   "cell_type": "code",
   "execution_count": 42,
   "metadata": {},
   "outputs": [],
   "source": [
    "path = \"C:/Users/samth/Dropbox/Thesis/Tex/Tables/\"\n",
    "\n",
    "env = jinja2.Environment(\n",
    "    block_start_string='-%', block_end_string='%-',\n",
    "    variable_start_string='=%', variable_end_string='%=',\n",
    "    loader=jinja2.FileSystemLoader(path)\n",
    ")\n",
    "\n",
    "template = env.get_template(\"ValMomSort_template.txt\")"
   ]
  },
  {
   "cell_type": "code",
   "execution_count": 43,
   "metadata": {},
   "outputs": [],
   "source": [
    "context = {\"var_names\": var_names, \"var\":tbls}"
   ]
  },
  {
   "cell_type": "code",
   "execution_count": 44,
   "metadata": {},
   "outputs": [],
   "source": [
    "with open(os.path.join(path, \"ValMomSort.tex\"), \"w\") as table:\n",
    "        table.write(template.render(context))"
   ]
  }
 ],
 "metadata": {
  "kernelspec": {
   "display_name": "Python 3",
   "language": "python",
   "name": "python3"
  },
  "language_info": {
   "codemirror_mode": {
    "name": "ipython",
    "version": 3
   },
   "file_extension": ".py",
   "mimetype": "text/x-python",
   "name": "python",
   "nbconvert_exporter": "python",
   "pygments_lexer": "ipython3",
   "version": "3.5.2"
  }
 },
 "nbformat": 4,
 "nbformat_minor": 2
}
