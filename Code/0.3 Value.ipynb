{
 "cells": [
  {
   "cell_type": "markdown",
   "metadata": {},
   "source": [
    "# Value\n",
    "\n",
    "We make a big song and dance about value and momentum.\n",
    "In particular, we are interested in the way that updating\n",
    "value monthly helps to identify stocks that are cheap and\n",
    "will revert to long-run mean value through an increase in\n",
    "price."
   ]
  },
  {
   "cell_type": "code",
   "execution_count": null,
   "metadata": {},
   "outputs": [],
   "source": [
    "library(data.table)    # read csv much faster than standard function\n",
    "library(dplyr)         # infinitely nicer grouping operations\n",
    "library(ggplot2)       # sexy plots"
   ]
  },
  {
   "cell_type": "code",
   "execution_count": null,
   "metadata": {},
   "outputs": [],
   "source": [
    "ret = fread(\"C:/Data/Thesis/RET.csv\", showProgress=FALSE)\n",
    "me = fread(\"C:/Data/Thesis/ME.csv\", showProgress=FALSE)\n",
    "be = fread(\"C:/Data/Thesis/BE.csv\", showProgress=FALSE)\n",
    "\n",
    "be$HP = be$fyear + 1\n",
    "be$PERMNO = as.character(be$PERMNO)"
   ]
  },
  {
   "cell_type": "code",
   "execution_count": null,
   "metadata": {},
   "outputs": [],
   "source": [
    "me$Year  = as.numeric(substr(me$date, 1, 4))\n",
    "me$Month = as.numeric(substr(me$date, 5, 6))\n",
    "\n",
    "jun.me = me %>% filter(Month==6)\n",
    "jun.me$Jun.ME = jun.me$ME\n",
    "jun.me$HP = jun.me$Year+1\n",
    "\n",
    "dec.me = me %>% filter(Month==12)\n",
    "dec.me$Dec.ME = dec.me$ME\n",
    "dec.me$HP = dec.me$Year+1"
   ]
  },
  {
   "cell_type": "code",
   "execution_count": null,
   "metadata": {},
   "outputs": [],
   "source": [
    "BM.al = left_join(\n",
    "    be[, c(\"PERMNO\", \"HP\", \"BE\")],\n",
    "    dec.me[, c(\"EXCHCD\", \"PERMNO\", \"HP\", \"Dec.ME\")],\n",
    "    by=c(\"PERMNO\", \"HP\")\n",
    ")\n",
    "BM.ac = left_join(\n",
    "    be[, c(\"PERMNO\", \"HP\", \"BE\")],\n",
    "    jun.me[, c(\"EXCHCD\", \"PERMNO\", \"HP\", \"Jun.ME\")],\n",
    "    by=c(\"PERMNO\", \"HP\")\n",
    ")\n",
    "BM.mc = left_join(\n",
    "    me[, c(\"EXCHCD\", \"PERMNO\", \"HP\", \"date\", \"ME\")],\n",
    "    be[, c(\"PERMNO\", \"HP\", \"BE\")],\n",
    "    by=c(\"PERMNO\", \"HP\")\n",
    ")"
   ]
  },
  {
   "cell_type": "code",
   "execution_count": null,
   "metadata": {},
   "outputs": [],
   "source": [
    "BM.al$BM.al = BM.al$BE / BM.al$Dec.ME\n",
    "BM.ac$BM.ac = BM.ac$BE / BM.ac$Jun.ME\n",
    "BM.mc = BM.mc %>% group_by(PERMNO) %>%\n",
    "    mutate(\n",
    "        BM.mc=BE / lag(ME),\n",
    "        BM.mc.OK=!is.na(lag(ME)) & BE>0\n",
    "    ) %>% as.data.frame"
   ]
  },
  {
   "cell_type": "code",
   "execution_count": null,
   "metadata": {},
   "outputs": [],
   "source": [
    "write.csv(BM.al[, c(\"PERMNO\", \"HP\", \"BM.al\")],\n",
    "          \"C:/Data/Thesis/BM_al.csv\")\n",
    "write.csv(BM.ac[, c(\"PERMNO\", \"HP\", \"BM.ac\")],\n",
    "          \"C:/Data/Thesis/BM_ac.csv\")\n",
    "write.csv(BM.mc[, c(\"PERMNO\", \"date\", \"BM.mc\", \"BM.mc.OK\")],\n",
    "          \"C:/Data/Thesis/BM_mc.csv\")"
   ]
  },
  {
   "cell_type": "markdown",
   "metadata": {},
   "source": [
    "## Quantiles"
   ]
  },
  {
   "cell_type": "code",
   "execution_count": null,
   "metadata": {},
   "outputs": [],
   "source": [
    "q = c(.05, .1, .15, .2, .25, .3, .35, .4, .45, .5,\n",
    "      .55, .6, .65, .7, .75, .8, .85, .9, .95, 1.)\n",
    "\n",
    "dt = BM.al %>% filter(EXCHCD==\"1\", !is.na(Dec.ME) & BE>0)\n",
    "\n",
    "N = dt %>% group_by(HP) %>% summarise(N=n()) %>% as.data.frame\n",
    "rownames(N) = N$HP\n",
    "N$HP = NULL\n",
    "\n",
    "quantiles = do.call(\"rbind\", tapply(dt$BM.al, dt$HP, quantile, q))\n",
    "quantiles = tibble::rownames_to_column(cbind(quantiles, N), \"HP\")\n",
    "\n",
    "write.csv(quantiles, \"C:/Data/Thesis/20Q_BM_al.csv\")\n",
    "\n",
    "\n",
    "\n",
    "dt = BM.ac %>% filter(EXCHCD==\"1\", !is.na(Jun.ME) & BE>0)\n",
    "\n",
    "N = dt %>% group_by(HP) %>% summarise(N=n()) %>% as.data.frame\n",
    "rownames(N) = N$HP\n",
    "N$HP = NULL\n",
    "\n",
    "quantiles = do.call(\"rbind\", tapply(dt$BM.ac, dt$HP, quantile, q))\n",
    "quantiles = tibble::rownames_to_column(cbind(quantiles, N), \"HP\")\n",
    "\n",
    "write.csv(quantiles, \"C:/Data/Thesis/20Q_BM_ac.csv\")\n",
    "\n",
    "\n",
    "\n",
    "dt = BM.mc %>% filter(EXCHCD==\"1\", BM.mc.OK)\n",
    "\n",
    "N = dt %>% group_by(date) %>% summarise(N=n()) %>% as.data.frame\n",
    "rownames(N) = N$date\n",
    "N$date = NULL\n",
    "\n",
    "quantiles = do.call(\"rbind\", tapply(dt$BM.mc, dt$date, quantile, q))\n",
    "quantiles = tibble::rownames_to_column(cbind(quantiles, N), \"date\")\n",
    "\n",
    "write.csv(quantiles, \"C:/Data/Thesis/20Q_BM_mc.csv\")"
   ]
  }
 ],
 "metadata": {
  "kernelspec": {
   "display_name": "R",
   "language": "R",
   "name": "ir"
  },
  "language_info": {
   "codemirror_mode": "r",
   "file_extension": ".r",
   "mimetype": "text/x-r-source",
   "name": "R",
   "pygments_lexer": "r",
   "version": "3.4.2"
  }
 },
 "nbformat": 4,
 "nbformat_minor": 2
}
