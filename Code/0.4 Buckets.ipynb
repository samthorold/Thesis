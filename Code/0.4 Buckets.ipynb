{
 "cells": [
  {
   "cell_type": "markdown",
   "metadata": {},
   "source": [
    "# Buckets\n",
    "\n",
    "We often want to know which bucket a stock will be in\n",
    "given the median, 30th and 70th, quintile and\n",
    "decile breakpoints."
   ]
  },
  {
   "cell_type": "code",
   "execution_count": null,
   "metadata": {},
   "outputs": [],
   "source": [
    "library(data.table)    # read csv much faster than standard function\n",
    "library(dplyr)         # infinitely nicer grouping operations\n",
    "library(ggplot2)       # sexy plots"
   ]
  },
  {
   "cell_type": "code",
   "execution_count": null,
   "metadata": {},
   "outputs": [],
   "source": [
    "#ret = fread(\"C:/Data/Thesis/RET.csv\", showProgress=FALSE)"
   ]
  },
  {
   "cell_type": "markdown",
   "metadata": {},
   "source": [
    "## ME"
   ]
  },
  {
   "cell_type": "code",
   "execution_count": null,
   "metadata": {},
   "outputs": [],
   "source": [
    "me = fread(\"C:/Data/Thesis/ME.csv\", showProgress=FALSE)\n",
    "me.breaks = fread(\"C:/Data/Thesis/20Q_ME.csv\", showProgress=FALSE)\n",
    "me = left_join(me, me.breaks[, c(\"date\", paste0(1:9*10, \"%\"))], by=\"date\")"
   ]
  },
  {
   "cell_type": "markdown",
   "metadata": {},
   "source": [
    "### Median"
   ]
  },
  {
   "cell_type": "code",
   "execution_count": null,
   "metadata": {},
   "outputs": [],
   "source": [
    "me$ME.B = NA\n",
    "me$ME.B[me$ME<=me$`50%`] = 1\n",
    "me$ME.B[me$ME >me$`50%`] = 2"
   ]
  },
  {
   "cell_type": "code",
   "execution_count": null,
   "metadata": {},
   "outputs": [],
   "source": [
    "me %>% group_by(ME.B) %>% summarise(N=n())"
   ]
  },
  {
   "cell_type": "code",
   "execution_count": null,
   "metadata": {},
   "outputs": [],
   "source": [
    "write.csv(me[, c(\"PERMNO\", \"date\", \"ME.B\")],\n",
    "          \"C:/Data/Thesis/2Q_ME_Bkts.csv\")"
   ]
  },
  {
   "cell_type": "markdown",
   "metadata": {},
   "source": [
    "### 30th and 70th Percentile"
   ]
  },
  {
   "cell_type": "code",
   "execution_count": null,
   "metadata": {},
   "outputs": [],
   "source": [
    "me$ME.B = NA\n",
    "me$ME.B[me$ME<=me$`30%`] = 1\n",
    "me$ME.B[me$ME >me$`30%` & me$ME<=me$`70%`] = 2\n",
    "me$ME.B[me$ME >me$`70%`] = 3"
   ]
  },
  {
   "cell_type": "code",
   "execution_count": null,
   "metadata": {},
   "outputs": [],
   "source": [
    "me %>% group_by(ME.B) %>% summarise(N=n())"
   ]
  },
  {
   "cell_type": "code",
   "execution_count": null,
   "metadata": {},
   "outputs": [],
   "source": [
    "write.csv(me[, c(\"PERMNO\", \"date\", \"ME.B\")],\n",
    "          \"C:/Data/Thesis/30_70_ME_Bkts.csv\")"
   ]
  },
  {
   "cell_type": "markdown",
   "metadata": {},
   "source": [
    "### Quintiles"
   ]
  },
  {
   "cell_type": "code",
   "execution_count": null,
   "metadata": {},
   "outputs": [],
   "source": [
    "me$ME.B = NA\n",
    "me$ME.B[me$ME<=me$`20%`] = 1\n",
    "me$ME.B[me$ME >me$`20%` & me$ME<=me$`40%`] = 2\n",
    "me$ME.B[me$ME >me$`40%` & me$ME<=me$`60%`] = 3\n",
    "me$ME.B[me$ME >me$`60%` & me$ME<=me$`80%`] = 4\n",
    "me$ME.B[me$ME >me$`80%`] = 5"
   ]
  },
  {
   "cell_type": "code",
   "execution_count": null,
   "metadata": {},
   "outputs": [],
   "source": [
    "me %>% group_by(ME.B) %>% summarise(N=n())"
   ]
  },
  {
   "cell_type": "code",
   "execution_count": null,
   "metadata": {},
   "outputs": [],
   "source": [
    "write.csv(me[, c(\"PERMNO\", \"date\", \"ME.B\")],\n",
    "          \"C:/Data/Thesis/5Q_ME_Bkts.csv\")"
   ]
  },
  {
   "cell_type": "markdown",
   "metadata": {},
   "source": [
    "### Deciles"
   ]
  },
  {
   "cell_type": "code",
   "execution_count": null,
   "metadata": {},
   "outputs": [],
   "source": [
    "me$ME.B = NA\n",
    "me$ME.B[me$ME<=me$`10%`] = 1\n",
    "me$ME.B[me$ME >me$`10%` & me$ME<=me$`20%`] = 2\n",
    "me$ME.B[me$ME >me$`20%` & me$ME<=me$`30%`] = 3\n",
    "me$ME.B[me$ME >me$`30%` & me$ME<=me$`40%`] = 4\n",
    "me$ME.B[me$ME >me$`40%` & me$ME<=me$`50%`] = 5\n",
    "me$ME.B[me$ME >me$`50%` & me$ME<=me$`60%`] = 6\n",
    "me$ME.B[me$ME >me$`60%` & me$ME<=me$`70%`] = 7\n",
    "me$ME.B[me$ME >me$`70%` & me$ME<=me$`80%`] = 8\n",
    "me$ME.B[me$ME >me$`80%` & me$ME<=me$`90%`] = 9\n",
    "me$ME.B[me$ME >me$`90%`] = 10"
   ]
  },
  {
   "cell_type": "code",
   "execution_count": null,
   "metadata": {},
   "outputs": [],
   "source": [
    "me %>% group_by(ME.B) %>% summarise(N=n())"
   ]
  },
  {
   "cell_type": "code",
   "execution_count": null,
   "metadata": {},
   "outputs": [],
   "source": [
    "write.csv(me[, c(\"PERMNO\", \"date\", \"ME.B\")],\n",
    "          \"C:/Data/Thesis/10Q_ME_Bkts.csv\")"
   ]
  },
  {
   "cell_type": "markdown",
   "metadata": {},
   "source": [
    "## Value"
   ]
  },
  {
   "cell_type": "markdown",
   "metadata": {},
   "source": [
    "### Annual, Lagged"
   ]
  },
  {
   "cell_type": "code",
   "execution_count": null,
   "metadata": {},
   "outputs": [],
   "source": [
    "bm = fread(\"C:/Data/Thesis/BM_al.csv\", showProgress=FALSE)\n",
    "bm.breaks = fread(\"C:/Data/Thesis/20Q_BM_al.csv\", showProgress=FALSE)\n",
    "bm.breaks$HP = as.numeric(bm.breaks$HP)\n",
    "bm = left_join(bm, bm.breaks[, c(\"HP\", paste0(1:9*10, \"%\"))], by=\"HP\")"
   ]
  },
  {
   "cell_type": "code",
   "execution_count": null,
   "metadata": {},
   "outputs": [],
   "source": [
    "# 30th and 70th Percentile\n",
    "\n",
    "bm$BM.al.B = NA\n",
    "bm$BM.al.B[bm$BM.al<=bm$`30%`] = 1\n",
    "bm$BM.al.B[bm$BM.al >bm$`30%` & bm$BM.al<=bm$`70%`] = 2\n",
    "bm$BM.al.B[bm$BM.al >bm$`70%`] = 3\n",
    "\n",
    "write.csv(bm[, c(\"PERMNO\", \"HP\", \"BM.al.B\")],\n",
    "          \"C:/Data/Thesis/30_70_BM_al_Bkts.csv\")\n",
    "\n",
    "# Quintiles\n",
    "\n",
    "bm$BM.al.B = NA\n",
    "bm$BM.al.B[bm$BM.al<=bm$`20%`] = 1\n",
    "bm$BM.al.B[bm$BM.al >bm$`20%` & bm$BM.al<=bm$`40%`] = 2\n",
    "bm$BM.al.B[bm$BM.al >bm$`40%` & bm$BM.al<=bm$`60%`] = 3\n",
    "bm$BM.al.B[bm$BM.al >bm$`60%` & bm$BM.al<=bm$`80%`] = 4\n",
    "bm$BM.al.B[bm$BM.al >bm$`80%`] = 5\n",
    "\n",
    "write.csv(bm[, c(\"PERMNO\", \"HP\", \"BM.al.B\")],\n",
    "          \"C:/Data/Thesis/5Q_BM_al_Bkts.csv\")\n",
    "\n",
    "# Deciles\n",
    "\n",
    "bm$BM.al.B = NA\n",
    "bm$BM.al.B[bm$BM.al<=bm$`10%`] = 1\n",
    "bm$BM.al.B[bm$BM.al >bm$`10%` & bm$BM.al<=bm$`20%`] = 2\n",
    "bm$BM.al.B[bm$BM.al >bm$`20%` & bm$BM.al<=bm$`30%`] = 3\n",
    "bm$BM.al.B[bm$BM.al >bm$`30%` & bm$BM.al<=bm$`40%`] = 4\n",
    "bm$BM.al.B[bm$BM.al >bm$`40%` & bm$BM.al<=bm$`50%`] = 5\n",
    "bm$BM.al.B[bm$BM.al >bm$`50%` & bm$BM.al<=bm$`60%`] = 6\n",
    "bm$BM.al.B[bm$BM.al >bm$`60%` & bm$BM.al<=bm$`70%`] = 7\n",
    "bm$BM.al.B[bm$BM.al >bm$`70%` & bm$BM.al<=bm$`80%`] = 8\n",
    "bm$BM.al.B[bm$BM.al >bm$`80%` & bm$BM.al<=bm$`90%`] = 9\n",
    "bm$BM.al.B[bm$BM.al >bm$`90%`] = 10\n",
    "\n",
    "write.csv(bm[, c(\"PERMNO\", \"HP\", \"BM.al.B\")],\n",
    "          \"C:/Data/Thesis/10Q_BM_al_Bkts.csv\")"
   ]
  },
  {
   "cell_type": "markdown",
   "metadata": {},
   "source": [
    "### Annual, Current"
   ]
  },
  {
   "cell_type": "code",
   "execution_count": null,
   "metadata": {},
   "outputs": [],
   "source": [
    "bm = fread(\"C:/Data/Thesis/BM_ac.csv\", showProgress=FALSE)\n",
    "bm.breaks = fread(\"C:/Data/Thesis/20Q_BM_ac.csv\", showProgress=FALSE)\n",
    "bm.breaks$HP = as.numeric(bm.breaks$HP)\n",
    "bm = left_join(bm, bm.breaks[, c(\"HP\", paste0(1:9*10, \"%\"))], by=\"HP\")"
   ]
  },
  {
   "cell_type": "code",
   "execution_count": null,
   "metadata": {},
   "outputs": [],
   "source": [
    "# 30th and 70th Percentile\n",
    "\n",
    "bm$BM.ac.B = NA\n",
    "bm$BM.ac.B[bm$BM.ac<=bm$`30%`] = 1\n",
    "bm$BM.ac.B[bm$BM.ac >bm$`30%` & bm$BM.ac<=bm$`70%`] = 2\n",
    "bm$BM.ac.B[bm$BM.ac >bm$`70%`] = 3\n",
    "\n",
    "write.csv(bm[, c(\"PERMNO\", \"HP\", \"BM.ac.B\")],\n",
    "          \"C:/Data/Thesis/30_70_BM_ac_Bkts.csv\")\n",
    "\n",
    "# Quintiles\n",
    "\n",
    "bm$BM.ac.B = NA\n",
    "bm$BM.ac.B[bm$BM.ac<=bm$`20%`] = 1\n",
    "bm$BM.ac.B[bm$BM.ac >bm$`20%` & bm$BM.ac<=bm$`40%`] = 2\n",
    "bm$BM.ac.B[bm$BM.ac >bm$`40%` & bm$BM.ac<=bm$`60%`] = 3\n",
    "bm$BM.ac.B[bm$BM.ac >bm$`60%` & bm$BM.ac<=bm$`80%`] = 4\n",
    "bm$BM.ac.B[bm$BM.ac >bm$`80%`] = 5\n",
    "\n",
    "write.csv(bm[, c(\"PERMNO\", \"HP\", \"BM.ac.B\")],\n",
    "          \"C:/Data/Thesis/5Q_BM_ac_Bkts.csv\")\n",
    "\n",
    "# Deciles\n",
    "\n",
    "bm$BM.ac.B = NA\n",
    "bm$BM.ac.B[bm$BM.ac<=bm$`10%`] = 1\n",
    "bm$BM.ac.B[bm$BM.ac >bm$`10%` & bm$BM.ac<=bm$`20%`] = 2\n",
    "bm$BM.ac.B[bm$BM.ac >bm$`20%` & bm$BM.ac<=bm$`30%`] = 3\n",
    "bm$BM.ac.B[bm$BM.ac >bm$`30%` & bm$BM.ac<=bm$`40%`] = 4\n",
    "bm$BM.ac.B[bm$BM.ac >bm$`40%` & bm$BM.ac<=bm$`50%`] = 5\n",
    "bm$BM.ac.B[bm$BM.ac >bm$`50%` & bm$BM.ac<=bm$`60%`] = 6\n",
    "bm$BM.ac.B[bm$BM.ac >bm$`60%` & bm$BM.ac<=bm$`70%`] = 7\n",
    "bm$BM.ac.B[bm$BM.ac >bm$`70%` & bm$BM.ac<=bm$`80%`] = 8\n",
    "bm$BM.ac.B[bm$BM.ac >bm$`80%` & bm$BM.ac<=bm$`90%`] = 9\n",
    "bm$BM.ac.B[bm$BM.ac >bm$`90%`] = 10\n",
    "\n",
    "write.csv(bm[, c(\"PERMNO\", \"HP\", \"BM.ac.B\")],\n",
    "          \"C:/Data/Thesis/10Q_BM_ac_Bkts.csv\")"
   ]
  },
  {
   "cell_type": "markdown",
   "metadata": {},
   "source": [
    "### Monthly, Current"
   ]
  },
  {
   "cell_type": "code",
   "execution_count": null,
   "metadata": {},
   "outputs": [],
   "source": [
    "bm = fread(\"C:/Data/Thesis/BM_mc.csv\", showProgress=FALSE)\n",
    "bm.breaks = fread(\"C:/Data/Thesis/20Q_BM_mc.csv\", showProgress=FALSE)\n",
    "bm = left_join(bm, bm.breaks[, c(\"date\", paste0(1:9*10, \"%\"))], by=\"date\")"
   ]
  },
  {
   "cell_type": "code",
   "execution_count": null,
   "metadata": {},
   "outputs": [],
   "source": [
    "# 30th and 70th Percentile\n",
    "\n",
    "bm$BM.mc.B = NA\n",
    "bm$BM.mc.B[bm$BM.mc<=bm$`30%`] = 1\n",
    "bm$BM.mc.B[bm$BM.mc >bm$`30%` & bm$BM.mc<=bm$`70%`] = 2\n",
    "bm$BM.mc.B[bm$BM.mc >bm$`70%`] = 3\n",
    "\n",
    "write.csv(bm[, c(\"PERMNO\", \"date\", \"BM.mc.B\")],\n",
    "          \"C:/Data/Thesis/30_70_BM_mc_Bkts.csv\")\n",
    "\n",
    "# Quintiles\n",
    "\n",
    "bm$BM.mc.B = NA\n",
    "bm$BM.mc.B[bm$BM.mc<=bm$`20%`] = 1\n",
    "bm$BM.mc.B[bm$BM.mc >bm$`20%` & bm$BM.mc<=bm$`40%`] = 2\n",
    "bm$BM.mc.B[bm$BM.mc >bm$`40%` & bm$BM.mc<=bm$`60%`] = 3\n",
    "bm$BM.mc.B[bm$BM.mc >bm$`60%` & bm$BM.mc<=bm$`80%`] = 4\n",
    "bm$BM.mc.B[bm$BM.mc >bm$`80%`] = 5\n",
    "\n",
    "write.csv(bm[, c(\"PERMNO\", \"date\", \"BM.mc.B\")],\n",
    "          \"C:/Data/Thesis/5Q_BM_mc_Bkts.csv\")\n",
    "\n",
    "# Deciles\n",
    "\n",
    "bm$BM.mc.B = NA\n",
    "bm$BM.mc.B[bm$BM.mc<=bm$`10%`] = 1\n",
    "bm$BM.mc.B[bm$BM.mc >bm$`10%` & bm$BM.mc<=bm$`20%`] = 2\n",
    "bm$BM.mc.B[bm$BM.mc >bm$`20%` & bm$BM.mc<=bm$`30%`] = 3\n",
    "bm$BM.mc.B[bm$BM.mc >bm$`30%` & bm$BM.mc<=bm$`40%`] = 4\n",
    "bm$BM.mc.B[bm$BM.mc >bm$`40%` & bm$BM.mc<=bm$`50%`] = 5\n",
    "bm$BM.mc.B[bm$BM.mc >bm$`50%` & bm$BM.mc<=bm$`60%`] = 6\n",
    "bm$BM.mc.B[bm$BM.mc >bm$`60%` & bm$BM.mc<=bm$`70%`] = 7\n",
    "bm$BM.mc.B[bm$BM.mc >bm$`70%` & bm$BM.mc<=bm$`80%`] = 8\n",
    "bm$BM.mc.B[bm$BM.mc >bm$`80%` & bm$BM.mc<=bm$`90%`] = 9\n",
    "bm$BM.mc.B[bm$BM.mc >bm$`90%`] = 10\n",
    "\n",
    "write.csv(bm[, c(\"PERMNO\", \"date\", \"BM.mc.B\")],\n",
    "          \"C:/Data/Thesis/10Q_BM_mc_Bkts.csv\")"
   ]
  },
  {
   "cell_type": "markdown",
   "metadata": {},
   "source": [
    "## Profitability"
   ]
  },
  {
   "cell_type": "markdown",
   "metadata": {},
   "source": [
    "### Operating"
   ]
  },
  {
   "cell_type": "code",
   "execution_count": null,
   "metadata": {},
   "outputs": [],
   "source": [
    "p = fread(\"C:/Data/Thesis/OP.csv\", showProgress=FALSE)\n",
    "#p$HP = p$fyear + 1\n",
    "p.breaks = fread(\"C:/Data/Thesis/20Q_OP.csv\", showProgress=FALSE)\n",
    "p.breaks$fyear = as.numeric(p.breaks$fyear)\n",
    "p = left_join(p, p.breaks[, c(\"fyear\", paste0(1:9*10, \"%\"))], by=\"fyear\")"
   ]
  },
  {
   "cell_type": "code",
   "execution_count": null,
   "metadata": {},
   "outputs": [],
   "source": [
    "# 30th and 70th Percentile\n",
    "\n",
    "p$OP.B = NA\n",
    "p$OP.B[p$OP<=p$`30%`] = 1\n",
    "p$OP.B[p$OP >p$`30%` & p$OP<=p$`70%`] = 2\n",
    "p$OP.B[p$OP >p$`70%`] = 3\n",
    "\n",
    "write.csv(p[, c(\"PERMNO\", \"fyear\", \"OP.B\")],\n",
    "          \"C:/Data/Thesis/30_70_OP_Bkts.csv\")\n",
    "\n",
    "# Quintiles\n",
    "\n",
    "p$OP.B = NA\n",
    "p$OP.B[p$OP<=p$`20%`] = 1\n",
    "p$OP.B[p$OP >p$`20%` & p$OP<=p$`40%`] = 2\n",
    "p$OP.B[p$OP >p$`40%` & p$OP<=p$`60%`] = 3\n",
    "p$OP.B[p$OP >p$`60%` & p$OP<=p$`80%`] = 4\n",
    "p$OP.B[p$OP >p$`80%`] = 5\n",
    "\n",
    "write.csv(p[, c(\"PERMNO\", \"fyear\", \"OP.B\")],\n",
    "          \"C:/Data/Thesis/5Q_OP_Bkts.csv\")\n",
    "\n",
    "# Deciles\n",
    "\n",
    "p$OP.B = NA\n",
    "p$OP.B[p$OP<=p$`10%`] = 1\n",
    "p$OP.B[p$OP >p$`10%` & p$OP<=p$`20%`] = 2\n",
    "p$OP.B[p$OP >p$`20%` & p$OP<=p$`30%`] = 3\n",
    "p$OP.B[p$OP >p$`30%` & p$OP<=p$`40%`] = 4\n",
    "p$OP.B[p$OP >p$`40%` & p$OP<=p$`50%`] = 5\n",
    "p$OP.B[p$OP >p$`50%` & p$OP<=p$`60%`] = 6\n",
    "p$OP.B[p$OP >p$`60%` & p$OP<=p$`70%`] = 7\n",
    "p$OP.B[p$OP >p$`70%` & p$OP<=p$`80%`] = 8\n",
    "p$OP.B[p$OP >p$`80%` & p$OP<=p$`90%`] = 9\n",
    "p$OP.B[p$OP >p$`90%`] = 10\n",
    "\n",
    "write.csv(p[, c(\"PERMNO\", \"fyear\", \"OP.B\")],\n",
    "          \"C:/Data/Thesis/10Q_OP_Bkts.csv\")"
   ]
  },
  {
   "cell_type": "markdown",
   "metadata": {},
   "source": [
    "### Operating less RnD"
   ]
  },
  {
   "cell_type": "code",
   "execution_count": null,
   "metadata": {},
   "outputs": [],
   "source": [
    "p = fread(\"C:/Data/Thesis/OPr.csv\", showProgress=FALSE)\n",
    "#p$HP = p$fyear + 1\n",
    "p.breaks = fread(\"C:/Data/Thesis/20Q_OPr.csv\", showProgress=FALSE)\n",
    "p.breaks$fyear = as.numeric(p.breaks$fyear)\n",
    "p = left_join(p, p.breaks[, c(\"fyear\", paste0(1:9*10, \"%\"))], by=\"fyear\")"
   ]
  },
  {
   "cell_type": "code",
   "execution_count": null,
   "metadata": {},
   "outputs": [],
   "source": [
    "# 30th and 70th Percentile\n",
    "\n",
    "p$OPr.B = NA\n",
    "p$OPr.B[p$OPr<=p$`30%`] = 1\n",
    "p$OPr.B[p$OPr >p$`30%` & p$OPr<=p$`70%`] = 2\n",
    "p$OPr.B[p$OPr >p$`70%`] = 3\n",
    "\n",
    "write.csv(p[, c(\"PERMNO\", \"fyear\", \"OPr.B\")],\n",
    "          \"C:/Data/Thesis/30_70_OPr_Bkts.csv\")\n",
    "\n",
    "# Quintiles\n",
    "\n",
    "p$OPr.B = NA\n",
    "p$OPr.B[p$OPr<=p$`20%`] = 1\n",
    "p$OPr.B[p$OPr >p$`20%` & p$OPr<=p$`40%`] = 2\n",
    "p$OPr.B[p$OPr >p$`40%` & p$OPr<=p$`60%`] = 3\n",
    "p$OPr.B[p$OPr >p$`60%` & p$OPr<=p$`80%`] = 4\n",
    "p$OPr.B[p$OPr >p$`80%`] = 5\n",
    "\n",
    "write.csv(p[, c(\"PERMNO\", \"fyear\", \"OPr.B\")],\n",
    "          \"C:/Data/Thesis/5Q_OPr_Bkts.csv\")\n",
    "\n",
    "# Deciles\n",
    "\n",
    "p$OPr.B = NA\n",
    "p$OPr.B[p$OPr<=p$`10%`] = 1\n",
    "p$OPr.B[p$OPr >p$`10%` & p$OPr<=p$`20%`] = 2\n",
    "p$OPr.B[p$OPr >p$`20%` & p$OPr<=p$`30%`] = 3\n",
    "p$OPr.B[p$OPr >p$`30%` & p$OPr<=p$`40%`] = 4\n",
    "p$OPr.B[p$OPr >p$`40%` & p$OPr<=p$`50%`] = 5\n",
    "p$OPr.B[p$OPr >p$`50%` & p$OPr<=p$`60%`] = 6\n",
    "p$OPr.B[p$OPr >p$`60%` & p$OPr<=p$`70%`] = 7\n",
    "p$OPr.B[p$OPr >p$`70%` & p$OPr<=p$`80%`] = 8\n",
    "p$OPr.B[p$OPr >p$`80%` & p$OPr<=p$`90%`] = 9\n",
    "p$OPr.B[p$OPr >p$`90%`] = 10\n",
    "\n",
    "write.csv(p[, c(\"PERMNO\", \"fyear\", \"OPr.B\")],\n",
    "          \"C:/Data/Thesis/10Q_OPr_Bkts.csv\")"
   ]
  },
  {
   "cell_type": "markdown",
   "metadata": {},
   "source": [
    "### Operating less RnD less Accruals"
   ]
  },
  {
   "cell_type": "code",
   "execution_count": null,
   "metadata": {},
   "outputs": [],
   "source": [
    "p = fread(\"C:/Data/Thesis/CP.csv\", showProgress=FALSE)\n",
    "#p$HP = p$fyear + 1\n",
    "p.breaks = fread(\"C:/Data/Thesis/20Q_CP.csv\", showProgress=FALSE)\n",
    "p.breaks$fyear = as.numeric(p.breaks$fyear)\n",
    "p = left_join(p, p.breaks[, c(\"fyear\", paste0(1:9*10, \"%\"))], by=\"fyear\")"
   ]
  },
  {
   "cell_type": "code",
   "execution_count": null,
   "metadata": {},
   "outputs": [],
   "source": [
    "# 30th and 70th Percentile\n",
    "\n",
    "p$CP.B = NA\n",
    "p$CP.B[p$CP<=p$`30%`] = 1\n",
    "p$CP.B[p$CP >p$`30%` & p$CP<=p$`70%`] = 2\n",
    "p$CP.B[p$CP >p$`70%`] = 3\n",
    "\n",
    "write.csv(p[, c(\"PERMNO\", \"fyear\", \"CP.B\")],\n",
    "          \"C:/Data/Thesis/30_70_CP_Bkts.csv\")\n",
    "\n",
    "# Quintiles\n",
    "\n",
    "p$CP.B = NA\n",
    "p$CP.B[p$CP<=p$`20%`] = 1\n",
    "p$CP.B[p$CP >p$`20%` & p$CP<=p$`40%`] = 2\n",
    "p$CP.B[p$CP >p$`40%` & p$CP<=p$`60%`] = 3\n",
    "p$CP.B[p$CP >p$`60%` & p$CP<=p$`80%`] = 4\n",
    "p$CP.B[p$CP >p$`80%`] = 5\n",
    "\n",
    "write.csv(p[, c(\"PERMNO\", \"fyear\", \"CP.B\")],\n",
    "          \"C:/Data/Thesis/5Q_CP_Bkts.csv\")\n",
    "\n",
    "# Deciles\n",
    "\n",
    "p$CP.B = NA\n",
    "p$CP.B[p$CP<=p$`10%`] = 1\n",
    "p$CP.B[p$CP >p$`10%` & p$CP<=p$`20%`] = 2\n",
    "p$CP.B[p$CP >p$`20%` & p$CP<=p$`30%`] = 3\n",
    "p$CP.B[p$CP >p$`30%` & p$CP<=p$`40%`] = 4\n",
    "p$CP.B[p$CP >p$`40%` & p$CP<=p$`50%`] = 5\n",
    "p$CP.B[p$CP >p$`50%` & p$CP<=p$`60%`] = 6\n",
    "p$CP.B[p$CP >p$`60%` & p$CP<=p$`70%`] = 7\n",
    "p$CP.B[p$CP >p$`70%` & p$CP<=p$`80%`] = 8\n",
    "p$CP.B[p$CP >p$`80%` & p$CP<=p$`90%`] = 9\n",
    "p$CP.B[p$CP >p$`90%`] = 10\n",
    "\n",
    "write.csv(p[, c(\"PERMNO\", \"fyear\", \"CP.B\")],\n",
    "          \"C:/Data/Thesis/10Q_CP_Bkts.csv\")"
   ]
  },
  {
   "cell_type": "markdown",
   "metadata": {},
   "source": [
    "## Investment"
   ]
  },
  {
   "cell_type": "code",
   "execution_count": null,
   "metadata": {},
   "outputs": [],
   "source": [
    "i = fread(\"C:/Data/Thesis/INV.csv\", showProgress=FALSE)\n",
    "#i$HP = as.numeric(i$fyear) + 1\n",
    "i.breaks = fread(\"C:/Data/Thesis/20Q_INV.csv\", showProgress=FALSE)\n",
    "i.breaks$fyear = as.numeric(i.breaks$fyear)\n",
    "i = left_join(i, i.breaks[, c(\"fyear\", paste0(1:9*10, \"%\"))], by=\"fyear\")"
   ]
  },
  {
   "cell_type": "code",
   "execution_count": null,
   "metadata": {},
   "outputs": [],
   "source": [
    "# 30th and 70th Percentile\n",
    "\n",
    "i$INV.B = NA\n",
    "i$INV.B[i$INV<=i$`30%`] = 1\n",
    "i$INV.B[i$INV >i$`30%` & i$INV<=i$`70%`] = 2\n",
    "i$INV.B[i$INV >i$`70%`] = 3\n",
    "\n",
    "write.csv(i[, c(\"PERMNO\", \"fyear\", \"INV.B\")],\n",
    "          \"C:/Data/Thesis/30_70_INV_Bkts.csv\")\n",
    "\n",
    "# Quintiles\n",
    "\n",
    "i$INV.B = NA\n",
    "i$INV.B[i$INV<=i$`20%`] = 1\n",
    "i$INV.B[i$INV >i$`20%` & i$INV<=i$`40%`] = 2\n",
    "i$INV.B[i$INV >i$`40%` & i$INV<=i$`60%`] = 3\n",
    "i$INV.B[i$INV >i$`60%` & i$INV<=i$`80%`] = 4\n",
    "i$INV.B[i$INV >i$`80%`] = 5\n",
    "\n",
    "write.csv(i[, c(\"PERMNO\", \"fyear\", \"INV.B\")],\n",
    "          \"C:/Data/Thesis/5Q_INV_Bkts.csv\")\n",
    "\n",
    "# Deciles\n",
    "\n",
    "i$INV.B = NA\n",
    "i$INV.B[i$INV<=i$`10%`] = 1\n",
    "i$INV.B[i$INV >i$`10%` & i$INV<=i$`20%`] = 2\n",
    "i$INV.B[i$INV >i$`20%` & i$INV<=i$`30%`] = 3\n",
    "i$INV.B[i$INV >i$`30%` & i$INV<=i$`40%`] = 4\n",
    "i$INV.B[i$INV >i$`40%` & i$INV<=i$`50%`] = 5\n",
    "i$INV.B[i$INV >i$`50%` & i$INV<=i$`60%`] = 6\n",
    "i$INV.B[i$INV >i$`60%` & i$INV<=i$`70%`] = 7\n",
    "i$INV.B[i$INV >i$`70%` & i$INV<=i$`80%`] = 8\n",
    "i$INV.B[i$INV >i$`80%` & i$INV<=i$`90%`] = 9\n",
    "i$INV.B[i$INV >i$`90%`] = 10\n",
    "\n",
    "write.csv(i[, c(\"PERMNO\", \"fyear\", \"INV.B\")],\n",
    "          \"C:/Data/Thesis/10Q_INV_Bkts.csv\")"
   ]
  }
 ],
 "metadata": {
  "kernelspec": {
   "display_name": "R",
   "language": "R",
   "name": "ir"
  },
  "language_info": {
   "codemirror_mode": "r",
   "file_extension": ".r",
   "mimetype": "text/x-r-source",
   "name": "R",
   "pygments_lexer": "r",
   "version": "3.4.2"
  }
 },
 "nbformat": 4,
 "nbformat_minor": 2
}
