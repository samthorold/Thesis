{
 "cells": [
  {
   "cell_type": "markdown",
   "metadata": {},
   "source": [
    "# Factors"
   ]
  },
  {
   "cell_type": "code",
   "execution_count": null,
   "metadata": {},
   "outputs": [],
   "source": [
    "import pandas as pd\n",
    "import statsmodels.api as sm\n",
    "\n",
    "%pylab inline"
   ]
  },
  {
   "cell_type": "code",
   "execution_count": null,
   "metadata": {},
   "outputs": [],
   "source": [
    "# pd.read_csv(\"C:/Data/Thesis/Factors.csv\").set_index(\"date\")\n",
    "\n",
    "F = pd.read_stata(\"C:/Data/Thesis/Factors.dta\").set_index(\"date\")"
   ]
  },
  {
   "cell_type": "code",
   "execution_count": null,
   "metadata": {},
   "outputs": [],
   "source": [
    "ff2015 = [\"rm\", \"smb\", \"hmlo\", \"rmw\", \"cma\"]\n",
    "ff2016a = [\"rm\", \"smb\", \"hml\", \"RMWr\", \"cma\"]\n",
    "ff2016b = [\"rm\", \"smb\", \"hml\", \"RMWc\", \"cma\"]\n",
    "bs2015 = [\"rm\", \"smb\", \"HMLm\", \"RMWc\", \"wml\"]"
   ]
  },
  {
   "cell_type": "markdown",
   "metadata": {},
   "source": [
    "## Summary Statistics"
   ]
  },
  {
   "cell_type": "markdown",
   "metadata": {},
   "source": [
    "### French Dartmouth Website"
   ]
  },
  {
   "cell_type": "code",
   "execution_count": null,
   "metadata": {},
   "outputs": [],
   "source": [
    "x = [\"SMB\", \"smb\", \"HML\", \"hml\", \"RMW\", \"rmw\", \"CMA\", \"cma\", \"WML\", \"wml\"]\n",
    "tbl = pd.concat({\"Mean\": F[x].mean(),\n",
    "                 \"Stdev\": F[x].std(),\n",
    "                 \"N\": F[x].count()}, axis=\"columns\")\n",
    "\n",
    "tbl[\"t-stat\"] = tbl[\"Mean\"] / (tbl[\"Stdev\"] / sqrt(tbl[\"N\"]))\n",
    "round(tbl.drop(\"N\", axis=1).transpose(), 2)"
   ]
  },
  {
   "cell_type": "code",
   "execution_count": null,
   "metadata": {},
   "outputs": [],
   "source": [
    "round(F[[\"SMB\", \"smb\", \"HML\", \"hml\", \"RMW\", \"rmw\", \"CMA\", \"cma\", \"WML\", \"wml\"]].corr(), 2)"
   ]
  },
  {
   "cell_type": "markdown",
   "metadata": {},
   "source": [
    "### Fama French (2016) _Choosing Factors_"
   ]
  },
  {
   "cell_type": "code",
   "execution_count": null,
   "metadata": {},
   "outputs": [],
   "source": [
    "x = [\"HML\", \"HMLs\", \"HMLb\", \"RMWr\", \"RMWrs\", \"RMWrb\",\n",
    "     \"RMWc\", \"RMWcs\", \"RMWcb\", \"CMA\", \"CMAs\", \"CMAb\"]\n",
    "tbl = pd.concat({\"Mean\": F[:\"2015\"][x].mean(),\n",
    "                 \"Stdev\": F[:\"2015\"][x].std(),\n",
    "                 \"N\": F[:\"2015\"][x].count()}, axis=\"columns\")\n",
    "\n",
    "tbl[\"t-stat\"] = tbl[\"Mean\"] / (tbl[\"Stdev\"] / sqrt(tbl[\"N\"]))\n",
    "round(tbl.drop(\"N\", axis=1).transpose(), 2)"
   ]
  },
  {
   "cell_type": "markdown",
   "metadata": {},
   "source": [
    "## Sharpe Ratio"
   ]
  },
  {
   "cell_type": "markdown",
   "metadata": {},
   "source": [
    "We are inverting a matrix - check the condition number."
   ]
  },
  {
   "cell_type": "code",
   "execution_count": null,
   "metadata": {},
   "outputs": [],
   "source": [
    "r = F[:\"2015\"][ff2016a].mean()\n",
    "Vf = F[:\"2015\"][ff2016a].cov()\n",
    "\n",
    "r.dot(pd.np.linalg.pinv(Vf)).dot(r)"
   ]
  },
  {
   "cell_type": "code",
   "execution_count": null,
   "metadata": {},
   "outputs": [],
   "source": [
    "r = F[:\"2015\"][ff2016b].mean()\n",
    "Vf = F[:\"2015\"][ff2016b].cov()\n",
    "\n",
    "r.dot(pd.np.linalg.pinv(Vf)).dot(r)"
   ]
  },
  {
   "cell_type": "code",
   "execution_count": null,
   "metadata": {},
   "outputs": [],
   "source": [
    "r = F[:\"2015\"][bs2015].mean()\n",
    "Vf = F[:\"2015\"][bs2015].cov()\n",
    "\n",
    "r.dot(pd.np.linalg.pinv(Vf)).dot(r)"
   ]
  },
  {
   "cell_type": "markdown",
   "metadata": {},
   "source": [
    "## Spanning Regressions"
   ]
  },
  {
   "cell_type": "markdown",
   "metadata": {},
   "source": [
    "### FF2016 Operating Profit\n",
    "\n",
    "$R^M + SMB + HML + RMW^r + CMA$"
   ]
  },
  {
   "cell_type": "code",
   "execution_count": null,
   "metadata": {},
   "outputs": [],
   "source": [
    "factors = ff2016a\n",
    "end = \"2015\"\n",
    "contrib = []\n",
    "\n",
    "for LHS in factors:\n",
    "    RHS = [RHS for RHS in factors if RHS!=LHS]\n",
    "    model = sm.OLS(F[:end][LHS], sm.add_constant(F[:end][RHS]))\n",
    "    fit = model.fit()\n",
    "\n",
    "    contrib.append(pd.Series({\"name\": LHS,\n",
    "                    \"a\": fit.params[\"const\"],\n",
    "                    \"Stdev\": fit.resid.std(),\n",
    "                    \"contrib\": (fit.params[\"const\"]/fit.resid.std())**2}))\n",
    "\n",
    "pd.DataFrame(contrib).set_index(\"name\")[[\"a\", \"Stdev\", \"contrib\"]].transpose().round(3)"
   ]
  },
  {
   "cell_type": "markdown",
   "metadata": {},
   "source": [
    "### FF2016b Cash Profit\n",
    "\n",
    "$R^M + SMB + HML + RMW^c + CMA$"
   ]
  },
  {
   "cell_type": "code",
   "execution_count": null,
   "metadata": {},
   "outputs": [],
   "source": [
    "factors = ff2016b\n",
    "end = \"2015\"\n",
    "contrib = []\n",
    "\n",
    "for LHS in factors:\n",
    "    RHS = [RHS for RHS in factors if RHS!=LHS]\n",
    "    model = sm.OLS(F[:end][LHS], sm.add_constant(F[:end][RHS]))\n",
    "    fit = model.fit()\n",
    "\n",
    "    contrib.append(pd.Series({\"name\": LHS,\n",
    "                    \"a\": fit.params[\"const\"],\n",
    "                    \"Stdev\": fit.resid.std(),\n",
    "                    \"contrib\": (fit.params[\"const\"]/fit.resid.std())**2}))\n",
    "\n",
    "pd.DataFrame(contrib).set_index(\"name\")[[\"a\", \"Stdev\", \"contrib\"]].transpose().round(3)"
   ]
  },
  {
   "cell_type": "markdown",
   "metadata": {},
   "source": [
    "### BS2015\n",
    "\n",
    "$R^M + SMB + HML^m + RMW^c + WML$"
   ]
  },
  {
   "cell_type": "code",
   "execution_count": null,
   "metadata": {},
   "outputs": [],
   "source": [
    "factors = bs2015  # + [\"cma\",]\n",
    "end = \"2016\"\n",
    "contrib = []\n",
    "\n",
    "for LHS in factors:\n",
    "    RHS = [RHS for RHS in factors if RHS!=LHS]\n",
    "    model = sm.OLS(F[:end][LHS], sm.add_constant(F[:end][RHS]))\n",
    "    fit = model.fit()\n",
    "\n",
    "    contrib.append(pd.Series({\"name\": LHS,\n",
    "                    \"a\": fit.params[\"const\"],\n",
    "                    \"Stdev\": fit.resid.std(),\n",
    "                    \"contrib\": (fit.params[\"const\"]/fit.resid.std())**2}))\n",
    "\n",
    "pd.DataFrame(contrib).set_index(\"name\")[[\"a\", \"Stdev\", \"contrib\"]].transpose().round(3)"
   ]
  },
  {
   "cell_type": "code",
   "execution_count": null,
   "metadata": {},
   "outputs": [],
   "source": [
    "LHS = \"cma\"\n",
    "RHS = bs2015\n",
    "\n",
    "model = sm.OLS(F[:end][LHS], sm.add_constant(F[:end][RHS]))\n",
    "fit = model.fit()\n",
    "pd.Series({\"name\": LHS,\n",
    " \"a\": fit.params[\"const\"],\n",
    " \"Stdev\": fit.resid.std(),\n",
    " \"contrib\": (fit.params[\"const\"]/fit.resid.std())**2})"
   ]
  },
  {
   "cell_type": "markdown",
   "metadata": {},
   "source": [
    "## Cumulative Returns"
   ]
  },
  {
   "cell_type": "markdown",
   "metadata": {},
   "source": [
    "### Whole Sample"
   ]
  },
  {
   "cell_type": "raw",
   "metadata": {},
   "source": [
    "(F[ff2015] / 100 + 1).cumprod().plot()"
   ]
  },
  {
   "cell_type": "raw",
   "metadata": {
    "scrolled": true
   },
   "source": [
    "(F[bs2015] / 100 + 1).cumprod().plot()"
   ]
  },
  {
   "cell_type": "markdown",
   "metadata": {},
   "source": [
    "### 2000-"
   ]
  },
  {
   "cell_type": "raw",
   "metadata": {},
   "source": [
    "(F[\"2000\":][ff2015] / 100 + 1).cumprod().plot()"
   ]
  },
  {
   "cell_type": "raw",
   "metadata": {},
   "source": [
    "(F[\"2000\":][bs2015] / 100 + 1).cumprod().plot()"
   ]
  },
  {
   "cell_type": "markdown",
   "metadata": {},
   "source": [
    "## Anomalies"
   ]
  },
  {
   "cell_type": "code",
   "execution_count": null,
   "metadata": {},
   "outputs": [],
   "source": [
    "def model_coef_list(factors, LHS, end, k=5):\n",
    "\n",
    "    coef_list = []\n",
    "    coef_names = [\"a\",] + factors\n",
    "\n",
    "    for coef in coef_names:\n",
    "        coef_list.append({\"name\": coef, \"coef\": [], \"tval\": []})\n",
    "\n",
    "    for col in LHS.columns:\n",
    "\n",
    "        # regress the \"anomaly\" on the factors\n",
    "        model = sm.OLS(LHS[\"1963-07\":end][col]-F[\"1963-07\":end][\"rf\"],\n",
    "                       sm.add_constant(F[\"1963-07\":end][factors]))\n",
    "        fit = model.fit()\n",
    "        # get the coefficients and their p-values\n",
    "        col_coef = list(round(fit.params, 2))\n",
    "        col_tval = list(round(fit.tvalues, 2))\n",
    "\n",
    "        for i, coef in enumerate(coef_names):\n",
    "            coef_list[i][\"coef\"].append(col_coef[i])\n",
    "            coef_list[i][\"tval\"].append(col_tval[i])\n",
    "\n",
    "    for i, coef in enumerate(coef_names):\n",
    "        coef_list[i][\"coef\"] = pd.np.array(coef_list[i][\"coef\"]).reshape(k,k).tolist()\n",
    "        coef_list[i][\"tval\"] = pd.np.array(coef_list[i][\"tval\"]).reshape(k,k).tolist()\n",
    "    \n",
    "    return coef_list"
   ]
  },
  {
   "cell_type": "code",
   "execution_count": null,
   "metadata": {},
   "outputs": [],
   "source": [
    "import jinja2\n",
    "import os\n",
    "\n",
    "path = \"C:/Users/samth/Dropbox/Thesis/Tex/Tables/\"\n",
    "\n",
    "env = jinja2.Environment(\n",
    "    block_start_string='-%', block_end_string='%-',\n",
    "    variable_start_string='=%', variable_end_string='%=',\n",
    "    loader=jinja2.FileSystemLoader(path)\n",
    ")"
   ]
  },
  {
   "cell_type": "code",
   "execution_count": null,
   "metadata": {},
   "outputs": [],
   "source": [
    "template = env.get_template(\"5x5_template.txt\")"
   ]
  },
  {
   "cell_type": "markdown",
   "metadata": {},
   "source": [
    "### Size-Value"
   ]
  },
  {
   "cell_type": "code",
   "execution_count": null,
   "metadata": {},
   "outputs": [],
   "source": [
    "size_value = pd.read_csv(\"C:/Data/FrenchDartmouth/25_Portfolios_5x5.CSV\")\n",
    "size_value = size_value.iloc[:642, 1:]\n",
    "size_value.index = F.index"
   ]
  },
  {
   "cell_type": "markdown",
   "metadata": {},
   "source": [
    "#### FF2015"
   ]
  },
  {
   "cell_type": "code",
   "execution_count": null,
   "metadata": {},
   "outputs": [],
   "source": [
    "coef_list = model_coef_list(ff2015, size_value, \"2013\")"
   ]
  },
  {
   "cell_type": "code",
   "execution_count": null,
   "metadata": {},
   "outputs": [],
   "source": [
    "context = {\n",
    "    \"var_name\": \"B/M\",\n",
    "    \"title\": r'R^i=a^i+\\beta^iMkt+s^iSize+v^iVal+p^iProf+i^iInv',\n",
    "    \"tbl\": coef_list,\n",
    "    \"caption\": \"Size-Value Portfolios with FF2015 Factors\",\n",
    "    \"label\": \"25_Size_Value_FF2015\"\n",
    "}"
   ]
  },
  {
   "cell_type": "code",
   "execution_count": null,
   "metadata": {},
   "outputs": [],
   "source": [
    "with open(os.path.join(path, \"25_Size_Value_FF2015_196307_201312.tex\"), \"w\") as table:\n",
    "    table.write(template.render(context))"
   ]
  },
  {
   "cell_type": "markdown",
   "metadata": {},
   "source": [
    "#### BS2015"
   ]
  },
  {
   "cell_type": "code",
   "execution_count": null,
   "metadata": {},
   "outputs": [],
   "source": [
    "coef_list = model_coef_list(bs2015, size_value, \"2013\")"
   ]
  },
  {
   "cell_type": "code",
   "execution_count": null,
   "metadata": {},
   "outputs": [],
   "source": [
    "context = {\n",
    "    \"var_name\": \"B/M\",\n",
    "    \"title\": r'R^i=a^i+\\beta^iMkt+s^iSize+v^iVal+m^iMom+p^iProf',\n",
    "    \"tbl\": coef_list,\n",
    "    \"caption\": \"Size-Value Portfolios with BS2015 Factors\",\n",
    "    \"label\": \"25_Size_Value_BS2015\"\n",
    "}"
   ]
  },
  {
   "cell_type": "code",
   "execution_count": null,
   "metadata": {},
   "outputs": [],
   "source": [
    "with open(os.path.join(path, \"25_Size_Value_BS2015_196307_201312.tex\"), \"w\") as table:\n",
    "    table.write(template.render(context))"
   ]
  }
 ],
 "metadata": {
  "kernelspec": {
   "display_name": "Python 3",
   "language": "python",
   "name": "python3"
  },
  "language_info": {
   "codemirror_mode": {
    "name": "ipython",
    "version": 3
   },
   "file_extension": ".py",
   "mimetype": "text/x-python",
   "name": "python",
   "nbconvert_exporter": "python",
   "pygments_lexer": "ipython3",
   "version": "3.5.2"
  }
 },
 "nbformat": 4,
 "nbformat_minor": 2
}
