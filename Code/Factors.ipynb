{
 "cells": [
  {
   "cell_type": "markdown",
   "metadata": {},
   "source": [
    "# Factors"
   ]
  },
  {
   "cell_type": "code",
   "execution_count": 1,
   "metadata": {},
   "outputs": [
    {
     "name": "stderr",
     "output_type": "stream",
     "text": [
      "c:\\users\\samth\\miniconda3\\envs\\econ\\lib\\site-packages\\statsmodels\\compat\\pandas.py:56: FutureWarning: The pandas.core.datetools module is deprecated and will be removed in a future version. Please use the pandas.tseries module instead.\n",
      "  from pandas.core import datetools\n"
     ]
    }
   ],
   "source": [
    "import pandas as pd\n",
    "from scipy.optimize import minimize\n",
    "import statsmodels.api as sm\n",
    "\n",
    "#%pylab inline"
   ]
  },
  {
   "cell_type": "code",
   "execution_count": 2,
   "metadata": {},
   "outputs": [],
   "source": [
    "# pd.read_csv(\"C:/Data/Thesis/Factors.csv\").set_index(\"date\")\n",
    "\n",
    "F = pd.read_stata(\"C:/Data/Thesis/Factors.dta\").set_index(\"date\")"
   ]
  },
  {
   "cell_type": "code",
   "execution_count": 3,
   "metadata": {},
   "outputs": [],
   "source": [
    "ff2015 = [\"rm\", \"smb\", \"hmlo\", \"rmw\", \"cma\"]\n",
    "ff2016a = [\"rm\", \"smb\", \"hml\", \"RMWr\", \"cma\"]\n",
    "ff2016b = [\"rm\", \"smb\", \"hml\", \"RMWc\", \"cma\"]\n",
    "bs2015 = [\"rm\", \"smb\", \"HMLm\", \"wml\", \"RMWc\"]"
   ]
  },
  {
   "cell_type": "markdown",
   "metadata": {},
   "source": [
    "## Summary Statistics"
   ]
  },
  {
   "cell_type": "markdown",
   "metadata": {},
   "source": [
    "### French Dartmouth Website"
   ]
  },
  {
   "cell_type": "code",
   "execution_count": 27,
   "metadata": {},
   "outputs": [
    {
     "data": {
      "text/html": [
       "<div>\n",
       "<style scoped>\n",
       "    .dataframe tbody tr th:only-of-type {\n",
       "        vertical-align: middle;\n",
       "    }\n",
       "\n",
       "    .dataframe tbody tr th {\n",
       "        vertical-align: top;\n",
       "    }\n",
       "\n",
       "    .dataframe thead th {\n",
       "        text-align: right;\n",
       "    }\n",
       "</style>\n",
       "<table border=\"1\" class=\"dataframe\">\n",
       "  <thead>\n",
       "    <tr style=\"text-align: right;\">\n",
       "      <th></th>\n",
       "      <th>SMB</th>\n",
       "      <th>smb</th>\n",
       "      <th>HML</th>\n",
       "      <th>hml</th>\n",
       "      <th>RMW</th>\n",
       "      <th>rmw</th>\n",
       "      <th>CMA</th>\n",
       "      <th>cma</th>\n",
       "      <th>WML</th>\n",
       "      <th>wml</th>\n",
       "    </tr>\n",
       "  </thead>\n",
       "  <tbody>\n",
       "    <tr>\n",
       "      <th>Mean</th>\n",
       "      <td>0.29</td>\n",
       "      <td>0.27</td>\n",
       "      <td>0.31</td>\n",
       "      <td>0.37</td>\n",
       "      <td>0.25</td>\n",
       "      <td>0.24</td>\n",
       "      <td>0.25</td>\n",
       "      <td>0.31</td>\n",
       "      <td>0.59</td>\n",
       "      <td>0.66</td>\n",
       "    </tr>\n",
       "    <tr>\n",
       "      <th>Stdev</th>\n",
       "      <td>3.03</td>\n",
       "      <td>3.05</td>\n",
       "      <td>2.78</td>\n",
       "      <td>2.82</td>\n",
       "      <td>1.93</td>\n",
       "      <td>2.23</td>\n",
       "      <td>1.89</td>\n",
       "      <td>2.01</td>\n",
       "      <td>3.99</td>\n",
       "      <td>4.23</td>\n",
       "    </tr>\n",
       "    <tr>\n",
       "      <th>t-stat</th>\n",
       "      <td>2.39</td>\n",
       "      <td>2.20</td>\n",
       "      <td>2.84</td>\n",
       "      <td>3.35</td>\n",
       "      <td>3.25</td>\n",
       "      <td>2.74</td>\n",
       "      <td>3.37</td>\n",
       "      <td>3.91</td>\n",
       "      <td>3.76</td>\n",
       "      <td>3.98</td>\n",
       "    </tr>\n",
       "  </tbody>\n",
       "</table>\n",
       "</div>"
      ],
      "text/plain": [
       "         SMB   smb   HML   hml   RMW   rmw   CMA   cma   WML   wml\n",
       "Mean    0.29  0.27  0.31  0.37  0.25  0.24  0.25  0.31  0.59  0.66\n",
       "Stdev   3.03  3.05  2.78  2.82  1.93  2.23  1.89  2.01  3.99  4.23\n",
       "t-stat  2.39  2.20  2.84  3.35  3.25  2.74  3.37  3.91  3.76  3.98"
      ]
     },
     "execution_count": 27,
     "metadata": {},
     "output_type": "execute_result"
    }
   ],
   "source": [
    "x = [\"SMB\", \"smb\", \"HML\", \"hml\", \"RMW\", \"rmw\", \"CMA\", \"cma\", \"WML\", \"wml\"]\n",
    "tbl = pd.concat({\"Mean\":  F[x].mean(),\n",
    "                 \"Stdev\": F[x].std(),\n",
    "                 \"N\":     F[x].count()}, axis=\"columns\")\n",
    "\n",
    "tbl[\"t-stat\"] = tbl[\"Mean\"] / (tbl[\"Stdev\"] / pd.np.sqrt(tbl[\"N\"]))\n",
    "round(tbl.drop(\"N\", axis=1).transpose(), 2)"
   ]
  },
  {
   "cell_type": "code",
   "execution_count": 28,
   "metadata": {},
   "outputs": [
    {
     "data": {
      "text/html": [
       "<div>\n",
       "<style scoped>\n",
       "    .dataframe tbody tr th:only-of-type {\n",
       "        vertical-align: middle;\n",
       "    }\n",
       "\n",
       "    .dataframe tbody tr th {\n",
       "        vertical-align: top;\n",
       "    }\n",
       "\n",
       "    .dataframe thead th {\n",
       "        text-align: right;\n",
       "    }\n",
       "</style>\n",
       "<table border=\"1\" class=\"dataframe\">\n",
       "  <thead>\n",
       "    <tr style=\"text-align: right;\">\n",
       "      <th></th>\n",
       "      <th>HMLs</th>\n",
       "      <th>HMLb</th>\n",
       "      <th>RMWs</th>\n",
       "      <th>RMWb</th>\n",
       "      <th>CMAs</th>\n",
       "      <th>CMAb</th>\n",
       "      <th>WMLs</th>\n",
       "      <th>WMLb</th>\n",
       "    </tr>\n",
       "  </thead>\n",
       "  <tbody>\n",
       "    <tr>\n",
       "      <th>Mean</th>\n",
       "      <td>0.42</td>\n",
       "      <td>0.20</td>\n",
       "      <td>0.31</td>\n",
       "      <td>0.18</td>\n",
       "      <td>0.32</td>\n",
       "      <td>0.18</td>\n",
       "      <td>0.82</td>\n",
       "      <td>0.37</td>\n",
       "    </tr>\n",
       "    <tr>\n",
       "      <th>Stdev</th>\n",
       "      <td>3.10</td>\n",
       "      <td>3.05</td>\n",
       "      <td>2.31</td>\n",
       "      <td>2.31</td>\n",
       "      <td>1.89</td>\n",
       "      <td>2.61</td>\n",
       "      <td>3.92</td>\n",
       "      <td>4.49</td>\n",
       "    </tr>\n",
       "    <tr>\n",
       "      <th>t-stat</th>\n",
       "      <td>3.45</td>\n",
       "      <td>1.66</td>\n",
       "      <td>3.43</td>\n",
       "      <td>1.99</td>\n",
       "      <td>4.35</td>\n",
       "      <td>1.75</td>\n",
       "      <td>5.28</td>\n",
       "      <td>2.08</td>\n",
       "    </tr>\n",
       "  </tbody>\n",
       "</table>\n",
       "</div>"
      ],
      "text/plain": [
       "        HMLs  HMLb  RMWs  RMWb  CMAs  CMAb  WMLs  WMLb\n",
       "Mean    0.42  0.20  0.31  0.18  0.32  0.18  0.82  0.37\n",
       "Stdev   3.10  3.05  2.31  2.31  1.89  2.61  3.92  4.49\n",
       "t-stat  3.45  1.66  3.43  1.99  4.35  1.75  5.28  2.08"
      ]
     },
     "execution_count": 28,
     "metadata": {},
     "output_type": "execute_result"
    }
   ],
   "source": [
    "x = [\"HMLs\", \"HMLb\", \"RMWs\", \"RMWb\", \"CMAs\", \"CMAb\", \"WMLs\", \"WMLb\"]\n",
    "tbl = pd.concat({\"Mean\":  F[x].mean(),\n",
    "                 \"Stdev\": F[x].std(),\n",
    "                 \"N\":     F[x].count()}, axis=\"columns\")\n",
    "\n",
    "tbl[\"t-stat\"] = tbl[\"Mean\"] / (tbl[\"Stdev\"] / pd.np.sqrt(tbl[\"N\"]))\n",
    "round(tbl.drop(\"N\", axis=1).transpose(), 2)"
   ]
  },
  {
   "cell_type": "raw",
   "metadata": {
    "collapsed": true
   },
   "source": [
    "round(F[[\"SMB\", \"smb\", \"HML\", \"hml\", \"RMW\", \"rmw\", \"CMA\", \"cma\", \"WML\", \"wml\"]].corr(), 2)"
   ]
  },
  {
   "cell_type": "markdown",
   "metadata": {},
   "source": [
    "### Fama French (2016) _Choosing Factors_"
   ]
  },
  {
   "cell_type": "code",
   "execution_count": null,
   "metadata": {},
   "outputs": [],
   "source": [
    "x = [\"HML\", \"HMLs\", \"HMLb\", \"RMWr\", \"RMWrs\", \"RMWrb\",\n",
    "     \"RMWc\", \"RMWcs\", \"RMWcb\", \"CMA\", \"CMAs\", \"CMAb\"]\n",
    "tbl = pd.concat({\"Mean\":  F[:\"2015\"][x].mean(),\n",
    "                 \"Stdev\": F[:\"2015\"][x].std(),\n",
    "                 \"N\":     F[:\"2015\"][x].count()}, axis=\"columns\")\n",
    "\n",
    "tbl[\"t-stat\"] = tbl[\"Mean\"] / (tbl[\"Stdev\"] / pd.np.sqrt(tbl[\"N\"]))\n",
    "round(tbl.drop(\"N\", axis=1).transpose(), 2)"
   ]
  },
  {
   "cell_type": "markdown",
   "metadata": {},
   "source": [
    "### Table 1"
   ]
  },
  {
   "cell_type": "code",
   "execution_count": null,
   "metadata": {},
   "outputs": [],
   "source": [
    "x = [\"rm\", \"smb\", \"hml\", \"HMLm\", \"RMWc\", \"cma\", \"wml\"]\n",
    "tbl = pd.concat({\"Mean\":  F[x].mean(),\n",
    "                 \"Stdev\": F[x].std(),\n",
    "                 \"N\":     F[x].count()}, axis=\"columns\")\n",
    "\n",
    "tbl[\"t-stat\"] = tbl[\"Mean\"] / (tbl[\"Stdev\"] / pd.np.sqrt(tbl[\"N\"]))\n",
    "tbl[\"Sh\"] = tbl[\"Mean\"] / tbl[\"Stdev\"]\n",
    "tbl[\"Sh2\"] = tbl[\"Sh\"]**2\n",
    "round(tbl.drop(\"N\", axis=1).transpose(), 2)"
   ]
  },
  {
   "cell_type": "markdown",
   "metadata": {},
   "source": [
    "### Value"
   ]
  },
  {
   "cell_type": "code",
   "execution_count": 5,
   "metadata": {},
   "outputs": [
    {
     "data": {
      "text/html": [
       "<div>\n",
       "<style scoped>\n",
       "    .dataframe tbody tr th:only-of-type {\n",
       "        vertical-align: middle;\n",
       "    }\n",
       "\n",
       "    .dataframe tbody tr th {\n",
       "        vertical-align: top;\n",
       "    }\n",
       "\n",
       "    .dataframe thead th {\n",
       "        text-align: right;\n",
       "    }\n",
       "</style>\n",
       "<table border=\"1\" class=\"dataframe\">\n",
       "  <thead>\n",
       "    <tr style=\"text-align: right;\">\n",
       "      <th></th>\n",
       "      <th>HMLs</th>\n",
       "      <th>HMLb</th>\n",
       "      <th>HML</th>\n",
       "      <th>HMLcs</th>\n",
       "      <th>HMLcb</th>\n",
       "      <th>HMLc</th>\n",
       "      <th>HMLms</th>\n",
       "      <th>HMLmb</th>\n",
       "      <th>HMLm</th>\n",
       "    </tr>\n",
       "  </thead>\n",
       "  <tbody>\n",
       "    <tr>\n",
       "      <th>Mean</th>\n",
       "      <td>0.42</td>\n",
       "      <td>0.20</td>\n",
       "      <td>0.31</td>\n",
       "      <td>0.30</td>\n",
       "      <td>0.21</td>\n",
       "      <td>0.26</td>\n",
       "      <td>0.43</td>\n",
       "      <td>0.30</td>\n",
       "      <td>0.36</td>\n",
       "    </tr>\n",
       "    <tr>\n",
       "      <th>Stdev</th>\n",
       "      <td>3.10</td>\n",
       "      <td>3.05</td>\n",
       "      <td>2.78</td>\n",
       "      <td>3.34</td>\n",
       "      <td>3.22</td>\n",
       "      <td>2.98</td>\n",
       "      <td>3.85</td>\n",
       "      <td>3.58</td>\n",
       "      <td>3.46</td>\n",
       "    </tr>\n",
       "    <tr>\n",
       "      <th>t-stat</th>\n",
       "      <td>3.45</td>\n",
       "      <td>1.66</td>\n",
       "      <td>2.84</td>\n",
       "      <td>2.30</td>\n",
       "      <td>1.66</td>\n",
       "      <td>2.19</td>\n",
       "      <td>2.83</td>\n",
       "      <td>2.11</td>\n",
       "      <td>2.67</td>\n",
       "    </tr>\n",
       "  </tbody>\n",
       "</table>\n",
       "</div>"
      ],
      "text/plain": [
       "        HMLs  HMLb   HML  HMLcs  HMLcb  HMLc  HMLms  HMLmb  HMLm\n",
       "Mean    0.42  0.20  0.31   0.30   0.21  0.26   0.43   0.30  0.36\n",
       "Stdev   3.10  3.05  2.78   3.34   3.22  2.98   3.85   3.58  3.46\n",
       "t-stat  3.45  1.66  2.84   2.30   1.66  2.19   2.83   2.11  2.67"
      ]
     },
     "execution_count": 5,
     "metadata": {},
     "output_type": "execute_result"
    }
   ],
   "source": [
    "x = [\"HMLs\", \"HMLb\", \"HML\", \"HMLcs\", \"HMLcb\", \"HMLc\",\n",
    "     \"HMLms\", \"HMLmb\", \"HMLm\"]\n",
    "tbl = pd.concat({\"Mean\":  F[x].mean(),\n",
    "                 \"Stdev\": F[x].std(),\n",
    "                 \"N\":     F[x].count()}, axis=\"columns\")\n",
    "\n",
    "tbl[\"t-stat\"] = tbl[\"Mean\"] / (tbl[\"Stdev\"] / pd.np.sqrt(tbl[\"N\"]))\n",
    "round(tbl.drop(\"N\", axis=1).transpose(), 2)"
   ]
  },
  {
   "cell_type": "markdown",
   "metadata": {},
   "source": [
    "### Profit"
   ]
  },
  {
   "cell_type": "code",
   "execution_count": 6,
   "metadata": {},
   "outputs": [
    {
     "data": {
      "text/html": [
       "<div>\n",
       "<style scoped>\n",
       "    .dataframe tbody tr th:only-of-type {\n",
       "        vertical-align: middle;\n",
       "    }\n",
       "\n",
       "    .dataframe tbody tr th {\n",
       "        vertical-align: top;\n",
       "    }\n",
       "\n",
       "    .dataframe thead th {\n",
       "        text-align: right;\n",
       "    }\n",
       "</style>\n",
       "<table border=\"1\" class=\"dataframe\">\n",
       "  <thead>\n",
       "    <tr style=\"text-align: right;\">\n",
       "      <th></th>\n",
       "      <th>RMWs</th>\n",
       "      <th>RMWb</th>\n",
       "      <th>RMW</th>\n",
       "      <th>RMWrs</th>\n",
       "      <th>RMWrb</th>\n",
       "      <th>RMWr</th>\n",
       "      <th>RMWgs</th>\n",
       "      <th>RMWgb</th>\n",
       "      <th>RMWg</th>\n",
       "      <th>RMWcs</th>\n",
       "      <th>RMWcb</th>\n",
       "      <th>RMWc</th>\n",
       "    </tr>\n",
       "  </thead>\n",
       "  <tbody>\n",
       "    <tr>\n",
       "      <th>Mean</th>\n",
       "      <td>0.31</td>\n",
       "      <td>0.18</td>\n",
       "      <td>0.25</td>\n",
       "      <td>0.43</td>\n",
       "      <td>0.19</td>\n",
       "      <td>0.31</td>\n",
       "      <td>0.26</td>\n",
       "      <td>0.16</td>\n",
       "      <td>0.21</td>\n",
       "      <td>0.52</td>\n",
       "      <td>0.22</td>\n",
       "      <td>0.37</td>\n",
       "    </tr>\n",
       "    <tr>\n",
       "      <th>Stdev</th>\n",
       "      <td>2.31</td>\n",
       "      <td>2.31</td>\n",
       "      <td>1.93</td>\n",
       "      <td>1.77</td>\n",
       "      <td>2.25</td>\n",
       "      <td>1.64</td>\n",
       "      <td>2.40</td>\n",
       "      <td>2.88</td>\n",
       "      <td>2.26</td>\n",
       "      <td>1.47</td>\n",
       "      <td>2.15</td>\n",
       "      <td>1.40</td>\n",
       "    </tr>\n",
       "    <tr>\n",
       "      <th>t-stat</th>\n",
       "      <td>3.43</td>\n",
       "      <td>1.99</td>\n",
       "      <td>3.25</td>\n",
       "      <td>6.17</td>\n",
       "      <td>2.12</td>\n",
       "      <td>4.78</td>\n",
       "      <td>2.73</td>\n",
       "      <td>1.39</td>\n",
       "      <td>2.33</td>\n",
       "      <td>9.03</td>\n",
       "      <td>2.64</td>\n",
       "      <td>6.75</td>\n",
       "    </tr>\n",
       "  </tbody>\n",
       "</table>\n",
       "</div>"
      ],
      "text/plain": [
       "        RMWs  RMWb   RMW  RMWrs  RMWrb  RMWr  RMWgs  RMWgb  RMWg  RMWcs  \\\n",
       "Mean    0.31  0.18  0.25   0.43   0.19  0.31   0.26   0.16  0.21   0.52   \n",
       "Stdev   2.31  2.31  1.93   1.77   2.25  1.64   2.40   2.88  2.26   1.47   \n",
       "t-stat  3.43  1.99  3.25   6.17   2.12  4.78   2.73   1.39  2.33   9.03   \n",
       "\n",
       "        RMWcb  RMWc  \n",
       "Mean     0.22  0.37  \n",
       "Stdev    2.15  1.40  \n",
       "t-stat   2.64  6.75  "
      ]
     },
     "execution_count": 6,
     "metadata": {},
     "output_type": "execute_result"
    }
   ],
   "source": [
    "x = [\"RMWs\", \"RMWb\", \"RMW\", \"RMWrs\", \"RMWrb\", \"RMWr\",\n",
    "     \"RMWgs\", \"RMWgb\", \"RMWg\", \"RMWcs\", \"RMWcb\", \"RMWc\"]\n",
    "tbl = pd.concat({\"Mean\":  F[x].mean(),\n",
    "                 \"Stdev\": F[x].std(),\n",
    "                 \"N\":     F[x].count()}, axis=\"columns\")\n",
    "\n",
    "tbl[\"t-stat\"] = tbl[\"Mean\"] / (tbl[\"Stdev\"] / pd.np.sqrt(tbl[\"N\"]))\n",
    "round(tbl.drop(\"N\", axis=1).transpose(), 2)"
   ]
  },
  {
   "cell_type": "markdown",
   "metadata": {},
   "source": [
    "## Sharpe Ratio"
   ]
  },
  {
   "cell_type": "markdown",
   "metadata": {},
   "source": [
    "We are inverting a matrix - check the condition number."
   ]
  },
  {
   "cell_type": "code",
   "execution_count": null,
   "metadata": {},
   "outputs": [],
   "source": [
    "r = F[:\"2015\"][ff2016a].mean()\n",
    "Vf = F[:\"2015\"][ff2016a].cov()\n",
    "\n",
    "r.dot(pd.np.linalg.pinv(Vf)).dot(r)"
   ]
  },
  {
   "cell_type": "code",
   "execution_count": null,
   "metadata": {},
   "outputs": [],
   "source": [
    "r = F[:\"2015\"][ff2016a].mean().as_matrix()\n",
    "Vf = F[:\"2015\"][ff2016a].cov().as_matrix()\n",
    "\n",
    "r @ pd.np.linalg.pinv(Vf) @ r"
   ]
  },
  {
   "cell_type": "code",
   "execution_count": null,
   "metadata": {},
   "outputs": [],
   "source": [
    "r = F[:\"2015\"][ff2016b].mean()\n",
    "Vf = F[:\"2015\"][ff2016b].cov()\n",
    "\n",
    "r.dot(pd.np.linalg.pinv(Vf)).dot(r)"
   ]
  },
  {
   "cell_type": "code",
   "execution_count": null,
   "metadata": {},
   "outputs": [],
   "source": [
    "r = F[:\"2015\"][bs2015].mean()\n",
    "Vf = F[:\"2015\"][bs2015].cov()\n",
    "\n",
    "r.dot(pd.np.linalg.pinv(Vf)).dot(r)"
   ]
  },
  {
   "cell_type": "code",
   "execution_count": null,
   "metadata": {},
   "outputs": [],
   "source": [
    "r = F[:\"2016\"][bs2015].mean()\n",
    "Vf = F[:\"2016\"][bs2015].cov()\n",
    "\n",
    "r.dot(pd.np.linalg.pinv(Vf)).dot(r)"
   ]
  },
  {
   "cell_type": "code",
   "execution_count": null,
   "metadata": {},
   "outputs": [],
   "source": [
    "r = F[\"2000\":\"2016\"][ff2016b].mean()\n",
    "Vf = F[\"2000\":\"2016\"][ff2016b].cov()\n",
    "\n",
    "r.dot(pd.np.linalg.pinv(Vf)).dot(r)"
   ]
  },
  {
   "cell_type": "code",
   "execution_count": null,
   "metadata": {},
   "outputs": [],
   "source": [
    "r = F[\"2000\":\"2016\"][bs2015].mean()\n",
    "Vf = F[\"2000\":\"2016\"][bs2015].cov()\n",
    "\n",
    "r.dot(pd.np.linalg.pinv(Vf)).dot(r)"
   ]
  },
  {
   "cell_type": "code",
   "execution_count": null,
   "metadata": {},
   "outputs": [],
   "source": [
    "r = F[\"1963\":\"1999\"][ff2016b].mean()\n",
    "Vf = F[\"1963\":\"1999\"][ff2016b].cov()\n",
    "\n",
    "r.dot(pd.np.linalg.pinv(Vf)).dot(r)"
   ]
  },
  {
   "cell_type": "code",
   "execution_count": null,
   "metadata": {},
   "outputs": [],
   "source": [
    "r = F[\"1963\":\"1999\"][bs2015].mean()\n",
    "Vf = F[\"1963\":\"1999\"][bs2015].cov()\n",
    "\n",
    "r.dot(pd.np.linalg.pinv(Vf)).dot(r)"
   ]
  },
  {
   "cell_type": "markdown",
   "metadata": {},
   "source": [
    "## Weights"
   ]
  },
  {
   "cell_type": "markdown",
   "metadata": {},
   "source": [
    "### Sharpe Ratio\n",
    "\n",
    "$$E(R_p) = w'\\bar{R}$$\n",
    "$$Var(R_p) = w'V_Rw$$\n",
    "$$Sh^2(f) = \\bar{f}'V_f^{-1}\\bar{f}$$"
   ]
  },
  {
   "cell_type": "code",
   "execution_count": null,
   "metadata": {},
   "outputs": [],
   "source": [
    "def ERp(w, R):\n",
    "    ER = pd.np.mean(R, axis=0)\n",
    "    return w.transpose() @ ER"
   ]
  },
  {
   "cell_type": "code",
   "execution_count": null,
   "metadata": {},
   "outputs": [],
   "source": [
    "def VRp(w, R):\n",
    "    CoVR = pd.np.cov(R, rowvar=False)\n",
    "    return w.transpose() @ CoVR @ w"
   ]
  },
  {
   "cell_type": "code",
   "execution_count": null,
   "metadata": {},
   "outputs": [],
   "source": [
    "R = F[:\"2016\"][bs2015].as_matrix()\n",
    "CoVR = pd.np.cov(R, rowvar=False)\n",
    "F[:\"2016\"][bs2015].cov().as_matrix() == CoVR"
   ]
  },
  {
   "cell_type": "code",
   "execution_count": null,
   "metadata": {},
   "outputs": [],
   "source": [
    "def Sh2(f):\n",
    "    Ef = pd.np.mean(f, axis=0)\n",
    "    CoVf = pd.np.cov(f, rowvar=False)\n",
    "    return Ef.transpose() @ pd.np.linalg.pinv(CoVf) @ Ef"
   ]
  },
  {
   "cell_type": "code",
   "execution_count": null,
   "metadata": {},
   "outputs": [],
   "source": [
    "def SR(w, R):\n",
    "    return (ERp(w, R) / pd.np.sqrt(VRp(w, R)))"
   ]
  },
  {
   "cell_type": "code",
   "execution_count": null,
   "metadata": {},
   "outputs": [],
   "source": [
    "R = F[bs2015].as_matrix()\n",
    "w = pd.np.matrix([.2, .2, .2, .2, .2]).transpose()"
   ]
  },
  {
   "cell_type": "code",
   "execution_count": null,
   "metadata": {},
   "outputs": [],
   "source": [
    "w.transpose() @ pd.np.mean(R, axis=0), pd.np.mean(w.transpose() @ R.transpose())"
   ]
  },
  {
   "cell_type": "code",
   "execution_count": null,
   "metadata": {},
   "outputs": [],
   "source": [
    "w.shape, R.shape"
   ]
  },
  {
   "cell_type": "code",
   "execution_count": null,
   "metadata": {},
   "outputs": [],
   "source": [
    "ERp(w, R), VRp(w, R), SR(w, R), pd.np.sqrt(Sh2(R))"
   ]
  },
  {
   "cell_type": "markdown",
   "metadata": {},
   "source": [
    "### Objective Function"
   ]
  },
  {
   "cell_type": "code",
   "execution_count": null,
   "metadata": {},
   "outputs": [],
   "source": [
    "def obj_SR(*args, **kwargs):\n",
    "    return -SR(*args, **kwargs)"
   ]
  },
  {
   "cell_type": "code",
   "execution_count": null,
   "metadata": {},
   "outputs": [],
   "source": [
    "obj_SR(w, R)"
   ]
  },
  {
   "cell_type": "code",
   "execution_count": null,
   "metadata": {},
   "outputs": [],
   "source": [
    "# equality constraint functions are set to 0\n",
    "cons = ({\"type\": \"eq\", \"fun\": lambda w: pd.np.sum(w) - 1},)"
   ]
  },
  {
   "cell_type": "code",
   "execution_count": null,
   "metadata": {},
   "outputs": [],
   "source": [
    "R = F[:\"2016\"][bs2015].as_matrix()\n",
    "res = minimize(obj_SR, [.2,.2,.2,.2,.2], args=(R,), constraints=cons)\n",
    "BS2015 = pd.Series(res[\"x\"] @ R.transpose(), index=F.index)\n",
    "bs2015, res[\"x\"].round(2)"
   ]
  },
  {
   "cell_type": "code",
   "execution_count": null,
   "metadata": {},
   "outputs": [],
   "source": [
    "R = F[:\"2016\"][ff2015].as_matrix()\n",
    "res = minimize(obj_SR, [.2,.2,.2,.2,.2], args=(R,), constraints=cons)\n",
    "FF2015 = pd.Series(res[\"x\"] @ R.transpose(), index=F.index)\n",
    "ff2015, res[\"x\"].round(2)"
   ]
  },
  {
   "cell_type": "code",
   "execution_count": null,
   "metadata": {},
   "outputs": [],
   "source": [
    "R = F[:\"2016\"][ff2016a].as_matrix()\n",
    "res = minimize(obj_SR, [.2,.2,.2,.2,.2], args=(R,), constraints=cons)\n",
    "FF2016a = pd.Series(res[\"x\"] @ R.transpose(), index=F.index)\n",
    "ff2016a, res[\"x\"].round(2)"
   ]
  },
  {
   "cell_type": "code",
   "execution_count": null,
   "metadata": {},
   "outputs": [],
   "source": [
    "R = F[:\"2016\"][ff2016b].as_matrix()\n",
    "res = minimize(obj_SR, [.2,.2,.2,.2,.2], args=(R,), constraints=cons)\n",
    "FF2016b = pd.Series(res[\"x\"] @ R.transpose(), index=F.index)\n",
    "ff2016b, res[\"x\"].round(2)"
   ]
  },
  {
   "cell_type": "code",
   "execution_count": null,
   "metadata": {},
   "outputs": [],
   "source": [
    "models = pd.DataFrame(\n",
    "    {\"BS2015\": BS2015,\n",
    "     \"FF2015\": FF2015,\n",
    "     \"FF2016a\": FF2016a,\n",
    "     \"FF2016b\": FF2016b,\n",
    "     \"Rm\": F[\"rm\"]}\n",
    ")"
   ]
  },
  {
   "cell_type": "markdown",
   "metadata": {},
   "source": [
    "## Table 1"
   ]
  },
  {
   "cell_type": "code",
   "execution_count": null,
   "metadata": {},
   "outputs": [],
   "source": [
    "tbl = pd.concat({\"Mean\":  models.mean(),\n",
    "                 \"Stdev\": models.std(),\n",
    "                 \"N\":     models.count()}, axis=\"columns\")\n",
    "\n",
    "tbl[\"t-stat\"] = tbl[\"Mean\"] / (tbl[\"Stdev\"] / pd.np.sqrt(tbl[\"N\"]))\n",
    "tbl[\"Sh\"] = tbl[\"Mean\"] / tbl[\"Stdev\"]\n",
    "round(tbl.drop(\"N\", axis=1).transpose(), 2)"
   ]
  },
  {
   "cell_type": "code",
   "execution_count": null,
   "metadata": {},
   "outputs": [],
   "source": [
    "(models / 100 + 1).cumprod().plot()"
   ]
  },
  {
   "cell_type": "code",
   "execution_count": null,
   "metadata": {},
   "outputs": [],
   "source": [
    "(models[:\"1999\"] / 100 + 1).cumprod().plot()"
   ]
  },
  {
   "cell_type": "code",
   "execution_count": null,
   "metadata": {},
   "outputs": [],
   "source": [
    "(models[\"2000\":] / 100 + 1).cumprod().plot()"
   ]
  },
  {
   "cell_type": "code",
   "execution_count": null,
   "metadata": {},
   "outputs": [],
   "source": [
    "(models[\"1963\":\"1969\"] / 100 + 1).cumprod().plot()"
   ]
  },
  {
   "cell_type": "code",
   "execution_count": null,
   "metadata": {},
   "outputs": [],
   "source": [
    "(models[\"1970\":\"1979\"] / 100 + 1).cumprod().plot()"
   ]
  },
  {
   "cell_type": "code",
   "execution_count": null,
   "metadata": {},
   "outputs": [],
   "source": [
    "(models[\"1980\":\"1989\"] / 100 + 1).cumprod().plot()"
   ]
  },
  {
   "cell_type": "code",
   "execution_count": null,
   "metadata": {},
   "outputs": [],
   "source": [
    "(models[\"1990\":\"1999\"] / 100 + 1).cumprod().plot()"
   ]
  },
  {
   "cell_type": "code",
   "execution_count": null,
   "metadata": {},
   "outputs": [],
   "source": [
    "(models[\"2000\":\"2009\"] / 100 + 1).cumprod().plot()"
   ]
  },
  {
   "cell_type": "code",
   "execution_count": null,
   "metadata": {},
   "outputs": [],
   "source": [
    "(models[\"2010\":\"2016\"] / 100 + 1).cumprod().plot()"
   ]
  },
  {
   "cell_type": "code",
   "execution_count": null,
   "metadata": {},
   "outputs": [],
   "source": [
    "R = F[\"1996\":\"2016\"][bs2015].as_matrix()\n",
    "res = minimize(obj_SR, [.2,.2,.2,.2,.2], args=(R,), constraints=cons)\n",
    "BS2015 = pd.Series(res[\"x\"] @ R.transpose(), index=F[\"1996\":\"2016\"].index)\n",
    "bs2015, res[\"x\"].round(2)"
   ]
  },
  {
   "cell_type": "code",
   "execution_count": null,
   "metadata": {},
   "outputs": [],
   "source": [
    "R = F[\"1996\":\"2016\"][ff2015].as_matrix()\n",
    "res = minimize(obj_SR, [.2,.2,.2,.2,.2], args=(R,), constraints=cons)\n",
    "FF2015 = pd.Series(res[\"x\"] @ R.transpose(), index=F[\"1996\":\"2016\"].index)\n",
    "ff2015, res[\"x\"].round(2)"
   ]
  },
  {
   "cell_type": "code",
   "execution_count": null,
   "metadata": {},
   "outputs": [],
   "source": [
    "R = F[\"1996\":\"2016\"][ff2016a].as_matrix()\n",
    "res = minimize(obj_SR, [.2,.2,.2,.2,.2], args=(R,), constraints=cons)\n",
    "FF2016a = pd.Series(res[\"x\"] @ R.transpose(), index=F[\"1996\":\"2016\"].index)\n",
    "ff2016a, res[\"x\"].round(2)"
   ]
  },
  {
   "cell_type": "code",
   "execution_count": null,
   "metadata": {},
   "outputs": [],
   "source": [
    "R = F[\"1996\":\"2016\"][ff2016b].as_matrix()\n",
    "res = minimize(obj_SR, [.2,.2,.2,.2,.2], args=(R,), constraints=cons)\n",
    "FF2016b = pd.Series(res[\"x\"] @ R.transpose(), index=F[\"1996\":\"2016\"].index)\n",
    "ff2016b, res[\"x\"].round(2)"
   ]
  },
  {
   "cell_type": "code",
   "execution_count": null,
   "metadata": {},
   "outputs": [],
   "source": [
    "models = pd.DataFrame(\n",
    "    {\"BS2015\": BS2015,\n",
    "     \"FF2015\": FF2015,\n",
    "     \"FF2016a\": FF2016a,\n",
    "     \"FF2016b\": FF2016b,\n",
    "     \"Rm\": F[\"1996\":\"2016\"][\"rm\"]}\n",
    ")"
   ]
  },
  {
   "cell_type": "code",
   "execution_count": null,
   "metadata": {},
   "outputs": [],
   "source": [
    "(models / 100 + 1).cumprod().plot()"
   ]
  },
  {
   "cell_type": "markdown",
   "metadata": {},
   "source": [
    "## Spanning Regressions"
   ]
  },
  {
   "cell_type": "markdown",
   "metadata": {},
   "source": [
    "### FF2016 Operating Profit\n",
    "\n",
    "$R^M + SMB + HML + RMW^r + CMA$"
   ]
  },
  {
   "cell_type": "code",
   "execution_count": null,
   "metadata": {},
   "outputs": [],
   "source": [
    "factors = ff2016a\n",
    "end = \"2015\"\n",
    "contrib = []\n",
    "\n",
    "for LHS in factors:\n",
    "    RHS = [RHS for RHS in factors if RHS!=LHS]\n",
    "    model = sm.OLS(F[:end][LHS], sm.add_constant(F[:end][RHS]))\n",
    "    fit = model.fit()\n",
    "\n",
    "    contrib.append(pd.Series({\"name\": LHS,\n",
    "                    \"a\": fit.params[\"const\"],\n",
    "                    \"Stdev\": fit.resid.std(),\n",
    "                    \"contrib\": fit.params[\"const\"]/fit.resid.std()}))\n",
    "\n",
    "pd.DataFrame(contrib).set_index(\"name\")[[\"a\", \"Stdev\", \"contrib\"]].transpose().round(3)"
   ]
  },
  {
   "cell_type": "markdown",
   "metadata": {},
   "source": [
    "### FF2016b Cash Profit\n",
    "\n",
    "$R^M + SMB + HML + RMW^c + CMA$"
   ]
  },
  {
   "cell_type": "code",
   "execution_count": null,
   "metadata": {},
   "outputs": [],
   "source": [
    "factors = ff2016b  #  + [\"wml\",]\n",
    "end = \"2016\"\n",
    "contrib = []\n",
    "\n",
    "for LHS in factors:\n",
    "    RHS = [RHS for RHS in factors if RHS!=LHS]\n",
    "    model = sm.OLS(F[:end][LHS], sm.add_constant(F[:end][RHS]))\n",
    "    fit = model.fit()\n",
    "\n",
    "    contrib.append(pd.Series({\"name\": LHS,\n",
    "                    \"a\": fit.params[\"const\"],\n",
    "                    \"SD\": fit.resid.std(),\n",
    "                    \"N\": len(fit.resid)}))\n",
    "\n",
    "contrib = pd.DataFrame(contrib).set_index(\"name\")  #[[\"a\", \"Stdev\", \"contrib\", \"contrib2\"]].transpose().round(2)\n",
    "contrib[\"SE\"] = contrib[\"SD\"] / contrib[\"N\"]**(1/2)\n",
    "contrib[\"a/SE\"] = contrib[\"a\"] / contrib[\"SE\"]  # From table description\n",
    "contrib[\"a/SD\"] = contrib[\"a\"] / contrib[\"SD\"]  # From text description (sec 1)\n",
    "contrib[\"(a/SE)^2\"] = contrib[\"a/SE\"]**2\n",
    "contrib[\"(a/SD)^2\"] = contrib[\"a/SD\"]**2\n",
    "contrib[[\"a\", \"SD\", \"(a/SE)^2\", \"(a/SD)^2\"]].transpose().round(3)"
   ]
  },
  {
   "cell_type": "markdown",
   "metadata": {},
   "source": [
    "### BS2015\n",
    "\n",
    "$R^M + SMB + HML^m + RMW^c + WML$"
   ]
  },
  {
   "cell_type": "code",
   "execution_count": null,
   "metadata": {},
   "outputs": [],
   "source": [
    "factors = bs2015  #  + [\"cma\",]\n",
    "end = \"2016\"\n",
    "contrib = []\n",
    "\n",
    "for LHS in factors:\n",
    "    RHS = [RHS for RHS in factors if RHS!=LHS]\n",
    "    model = sm.OLS(F[:end][LHS], sm.add_constant(F[:end][RHS]))\n",
    "    fit = model.fit()\n",
    "\n",
    "    contrib.append(pd.Series({\"name\": LHS,\n",
    "                    \"a\": fit.params[\"const\"],\n",
    "                    \"SD\": fit.resid.std(),\n",
    "                    \"N\": len(fit.resid)}))\n",
    "\n",
    "contrib = pd.DataFrame(contrib).set_index(\"name\")  #[[\"a\", \"Stdev\", \"contrib\", \"contrib2\"]].transpose().round(2)\n",
    "contrib[\"SE\"] = contrib[\"SD\"] / contrib[\"N\"]**(1/2)\n",
    "contrib[\"a/SE\"] = contrib[\"a\"] / contrib[\"SE\"]  # From table description\n",
    "contrib[\"a/SD\"] = contrib[\"a\"] / contrib[\"SD\"]  # From text description (sec 1)\n",
    "contrib[\"(a/SE)^2\"] = contrib[\"a/SE\"]**2\n",
    "contrib[\"(a/SD)^2\"] = contrib[\"a/SD\"]**2\n",
    "contrib[[\"a\", \"SD\", \"(a/SE)^2\", \"(a/SD)^2\"]].transpose().round(3)"
   ]
  },
  {
   "cell_type": "code",
   "execution_count": null,
   "metadata": {},
   "outputs": [],
   "source": [
    "LHS = \"cma\"\n",
    "RHS = bs2015\n",
    "\n",
    "model = sm.OLS(F[:end][LHS], sm.add_constant(F[:end][RHS]))\n",
    "fit = model.fit()\n",
    "pd.Series({\"name\": LHS,\n",
    " \"a\": fit.params[\"const\"],\n",
    " \"Stdev\": fit.resid.std(),\n",
    " \"contrib\": (fit.params[\"const\"]/fit.resid.std())**2})"
   ]
  },
  {
   "cell_type": "markdown",
   "metadata": {},
   "source": [
    "## Cumulative Returns"
   ]
  },
  {
   "cell_type": "markdown",
   "metadata": {},
   "source": [
    "### Whole Sample"
   ]
  },
  {
   "cell_type": "raw",
   "metadata": {},
   "source": [
    "(F[ff2015] / 100 + 1).cumprod().plot()"
   ]
  },
  {
   "cell_type": "raw",
   "metadata": {
    "scrolled": true
   },
   "source": [
    "(F[bs2015] / 100 + 1).cumprod().plot()"
   ]
  },
  {
   "cell_type": "markdown",
   "metadata": {},
   "source": [
    "### 2000-"
   ]
  },
  {
   "cell_type": "raw",
   "metadata": {},
   "source": [
    "(F[\"2000\":][ff2015] / 100 + 1).cumprod().plot()"
   ]
  },
  {
   "cell_type": "raw",
   "metadata": {},
   "source": [
    "(F[\"2000\":][bs2015] / 100 + 1).cumprod().plot()"
   ]
  },
  {
   "cell_type": "markdown",
   "metadata": {},
   "source": [
    "## Anomalies"
   ]
  },
  {
   "cell_type": "code",
   "execution_count": 7,
   "metadata": {},
   "outputs": [],
   "source": [
    "def GRS(R, F, factors, start=\"1963\", end=\"2016\"):\n",
    "    \"\"\"\n",
    "    Returns the GRS statistic of Gibbons, Ross and Shanken (1989)\n",
    "    given test assets R and factors F.\n",
    "    \n",
    "    R is expected to be \n",
    "    \"\"\"\n",
    "\n",
    "    alphas = []\n",
    "    errors = []\n",
    "\n",
    "    for p in R.columns:\n",
    "        model = sm.OLS(R[start:end][p] - F[start:end][\"rf\"],\n",
    "                       sm.add_constant(F[start:end][factors]))\n",
    "        fit = model.fit()\n",
    "        alphas.append(fit.params[\"const\"])\n",
    "        errors.append(fit.resid)\n",
    "\n",
    "    alphas = pd.np.array(alphas)\n",
    "    errors = pd.np.array(errors).transpose()\n",
    "\n",
    "    K = F[factors].shape[1]\n",
    "    T, N = errors.shape\n",
    "\n",
    "    Ve = errors.transpose().dot(errors) / (T - K - 1)\n",
    "\n",
    "    r = F[factors].mean().as_matrix()\n",
    "\n",
    "    f = F[factors].as_matrix()\n",
    "\n",
    "    Vf = (f-r).transpose().dot(f-r) / (T - 1)\n",
    "\n",
    "    Sh2_a = alphas.dot(pd.np.linalg.pinv(Ve)).dot(alphas)\n",
    "    Sh2_f = r.dot(pd.np.linalg.pinv(Vf)).dot(r)\n",
    "    Sh2_a, Sh2_f\n",
    "\n",
    "    return (T/N)*((T-N-K)/(T-K-1))*(Sh2_a/(1+Sh2_f))"
   ]
  },
  {
   "cell_type": "code",
   "execution_count": 8,
   "metadata": {},
   "outputs": [],
   "source": [
    "def model_coef_list(factors, LHS, end, k=5):\n",
    "\n",
    "    coef_list = []\n",
    "    coef_names = [\"a\",] + factors\n",
    "    alphas = []\n",
    "\n",
    "    for coef in coef_names:\n",
    "        coef_list.append({\"name\": coef, \"coef\": [], \"tval\": []})\n",
    "\n",
    "    for col in LHS.columns:\n",
    "\n",
    "        # regress the \"anomaly\" on the factors\n",
    "        model = sm.OLS(LHS[\"1963-07\":end][col]-F[\"1963-07\":end][\"rf\"],\n",
    "                       sm.add_constant(F[\"1963-07\":end][factors]))\n",
    "        fit = model.fit()\n",
    "        # get the coefficients and their p-values\n",
    "        col_coef = list(fit.params)\n",
    "        col_tval = list(fit.tvalues)\n",
    "\n",
    "        for i, coef in enumerate(coef_names):\n",
    "            coef_list[i][\"coef\"].append(round(col_coef[i], 2))\n",
    "            coef_list[i][\"tval\"].append(round(col_tval[i], 2))\n",
    "            \n",
    "            if coef_list[i][\"name\"]==\"a\":\n",
    "                alphas.append(col_coef[i])\n",
    "\n",
    "    for i, coef in enumerate(coef_names):\n",
    "        coef_list[i][\"coef\"] = pd.np.array(coef_list[i][\"coef\"]).reshape(k,k).tolist()\n",
    "        coef_list[i][\"tval\"] = pd.np.array(coef_list[i][\"tval\"]).reshape(k,k).tolist()\n",
    "    \n",
    "    return coef_list, alphas"
   ]
  },
  {
   "cell_type": "code",
   "execution_count": 9,
   "metadata": {},
   "outputs": [],
   "source": [
    "import jinja2\n",
    "import os\n",
    "\n",
    "path = \"C:/Users/samth/Dropbox/Thesis/Tex/Tables/\"\n",
    "\n",
    "env = jinja2.Environment(\n",
    "    block_start_string='-%', block_end_string='%-',\n",
    "    variable_start_string='=%', variable_end_string='%=',\n",
    "    loader=jinja2.FileSystemLoader(path)\n",
    ")"
   ]
  },
  {
   "cell_type": "code",
   "execution_count": 10,
   "metadata": {},
   "outputs": [],
   "source": [
    "template = env.get_template(\"5x5_template.txt\")"
   ]
  },
  {
   "cell_type": "markdown",
   "metadata": {},
   "source": [
    "### Size-Value (Replication)"
   ]
  },
  {
   "cell_type": "markdown",
   "metadata": {},
   "source": [
    "#### French Dartmouth Anomaly"
   ]
  },
  {
   "cell_type": "code",
   "execution_count": null,
   "metadata": {},
   "outputs": [],
   "source": [
    "size_value = pd.read_csv(\"C:/Data/FrenchDartmouth/25_Portfolios_5x5.CSV\")\n",
    "size_value = size_value.iloc[:642, 1:]\n",
    "size_value.index = F.index"
   ]
  },
  {
   "cell_type": "code",
   "execution_count": null,
   "metadata": {},
   "outputs": [],
   "source": [
    "a = size_value\n",
    "\"{:.2f}, {:.2f}, {:.2f}, {:.2f}\".format(GRS(a, F, ff2015), GRS(a, F, ff2016a), GRS(a, F, ff2016b), GRS(a, F, bs2015))"
   ]
  },
  {
   "cell_type": "markdown",
   "metadata": {},
   "source": [
    "#### FF2015"
   ]
  },
  {
   "cell_type": "code",
   "execution_count": null,
   "metadata": {},
   "outputs": [],
   "source": [
    "coef_list, alphas = model_coef_list(ff2015, size_value, \"2013\")"
   ]
  },
  {
   "cell_type": "code",
   "execution_count": null,
   "metadata": {},
   "outputs": [],
   "source": [
    "context = {\n",
    "    \"var_name\": \"B/M\",\n",
    "    \"title\": r'R^i=a^i+\\beta^iMkt+s^iSize+v^iVal+p^iProf+i^iInv',\n",
    "    \"tbl\": coef_list,\n",
    "    \"caption\": r\"Size-Value Portfolios with FF2015 Factors. \\footnotesize{July, 1963 through December, 2013 (606 Months).}\",\n",
    "    \"label\": \"tbl:25_Size_Value_FF2015_FF\"\n",
    "}"
   ]
  },
  {
   "cell_type": "code",
   "execution_count": null,
   "metadata": {},
   "outputs": [],
   "source": [
    "with open(os.path.join(path, \"25_Size_Value_FF2015_FF_196307_201312.tex\"), \"w\") as table:\n",
    "    table.write(template.render(context))"
   ]
  },
  {
   "cell_type": "markdown",
   "metadata": {},
   "source": [
    "#### My Anomaly"
   ]
  },
  {
   "cell_type": "code",
   "execution_count": null,
   "metadata": {},
   "outputs": [],
   "source": [
    "size_value = pd.read_csv(\"C:/Data/Thesis/ME_BM_al_25_Returns.csv\")\n",
    "size_value = size_value.iloc[:642, 1:]\n",
    "size_value.index = F.index"
   ]
  },
  {
   "cell_type": "code",
   "execution_count": null,
   "metadata": {},
   "outputs": [],
   "source": [
    "# I am missing values for all of 1963 for the Small-LoBM Portfolio\n",
    "size_value = size_value.fillna(0)"
   ]
  },
  {
   "cell_type": "markdown",
   "metadata": {},
   "source": [
    "#### FF2015"
   ]
  },
  {
   "cell_type": "code",
   "execution_count": null,
   "metadata": {},
   "outputs": [],
   "source": [
    "coef_list, alphas = model_coef_list([\"rm\", \"SMB\", \"HMLo\", \"RMW\", \"CMA\"], size_value, \"2013\")"
   ]
  },
  {
   "cell_type": "code",
   "execution_count": null,
   "metadata": {},
   "outputs": [],
   "source": [
    "context = {\n",
    "    \"var_name\": \"B/M\",\n",
    "    \"title\": r'R^i=a^i+\\beta^iMkt+s^iSize+v^iVal+p^iProf+i^iInv',\n",
    "    \"tbl\": coef_list,\n",
    "    \"caption\": r\"Replicated Size-Value Portfolios with FF2015 Factors. \\footnotesize{July, 1963 through December, 2013 (606 Months).}\",\n",
    "    \"label\": \"tbl:25_Size_Value_FF2015\"\n",
    "}"
   ]
  },
  {
   "cell_type": "code",
   "execution_count": null,
   "metadata": {},
   "outputs": [],
   "source": [
    "with open(os.path.join(path, \"25_Size_Value_FF2015_196307_201312.tex\"), \"w\") as table:\n",
    "    table.write(template.render(context))"
   ]
  },
  {
   "cell_type": "markdown",
   "metadata": {},
   "source": [
    "### Size-Investment"
   ]
  },
  {
   "cell_type": "code",
   "execution_count": null,
   "metadata": {},
   "outputs": [],
   "source": [
    "a = pd.read_csv(\"C:/Data/FrenchDartmouth/25_Portfolios_ME_INV_5x5.CSV\")\n",
    "a = a.iloc[:642, 1:]\n",
    "a.index = F.index"
   ]
  },
  {
   "cell_type": "code",
   "execution_count": null,
   "metadata": {},
   "outputs": [],
   "source": [
    "\"{:.2f}, {:.2f}, {:.2f}, {:.2f}\".format(GRS(a, F, ff2015), GRS(a, F, ff2016a), GRS(a, F, ff2016b), GRS(a, F, bs2015))"
   ]
  },
  {
   "cell_type": "markdown",
   "metadata": {},
   "source": [
    "#### FF2015"
   ]
  },
  {
   "cell_type": "code",
   "execution_count": null,
   "metadata": {},
   "outputs": [],
   "source": [
    "coef_list, alphas = model_coef_list(ff2015, a, \"2016\")"
   ]
  },
  {
   "cell_type": "code",
   "execution_count": null,
   "metadata": {},
   "outputs": [],
   "source": [
    "context = {\n",
    "    \"var_name\": \"Inv\",\n",
    "    \"title\": r'R^i=a^i+\\beta^iMkt+s^iSize+v^iVal+p^iProf+i^iInv',\n",
    "    \"tbl\": coef_list,\n",
    "    \"caption\": r\"Size-Inv Portfolios with FF2015 Factors. \\footnotesize{July, 1963 through December, 2016 (642 Months).}\",\n",
    "    \"label\": \"tbl:25_Size_Inv_FF2015\"\n",
    "}"
   ]
  },
  {
   "cell_type": "code",
   "execution_count": null,
   "metadata": {},
   "outputs": [],
   "source": [
    "with open(os.path.join(path, \"25_Size_Inv_FF2015_196307_201612.tex\"), \"w\") as table:\n",
    "    table.write(template.render(context))"
   ]
  },
  {
   "cell_type": "markdown",
   "metadata": {},
   "source": [
    "#### FF2016a"
   ]
  },
  {
   "cell_type": "code",
   "execution_count": null,
   "metadata": {},
   "outputs": [],
   "source": [
    "GRS(a, F, bs2015)"
   ]
  },
  {
   "cell_type": "code",
   "execution_count": null,
   "metadata": {},
   "outputs": [],
   "source": [
    "coef_list, alphas = model_coef_list(ff2016a, a, \"2016\")"
   ]
  },
  {
   "cell_type": "code",
   "execution_count": null,
   "metadata": {},
   "outputs": [],
   "source": [
    "context = {\n",
    "    \"var_name\": \"Inv\",\n",
    "    \"title\": r'R^i=a^i+\\beta^iMkt+s^iSize+v^iVal+p^iProf+i^iInv',\n",
    "    \"tbl\": coef_list,\n",
    "    \"caption\": r\"Size-Inv Portfolios with FF2016a Factors.\\footnotesize{July, 1963 through December, 2016 (642 Months).}\",\n",
    "    \"label\": \"tbl:25_Size_Inv_FF2016a\"\n",
    "}"
   ]
  },
  {
   "cell_type": "code",
   "execution_count": null,
   "metadata": {},
   "outputs": [],
   "source": [
    "with open(os.path.join(path, \"25_Size_Inv_FF2016a_196307_201612.tex\"), \"w\") as table:\n",
    "    table.write(template.render(context))"
   ]
  },
  {
   "cell_type": "markdown",
   "metadata": {},
   "source": [
    "#### FF2016b"
   ]
  },
  {
   "cell_type": "code",
   "execution_count": null,
   "metadata": {},
   "outputs": [],
   "source": [
    "coef_list, alphas = model_coef_list(ff2016b, a, \"2016\")"
   ]
  },
  {
   "cell_type": "code",
   "execution_count": null,
   "metadata": {},
   "outputs": [],
   "source": [
    "context = {\n",
    "    \"var_name\": \"Inv\",\n",
    "    \"title\": r'R^i=a^i+\\beta^iMkt+s^iSize+v^iVal+p^iProf+i^iInv',\n",
    "    \"tbl\": coef_list,\n",
    "    \"caption\": r\"Size-Inv Portfolios with FF2016b Factors. \\footnotesize{July, 1963 through December, 2016 (642 Months).}\",\n",
    "    \"label\": \"tbl:25_Size_Inv_FF2016b\"\n",
    "}"
   ]
  },
  {
   "cell_type": "code",
   "execution_count": null,
   "metadata": {},
   "outputs": [],
   "source": [
    "with open(os.path.join(path, \"25_Size_Inv_FF2016b_196307_201612.tex\"), \"w\") as table:\n",
    "    table.write(template.render(context))"
   ]
  },
  {
   "cell_type": "markdown",
   "metadata": {},
   "source": [
    "#### BS2015"
   ]
  },
  {
   "cell_type": "code",
   "execution_count": null,
   "metadata": {},
   "outputs": [],
   "source": [
    "coef_list, alphas = model_coef_list(bs2015, a, \"2016\")"
   ]
  },
  {
   "cell_type": "code",
   "execution_count": null,
   "metadata": {},
   "outputs": [],
   "source": [
    "context = {\n",
    "    \"var_name\": \"Inv\",\n",
    "    \"title\": r'R^i=a^i+\\beta^iMkt+s^iSize+v^iVal+m^iMom+p^iProf',\n",
    "    \"tbl\": coef_list,\n",
    "    \"caption\": r\"Size-Inv Portfolios with BS2015 Factors. \\footnotesize{July, 1963 through December, 2016 (642 Months).}\",\n",
    "    \"label\": \"tbl:25_Size_Inv_BS2015\"\n",
    "}"
   ]
  },
  {
   "cell_type": "code",
   "execution_count": null,
   "metadata": {},
   "outputs": [],
   "source": [
    "with open(os.path.join(path, \"25_Size_Inv_BS2015_196307_201612.tex\"), \"w\") as table:\n",
    "    table.write(template.render(context))"
   ]
  },
  {
   "cell_type": "markdown",
   "metadata": {},
   "source": [
    "### Size-Volatility"
   ]
  },
  {
   "cell_type": "code",
   "execution_count": null,
   "metadata": {},
   "outputs": [],
   "source": [
    "a = pd.read_csv(\"C:/Data/FrenchDartmouth/25_Portfolios_ME_VAR_5x5.CSV\")\n",
    "a = a.iloc[:642, 1:]\n",
    "a.index = F.index"
   ]
  },
  {
   "cell_type": "code",
   "execution_count": null,
   "metadata": {},
   "outputs": [],
   "source": [
    "\"{:.2f}, {:.2f}, {:.2f}, {:.2f}\".format(GRS(a, F, ff2015), GRS(a, F, ff2016a), GRS(a, F, ff2016b), GRS(a, F, bs2015))"
   ]
  },
  {
   "cell_type": "markdown",
   "metadata": {},
   "source": [
    "#### FF2015"
   ]
  },
  {
   "cell_type": "code",
   "execution_count": null,
   "metadata": {},
   "outputs": [],
   "source": [
    "coef_list, alphas = model_coef_list(ff2015, a, \"2016\")"
   ]
  },
  {
   "cell_type": "code",
   "execution_count": null,
   "metadata": {},
   "outputs": [],
   "source": [
    "context = {\n",
    "    \"var_name\": \"Vol\",\n",
    "    \"title\": r'R^i=a^i+\\beta^iMkt+s^iSize+v^iVal+p^iProf+i^iInv',\n",
    "    \"tbl\": coef_list,\n",
    "    \"caption\": r\"Size-Vol Portfolios with FF2015 Factors. \\footnotesize{July, 1963 through December, 2016 (642 Months).}\",\n",
    "    \"label\": \"tbl:25_Size_Vol_FF2015\"\n",
    "}"
   ]
  },
  {
   "cell_type": "code",
   "execution_count": null,
   "metadata": {},
   "outputs": [],
   "source": [
    "with open(os.path.join(path, \"25_Size_Vol_FF2015_196307_201612.tex\"), \"w\") as table:\n",
    "    table.write(template.render(context))"
   ]
  },
  {
   "cell_type": "markdown",
   "metadata": {},
   "source": [
    "#### FF2016a"
   ]
  },
  {
   "cell_type": "code",
   "execution_count": null,
   "metadata": {},
   "outputs": [],
   "source": [
    "coef_list, alphas = model_coef_list(ff2016a, a, \"2016\")"
   ]
  },
  {
   "cell_type": "code",
   "execution_count": null,
   "metadata": {},
   "outputs": [],
   "source": [
    "context = {\n",
    "    \"var_name\": \"Vol\",\n",
    "    \"title\": r'R^i=a^i+\\beta^iMkt+s^iSize+v^iVal+p^iProf+i^iInv',\n",
    "    \"tbl\": coef_list,\n",
    "    \"caption\": r\"Size-Vol Portfolios with FF2016a Factors.\\footnotesize{July, 1963 through December, 2016 (642 Months).}\",\n",
    "    \"label\": \"tbl:25_Size_Vol_FF2016a\"\n",
    "}"
   ]
  },
  {
   "cell_type": "code",
   "execution_count": null,
   "metadata": {},
   "outputs": [],
   "source": [
    "with open(os.path.join(path, \"25_Size_Vol_FF2016a_196307_201612.tex\"), \"w\") as table:\n",
    "    table.write(template.render(context))"
   ]
  },
  {
   "cell_type": "markdown",
   "metadata": {},
   "source": [
    "#### FF2016b"
   ]
  },
  {
   "cell_type": "code",
   "execution_count": null,
   "metadata": {},
   "outputs": [],
   "source": [
    "coef_list, alphas = model_coef_list(ff2016b, a, \"2016\")"
   ]
  },
  {
   "cell_type": "code",
   "execution_count": null,
   "metadata": {},
   "outputs": [],
   "source": [
    "context = {\n",
    "    \"var_name\": \"Vol\",\n",
    "    \"title\": r'R^i=a^i+\\beta^iMkt+s^iSize+v^iVal+p^iProf+i^iInv',\n",
    "    \"tbl\": coef_list,\n",
    "    \"caption\": r\"Size-Vol Portfolios with FF2016b Factors. \\footnotesize{July, 1963 through December, 2016 (642 Months).}\",\n",
    "    \"label\": \"tbl:25_Size_Vol_FF2016b\"\n",
    "}"
   ]
  },
  {
   "cell_type": "code",
   "execution_count": null,
   "metadata": {},
   "outputs": [],
   "source": [
    "with open(os.path.join(path, \"25_Size_Vol_FF2016b_196307_201612.tex\"), \"w\") as table:\n",
    "    table.write(template.render(context))"
   ]
  },
  {
   "cell_type": "markdown",
   "metadata": {},
   "source": [
    "#### BS2015"
   ]
  },
  {
   "cell_type": "code",
   "execution_count": null,
   "metadata": {},
   "outputs": [],
   "source": [
    "coef_list, alphas = model_coef_list(bs2015, a, \"2016\")"
   ]
  },
  {
   "cell_type": "code",
   "execution_count": null,
   "metadata": {},
   "outputs": [],
   "source": [
    "context = {\n",
    "    \"var_name\": \"Vol\",\n",
    "    \"title\": r'R^i=a^i+\\beta^iMkt+s^iSize+v^iVal+m^iMom+p^iProf',\n",
    "    \"tbl\": coef_list,\n",
    "    \"caption\": r\"Size-Vol Portfolios with BS2015 Factors. \\footnotesize{July, 1963 through December, 2016 (642 Months).}\",\n",
    "    \"label\": \"tbl:25_Size_Vol_BS2015\"\n",
    "}"
   ]
  },
  {
   "cell_type": "code",
   "execution_count": null,
   "metadata": {},
   "outputs": [],
   "source": [
    "with open(os.path.join(path, \"25_Size_Vol_BS2015_196307_201612.tex\"), \"w\") as table:\n",
    "    table.write(template.render(context))"
   ]
  },
  {
   "cell_type": "markdown",
   "metadata": {},
   "source": [
    "### Size-Volatility"
   ]
  },
  {
   "cell_type": "code",
   "execution_count": 13,
   "metadata": {},
   "outputs": [],
   "source": [
    "a = pd.read_csv(\"C:/Data/FrenchDartmouth/25_Portfolios_ME_Prior_12_2.CSV\")\n",
    "a = a.iloc[:642, 1:]\n",
    "a.index = F.index"
   ]
  },
  {
   "cell_type": "code",
   "execution_count": 14,
   "metadata": {},
   "outputs": [
    {
     "data": {
      "text/plain": [
       "'4.44, 4.19, 4.22, 3.70'"
      ]
     },
     "execution_count": 14,
     "metadata": {},
     "output_type": "execute_result"
    }
   ],
   "source": [
    "\"{:.2f}, {:.2f}, {:.2f}, {:.2f}\".format(GRS(a, F, ff2015), GRS(a, F, ff2016a), GRS(a, F, ff2016b), GRS(a, F, bs2015))"
   ]
  },
  {
   "cell_type": "markdown",
   "metadata": {},
   "source": [
    "#### FF2015"
   ]
  },
  {
   "cell_type": "code",
   "execution_count": 15,
   "metadata": {},
   "outputs": [],
   "source": [
    "coef_list, alphas = model_coef_list(ff2015, a, \"2016\")"
   ]
  },
  {
   "cell_type": "code",
   "execution_count": 16,
   "metadata": {},
   "outputs": [],
   "source": [
    "context = {\n",
    "    \"var_name\": \"Mom\",\n",
    "    \"title\": r'R^i=a^i+\\beta^iMkt+s^iSize+v^iVal+p^iProf+i^iInv',\n",
    "    \"tbl\": coef_list,\n",
    "    \"caption\": r\"Size-Mom Portfolios with FF2015 Factors. \\footnotesize{July, 1963 through December, 2016 (642 Months).}\",\n",
    "    \"label\": \"tbl:25_Size_Mom_FF2015\"\n",
    "}"
   ]
  },
  {
   "cell_type": "code",
   "execution_count": 17,
   "metadata": {},
   "outputs": [],
   "source": [
    "with open(os.path.join(path, \"25_Size_Mom_FF2015_196307_201612.tex\"), \"w\") as table:\n",
    "    table.write(template.render(context))"
   ]
  },
  {
   "cell_type": "markdown",
   "metadata": {},
   "source": [
    "#### FF2016a"
   ]
  },
  {
   "cell_type": "code",
   "execution_count": 18,
   "metadata": {},
   "outputs": [],
   "source": [
    "coef_list, alphas = model_coef_list(ff2016a, a, \"2016\")"
   ]
  },
  {
   "cell_type": "code",
   "execution_count": 19,
   "metadata": {},
   "outputs": [],
   "source": [
    "context = {\n",
    "    \"var_name\": \"Mom\",\n",
    "    \"title\": r'R^i=a^i+\\beta^iMkt+s^iSize+v^iVal+p^iProf+i^iInv',\n",
    "    \"tbl\": coef_list,\n",
    "    \"caption\": r\"Size-Mom Portfolios with FF2016a Factors.\\footnotesize{July, 1963 through December, 2016 (642 Months).}\",\n",
    "    \"label\": \"tbl:25_Size_Mom_FF2016a\"\n",
    "}"
   ]
  },
  {
   "cell_type": "code",
   "execution_count": 20,
   "metadata": {},
   "outputs": [],
   "source": [
    "with open(os.path.join(path, \"25_Size_Mom_FF2016a_196307_201612.tex\"), \"w\") as table:\n",
    "    table.write(template.render(context))"
   ]
  },
  {
   "cell_type": "markdown",
   "metadata": {},
   "source": [
    "#### FF2016b"
   ]
  },
  {
   "cell_type": "code",
   "execution_count": 21,
   "metadata": {},
   "outputs": [],
   "source": [
    "coef_list, alphas = model_coef_list(ff2016b, a, \"2016\")"
   ]
  },
  {
   "cell_type": "code",
   "execution_count": 22,
   "metadata": {},
   "outputs": [],
   "source": [
    "context = {\n",
    "    \"var_name\": \"Mom\",\n",
    "    \"title\": r'R^i=a^i+\\beta^iMkt+s^iSize+v^iVal+p^iProf+i^iInv',\n",
    "    \"tbl\": coef_list,\n",
    "    \"caption\": r\"Size-Mom Portfolios with FF2016b Factors. \\footnotesize{July, 1963 through December, 2016 (642 Months).}\",\n",
    "    \"label\": \"tbl:25_Size_Mom_FF2016b\"\n",
    "}"
   ]
  },
  {
   "cell_type": "code",
   "execution_count": 23,
   "metadata": {},
   "outputs": [],
   "source": [
    "with open(os.path.join(path, \"25_Size_Mom_FF2016b_196307_201612.tex\"), \"w\") as table:\n",
    "    table.write(template.render(context))"
   ]
  },
  {
   "cell_type": "markdown",
   "metadata": {},
   "source": [
    "#### BS2015"
   ]
  },
  {
   "cell_type": "code",
   "execution_count": 24,
   "metadata": {},
   "outputs": [],
   "source": [
    "coef_list, alphas = model_coef_list(bs2015, a, \"2016\")"
   ]
  },
  {
   "cell_type": "code",
   "execution_count": 25,
   "metadata": {},
   "outputs": [],
   "source": [
    "context = {\n",
    "    \"var_name\": \"Mom\",\n",
    "    \"title\": r'R^i=a^i+\\beta^iMkt+s^iSize+v^iVal+m^iMom+p^iProf',\n",
    "    \"tbl\": coef_list,\n",
    "    \"caption\": r\"Size-Mom Portfolios with BS2015 Factors. \\footnotesize{July, 1963 through December, 2016 (642 Months).}\",\n",
    "    \"label\": \"tbl:25_Size_Mom_BS2015\"\n",
    "}"
   ]
  },
  {
   "cell_type": "code",
   "execution_count": 26,
   "metadata": {},
   "outputs": [],
   "source": [
    "with open(os.path.join(path, \"25_Size_Mom_BS2015_196307_201612.tex\"), \"w\") as table:\n",
    "    table.write(template.render(context))"
   ]
  },
  {
   "cell_type": "markdown",
   "metadata": {},
   "source": [
    "### Size-Profit"
   ]
  },
  {
   "cell_type": "code",
   "execution_count": null,
   "metadata": {},
   "outputs": [],
   "source": [
    "a = pd.read_csv(\"C:/Data/FrenchDartmouth/25_Portfolios_ME_OP_5x5.CSV\")\n",
    "a = a.iloc[:642, 1:]\n",
    "a.index = F.index"
   ]
  },
  {
   "cell_type": "code",
   "execution_count": null,
   "metadata": {},
   "outputs": [],
   "source": [
    "\"{:.2f}, {:.2f}, {:.2f}, {:.2f}\".format(GRS(a, F, ff2015), GRS(a, F, ff2016a), GRS(a, F, ff2016b), GRS(a, F, bs2015))"
   ]
  },
  {
   "cell_type": "markdown",
   "metadata": {},
   "source": [
    "#### FF2015"
   ]
  },
  {
   "cell_type": "code",
   "execution_count": null,
   "metadata": {},
   "outputs": [],
   "source": [
    "coef_list, alphas = model_coef_list(ff2015, a, \"2016\")"
   ]
  },
  {
   "cell_type": "code",
   "execution_count": null,
   "metadata": {},
   "outputs": [],
   "source": [
    "context = {\n",
    "    \"var_name\": \"OP\",\n",
    "    \"title\": r'R^i=a^i+\\beta^iMkt+s^iSize+v^iVal+p^iProf+i^iInv',\n",
    "    \"tbl\": coef_list,\n",
    "    \"caption\": r\"Size-OP Portfolios with FF2015 Factors. \\footnotesize{July, 1963 through December, 2016 (642 Months).}\",\n",
    "    \"label\": \"tbl:25_Size_OP_FF2015\"\n",
    "}"
   ]
  },
  {
   "cell_type": "code",
   "execution_count": null,
   "metadata": {},
   "outputs": [],
   "source": [
    "with open(os.path.join(path, \"25_Size_OP_FF2015_196307_201612.tex\"), \"w\") as table:\n",
    "    table.write(template.render(context))"
   ]
  },
  {
   "cell_type": "markdown",
   "metadata": {},
   "source": [
    "#### FF2016a"
   ]
  },
  {
   "cell_type": "code",
   "execution_count": null,
   "metadata": {},
   "outputs": [],
   "source": [
    "coef_list, alphas = model_coef_list(ff2016a, a, \"2016\")"
   ]
  },
  {
   "cell_type": "code",
   "execution_count": null,
   "metadata": {},
   "outputs": [],
   "source": [
    "context = {\n",
    "    \"var_name\": \"OP\",\n",
    "    \"title\": r'R^i=a^i+\\beta^iMkt+s^iSize+v^iVal+p^iProf+i^iInv',\n",
    "    \"tbl\": coef_list,\n",
    "    \"caption\": r\"Size-OP Portfolios with FF2016a Factors.\\footnotesize{July, 1963 through December, 2016 (642 Months).}\",\n",
    "    \"label\": \"tbl:25_Size_OP_FF2016a\"\n",
    "}"
   ]
  },
  {
   "cell_type": "code",
   "execution_count": null,
   "metadata": {},
   "outputs": [],
   "source": [
    "with open(os.path.join(path, \"25_Size_OP_FF2016a_196307_201612.tex\"), \"w\") as table:\n",
    "    table.write(template.render(context))"
   ]
  },
  {
   "cell_type": "markdown",
   "metadata": {},
   "source": [
    "#### FF2016b"
   ]
  },
  {
   "cell_type": "code",
   "execution_count": null,
   "metadata": {},
   "outputs": [],
   "source": [
    "coef_list, alphas = model_coef_list(ff2016b, a, \"2016\")"
   ]
  },
  {
   "cell_type": "code",
   "execution_count": null,
   "metadata": {},
   "outputs": [],
   "source": [
    "context = {\n",
    "    \"var_name\": \"OP\",\n",
    "    \"title\": r'R^i=a^i+\\beta^iMkt+s^iSize+v^iVal+p^iProf+i^iInv',\n",
    "    \"tbl\": coef_list,\n",
    "    \"caption\": r\"Size-OP Portfolios with FF2016b Factors. \\footnotesize{July, 1963 through December, 2016 (642 Months).}\",\n",
    "    \"label\": \"tbl:25_Size_OP_FF2016b\"\n",
    "}"
   ]
  },
  {
   "cell_type": "code",
   "execution_count": null,
   "metadata": {},
   "outputs": [],
   "source": [
    "with open(os.path.join(path, \"25_Size_OP_FF2016b_196307_201612.tex\"), \"w\") as table:\n",
    "    table.write(template.render(context))"
   ]
  },
  {
   "cell_type": "markdown",
   "metadata": {},
   "source": [
    "#### BS2015"
   ]
  },
  {
   "cell_type": "code",
   "execution_count": null,
   "metadata": {},
   "outputs": [],
   "source": [
    "coef_list, alphas = model_coef_list(bs2015, a, \"2016\")"
   ]
  },
  {
   "cell_type": "code",
   "execution_count": null,
   "metadata": {},
   "outputs": [],
   "source": [
    "context = {\n",
    "    \"var_name\": \"OP\",\n",
    "    \"title\": r'R^i=a^i+\\beta^iMkt+s^iSize+v^iVal+m^iMom+p^iProf',\n",
    "    \"tbl\": coef_list,\n",
    "    \"caption\": r\"Size-OP Portfolios with BS2015 Factors. \\footnotesize{July, 1963 through December, 2016 (642 Months).}\",\n",
    "    \"label\": \"tbl:25_Size_OP_BS2015\"\n",
    "}"
   ]
  },
  {
   "cell_type": "code",
   "execution_count": null,
   "metadata": {},
   "outputs": [],
   "source": [
    "with open(os.path.join(path, \"25_Size_OP_BS2015_196307_201612.tex\"), \"w\") as table:\n",
    "    table.write(template.render(context))"
   ]
  },
  {
   "cell_type": "markdown",
   "metadata": {},
   "source": [
    "### Size-Profit-Inv"
   ]
  },
  {
   "cell_type": "code",
   "execution_count": null,
   "metadata": {},
   "outputs": [],
   "source": [
    "a = pd.read_csv(\"C:/Data/FrenchDartmouth/32_Portfolios_ME_OP_INV_2x4x4.CSV\")\n",
    "a = a.iloc[:642, 1:]\n",
    "a.index = F.index\n",
    "\n",
    "#A = A.merge(a, left_index=True, right_index=True)\n",
    "\n",
    "\"{:.2f}, {:.2f}, {:.2f}, {:.2f}\".format(GRS(a, F, ff2015), GRS(a, F, ff2016a), GRS(a, F, ff2016b), GRS(a, F, bs2015))"
   ]
  },
  {
   "cell_type": "markdown",
   "metadata": {},
   "source": [
    "# 2x4x4 TEMPLATE"
   ]
  },
  {
   "cell_type": "markdown",
   "metadata": {},
   "source": [
    "#### FF2015"
   ]
  },
  {
   "cell_type": "code",
   "execution_count": null,
   "metadata": {},
   "outputs": [],
   "source": [
    "coef_list, alphas = model_coef_list(ff2015, a, \"2016\")"
   ]
  },
  {
   "cell_type": "code",
   "execution_count": null,
   "metadata": {},
   "outputs": [],
   "source": [
    "context = {\n",
    "    \"var_name\": \"OP\",\n",
    "    \"title\": r'R^i=a^i+\\beta^iMkt+s^iSize+v^iVal+p^iProf+i^iInv',\n",
    "    \"tbl\": coef_list,\n",
    "    \"caption\": r\"Size-OP Portfolios with FF2015 Factors. \\footnotesize{July, 1963 through December, 2016 (642 Months).}\",\n",
    "    \"label\": \"tbl:25_Size_OP_FF2015\"\n",
    "}"
   ]
  },
  {
   "cell_type": "code",
   "execution_count": null,
   "metadata": {},
   "outputs": [],
   "source": [
    "with open(os.path.join(path, \"25_Size_OP_FF2015_196307_201612.tex\"), \"w\") as table:\n",
    "    table.write(template.render(context))"
   ]
  },
  {
   "cell_type": "markdown",
   "metadata": {},
   "source": [
    "#### FF2016a"
   ]
  },
  {
   "cell_type": "code",
   "execution_count": null,
   "metadata": {},
   "outputs": [],
   "source": [
    "coef_list, alphas = model_coef_list(ff2016a, a, \"2016\")"
   ]
  },
  {
   "cell_type": "code",
   "execution_count": null,
   "metadata": {},
   "outputs": [],
   "source": [
    "context = {\n",
    "    \"var_name\": \"OP\",\n",
    "    \"title\": r'R^i=a^i+\\beta^iMkt+s^iSize+v^iVal+p^iProf+i^iInv',\n",
    "    \"tbl\": coef_list,\n",
    "    \"caption\": r\"Size-OP Portfolios with FF2016a Factors.\\footnotesize{July, 1963 through December, 2016 (642 Months).}\",\n",
    "    \"label\": \"tbl:25_Size_OP_FF2016a\"\n",
    "}"
   ]
  },
  {
   "cell_type": "code",
   "execution_count": null,
   "metadata": {},
   "outputs": [],
   "source": [
    "with open(os.path.join(path, \"25_Size_OP_FF2016a_196307_201612.tex\"), \"w\") as table:\n",
    "    table.write(template.render(context))"
   ]
  },
  {
   "cell_type": "markdown",
   "metadata": {},
   "source": [
    "#### FF2016b"
   ]
  },
  {
   "cell_type": "code",
   "execution_count": null,
   "metadata": {},
   "outputs": [],
   "source": [
    "coef_list, alphas = model_coef_list(ff2016b, a, \"2016\")"
   ]
  },
  {
   "cell_type": "code",
   "execution_count": null,
   "metadata": {},
   "outputs": [],
   "source": [
    "context = {\n",
    "    \"var_name\": \"OP\",\n",
    "    \"title\": r'R^i=a^i+\\beta^iMkt+s^iSize+v^iVal+p^iProf+i^iInv',\n",
    "    \"tbl\": coef_list,\n",
    "    \"caption\": r\"Size-OP Portfolios with FF2016b Factors. \\footnotesize{July, 1963 through December, 2016 (642 Months).}\",\n",
    "    \"label\": \"tbl:25_Size_OP_FF2016b\"\n",
    "}"
   ]
  },
  {
   "cell_type": "code",
   "execution_count": null,
   "metadata": {},
   "outputs": [],
   "source": [
    "with open(os.path.join(path, \"25_Size_OP_FF2016b_196307_201612.tex\"), \"w\") as table:\n",
    "    table.write(template.render(context))"
   ]
  },
  {
   "cell_type": "markdown",
   "metadata": {},
   "source": [
    "#### BS2015"
   ]
  },
  {
   "cell_type": "code",
   "execution_count": null,
   "metadata": {},
   "outputs": [],
   "source": [
    "coef_list, alphas = model_coef_list(bs2015, a, \"2016\")"
   ]
  },
  {
   "cell_type": "code",
   "execution_count": null,
   "metadata": {},
   "outputs": [],
   "source": [
    "context = {\n",
    "    \"var_name\": \"OP\",\n",
    "    \"title\": r'R^i=a^i+\\beta^iMkt+s^iSize+v^iVal+m^iMom+p^iProf',\n",
    "    \"tbl\": coef_list,\n",
    "    \"caption\": r\"Size-OP Portfolios with BS2015 Factors. \\footnotesize{July, 1963 through December, 2016 (642 Months).}\",\n",
    "    \"label\": \"tbl:25_Size_OP_BS2015\"\n",
    "}"
   ]
  },
  {
   "cell_type": "code",
   "execution_count": null,
   "metadata": {},
   "outputs": [],
   "source": [
    "with open(os.path.join(path, \"25_Size_OP_BS2015_196307_201612.tex\"), \"w\") as table:\n",
    "    table.write(template.render(context))"
   ]
  },
  {
   "cell_type": "markdown",
   "metadata": {},
   "source": [
    "# All Anomalies"
   ]
  },
  {
   "cell_type": "code",
   "execution_count": null,
   "metadata": {},
   "outputs": [],
   "source": [
    "a = pd.read_csv(\"C:/Data/FrenchDartmouth/32_Portfolios_ME_BEME_INV_2x4x4.CSV\")\n",
    "a = a.iloc[:642, 1:]\n",
    "a.index = F.index\n",
    "\n",
    "A = a\n",
    "\n",
    "\"{:.2f}, {:.2f}, {:.2f}, {:.2f}\".format(GRS(a, F, ff2015), GRS(a, F, ff2016a), GRS(a, F, ff2016b), GRS(a, F, bs2015))"
   ]
  },
  {
   "cell_type": "code",
   "execution_count": null,
   "metadata": {},
   "outputs": [],
   "source": [
    "a = pd.read_csv(\"C:/Data/FrenchDartmouth/32_Portfolios_ME_OP_INV_2x4x4.CSV\")\n",
    "a = a.iloc[:642, 1:]\n",
    "a.index = F.index\n",
    "\n",
    "A = A.merge(a, left_index=True, right_index=True)\n",
    "\n",
    "\"{:.2f}, {:.2f}, {:.2f}, {:.2f}\".format(GRS(a, F, ff2015), GRS(a, F, ff2016a), GRS(a, F, ff2016b), GRS(a, F, bs2015))"
   ]
  },
  {
   "cell_type": "code",
   "execution_count": null,
   "metadata": {},
   "outputs": [],
   "source": [
    "a = pd.read_csv(\"C:/Data/FrenchDartmouth/32_Portfolios_ME_BEME_OP_2x4x4.CSV\")\n",
    "a = a.iloc[:642, 1:]\n",
    "a.index = F.index\n",
    "\n",
    "A = A.merge(a, left_index=True, right_index=True)\n",
    "\n",
    "\"{:.2f}, {:.2f}, {:.2f}, {:.2f}\".format(GRS(a, F, ff2015), GRS(a, F, ff2016a), GRS(a, F, ff2016b), GRS(a, F, bs2015))"
   ]
  },
  {
   "cell_type": "code",
   "execution_count": null,
   "metadata": {},
   "outputs": [],
   "source": [
    "a = pd.read_csv(\"C:/Data/FrenchDartmouth/25_Portfolios_5x5.CSV\")\n",
    "a = a.iloc[:642, 1:]\n",
    "a.index = F.index\n",
    "\n",
    "A = A.merge(a, left_index=True, right_index=True)\n",
    "\n",
    "\"{:.2f}, {:.2f}, {:.2f}, {:.2f}\".format(GRS(a, F, ff2015), GRS(a, F, ff2016a), GRS(a, F, ff2016b), GRS(a, F, bs2015))"
   ]
  },
  {
   "cell_type": "code",
   "execution_count": null,
   "metadata": {},
   "outputs": [],
   "source": [
    "a = pd.read_csv(\"C:/Data/FrenchDartmouth/25_Portfolios_ME_OP_5x5.csv\")\n",
    "a = a.iloc[:642, 1:]\n",
    "a.index = F.index\n",
    "\n",
    "A = A.merge(a, left_index=True, right_index=True)\n",
    "\n",
    "\"{:.2f}, {:.2f}, {:.2f}, {:.2f}\".format(GRS(a, F, ff2015), GRS(a, F, ff2016a), GRS(a, F, ff2016b), GRS(a, F, bs2015))"
   ]
  },
  {
   "cell_type": "code",
   "execution_count": null,
   "metadata": {},
   "outputs": [],
   "source": [
    "a = pd.read_csv(\"C:/Data/FrenchDartmouth/25_Portfolios_ME_INV_5x5.csv\")\n",
    "a = a.iloc[:642, 1:]\n",
    "a.index = F.index\n",
    "\n",
    "A = A.merge(a, left_index=True, right_index=True)\n",
    "\n",
    "\"{:.2f}, {:.2f}, {:.2f}, {:.2f}\".format(GRS(a, F, ff2015), GRS(a, F, ff2016a), GRS(a, F, ff2016b), GRS(a, F, bs2015))"
   ]
  },
  {
   "cell_type": "code",
   "execution_count": null,
   "metadata": {},
   "outputs": [],
   "source": [
    "a = pd.read_csv(\"C:/Data/FrenchDartmouth/25_Portfolios_ME_AC_5x5.csv\")\n",
    "a = a.iloc[:642, 1:]\n",
    "a.index = F.index\n",
    "\n",
    "A = A.merge(a, left_index=True, right_index=True)\n",
    "\n",
    "\"{:.2f}, {:.2f}, {:.2f}, {:.2f}\".format(GRS(a, F, ff2015), GRS(a, F, ff2016a), GRS(a, F, ff2016b), GRS(a, F, bs2015))"
   ]
  },
  {
   "cell_type": "code",
   "execution_count": null,
   "metadata": {},
   "outputs": [],
   "source": [
    "a = pd.read_csv(\"C:/Data/FrenchDartmouth/25_Portfolios_ME_BETA_5x5.csv\")\n",
    "a = a.iloc[:642, 1:]\n",
    "a.index = F.index\n",
    "\n",
    "A = A.merge(a, left_index=True, right_index=True)\n",
    "\n",
    "\"{:.2f}, {:.2f}, {:.2f}, {:.2f}\".format(GRS(a, F, ff2015), GRS(a, F, ff2016a), GRS(a, F, ff2016b), GRS(a, F, bs2015))"
   ]
  },
  {
   "cell_type": "code",
   "execution_count": null,
   "metadata": {},
   "outputs": [],
   "source": [
    "a = pd.read_csv(\"C:/Data/FrenchDartmouth/25_Portfolios_ME_Prior_12_2.CSV\")\n",
    "a = a.iloc[:642, 1:]\n",
    "a.index = F.index\n",
    "\n",
    "A = A.merge(a, left_index=True, right_index=True)\n",
    "\n",
    "\"{:.2f}, {:.2f}, {:.2f}, {:.2f}\".format(GRS(a, F, ff2015), GRS(a, F, ff2016a), GRS(a, F, ff2016b), GRS(a, F, bs2015))"
   ]
  },
  {
   "cell_type": "code",
   "execution_count": null,
   "metadata": {},
   "outputs": [],
   "source": [
    "a = pd.read_csv(\"C:/Data/FrenchDartmouth/25_Portfolios_ME_RESVAR_5x5.csv\")\n",
    "a = a.iloc[:642, 1:]\n",
    "a.index = F.index\n",
    "\n",
    "A = A.merge(a, left_index=True, right_index=True)\n",
    "\n",
    "\"{:.2f}, {:.2f}, {:.2f}, {:.2f}\".format(GRS(a, F, ff2015), GRS(a, F, ff2016a), GRS(a, F, ff2016b), GRS(a, F, bs2015))"
   ]
  },
  {
   "cell_type": "code",
   "execution_count": null,
   "metadata": {},
   "outputs": [],
   "source": [
    "a = pd.read_csv(\"C:/Data/FrenchDartmouth/25_Portfolios_ME_VAR_5x5.csv\")\n",
    "a = a.iloc[:642, 1:]\n",
    "a.index = F.index\n",
    "\n",
    "A = A.merge(a, left_index=True, right_index=True)\n",
    "\n",
    "\"{:.2f}, {:.2f}, {:.2f}, {:.2f}\".format(GRS(a, F, ff2015), GRS(a, F, ff2016a), GRS(a, F, ff2016b), GRS(a, F, bs2015))"
   ]
  },
  {
   "cell_type": "code",
   "execution_count": null,
   "metadata": {},
   "outputs": [],
   "source": [
    "A.shape"
   ]
  },
  {
   "cell_type": "code",
   "execution_count": null,
   "metadata": {},
   "outputs": [],
   "source": [
    "\"{:.2f}, {:.2f}, {:.2f}, {:.2f}\".format(GRS(A, F, ff2015), GRS(A, F, ff2016a), GRS(A, F, ff2016b), GRS(A, F, bs2015))"
   ]
  }
 ],
 "metadata": {
  "kernelspec": {
   "display_name": "Python 3",
   "language": "python",
   "name": "python3"
  },
  "language_info": {
   "codemirror_mode": {
    "name": "ipython",
    "version": 3
   },
   "file_extension": ".py",
   "mimetype": "text/x-python",
   "name": "python",
   "nbconvert_exporter": "python",
   "pygments_lexer": "ipython3",
   "version": "3.5.2"
  }
 },
 "nbformat": 4,
 "nbformat_minor": 2
}
