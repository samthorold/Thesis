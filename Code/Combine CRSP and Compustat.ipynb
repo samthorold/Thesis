{
 "cells": [
  {
   "cell_type": "markdown",
   "metadata": {},
   "source": [
    "# Combine CRSP and Compustat files"
   ]
  },
  {
   "cell_type": "markdown",
   "metadata": {},
   "source": [
    "The idea of this notebook is to combine the CRSP and Compustat files into one file that contains everything we need for the rest of the analysis.\n",
    "Read and write times will be annoying but it is convenient to have everything in one place.\n",
    "The alternative is infinite joins whenever we want to investigate something (this works a little better in STATA as read/write is faster -- but then we'd have to use STATA)."
   ]
  },
  {
   "cell_type": "code",
   "execution_count": 1,
   "metadata": {},
   "outputs": [
    {
     "data": {
      "text/plain": [
       "'0.22.0'"
      ]
     },
     "execution_count": 1,
     "metadata": {},
     "output_type": "execute_result"
    }
   ],
   "source": [
    "import os\n",
    "import pandas as pd\n",
    "\n",
    "pd.__version__"
   ]
  },
  {
   "cell_type": "markdown",
   "metadata": {},
   "source": [
    "## CRSP"
   ]
  },
  {
   "cell_type": "code",
   "execution_count": 2,
   "metadata": {
    "scrolled": true
   },
   "outputs": [
    {
     "name": "stderr",
     "output_type": "stream",
     "text": [
      "<string>:2: DtypeWarning: Columns (4) have mixed types. Specify dtype option on import or set low_memory=False.\n"
     ]
    },
    {
     "name": "stdout",
     "output_type": "stream",
     "text": [
      "Wall time: 13.3 s\n"
     ]
    }
   ],
   "source": [
    "%time crsp = pd.read_csv(\"C:/Data/CRSP/20180219_CRSP_196201_201712.csv\")"
   ]
  },
  {
   "cell_type": "code",
   "execution_count": 3,
   "metadata": {},
   "outputs": [
    {
     "data": {
      "text/plain": [
       "(3153678, 27)"
      ]
     },
     "execution_count": 3,
     "metadata": {},
     "output_type": "execute_result"
    }
   ],
   "source": [
    "crsp.shape"
   ]
  },
  {
   "cell_type": "code",
   "execution_count": 4,
   "metadata": {},
   "outputs": [
    {
     "data": {
      "text/plain": [
       "Index(['PERMNO', 'date', 'SHRCD', 'EXCHCD', 'SICCD', 'TICKER', 'COMNAM',\n",
       "       'CUSIP', 'DCLRDT', 'DLSTCD', 'PAYDT', 'DISTCD', 'DIVAMT', 'FACPR',\n",
       "       'FACSHR', 'ACPERM', 'DLRET', 'PRC', 'VOL', 'RET', 'SHROUT', 'CFACPR',\n",
       "       'CFACSHR', 'SPREAD', 'vwretd', 'ewretd', 'sprtrn'],\n",
       "      dtype='object')"
      ]
     },
     "execution_count": 4,
     "metadata": {},
     "output_type": "execute_result"
    }
   ],
   "source": [
    "crsp.columns"
   ]
  },
  {
   "cell_type": "markdown",
   "metadata": {},
   "source": [
    "We only want Share Code (`SHRCD`) 10 and 11 and Exchange Code 1, 2, or 3."
   ]
  },
  {
   "cell_type": "code",
   "execution_count": 5,
   "metadata": {},
   "outputs": [],
   "source": [
    "ix = ((crsp.SHRCD==10) | (crsp.SHRCD==11)) & ((crsp.EXCHCD==1) | (crsp.EXCHCD==2) | (crsp.EXCHCD==3))"
   ]
  },
  {
   "cell_type": "code",
   "execution_count": 6,
   "metadata": {},
   "outputs": [
    {
     "data": {
      "text/plain": [
       "(3153678, 3153678)"
      ]
     },
     "execution_count": 6,
     "metadata": {},
     "output_type": "execute_result"
    }
   ],
   "source": [
    "ix.sum(), crsp.PERMNO.count()"
   ]
  },
  {
   "cell_type": "code",
   "execution_count": 7,
   "metadata": {},
   "outputs": [],
   "source": [
    "crsp = crsp[ix].drop(\"SHRCD\", axis=1)"
   ]
  },
  {
   "cell_type": "markdown",
   "metadata": {},
   "source": [
    "Converting the date integer to a date-aware object takes some time but it is helpful for grabbing the years and months later."
   ]
  },
  {
   "cell_type": "code",
   "execution_count": 8,
   "metadata": {},
   "outputs": [
    {
     "data": {
      "text/plain": [
       "(Timestamp('1962-01-31 00:00:00'), Timestamp('2017-12-29 00:00:00'))"
      ]
     },
     "execution_count": 8,
     "metadata": {},
     "output_type": "execute_result"
    }
   ],
   "source": [
    "crsp.date = crsp.date.astype(str)\n",
    "crsp.date = pd.to_datetime(crsp.date)\n",
    "crsp.date.min(), crsp.date.max()"
   ]
  },
  {
   "cell_type": "code",
   "execution_count": 9,
   "metadata": {},
   "outputs": [],
   "source": [
    "crsp[\"RET\"] = pd.to_numeric(crsp.RET, errors=\"coerce\")"
   ]
  },
  {
   "cell_type": "markdown",
   "metadata": {},
   "source": [
    "There should not be duplicate `PERMNO`-`date` pairs. Including distribution information results in some duplicates. Duplicates occur when a stock makes multiple types of distributions in the same month. For example, a cash dividend and a stock dividend. CRSP has a lists of [common distribution codes](http://www.crsp.com/products/documentation/distribution-codes) and [common delisting codes](http://www.crsp.com/products/documentation/delisting-codes). The rows have the same returns and shares outstanding etc."
   ]
  },
  {
   "cell_type": "code",
   "execution_count": 10,
   "metadata": {},
   "outputs": [],
   "source": [
    "x = crsp[[\"PERMNO\", \"date\"]].duplicated(keep=\"first\")\n",
    "# y = crsp[[\"PERMNO\", \"date\"]].duplicated(keep=\"last\")\n",
    "# ix = x | y\n",
    "# crsp[ix].head(n=200).set_index([\"PERMNO\", \"date\"])"
   ]
  },
  {
   "cell_type": "code",
   "execution_count": 11,
   "metadata": {},
   "outputs": [],
   "source": [
    "crsp = crsp[~x]"
   ]
  },
  {
   "cell_type": "code",
   "execution_count": 12,
   "metadata": {},
   "outputs": [
    {
     "data": {
      "text/plain": [
       "3134786"
      ]
     },
     "execution_count": 12,
     "metadata": {},
     "output_type": "execute_result"
    }
   ],
   "source": [
    "crsp.PERMNO.count()"
   ]
  },
  {
   "cell_type": "code",
   "execution_count": 13,
   "metadata": {},
   "outputs": [],
   "source": [
    "#crsp[crsp.TICKER==\"F\"].set_index([\"date\",])[codes].to_csv(\"~/Desktop/F.csv\")  # [[\"PERMNO\", \"DISTCD\", \"FACPR\", \"FACSHR\", \"DLRET\", \"PRC\", \"RET\", \"SHROUT\"]]"
   ]
  },
  {
   "cell_type": "markdown",
   "metadata": {},
   "source": [
    "## Holding Period"
   ]
  },
  {
   "cell_type": "markdown",
   "metadata": {},
   "source": [
    "Annually rebalanced portfolios are held from July of year $t$ to June of year $t+1$."
   ]
  },
  {
   "cell_type": "code",
   "execution_count": 14,
   "metadata": {},
   "outputs": [],
   "source": [
    "crsp[\"HP\"] = crsp.date.dt.year"
   ]
  },
  {
   "cell_type": "code",
   "execution_count": 15,
   "metadata": {},
   "outputs": [],
   "source": [
    "ix = crsp.date.dt.month<7\n",
    "crsp.loc[ix, \"HP\"] = crsp.loc[ix, \"HP\"] - 1"
   ]
  },
  {
   "cell_type": "code",
   "execution_count": 16,
   "metadata": {
    "scrolled": true
   },
   "outputs": [
    {
     "data": {
      "text/html": [
       "<div>\n",
       "<style scoped>\n",
       "    .dataframe tbody tr th:only-of-type {\n",
       "        vertical-align: middle;\n",
       "    }\n",
       "\n",
       "    .dataframe tbody tr th {\n",
       "        vertical-align: top;\n",
       "    }\n",
       "\n",
       "    .dataframe thead th {\n",
       "        text-align: right;\n",
       "    }\n",
       "</style>\n",
       "<table border=\"1\" class=\"dataframe\">\n",
       "  <thead>\n",
       "    <tr style=\"text-align: right;\">\n",
       "      <th></th>\n",
       "      <th>PERMNO</th>\n",
       "      <th>date</th>\n",
       "      <th>HP</th>\n",
       "    </tr>\n",
       "  </thead>\n",
       "  <tbody>\n",
       "    <tr>\n",
       "      <th>18</th>\n",
       "      <td>10001</td>\n",
       "      <td>1986-01-31</td>\n",
       "      <td>1985</td>\n",
       "    </tr>\n",
       "    <tr>\n",
       "      <th>19</th>\n",
       "      <td>10001</td>\n",
       "      <td>1986-02-28</td>\n",
       "      <td>1985</td>\n",
       "    </tr>\n",
       "    <tr>\n",
       "      <th>20</th>\n",
       "      <td>10001</td>\n",
       "      <td>1986-03-31</td>\n",
       "      <td>1985</td>\n",
       "    </tr>\n",
       "    <tr>\n",
       "      <th>21</th>\n",
       "      <td>10001</td>\n",
       "      <td>1986-04-30</td>\n",
       "      <td>1985</td>\n",
       "    </tr>\n",
       "    <tr>\n",
       "      <th>22</th>\n",
       "      <td>10001</td>\n",
       "      <td>1986-05-30</td>\n",
       "      <td>1985</td>\n",
       "    </tr>\n",
       "    <tr>\n",
       "      <th>23</th>\n",
       "      <td>10001</td>\n",
       "      <td>1986-06-30</td>\n",
       "      <td>1985</td>\n",
       "    </tr>\n",
       "    <tr>\n",
       "      <th>24</th>\n",
       "      <td>10001</td>\n",
       "      <td>1986-07-31</td>\n",
       "      <td>1986</td>\n",
       "    </tr>\n",
       "    <tr>\n",
       "      <th>25</th>\n",
       "      <td>10001</td>\n",
       "      <td>1986-08-29</td>\n",
       "      <td>1986</td>\n",
       "    </tr>\n",
       "    <tr>\n",
       "      <th>26</th>\n",
       "      <td>10001</td>\n",
       "      <td>1986-09-30</td>\n",
       "      <td>1986</td>\n",
       "    </tr>\n",
       "    <tr>\n",
       "      <th>27</th>\n",
       "      <td>10001</td>\n",
       "      <td>1986-10-31</td>\n",
       "      <td>1986</td>\n",
       "    </tr>\n",
       "    <tr>\n",
       "      <th>28</th>\n",
       "      <td>10001</td>\n",
       "      <td>1986-11-28</td>\n",
       "      <td>1986</td>\n",
       "    </tr>\n",
       "    <tr>\n",
       "      <th>29</th>\n",
       "      <td>10001</td>\n",
       "      <td>1986-12-31</td>\n",
       "      <td>1986</td>\n",
       "    </tr>\n",
       "    <tr>\n",
       "      <th>30</th>\n",
       "      <td>10001</td>\n",
       "      <td>1987-01-30</td>\n",
       "      <td>1986</td>\n",
       "    </tr>\n",
       "    <tr>\n",
       "      <th>31</th>\n",
       "      <td>10001</td>\n",
       "      <td>1987-02-27</td>\n",
       "      <td>1986</td>\n",
       "    </tr>\n",
       "    <tr>\n",
       "      <th>32</th>\n",
       "      <td>10001</td>\n",
       "      <td>1987-03-31</td>\n",
       "      <td>1986</td>\n",
       "    </tr>\n",
       "    <tr>\n",
       "      <th>33</th>\n",
       "      <td>10001</td>\n",
       "      <td>1987-04-30</td>\n",
       "      <td>1986</td>\n",
       "    </tr>\n",
       "    <tr>\n",
       "      <th>34</th>\n",
       "      <td>10001</td>\n",
       "      <td>1987-05-29</td>\n",
       "      <td>1986</td>\n",
       "    </tr>\n",
       "    <tr>\n",
       "      <th>35</th>\n",
       "      <td>10001</td>\n",
       "      <td>1987-06-30</td>\n",
       "      <td>1986</td>\n",
       "    </tr>\n",
       "    <tr>\n",
       "      <th>36</th>\n",
       "      <td>10001</td>\n",
       "      <td>1987-07-31</td>\n",
       "      <td>1987</td>\n",
       "    </tr>\n",
       "    <tr>\n",
       "      <th>37</th>\n",
       "      <td>10001</td>\n",
       "      <td>1987-08-31</td>\n",
       "      <td>1987</td>\n",
       "    </tr>\n",
       "    <tr>\n",
       "      <th>38</th>\n",
       "      <td>10001</td>\n",
       "      <td>1987-09-30</td>\n",
       "      <td>1987</td>\n",
       "    </tr>\n",
       "    <tr>\n",
       "      <th>39</th>\n",
       "      <td>10001</td>\n",
       "      <td>1987-10-30</td>\n",
       "      <td>1987</td>\n",
       "    </tr>\n",
       "    <tr>\n",
       "      <th>40</th>\n",
       "      <td>10001</td>\n",
       "      <td>1987-11-30</td>\n",
       "      <td>1987</td>\n",
       "    </tr>\n",
       "    <tr>\n",
       "      <th>41</th>\n",
       "      <td>10001</td>\n",
       "      <td>1987-12-31</td>\n",
       "      <td>1987</td>\n",
       "    </tr>\n",
       "    <tr>\n",
       "      <th>42</th>\n",
       "      <td>10001</td>\n",
       "      <td>1988-01-29</td>\n",
       "      <td>1987</td>\n",
       "    </tr>\n",
       "    <tr>\n",
       "      <th>43</th>\n",
       "      <td>10001</td>\n",
       "      <td>1988-02-29</td>\n",
       "      <td>1987</td>\n",
       "    </tr>\n",
       "    <tr>\n",
       "      <th>44</th>\n",
       "      <td>10001</td>\n",
       "      <td>1988-03-31</td>\n",
       "      <td>1987</td>\n",
       "    </tr>\n",
       "    <tr>\n",
       "      <th>45</th>\n",
       "      <td>10001</td>\n",
       "      <td>1988-04-29</td>\n",
       "      <td>1987</td>\n",
       "    </tr>\n",
       "    <tr>\n",
       "      <th>46</th>\n",
       "      <td>10001</td>\n",
       "      <td>1988-05-31</td>\n",
       "      <td>1987</td>\n",
       "    </tr>\n",
       "    <tr>\n",
       "      <th>47</th>\n",
       "      <td>10001</td>\n",
       "      <td>1988-06-30</td>\n",
       "      <td>1987</td>\n",
       "    </tr>\n",
       "    <tr>\n",
       "      <th>...</th>\n",
       "      <td>...</td>\n",
       "      <td>...</td>\n",
       "      <td>...</td>\n",
       "    </tr>\n",
       "    <tr>\n",
       "      <th>370</th>\n",
       "      <td>10001</td>\n",
       "      <td>2015-03-31</td>\n",
       "      <td>2014</td>\n",
       "    </tr>\n",
       "    <tr>\n",
       "      <th>371</th>\n",
       "      <td>10001</td>\n",
       "      <td>2015-04-30</td>\n",
       "      <td>2014</td>\n",
       "    </tr>\n",
       "    <tr>\n",
       "      <th>372</th>\n",
       "      <td>10001</td>\n",
       "      <td>2015-05-29</td>\n",
       "      <td>2014</td>\n",
       "    </tr>\n",
       "    <tr>\n",
       "      <th>373</th>\n",
       "      <td>10001</td>\n",
       "      <td>2015-06-30</td>\n",
       "      <td>2014</td>\n",
       "    </tr>\n",
       "    <tr>\n",
       "      <th>374</th>\n",
       "      <td>10001</td>\n",
       "      <td>2015-07-31</td>\n",
       "      <td>2015</td>\n",
       "    </tr>\n",
       "    <tr>\n",
       "      <th>375</th>\n",
       "      <td>10001</td>\n",
       "      <td>2015-08-31</td>\n",
       "      <td>2015</td>\n",
       "    </tr>\n",
       "    <tr>\n",
       "      <th>376</th>\n",
       "      <td>10001</td>\n",
       "      <td>2015-09-30</td>\n",
       "      <td>2015</td>\n",
       "    </tr>\n",
       "    <tr>\n",
       "      <th>377</th>\n",
       "      <td>10001</td>\n",
       "      <td>2015-10-30</td>\n",
       "      <td>2015</td>\n",
       "    </tr>\n",
       "    <tr>\n",
       "      <th>378</th>\n",
       "      <td>10001</td>\n",
       "      <td>2015-11-30</td>\n",
       "      <td>2015</td>\n",
       "    </tr>\n",
       "    <tr>\n",
       "      <th>379</th>\n",
       "      <td>10001</td>\n",
       "      <td>2015-12-31</td>\n",
       "      <td>2015</td>\n",
       "    </tr>\n",
       "    <tr>\n",
       "      <th>380</th>\n",
       "      <td>10001</td>\n",
       "      <td>2016-01-29</td>\n",
       "      <td>2015</td>\n",
       "    </tr>\n",
       "    <tr>\n",
       "      <th>381</th>\n",
       "      <td>10001</td>\n",
       "      <td>2016-02-29</td>\n",
       "      <td>2015</td>\n",
       "    </tr>\n",
       "    <tr>\n",
       "      <th>382</th>\n",
       "      <td>10001</td>\n",
       "      <td>2016-03-31</td>\n",
       "      <td>2015</td>\n",
       "    </tr>\n",
       "    <tr>\n",
       "      <th>383</th>\n",
       "      <td>10001</td>\n",
       "      <td>2016-04-29</td>\n",
       "      <td>2015</td>\n",
       "    </tr>\n",
       "    <tr>\n",
       "      <th>384</th>\n",
       "      <td>10001</td>\n",
       "      <td>2016-05-31</td>\n",
       "      <td>2015</td>\n",
       "    </tr>\n",
       "    <tr>\n",
       "      <th>385</th>\n",
       "      <td>10001</td>\n",
       "      <td>2016-06-30</td>\n",
       "      <td>2015</td>\n",
       "    </tr>\n",
       "    <tr>\n",
       "      <th>386</th>\n",
       "      <td>10001</td>\n",
       "      <td>2016-07-29</td>\n",
       "      <td>2016</td>\n",
       "    </tr>\n",
       "    <tr>\n",
       "      <th>387</th>\n",
       "      <td>10001</td>\n",
       "      <td>2016-08-31</td>\n",
       "      <td>2016</td>\n",
       "    </tr>\n",
       "    <tr>\n",
       "      <th>388</th>\n",
       "      <td>10001</td>\n",
       "      <td>2016-09-30</td>\n",
       "      <td>2016</td>\n",
       "    </tr>\n",
       "    <tr>\n",
       "      <th>389</th>\n",
       "      <td>10001</td>\n",
       "      <td>2016-10-31</td>\n",
       "      <td>2016</td>\n",
       "    </tr>\n",
       "    <tr>\n",
       "      <th>390</th>\n",
       "      <td>10001</td>\n",
       "      <td>2016-11-30</td>\n",
       "      <td>2016</td>\n",
       "    </tr>\n",
       "    <tr>\n",
       "      <th>391</th>\n",
       "      <td>10001</td>\n",
       "      <td>2016-12-30</td>\n",
       "      <td>2016</td>\n",
       "    </tr>\n",
       "    <tr>\n",
       "      <th>392</th>\n",
       "      <td>10001</td>\n",
       "      <td>2017-01-31</td>\n",
       "      <td>2016</td>\n",
       "    </tr>\n",
       "    <tr>\n",
       "      <th>393</th>\n",
       "      <td>10001</td>\n",
       "      <td>2017-02-28</td>\n",
       "      <td>2016</td>\n",
       "    </tr>\n",
       "    <tr>\n",
       "      <th>394</th>\n",
       "      <td>10001</td>\n",
       "      <td>2017-03-31</td>\n",
       "      <td>2016</td>\n",
       "    </tr>\n",
       "    <tr>\n",
       "      <th>395</th>\n",
       "      <td>10001</td>\n",
       "      <td>2017-04-28</td>\n",
       "      <td>2016</td>\n",
       "    </tr>\n",
       "    <tr>\n",
       "      <th>396</th>\n",
       "      <td>10001</td>\n",
       "      <td>2017-05-31</td>\n",
       "      <td>2016</td>\n",
       "    </tr>\n",
       "    <tr>\n",
       "      <th>397</th>\n",
       "      <td>10001</td>\n",
       "      <td>2017-06-30</td>\n",
       "      <td>2016</td>\n",
       "    </tr>\n",
       "    <tr>\n",
       "      <th>398</th>\n",
       "      <td>10001</td>\n",
       "      <td>2017-07-31</td>\n",
       "      <td>2017</td>\n",
       "    </tr>\n",
       "    <tr>\n",
       "      <th>399</th>\n",
       "      <td>10001</td>\n",
       "      <td>2017-08-31</td>\n",
       "      <td>2017</td>\n",
       "    </tr>\n",
       "  </tbody>\n",
       "</table>\n",
       "<p>380 rows × 3 columns</p>\n",
       "</div>"
      ],
      "text/plain": [
       "     PERMNO       date    HP\n",
       "18    10001 1986-01-31  1985\n",
       "19    10001 1986-02-28  1985\n",
       "20    10001 1986-03-31  1985\n",
       "21    10001 1986-04-30  1985\n",
       "22    10001 1986-05-30  1985\n",
       "23    10001 1986-06-30  1985\n",
       "24    10001 1986-07-31  1986\n",
       "25    10001 1986-08-29  1986\n",
       "26    10001 1986-09-30  1986\n",
       "27    10001 1986-10-31  1986\n",
       "28    10001 1986-11-28  1986\n",
       "29    10001 1986-12-31  1986\n",
       "30    10001 1987-01-30  1986\n",
       "31    10001 1987-02-27  1986\n",
       "32    10001 1987-03-31  1986\n",
       "33    10001 1987-04-30  1986\n",
       "34    10001 1987-05-29  1986\n",
       "35    10001 1987-06-30  1986\n",
       "36    10001 1987-07-31  1987\n",
       "37    10001 1987-08-31  1987\n",
       "38    10001 1987-09-30  1987\n",
       "39    10001 1987-10-30  1987\n",
       "40    10001 1987-11-30  1987\n",
       "41    10001 1987-12-31  1987\n",
       "42    10001 1988-01-29  1987\n",
       "43    10001 1988-02-29  1987\n",
       "44    10001 1988-03-31  1987\n",
       "45    10001 1988-04-29  1987\n",
       "46    10001 1988-05-31  1987\n",
       "47    10001 1988-06-30  1987\n",
       "..      ...        ...   ...\n",
       "370   10001 2015-03-31  2014\n",
       "371   10001 2015-04-30  2014\n",
       "372   10001 2015-05-29  2014\n",
       "373   10001 2015-06-30  2014\n",
       "374   10001 2015-07-31  2015\n",
       "375   10001 2015-08-31  2015\n",
       "376   10001 2015-09-30  2015\n",
       "377   10001 2015-10-30  2015\n",
       "378   10001 2015-11-30  2015\n",
       "379   10001 2015-12-31  2015\n",
       "380   10001 2016-01-29  2015\n",
       "381   10001 2016-02-29  2015\n",
       "382   10001 2016-03-31  2015\n",
       "383   10001 2016-04-29  2015\n",
       "384   10001 2016-05-31  2015\n",
       "385   10001 2016-06-30  2015\n",
       "386   10001 2016-07-29  2016\n",
       "387   10001 2016-08-31  2016\n",
       "388   10001 2016-09-30  2016\n",
       "389   10001 2016-10-31  2016\n",
       "390   10001 2016-11-30  2016\n",
       "391   10001 2016-12-30  2016\n",
       "392   10001 2017-01-31  2016\n",
       "393   10001 2017-02-28  2016\n",
       "394   10001 2017-03-31  2016\n",
       "395   10001 2017-04-28  2016\n",
       "396   10001 2017-05-31  2016\n",
       "397   10001 2017-06-30  2016\n",
       "398   10001 2017-07-31  2017\n",
       "399   10001 2017-08-31  2017\n",
       "\n",
       "[380 rows x 3 columns]"
      ]
     },
     "execution_count": 16,
     "metadata": {},
     "output_type": "execute_result"
    }
   ],
   "source": [
    "crsp[crsp.PERMNO==10001][[\"PERMNO\", \"date\", \"HP\"]]"
   ]
  },
  {
   "cell_type": "markdown",
   "metadata": {},
   "source": [
    "## Market Equity"
   ]
  },
  {
   "cell_type": "markdown",
   "metadata": {},
   "source": [
    "CRSP will use a negative sign to indicate prices inferred from bid/ask spreads. This does not mean the price is negative."
   ]
  },
  {
   "cell_type": "code",
   "execution_count": 17,
   "metadata": {},
   "outputs": [],
   "source": [
    "crsp[\"ME\"] = crsp.PRC.abs() * crsp.SHROUT / 1000"
   ]
  },
  {
   "cell_type": "code",
   "execution_count": 18,
   "metadata": {},
   "outputs": [
    {
     "data": {
      "text/plain": [
       "37682"
      ]
     },
     "execution_count": 18,
     "metadata": {},
     "output_type": "execute_result"
    }
   ],
   "source": [
    "crsp.ME.isna().sum()"
   ]
  },
  {
   "cell_type": "markdown",
   "metadata": {},
   "source": [
    "We can compare our breakpoints to those from Kenneth French.\n",
    "Since we use quantiles, it is enough to check the number of firms each month.\n",
    "His [website](http://mba.tuck.dartmouth.edu/pages/faculty/ken.french/Data_Library/det_me_breakpoints.html) says closed end funds and REITs omitted, but CRSP `shrcd` 10 or 11 should [take care](http://www.crsp.com/products/documentation/data-definitions-1) of this."
   ]
  },
  {
   "cell_type": "code",
   "execution_count": 19,
   "metadata": {},
   "outputs": [],
   "source": [
    "nyse = crsp[crsp.EXCHCD==1]\n",
    "\n",
    "grp = nyse[[\"date\", \"ME\"]].groupby(\"date\")\n",
    "del nyse\n",
    "brk = grp.quantile(pd.np.array(range(1, 21))/20).unstack()\n",
    "brk[\"N\"] = grp.count()[\"ME\"]"
   ]
  },
  {
   "cell_type": "code",
   "execution_count": 20,
   "metadata": {},
   "outputs": [],
   "source": [
    "brk.to_csv(\"C:/Data/Thesis/Brks_Months_ME.csv\")"
   ]
  },
  {
   "cell_type": "markdown",
   "metadata": {},
   "source": [
    "We want ME from June and December for $Size$ and $BM$ characteristics.\n",
    "June 1999 ME is used to assign the $Size$ bucket for July 1999 to June 2000 (HP=1999)."
   ]
  },
  {
   "cell_type": "code",
   "execution_count": 21,
   "metadata": {},
   "outputs": [],
   "source": [
    "jun = crsp[crsp.date.dt.month==6][[\"EXCHCD\", \"date\", \"HP\", \"PERMNO\", \"ME\"]]\n",
    "jun[\"HP\"] = jun.HP + 1  # we want to use the previous June for the next holding period\n",
    "nyse = jun[jun.EXCHCD==1]  # NYSE stocks are EXCHCD 1"
   ]
  },
  {
   "cell_type": "code",
   "execution_count": 22,
   "metadata": {},
   "outputs": [
    {
     "data": {
      "text/plain": [
       "(Timestamp('1962-06-29 00:00:00'), Timestamp('2017-06-30 00:00:00'))"
      ]
     },
     "execution_count": 22,
     "metadata": {},
     "output_type": "execute_result"
    }
   ],
   "source": [
    "jun.date.min(), jun.date.max()"
   ]
  },
  {
   "cell_type": "code",
   "execution_count": 23,
   "metadata": {},
   "outputs": [],
   "source": [
    "jun = jun.rename(columns={\"ME\": \"ME_Jun\"})\n",
    "crsp = crsp.merge(jun[[\"PERMNO\", \"HP\", \"ME_Jun\"]], on=[\"PERMNO\", \"HP\"], how=\"left\")"
   ]
  },
  {
   "cell_type": "code",
   "execution_count": 24,
   "metadata": {},
   "outputs": [],
   "source": [
    "dec = crsp[crsp.date.dt.month==12][[\"HP\", \"PERMNO\", \"ME\"]]\n",
    "dec.HP = dec.HP + 1  # we want to use the previous Dec for the next holding period\n",
    "dec = dec.rename(columns={\"ME\": \"ME_Dec\"})\n",
    "crsp = crsp.merge(dec[[\"PERMNO\", \"HP\", \"ME_Dec\"]], on=[\"PERMNO\", \"HP\"], how=\"left\")"
   ]
  },
  {
   "cell_type": "markdown",
   "metadata": {},
   "source": [
    "While we hold buckets constant for the holding period, a stock's weight within a bucket will change each month because returns are different for each stock."
   ]
  },
  {
   "cell_type": "code",
   "execution_count": 25,
   "metadata": {},
   "outputs": [],
   "source": [
    "crsp[\"Ri\"] = crsp.RET + 1\n",
    "crsp[\"L1_Ri\"] = crsp.groupby([\"PERMNO\", \"HP\"]).Ri.shift(1)\n",
    "crsp[\"RiFctr\"] = crsp.groupby([\"PERMNO\", \"HP\"]).L1_Ri.cumprod()\n",
    "crsp[\"Size\"] = crsp.ME_Jun\n",
    "\n",
    "ix = crsp.date.dt.month!=7\n",
    "crsp.loc[ix, \"Size\"] = crsp.ME_Jun[ix] * crsp.RiFctr[ix]"
   ]
  },
  {
   "cell_type": "code",
   "execution_count": 26,
   "metadata": {
    "scrolled": true
   },
   "outputs": [
    {
     "data": {
      "text/html": [
       "<div>\n",
       "<style scoped>\n",
       "    .dataframe tbody tr th:only-of-type {\n",
       "        vertical-align: middle;\n",
       "    }\n",
       "\n",
       "    .dataframe tbody tr th {\n",
       "        vertical-align: top;\n",
       "    }\n",
       "\n",
       "    .dataframe thead th {\n",
       "        text-align: right;\n",
       "    }\n",
       "</style>\n",
       "<table border=\"1\" class=\"dataframe\">\n",
       "  <thead>\n",
       "    <tr style=\"text-align: right;\">\n",
       "      <th></th>\n",
       "      <th>PERMNO</th>\n",
       "      <th>date</th>\n",
       "      <th>HP</th>\n",
       "      <th>Ri</th>\n",
       "      <th>L1_Ri</th>\n",
       "      <th>ME_Jun</th>\n",
       "      <th>RiFctr</th>\n",
       "      <th>Size</th>\n",
       "    </tr>\n",
       "  </thead>\n",
       "  <tbody>\n",
       "    <tr>\n",
       "      <th>0</th>\n",
       "      <td>10000</td>\n",
       "      <td>1986-01-31</td>\n",
       "      <td>1985</td>\n",
       "      <td>NaN</td>\n",
       "      <td>NaN</td>\n",
       "      <td>NaN</td>\n",
       "      <td>NaN</td>\n",
       "      <td>NaN</td>\n",
       "    </tr>\n",
       "    <tr>\n",
       "      <th>1</th>\n",
       "      <td>10000</td>\n",
       "      <td>1986-02-28</td>\n",
       "      <td>1985</td>\n",
       "      <td>0.742857</td>\n",
       "      <td>NaN</td>\n",
       "      <td>NaN</td>\n",
       "      <td>NaN</td>\n",
       "      <td>NaN</td>\n",
       "    </tr>\n",
       "    <tr>\n",
       "      <th>2</th>\n",
       "      <td>10000</td>\n",
       "      <td>1986-03-31</td>\n",
       "      <td>1985</td>\n",
       "      <td>1.365385</td>\n",
       "      <td>0.742857</td>\n",
       "      <td>NaN</td>\n",
       "      <td>0.742857</td>\n",
       "      <td>NaN</td>\n",
       "    </tr>\n",
       "    <tr>\n",
       "      <th>3</th>\n",
       "      <td>10000</td>\n",
       "      <td>1986-04-30</td>\n",
       "      <td>1985</td>\n",
       "      <td>0.901408</td>\n",
       "      <td>1.365385</td>\n",
       "      <td>NaN</td>\n",
       "      <td>1.014286</td>\n",
       "      <td>NaN</td>\n",
       "    </tr>\n",
       "    <tr>\n",
       "      <th>4</th>\n",
       "      <td>10000</td>\n",
       "      <td>1986-05-30</td>\n",
       "      <td>1985</td>\n",
       "      <td>0.777344</td>\n",
       "      <td>0.901408</td>\n",
       "      <td>NaN</td>\n",
       "      <td>0.914285</td>\n",
       "      <td>NaN</td>\n",
       "    </tr>\n",
       "    <tr>\n",
       "      <th>5</th>\n",
       "      <td>10000</td>\n",
       "      <td>1986-06-30</td>\n",
       "      <td>1985</td>\n",
       "      <td>0.994975</td>\n",
       "      <td>0.777344</td>\n",
       "      <td>NaN</td>\n",
       "      <td>0.710714</td>\n",
       "      <td>NaN</td>\n",
       "    </tr>\n",
       "    <tr>\n",
       "      <th>6</th>\n",
       "      <td>10000</td>\n",
       "      <td>1986-07-31</td>\n",
       "      <td>1986</td>\n",
       "      <td>0.919192</td>\n",
       "      <td>NaN</td>\n",
       "      <td>11.734594</td>\n",
       "      <td>NaN</td>\n",
       "      <td>11.734594</td>\n",
       "    </tr>\n",
       "    <tr>\n",
       "      <th>7</th>\n",
       "      <td>10000</td>\n",
       "      <td>1986-08-29</td>\n",
       "      <td>1986</td>\n",
       "      <td>0.384615</td>\n",
       "      <td>0.919192</td>\n",
       "      <td>11.734594</td>\n",
       "      <td>0.919192</td>\n",
       "      <td>10.786345</td>\n",
       "    </tr>\n",
       "    <tr>\n",
       "      <th>8</th>\n",
       "      <td>10000</td>\n",
       "      <td>1986-09-30</td>\n",
       "      <td>1986</td>\n",
       "      <td>0.942857</td>\n",
       "      <td>0.384615</td>\n",
       "      <td>11.734594</td>\n",
       "      <td>0.353535</td>\n",
       "      <td>4.148590</td>\n",
       "    </tr>\n",
       "    <tr>\n",
       "      <th>9</th>\n",
       "      <td>10000</td>\n",
       "      <td>1986-10-31</td>\n",
       "      <td>1986</td>\n",
       "      <td>0.757576</td>\n",
       "      <td>0.942857</td>\n",
       "      <td>11.734594</td>\n",
       "      <td>0.333333</td>\n",
       "      <td>3.911527</td>\n",
       "    </tr>\n",
       "    <tr>\n",
       "      <th>10</th>\n",
       "      <td>10000</td>\n",
       "      <td>1986-11-28</td>\n",
       "      <td>1986</td>\n",
       "      <td>1.060000</td>\n",
       "      <td>0.757576</td>\n",
       "      <td>11.734594</td>\n",
       "      <td>0.252525</td>\n",
       "      <td>2.963279</td>\n",
       "    </tr>\n",
       "    <tr>\n",
       "      <th>11</th>\n",
       "      <td>10000</td>\n",
       "      <td>1986-12-31</td>\n",
       "      <td>1986</td>\n",
       "      <td>0.622642</td>\n",
       "      <td>1.060000</td>\n",
       "      <td>11.734594</td>\n",
       "      <td>0.267677</td>\n",
       "      <td>3.141076</td>\n",
       "    </tr>\n",
       "    <tr>\n",
       "      <th>12</th>\n",
       "      <td>10000</td>\n",
       "      <td>1987-01-30</td>\n",
       "      <td>1986</td>\n",
       "      <td>0.787879</td>\n",
       "      <td>0.622642</td>\n",
       "      <td>11.734594</td>\n",
       "      <td>0.166667</td>\n",
       "      <td>1.955766</td>\n",
       "    </tr>\n",
       "    <tr>\n",
       "      <th>13</th>\n",
       "      <td>10000</td>\n",
       "      <td>1987-02-27</td>\n",
       "      <td>1986</td>\n",
       "      <td>1.000000</td>\n",
       "      <td>0.787879</td>\n",
       "      <td>11.734594</td>\n",
       "      <td>0.131313</td>\n",
       "      <td>1.540907</td>\n",
       "    </tr>\n",
       "    <tr>\n",
       "      <th>14</th>\n",
       "      <td>10000</td>\n",
       "      <td>1987-03-31</td>\n",
       "      <td>1986</td>\n",
       "      <td>0.615385</td>\n",
       "      <td>1.000000</td>\n",
       "      <td>11.734594</td>\n",
       "      <td>0.131313</td>\n",
       "      <td>1.540907</td>\n",
       "    </tr>\n",
       "    <tr>\n",
       "      <th>15</th>\n",
       "      <td>10000</td>\n",
       "      <td>1987-04-30</td>\n",
       "      <td>1986</td>\n",
       "      <td>0.937500</td>\n",
       "      <td>0.615385</td>\n",
       "      <td>11.734594</td>\n",
       "      <td>0.080808</td>\n",
       "      <td>0.948251</td>\n",
       "    </tr>\n",
       "    <tr>\n",
       "      <th>16</th>\n",
       "      <td>10000</td>\n",
       "      <td>1987-05-29</td>\n",
       "      <td>1986</td>\n",
       "      <td>0.933333</td>\n",
       "      <td>0.937500</td>\n",
       "      <td>11.734594</td>\n",
       "      <td>0.075758</td>\n",
       "      <td>0.888985</td>\n",
       "    </tr>\n",
       "    <tr>\n",
       "      <th>17</th>\n",
       "      <td>10000</td>\n",
       "      <td>1987-06-30</td>\n",
       "      <td>1986</td>\n",
       "      <td>NaN</td>\n",
       "      <td>0.933333</td>\n",
       "      <td>11.734594</td>\n",
       "      <td>0.070707</td>\n",
       "      <td>0.829719</td>\n",
       "    </tr>\n",
       "    <tr>\n",
       "      <th>18</th>\n",
       "      <td>10001</td>\n",
       "      <td>1986-01-31</td>\n",
       "      <td>1985</td>\n",
       "      <td>NaN</td>\n",
       "      <td>NaN</td>\n",
       "      <td>NaN</td>\n",
       "      <td>NaN</td>\n",
       "      <td>NaN</td>\n",
       "    </tr>\n",
       "    <tr>\n",
       "      <th>19</th>\n",
       "      <td>10001</td>\n",
       "      <td>1986-02-28</td>\n",
       "      <td>1985</td>\n",
       "      <td>1.020408</td>\n",
       "      <td>NaN</td>\n",
       "      <td>NaN</td>\n",
       "      <td>NaN</td>\n",
       "      <td>NaN</td>\n",
       "    </tr>\n",
       "    <tr>\n",
       "      <th>20</th>\n",
       "      <td>10001</td>\n",
       "      <td>1986-03-31</td>\n",
       "      <td>1985</td>\n",
       "      <td>1.025200</td>\n",
       "      <td>1.020408</td>\n",
       "      <td>NaN</td>\n",
       "      <td>1.020408</td>\n",
       "      <td>NaN</td>\n",
       "    </tr>\n",
       "    <tr>\n",
       "      <th>21</th>\n",
       "      <td>10001</td>\n",
       "      <td>1986-04-30</td>\n",
       "      <td>1985</td>\n",
       "      <td>1.009901</td>\n",
       "      <td>1.025200</td>\n",
       "      <td>NaN</td>\n",
       "      <td>1.046122</td>\n",
       "      <td>NaN</td>\n",
       "    </tr>\n",
       "    <tr>\n",
       "      <th>22</th>\n",
       "      <td>10001</td>\n",
       "      <td>1986-05-30</td>\n",
       "      <td>1985</td>\n",
       "      <td>0.990196</td>\n",
       "      <td>1.009901</td>\n",
       "      <td>NaN</td>\n",
       "      <td>1.056480</td>\n",
       "      <td>NaN</td>\n",
       "    </tr>\n",
       "    <tr>\n",
       "      <th>23</th>\n",
       "      <td>10001</td>\n",
       "      <td>1986-06-30</td>\n",
       "      <td>1985</td>\n",
       "      <td>0.986931</td>\n",
       "      <td>0.990196</td>\n",
       "      <td>NaN</td>\n",
       "      <td>1.046122</td>\n",
       "      <td>NaN</td>\n",
       "    </tr>\n",
       "    <tr>\n",
       "      <th>24</th>\n",
       "      <td>10001</td>\n",
       "      <td>1986-07-31</td>\n",
       "      <td>1986</td>\n",
       "      <td>0.989796</td>\n",
       "      <td>NaN</td>\n",
       "      <td>6.033125</td>\n",
       "      <td>NaN</td>\n",
       "      <td>6.033125</td>\n",
       "    </tr>\n",
       "    <tr>\n",
       "      <th>25</th>\n",
       "      <td>10001</td>\n",
       "      <td>1986-08-29</td>\n",
       "      <td>1986</td>\n",
       "      <td>1.072165</td>\n",
       "      <td>0.989796</td>\n",
       "      <td>6.033125</td>\n",
       "      <td>0.989796</td>\n",
       "      <td>5.971563</td>\n",
       "    </tr>\n",
       "    <tr>\n",
       "      <th>26</th>\n",
       "      <td>10001</td>\n",
       "      <td>1986-09-30</td>\n",
       "      <td>1986</td>\n",
       "      <td>0.996923</td>\n",
       "      <td>1.072165</td>\n",
       "      <td>6.033125</td>\n",
       "      <td>1.061225</td>\n",
       "      <td>6.402501</td>\n",
       "    </tr>\n",
       "    <tr>\n",
       "      <th>27</th>\n",
       "      <td>10001</td>\n",
       "      <td>1986-10-31</td>\n",
       "      <td>1986</td>\n",
       "      <td>1.039216</td>\n",
       "      <td>0.996923</td>\n",
       "      <td>6.033125</td>\n",
       "      <td>1.057959</td>\n",
       "      <td>6.382800</td>\n",
       "    </tr>\n",
       "    <tr>\n",
       "      <th>28</th>\n",
       "      <td>10001</td>\n",
       "      <td>1986-11-28</td>\n",
       "      <td>1986</td>\n",
       "      <td>1.056604</td>\n",
       "      <td>1.039216</td>\n",
       "      <td>6.033125</td>\n",
       "      <td>1.099448</td>\n",
       "      <td>6.633108</td>\n",
       "    </tr>\n",
       "    <tr>\n",
       "      <th>29</th>\n",
       "      <td>10001</td>\n",
       "      <td>1986-12-31</td>\n",
       "      <td>1986</td>\n",
       "      <td>1.015000</td>\n",
       "      <td>1.056604</td>\n",
       "      <td>6.033125</td>\n",
       "      <td>1.161681</td>\n",
       "      <td>7.008569</td>\n",
       "    </tr>\n",
       "    <tr>\n",
       "      <th>30</th>\n",
       "      <td>10001</td>\n",
       "      <td>1987-01-30</td>\n",
       "      <td>1986</td>\n",
       "      <td>0.964286</td>\n",
       "      <td>1.015000</td>\n",
       "      <td>6.033125</td>\n",
       "      <td>1.179107</td>\n",
       "      <td>7.113697</td>\n",
       "    </tr>\n",
       "    <tr>\n",
       "      <th>31</th>\n",
       "      <td>10001</td>\n",
       "      <td>1987-02-27</td>\n",
       "      <td>1986</td>\n",
       "      <td>0.925926</td>\n",
       "      <td>0.964286</td>\n",
       "      <td>6.033125</td>\n",
       "      <td>1.136996</td>\n",
       "      <td>6.859639</td>\n",
       "    </tr>\n",
       "    <tr>\n",
       "      <th>32</th>\n",
       "      <td>10001</td>\n",
       "      <td>1987-03-31</td>\n",
       "      <td>1986</td>\n",
       "      <td>1.036800</td>\n",
       "      <td>0.925926</td>\n",
       "      <td>6.033125</td>\n",
       "      <td>1.052774</td>\n",
       "      <td>6.351518</td>\n",
       "    </tr>\n",
       "    <tr>\n",
       "      <th>33</th>\n",
       "      <td>10001</td>\n",
       "      <td>1987-04-30</td>\n",
       "      <td>1986</td>\n",
       "      <td>0.960784</td>\n",
       "      <td>1.036800</td>\n",
       "      <td>6.033125</td>\n",
       "      <td>1.091516</td>\n",
       "      <td>6.585254</td>\n",
       "    </tr>\n",
       "    <tr>\n",
       "      <th>34</th>\n",
       "      <td>10001</td>\n",
       "      <td>1987-05-29</td>\n",
       "      <td>1986</td>\n",
       "      <td>0.928571</td>\n",
       "      <td>0.960784</td>\n",
       "      <td>6.033125</td>\n",
       "      <td>1.048711</td>\n",
       "      <td>6.327006</td>\n",
       "    </tr>\n",
       "    <tr>\n",
       "      <th>35</th>\n",
       "      <td>10001</td>\n",
       "      <td>1987-06-30</td>\n",
       "      <td>1986</td>\n",
       "      <td>1.051429</td>\n",
       "      <td>0.928571</td>\n",
       "      <td>6.033125</td>\n",
       "      <td>0.973803</td>\n",
       "      <td>5.875075</td>\n",
       "    </tr>\n",
       "    <tr>\n",
       "      <th>36</th>\n",
       "      <td>10001</td>\n",
       "      <td>1987-07-31</td>\n",
       "      <td>1987</td>\n",
       "      <td>1.021277</td>\n",
       "      <td>NaN</td>\n",
       "      <td>5.822125</td>\n",
       "      <td>NaN</td>\n",
       "      <td>5.822125</td>\n",
       "    </tr>\n",
       "    <tr>\n",
       "      <th>37</th>\n",
       "      <td>10001</td>\n",
       "      <td>1987-08-31</td>\n",
       "      <td>1987</td>\n",
       "      <td>1.083333</td>\n",
       "      <td>1.021277</td>\n",
       "      <td>5.822125</td>\n",
       "      <td>1.021277</td>\n",
       "      <td>5.946002</td>\n",
       "    </tr>\n",
       "    <tr>\n",
       "      <th>38</th>\n",
       "      <td>10001</td>\n",
       "      <td>1987-09-30</td>\n",
       "      <td>1987</td>\n",
       "      <td>0.977692</td>\n",
       "      <td>1.083333</td>\n",
       "      <td>5.822125</td>\n",
       "      <td>1.106383</td>\n",
       "      <td>6.441501</td>\n",
       "    </tr>\n",
       "    <tr>\n",
       "      <th>39</th>\n",
       "      <td>10001</td>\n",
       "      <td>1987-10-30</td>\n",
       "      <td>1987</td>\n",
       "      <td>1.020000</td>\n",
       "      <td>0.977692</td>\n",
       "      <td>5.822125</td>\n",
       "      <td>1.081702</td>\n",
       "      <td>6.297804</td>\n",
       "    </tr>\n",
       "    <tr>\n",
       "      <th>40</th>\n",
       "      <td>10001</td>\n",
       "      <td>1987-11-30</td>\n",
       "      <td>1987</td>\n",
       "      <td>0.970588</td>\n",
       "      <td>1.020000</td>\n",
       "      <td>5.822125</td>\n",
       "      <td>1.103336</td>\n",
       "      <td>6.423760</td>\n",
       "    </tr>\n",
       "    <tr>\n",
       "      <th>41</th>\n",
       "      <td>10001</td>\n",
       "      <td>1987-12-31</td>\n",
       "      <td>1987</td>\n",
       "      <td>0.966465</td>\n",
       "      <td>0.970588</td>\n",
       "      <td>5.822125</td>\n",
       "      <td>1.070885</td>\n",
       "      <td>6.234824</td>\n",
       "    </tr>\n",
       "    <tr>\n",
       "      <th>42</th>\n",
       "      <td>10001</td>\n",
       "      <td>1988-01-29</td>\n",
       "      <td>1987</td>\n",
       "      <td>1.063830</td>\n",
       "      <td>0.966465</td>\n",
       "      <td>5.822125</td>\n",
       "      <td>1.034972</td>\n",
       "      <td>6.025739</td>\n",
       "    </tr>\n",
       "    <tr>\n",
       "      <th>43</th>\n",
       "      <td>10001</td>\n",
       "      <td>1988-02-29</td>\n",
       "      <td>1987</td>\n",
       "      <td>1.080000</td>\n",
       "      <td>1.063830</td>\n",
       "      <td>5.822125</td>\n",
       "      <td>1.101035</td>\n",
       "      <td>6.410362</td>\n",
       "    </tr>\n",
       "    <tr>\n",
       "      <th>44</th>\n",
       "      <td>10001</td>\n",
       "      <td>1988-03-31</td>\n",
       "      <td>1987</td>\n",
       "      <td>0.923704</td>\n",
       "      <td>1.080000</td>\n",
       "      <td>5.822125</td>\n",
       "      <td>1.189118</td>\n",
       "      <td>6.923191</td>\n",
       "    </tr>\n",
       "    <tr>\n",
       "      <th>45</th>\n",
       "      <td>10001</td>\n",
       "      <td>1988-04-29</td>\n",
       "      <td>1987</td>\n",
       "      <td>1.030612</td>\n",
       "      <td>0.923704</td>\n",
       "      <td>5.822125</td>\n",
       "      <td>1.098393</td>\n",
       "      <td>6.394979</td>\n",
       "    </tr>\n",
       "    <tr>\n",
       "      <th>46</th>\n",
       "      <td>10001</td>\n",
       "      <td>1988-05-31</td>\n",
       "      <td>1987</td>\n",
       "      <td>1.019802</td>\n",
       "      <td>1.030612</td>\n",
       "      <td>5.822125</td>\n",
       "      <td>1.132017</td>\n",
       "      <td>6.590742</td>\n",
       "    </tr>\n",
       "    <tr>\n",
       "      <th>47</th>\n",
       "      <td>10001</td>\n",
       "      <td>1988-06-30</td>\n",
       "      <td>1987</td>\n",
       "      <td>0.987961</td>\n",
       "      <td>1.019802</td>\n",
       "      <td>5.822125</td>\n",
       "      <td>1.154433</td>\n",
       "      <td>6.721252</td>\n",
       "    </tr>\n",
       "    <tr>\n",
       "      <th>48</th>\n",
       "      <td>10001</td>\n",
       "      <td>1988-07-29</td>\n",
       "      <td>1988</td>\n",
       "      <td>1.030000</td>\n",
       "      <td>NaN</td>\n",
       "      <td>6.200000</td>\n",
       "      <td>NaN</td>\n",
       "      <td>6.200000</td>\n",
       "    </tr>\n",
       "    <tr>\n",
       "      <th>49</th>\n",
       "      <td>10001</td>\n",
       "      <td>1988-08-31</td>\n",
       "      <td>1988</td>\n",
       "      <td>1.029126</td>\n",
       "      <td>1.030000</td>\n",
       "      <td>6.200000</td>\n",
       "      <td>1.030000</td>\n",
       "      <td>6.386000</td>\n",
       "    </tr>\n",
       "  </tbody>\n",
       "</table>\n",
       "</div>"
      ],
      "text/plain": [
       "    PERMNO       date    HP        Ri     L1_Ri     ME_Jun    RiFctr  \\\n",
       "0    10000 1986-01-31  1985       NaN       NaN        NaN       NaN   \n",
       "1    10000 1986-02-28  1985  0.742857       NaN        NaN       NaN   \n",
       "2    10000 1986-03-31  1985  1.365385  0.742857        NaN  0.742857   \n",
       "3    10000 1986-04-30  1985  0.901408  1.365385        NaN  1.014286   \n",
       "4    10000 1986-05-30  1985  0.777344  0.901408        NaN  0.914285   \n",
       "5    10000 1986-06-30  1985  0.994975  0.777344        NaN  0.710714   \n",
       "6    10000 1986-07-31  1986  0.919192       NaN  11.734594       NaN   \n",
       "7    10000 1986-08-29  1986  0.384615  0.919192  11.734594  0.919192   \n",
       "8    10000 1986-09-30  1986  0.942857  0.384615  11.734594  0.353535   \n",
       "9    10000 1986-10-31  1986  0.757576  0.942857  11.734594  0.333333   \n",
       "10   10000 1986-11-28  1986  1.060000  0.757576  11.734594  0.252525   \n",
       "11   10000 1986-12-31  1986  0.622642  1.060000  11.734594  0.267677   \n",
       "12   10000 1987-01-30  1986  0.787879  0.622642  11.734594  0.166667   \n",
       "13   10000 1987-02-27  1986  1.000000  0.787879  11.734594  0.131313   \n",
       "14   10000 1987-03-31  1986  0.615385  1.000000  11.734594  0.131313   \n",
       "15   10000 1987-04-30  1986  0.937500  0.615385  11.734594  0.080808   \n",
       "16   10000 1987-05-29  1986  0.933333  0.937500  11.734594  0.075758   \n",
       "17   10000 1987-06-30  1986       NaN  0.933333  11.734594  0.070707   \n",
       "18   10001 1986-01-31  1985       NaN       NaN        NaN       NaN   \n",
       "19   10001 1986-02-28  1985  1.020408       NaN        NaN       NaN   \n",
       "20   10001 1986-03-31  1985  1.025200  1.020408        NaN  1.020408   \n",
       "21   10001 1986-04-30  1985  1.009901  1.025200        NaN  1.046122   \n",
       "22   10001 1986-05-30  1985  0.990196  1.009901        NaN  1.056480   \n",
       "23   10001 1986-06-30  1985  0.986931  0.990196        NaN  1.046122   \n",
       "24   10001 1986-07-31  1986  0.989796       NaN   6.033125       NaN   \n",
       "25   10001 1986-08-29  1986  1.072165  0.989796   6.033125  0.989796   \n",
       "26   10001 1986-09-30  1986  0.996923  1.072165   6.033125  1.061225   \n",
       "27   10001 1986-10-31  1986  1.039216  0.996923   6.033125  1.057959   \n",
       "28   10001 1986-11-28  1986  1.056604  1.039216   6.033125  1.099448   \n",
       "29   10001 1986-12-31  1986  1.015000  1.056604   6.033125  1.161681   \n",
       "30   10001 1987-01-30  1986  0.964286  1.015000   6.033125  1.179107   \n",
       "31   10001 1987-02-27  1986  0.925926  0.964286   6.033125  1.136996   \n",
       "32   10001 1987-03-31  1986  1.036800  0.925926   6.033125  1.052774   \n",
       "33   10001 1987-04-30  1986  0.960784  1.036800   6.033125  1.091516   \n",
       "34   10001 1987-05-29  1986  0.928571  0.960784   6.033125  1.048711   \n",
       "35   10001 1987-06-30  1986  1.051429  0.928571   6.033125  0.973803   \n",
       "36   10001 1987-07-31  1987  1.021277       NaN   5.822125       NaN   \n",
       "37   10001 1987-08-31  1987  1.083333  1.021277   5.822125  1.021277   \n",
       "38   10001 1987-09-30  1987  0.977692  1.083333   5.822125  1.106383   \n",
       "39   10001 1987-10-30  1987  1.020000  0.977692   5.822125  1.081702   \n",
       "40   10001 1987-11-30  1987  0.970588  1.020000   5.822125  1.103336   \n",
       "41   10001 1987-12-31  1987  0.966465  0.970588   5.822125  1.070885   \n",
       "42   10001 1988-01-29  1987  1.063830  0.966465   5.822125  1.034972   \n",
       "43   10001 1988-02-29  1987  1.080000  1.063830   5.822125  1.101035   \n",
       "44   10001 1988-03-31  1987  0.923704  1.080000   5.822125  1.189118   \n",
       "45   10001 1988-04-29  1987  1.030612  0.923704   5.822125  1.098393   \n",
       "46   10001 1988-05-31  1987  1.019802  1.030612   5.822125  1.132017   \n",
       "47   10001 1988-06-30  1987  0.987961  1.019802   5.822125  1.154433   \n",
       "48   10001 1988-07-29  1988  1.030000       NaN   6.200000       NaN   \n",
       "49   10001 1988-08-31  1988  1.029126  1.030000   6.200000  1.030000   \n",
       "\n",
       "         Size  \n",
       "0         NaN  \n",
       "1         NaN  \n",
       "2         NaN  \n",
       "3         NaN  \n",
       "4         NaN  \n",
       "5         NaN  \n",
       "6   11.734594  \n",
       "7   10.786345  \n",
       "8    4.148590  \n",
       "9    3.911527  \n",
       "10   2.963279  \n",
       "11   3.141076  \n",
       "12   1.955766  \n",
       "13   1.540907  \n",
       "14   1.540907  \n",
       "15   0.948251  \n",
       "16   0.888985  \n",
       "17   0.829719  \n",
       "18        NaN  \n",
       "19        NaN  \n",
       "20        NaN  \n",
       "21        NaN  \n",
       "22        NaN  \n",
       "23        NaN  \n",
       "24   6.033125  \n",
       "25   5.971563  \n",
       "26   6.402501  \n",
       "27   6.382800  \n",
       "28   6.633108  \n",
       "29   7.008569  \n",
       "30   7.113697  \n",
       "31   6.859639  \n",
       "32   6.351518  \n",
       "33   6.585254  \n",
       "34   6.327006  \n",
       "35   5.875075  \n",
       "36   5.822125  \n",
       "37   5.946002  \n",
       "38   6.441501  \n",
       "39   6.297804  \n",
       "40   6.423760  \n",
       "41   6.234824  \n",
       "42   6.025739  \n",
       "43   6.410362  \n",
       "44   6.923191  \n",
       "45   6.394979  \n",
       "46   6.590742  \n",
       "47   6.721252  \n",
       "48   6.200000  \n",
       "49   6.386000  "
      ]
     },
     "execution_count": 26,
     "metadata": {},
     "output_type": "execute_result"
    }
   ],
   "source": [
    "crsp.head(n=50)[[\"PERMNO\", \"date\", \"HP\", \"Ri\", \"L1_Ri\", \"ME_Jun\", \"RiFctr\", \"Size\"]]"
   ]
  },
  {
   "cell_type": "markdown",
   "metadata": {},
   "source": [
    "Breakpoints are decided by only NYSE stocks."
   ]
  },
  {
   "cell_type": "code",
   "execution_count": 27,
   "metadata": {
    "scrolled": true
   },
   "outputs": [],
   "source": [
    "grp = nyse[~nyse.ME.isna()][[\"HP\", \"ME\"]].groupby(\"HP\")  # grouped objects perform operations on the grouped column/variable\n",
    "del nyse\n",
    "brk = grp.quantile(pd.np.array(range(1, 21))/20).unstack()  # 5% to 100% in 5% increments\n",
    "#brk = brk.reset_index(\"date\")  # grab the date column out of the index\n",
    "#brk[\"HP\"] = brk.date.dt.year + 1  # create holding period from the date\n",
    "#brk = brk.drop(\"date\", axis=1).set_index(\"HP\")  # we don't want the date column anymore\n",
    "brk.columns = brk.columns.droplevel(0)  # drop the needless \"ME\" top-level column index"
   ]
  },
  {
   "cell_type": "code",
   "execution_count": 28,
   "metadata": {},
   "outputs": [
    {
     "data": {
      "text/html": [
       "<div>\n",
       "<style scoped>\n",
       "    .dataframe tbody tr th:only-of-type {\n",
       "        vertical-align: middle;\n",
       "    }\n",
       "\n",
       "    .dataframe tbody tr th {\n",
       "        vertical-align: top;\n",
       "    }\n",
       "\n",
       "    .dataframe thead th {\n",
       "        text-align: right;\n",
       "    }\n",
       "</style>\n",
       "<table border=\"1\" class=\"dataframe\">\n",
       "  <thead>\n",
       "    <tr style=\"text-align: right;\">\n",
       "      <th></th>\n",
       "      <th>0.05</th>\n",
       "      <th>0.1</th>\n",
       "      <th>0.15</th>\n",
       "      <th>0.2</th>\n",
       "      <th>0.25</th>\n",
       "      <th>0.3</th>\n",
       "      <th>0.35</th>\n",
       "      <th>0.4</th>\n",
       "      <th>0.45</th>\n",
       "      <th>0.5</th>\n",
       "      <th>0.55</th>\n",
       "      <th>0.6</th>\n",
       "      <th>0.65</th>\n",
       "      <th>0.7</th>\n",
       "      <th>0.75</th>\n",
       "      <th>0.8</th>\n",
       "      <th>0.85</th>\n",
       "      <th>0.9</th>\n",
       "      <th>0.95</th>\n",
       "      <th>1.0</th>\n",
       "    </tr>\n",
       "    <tr>\n",
       "      <th>HP</th>\n",
       "      <th></th>\n",
       "      <th></th>\n",
       "      <th></th>\n",
       "      <th></th>\n",
       "      <th></th>\n",
       "      <th></th>\n",
       "      <th></th>\n",
       "      <th></th>\n",
       "      <th></th>\n",
       "      <th></th>\n",
       "      <th></th>\n",
       "      <th></th>\n",
       "      <th></th>\n",
       "      <th></th>\n",
       "      <th></th>\n",
       "      <th></th>\n",
       "      <th></th>\n",
       "      <th></th>\n",
       "      <th></th>\n",
       "      <th></th>\n",
       "    </tr>\n",
       "  </thead>\n",
       "  <tbody>\n",
       "    <tr>\n",
       "      <th>1962</th>\n",
       "      <td>6.799500</td>\n",
       "      <td>10.822500</td>\n",
       "      <td>14.511000</td>\n",
       "      <td>18.744000</td>\n",
       "      <td>22.066000</td>\n",
       "      <td>27.671875</td>\n",
       "      <td>32.988750</td>\n",
       "      <td>40.982250</td>\n",
       "      <td>49.335000</td>\n",
       "      <td>58.397500</td>\n",
       "      <td>71.428500</td>\n",
       "      <td>87.42125</td>\n",
       "      <td>109.005000</td>\n",
       "      <td>136.554000</td>\n",
       "      <td>176.112000</td>\n",
       "      <td>250.786250</td>\n",
       "      <td>350.493000</td>\n",
       "      <td>481.734500</td>\n",
       "      <td>781.011000</td>\n",
       "      <td>24477.633750</td>\n",
       "    </tr>\n",
       "    <tr>\n",
       "      <th>1963</th>\n",
       "      <td>8.880250</td>\n",
       "      <td>13.903750</td>\n",
       "      <td>18.424000</td>\n",
       "      <td>24.055500</td>\n",
       "      <td>30.779250</td>\n",
       "      <td>36.156000</td>\n",
       "      <td>41.847563</td>\n",
       "      <td>48.880000</td>\n",
       "      <td>60.026375</td>\n",
       "      <td>71.846250</td>\n",
       "      <td>89.232812</td>\n",
       "      <td>102.64800</td>\n",
       "      <td>132.439250</td>\n",
       "      <td>169.537500</td>\n",
       "      <td>228.804750</td>\n",
       "      <td>308.902625</td>\n",
       "      <td>429.056250</td>\n",
       "      <td>611.786000</td>\n",
       "      <td>956.054062</td>\n",
       "      <td>29324.058125</td>\n",
       "    </tr>\n",
       "    <tr>\n",
       "      <th>1964</th>\n",
       "      <td>10.076288</td>\n",
       "      <td>16.115925</td>\n",
       "      <td>20.491900</td>\n",
       "      <td>25.782900</td>\n",
       "      <td>32.731188</td>\n",
       "      <td>40.241700</td>\n",
       "      <td>47.365400</td>\n",
       "      <td>56.011175</td>\n",
       "      <td>65.680638</td>\n",
       "      <td>79.508000</td>\n",
       "      <td>92.978600</td>\n",
       "      <td>111.51720</td>\n",
       "      <td>149.601575</td>\n",
       "      <td>188.945575</td>\n",
       "      <td>252.593125</td>\n",
       "      <td>347.418150</td>\n",
       "      <td>474.272400</td>\n",
       "      <td>697.281800</td>\n",
       "      <td>1132.439400</td>\n",
       "      <td>37773.855000</td>\n",
       "    </tr>\n",
       "    <tr>\n",
       "      <th>1965</th>\n",
       "      <td>11.737500</td>\n",
       "      <td>18.287188</td>\n",
       "      <td>23.053688</td>\n",
       "      <td>28.585500</td>\n",
       "      <td>34.323500</td>\n",
       "      <td>40.925562</td>\n",
       "      <td>48.855375</td>\n",
       "      <td>58.167000</td>\n",
       "      <td>70.125438</td>\n",
       "      <td>84.832250</td>\n",
       "      <td>105.153750</td>\n",
       "      <td>122.58000</td>\n",
       "      <td>156.298531</td>\n",
       "      <td>195.494375</td>\n",
       "      <td>266.619625</td>\n",
       "      <td>367.632000</td>\n",
       "      <td>505.057406</td>\n",
       "      <td>739.194000</td>\n",
       "      <td>1146.895344</td>\n",
       "      <td>35196.161000</td>\n",
       "    </tr>\n",
       "    <tr>\n",
       "      <th>1966</th>\n",
       "      <td>14.782950</td>\n",
       "      <td>22.048913</td>\n",
       "      <td>29.283725</td>\n",
       "      <td>35.024850</td>\n",
       "      <td>40.716031</td>\n",
       "      <td>48.440100</td>\n",
       "      <td>59.404637</td>\n",
       "      <td>70.594775</td>\n",
       "      <td>83.788263</td>\n",
       "      <td>99.947500</td>\n",
       "      <td>116.422950</td>\n",
       "      <td>144.75910</td>\n",
       "      <td>178.101000</td>\n",
       "      <td>221.934600</td>\n",
       "      <td>296.636937</td>\n",
       "      <td>403.164675</td>\n",
       "      <td>539.365950</td>\n",
       "      <td>784.998375</td>\n",
       "      <td>1198.740844</td>\n",
       "      <td>29141.420000</td>\n",
       "    </tr>\n",
       "    <tr>\n",
       "      <th>1967</th>\n",
       "      <td>17.203250</td>\n",
       "      <td>25.939725</td>\n",
       "      <td>34.782400</td>\n",
       "      <td>42.565475</td>\n",
       "      <td>50.746969</td>\n",
       "      <td>60.409031</td>\n",
       "      <td>71.155131</td>\n",
       "      <td>83.807000</td>\n",
       "      <td>98.601200</td>\n",
       "      <td>119.311250</td>\n",
       "      <td>144.230013</td>\n",
       "      <td>173.94200</td>\n",
       "      <td>216.063400</td>\n",
       "      <td>275.594550</td>\n",
       "      <td>347.284500</td>\n",
       "      <td>460.068300</td>\n",
       "      <td>585.584900</td>\n",
       "      <td>856.702988</td>\n",
       "      <td>1325.086125</td>\n",
       "      <td>30746.883000</td>\n",
       "    </tr>\n",
       "    <tr>\n",
       "      <th>1968</th>\n",
       "      <td>29.568250</td>\n",
       "      <td>37.813975</td>\n",
       "      <td>47.887213</td>\n",
       "      <td>60.845200</td>\n",
       "      <td>70.251563</td>\n",
       "      <td>80.333550</td>\n",
       "      <td>93.282312</td>\n",
       "      <td>108.689000</td>\n",
       "      <td>129.917506</td>\n",
       "      <td>151.076000</td>\n",
       "      <td>181.141775</td>\n",
       "      <td>217.67100</td>\n",
       "      <td>272.853831</td>\n",
       "      <td>327.513300</td>\n",
       "      <td>396.418313</td>\n",
       "      <td>531.359850</td>\n",
       "      <td>681.285750</td>\n",
       "      <td>920.378900</td>\n",
       "      <td>1517.340350</td>\n",
       "      <td>39700.655000</td>\n",
       "    </tr>\n",
       "    <tr>\n",
       "      <th>1969</th>\n",
       "      <td>27.972425</td>\n",
       "      <td>36.449550</td>\n",
       "      <td>44.884050</td>\n",
       "      <td>55.025775</td>\n",
       "      <td>65.669250</td>\n",
       "      <td>77.121113</td>\n",
       "      <td>87.985625</td>\n",
       "      <td>106.903775</td>\n",
       "      <td>125.647819</td>\n",
       "      <td>148.035313</td>\n",
       "      <td>169.216200</td>\n",
       "      <td>199.55625</td>\n",
       "      <td>259.573594</td>\n",
       "      <td>316.464387</td>\n",
       "      <td>404.334313</td>\n",
       "      <td>523.428125</td>\n",
       "      <td>678.089675</td>\n",
       "      <td>875.984475</td>\n",
       "      <td>1594.644825</td>\n",
       "      <td>38154.942000</td>\n",
       "    </tr>\n",
       "    <tr>\n",
       "      <th>1970</th>\n",
       "      <td>14.397700</td>\n",
       "      <td>19.438950</td>\n",
       "      <td>25.075163</td>\n",
       "      <td>30.035200</td>\n",
       "      <td>36.975375</td>\n",
       "      <td>46.609575</td>\n",
       "      <td>53.293100</td>\n",
       "      <td>65.006400</td>\n",
       "      <td>78.745837</td>\n",
       "      <td>95.894125</td>\n",
       "      <td>114.797638</td>\n",
       "      <td>139.90100</td>\n",
       "      <td>169.142200</td>\n",
       "      <td>219.143587</td>\n",
       "      <td>286.270344</td>\n",
       "      <td>382.636500</td>\n",
       "      <td>491.448300</td>\n",
       "      <td>672.423600</td>\n",
       "      <td>1101.431888</td>\n",
       "      <td>28429.500000</td>\n",
       "    </tr>\n",
       "    <tr>\n",
       "      <th>1971</th>\n",
       "      <td>22.457500</td>\n",
       "      <td>29.274513</td>\n",
       "      <td>36.410687</td>\n",
       "      <td>45.869400</td>\n",
       "      <td>57.454781</td>\n",
       "      <td>69.010950</td>\n",
       "      <td>82.828387</td>\n",
       "      <td>104.701350</td>\n",
       "      <td>126.213831</td>\n",
       "      <td>148.242875</td>\n",
       "      <td>174.634013</td>\n",
       "      <td>203.82860</td>\n",
       "      <td>263.957231</td>\n",
       "      <td>345.615375</td>\n",
       "      <td>437.700094</td>\n",
       "      <td>552.022900</td>\n",
       "      <td>704.588462</td>\n",
       "      <td>952.640725</td>\n",
       "      <td>1554.696769</td>\n",
       "      <td>36132.928000</td>\n",
       "    </tr>\n",
       "  </tbody>\n",
       "</table>\n",
       "</div>"
      ],
      "text/plain": [
       "           0.05       0.10       0.15       0.20       0.25       0.30  \\\n",
       "HP                                                                       \n",
       "1962   6.799500  10.822500  14.511000  18.744000  22.066000  27.671875   \n",
       "1963   8.880250  13.903750  18.424000  24.055500  30.779250  36.156000   \n",
       "1964  10.076288  16.115925  20.491900  25.782900  32.731188  40.241700   \n",
       "1965  11.737500  18.287188  23.053688  28.585500  34.323500  40.925562   \n",
       "1966  14.782950  22.048913  29.283725  35.024850  40.716031  48.440100   \n",
       "1967  17.203250  25.939725  34.782400  42.565475  50.746969  60.409031   \n",
       "1968  29.568250  37.813975  47.887213  60.845200  70.251563  80.333550   \n",
       "1969  27.972425  36.449550  44.884050  55.025775  65.669250  77.121113   \n",
       "1970  14.397700  19.438950  25.075163  30.035200  36.975375  46.609575   \n",
       "1971  22.457500  29.274513  36.410687  45.869400  57.454781  69.010950   \n",
       "\n",
       "           0.35        0.40        0.45        0.50        0.55       0.60  \\\n",
       "HP                                                                           \n",
       "1962  32.988750   40.982250   49.335000   58.397500   71.428500   87.42125   \n",
       "1963  41.847563   48.880000   60.026375   71.846250   89.232812  102.64800   \n",
       "1964  47.365400   56.011175   65.680638   79.508000   92.978600  111.51720   \n",
       "1965  48.855375   58.167000   70.125438   84.832250  105.153750  122.58000   \n",
       "1966  59.404637   70.594775   83.788263   99.947500  116.422950  144.75910   \n",
       "1967  71.155131   83.807000   98.601200  119.311250  144.230013  173.94200   \n",
       "1968  93.282312  108.689000  129.917506  151.076000  181.141775  217.67100   \n",
       "1969  87.985625  106.903775  125.647819  148.035313  169.216200  199.55625   \n",
       "1970  53.293100   65.006400   78.745837   95.894125  114.797638  139.90100   \n",
       "1971  82.828387  104.701350  126.213831  148.242875  174.634013  203.82860   \n",
       "\n",
       "            0.65        0.70        0.75        0.80        0.85        0.90  \\\n",
       "HP                                                                             \n",
       "1962  109.005000  136.554000  176.112000  250.786250  350.493000  481.734500   \n",
       "1963  132.439250  169.537500  228.804750  308.902625  429.056250  611.786000   \n",
       "1964  149.601575  188.945575  252.593125  347.418150  474.272400  697.281800   \n",
       "1965  156.298531  195.494375  266.619625  367.632000  505.057406  739.194000   \n",
       "1966  178.101000  221.934600  296.636937  403.164675  539.365950  784.998375   \n",
       "1967  216.063400  275.594550  347.284500  460.068300  585.584900  856.702988   \n",
       "1968  272.853831  327.513300  396.418313  531.359850  681.285750  920.378900   \n",
       "1969  259.573594  316.464387  404.334313  523.428125  678.089675  875.984475   \n",
       "1970  169.142200  219.143587  286.270344  382.636500  491.448300  672.423600   \n",
       "1971  263.957231  345.615375  437.700094  552.022900  704.588462  952.640725   \n",
       "\n",
       "             0.95          1.00  \n",
       "HP                               \n",
       "1962   781.011000  24477.633750  \n",
       "1963   956.054062  29324.058125  \n",
       "1964  1132.439400  37773.855000  \n",
       "1965  1146.895344  35196.161000  \n",
       "1966  1198.740844  29141.420000  \n",
       "1967  1325.086125  30746.883000  \n",
       "1968  1517.340350  39700.655000  \n",
       "1969  1594.644825  38154.942000  \n",
       "1970  1101.431888  28429.500000  \n",
       "1971  1554.696769  36132.928000  "
      ]
     },
     "execution_count": 28,
     "metadata": {},
     "output_type": "execute_result"
    }
   ],
   "source": [
    "brk.head(n=10)"
   ]
  },
  {
   "cell_type": "markdown",
   "metadata": {},
   "source": [
    "Writing this to a file means we can check it later or use breakpoints from Kennth French later if we have a lot of troubles."
   ]
  },
  {
   "cell_type": "code",
   "execution_count": 29,
   "metadata": {},
   "outputs": [],
   "source": [
    "brk.to_csv(\"C:/Data/Thesis/Brks_Jun_ME.csv\")  # column headers are decimals, potential floating point precision garbage"
   ]
  },
  {
   "cell_type": "markdown",
   "metadata": {},
   "source": [
    "NYSE breakpoints are used to assign _all_ stocks to $Size$ buckets."
   ]
  },
  {
   "cell_type": "code",
   "execution_count": 30,
   "metadata": {},
   "outputs": [],
   "source": [
    "jun = jun.merge(brk.reset_index(\"HP\"), on=[\"HP\",], how=\"left\")"
   ]
  },
  {
   "cell_type": "code",
   "execution_count": 31,
   "metadata": {},
   "outputs": [
    {
     "data": {
      "text/plain": [
       "(260825, 25)"
      ]
     },
     "execution_count": 31,
     "metadata": {},
     "output_type": "execute_result"
    }
   ],
   "source": [
    "jun.shape"
   ]
  },
  {
   "cell_type": "code",
   "execution_count": 32,
   "metadata": {},
   "outputs": [],
   "source": [
    "def assign_bkts(df, var, brkpts, prefix=None, suffix=\"Bkt\"):\n",
    "    \"\"\"\n",
    "    Assigns buckets to column `var` based on percentiles in `brkpts`.\n",
    "    \n",
    "    Assumes breakpoints are already in dataframe `df` and are named the same as given in `brkpts`.\n",
    "    Buckets are integers beginning with 1 ending with len(brkpts).\n",
    "    \"\"\"\n",
    "\n",
    "    if not prefix:\n",
    "        prefix = var\n",
    "    varbkt = prefix + suffix\n",
    "\n",
    "    df[varbkt] = pd.np.NaN\n",
    "\n",
    "    for i, brkpt in enumerate(brkpts):  # index begins at 0\n",
    "        if i==0:\n",
    "            df.loc[df[var]<=df[brkpt], varbkt] = 1\n",
    "        else:\n",
    "            df.loc[(df[var]>df[brkpts[i-1]]) & (df[var]<=df[brkpt]), varbkt] = i + 1\n",
    "\n",
    "    return df"
   ]
  },
  {
   "cell_type": "markdown",
   "metadata": {},
   "source": [
    "### Median"
   ]
  },
  {
   "cell_type": "code",
   "execution_count": 33,
   "metadata": {},
   "outputs": [],
   "source": [
    "jun = assign_bkts(jun, \"ME_Jun\", [.5, 1.])"
   ]
  },
  {
   "cell_type": "code",
   "execution_count": 34,
   "metadata": {},
   "outputs": [],
   "source": [
    "jun[[\"PERMNO\", \"HP\", \"ME_JunBkt\"]].set_index(\"HP\").to_csv(\"C:/Data/Thesis/Bkts_Jun_ME_2.csv\")"
   ]
  },
  {
   "cell_type": "markdown",
   "metadata": {},
   "source": [
    "### Quintiles"
   ]
  },
  {
   "cell_type": "code",
   "execution_count": 35,
   "metadata": {
    "scrolled": true
   },
   "outputs": [],
   "source": [
    "jun = assign_bkts(jun, \"ME_Jun\", [.2, .4, .6, .8, 1.])"
   ]
  },
  {
   "cell_type": "code",
   "execution_count": 36,
   "metadata": {},
   "outputs": [],
   "source": [
    "jun[[\"PERMNO\", \"HP\", \"ME_JunBkt\"]].set_index(\"HP\").to_csv(\"C:/Data/Thesis/Bkts_Jun_ME_5.csv\")"
   ]
  },
  {
   "cell_type": "markdown",
   "metadata": {},
   "source": [
    "### Deciles"
   ]
  },
  {
   "cell_type": "code",
   "execution_count": 37,
   "metadata": {
    "scrolled": true
   },
   "outputs": [],
   "source": [
    "jun = assign_bkts(jun, \"ME_Jun\", [.1, .2, .3, .4, .5, .6, .7, .8, .9, 1.])"
   ]
  },
  {
   "cell_type": "code",
   "execution_count": 38,
   "metadata": {},
   "outputs": [],
   "source": [
    "jun[[\"PERMNO\", \"HP\", \"ME_JunBkt\"]].set_index(\"HP\").to_csv(\"C:/Data/Thesis/Bkts_Jun_ME_10.csv\")"
   ]
  },
  {
   "cell_type": "markdown",
   "metadata": {},
   "source": [
    "Let's use the decile breakpoints to check how close we get to the returns from Kenneth French's website for 10 size buckets."
   ]
  },
  {
   "cell_type": "code",
   "execution_count": 39,
   "metadata": {},
   "outputs": [],
   "source": [
    "crsp = crsp.merge(jun[[\"PERMNO\", \"HP\", \"ME_JunBkt\"]], on=[\"PERMNO\", \"HP\"], how=\"left\")  # could use inner here"
   ]
  },
  {
   "cell_type": "code",
   "execution_count": 40,
   "metadata": {},
   "outputs": [
    {
     "data": {
      "text/plain": [
       "0.05840207274116957"
      ]
     },
     "execution_count": 40,
     "metadata": {},
     "output_type": "execute_result"
    }
   ],
   "source": [
    "crsp.ME_JunBkt.isna().sum() / crsp.PERMNO.count()"
   ]
  },
  {
   "cell_type": "code",
   "execution_count": 41,
   "metadata": {},
   "outputs": [],
   "source": [
    "crsp[\"BktSize\"] = crsp[~crsp.ME_Jun.isna()].groupby([\"ME_JunBkt\", \"date\"]).Size.transform(\"sum\")  # dplyr `mutate`\n",
    "crsp[\"WtRET\"] = crsp.Size * crsp.RET / crsp.BktSize\n",
    "bkt = crsp[~crsp.ME_Jun.isna()].groupby([\"ME_JunBkt\", \"date\"]).WtRET.sum()"
   ]
  },
  {
   "cell_type": "markdown",
   "metadata": {},
   "source": [
    "Not bad :)"
   ]
  },
  {
   "cell_type": "code",
   "execution_count": 42,
   "metadata": {},
   "outputs": [],
   "source": [
    "# 1.15, 1.11, 1.19, 1.12, 1.15, 1.09, 1.09, 1.06, 0.99, 0.86"
   ]
  },
  {
   "cell_type": "code",
   "execution_count": 43,
   "metadata": {},
   "outputs": [
    {
     "data": {
      "text/plain": [
       "ME_JunBkt\n",
       "1.0     1.16\n",
       "2.0     1.09\n",
       "3.0     1.17\n",
       "4.0     1.13\n",
       "5.0     1.14\n",
       "6.0     1.05\n",
       "7.0     1.09\n",
       "8.0     1.06\n",
       "9.0     1.00\n",
       "10.0    0.85\n",
       "dtype: float64"
      ]
     },
     "execution_count": 43,
     "metadata": {},
     "output_type": "execute_result"
    }
   ],
   "source": [
    "(bkt.unstack(level=0)[\"1963-07\":\"2017-12\"].mean()*100).round(2)"
   ]
  },
  {
   "cell_type": "markdown",
   "metadata": {},
   "source": [
    "## Prior Return"
   ]
  },
  {
   "cell_type": "code",
   "execution_count": 44,
   "metadata": {},
   "outputs": [],
   "source": [
    "crsp[\"PriorRET\"] = crsp.RET.fillna(-.9999)"
   ]
  },
  {
   "cell_type": "code",
   "execution_count": 45,
   "metadata": {},
   "outputs": [],
   "source": [
    "grp = crsp.groupby(\"PERMNO\")"
   ]
  },
  {
   "cell_type": "code",
   "execution_count": 46,
   "metadata": {},
   "outputs": [],
   "source": [
    "crsp[\"Prior\"] = grp.PriorRET.shift(2)  + grp.PriorRET.shift(3) + grp.PriorRET.shift(4) + \\\n",
    "                grp.PriorRET.shift(5)  + grp.PriorRET.shift(6) + grp.PriorRET.shift(7) + \\\n",
    "                grp.PriorRET.shift(8)  + grp.PriorRET.shift(9) + grp.PriorRET.shift(10) + \\\n",
    "                grp.PriorRET.shift(11) + grp.PriorRET.shift(12)"
   ]
  },
  {
   "cell_type": "code",
   "execution_count": 47,
   "metadata": {},
   "outputs": [
    {
     "data": {
      "text/plain": [
       "0.09108691948987906"
      ]
     },
     "execution_count": 47,
     "metadata": {},
     "output_type": "execute_result"
    }
   ],
   "source": [
    "crsp.Prior.isna().sum() / crsp.PERMNO.count()"
   ]
  },
  {
   "cell_type": "markdown",
   "metadata": {},
   "source": [
    "Momentum portfolios are rebalanced every month."
   ]
  },
  {
   "cell_type": "code",
   "execution_count": 48,
   "metadata": {},
   "outputs": [],
   "source": [
    "crsp[\"L1_ME\"] = grp.ME.shift(1)"
   ]
  },
  {
   "cell_type": "markdown",
   "metadata": {},
   "source": [
    "Stocks must have a price 13 months ago and a return last month."
   ]
  },
  {
   "cell_type": "code",
   "execution_count": 49,
   "metadata": {},
   "outputs": [],
   "source": [
    "crsp[\"PriorOK\"] = (~grp.PRC.shift(13).isna()) & (~grp.RET.shift(2).isna()) & (~grp.ME.shift(1).isna())"
   ]
  },
  {
   "cell_type": "code",
   "execution_count": 50,
   "metadata": {
    "scrolled": true
   },
   "outputs": [],
   "source": [
    "brk = crsp[[\"date\", \"Prior\"]][(crsp.EXCHCD==1) & (crsp.PriorOK)].groupby(\"date\").quantile(pd.np.array(range(1, 21))/20).unstack()\n",
    "brk.columns = brk.columns.droplevel(0)"
   ]
  },
  {
   "cell_type": "code",
   "execution_count": 51,
   "metadata": {
    "scrolled": true
   },
   "outputs": [
    {
     "data": {
      "text/html": [
       "<div>\n",
       "<style scoped>\n",
       "    .dataframe tbody tr th:only-of-type {\n",
       "        vertical-align: middle;\n",
       "    }\n",
       "\n",
       "    .dataframe tbody tr th {\n",
       "        vertical-align: top;\n",
       "    }\n",
       "\n",
       "    .dataframe thead th {\n",
       "        text-align: right;\n",
       "    }\n",
       "</style>\n",
       "<table border=\"1\" class=\"dataframe\">\n",
       "  <thead>\n",
       "    <tr style=\"text-align: right;\">\n",
       "      <th></th>\n",
       "      <th>0.05</th>\n",
       "      <th>0.1</th>\n",
       "      <th>0.15</th>\n",
       "      <th>0.2</th>\n",
       "      <th>0.25</th>\n",
       "      <th>0.3</th>\n",
       "      <th>0.35</th>\n",
       "      <th>0.4</th>\n",
       "      <th>0.45</th>\n",
       "      <th>0.5</th>\n",
       "      <th>0.55</th>\n",
       "      <th>0.6</th>\n",
       "      <th>0.65</th>\n",
       "      <th>0.7</th>\n",
       "      <th>0.75</th>\n",
       "      <th>0.8</th>\n",
       "      <th>0.85</th>\n",
       "      <th>0.9</th>\n",
       "      <th>0.95</th>\n",
       "      <th>1.0</th>\n",
       "    </tr>\n",
       "    <tr>\n",
       "      <th>date</th>\n",
       "      <th></th>\n",
       "      <th></th>\n",
       "      <th></th>\n",
       "      <th></th>\n",
       "      <th></th>\n",
       "      <th></th>\n",
       "      <th></th>\n",
       "      <th></th>\n",
       "      <th></th>\n",
       "      <th></th>\n",
       "      <th></th>\n",
       "      <th></th>\n",
       "      <th></th>\n",
       "      <th></th>\n",
       "      <th></th>\n",
       "      <th></th>\n",
       "      <th></th>\n",
       "      <th></th>\n",
       "      <th></th>\n",
       "      <th></th>\n",
       "    </tr>\n",
       "  </thead>\n",
       "  <tbody>\n",
       "    <tr>\n",
       "      <th>1963-07-31</th>\n",
       "      <td>-0.058441</td>\n",
       "      <td>0.036771</td>\n",
       "      <td>0.101289</td>\n",
       "      <td>0.139029</td>\n",
       "      <td>0.169825</td>\n",
       "      <td>0.194718</td>\n",
       "      <td>0.214481</td>\n",
       "      <td>0.235455</td>\n",
       "      <td>0.258147</td>\n",
       "      <td>0.278940</td>\n",
       "      <td>0.302526</td>\n",
       "      <td>0.325099</td>\n",
       "      <td>0.347931</td>\n",
       "      <td>0.380419</td>\n",
       "      <td>0.410458</td>\n",
       "      <td>0.442465</td>\n",
       "      <td>0.478835</td>\n",
       "      <td>0.549110</td>\n",
       "      <td>0.649004</td>\n",
       "      <td>1.681246</td>\n",
       "    </tr>\n",
       "    <tr>\n",
       "      <th>1963-08-30</th>\n",
       "      <td>-0.150827</td>\n",
       "      <td>-0.031155</td>\n",
       "      <td>0.030847</td>\n",
       "      <td>0.066100</td>\n",
       "      <td>0.100453</td>\n",
       "      <td>0.123511</td>\n",
       "      <td>0.141903</td>\n",
       "      <td>0.166040</td>\n",
       "      <td>0.183317</td>\n",
       "      <td>0.200593</td>\n",
       "      <td>0.224160</td>\n",
       "      <td>0.241218</td>\n",
       "      <td>0.266373</td>\n",
       "      <td>0.296398</td>\n",
       "      <td>0.330928</td>\n",
       "      <td>0.361580</td>\n",
       "      <td>0.408789</td>\n",
       "      <td>0.463392</td>\n",
       "      <td>0.543714</td>\n",
       "      <td>1.493648</td>\n",
       "    </tr>\n",
       "    <tr>\n",
       "      <th>1963-09-30</th>\n",
       "      <td>-0.218193</td>\n",
       "      <td>-0.095375</td>\n",
       "      <td>-0.025249</td>\n",
       "      <td>0.028795</td>\n",
       "      <td>0.061664</td>\n",
       "      <td>0.083645</td>\n",
       "      <td>0.106969</td>\n",
       "      <td>0.128199</td>\n",
       "      <td>0.151408</td>\n",
       "      <td>0.169390</td>\n",
       "      <td>0.189934</td>\n",
       "      <td>0.211625</td>\n",
       "      <td>0.238751</td>\n",
       "      <td>0.260794</td>\n",
       "      <td>0.289225</td>\n",
       "      <td>0.327625</td>\n",
       "      <td>0.370042</td>\n",
       "      <td>0.418893</td>\n",
       "      <td>0.515986</td>\n",
       "      <td>1.583582</td>\n",
       "    </tr>\n",
       "    <tr>\n",
       "      <th>1963-10-31</th>\n",
       "      <td>-0.087425</td>\n",
       "      <td>0.027178</td>\n",
       "      <td>0.090234</td>\n",
       "      <td>0.124669</td>\n",
       "      <td>0.153067</td>\n",
       "      <td>0.183279</td>\n",
       "      <td>0.205200</td>\n",
       "      <td>0.229835</td>\n",
       "      <td>0.250880</td>\n",
       "      <td>0.271786</td>\n",
       "      <td>0.294148</td>\n",
       "      <td>0.321782</td>\n",
       "      <td>0.344539</td>\n",
       "      <td>0.370547</td>\n",
       "      <td>0.404683</td>\n",
       "      <td>0.438819</td>\n",
       "      <td>0.483701</td>\n",
       "      <td>0.558334</td>\n",
       "      <td>0.657001</td>\n",
       "      <td>1.836784</td>\n",
       "    </tr>\n",
       "    <tr>\n",
       "      <th>1963-11-29</th>\n",
       "      <td>-0.059145</td>\n",
       "      <td>0.049967</td>\n",
       "      <td>0.100550</td>\n",
       "      <td>0.142431</td>\n",
       "      <td>0.163638</td>\n",
       "      <td>0.189746</td>\n",
       "      <td>0.210728</td>\n",
       "      <td>0.230732</td>\n",
       "      <td>0.250703</td>\n",
       "      <td>0.271429</td>\n",
       "      <td>0.298423</td>\n",
       "      <td>0.321906</td>\n",
       "      <td>0.341735</td>\n",
       "      <td>0.365572</td>\n",
       "      <td>0.397117</td>\n",
       "      <td>0.431912</td>\n",
       "      <td>0.472357</td>\n",
       "      <td>0.532980</td>\n",
       "      <td>0.664296</td>\n",
       "      <td>1.883147</td>\n",
       "    </tr>\n",
       "    <tr>\n",
       "      <th>1963-12-31</th>\n",
       "      <td>-0.167032</td>\n",
       "      <td>-0.080020</td>\n",
       "      <td>-0.021161</td>\n",
       "      <td>0.014650</td>\n",
       "      <td>0.050232</td>\n",
       "      <td>0.073804</td>\n",
       "      <td>0.097692</td>\n",
       "      <td>0.117041</td>\n",
       "      <td>0.131087</td>\n",
       "      <td>0.149086</td>\n",
       "      <td>0.171206</td>\n",
       "      <td>0.192503</td>\n",
       "      <td>0.213858</td>\n",
       "      <td>0.246958</td>\n",
       "      <td>0.277558</td>\n",
       "      <td>0.307744</td>\n",
       "      <td>0.358013</td>\n",
       "      <td>0.426626</td>\n",
       "      <td>0.543220</td>\n",
       "      <td>1.154361</td>\n",
       "    </tr>\n",
       "    <tr>\n",
       "      <th>1964-01-31</th>\n",
       "      <td>-0.158114</td>\n",
       "      <td>-0.060931</td>\n",
       "      <td>-0.014627</td>\n",
       "      <td>0.015879</td>\n",
       "      <td>0.042644</td>\n",
       "      <td>0.064357</td>\n",
       "      <td>0.088385</td>\n",
       "      <td>0.109617</td>\n",
       "      <td>0.130264</td>\n",
       "      <td>0.154103</td>\n",
       "      <td>0.169892</td>\n",
       "      <td>0.190877</td>\n",
       "      <td>0.215911</td>\n",
       "      <td>0.242890</td>\n",
       "      <td>0.273943</td>\n",
       "      <td>0.310842</td>\n",
       "      <td>0.362204</td>\n",
       "      <td>0.428835</td>\n",
       "      <td>0.526141</td>\n",
       "      <td>1.349134</td>\n",
       "    </tr>\n",
       "    <tr>\n",
       "      <th>1964-02-28</th>\n",
       "      <td>-0.234158</td>\n",
       "      <td>-0.139030</td>\n",
       "      <td>-0.089091</td>\n",
       "      <td>-0.046123</td>\n",
       "      <td>-0.018972</td>\n",
       "      <td>0.002156</td>\n",
       "      <td>0.025460</td>\n",
       "      <td>0.044023</td>\n",
       "      <td>0.065933</td>\n",
       "      <td>0.086824</td>\n",
       "      <td>0.106176</td>\n",
       "      <td>0.124708</td>\n",
       "      <td>0.148244</td>\n",
       "      <td>0.176293</td>\n",
       "      <td>0.204205</td>\n",
       "      <td>0.242351</td>\n",
       "      <td>0.282959</td>\n",
       "      <td>0.339310</td>\n",
       "      <td>0.489983</td>\n",
       "      <td>1.271056</td>\n",
       "    </tr>\n",
       "    <tr>\n",
       "      <th>1964-03-31</th>\n",
       "      <td>-0.203365</td>\n",
       "      <td>-0.116939</td>\n",
       "      <td>-0.065405</td>\n",
       "      <td>-0.021076</td>\n",
       "      <td>0.006849</td>\n",
       "      <td>0.029953</td>\n",
       "      <td>0.052712</td>\n",
       "      <td>0.071731</td>\n",
       "      <td>0.092396</td>\n",
       "      <td>0.121700</td>\n",
       "      <td>0.140231</td>\n",
       "      <td>0.164460</td>\n",
       "      <td>0.189951</td>\n",
       "      <td>0.218682</td>\n",
       "      <td>0.253086</td>\n",
       "      <td>0.288576</td>\n",
       "      <td>0.334636</td>\n",
       "      <td>0.396773</td>\n",
       "      <td>0.499353</td>\n",
       "      <td>1.238086</td>\n",
       "    </tr>\n",
       "    <tr>\n",
       "      <th>1964-04-30</th>\n",
       "      <td>-0.192498</td>\n",
       "      <td>-0.091669</td>\n",
       "      <td>-0.050269</td>\n",
       "      <td>-0.014820</td>\n",
       "      <td>0.009452</td>\n",
       "      <td>0.034099</td>\n",
       "      <td>0.055135</td>\n",
       "      <td>0.072601</td>\n",
       "      <td>0.094632</td>\n",
       "      <td>0.117612</td>\n",
       "      <td>0.139377</td>\n",
       "      <td>0.166484</td>\n",
       "      <td>0.189355</td>\n",
       "      <td>0.221413</td>\n",
       "      <td>0.255062</td>\n",
       "      <td>0.290873</td>\n",
       "      <td>0.332180</td>\n",
       "      <td>0.404369</td>\n",
       "      <td>0.537089</td>\n",
       "      <td>1.184528</td>\n",
       "    </tr>\n",
       "  </tbody>\n",
       "</table>\n",
       "</div>"
      ],
      "text/plain": [
       "                0.05      0.10      0.15      0.20      0.25      0.30  \\\n",
       "date                                                                     \n",
       "1963-07-31 -0.058441  0.036771  0.101289  0.139029  0.169825  0.194718   \n",
       "1963-08-30 -0.150827 -0.031155  0.030847  0.066100  0.100453  0.123511   \n",
       "1963-09-30 -0.218193 -0.095375 -0.025249  0.028795  0.061664  0.083645   \n",
       "1963-10-31 -0.087425  0.027178  0.090234  0.124669  0.153067  0.183279   \n",
       "1963-11-29 -0.059145  0.049967  0.100550  0.142431  0.163638  0.189746   \n",
       "1963-12-31 -0.167032 -0.080020 -0.021161  0.014650  0.050232  0.073804   \n",
       "1964-01-31 -0.158114 -0.060931 -0.014627  0.015879  0.042644  0.064357   \n",
       "1964-02-28 -0.234158 -0.139030 -0.089091 -0.046123 -0.018972  0.002156   \n",
       "1964-03-31 -0.203365 -0.116939 -0.065405 -0.021076  0.006849  0.029953   \n",
       "1964-04-30 -0.192498 -0.091669 -0.050269 -0.014820  0.009452  0.034099   \n",
       "\n",
       "                0.35      0.40      0.45      0.50      0.55      0.60  \\\n",
       "date                                                                     \n",
       "1963-07-31  0.214481  0.235455  0.258147  0.278940  0.302526  0.325099   \n",
       "1963-08-30  0.141903  0.166040  0.183317  0.200593  0.224160  0.241218   \n",
       "1963-09-30  0.106969  0.128199  0.151408  0.169390  0.189934  0.211625   \n",
       "1963-10-31  0.205200  0.229835  0.250880  0.271786  0.294148  0.321782   \n",
       "1963-11-29  0.210728  0.230732  0.250703  0.271429  0.298423  0.321906   \n",
       "1963-12-31  0.097692  0.117041  0.131087  0.149086  0.171206  0.192503   \n",
       "1964-01-31  0.088385  0.109617  0.130264  0.154103  0.169892  0.190877   \n",
       "1964-02-28  0.025460  0.044023  0.065933  0.086824  0.106176  0.124708   \n",
       "1964-03-31  0.052712  0.071731  0.092396  0.121700  0.140231  0.164460   \n",
       "1964-04-30  0.055135  0.072601  0.094632  0.117612  0.139377  0.166484   \n",
       "\n",
       "                0.65      0.70      0.75      0.80      0.85      0.90  \\\n",
       "date                                                                     \n",
       "1963-07-31  0.347931  0.380419  0.410458  0.442465  0.478835  0.549110   \n",
       "1963-08-30  0.266373  0.296398  0.330928  0.361580  0.408789  0.463392   \n",
       "1963-09-30  0.238751  0.260794  0.289225  0.327625  0.370042  0.418893   \n",
       "1963-10-31  0.344539  0.370547  0.404683  0.438819  0.483701  0.558334   \n",
       "1963-11-29  0.341735  0.365572  0.397117  0.431912  0.472357  0.532980   \n",
       "1963-12-31  0.213858  0.246958  0.277558  0.307744  0.358013  0.426626   \n",
       "1964-01-31  0.215911  0.242890  0.273943  0.310842  0.362204  0.428835   \n",
       "1964-02-28  0.148244  0.176293  0.204205  0.242351  0.282959  0.339310   \n",
       "1964-03-31  0.189951  0.218682  0.253086  0.288576  0.334636  0.396773   \n",
       "1964-04-30  0.189355  0.221413  0.255062  0.290873  0.332180  0.404369   \n",
       "\n",
       "                0.95      1.00  \n",
       "date                            \n",
       "1963-07-31  0.649004  1.681246  \n",
       "1963-08-30  0.543714  1.493648  \n",
       "1963-09-30  0.515986  1.583582  \n",
       "1963-10-31  0.657001  1.836784  \n",
       "1963-11-29  0.664296  1.883147  \n",
       "1963-12-31  0.543220  1.154361  \n",
       "1964-01-31  0.526141  1.349134  \n",
       "1964-02-28  0.489983  1.271056  \n",
       "1964-03-31  0.499353  1.238086  \n",
       "1964-04-30  0.537089  1.184528  "
      ]
     },
     "execution_count": 51,
     "metadata": {},
     "output_type": "execute_result"
    }
   ],
   "source": [
    "brk[\"1963-07\":].head(n=10)"
   ]
  },
  {
   "cell_type": "code",
   "execution_count": 52,
   "metadata": {},
   "outputs": [],
   "source": [
    "brk.to_csv(\"C:/Data/Thesis/Brks_Prior.csv\")  # column headers are decimals, potential floating point precision garbage"
   ]
  },
  {
   "cell_type": "code",
   "execution_count": 53,
   "metadata": {},
   "outputs": [
    {
     "data": {
      "text/plain": [
       "Index(['PERMNO', 'date', 'EXCHCD', 'SICCD', 'TICKER', 'COMNAM', 'CUSIP',\n",
       "       'DCLRDT', 'DLSTCD', 'PAYDT', 'DISTCD', 'DIVAMT', 'FACPR', 'FACSHR',\n",
       "       'ACPERM', 'DLRET', 'PRC', 'VOL', 'RET', 'SHROUT', 'CFACPR', 'CFACSHR',\n",
       "       'SPREAD', 'vwretd', 'ewretd', 'sprtrn', 'HP', 'ME', 'ME_Jun', 'ME_Dec',\n",
       "       'Ri', 'L1_Ri', 'RiFctr', 'Size', 'ME_JunBkt', 'BktSize', 'WtRET',\n",
       "       'PriorRET', 'Prior', 'L1_ME', 'PriorOK'],\n",
       "      dtype='object')"
      ]
     },
     "execution_count": 53,
     "metadata": {},
     "output_type": "execute_result"
    }
   ],
   "source": [
    "crsp.columns"
   ]
  },
  {
   "cell_type": "code",
   "execution_count": 54,
   "metadata": {},
   "outputs": [],
   "source": [
    "crsp = crsp.merge(brk.reset_index(\"date\"), on=\"date\", how=\"left\")"
   ]
  },
  {
   "cell_type": "markdown",
   "metadata": {},
   "source": [
    "### Factor Buckets"
   ]
  },
  {
   "cell_type": "code",
   "execution_count": 55,
   "metadata": {},
   "outputs": [],
   "source": [
    "prb = assign_bkts(crsp.loc[:,[\"PERMNO\", \"date\", \"Prior\", .3, .7, 1.]], \"Prior\", [.3, .7, 1.])"
   ]
  },
  {
   "cell_type": "code",
   "execution_count": 56,
   "metadata": {},
   "outputs": [],
   "source": [
    "prb[[\"PERMNO\", \"date\", \"PriorBkt\"]].set_index(\"date\").to_csv(\"C:/Data/Thesis/Bkts_Prior_3.csv\")"
   ]
  },
  {
   "cell_type": "markdown",
   "metadata": {},
   "source": [
    "### Quartiles"
   ]
  },
  {
   "cell_type": "code",
   "execution_count": 57,
   "metadata": {},
   "outputs": [],
   "source": [
    "prb = assign_bkts(crsp.loc[:,[\"PERMNO\", \"date\", \"Prior\", .25, .5, .75, 1.]], \"Prior\", [.25, .5, .75, 1.])"
   ]
  },
  {
   "cell_type": "code",
   "execution_count": 58,
   "metadata": {},
   "outputs": [],
   "source": [
    "prb[[\"PERMNO\", \"date\", \"PriorBkt\"]].set_index(\"date\").to_csv(\"C:/Data/Thesis/Bkts_Prior_4.csv\")"
   ]
  },
  {
   "cell_type": "markdown",
   "metadata": {},
   "source": [
    "### Quintiles"
   ]
  },
  {
   "cell_type": "code",
   "execution_count": 59,
   "metadata": {},
   "outputs": [],
   "source": [
    "prb = assign_bkts(crsp.loc[:,[\"PERMNO\", \"date\", \"Prior\", .2, .4, .6, .8, 1.]], \"Prior\", [.2, .4, .6, .8, 1.])"
   ]
  },
  {
   "cell_type": "code",
   "execution_count": 60,
   "metadata": {},
   "outputs": [],
   "source": [
    "prb[[\"PERMNO\", \"date\", \"PriorBkt\"]].set_index(\"date\").to_csv(\"C:/Data/Thesis/Bkts_Prior_5.csv\")"
   ]
  },
  {
   "cell_type": "markdown",
   "metadata": {},
   "source": [
    "### Deciles"
   ]
  },
  {
   "cell_type": "code",
   "execution_count": 61,
   "metadata": {},
   "outputs": [],
   "source": [
    "prb = assign_bkts(crsp.loc[:,[\"PERMNO\", \"date\", \"Prior\", .1, .2, .3, .4, .5, .6, .7, .8, .9, 1.]], \"Prior\", [.1, .2, .3, .4, .5, .6, .7, .8, .9, 1.])"
   ]
  },
  {
   "cell_type": "code",
   "execution_count": 62,
   "metadata": {},
   "outputs": [],
   "source": [
    "prb[[\"PERMNO\", \"date\", \"PriorBkt\"]].set_index(\"date\").to_csv(\"C:/Data/Thesis/Bkts_Prior_10.csv\")"
   ]
  },
  {
   "cell_type": "markdown",
   "metadata": {},
   "source": [
    "Let's use the decile buckets to compare to Kenneth French's website."
   ]
  },
  {
   "cell_type": "code",
   "execution_count": 63,
   "metadata": {},
   "outputs": [],
   "source": [
    "crsp = crsp.merge(prb[[\"PERMNO\", \"date\", \"PriorBkt\"]], on=[\"PERMNO\", \"date\"], how=\"left\")"
   ]
  },
  {
   "cell_type": "code",
   "execution_count": 64,
   "metadata": {},
   "outputs": [],
   "source": [
    "crsp = crsp.drop(pd.np.array(range(1, 21))/20, axis=1)"
   ]
  },
  {
   "cell_type": "code",
   "execution_count": 65,
   "metadata": {},
   "outputs": [
    {
     "data": {
      "text/plain": [
       "0.09611054789704943"
      ]
     },
     "execution_count": 65,
     "metadata": {},
     "output_type": "execute_result"
    }
   ],
   "source": [
    "crsp.PriorBkt.isna().sum() / crsp.PERMNO.count()"
   ]
  },
  {
   "cell_type": "markdown",
   "metadata": {},
   "source": [
    "**`L1_ME` instead of `Size` here**."
   ]
  },
  {
   "cell_type": "code",
   "execution_count": 66,
   "metadata": {},
   "outputs": [],
   "source": [
    "crsp[\"BktSize\"] = crsp[crsp.PriorOK].groupby([\"PriorBkt\", \"date\"]).L1_ME.transform(\"sum\")  # dplyr `mutate`"
   ]
  },
  {
   "cell_type": "code",
   "execution_count": 67,
   "metadata": {},
   "outputs": [],
   "source": [
    "crsp[\"WtRET\"] = crsp.L1_ME * crsp.RET / crsp.BktSize"
   ]
  },
  {
   "cell_type": "code",
   "execution_count": 68,
   "metadata": {},
   "outputs": [],
   "source": [
    "bkt = crsp[crsp.PriorOK].groupby([\"PriorBkt\", \"date\"]).WtRET.sum()"
   ]
  },
  {
   "cell_type": "markdown",
   "metadata": {},
   "source": [
    "Not bad :)"
   ]
  },
  {
   "cell_type": "code",
   "execution_count": 69,
   "metadata": {},
   "outputs": [],
   "source": [
    "# 0.23, 0.71, 0.87, 0.91, 0.85, 0.92, 0.92, 1.08, 1.13, 1.50"
   ]
  },
  {
   "cell_type": "code",
   "execution_count": 70,
   "metadata": {},
   "outputs": [
    {
     "data": {
      "text/plain": [
       "PriorBkt\n",
       "1.0     0.24\n",
       "2.0     0.77\n",
       "3.0     0.89\n",
       "4.0     0.87\n",
       "5.0     0.85\n",
       "6.0     0.86\n",
       "7.0     0.97\n",
       "8.0     1.08\n",
       "9.0     1.14\n",
       "10.0    1.47\n",
       "dtype: float64"
      ]
     },
     "execution_count": 70,
     "metadata": {},
     "output_type": "execute_result"
    }
   ],
   "source": [
    "(bkt.unstack(level=0)[\"1963-07\":\"2017-12\"].mean()*100).round(2)"
   ]
  },
  {
   "cell_type": "markdown",
   "metadata": {},
   "source": [
    "# Compustat"
   ]
  },
  {
   "cell_type": "markdown",
   "metadata": {},
   "source": [
    "Compustat variable [definitions](http://www.crsp.com/products/documentation/annual-data-industrial)."
   ]
  },
  {
   "cell_type": "code",
   "execution_count": 71,
   "metadata": {},
   "outputs": [
    {
     "name": "stdout",
     "output_type": "stream",
     "text": [
      "Wall time: 15.6 s\n"
     ]
    }
   ],
   "source": [
    "%time comp = pd.read_csv(\"C:/Data/CRSP/20180223_COMP_196101_201712.csv\")"
   ]
  },
  {
   "cell_type": "code",
   "execution_count": 72,
   "metadata": {},
   "outputs": [
    {
     "data": {
      "text/plain": [
       "(288423, 48)"
      ]
     },
     "execution_count": 72,
     "metadata": {},
     "output_type": "execute_result"
    }
   ],
   "source": [
    "comp.shape"
   ]
  },
  {
   "cell_type": "code",
   "execution_count": 73,
   "metadata": {},
   "outputs": [
    {
     "data": {
      "text/html": [
       "<div>\n",
       "<style scoped>\n",
       "    .dataframe tbody tr th:only-of-type {\n",
       "        vertical-align: middle;\n",
       "    }\n",
       "\n",
       "    .dataframe tbody tr th {\n",
       "        vertical-align: top;\n",
       "    }\n",
       "\n",
       "    .dataframe thead th {\n",
       "        text-align: right;\n",
       "    }\n",
       "</style>\n",
       "<table border=\"1\" class=\"dataframe\">\n",
       "  <thead>\n",
       "    <tr style=\"text-align: right;\">\n",
       "      <th></th>\n",
       "      <th>GVKEY</th>\n",
       "      <th>LPERMNO</th>\n",
       "      <th>datadate</th>\n",
       "      <th>fyear</th>\n",
       "      <th>fyr</th>\n",
       "      <th>aco</th>\n",
       "      <th>act</th>\n",
       "      <th>ap</th>\n",
       "      <th>apc</th>\n",
       "      <th>arc</th>\n",
       "      <th>...</th>\n",
       "      <th>upstk</th>\n",
       "      <th>urect</th>\n",
       "      <th>xacc</th>\n",
       "      <th>xinst</th>\n",
       "      <th>xint</th>\n",
       "      <th>xintd</th>\n",
       "      <th>xpp</th>\n",
       "      <th>xrd</th>\n",
       "      <th>xsga</th>\n",
       "      <th>fyrc</th>\n",
       "    </tr>\n",
       "  </thead>\n",
       "  <tbody>\n",
       "    <tr>\n",
       "      <th>0</th>\n",
       "      <td>1000</td>\n",
       "      <td>25881</td>\n",
       "      <td>19701231</td>\n",
       "      <td>1970.0</td>\n",
       "      <td>12.0</td>\n",
       "      <td>0.579</td>\n",
       "      <td>21.351</td>\n",
       "      <td>6.114</td>\n",
       "      <td>NaN</td>\n",
       "      <td>NaN</td>\n",
       "      <td>...</td>\n",
       "      <td>NaN</td>\n",
       "      <td>NaN</td>\n",
       "      <td>0.763</td>\n",
       "      <td>NaN</td>\n",
       "      <td>0.850</td>\n",
       "      <td>NaN</td>\n",
       "      <td>0.579</td>\n",
       "      <td>NaN</td>\n",
       "      <td>9.420</td>\n",
       "      <td>12</td>\n",
       "    </tr>\n",
       "    <tr>\n",
       "      <th>1</th>\n",
       "      <td>1000</td>\n",
       "      <td>25881</td>\n",
       "      <td>19711231</td>\n",
       "      <td>1971.0</td>\n",
       "      <td>12.0</td>\n",
       "      <td>0.546</td>\n",
       "      <td>19.688</td>\n",
       "      <td>4.326</td>\n",
       "      <td>NaN</td>\n",
       "      <td>NaN</td>\n",
       "      <td>...</td>\n",
       "      <td>NaN</td>\n",
       "      <td>NaN</td>\n",
       "      <td>1.195</td>\n",
       "      <td>NaN</td>\n",
       "      <td>1.117</td>\n",
       "      <td>NaN</td>\n",
       "      <td>0.546</td>\n",
       "      <td>NaN</td>\n",
       "      <td>10.548</td>\n",
       "      <td>12</td>\n",
       "    </tr>\n",
       "    <tr>\n",
       "      <th>2</th>\n",
       "      <td>1000</td>\n",
       "      <td>25881</td>\n",
       "      <td>19721231</td>\n",
       "      <td>1972.0</td>\n",
       "      <td>12.0</td>\n",
       "      <td>0.370</td>\n",
       "      <td>11.326</td>\n",
       "      <td>2.768</td>\n",
       "      <td>NaN</td>\n",
       "      <td>NaN</td>\n",
       "      <td>...</td>\n",
       "      <td>NaN</td>\n",
       "      <td>NaN</td>\n",
       "      <td>1.172</td>\n",
       "      <td>NaN</td>\n",
       "      <td>0.784</td>\n",
       "      <td>NaN</td>\n",
       "      <td>0.370</td>\n",
       "      <td>NaN</td>\n",
       "      <td>7.551</td>\n",
       "      <td>12</td>\n",
       "    </tr>\n",
       "    <tr>\n",
       "      <th>3</th>\n",
       "      <td>1000</td>\n",
       "      <td>25881</td>\n",
       "      <td>19731231</td>\n",
       "      <td>1973.0</td>\n",
       "      <td>12.0</td>\n",
       "      <td>0.325</td>\n",
       "      <td>12.969</td>\n",
       "      <td>2.789</td>\n",
       "      <td>NaN</td>\n",
       "      <td>NaN</td>\n",
       "      <td>...</td>\n",
       "      <td>NaN</td>\n",
       "      <td>NaN</td>\n",
       "      <td>0.826</td>\n",
       "      <td>NaN</td>\n",
       "      <td>0.705</td>\n",
       "      <td>NaN</td>\n",
       "      <td>0.325</td>\n",
       "      <td>NaN</td>\n",
       "      <td>8.532</td>\n",
       "      <td>12</td>\n",
       "    </tr>\n",
       "    <tr>\n",
       "      <th>4</th>\n",
       "      <td>1000</td>\n",
       "      <td>25881</td>\n",
       "      <td>19741231</td>\n",
       "      <td>1974.0</td>\n",
       "      <td>12.0</td>\n",
       "      <td>0.484</td>\n",
       "      <td>19.473</td>\n",
       "      <td>4.183</td>\n",
       "      <td>NaN</td>\n",
       "      <td>NaN</td>\n",
       "      <td>...</td>\n",
       "      <td>NaN</td>\n",
       "      <td>NaN</td>\n",
       "      <td>1.665</td>\n",
       "      <td>NaN</td>\n",
       "      <td>0.817</td>\n",
       "      <td>NaN</td>\n",
       "      <td>0.484</td>\n",
       "      <td>NaN</td>\n",
       "      <td>8.859</td>\n",
       "      <td>12</td>\n",
       "    </tr>\n",
       "  </tbody>\n",
       "</table>\n",
       "<p>5 rows × 48 columns</p>\n",
       "</div>"
      ],
      "text/plain": [
       "   GVKEY  LPERMNO  datadate   fyear   fyr    aco     act     ap  apc  arc  \\\n",
       "0   1000    25881  19701231  1970.0  12.0  0.579  21.351  6.114  NaN  NaN   \n",
       "1   1000    25881  19711231  1971.0  12.0  0.546  19.688  4.326  NaN  NaN   \n",
       "2   1000    25881  19721231  1972.0  12.0  0.370  11.326  2.768  NaN  NaN   \n",
       "3   1000    25881  19731231  1973.0  12.0  0.325  12.969  2.789  NaN  NaN   \n",
       "4   1000    25881  19741231  1974.0  12.0  0.484  19.473  4.183  NaN  NaN   \n",
       "\n",
       "   ...   upstk  urect   xacc  xinst   xint  xintd    xpp  xrd    xsga  fyrc  \n",
       "0  ...     NaN    NaN  0.763    NaN  0.850    NaN  0.579  NaN   9.420    12  \n",
       "1  ...     NaN    NaN  1.195    NaN  1.117    NaN  0.546  NaN  10.548    12  \n",
       "2  ...     NaN    NaN  1.172    NaN  0.784    NaN  0.370  NaN   7.551    12  \n",
       "3  ...     NaN    NaN  0.826    NaN  0.705    NaN  0.325  NaN   8.532    12  \n",
       "4  ...     NaN    NaN  1.665    NaN  0.817    NaN  0.484  NaN   8.859    12  \n",
       "\n",
       "[5 rows x 48 columns]"
      ]
     },
     "execution_count": 73,
     "metadata": {},
     "output_type": "execute_result"
    }
   ],
   "source": [
    "comp.head()"
   ]
  },
  {
   "cell_type": "code",
   "execution_count": 74,
   "metadata": {},
   "outputs": [
    {
     "data": {
      "text/plain": [
       "(Timestamp('1961-01-31 00:00:00'), Timestamp('2017-12-31 00:00:00'))"
      ]
     },
     "execution_count": 74,
     "metadata": {},
     "output_type": "execute_result"
    }
   ],
   "source": [
    "comp[\"date\"] = comp.datadate.astype(str)\n",
    "comp.date = pd.to_datetime(comp.date)\n",
    "comp.date.min(), comp.date.max()"
   ]
  },
  {
   "cell_type": "code",
   "execution_count": 75,
   "metadata": {},
   "outputs": [],
   "source": [
    "comp = comp.rename(columns={\"LPERMNO\": \"PERMNO\"})"
   ]
  },
  {
   "cell_type": "markdown",
   "metadata": {},
   "source": [
    "There should be no duplicate `PERMNO`-`fyear` pairs."
   ]
  },
  {
   "cell_type": "code",
   "execution_count": 76,
   "metadata": {
    "scrolled": true
   },
   "outputs": [
    {
     "data": {
      "text/html": [
       "<div>\n",
       "<style scoped>\n",
       "    .dataframe tbody tr th:only-of-type {\n",
       "        vertical-align: middle;\n",
       "    }\n",
       "\n",
       "    .dataframe tbody tr th {\n",
       "        vertical-align: top;\n",
       "    }\n",
       "\n",
       "    .dataframe thead th {\n",
       "        text-align: right;\n",
       "    }\n",
       "</style>\n",
       "<table border=\"1\" class=\"dataframe\">\n",
       "  <thead>\n",
       "    <tr style=\"text-align: right;\">\n",
       "      <th></th>\n",
       "      <th></th>\n",
       "      <th>GVKEY</th>\n",
       "      <th>datadate</th>\n",
       "      <th>fyr</th>\n",
       "      <th>aco</th>\n",
       "      <th>act</th>\n",
       "      <th>ap</th>\n",
       "      <th>apc</th>\n",
       "      <th>arc</th>\n",
       "      <th>artfs</th>\n",
       "      <th>at</th>\n",
       "      <th>...</th>\n",
       "      <th>urect</th>\n",
       "      <th>xacc</th>\n",
       "      <th>xinst</th>\n",
       "      <th>xint</th>\n",
       "      <th>xintd</th>\n",
       "      <th>xpp</th>\n",
       "      <th>xrd</th>\n",
       "      <th>xsga</th>\n",
       "      <th>fyrc</th>\n",
       "      <th>date</th>\n",
       "    </tr>\n",
       "    <tr>\n",
       "      <th>PERMNO</th>\n",
       "      <th>fyear</th>\n",
       "      <th></th>\n",
       "      <th></th>\n",
       "      <th></th>\n",
       "      <th></th>\n",
       "      <th></th>\n",
       "      <th></th>\n",
       "      <th></th>\n",
       "      <th></th>\n",
       "      <th></th>\n",
       "      <th></th>\n",
       "      <th></th>\n",
       "      <th></th>\n",
       "      <th></th>\n",
       "      <th></th>\n",
       "      <th></th>\n",
       "      <th></th>\n",
       "      <th></th>\n",
       "      <th></th>\n",
       "      <th></th>\n",
       "      <th></th>\n",
       "      <th></th>\n",
       "    </tr>\n",
       "  </thead>\n",
       "  <tbody>\n",
       "    <tr>\n",
       "      <th>22074</th>\n",
       "      <th>1987.0</th>\n",
       "      <td>1302</td>\n",
       "      <td>19870630</td>\n",
       "      <td>6.0</td>\n",
       "      <td>44.777</td>\n",
       "      <td>140.682</td>\n",
       "      <td>0.000</td>\n",
       "      <td>NaN</td>\n",
       "      <td>NaN</td>\n",
       "      <td>NaN</td>\n",
       "      <td>149.379</td>\n",
       "      <td>...</td>\n",
       "      <td>NaN</td>\n",
       "      <td>3.724</td>\n",
       "      <td>NaN</td>\n",
       "      <td>12.969</td>\n",
       "      <td>NaN</td>\n",
       "      <td>0.000</td>\n",
       "      <td>0.000</td>\n",
       "      <td>67.039</td>\n",
       "      <td>6</td>\n",
       "      <td>1987-06-30</td>\n",
       "    </tr>\n",
       "    <tr>\n",
       "      <th>67563</th>\n",
       "      <th>1998.0</th>\n",
       "      <td>5184</td>\n",
       "      <td>19980630</td>\n",
       "      <td>6.0</td>\n",
       "      <td>NaN</td>\n",
       "      <td>NaN</td>\n",
       "      <td>10698.265</td>\n",
       "      <td>NaN</td>\n",
       "      <td>NaN</td>\n",
       "      <td>NaN</td>\n",
       "      <td>18116.737</td>\n",
       "      <td>...</td>\n",
       "      <td>NaN</td>\n",
       "      <td>NaN</td>\n",
       "      <td>NaN</td>\n",
       "      <td>NaN</td>\n",
       "      <td>NaN</td>\n",
       "      <td>0.000</td>\n",
       "      <td>NaN</td>\n",
       "      <td>185.259</td>\n",
       "      <td>6</td>\n",
       "      <td>1998-06-30</td>\n",
       "    </tr>\n",
       "    <tr>\n",
       "      <th>75228</th>\n",
       "      <th>1987.0</th>\n",
       "      <td>5969</td>\n",
       "      <td>19871031</td>\n",
       "      <td>10.0</td>\n",
       "      <td>0.135</td>\n",
       "      <td>8.502</td>\n",
       "      <td>2.200</td>\n",
       "      <td>NaN</td>\n",
       "      <td>NaN</td>\n",
       "      <td>NaN</td>\n",
       "      <td>17.970</td>\n",
       "      <td>...</td>\n",
       "      <td>NaN</td>\n",
       "      <td>1.170</td>\n",
       "      <td>NaN</td>\n",
       "      <td>0.184</td>\n",
       "      <td>NaN</td>\n",
       "      <td>0.135</td>\n",
       "      <td>NaN</td>\n",
       "      <td>4.193</td>\n",
       "      <td>10</td>\n",
       "      <td>1987-10-31</td>\n",
       "    </tr>\n",
       "    <tr>\n",
       "      <th>88031</th>\n",
       "      <th>1990.0</th>\n",
       "      <td>11831</td>\n",
       "      <td>19900630</td>\n",
       "      <td>6.0</td>\n",
       "      <td>0.000</td>\n",
       "      <td>1.571</td>\n",
       "      <td>0.000</td>\n",
       "      <td>NaN</td>\n",
       "      <td>NaN</td>\n",
       "      <td>NaN</td>\n",
       "      <td>1.613</td>\n",
       "      <td>...</td>\n",
       "      <td>NaN</td>\n",
       "      <td>0.004</td>\n",
       "      <td>NaN</td>\n",
       "      <td>NaN</td>\n",
       "      <td>NaN</td>\n",
       "      <td>0.000</td>\n",
       "      <td>NaN</td>\n",
       "      <td>NaN</td>\n",
       "      <td>6</td>\n",
       "      <td>1990-06-30</td>\n",
       "    </tr>\n",
       "    <tr>\n",
       "      <th>22074</th>\n",
       "      <th>1987.0</th>\n",
       "      <td>14152</td>\n",
       "      <td>19871231</td>\n",
       "      <td>12.0</td>\n",
       "      <td>10.900</td>\n",
       "      <td>223.200</td>\n",
       "      <td>187.100</td>\n",
       "      <td>NaN</td>\n",
       "      <td>NaN</td>\n",
       "      <td>NaN</td>\n",
       "      <td>1056.500</td>\n",
       "      <td>...</td>\n",
       "      <td>NaN</td>\n",
       "      <td>120.200</td>\n",
       "      <td>NaN</td>\n",
       "      <td>NaN</td>\n",
       "      <td>NaN</td>\n",
       "      <td>0.000</td>\n",
       "      <td>NaN</td>\n",
       "      <td>NaN</td>\n",
       "      <td>12</td>\n",
       "      <td>1987-12-31</td>\n",
       "    </tr>\n",
       "    <tr>\n",
       "      <th>75228</th>\n",
       "      <th>1987.0</th>\n",
       "      <td>14446</td>\n",
       "      <td>19871231</td>\n",
       "      <td>12.0</td>\n",
       "      <td>1.840</td>\n",
       "      <td>14.113</td>\n",
       "      <td>3.342</td>\n",
       "      <td>NaN</td>\n",
       "      <td>NaN</td>\n",
       "      <td>NaN</td>\n",
       "      <td>45.769</td>\n",
       "      <td>...</td>\n",
       "      <td>NaN</td>\n",
       "      <td>NaN</td>\n",
       "      <td>NaN</td>\n",
       "      <td>0.147</td>\n",
       "      <td>NaN</td>\n",
       "      <td>0.000</td>\n",
       "      <td>0.864</td>\n",
       "      <td>3.478</td>\n",
       "      <td>12</td>\n",
       "      <td>1987-12-31</td>\n",
       "    </tr>\n",
       "    <tr>\n",
       "      <th>88031</th>\n",
       "      <th>1990.0</th>\n",
       "      <td>24316</td>\n",
       "      <td>19901231</td>\n",
       "      <td>12.0</td>\n",
       "      <td>0.000</td>\n",
       "      <td>7.134</td>\n",
       "      <td>0.072</td>\n",
       "      <td>NaN</td>\n",
       "      <td>NaN</td>\n",
       "      <td>NaN</td>\n",
       "      <td>7.139</td>\n",
       "      <td>...</td>\n",
       "      <td>NaN</td>\n",
       "      <td>0.106</td>\n",
       "      <td>NaN</td>\n",
       "      <td>NaN</td>\n",
       "      <td>NaN</td>\n",
       "      <td>0.000</td>\n",
       "      <td>NaN</td>\n",
       "      <td>NaN</td>\n",
       "      <td>12</td>\n",
       "      <td>1990-12-31</td>\n",
       "    </tr>\n",
       "    <tr>\n",
       "      <th rowspan=\"2\" valign=\"top\">85531</th>\n",
       "      <th>1998.0</th>\n",
       "      <td>65275</td>\n",
       "      <td>19981231</td>\n",
       "      <td>12.0</td>\n",
       "      <td>6.099</td>\n",
       "      <td>42.083</td>\n",
       "      <td>1.394</td>\n",
       "      <td>NaN</td>\n",
       "      <td>NaN</td>\n",
       "      <td>NaN</td>\n",
       "      <td>91.463</td>\n",
       "      <td>...</td>\n",
       "      <td>NaN</td>\n",
       "      <td>20.365</td>\n",
       "      <td>NaN</td>\n",
       "      <td>NaN</td>\n",
       "      <td>NaN</td>\n",
       "      <td>0.000</td>\n",
       "      <td>NaN</td>\n",
       "      <td>18.972</td>\n",
       "      <td>12</td>\n",
       "      <td>1998-12-31</td>\n",
       "    </tr>\n",
       "    <tr>\n",
       "      <th>1998.0</th>\n",
       "      <td>65791</td>\n",
       "      <td>19980630</td>\n",
       "      <td>6.0</td>\n",
       "      <td>NaN</td>\n",
       "      <td>NaN</td>\n",
       "      <td>NaN</td>\n",
       "      <td>NaN</td>\n",
       "      <td>NaN</td>\n",
       "      <td>NaN</td>\n",
       "      <td>NaN</td>\n",
       "      <td>...</td>\n",
       "      <td>NaN</td>\n",
       "      <td>NaN</td>\n",
       "      <td>NaN</td>\n",
       "      <td>NaN</td>\n",
       "      <td>NaN</td>\n",
       "      <td>NaN</td>\n",
       "      <td>NaN</td>\n",
       "      <td>12.021</td>\n",
       "      <td>6</td>\n",
       "      <td>1998-06-30</td>\n",
       "    </tr>\n",
       "    <tr>\n",
       "      <th>67563</th>\n",
       "      <th>1998.0</th>\n",
       "      <td>116144</td>\n",
       "      <td>19981231</td>\n",
       "      <td>12.0</td>\n",
       "      <td>NaN</td>\n",
       "      <td>NaN</td>\n",
       "      <td>24620.066</td>\n",
       "      <td>NaN</td>\n",
       "      <td>NaN</td>\n",
       "      <td>NaN</td>\n",
       "      <td>54868.984</td>\n",
       "      <td>...</td>\n",
       "      <td>NaN</td>\n",
       "      <td>NaN</td>\n",
       "      <td>NaN</td>\n",
       "      <td>NaN</td>\n",
       "      <td>NaN</td>\n",
       "      <td>NaN</td>\n",
       "      <td>NaN</td>\n",
       "      <td>393.728</td>\n",
       "      <td>12</td>\n",
       "      <td>1998-12-31</td>\n",
       "    </tr>\n",
       "  </tbody>\n",
       "</table>\n",
       "<p>10 rows × 47 columns</p>\n",
       "</div>"
      ],
      "text/plain": [
       "                GVKEY  datadate   fyr     aco      act         ap  apc  arc  \\\n",
       "PERMNO fyear                                                                  \n",
       "22074  1987.0    1302  19870630   6.0  44.777  140.682      0.000  NaN  NaN   \n",
       "67563  1998.0    5184  19980630   6.0     NaN      NaN  10698.265  NaN  NaN   \n",
       "75228  1987.0    5969  19871031  10.0   0.135    8.502      2.200  NaN  NaN   \n",
       "88031  1990.0   11831  19900630   6.0   0.000    1.571      0.000  NaN  NaN   \n",
       "22074  1987.0   14152  19871231  12.0  10.900  223.200    187.100  NaN  NaN   \n",
       "75228  1987.0   14446  19871231  12.0   1.840   14.113      3.342  NaN  NaN   \n",
       "88031  1990.0   24316  19901231  12.0   0.000    7.134      0.072  NaN  NaN   \n",
       "85531  1998.0   65275  19981231  12.0   6.099   42.083      1.394  NaN  NaN   \n",
       "       1998.0   65791  19980630   6.0     NaN      NaN        NaN  NaN  NaN   \n",
       "67563  1998.0  116144  19981231  12.0     NaN      NaN  24620.066  NaN  NaN   \n",
       "\n",
       "               artfs         at    ...      urect     xacc  xinst    xint  \\\n",
       "PERMNO fyear                       ...                                      \n",
       "22074  1987.0    NaN    149.379    ...        NaN    3.724    NaN  12.969   \n",
       "67563  1998.0    NaN  18116.737    ...        NaN      NaN    NaN     NaN   \n",
       "75228  1987.0    NaN     17.970    ...        NaN    1.170    NaN   0.184   \n",
       "88031  1990.0    NaN      1.613    ...        NaN    0.004    NaN     NaN   \n",
       "22074  1987.0    NaN   1056.500    ...        NaN  120.200    NaN     NaN   \n",
       "75228  1987.0    NaN     45.769    ...        NaN      NaN    NaN   0.147   \n",
       "88031  1990.0    NaN      7.139    ...        NaN    0.106    NaN     NaN   \n",
       "85531  1998.0    NaN     91.463    ...        NaN   20.365    NaN     NaN   \n",
       "       1998.0    NaN        NaN    ...        NaN      NaN    NaN     NaN   \n",
       "67563  1998.0    NaN  54868.984    ...        NaN      NaN    NaN     NaN   \n",
       "\n",
       "               xintd    xpp    xrd     xsga  fyrc       date  \n",
       "PERMNO fyear                                                  \n",
       "22074  1987.0    NaN  0.000  0.000   67.039     6 1987-06-30  \n",
       "67563  1998.0    NaN  0.000    NaN  185.259     6 1998-06-30  \n",
       "75228  1987.0    NaN  0.135    NaN    4.193    10 1987-10-31  \n",
       "88031  1990.0    NaN  0.000    NaN      NaN     6 1990-06-30  \n",
       "22074  1987.0    NaN  0.000    NaN      NaN    12 1987-12-31  \n",
       "75228  1987.0    NaN  0.000  0.864    3.478    12 1987-12-31  \n",
       "88031  1990.0    NaN  0.000    NaN      NaN    12 1990-12-31  \n",
       "85531  1998.0    NaN  0.000    NaN   18.972    12 1998-12-31  \n",
       "       1998.0    NaN    NaN    NaN   12.021     6 1998-06-30  \n",
       "67563  1998.0    NaN    NaN    NaN  393.728    12 1998-12-31  \n",
       "\n",
       "[10 rows x 47 columns]"
      ]
     },
     "execution_count": 76,
     "metadata": {},
     "output_type": "execute_result"
    }
   ],
   "source": [
    "x = comp[[\"PERMNO\", \"fyear\"]].duplicated(keep=\"first\")\n",
    "y = comp[[\"PERMNO\", \"fyear\"]].duplicated(keep=\"last\")\n",
    "ix = x | y\n",
    "comp[ix].head(n=200).set_index([\"PERMNO\", \"fyear\"])"
   ]
  },
  {
   "cell_type": "markdown",
   "metadata": {},
   "source": [
    "There is only a few so just remove the second duplicate."
   ]
  },
  {
   "cell_type": "code",
   "execution_count": 77,
   "metadata": {},
   "outputs": [],
   "source": [
    "comp = comp[~x]"
   ]
  },
  {
   "cell_type": "code",
   "execution_count": 78,
   "metadata": {},
   "outputs": [
    {
     "data": {
      "text/plain": [
       "0"
      ]
     },
     "execution_count": 78,
     "metadata": {},
     "output_type": "execute_result"
    }
   ],
   "source": [
    "comp[[\"PERMNO\", \"fyear\"]].duplicated(keep=\"first\").sum()"
   ]
  },
  {
   "cell_type": "markdown",
   "metadata": {},
   "source": [
    "## Holding Period"
   ]
  },
  {
   "cell_type": "markdown",
   "metadata": {},
   "source": [
    "We want to leave at least 6 months from fiscal year end to rebalancing in July to give time for the data to become available.\n",
    "If fiscal year end is before June, Compustat data refers to the previous fiscal year.\n",
    "For example, data released in May 2005 refers to fiscal year 2004.\n",
    "We must set the holding period to `fyear` + 1 where the fiscal year end month is June onwards and `fyear` + 2 otherwise."
   ]
  },
  {
   "cell_type": "code",
   "execution_count": 79,
   "metadata": {
    "scrolled": true
   },
   "outputs": [
    {
     "data": {
      "text/html": [
       "<div>\n",
       "<style scoped>\n",
       "    .dataframe tbody tr th:only-of-type {\n",
       "        vertical-align: middle;\n",
       "    }\n",
       "\n",
       "    .dataframe tbody tr th {\n",
       "        vertical-align: top;\n",
       "    }\n",
       "\n",
       "    .dataframe thead th {\n",
       "        text-align: right;\n",
       "    }\n",
       "</style>\n",
       "<table border=\"1\" class=\"dataframe\">\n",
       "  <thead>\n",
       "    <tr style=\"text-align: right;\">\n",
       "      <th></th>\n",
       "      <th>PERMNO</th>\n",
       "      <th>date</th>\n",
       "      <th>fyear</th>\n",
       "      <th>fyr</th>\n",
       "      <th>fyrc</th>\n",
       "    </tr>\n",
       "  </thead>\n",
       "  <tbody>\n",
       "    <tr>\n",
       "      <th>0</th>\n",
       "      <td>25881</td>\n",
       "      <td>1970-12-31</td>\n",
       "      <td>1970.0</td>\n",
       "      <td>12.0</td>\n",
       "      <td>12</td>\n",
       "    </tr>\n",
       "    <tr>\n",
       "      <th>1</th>\n",
       "      <td>25881</td>\n",
       "      <td>1971-12-31</td>\n",
       "      <td>1971.0</td>\n",
       "      <td>12.0</td>\n",
       "      <td>12</td>\n",
       "    </tr>\n",
       "    <tr>\n",
       "      <th>2</th>\n",
       "      <td>25881</td>\n",
       "      <td>1972-12-31</td>\n",
       "      <td>1972.0</td>\n",
       "      <td>12.0</td>\n",
       "      <td>12</td>\n",
       "    </tr>\n",
       "    <tr>\n",
       "      <th>3</th>\n",
       "      <td>25881</td>\n",
       "      <td>1973-12-31</td>\n",
       "      <td>1973.0</td>\n",
       "      <td>12.0</td>\n",
       "      <td>12</td>\n",
       "    </tr>\n",
       "    <tr>\n",
       "      <th>4</th>\n",
       "      <td>25881</td>\n",
       "      <td>1974-12-31</td>\n",
       "      <td>1974.0</td>\n",
       "      <td>12.0</td>\n",
       "      <td>12</td>\n",
       "    </tr>\n",
       "    <tr>\n",
       "      <th>5</th>\n",
       "      <td>25881</td>\n",
       "      <td>1975-12-31</td>\n",
       "      <td>1975.0</td>\n",
       "      <td>12.0</td>\n",
       "      <td>12</td>\n",
       "    </tr>\n",
       "    <tr>\n",
       "      <th>6</th>\n",
       "      <td>25881</td>\n",
       "      <td>1976-12-31</td>\n",
       "      <td>1976.0</td>\n",
       "      <td>12.0</td>\n",
       "      <td>12</td>\n",
       "    </tr>\n",
       "    <tr>\n",
       "      <th>7</th>\n",
       "      <td>25881</td>\n",
       "      <td>1977-12-31</td>\n",
       "      <td>1977.0</td>\n",
       "      <td>12.0</td>\n",
       "      <td>12</td>\n",
       "    </tr>\n",
       "    <tr>\n",
       "      <th>8</th>\n",
       "      <td>10015</td>\n",
       "      <td>1983-12-31</td>\n",
       "      <td>1983.0</td>\n",
       "      <td>12.0</td>\n",
       "      <td>12</td>\n",
       "    </tr>\n",
       "    <tr>\n",
       "      <th>9</th>\n",
       "      <td>10015</td>\n",
       "      <td>1984-12-31</td>\n",
       "      <td>1984.0</td>\n",
       "      <td>12.0</td>\n",
       "      <td>12</td>\n",
       "    </tr>\n",
       "    <tr>\n",
       "      <th>10</th>\n",
       "      <td>10015</td>\n",
       "      <td>1985-12-31</td>\n",
       "      <td>1985.0</td>\n",
       "      <td>12.0</td>\n",
       "      <td>12</td>\n",
       "    </tr>\n",
       "    <tr>\n",
       "      <th>11</th>\n",
       "      <td>10023</td>\n",
       "      <td>1972-12-31</td>\n",
       "      <td>1972.0</td>\n",
       "      <td>12.0</td>\n",
       "      <td>12</td>\n",
       "    </tr>\n",
       "    <tr>\n",
       "      <th>12</th>\n",
       "      <td>10031</td>\n",
       "      <td>1983-12-31</td>\n",
       "      <td>1983.0</td>\n",
       "      <td>12.0</td>\n",
       "      <td>1</td>\n",
       "    </tr>\n",
       "    <tr>\n",
       "      <th>13</th>\n",
       "      <td>10031</td>\n",
       "      <td>1984-12-31</td>\n",
       "      <td>1984.0</td>\n",
       "      <td>12.0</td>\n",
       "      <td>1</td>\n",
       "    </tr>\n",
       "    <tr>\n",
       "      <th>14</th>\n",
       "      <td>10031</td>\n",
       "      <td>1986-01-31</td>\n",
       "      <td>1985.0</td>\n",
       "      <td>1.0</td>\n",
       "      <td>1</td>\n",
       "    </tr>\n",
       "    <tr>\n",
       "      <th>15</th>\n",
       "      <td>10031</td>\n",
       "      <td>1987-01-31</td>\n",
       "      <td>1986.0</td>\n",
       "      <td>1.0</td>\n",
       "      <td>1</td>\n",
       "    </tr>\n",
       "    <tr>\n",
       "      <th>16</th>\n",
       "      <td>10031</td>\n",
       "      <td>1988-01-31</td>\n",
       "      <td>1987.0</td>\n",
       "      <td>1.0</td>\n",
       "      <td>1</td>\n",
       "    </tr>\n",
       "    <tr>\n",
       "      <th>17</th>\n",
       "      <td>10031</td>\n",
       "      <td>1989-01-31</td>\n",
       "      <td>1988.0</td>\n",
       "      <td>1.0</td>\n",
       "      <td>1</td>\n",
       "    </tr>\n",
       "    <tr>\n",
       "      <th>18</th>\n",
       "      <td>54594</td>\n",
       "      <td>1972-05-31</td>\n",
       "      <td>1971.0</td>\n",
       "      <td>5.0</td>\n",
       "      <td>5</td>\n",
       "    </tr>\n",
       "    <tr>\n",
       "      <th>19</th>\n",
       "      <td>54594</td>\n",
       "      <td>1973-05-31</td>\n",
       "      <td>1972.0</td>\n",
       "      <td>5.0</td>\n",
       "      <td>5</td>\n",
       "    </tr>\n",
       "    <tr>\n",
       "      <th>20</th>\n",
       "      <td>54594</td>\n",
       "      <td>1974-05-31</td>\n",
       "      <td>1973.0</td>\n",
       "      <td>5.0</td>\n",
       "      <td>5</td>\n",
       "    </tr>\n",
       "    <tr>\n",
       "      <th>21</th>\n",
       "      <td>54594</td>\n",
       "      <td>1975-05-31</td>\n",
       "      <td>1974.0</td>\n",
       "      <td>5.0</td>\n",
       "      <td>5</td>\n",
       "    </tr>\n",
       "    <tr>\n",
       "      <th>22</th>\n",
       "      <td>54594</td>\n",
       "      <td>1976-05-31</td>\n",
       "      <td>1975.0</td>\n",
       "      <td>5.0</td>\n",
       "      <td>5</td>\n",
       "    </tr>\n",
       "    <tr>\n",
       "      <th>23</th>\n",
       "      <td>54594</td>\n",
       "      <td>1977-05-31</td>\n",
       "      <td>1976.0</td>\n",
       "      <td>5.0</td>\n",
       "      <td>5</td>\n",
       "    </tr>\n",
       "    <tr>\n",
       "      <th>24</th>\n",
       "      <td>54594</td>\n",
       "      <td>1978-05-31</td>\n",
       "      <td>1977.0</td>\n",
       "      <td>5.0</td>\n",
       "      <td>5</td>\n",
       "    </tr>\n",
       "    <tr>\n",
       "      <th>25</th>\n",
       "      <td>54594</td>\n",
       "      <td>1979-05-31</td>\n",
       "      <td>1978.0</td>\n",
       "      <td>5.0</td>\n",
       "      <td>5</td>\n",
       "    </tr>\n",
       "    <tr>\n",
       "      <th>26</th>\n",
       "      <td>54594</td>\n",
       "      <td>1980-05-31</td>\n",
       "      <td>1979.0</td>\n",
       "      <td>5.0</td>\n",
       "      <td>5</td>\n",
       "    </tr>\n",
       "    <tr>\n",
       "      <th>27</th>\n",
       "      <td>54594</td>\n",
       "      <td>1981-05-31</td>\n",
       "      <td>1980.0</td>\n",
       "      <td>5.0</td>\n",
       "      <td>5</td>\n",
       "    </tr>\n",
       "    <tr>\n",
       "      <th>28</th>\n",
       "      <td>54594</td>\n",
       "      <td>1982-05-31</td>\n",
       "      <td>1981.0</td>\n",
       "      <td>5.0</td>\n",
       "      <td>5</td>\n",
       "    </tr>\n",
       "    <tr>\n",
       "      <th>29</th>\n",
       "      <td>54594</td>\n",
       "      <td>1983-05-31</td>\n",
       "      <td>1982.0</td>\n",
       "      <td>5.0</td>\n",
       "      <td>5</td>\n",
       "    </tr>\n",
       "    <tr>\n",
       "      <th>30</th>\n",
       "      <td>54594</td>\n",
       "      <td>1984-05-31</td>\n",
       "      <td>1983.0</td>\n",
       "      <td>5.0</td>\n",
       "      <td>5</td>\n",
       "    </tr>\n",
       "    <tr>\n",
       "      <th>31</th>\n",
       "      <td>54594</td>\n",
       "      <td>1985-05-31</td>\n",
       "      <td>1984.0</td>\n",
       "      <td>5.0</td>\n",
       "      <td>5</td>\n",
       "    </tr>\n",
       "    <tr>\n",
       "      <th>32</th>\n",
       "      <td>54594</td>\n",
       "      <td>1986-05-31</td>\n",
       "      <td>1985.0</td>\n",
       "      <td>5.0</td>\n",
       "      <td>5</td>\n",
       "    </tr>\n",
       "    <tr>\n",
       "      <th>33</th>\n",
       "      <td>54594</td>\n",
       "      <td>1987-05-31</td>\n",
       "      <td>1986.0</td>\n",
       "      <td>5.0</td>\n",
       "      <td>5</td>\n",
       "    </tr>\n",
       "    <tr>\n",
       "      <th>34</th>\n",
       "      <td>54594</td>\n",
       "      <td>1988-05-31</td>\n",
       "      <td>1987.0</td>\n",
       "      <td>5.0</td>\n",
       "      <td>5</td>\n",
       "    </tr>\n",
       "    <tr>\n",
       "      <th>35</th>\n",
       "      <td>54594</td>\n",
       "      <td>1989-05-31</td>\n",
       "      <td>1988.0</td>\n",
       "      <td>5.0</td>\n",
       "      <td>5</td>\n",
       "    </tr>\n",
       "    <tr>\n",
       "      <th>36</th>\n",
       "      <td>54594</td>\n",
       "      <td>1990-05-31</td>\n",
       "      <td>1989.0</td>\n",
       "      <td>5.0</td>\n",
       "      <td>5</td>\n",
       "    </tr>\n",
       "    <tr>\n",
       "      <th>37</th>\n",
       "      <td>54594</td>\n",
       "      <td>1991-05-31</td>\n",
       "      <td>1990.0</td>\n",
       "      <td>5.0</td>\n",
       "      <td>5</td>\n",
       "    </tr>\n",
       "    <tr>\n",
       "      <th>38</th>\n",
       "      <td>54594</td>\n",
       "      <td>1992-05-31</td>\n",
       "      <td>1991.0</td>\n",
       "      <td>5.0</td>\n",
       "      <td>5</td>\n",
       "    </tr>\n",
       "    <tr>\n",
       "      <th>39</th>\n",
       "      <td>54594</td>\n",
       "      <td>1993-05-31</td>\n",
       "      <td>1992.0</td>\n",
       "      <td>5.0</td>\n",
       "      <td>5</td>\n",
       "    </tr>\n",
       "    <tr>\n",
       "      <th>40</th>\n",
       "      <td>54594</td>\n",
       "      <td>1994-05-31</td>\n",
       "      <td>1993.0</td>\n",
       "      <td>5.0</td>\n",
       "      <td>5</td>\n",
       "    </tr>\n",
       "    <tr>\n",
       "      <th>41</th>\n",
       "      <td>54594</td>\n",
       "      <td>1995-05-31</td>\n",
       "      <td>1994.0</td>\n",
       "      <td>5.0</td>\n",
       "      <td>5</td>\n",
       "    </tr>\n",
       "    <tr>\n",
       "      <th>42</th>\n",
       "      <td>54594</td>\n",
       "      <td>1996-05-31</td>\n",
       "      <td>1995.0</td>\n",
       "      <td>5.0</td>\n",
       "      <td>5</td>\n",
       "    </tr>\n",
       "    <tr>\n",
       "      <th>43</th>\n",
       "      <td>54594</td>\n",
       "      <td>1997-05-31</td>\n",
       "      <td>1996.0</td>\n",
       "      <td>5.0</td>\n",
       "      <td>5</td>\n",
       "    </tr>\n",
       "    <tr>\n",
       "      <th>44</th>\n",
       "      <td>54594</td>\n",
       "      <td>1998-05-31</td>\n",
       "      <td>1997.0</td>\n",
       "      <td>5.0</td>\n",
       "      <td>5</td>\n",
       "    </tr>\n",
       "    <tr>\n",
       "      <th>45</th>\n",
       "      <td>54594</td>\n",
       "      <td>1999-05-31</td>\n",
       "      <td>1998.0</td>\n",
       "      <td>5.0</td>\n",
       "      <td>5</td>\n",
       "    </tr>\n",
       "    <tr>\n",
       "      <th>46</th>\n",
       "      <td>54594</td>\n",
       "      <td>2000-05-31</td>\n",
       "      <td>1999.0</td>\n",
       "      <td>5.0</td>\n",
       "      <td>5</td>\n",
       "    </tr>\n",
       "    <tr>\n",
       "      <th>47</th>\n",
       "      <td>54594</td>\n",
       "      <td>2001-05-31</td>\n",
       "      <td>2000.0</td>\n",
       "      <td>5.0</td>\n",
       "      <td>5</td>\n",
       "    </tr>\n",
       "    <tr>\n",
       "      <th>48</th>\n",
       "      <td>54594</td>\n",
       "      <td>2002-05-31</td>\n",
       "      <td>2001.0</td>\n",
       "      <td>5.0</td>\n",
       "      <td>5</td>\n",
       "    </tr>\n",
       "    <tr>\n",
       "      <th>49</th>\n",
       "      <td>54594</td>\n",
       "      <td>2003-05-31</td>\n",
       "      <td>2002.0</td>\n",
       "      <td>5.0</td>\n",
       "      <td>5</td>\n",
       "    </tr>\n",
       "  </tbody>\n",
       "</table>\n",
       "</div>"
      ],
      "text/plain": [
       "    PERMNO       date   fyear   fyr  fyrc\n",
       "0    25881 1970-12-31  1970.0  12.0    12\n",
       "1    25881 1971-12-31  1971.0  12.0    12\n",
       "2    25881 1972-12-31  1972.0  12.0    12\n",
       "3    25881 1973-12-31  1973.0  12.0    12\n",
       "4    25881 1974-12-31  1974.0  12.0    12\n",
       "5    25881 1975-12-31  1975.0  12.0    12\n",
       "6    25881 1976-12-31  1976.0  12.0    12\n",
       "7    25881 1977-12-31  1977.0  12.0    12\n",
       "8    10015 1983-12-31  1983.0  12.0    12\n",
       "9    10015 1984-12-31  1984.0  12.0    12\n",
       "10   10015 1985-12-31  1985.0  12.0    12\n",
       "11   10023 1972-12-31  1972.0  12.0    12\n",
       "12   10031 1983-12-31  1983.0  12.0     1\n",
       "13   10031 1984-12-31  1984.0  12.0     1\n",
       "14   10031 1986-01-31  1985.0   1.0     1\n",
       "15   10031 1987-01-31  1986.0   1.0     1\n",
       "16   10031 1988-01-31  1987.0   1.0     1\n",
       "17   10031 1989-01-31  1988.0   1.0     1\n",
       "18   54594 1972-05-31  1971.0   5.0     5\n",
       "19   54594 1973-05-31  1972.0   5.0     5\n",
       "20   54594 1974-05-31  1973.0   5.0     5\n",
       "21   54594 1975-05-31  1974.0   5.0     5\n",
       "22   54594 1976-05-31  1975.0   5.0     5\n",
       "23   54594 1977-05-31  1976.0   5.0     5\n",
       "24   54594 1978-05-31  1977.0   5.0     5\n",
       "25   54594 1979-05-31  1978.0   5.0     5\n",
       "26   54594 1980-05-31  1979.0   5.0     5\n",
       "27   54594 1981-05-31  1980.0   5.0     5\n",
       "28   54594 1982-05-31  1981.0   5.0     5\n",
       "29   54594 1983-05-31  1982.0   5.0     5\n",
       "30   54594 1984-05-31  1983.0   5.0     5\n",
       "31   54594 1985-05-31  1984.0   5.0     5\n",
       "32   54594 1986-05-31  1985.0   5.0     5\n",
       "33   54594 1987-05-31  1986.0   5.0     5\n",
       "34   54594 1988-05-31  1987.0   5.0     5\n",
       "35   54594 1989-05-31  1988.0   5.0     5\n",
       "36   54594 1990-05-31  1989.0   5.0     5\n",
       "37   54594 1991-05-31  1990.0   5.0     5\n",
       "38   54594 1992-05-31  1991.0   5.0     5\n",
       "39   54594 1993-05-31  1992.0   5.0     5\n",
       "40   54594 1994-05-31  1993.0   5.0     5\n",
       "41   54594 1995-05-31  1994.0   5.0     5\n",
       "42   54594 1996-05-31  1995.0   5.0     5\n",
       "43   54594 1997-05-31  1996.0   5.0     5\n",
       "44   54594 1998-05-31  1997.0   5.0     5\n",
       "45   54594 1999-05-31  1998.0   5.0     5\n",
       "46   54594 2000-05-31  1999.0   5.0     5\n",
       "47   54594 2001-05-31  2000.0   5.0     5\n",
       "48   54594 2002-05-31  2001.0   5.0     5\n",
       "49   54594 2003-05-31  2002.0   5.0     5"
      ]
     },
     "execution_count": 79,
     "metadata": {},
     "output_type": "execute_result"
    }
   ],
   "source": [
    "comp[[\"PERMNO\", \"date\", \"fyear\", \"fyr\", \"fyrc\"]].head(n=50)"
   ]
  },
  {
   "cell_type": "code",
   "execution_count": 80,
   "metadata": {},
   "outputs": [
    {
     "data": {
      "text/plain": [
       "(dtype('float64'), dtype('float64'), dtype('int64'))"
      ]
     },
     "execution_count": 80,
     "metadata": {},
     "output_type": "execute_result"
    }
   ],
   "source": [
    "comp.fyear.dtype, comp.fyr.dtype, comp.fyrc.dtype"
   ]
  },
  {
   "cell_type": "code",
   "execution_count": 81,
   "metadata": {},
   "outputs": [
    {
     "data": {
      "text/plain": [
       "0.07501265524343141"
      ]
     },
     "execution_count": 81,
     "metadata": {},
     "output_type": "execute_result"
    }
   ],
   "source": [
    "(comp.fyr != comp.fyrc).sum() / comp.PERMNO.count()"
   ]
  },
  {
   "cell_type": "code",
   "execution_count": 82,
   "metadata": {},
   "outputs": [
    {
     "data": {
      "text/plain": [
       "(2, 0)"
      ]
     },
     "execution_count": 82,
     "metadata": {},
     "output_type": "execute_result"
    }
   ],
   "source": [
    "comp.fyr.isna().sum(), comp.fyrc.isna().sum()"
   ]
  },
  {
   "cell_type": "markdown",
   "metadata": {},
   "source": [
    "`fyr` does things depending on when in the month the actual fiscal year end is, so we will use `fyrc`."
   ]
  },
  {
   "cell_type": "markdown",
   "metadata": {},
   "source": [
    "How many holding periods are actually impacted by this?"
   ]
  },
  {
   "cell_type": "code",
   "execution_count": 83,
   "metadata": {},
   "outputs": [
    {
     "data": {
      "text/plain": [
       "0.13166653953636737"
      ]
     },
     "execution_count": 83,
     "metadata": {},
     "output_type": "execute_result"
    }
   ],
   "source": [
    "(comp.fyrc<6).sum() / comp.PERMNO.count()"
   ]
  },
  {
   "cell_type": "code",
   "execution_count": 84,
   "metadata": {},
   "outputs": [],
   "source": [
    "comp[\"HP\"] = pd.np.NaN"
   ]
  },
  {
   "cell_type": "code",
   "execution_count": 85,
   "metadata": {},
   "outputs": [],
   "source": [
    "ix = comp.fyrc < 6\n",
    "comp.loc[ix, \"HP\"] = comp.fyear[ix] + 2\n",
    "ix = comp.fyrc >= 6  # redo the index because we want to leave NaNs as they are\n",
    "comp.loc[ix, \"HP\"] = comp.fyear[ix] + 1"
   ]
  },
  {
   "cell_type": "code",
   "execution_count": 86,
   "metadata": {
    "scrolled": true
   },
   "outputs": [
    {
     "data": {
      "text/html": [
       "<div>\n",
       "<style scoped>\n",
       "    .dataframe tbody tr th:only-of-type {\n",
       "        vertical-align: middle;\n",
       "    }\n",
       "\n",
       "    .dataframe tbody tr th {\n",
       "        vertical-align: top;\n",
       "    }\n",
       "\n",
       "    .dataframe thead th {\n",
       "        text-align: right;\n",
       "    }\n",
       "</style>\n",
       "<table border=\"1\" class=\"dataframe\">\n",
       "  <thead>\n",
       "    <tr style=\"text-align: right;\">\n",
       "      <th></th>\n",
       "      <th>PERMNO</th>\n",
       "      <th>date</th>\n",
       "      <th>fyear</th>\n",
       "      <th>fyrc</th>\n",
       "      <th>HP</th>\n",
       "    </tr>\n",
       "  </thead>\n",
       "  <tbody>\n",
       "    <tr>\n",
       "      <th>0</th>\n",
       "      <td>25881</td>\n",
       "      <td>1970-12-31</td>\n",
       "      <td>1970.0</td>\n",
       "      <td>12</td>\n",
       "      <td>1971.0</td>\n",
       "    </tr>\n",
       "    <tr>\n",
       "      <th>1</th>\n",
       "      <td>25881</td>\n",
       "      <td>1971-12-31</td>\n",
       "      <td>1971.0</td>\n",
       "      <td>12</td>\n",
       "      <td>1972.0</td>\n",
       "    </tr>\n",
       "    <tr>\n",
       "      <th>2</th>\n",
       "      <td>25881</td>\n",
       "      <td>1972-12-31</td>\n",
       "      <td>1972.0</td>\n",
       "      <td>12</td>\n",
       "      <td>1973.0</td>\n",
       "    </tr>\n",
       "    <tr>\n",
       "      <th>3</th>\n",
       "      <td>25881</td>\n",
       "      <td>1973-12-31</td>\n",
       "      <td>1973.0</td>\n",
       "      <td>12</td>\n",
       "      <td>1974.0</td>\n",
       "    </tr>\n",
       "    <tr>\n",
       "      <th>4</th>\n",
       "      <td>25881</td>\n",
       "      <td>1974-12-31</td>\n",
       "      <td>1974.0</td>\n",
       "      <td>12</td>\n",
       "      <td>1975.0</td>\n",
       "    </tr>\n",
       "    <tr>\n",
       "      <th>5</th>\n",
       "      <td>25881</td>\n",
       "      <td>1975-12-31</td>\n",
       "      <td>1975.0</td>\n",
       "      <td>12</td>\n",
       "      <td>1976.0</td>\n",
       "    </tr>\n",
       "    <tr>\n",
       "      <th>6</th>\n",
       "      <td>25881</td>\n",
       "      <td>1976-12-31</td>\n",
       "      <td>1976.0</td>\n",
       "      <td>12</td>\n",
       "      <td>1977.0</td>\n",
       "    </tr>\n",
       "    <tr>\n",
       "      <th>7</th>\n",
       "      <td>25881</td>\n",
       "      <td>1977-12-31</td>\n",
       "      <td>1977.0</td>\n",
       "      <td>12</td>\n",
       "      <td>1978.0</td>\n",
       "    </tr>\n",
       "    <tr>\n",
       "      <th>8</th>\n",
       "      <td>10015</td>\n",
       "      <td>1983-12-31</td>\n",
       "      <td>1983.0</td>\n",
       "      <td>12</td>\n",
       "      <td>1984.0</td>\n",
       "    </tr>\n",
       "    <tr>\n",
       "      <th>9</th>\n",
       "      <td>10015</td>\n",
       "      <td>1984-12-31</td>\n",
       "      <td>1984.0</td>\n",
       "      <td>12</td>\n",
       "      <td>1985.0</td>\n",
       "    </tr>\n",
       "    <tr>\n",
       "      <th>10</th>\n",
       "      <td>10015</td>\n",
       "      <td>1985-12-31</td>\n",
       "      <td>1985.0</td>\n",
       "      <td>12</td>\n",
       "      <td>1986.0</td>\n",
       "    </tr>\n",
       "    <tr>\n",
       "      <th>11</th>\n",
       "      <td>10023</td>\n",
       "      <td>1972-12-31</td>\n",
       "      <td>1972.0</td>\n",
       "      <td>12</td>\n",
       "      <td>1973.0</td>\n",
       "    </tr>\n",
       "    <tr>\n",
       "      <th>12</th>\n",
       "      <td>10031</td>\n",
       "      <td>1983-12-31</td>\n",
       "      <td>1983.0</td>\n",
       "      <td>1</td>\n",
       "      <td>1985.0</td>\n",
       "    </tr>\n",
       "    <tr>\n",
       "      <th>13</th>\n",
       "      <td>10031</td>\n",
       "      <td>1984-12-31</td>\n",
       "      <td>1984.0</td>\n",
       "      <td>1</td>\n",
       "      <td>1986.0</td>\n",
       "    </tr>\n",
       "    <tr>\n",
       "      <th>14</th>\n",
       "      <td>10031</td>\n",
       "      <td>1986-01-31</td>\n",
       "      <td>1985.0</td>\n",
       "      <td>1</td>\n",
       "      <td>1987.0</td>\n",
       "    </tr>\n",
       "    <tr>\n",
       "      <th>15</th>\n",
       "      <td>10031</td>\n",
       "      <td>1987-01-31</td>\n",
       "      <td>1986.0</td>\n",
       "      <td>1</td>\n",
       "      <td>1988.0</td>\n",
       "    </tr>\n",
       "    <tr>\n",
       "      <th>16</th>\n",
       "      <td>10031</td>\n",
       "      <td>1988-01-31</td>\n",
       "      <td>1987.0</td>\n",
       "      <td>1</td>\n",
       "      <td>1989.0</td>\n",
       "    </tr>\n",
       "    <tr>\n",
       "      <th>17</th>\n",
       "      <td>10031</td>\n",
       "      <td>1989-01-31</td>\n",
       "      <td>1988.0</td>\n",
       "      <td>1</td>\n",
       "      <td>1990.0</td>\n",
       "    </tr>\n",
       "    <tr>\n",
       "      <th>18</th>\n",
       "      <td>54594</td>\n",
       "      <td>1972-05-31</td>\n",
       "      <td>1971.0</td>\n",
       "      <td>5</td>\n",
       "      <td>1973.0</td>\n",
       "    </tr>\n",
       "    <tr>\n",
       "      <th>19</th>\n",
       "      <td>54594</td>\n",
       "      <td>1973-05-31</td>\n",
       "      <td>1972.0</td>\n",
       "      <td>5</td>\n",
       "      <td>1974.0</td>\n",
       "    </tr>\n",
       "    <tr>\n",
       "      <th>20</th>\n",
       "      <td>54594</td>\n",
       "      <td>1974-05-31</td>\n",
       "      <td>1973.0</td>\n",
       "      <td>5</td>\n",
       "      <td>1975.0</td>\n",
       "    </tr>\n",
       "    <tr>\n",
       "      <th>21</th>\n",
       "      <td>54594</td>\n",
       "      <td>1975-05-31</td>\n",
       "      <td>1974.0</td>\n",
       "      <td>5</td>\n",
       "      <td>1976.0</td>\n",
       "    </tr>\n",
       "    <tr>\n",
       "      <th>22</th>\n",
       "      <td>54594</td>\n",
       "      <td>1976-05-31</td>\n",
       "      <td>1975.0</td>\n",
       "      <td>5</td>\n",
       "      <td>1977.0</td>\n",
       "    </tr>\n",
       "    <tr>\n",
       "      <th>23</th>\n",
       "      <td>54594</td>\n",
       "      <td>1977-05-31</td>\n",
       "      <td>1976.0</td>\n",
       "      <td>5</td>\n",
       "      <td>1978.0</td>\n",
       "    </tr>\n",
       "    <tr>\n",
       "      <th>24</th>\n",
       "      <td>54594</td>\n",
       "      <td>1978-05-31</td>\n",
       "      <td>1977.0</td>\n",
       "      <td>5</td>\n",
       "      <td>1979.0</td>\n",
       "    </tr>\n",
       "    <tr>\n",
       "      <th>25</th>\n",
       "      <td>54594</td>\n",
       "      <td>1979-05-31</td>\n",
       "      <td>1978.0</td>\n",
       "      <td>5</td>\n",
       "      <td>1980.0</td>\n",
       "    </tr>\n",
       "    <tr>\n",
       "      <th>26</th>\n",
       "      <td>54594</td>\n",
       "      <td>1980-05-31</td>\n",
       "      <td>1979.0</td>\n",
       "      <td>5</td>\n",
       "      <td>1981.0</td>\n",
       "    </tr>\n",
       "    <tr>\n",
       "      <th>27</th>\n",
       "      <td>54594</td>\n",
       "      <td>1981-05-31</td>\n",
       "      <td>1980.0</td>\n",
       "      <td>5</td>\n",
       "      <td>1982.0</td>\n",
       "    </tr>\n",
       "    <tr>\n",
       "      <th>28</th>\n",
       "      <td>54594</td>\n",
       "      <td>1982-05-31</td>\n",
       "      <td>1981.0</td>\n",
       "      <td>5</td>\n",
       "      <td>1983.0</td>\n",
       "    </tr>\n",
       "    <tr>\n",
       "      <th>29</th>\n",
       "      <td>54594</td>\n",
       "      <td>1983-05-31</td>\n",
       "      <td>1982.0</td>\n",
       "      <td>5</td>\n",
       "      <td>1984.0</td>\n",
       "    </tr>\n",
       "    <tr>\n",
       "      <th>30</th>\n",
       "      <td>54594</td>\n",
       "      <td>1984-05-31</td>\n",
       "      <td>1983.0</td>\n",
       "      <td>5</td>\n",
       "      <td>1985.0</td>\n",
       "    </tr>\n",
       "    <tr>\n",
       "      <th>31</th>\n",
       "      <td>54594</td>\n",
       "      <td>1985-05-31</td>\n",
       "      <td>1984.0</td>\n",
       "      <td>5</td>\n",
       "      <td>1986.0</td>\n",
       "    </tr>\n",
       "    <tr>\n",
       "      <th>32</th>\n",
       "      <td>54594</td>\n",
       "      <td>1986-05-31</td>\n",
       "      <td>1985.0</td>\n",
       "      <td>5</td>\n",
       "      <td>1987.0</td>\n",
       "    </tr>\n",
       "    <tr>\n",
       "      <th>33</th>\n",
       "      <td>54594</td>\n",
       "      <td>1987-05-31</td>\n",
       "      <td>1986.0</td>\n",
       "      <td>5</td>\n",
       "      <td>1988.0</td>\n",
       "    </tr>\n",
       "    <tr>\n",
       "      <th>34</th>\n",
       "      <td>54594</td>\n",
       "      <td>1988-05-31</td>\n",
       "      <td>1987.0</td>\n",
       "      <td>5</td>\n",
       "      <td>1989.0</td>\n",
       "    </tr>\n",
       "    <tr>\n",
       "      <th>35</th>\n",
       "      <td>54594</td>\n",
       "      <td>1989-05-31</td>\n",
       "      <td>1988.0</td>\n",
       "      <td>5</td>\n",
       "      <td>1990.0</td>\n",
       "    </tr>\n",
       "    <tr>\n",
       "      <th>36</th>\n",
       "      <td>54594</td>\n",
       "      <td>1990-05-31</td>\n",
       "      <td>1989.0</td>\n",
       "      <td>5</td>\n",
       "      <td>1991.0</td>\n",
       "    </tr>\n",
       "    <tr>\n",
       "      <th>37</th>\n",
       "      <td>54594</td>\n",
       "      <td>1991-05-31</td>\n",
       "      <td>1990.0</td>\n",
       "      <td>5</td>\n",
       "      <td>1992.0</td>\n",
       "    </tr>\n",
       "    <tr>\n",
       "      <th>38</th>\n",
       "      <td>54594</td>\n",
       "      <td>1992-05-31</td>\n",
       "      <td>1991.0</td>\n",
       "      <td>5</td>\n",
       "      <td>1993.0</td>\n",
       "    </tr>\n",
       "    <tr>\n",
       "      <th>39</th>\n",
       "      <td>54594</td>\n",
       "      <td>1993-05-31</td>\n",
       "      <td>1992.0</td>\n",
       "      <td>5</td>\n",
       "      <td>1994.0</td>\n",
       "    </tr>\n",
       "    <tr>\n",
       "      <th>40</th>\n",
       "      <td>54594</td>\n",
       "      <td>1994-05-31</td>\n",
       "      <td>1993.0</td>\n",
       "      <td>5</td>\n",
       "      <td>1995.0</td>\n",
       "    </tr>\n",
       "    <tr>\n",
       "      <th>41</th>\n",
       "      <td>54594</td>\n",
       "      <td>1995-05-31</td>\n",
       "      <td>1994.0</td>\n",
       "      <td>5</td>\n",
       "      <td>1996.0</td>\n",
       "    </tr>\n",
       "    <tr>\n",
       "      <th>42</th>\n",
       "      <td>54594</td>\n",
       "      <td>1996-05-31</td>\n",
       "      <td>1995.0</td>\n",
       "      <td>5</td>\n",
       "      <td>1997.0</td>\n",
       "    </tr>\n",
       "    <tr>\n",
       "      <th>43</th>\n",
       "      <td>54594</td>\n",
       "      <td>1997-05-31</td>\n",
       "      <td>1996.0</td>\n",
       "      <td>5</td>\n",
       "      <td>1998.0</td>\n",
       "    </tr>\n",
       "    <tr>\n",
       "      <th>44</th>\n",
       "      <td>54594</td>\n",
       "      <td>1998-05-31</td>\n",
       "      <td>1997.0</td>\n",
       "      <td>5</td>\n",
       "      <td>1999.0</td>\n",
       "    </tr>\n",
       "    <tr>\n",
       "      <th>45</th>\n",
       "      <td>54594</td>\n",
       "      <td>1999-05-31</td>\n",
       "      <td>1998.0</td>\n",
       "      <td>5</td>\n",
       "      <td>2000.0</td>\n",
       "    </tr>\n",
       "    <tr>\n",
       "      <th>46</th>\n",
       "      <td>54594</td>\n",
       "      <td>2000-05-31</td>\n",
       "      <td>1999.0</td>\n",
       "      <td>5</td>\n",
       "      <td>2001.0</td>\n",
       "    </tr>\n",
       "    <tr>\n",
       "      <th>47</th>\n",
       "      <td>54594</td>\n",
       "      <td>2001-05-31</td>\n",
       "      <td>2000.0</td>\n",
       "      <td>5</td>\n",
       "      <td>2002.0</td>\n",
       "    </tr>\n",
       "    <tr>\n",
       "      <th>48</th>\n",
       "      <td>54594</td>\n",
       "      <td>2002-05-31</td>\n",
       "      <td>2001.0</td>\n",
       "      <td>5</td>\n",
       "      <td>2003.0</td>\n",
       "    </tr>\n",
       "    <tr>\n",
       "      <th>49</th>\n",
       "      <td>54594</td>\n",
       "      <td>2003-05-31</td>\n",
       "      <td>2002.0</td>\n",
       "      <td>5</td>\n",
       "      <td>2004.0</td>\n",
       "    </tr>\n",
       "  </tbody>\n",
       "</table>\n",
       "</div>"
      ],
      "text/plain": [
       "    PERMNO       date   fyear  fyrc      HP\n",
       "0    25881 1970-12-31  1970.0    12  1971.0\n",
       "1    25881 1971-12-31  1971.0    12  1972.0\n",
       "2    25881 1972-12-31  1972.0    12  1973.0\n",
       "3    25881 1973-12-31  1973.0    12  1974.0\n",
       "4    25881 1974-12-31  1974.0    12  1975.0\n",
       "5    25881 1975-12-31  1975.0    12  1976.0\n",
       "6    25881 1976-12-31  1976.0    12  1977.0\n",
       "7    25881 1977-12-31  1977.0    12  1978.0\n",
       "8    10015 1983-12-31  1983.0    12  1984.0\n",
       "9    10015 1984-12-31  1984.0    12  1985.0\n",
       "10   10015 1985-12-31  1985.0    12  1986.0\n",
       "11   10023 1972-12-31  1972.0    12  1973.0\n",
       "12   10031 1983-12-31  1983.0     1  1985.0\n",
       "13   10031 1984-12-31  1984.0     1  1986.0\n",
       "14   10031 1986-01-31  1985.0     1  1987.0\n",
       "15   10031 1987-01-31  1986.0     1  1988.0\n",
       "16   10031 1988-01-31  1987.0     1  1989.0\n",
       "17   10031 1989-01-31  1988.0     1  1990.0\n",
       "18   54594 1972-05-31  1971.0     5  1973.0\n",
       "19   54594 1973-05-31  1972.0     5  1974.0\n",
       "20   54594 1974-05-31  1973.0     5  1975.0\n",
       "21   54594 1975-05-31  1974.0     5  1976.0\n",
       "22   54594 1976-05-31  1975.0     5  1977.0\n",
       "23   54594 1977-05-31  1976.0     5  1978.0\n",
       "24   54594 1978-05-31  1977.0     5  1979.0\n",
       "25   54594 1979-05-31  1978.0     5  1980.0\n",
       "26   54594 1980-05-31  1979.0     5  1981.0\n",
       "27   54594 1981-05-31  1980.0     5  1982.0\n",
       "28   54594 1982-05-31  1981.0     5  1983.0\n",
       "29   54594 1983-05-31  1982.0     5  1984.0\n",
       "30   54594 1984-05-31  1983.0     5  1985.0\n",
       "31   54594 1985-05-31  1984.0     5  1986.0\n",
       "32   54594 1986-05-31  1985.0     5  1987.0\n",
       "33   54594 1987-05-31  1986.0     5  1988.0\n",
       "34   54594 1988-05-31  1987.0     5  1989.0\n",
       "35   54594 1989-05-31  1988.0     5  1990.0\n",
       "36   54594 1990-05-31  1989.0     5  1991.0\n",
       "37   54594 1991-05-31  1990.0     5  1992.0\n",
       "38   54594 1992-05-31  1991.0     5  1993.0\n",
       "39   54594 1993-05-31  1992.0     5  1994.0\n",
       "40   54594 1994-05-31  1993.0     5  1995.0\n",
       "41   54594 1995-05-31  1994.0     5  1996.0\n",
       "42   54594 1996-05-31  1995.0     5  1997.0\n",
       "43   54594 1997-05-31  1996.0     5  1998.0\n",
       "44   54594 1998-05-31  1997.0     5  1999.0\n",
       "45   54594 1999-05-31  1998.0     5  2000.0\n",
       "46   54594 2000-05-31  1999.0     5  2001.0\n",
       "47   54594 2001-05-31  2000.0     5  2002.0\n",
       "48   54594 2002-05-31  2001.0     5  2003.0\n",
       "49   54594 2003-05-31  2002.0     5  2004.0"
      ]
     },
     "execution_count": 86,
     "metadata": {},
     "output_type": "execute_result"
    }
   ],
   "source": [
    "comp[[\"PERMNO\", \"date\", \"fyear\", \"fyrc\", \"HP\"]].head(n=50)"
   ]
  },
  {
   "cell_type": "markdown",
   "metadata": {},
   "source": [
    "## Book Equity"
   ]
  },
  {
   "cell_type": "markdown",
   "metadata": {},
   "source": [
    "Fama and French use an annoyingly long definition of Book Equity and I'm pretty sure Asness and his pals just use `seq`.\n",
    "Nevertheless, we will dive in.\n",
    "Using compustat codes\n",
    "$$be = seq + txditc - ps$$\n",
    "where $ps = pstkrv, pstkl, pstk$ in order of preference.\n",
    "If we are unable to get a value for Book Equity from this we can try\n",
    "$$be = ceq + upstk$$\n",
    "and finally\n",
    "$$be = at - lt$$"
   ]
  },
  {
   "cell_type": "markdown",
   "metadata": {},
   "source": [
    "We will assume `txditc`, `ps` and `upstk` can be missing."
   ]
  },
  {
   "cell_type": "code",
   "execution_count": 87,
   "metadata": {},
   "outputs": [],
   "source": [
    "comp[\"ps\"] = comp.pstkrv\n",
    "comp.loc[comp.ps.isna(), \"ps\"] = comp.pstkl[comp.ps.isna()]\n",
    "comp.loc[comp.ps.isna(), \"ps\"] = comp.pstk[comp.ps.isna()]"
   ]
  },
  {
   "cell_type": "code",
   "execution_count": 88,
   "metadata": {},
   "outputs": [
    {
     "data": {
      "text/plain": [
       "24180"
      ]
     },
     "execution_count": 88,
     "metadata": {},
     "output_type": "execute_result"
    }
   ],
   "source": [
    "comp[\"BE\"] = comp.seq + comp.txditc.fillna(0) - comp.ps.fillna(0)\n",
    "comp.BE.isna().sum()"
   ]
  },
  {
   "cell_type": "code",
   "execution_count": 89,
   "metadata": {},
   "outputs": [
    {
     "data": {
      "text/plain": [
       "22604"
      ]
     },
     "execution_count": 89,
     "metadata": {},
     "output_type": "execute_result"
    }
   ],
   "source": [
    "comp.loc[comp.BE.isna(), \"BE\"] = comp.ceq[comp.BE.isna()] + comp.upstk[comp.BE.isna()].fillna(0)\n",
    "comp.BE.isna().sum()"
   ]
  },
  {
   "cell_type": "code",
   "execution_count": 90,
   "metadata": {},
   "outputs": [
    {
     "data": {
      "text/plain": [
       "19878"
      ]
     },
     "execution_count": 90,
     "metadata": {},
     "output_type": "execute_result"
    }
   ],
   "source": [
    "comp.loc[comp.BE.isna(), \"BE\"] = comp[\"at\"][comp.BE.isna()] - comp[\"lt\"][comp.BE.isna()]  # at and lt are methods\n",
    "comp.BE.isna().sum()"
   ]
  },
  {
   "cell_type": "markdown",
   "metadata": {},
   "source": [
    "Little strange to have negative Book Equity, we must remember to remove these before we assign to buckets."
   ]
  },
  {
   "cell_type": "code",
   "execution_count": 91,
   "metadata": {},
   "outputs": [
    {
     "data": {
      "text/plain": [
       "9672"
      ]
     },
     "execution_count": 91,
     "metadata": {},
     "output_type": "execute_result"
    }
   ],
   "source": [
    "(comp.BE < 0).sum()"
   ]
  },
  {
   "cell_type": "code",
   "execution_count": 92,
   "metadata": {},
   "outputs": [],
   "source": [
    "comp[\"L1_BE\"] = comp.groupby(\"PERMNO\")[\"BE\"].shift(1)\n",
    "comp[\"D1_BE\"] = comp.BE - comp.L1_BE\n",
    "comp[\"BE_Growth\"] = comp.D1_BE / comp.L1_BE\n",
    "comp[\"BE_Growth_Future\"] = comp.groupby(\"PERMNO\")[\"BE_Growth\"].shift(-1)"
   ]
  },
  {
   "cell_type": "code",
   "execution_count": 93,
   "metadata": {
    "scrolled": true
   },
   "outputs": [
    {
     "data": {
      "text/html": [
       "<div>\n",
       "<style scoped>\n",
       "    .dataframe tbody tr th:only-of-type {\n",
       "        vertical-align: middle;\n",
       "    }\n",
       "\n",
       "    .dataframe tbody tr th {\n",
       "        vertical-align: top;\n",
       "    }\n",
       "\n",
       "    .dataframe thead th {\n",
       "        text-align: right;\n",
       "    }\n",
       "</style>\n",
       "<table border=\"1\" class=\"dataframe\">\n",
       "  <thead>\n",
       "    <tr style=\"text-align: right;\">\n",
       "      <th></th>\n",
       "      <th>PERMNO</th>\n",
       "      <th>date</th>\n",
       "      <th>HP</th>\n",
       "      <th>BE</th>\n",
       "      <th>L1_BE</th>\n",
       "      <th>D1_BE</th>\n",
       "      <th>BE_Growth</th>\n",
       "      <th>BE_Growth_Future</th>\n",
       "    </tr>\n",
       "  </thead>\n",
       "  <tbody>\n",
       "    <tr>\n",
       "      <th>0</th>\n",
       "      <td>25881</td>\n",
       "      <td>1970-12-31</td>\n",
       "      <td>1971.0</td>\n",
       "      <td>10.544</td>\n",
       "      <td>NaN</td>\n",
       "      <td>NaN</td>\n",
       "      <td>NaN</td>\n",
       "      <td>-0.205046</td>\n",
       "    </tr>\n",
       "    <tr>\n",
       "      <th>1</th>\n",
       "      <td>25881</td>\n",
       "      <td>1971-12-31</td>\n",
       "      <td>1972.0</td>\n",
       "      <td>8.382</td>\n",
       "      <td>10.544</td>\n",
       "      <td>-2.162</td>\n",
       "      <td>-0.205046</td>\n",
       "      <td>-0.128012</td>\n",
       "    </tr>\n",
       "    <tr>\n",
       "      <th>2</th>\n",
       "      <td>25881</td>\n",
       "      <td>1972-12-31</td>\n",
       "      <td>1973.0</td>\n",
       "      <td>7.309</td>\n",
       "      <td>8.382</td>\n",
       "      <td>-1.073</td>\n",
       "      <td>-0.128012</td>\n",
       "      <td>0.203721</td>\n",
       "    </tr>\n",
       "    <tr>\n",
       "      <th>3</th>\n",
       "      <td>25881</td>\n",
       "      <td>1973-12-31</td>\n",
       "      <td>1974.0</td>\n",
       "      <td>8.798</td>\n",
       "      <td>7.309</td>\n",
       "      <td>1.489</td>\n",
       "      <td>0.203721</td>\n",
       "      <td>-0.058991</td>\n",
       "    </tr>\n",
       "    <tr>\n",
       "      <th>4</th>\n",
       "      <td>25881</td>\n",
       "      <td>1974-12-31</td>\n",
       "      <td>1975.0</td>\n",
       "      <td>8.279</td>\n",
       "      <td>8.798</td>\n",
       "      <td>-0.519</td>\n",
       "      <td>-0.058991</td>\n",
       "      <td>0.331079</td>\n",
       "    </tr>\n",
       "    <tr>\n",
       "      <th>5</th>\n",
       "      <td>25881</td>\n",
       "      <td>1975-12-31</td>\n",
       "      <td>1976.0</td>\n",
       "      <td>11.020</td>\n",
       "      <td>8.279</td>\n",
       "      <td>2.741</td>\n",
       "      <td>0.331079</td>\n",
       "      <td>0.408984</td>\n",
       "    </tr>\n",
       "    <tr>\n",
       "      <th>6</th>\n",
       "      <td>25881</td>\n",
       "      <td>1976-12-31</td>\n",
       "      <td>1977.0</td>\n",
       "      <td>15.527</td>\n",
       "      <td>11.020</td>\n",
       "      <td>4.507</td>\n",
       "      <td>0.408984</td>\n",
       "      <td>0.138211</td>\n",
       "    </tr>\n",
       "    <tr>\n",
       "      <th>7</th>\n",
       "      <td>25881</td>\n",
       "      <td>1977-12-31</td>\n",
       "      <td>1978.0</td>\n",
       "      <td>17.673</td>\n",
       "      <td>15.527</td>\n",
       "      <td>2.146</td>\n",
       "      <td>0.138211</td>\n",
       "      <td>NaN</td>\n",
       "    </tr>\n",
       "    <tr>\n",
       "      <th>8</th>\n",
       "      <td>10015</td>\n",
       "      <td>1983-12-31</td>\n",
       "      <td>1984.0</td>\n",
       "      <td>7.823</td>\n",
       "      <td>NaN</td>\n",
       "      <td>NaN</td>\n",
       "      <td>NaN</td>\n",
       "      <td>0.191231</td>\n",
       "    </tr>\n",
       "    <tr>\n",
       "      <th>9</th>\n",
       "      <td>10015</td>\n",
       "      <td>1984-12-31</td>\n",
       "      <td>1985.0</td>\n",
       "      <td>9.319</td>\n",
       "      <td>7.823</td>\n",
       "      <td>1.496</td>\n",
       "      <td>0.191231</td>\n",
       "      <td>0.466359</td>\n",
       "    </tr>\n",
       "    <tr>\n",
       "      <th>10</th>\n",
       "      <td>10015</td>\n",
       "      <td>1985-12-31</td>\n",
       "      <td>1986.0</td>\n",
       "      <td>13.665</td>\n",
       "      <td>9.319</td>\n",
       "      <td>4.346</td>\n",
       "      <td>0.466359</td>\n",
       "      <td>NaN</td>\n",
       "    </tr>\n",
       "    <tr>\n",
       "      <th>11</th>\n",
       "      <td>10023</td>\n",
       "      <td>1972-12-31</td>\n",
       "      <td>1973.0</td>\n",
       "      <td>8.591</td>\n",
       "      <td>NaN</td>\n",
       "      <td>NaN</td>\n",
       "      <td>NaN</td>\n",
       "      <td>NaN</td>\n",
       "    </tr>\n",
       "    <tr>\n",
       "      <th>12</th>\n",
       "      <td>10031</td>\n",
       "      <td>1983-12-31</td>\n",
       "      <td>1985.0</td>\n",
       "      <td>6.095</td>\n",
       "      <td>NaN</td>\n",
       "      <td>NaN</td>\n",
       "      <td>NaN</td>\n",
       "      <td>0.063495</td>\n",
       "    </tr>\n",
       "    <tr>\n",
       "      <th>13</th>\n",
       "      <td>10031</td>\n",
       "      <td>1984-12-31</td>\n",
       "      <td>1986.0</td>\n",
       "      <td>6.482</td>\n",
       "      <td>6.095</td>\n",
       "      <td>0.387</td>\n",
       "      <td>0.063495</td>\n",
       "      <td>0.028232</td>\n",
       "    </tr>\n",
       "    <tr>\n",
       "      <th>14</th>\n",
       "      <td>10031</td>\n",
       "      <td>1986-01-31</td>\n",
       "      <td>1987.0</td>\n",
       "      <td>6.665</td>\n",
       "      <td>6.482</td>\n",
       "      <td>0.183</td>\n",
       "      <td>0.028232</td>\n",
       "      <td>0.118980</td>\n",
       "    </tr>\n",
       "    <tr>\n",
       "      <th>15</th>\n",
       "      <td>10031</td>\n",
       "      <td>1987-01-31</td>\n",
       "      <td>1988.0</td>\n",
       "      <td>7.458</td>\n",
       "      <td>6.665</td>\n",
       "      <td>0.793</td>\n",
       "      <td>0.118980</td>\n",
       "      <td>0.024806</td>\n",
       "    </tr>\n",
       "    <tr>\n",
       "      <th>16</th>\n",
       "      <td>10031</td>\n",
       "      <td>1988-01-31</td>\n",
       "      <td>1989.0</td>\n",
       "      <td>7.643</td>\n",
       "      <td>7.458</td>\n",
       "      <td>0.185</td>\n",
       "      <td>0.024806</td>\n",
       "      <td>-1.025383</td>\n",
       "    </tr>\n",
       "    <tr>\n",
       "      <th>17</th>\n",
       "      <td>10031</td>\n",
       "      <td>1989-01-31</td>\n",
       "      <td>1990.0</td>\n",
       "      <td>-0.194</td>\n",
       "      <td>7.643</td>\n",
       "      <td>-7.837</td>\n",
       "      <td>-1.025383</td>\n",
       "      <td>NaN</td>\n",
       "    </tr>\n",
       "    <tr>\n",
       "      <th>18</th>\n",
       "      <td>54594</td>\n",
       "      <td>1972-05-31</td>\n",
       "      <td>1973.0</td>\n",
       "      <td>7.125</td>\n",
       "      <td>NaN</td>\n",
       "      <td>NaN</td>\n",
       "      <td>NaN</td>\n",
       "      <td>0.825263</td>\n",
       "    </tr>\n",
       "    <tr>\n",
       "      <th>19</th>\n",
       "      <td>54594</td>\n",
       "      <td>1973-05-31</td>\n",
       "      <td>1974.0</td>\n",
       "      <td>13.005</td>\n",
       "      <td>7.125</td>\n",
       "      <td>5.880</td>\n",
       "      <td>0.825263</td>\n",
       "      <td>0.125029</td>\n",
       "    </tr>\n",
       "    <tr>\n",
       "      <th>20</th>\n",
       "      <td>54594</td>\n",
       "      <td>1974-05-31</td>\n",
       "      <td>1975.0</td>\n",
       "      <td>14.631</td>\n",
       "      <td>13.005</td>\n",
       "      <td>1.626</td>\n",
       "      <td>0.125029</td>\n",
       "      <td>-0.014011</td>\n",
       "    </tr>\n",
       "    <tr>\n",
       "      <th>21</th>\n",
       "      <td>54594</td>\n",
       "      <td>1975-05-31</td>\n",
       "      <td>1976.0</td>\n",
       "      <td>14.426</td>\n",
       "      <td>14.631</td>\n",
       "      <td>-0.205</td>\n",
       "      <td>-0.014011</td>\n",
       "      <td>0.108207</td>\n",
       "    </tr>\n",
       "    <tr>\n",
       "      <th>22</th>\n",
       "      <td>54594</td>\n",
       "      <td>1976-05-31</td>\n",
       "      <td>1977.0</td>\n",
       "      <td>15.987</td>\n",
       "      <td>14.426</td>\n",
       "      <td>1.561</td>\n",
       "      <td>0.108207</td>\n",
       "      <td>0.105085</td>\n",
       "    </tr>\n",
       "    <tr>\n",
       "      <th>23</th>\n",
       "      <td>54594</td>\n",
       "      <td>1977-05-31</td>\n",
       "      <td>1978.0</td>\n",
       "      <td>17.667</td>\n",
       "      <td>15.987</td>\n",
       "      <td>1.680</td>\n",
       "      <td>0.105085</td>\n",
       "      <td>0.096451</td>\n",
       "    </tr>\n",
       "    <tr>\n",
       "      <th>24</th>\n",
       "      <td>54594</td>\n",
       "      <td>1978-05-31</td>\n",
       "      <td>1979.0</td>\n",
       "      <td>19.371</td>\n",
       "      <td>17.667</td>\n",
       "      <td>1.704</td>\n",
       "      <td>0.096451</td>\n",
       "      <td>0.127200</td>\n",
       "    </tr>\n",
       "    <tr>\n",
       "      <th>25</th>\n",
       "      <td>54594</td>\n",
       "      <td>1979-05-31</td>\n",
       "      <td>1980.0</td>\n",
       "      <td>21.835</td>\n",
       "      <td>19.371</td>\n",
       "      <td>2.464</td>\n",
       "      <td>0.127200</td>\n",
       "      <td>0.212274</td>\n",
       "    </tr>\n",
       "    <tr>\n",
       "      <th>26</th>\n",
       "      <td>54594</td>\n",
       "      <td>1980-05-31</td>\n",
       "      <td>1981.0</td>\n",
       "      <td>26.470</td>\n",
       "      <td>21.835</td>\n",
       "      <td>4.635</td>\n",
       "      <td>0.212274</td>\n",
       "      <td>0.150170</td>\n",
       "    </tr>\n",
       "    <tr>\n",
       "      <th>27</th>\n",
       "      <td>54594</td>\n",
       "      <td>1981-05-31</td>\n",
       "      <td>1982.0</td>\n",
       "      <td>30.445</td>\n",
       "      <td>26.470</td>\n",
       "      <td>3.975</td>\n",
       "      <td>0.150170</td>\n",
       "      <td>0.551092</td>\n",
       "    </tr>\n",
       "    <tr>\n",
       "      <th>28</th>\n",
       "      <td>54594</td>\n",
       "      <td>1982-05-31</td>\n",
       "      <td>1983.0</td>\n",
       "      <td>47.223</td>\n",
       "      <td>30.445</td>\n",
       "      <td>16.778</td>\n",
       "      <td>0.551092</td>\n",
       "      <td>0.038159</td>\n",
       "    </tr>\n",
       "    <tr>\n",
       "      <th>29</th>\n",
       "      <td>54594</td>\n",
       "      <td>1983-05-31</td>\n",
       "      <td>1984.0</td>\n",
       "      <td>49.025</td>\n",
       "      <td>47.223</td>\n",
       "      <td>1.802</td>\n",
       "      <td>0.038159</td>\n",
       "      <td>0.784498</td>\n",
       "    </tr>\n",
       "    <tr>\n",
       "      <th>30</th>\n",
       "      <td>54594</td>\n",
       "      <td>1984-05-31</td>\n",
       "      <td>1985.0</td>\n",
       "      <td>87.485</td>\n",
       "      <td>49.025</td>\n",
       "      <td>38.460</td>\n",
       "      <td>0.784498</td>\n",
       "      <td>0.068583</td>\n",
       "    </tr>\n",
       "    <tr>\n",
       "      <th>31</th>\n",
       "      <td>54594</td>\n",
       "      <td>1985-05-31</td>\n",
       "      <td>1986.0</td>\n",
       "      <td>93.485</td>\n",
       "      <td>87.485</td>\n",
       "      <td>6.000</td>\n",
       "      <td>0.068583</td>\n",
       "      <td>0.103717</td>\n",
       "    </tr>\n",
       "    <tr>\n",
       "      <th>32</th>\n",
       "      <td>54594</td>\n",
       "      <td>1986-05-31</td>\n",
       "      <td>1987.0</td>\n",
       "      <td>103.181</td>\n",
       "      <td>93.485</td>\n",
       "      <td>9.696</td>\n",
       "      <td>0.103717</td>\n",
       "      <td>0.369535</td>\n",
       "    </tr>\n",
       "    <tr>\n",
       "      <th>33</th>\n",
       "      <td>54594</td>\n",
       "      <td>1987-05-31</td>\n",
       "      <td>1988.0</td>\n",
       "      <td>141.310</td>\n",
       "      <td>103.181</td>\n",
       "      <td>38.129</td>\n",
       "      <td>0.369535</td>\n",
       "      <td>0.121626</td>\n",
       "    </tr>\n",
       "    <tr>\n",
       "      <th>34</th>\n",
       "      <td>54594</td>\n",
       "      <td>1988-05-31</td>\n",
       "      <td>1989.0</td>\n",
       "      <td>158.497</td>\n",
       "      <td>141.310</td>\n",
       "      <td>17.187</td>\n",
       "      <td>0.121626</td>\n",
       "      <td>0.278131</td>\n",
       "    </tr>\n",
       "    <tr>\n",
       "      <th>35</th>\n",
       "      <td>54594</td>\n",
       "      <td>1989-05-31</td>\n",
       "      <td>1990.0</td>\n",
       "      <td>202.580</td>\n",
       "      <td>158.497</td>\n",
       "      <td>44.083</td>\n",
       "      <td>0.278131</td>\n",
       "      <td>0.113377</td>\n",
       "    </tr>\n",
       "    <tr>\n",
       "      <th>36</th>\n",
       "      <td>54594</td>\n",
       "      <td>1990-05-31</td>\n",
       "      <td>1991.0</td>\n",
       "      <td>225.548</td>\n",
       "      <td>202.580</td>\n",
       "      <td>22.968</td>\n",
       "      <td>0.113377</td>\n",
       "      <td>0.027622</td>\n",
       "    </tr>\n",
       "    <tr>\n",
       "      <th>37</th>\n",
       "      <td>54594</td>\n",
       "      <td>1991-05-31</td>\n",
       "      <td>1992.0</td>\n",
       "      <td>231.778</td>\n",
       "      <td>225.548</td>\n",
       "      <td>6.230</td>\n",
       "      <td>0.027622</td>\n",
       "      <td>0.017081</td>\n",
       "    </tr>\n",
       "    <tr>\n",
       "      <th>38</th>\n",
       "      <td>54594</td>\n",
       "      <td>1992-05-31</td>\n",
       "      <td>1993.0</td>\n",
       "      <td>235.737</td>\n",
       "      <td>231.778</td>\n",
       "      <td>3.959</td>\n",
       "      <td>0.017081</td>\n",
       "      <td>-0.036146</td>\n",
       "    </tr>\n",
       "    <tr>\n",
       "      <th>39</th>\n",
       "      <td>54594</td>\n",
       "      <td>1993-05-31</td>\n",
       "      <td>1994.0</td>\n",
       "      <td>227.216</td>\n",
       "      <td>235.737</td>\n",
       "      <td>-8.521</td>\n",
       "      <td>-0.036146</td>\n",
       "      <td>0.005598</td>\n",
       "    </tr>\n",
       "    <tr>\n",
       "      <th>40</th>\n",
       "      <td>54594</td>\n",
       "      <td>1994-05-31</td>\n",
       "      <td>1995.0</td>\n",
       "      <td>228.488</td>\n",
       "      <td>227.216</td>\n",
       "      <td>1.272</td>\n",
       "      <td>0.005598</td>\n",
       "      <td>-0.003103</td>\n",
       "    </tr>\n",
       "    <tr>\n",
       "      <th>41</th>\n",
       "      <td>54594</td>\n",
       "      <td>1995-05-31</td>\n",
       "      <td>1996.0</td>\n",
       "      <td>227.779</td>\n",
       "      <td>228.488</td>\n",
       "      <td>-0.709</td>\n",
       "      <td>-0.003103</td>\n",
       "      <td>0.033085</td>\n",
       "    </tr>\n",
       "    <tr>\n",
       "      <th>42</th>\n",
       "      <td>54594</td>\n",
       "      <td>1996-05-31</td>\n",
       "      <td>1997.0</td>\n",
       "      <td>235.315</td>\n",
       "      <td>227.779</td>\n",
       "      <td>7.536</td>\n",
       "      <td>0.033085</td>\n",
       "      <td>0.282617</td>\n",
       "    </tr>\n",
       "    <tr>\n",
       "      <th>43</th>\n",
       "      <td>54594</td>\n",
       "      <td>1997-05-31</td>\n",
       "      <td>1998.0</td>\n",
       "      <td>301.819</td>\n",
       "      <td>235.315</td>\n",
       "      <td>66.504</td>\n",
       "      <td>0.282617</td>\n",
       "      <td>0.118883</td>\n",
       "    </tr>\n",
       "    <tr>\n",
       "      <th>44</th>\n",
       "      <td>54594</td>\n",
       "      <td>1998-05-31</td>\n",
       "      <td>1999.0</td>\n",
       "      <td>337.700</td>\n",
       "      <td>301.819</td>\n",
       "      <td>35.881</td>\n",
       "      <td>0.118883</td>\n",
       "      <td>0.098327</td>\n",
       "    </tr>\n",
       "    <tr>\n",
       "      <th>45</th>\n",
       "      <td>54594</td>\n",
       "      <td>1999-05-31</td>\n",
       "      <td>2000.0</td>\n",
       "      <td>370.905</td>\n",
       "      <td>337.700</td>\n",
       "      <td>33.205</td>\n",
       "      <td>0.098327</td>\n",
       "      <td>0.066405</td>\n",
       "    </tr>\n",
       "    <tr>\n",
       "      <th>46</th>\n",
       "      <td>54594</td>\n",
       "      <td>2000-05-31</td>\n",
       "      <td>2001.0</td>\n",
       "      <td>395.535</td>\n",
       "      <td>370.905</td>\n",
       "      <td>24.630</td>\n",
       "      <td>0.066405</td>\n",
       "      <td>-0.000657</td>\n",
       "    </tr>\n",
       "    <tr>\n",
       "      <th>47</th>\n",
       "      <td>54594</td>\n",
       "      <td>2001-05-31</td>\n",
       "      <td>2002.0</td>\n",
       "      <td>395.275</td>\n",
       "      <td>395.535</td>\n",
       "      <td>-0.260</td>\n",
       "      <td>-0.000657</td>\n",
       "      <td>-0.137724</td>\n",
       "    </tr>\n",
       "    <tr>\n",
       "      <th>48</th>\n",
       "      <td>54594</td>\n",
       "      <td>2002-05-31</td>\n",
       "      <td>2003.0</td>\n",
       "      <td>340.836</td>\n",
       "      <td>395.275</td>\n",
       "      <td>-54.439</td>\n",
       "      <td>-0.137724</td>\n",
       "      <td>-0.068206</td>\n",
       "    </tr>\n",
       "    <tr>\n",
       "      <th>49</th>\n",
       "      <td>54594</td>\n",
       "      <td>2003-05-31</td>\n",
       "      <td>2004.0</td>\n",
       "      <td>317.589</td>\n",
       "      <td>340.836</td>\n",
       "      <td>-23.247</td>\n",
       "      <td>-0.068206</td>\n",
       "      <td>0.005425</td>\n",
       "    </tr>\n",
       "  </tbody>\n",
       "</table>\n",
       "</div>"
      ],
      "text/plain": [
       "    PERMNO       date      HP       BE    L1_BE   D1_BE  BE_Growth  \\\n",
       "0    25881 1970-12-31  1971.0   10.544      NaN     NaN        NaN   \n",
       "1    25881 1971-12-31  1972.0    8.382   10.544  -2.162  -0.205046   \n",
       "2    25881 1972-12-31  1973.0    7.309    8.382  -1.073  -0.128012   \n",
       "3    25881 1973-12-31  1974.0    8.798    7.309   1.489   0.203721   \n",
       "4    25881 1974-12-31  1975.0    8.279    8.798  -0.519  -0.058991   \n",
       "5    25881 1975-12-31  1976.0   11.020    8.279   2.741   0.331079   \n",
       "6    25881 1976-12-31  1977.0   15.527   11.020   4.507   0.408984   \n",
       "7    25881 1977-12-31  1978.0   17.673   15.527   2.146   0.138211   \n",
       "8    10015 1983-12-31  1984.0    7.823      NaN     NaN        NaN   \n",
       "9    10015 1984-12-31  1985.0    9.319    7.823   1.496   0.191231   \n",
       "10   10015 1985-12-31  1986.0   13.665    9.319   4.346   0.466359   \n",
       "11   10023 1972-12-31  1973.0    8.591      NaN     NaN        NaN   \n",
       "12   10031 1983-12-31  1985.0    6.095      NaN     NaN        NaN   \n",
       "13   10031 1984-12-31  1986.0    6.482    6.095   0.387   0.063495   \n",
       "14   10031 1986-01-31  1987.0    6.665    6.482   0.183   0.028232   \n",
       "15   10031 1987-01-31  1988.0    7.458    6.665   0.793   0.118980   \n",
       "16   10031 1988-01-31  1989.0    7.643    7.458   0.185   0.024806   \n",
       "17   10031 1989-01-31  1990.0   -0.194    7.643  -7.837  -1.025383   \n",
       "18   54594 1972-05-31  1973.0    7.125      NaN     NaN        NaN   \n",
       "19   54594 1973-05-31  1974.0   13.005    7.125   5.880   0.825263   \n",
       "20   54594 1974-05-31  1975.0   14.631   13.005   1.626   0.125029   \n",
       "21   54594 1975-05-31  1976.0   14.426   14.631  -0.205  -0.014011   \n",
       "22   54594 1976-05-31  1977.0   15.987   14.426   1.561   0.108207   \n",
       "23   54594 1977-05-31  1978.0   17.667   15.987   1.680   0.105085   \n",
       "24   54594 1978-05-31  1979.0   19.371   17.667   1.704   0.096451   \n",
       "25   54594 1979-05-31  1980.0   21.835   19.371   2.464   0.127200   \n",
       "26   54594 1980-05-31  1981.0   26.470   21.835   4.635   0.212274   \n",
       "27   54594 1981-05-31  1982.0   30.445   26.470   3.975   0.150170   \n",
       "28   54594 1982-05-31  1983.0   47.223   30.445  16.778   0.551092   \n",
       "29   54594 1983-05-31  1984.0   49.025   47.223   1.802   0.038159   \n",
       "30   54594 1984-05-31  1985.0   87.485   49.025  38.460   0.784498   \n",
       "31   54594 1985-05-31  1986.0   93.485   87.485   6.000   0.068583   \n",
       "32   54594 1986-05-31  1987.0  103.181   93.485   9.696   0.103717   \n",
       "33   54594 1987-05-31  1988.0  141.310  103.181  38.129   0.369535   \n",
       "34   54594 1988-05-31  1989.0  158.497  141.310  17.187   0.121626   \n",
       "35   54594 1989-05-31  1990.0  202.580  158.497  44.083   0.278131   \n",
       "36   54594 1990-05-31  1991.0  225.548  202.580  22.968   0.113377   \n",
       "37   54594 1991-05-31  1992.0  231.778  225.548   6.230   0.027622   \n",
       "38   54594 1992-05-31  1993.0  235.737  231.778   3.959   0.017081   \n",
       "39   54594 1993-05-31  1994.0  227.216  235.737  -8.521  -0.036146   \n",
       "40   54594 1994-05-31  1995.0  228.488  227.216   1.272   0.005598   \n",
       "41   54594 1995-05-31  1996.0  227.779  228.488  -0.709  -0.003103   \n",
       "42   54594 1996-05-31  1997.0  235.315  227.779   7.536   0.033085   \n",
       "43   54594 1997-05-31  1998.0  301.819  235.315  66.504   0.282617   \n",
       "44   54594 1998-05-31  1999.0  337.700  301.819  35.881   0.118883   \n",
       "45   54594 1999-05-31  2000.0  370.905  337.700  33.205   0.098327   \n",
       "46   54594 2000-05-31  2001.0  395.535  370.905  24.630   0.066405   \n",
       "47   54594 2001-05-31  2002.0  395.275  395.535  -0.260  -0.000657   \n",
       "48   54594 2002-05-31  2003.0  340.836  395.275 -54.439  -0.137724   \n",
       "49   54594 2003-05-31  2004.0  317.589  340.836 -23.247  -0.068206   \n",
       "\n",
       "    BE_Growth_Future  \n",
       "0          -0.205046  \n",
       "1          -0.128012  \n",
       "2           0.203721  \n",
       "3          -0.058991  \n",
       "4           0.331079  \n",
       "5           0.408984  \n",
       "6           0.138211  \n",
       "7                NaN  \n",
       "8           0.191231  \n",
       "9           0.466359  \n",
       "10               NaN  \n",
       "11               NaN  \n",
       "12          0.063495  \n",
       "13          0.028232  \n",
       "14          0.118980  \n",
       "15          0.024806  \n",
       "16         -1.025383  \n",
       "17               NaN  \n",
       "18          0.825263  \n",
       "19          0.125029  \n",
       "20         -0.014011  \n",
       "21          0.108207  \n",
       "22          0.105085  \n",
       "23          0.096451  \n",
       "24          0.127200  \n",
       "25          0.212274  \n",
       "26          0.150170  \n",
       "27          0.551092  \n",
       "28          0.038159  \n",
       "29          0.784498  \n",
       "30          0.068583  \n",
       "31          0.103717  \n",
       "32          0.369535  \n",
       "33          0.121626  \n",
       "34          0.278131  \n",
       "35          0.113377  \n",
       "36          0.027622  \n",
       "37          0.017081  \n",
       "38         -0.036146  \n",
       "39          0.005598  \n",
       "40         -0.003103  \n",
       "41          0.033085  \n",
       "42          0.282617  \n",
       "43          0.118883  \n",
       "44          0.098327  \n",
       "45          0.066405  \n",
       "46         -0.000657  \n",
       "47         -0.137724  \n",
       "48         -0.068206  \n",
       "49          0.005425  "
      ]
     },
     "execution_count": 93,
     "metadata": {},
     "output_type": "execute_result"
    }
   ],
   "source": [
    "comp[[\"PERMNO\", \"date\", \"HP\", \"BE\", \"L1_BE\", \"D1_BE\", \"BE_Growth\", \"BE_Growth_Future\"]].head(n=50)"
   ]
  },
  {
   "cell_type": "markdown",
   "metadata": {},
   "source": [
    "## \"Classic\" Operating Profit of Fama and French (2006)"
   ]
  },
  {
   "cell_type": "markdown",
   "metadata": {},
   "source": [
    "Includes RnD expenses"
   ]
  },
  {
   "cell_type": "code",
   "execution_count": 94,
   "metadata": {},
   "outputs": [],
   "source": [
    "comp[\"OP06\"] = (comp.revt - comp.cogs.fillna(0) - comp.xsga.fillna(0) - comp.xint.fillna(0)) / comp.BE"
   ]
  },
  {
   "cell_type": "code",
   "execution_count": 95,
   "metadata": {},
   "outputs": [],
   "source": [
    "comp[\"OP06OK\"] = ((~comp.cogs.isna()) | (~comp.xsga.isna()) | (~comp.xint.isna())) & (comp.BE>0)"
   ]
  },
  {
   "cell_type": "code",
   "execution_count": 96,
   "metadata": {},
   "outputs": [
    {
     "data": {
      "text/plain": [
       "0.10644619961306159"
      ]
     },
     "execution_count": 96,
     "metadata": {},
     "output_type": "execute_result"
    }
   ],
   "source": [
    "(~comp.OP06OK).sum() / comp.PERMNO.count()"
   ]
  },
  {
   "cell_type": "markdown",
   "metadata": {},
   "source": [
    "## Operating Profit of Fama and French *Dissecting Anomalies...* (2016)"
   ]
  },
  {
   "cell_type": "code",
   "execution_count": 97,
   "metadata": {},
   "outputs": [],
   "source": [
    "comp[\"OP16\"] = (comp.revt - comp.cogs.fillna(0) - comp.xsga.fillna(0) + comp.xrd.fillna(0) - comp.xint.fillna(0)) / comp.BE"
   ]
  },
  {
   "cell_type": "markdown",
   "metadata": {},
   "source": [
    "## Accruals of Ball, et al. *Accruals...* (2016)"
   ]
  },
  {
   "cell_type": "markdown",
   "metadata": {},
   "source": [
    "Think we are missing a variable here."
   ]
  },
  {
   "cell_type": "code",
   "execution_count": 98,
   "metadata": {},
   "outputs": [],
   "source": [
    "comp[\"D1_rect\"] = (comp.rect - comp.groupby(\"PERMNO\")[\"rect\"].shift(1)).fillna(0)\n",
    "comp[\"D1_invt\"] = (comp.invt - comp.groupby(\"PERMNO\")[\"invt\"].shift(1)).fillna(0)\n",
    "comp[\"D1_xpp\"] = (comp.xpp - comp.groupby(\"PERMNO\")[\"xpp\"].shift(1)).fillna(0)\n",
    "comp[\"D1_drc\"] = (comp.drc - comp.groupby(\"PERMNO\")[\"drc\"].shift(1)).fillna(0)\n",
    "comp[\"D1_ap\"] = (comp.ap - comp.groupby(\"PERMNO\")[\"ap\"].shift(1)).fillna(0)\n",
    "comp[\"D1_xacc\"] = (comp.xacc - comp.groupby(\"PERMNO\")[\"xacc\"].shift(1)).fillna(0)"
   ]
  },
  {
   "cell_type": "code",
   "execution_count": 99,
   "metadata": {
    "scrolled": true
   },
   "outputs": [
    {
     "data": {
      "text/html": [
       "<div>\n",
       "<style scoped>\n",
       "    .dataframe tbody tr th:only-of-type {\n",
       "        vertical-align: middle;\n",
       "    }\n",
       "\n",
       "    .dataframe tbody tr th {\n",
       "        vertical-align: top;\n",
       "    }\n",
       "\n",
       "    .dataframe thead th {\n",
       "        text-align: right;\n",
       "    }\n",
       "</style>\n",
       "<table border=\"1\" class=\"dataframe\">\n",
       "  <thead>\n",
       "    <tr style=\"text-align: right;\">\n",
       "      <th></th>\n",
       "      <th>PERMNO</th>\n",
       "      <th>HP</th>\n",
       "      <th>rect</th>\n",
       "      <th>D1_rect</th>\n",
       "      <th>invt</th>\n",
       "      <th>D1_invt</th>\n",
       "    </tr>\n",
       "  </thead>\n",
       "  <tbody>\n",
       "    <tr>\n",
       "      <th>0</th>\n",
       "      <td>25881</td>\n",
       "      <td>1971.0</td>\n",
       "      <td>8.913</td>\n",
       "      <td>0.000</td>\n",
       "      <td>10.199</td>\n",
       "      <td>0.000</td>\n",
       "    </tr>\n",
       "    <tr>\n",
       "      <th>1</th>\n",
       "      <td>25881</td>\n",
       "      <td>1972.0</td>\n",
       "      <td>8.398</td>\n",
       "      <td>-0.515</td>\n",
       "      <td>8.187</td>\n",
       "      <td>-2.012</td>\n",
       "    </tr>\n",
       "    <tr>\n",
       "      <th>2</th>\n",
       "      <td>25881</td>\n",
       "      <td>1973.0</td>\n",
       "      <td>4.186</td>\n",
       "      <td>-4.212</td>\n",
       "      <td>4.743</td>\n",
       "      <td>-3.444</td>\n",
       "    </tr>\n",
       "    <tr>\n",
       "      <th>3</th>\n",
       "      <td>25881</td>\n",
       "      <td>1974.0</td>\n",
       "      <td>5.604</td>\n",
       "      <td>1.418</td>\n",
       "      <td>5.683</td>\n",
       "      <td>0.940</td>\n",
       "    </tr>\n",
       "    <tr>\n",
       "      <th>4</th>\n",
       "      <td>25881</td>\n",
       "      <td>1975.0</td>\n",
       "      <td>10.474</td>\n",
       "      <td>4.870</td>\n",
       "      <td>7.177</td>\n",
       "      <td>1.494</td>\n",
       "    </tr>\n",
       "    <tr>\n",
       "      <th>5</th>\n",
       "      <td>25881</td>\n",
       "      <td>1976.0</td>\n",
       "      <td>8.193</td>\n",
       "      <td>-2.281</td>\n",
       "      <td>6.227</td>\n",
       "      <td>-0.950</td>\n",
       "    </tr>\n",
       "    <tr>\n",
       "      <th>6</th>\n",
       "      <td>25881</td>\n",
       "      <td>1977.0</td>\n",
       "      <td>9.207</td>\n",
       "      <td>1.014</td>\n",
       "      <td>9.919</td>\n",
       "      <td>3.692</td>\n",
       "    </tr>\n",
       "    <tr>\n",
       "      <th>7</th>\n",
       "      <td>25881</td>\n",
       "      <td>1978.0</td>\n",
       "      <td>12.434</td>\n",
       "      <td>3.227</td>\n",
       "      <td>9.129</td>\n",
       "      <td>-0.790</td>\n",
       "    </tr>\n",
       "    <tr>\n",
       "      <th>8</th>\n",
       "      <td>10015</td>\n",
       "      <td>1984.0</td>\n",
       "      <td>0.082</td>\n",
       "      <td>0.000</td>\n",
       "      <td>0.323</td>\n",
       "      <td>0.000</td>\n",
       "    </tr>\n",
       "    <tr>\n",
       "      <th>9</th>\n",
       "      <td>10015</td>\n",
       "      <td>1985.0</td>\n",
       "      <td>0.056</td>\n",
       "      <td>-0.026</td>\n",
       "      <td>0.502</td>\n",
       "      <td>0.179</td>\n",
       "    </tr>\n",
       "    <tr>\n",
       "      <th>10</th>\n",
       "      <td>10015</td>\n",
       "      <td>1986.0</td>\n",
       "      <td>0.029</td>\n",
       "      <td>-0.027</td>\n",
       "      <td>0.739</td>\n",
       "      <td>0.237</td>\n",
       "    </tr>\n",
       "    <tr>\n",
       "      <th>11</th>\n",
       "      <td>10023</td>\n",
       "      <td>1973.0</td>\n",
       "      <td>3.983</td>\n",
       "      <td>0.000</td>\n",
       "      <td>8.393</td>\n",
       "      <td>0.000</td>\n",
       "    </tr>\n",
       "    <tr>\n",
       "      <th>12</th>\n",
       "      <td>10031</td>\n",
       "      <td>1985.0</td>\n",
       "      <td>0.690</td>\n",
       "      <td>0.000</td>\n",
       "      <td>5.408</td>\n",
       "      <td>0.000</td>\n",
       "    </tr>\n",
       "    <tr>\n",
       "      <th>13</th>\n",
       "      <td>10031</td>\n",
       "      <td>1986.0</td>\n",
       "      <td>1.190</td>\n",
       "      <td>0.500</td>\n",
       "      <td>5.661</td>\n",
       "      <td>0.253</td>\n",
       "    </tr>\n",
       "    <tr>\n",
       "      <th>14</th>\n",
       "      <td>10031</td>\n",
       "      <td>1987.0</td>\n",
       "      <td>1.110</td>\n",
       "      <td>-0.080</td>\n",
       "      <td>11.071</td>\n",
       "      <td>5.410</td>\n",
       "    </tr>\n",
       "    <tr>\n",
       "      <th>15</th>\n",
       "      <td>10031</td>\n",
       "      <td>1988.0</td>\n",
       "      <td>0.772</td>\n",
       "      <td>-0.338</td>\n",
       "      <td>11.563</td>\n",
       "      <td>0.492</td>\n",
       "    </tr>\n",
       "    <tr>\n",
       "      <th>16</th>\n",
       "      <td>10031</td>\n",
       "      <td>1989.0</td>\n",
       "      <td>1.266</td>\n",
       "      <td>0.494</td>\n",
       "      <td>11.922</td>\n",
       "      <td>0.359</td>\n",
       "    </tr>\n",
       "    <tr>\n",
       "      <th>17</th>\n",
       "      <td>10031</td>\n",
       "      <td>1990.0</td>\n",
       "      <td>2.148</td>\n",
       "      <td>0.882</td>\n",
       "      <td>11.680</td>\n",
       "      <td>-0.242</td>\n",
       "    </tr>\n",
       "    <tr>\n",
       "      <th>18</th>\n",
       "      <td>54594</td>\n",
       "      <td>1973.0</td>\n",
       "      <td>4.894</td>\n",
       "      <td>0.000</td>\n",
       "      <td>6.459</td>\n",
       "      <td>0.000</td>\n",
       "    </tr>\n",
       "    <tr>\n",
       "      <th>19</th>\n",
       "      <td>54594</td>\n",
       "      <td>1974.0</td>\n",
       "      <td>6.117</td>\n",
       "      <td>1.223</td>\n",
       "      <td>9.788</td>\n",
       "      <td>3.329</td>\n",
       "    </tr>\n",
       "    <tr>\n",
       "      <th>20</th>\n",
       "      <td>54594</td>\n",
       "      <td>1975.0</td>\n",
       "      <td>8.549</td>\n",
       "      <td>2.432</td>\n",
       "      <td>12.520</td>\n",
       "      <td>2.732</td>\n",
       "    </tr>\n",
       "    <tr>\n",
       "      <th>21</th>\n",
       "      <td>54594</td>\n",
       "      <td>1976.0</td>\n",
       "      <td>10.474</td>\n",
       "      <td>1.925</td>\n",
       "      <td>21.241</td>\n",
       "      <td>8.721</td>\n",
       "    </tr>\n",
       "    <tr>\n",
       "      <th>22</th>\n",
       "      <td>54594</td>\n",
       "      <td>1977.0</td>\n",
       "      <td>10.746</td>\n",
       "      <td>0.272</td>\n",
       "      <td>22.578</td>\n",
       "      <td>1.337</td>\n",
       "    </tr>\n",
       "    <tr>\n",
       "      <th>23</th>\n",
       "      <td>54594</td>\n",
       "      <td>1978.0</td>\n",
       "      <td>10.556</td>\n",
       "      <td>-0.190</td>\n",
       "      <td>23.912</td>\n",
       "      <td>1.334</td>\n",
       "    </tr>\n",
       "    <tr>\n",
       "      <th>24</th>\n",
       "      <td>54594</td>\n",
       "      <td>1979.0</td>\n",
       "      <td>15.282</td>\n",
       "      <td>4.726</td>\n",
       "      <td>27.141</td>\n",
       "      <td>3.229</td>\n",
       "    </tr>\n",
       "    <tr>\n",
       "      <th>25</th>\n",
       "      <td>54594</td>\n",
       "      <td>1980.0</td>\n",
       "      <td>15.539</td>\n",
       "      <td>0.257</td>\n",
       "      <td>31.334</td>\n",
       "      <td>4.193</td>\n",
       "    </tr>\n",
       "    <tr>\n",
       "      <th>26</th>\n",
       "      <td>54594</td>\n",
       "      <td>1981.0</td>\n",
       "      <td>19.008</td>\n",
       "      <td>3.469</td>\n",
       "      <td>29.386</td>\n",
       "      <td>-1.948</td>\n",
       "    </tr>\n",
       "    <tr>\n",
       "      <th>27</th>\n",
       "      <td>54594</td>\n",
       "      <td>1982.0</td>\n",
       "      <td>17.202</td>\n",
       "      <td>-1.806</td>\n",
       "      <td>37.813</td>\n",
       "      <td>8.427</td>\n",
       "    </tr>\n",
       "    <tr>\n",
       "      <th>28</th>\n",
       "      <td>54594</td>\n",
       "      <td>1983.0</td>\n",
       "      <td>28.679</td>\n",
       "      <td>11.477</td>\n",
       "      <td>40.093</td>\n",
       "      <td>2.280</td>\n",
       "    </tr>\n",
       "    <tr>\n",
       "      <th>29</th>\n",
       "      <td>54594</td>\n",
       "      <td>1984.0</td>\n",
       "      <td>28.965</td>\n",
       "      <td>0.286</td>\n",
       "      <td>32.080</td>\n",
       "      <td>-8.013</td>\n",
       "    </tr>\n",
       "    <tr>\n",
       "      <th>30</th>\n",
       "      <td>54594</td>\n",
       "      <td>1985.0</td>\n",
       "      <td>35.201</td>\n",
       "      <td>6.236</td>\n",
       "      <td>41.764</td>\n",
       "      <td>9.684</td>\n",
       "    </tr>\n",
       "    <tr>\n",
       "      <th>31</th>\n",
       "      <td>54594</td>\n",
       "      <td>1986.0</td>\n",
       "      <td>42.945</td>\n",
       "      <td>7.744</td>\n",
       "      <td>48.532</td>\n",
       "      <td>6.768</td>\n",
       "    </tr>\n",
       "    <tr>\n",
       "      <th>32</th>\n",
       "      <td>54594</td>\n",
       "      <td>1987.0</td>\n",
       "      <td>55.345</td>\n",
       "      <td>12.400</td>\n",
       "      <td>74.606</td>\n",
       "      <td>26.074</td>\n",
       "    </tr>\n",
       "    <tr>\n",
       "      <th>33</th>\n",
       "      <td>54594</td>\n",
       "      <td>1988.0</td>\n",
       "      <td>66.730</td>\n",
       "      <td>11.385</td>\n",
       "      <td>88.920</td>\n",
       "      <td>14.314</td>\n",
       "    </tr>\n",
       "    <tr>\n",
       "      <th>34</th>\n",
       "      <td>54594</td>\n",
       "      <td>1989.0</td>\n",
       "      <td>67.161</td>\n",
       "      <td>0.431</td>\n",
       "      <td>122.586</td>\n",
       "      <td>33.666</td>\n",
       "    </tr>\n",
       "    <tr>\n",
       "      <th>35</th>\n",
       "      <td>54594</td>\n",
       "      <td>1990.0</td>\n",
       "      <td>95.218</td>\n",
       "      <td>28.057</td>\n",
       "      <td>140.313</td>\n",
       "      <td>17.727</td>\n",
       "    </tr>\n",
       "    <tr>\n",
       "      <th>36</th>\n",
       "      <td>54594</td>\n",
       "      <td>1991.0</td>\n",
       "      <td>93.581</td>\n",
       "      <td>-1.637</td>\n",
       "      <td>162.149</td>\n",
       "      <td>21.836</td>\n",
       "    </tr>\n",
       "    <tr>\n",
       "      <th>37</th>\n",
       "      <td>54594</td>\n",
       "      <td>1992.0</td>\n",
       "      <td>91.238</td>\n",
       "      <td>-2.343</td>\n",
       "      <td>156.133</td>\n",
       "      <td>-6.016</td>\n",
       "    </tr>\n",
       "    <tr>\n",
       "      <th>38</th>\n",
       "      <td>54594</td>\n",
       "      <td>1993.0</td>\n",
       "      <td>89.781</td>\n",
       "      <td>-1.457</td>\n",
       "      <td>173.379</td>\n",
       "      <td>17.246</td>\n",
       "    </tr>\n",
       "    <tr>\n",
       "      <th>39</th>\n",
       "      <td>54594</td>\n",
       "      <td>1994.0</td>\n",
       "      <td>68.849</td>\n",
       "      <td>-20.932</td>\n",
       "      <td>172.536</td>\n",
       "      <td>-0.843</td>\n",
       "    </tr>\n",
       "    <tr>\n",
       "      <th>40</th>\n",
       "      <td>54594</td>\n",
       "      <td>1995.0</td>\n",
       "      <td>85.947</td>\n",
       "      <td>17.098</td>\n",
       "      <td>174.920</td>\n",
       "      <td>2.384</td>\n",
       "    </tr>\n",
       "    <tr>\n",
       "      <th>41</th>\n",
       "      <td>54594</td>\n",
       "      <td>1996.0</td>\n",
       "      <td>110.420</td>\n",
       "      <td>24.473</td>\n",
       "      <td>170.328</td>\n",
       "      <td>-4.592</td>\n",
       "    </tr>\n",
       "    <tr>\n",
       "      <th>42</th>\n",
       "      <td>54594</td>\n",
       "      <td>1997.0</td>\n",
       "      <td>107.138</td>\n",
       "      <td>-3.282</td>\n",
       "      <td>175.084</td>\n",
       "      <td>4.756</td>\n",
       "    </tr>\n",
       "    <tr>\n",
       "      <th>43</th>\n",
       "      <td>54594</td>\n",
       "      <td>1998.0</td>\n",
       "      <td>122.944</td>\n",
       "      <td>15.806</td>\n",
       "      <td>217.239</td>\n",
       "      <td>42.155</td>\n",
       "    </tr>\n",
       "    <tr>\n",
       "      <th>44</th>\n",
       "      <td>54594</td>\n",
       "      <td>1999.0</td>\n",
       "      <td>163.359</td>\n",
       "      <td>40.415</td>\n",
       "      <td>263.425</td>\n",
       "      <td>46.186</td>\n",
       "    </tr>\n",
       "    <tr>\n",
       "      <th>45</th>\n",
       "      <td>54594</td>\n",
       "      <td>2000.0</td>\n",
       "      <td>164.302</td>\n",
       "      <td>0.943</td>\n",
       "      <td>304.499</td>\n",
       "      <td>41.074</td>\n",
       "    </tr>\n",
       "    <tr>\n",
       "      <th>46</th>\n",
       "      <td>54594</td>\n",
       "      <td>2001.0</td>\n",
       "      <td>128.348</td>\n",
       "      <td>-35.954</td>\n",
       "      <td>336.018</td>\n",
       "      <td>31.519</td>\n",
       "    </tr>\n",
       "    <tr>\n",
       "      <th>47</th>\n",
       "      <td>54594</td>\n",
       "      <td>2002.0</td>\n",
       "      <td>115.187</td>\n",
       "      <td>-13.161</td>\n",
       "      <td>320.590</td>\n",
       "      <td>-15.428</td>\n",
       "    </tr>\n",
       "    <tr>\n",
       "      <th>48</th>\n",
       "      <td>54594</td>\n",
       "      <td>2003.0</td>\n",
       "      <td>77.528</td>\n",
       "      <td>-37.659</td>\n",
       "      <td>286.588</td>\n",
       "      <td>-34.002</td>\n",
       "    </tr>\n",
       "    <tr>\n",
       "      <th>49</th>\n",
       "      <td>54594</td>\n",
       "      <td>2004.0</td>\n",
       "      <td>66.322</td>\n",
       "      <td>-11.206</td>\n",
       "      <td>259.954</td>\n",
       "      <td>-26.634</td>\n",
       "    </tr>\n",
       "  </tbody>\n",
       "</table>\n",
       "</div>"
      ],
      "text/plain": [
       "    PERMNO      HP     rect  D1_rect     invt  D1_invt\n",
       "0    25881  1971.0    8.913    0.000   10.199    0.000\n",
       "1    25881  1972.0    8.398   -0.515    8.187   -2.012\n",
       "2    25881  1973.0    4.186   -4.212    4.743   -3.444\n",
       "3    25881  1974.0    5.604    1.418    5.683    0.940\n",
       "4    25881  1975.0   10.474    4.870    7.177    1.494\n",
       "5    25881  1976.0    8.193   -2.281    6.227   -0.950\n",
       "6    25881  1977.0    9.207    1.014    9.919    3.692\n",
       "7    25881  1978.0   12.434    3.227    9.129   -0.790\n",
       "8    10015  1984.0    0.082    0.000    0.323    0.000\n",
       "9    10015  1985.0    0.056   -0.026    0.502    0.179\n",
       "10   10015  1986.0    0.029   -0.027    0.739    0.237\n",
       "11   10023  1973.0    3.983    0.000    8.393    0.000\n",
       "12   10031  1985.0    0.690    0.000    5.408    0.000\n",
       "13   10031  1986.0    1.190    0.500    5.661    0.253\n",
       "14   10031  1987.0    1.110   -0.080   11.071    5.410\n",
       "15   10031  1988.0    0.772   -0.338   11.563    0.492\n",
       "16   10031  1989.0    1.266    0.494   11.922    0.359\n",
       "17   10031  1990.0    2.148    0.882   11.680   -0.242\n",
       "18   54594  1973.0    4.894    0.000    6.459    0.000\n",
       "19   54594  1974.0    6.117    1.223    9.788    3.329\n",
       "20   54594  1975.0    8.549    2.432   12.520    2.732\n",
       "21   54594  1976.0   10.474    1.925   21.241    8.721\n",
       "22   54594  1977.0   10.746    0.272   22.578    1.337\n",
       "23   54594  1978.0   10.556   -0.190   23.912    1.334\n",
       "24   54594  1979.0   15.282    4.726   27.141    3.229\n",
       "25   54594  1980.0   15.539    0.257   31.334    4.193\n",
       "26   54594  1981.0   19.008    3.469   29.386   -1.948\n",
       "27   54594  1982.0   17.202   -1.806   37.813    8.427\n",
       "28   54594  1983.0   28.679   11.477   40.093    2.280\n",
       "29   54594  1984.0   28.965    0.286   32.080   -8.013\n",
       "30   54594  1985.0   35.201    6.236   41.764    9.684\n",
       "31   54594  1986.0   42.945    7.744   48.532    6.768\n",
       "32   54594  1987.0   55.345   12.400   74.606   26.074\n",
       "33   54594  1988.0   66.730   11.385   88.920   14.314\n",
       "34   54594  1989.0   67.161    0.431  122.586   33.666\n",
       "35   54594  1990.0   95.218   28.057  140.313   17.727\n",
       "36   54594  1991.0   93.581   -1.637  162.149   21.836\n",
       "37   54594  1992.0   91.238   -2.343  156.133   -6.016\n",
       "38   54594  1993.0   89.781   -1.457  173.379   17.246\n",
       "39   54594  1994.0   68.849  -20.932  172.536   -0.843\n",
       "40   54594  1995.0   85.947   17.098  174.920    2.384\n",
       "41   54594  1996.0  110.420   24.473  170.328   -4.592\n",
       "42   54594  1997.0  107.138   -3.282  175.084    4.756\n",
       "43   54594  1998.0  122.944   15.806  217.239   42.155\n",
       "44   54594  1999.0  163.359   40.415  263.425   46.186\n",
       "45   54594  2000.0  164.302    0.943  304.499   41.074\n",
       "46   54594  2001.0  128.348  -35.954  336.018   31.519\n",
       "47   54594  2002.0  115.187  -13.161  320.590  -15.428\n",
       "48   54594  2003.0   77.528  -37.659  286.588  -34.002\n",
       "49   54594  2004.0   66.322  -11.206  259.954  -26.634"
      ]
     },
     "execution_count": 99,
     "metadata": {},
     "output_type": "execute_result"
    }
   ],
   "source": [
    "comp[[\"PERMNO\", \"HP\", \"rect\", \"D1_rect\", \"invt\", \"D1_invt\"]].head(n=50)"
   ]
  },
  {
   "cell_type": "code",
   "execution_count": 100,
   "metadata": {},
   "outputs": [],
   "source": [
    "# - drect - dinvt - dxpp + ddrc + dap + dxacc\n",
    "comp[\"acc\"] = - comp.D1_rect - comp.D1_invt - comp.D1_xpp + comp.D1_drc + comp.D1_ap + comp.D1_xacc"
   ]
  },
  {
   "cell_type": "markdown",
   "metadata": {},
   "source": [
    "**Scaling variable for Accruals?**"
   ]
  },
  {
   "cell_type": "code",
   "execution_count": 101,
   "metadata": {},
   "outputs": [],
   "source": [
    "comp[\"ACC\"] = comp.acc / comp.BE"
   ]
  },
  {
   "cell_type": "markdown",
   "metadata": {},
   "source": [
    "## Cash Profit of Fama and French *Choosing Factors* (2016)"
   ]
  },
  {
   "cell_type": "code",
   "execution_count": 102,
   "metadata": {},
   "outputs": [],
   "source": [
    "comp[\"CP\"] = (comp.revt - comp.cogs.fillna(0) - comp.xsga.fillna(0) + comp.xrd.fillna(0) - comp.xint.fillna(0) + comp.acc) / comp.BE"
   ]
  },
  {
   "cell_type": "markdown",
   "metadata": {},
   "source": [
    "## Asset Growth (Investment) of Fama and French (2006)"
   ]
  },
  {
   "cell_type": "code",
   "execution_count": 103,
   "metadata": {},
   "outputs": [],
   "source": [
    "comp[\"Inv\"] = (comp[\"at\"] - comp.groupby(\"PERMNO\")[\"at\"].shift(1)) / comp.groupby(\"PERMNO\")[\"at\"].shift(1)"
   ]
  },
  {
   "cell_type": "code",
   "execution_count": 104,
   "metadata": {},
   "outputs": [
    {
     "data": {
      "text/plain": [
       "0.15060779840370572"
      ]
     },
     "execution_count": 104,
     "metadata": {},
     "output_type": "execute_result"
    }
   ],
   "source": [
    "comp.Inv.isna().sum() / comp.PERMNO.count()"
   ]
  },
  {
   "cell_type": "markdown",
   "metadata": {},
   "source": [
    "# Combined Data"
   ]
  },
  {
   "cell_type": "markdown",
   "metadata": {},
   "source": [
    "When we assign buckets for book variables, we can use values from July because we have set holding periods already."
   ]
  },
  {
   "cell_type": "code",
   "execution_count": 105,
   "metadata": {},
   "outputs": [],
   "source": [
    "comp = comp[~comp[[\"PERMNO\", \"HP\"]].duplicated(keep=\"first\")]"
   ]
  },
  {
   "cell_type": "code",
   "execution_count": 106,
   "metadata": {},
   "outputs": [],
   "source": [
    "cols = [\"PERMNO\", \"HP\", \"BE\", \"BE_Growth_Future\", \"OP06\", \"OP06OK\", \"OP16\", \"ACC\", \"CP\", \"Inv\"]\n",
    "df = crsp.merge(comp[cols], on=[\"PERMNO\", \"HP\"], how=\"left\")"
   ]
  },
  {
   "cell_type": "code",
   "execution_count": 107,
   "metadata": {},
   "outputs": [
    {
     "data": {
      "text/plain": [
       "((3134786, 42), (3134786, 50))"
      ]
     },
     "execution_count": 107,
     "metadata": {},
     "output_type": "execute_result"
    }
   ],
   "source": [
    "crsp.shape, df.shape"
   ]
  },
  {
   "cell_type": "code",
   "execution_count": 108,
   "metadata": {},
   "outputs": [],
   "source": [
    "df.OP06OK = df.OP06OK.astype(\"bool\")  # for some reason OP06OK stops being a boolean column after merge"
   ]
  },
  {
   "cell_type": "code",
   "execution_count": 109,
   "metadata": {},
   "outputs": [
    {
     "name": "stdout",
     "output_type": "stream",
     "text": [
      "BMBkt not in df\n",
      "BMmBkt not in df\n",
      "OP06Bkt not in df\n",
      "OP16Bkt not in df\n",
      "CPBkt not in df\n",
      "InvBkt not in df\n"
     ]
    }
   ],
   "source": [
    "for bkt in [\"ME_JunBkt\", \"PriorBkt\", \"BMBkt\", \"BMmBkt\", \"OP06Bkt\", \"OP16Bkt\", \"CPBkt\", \"InvBkt\"]:\n",
    "    try:\n",
    "        df = df.drop(bkt, axis=1)\n",
    "    except ValueError:\n",
    "        print(\"{} not in df\".format(bkt))"
   ]
  },
  {
   "cell_type": "code",
   "execution_count": 110,
   "metadata": {},
   "outputs": [],
   "source": [
    "for nonsense in [\"COMNAM\", \"CUSIP\", \"PAYDT\", \"DIVAMT\", \"ACPERM\", \"VOL\", \"SPREAD\", \"vwretd\", \"ewretd\",\n",
    "                 \"sprtrn\", \"BktSize\", \"WtRET\", \"PriorRET\"]:\n",
    "    try:\n",
    "        df = df.drop(nonsense, axis=1)\n",
    "    except ValueError:\n",
    "        print(\"{} not in df\".format(nonsense))"
   ]
  },
  {
   "cell_type": "code",
   "execution_count": 111,
   "metadata": {},
   "outputs": [],
   "source": [
    "df[\"BM\"] = df.BE / df.ME_Dec\n",
    "\n",
    "df[\"BMOK\"] = (~df.ME_Jun.isna()) & (~df.ME_Dec.isna()) & (~df.BE.isna()) & (df.BE > 0)"
   ]
  },
  {
   "cell_type": "code",
   "execution_count": 112,
   "metadata": {},
   "outputs": [],
   "source": [
    "df[\"BMm\"] = df.BE / df.L1_ME\n",
    "\n",
    "df[\"BMmOK\"] = (~df.L1_ME.isna()) & (~df.BE.isna()) & (df.BE > 0)"
   ]
  },
  {
   "cell_type": "code",
   "execution_count": 113,
   "metadata": {},
   "outputs": [
    {
     "data": {
      "text/plain": [
       "Index(['PERMNO', 'date', 'EXCHCD', 'SICCD', 'TICKER', 'DCLRDT', 'DLSTCD',\n",
       "       'DISTCD', 'FACPR', 'FACSHR', 'DLRET', 'PRC', 'RET', 'SHROUT', 'CFACPR',\n",
       "       'CFACSHR', 'HP', 'ME', 'ME_Jun', 'ME_Dec', 'Ri', 'L1_Ri', 'RiFctr',\n",
       "       'Size', 'Prior', 'L1_ME', 'PriorOK', 'BE', 'BE_Growth_Future', 'OP06',\n",
       "       'OP06OK', 'OP16', 'ACC', 'CP', 'Inv', 'BM', 'BMOK', 'BMm', 'BMmOK'],\n",
       "      dtype='object')"
      ]
     },
     "execution_count": 113,
     "metadata": {},
     "output_type": "execute_result"
    }
   ],
   "source": [
    "df.columns"
   ]
  },
  {
   "cell_type": "code",
   "execution_count": 117,
   "metadata": {},
   "outputs": [],
   "source": [
    "write_combined_data = False"
   ]
  },
  {
   "cell_type": "code",
   "execution_count": 118,
   "metadata": {},
   "outputs": [
    {
     "name": "stdout",
     "output_type": "stream",
     "text": [
      "Wall time: 3min\n"
     ]
    }
   ],
   "source": [
    "%%time\n",
    "if write_combined_data:\n",
    "    df.to_csv(\"C:/Data/Thesis/Combined_Data.csv\")"
   ]
  },
  {
   "cell_type": "code",
   "execution_count": 125,
   "metadata": {},
   "outputs": [],
   "source": [
    "del crsp\n",
    "del comp"
   ]
  },
  {
   "cell_type": "markdown",
   "metadata": {},
   "source": [
    "## Value"
   ]
  },
  {
   "cell_type": "code",
   "execution_count": null,
   "metadata": {},
   "outputs": [],
   "source": [
    "jul = df[[\"PERMNO\", \"HP\", \"EXCHCD\", \"BM\", \"BMOK\"]][df.date.dt.month==7]"
   ]
  },
  {
   "cell_type": "code",
   "execution_count": null,
   "metadata": {},
   "outputs": [],
   "source": [
    "nyse = jul[(jul.EXCHCD==1) & (jul.BMOK)]"
   ]
  },
  {
   "cell_type": "code",
   "execution_count": null,
   "metadata": {
    "scrolled": true
   },
   "outputs": [],
   "source": [
    "grp = nyse[[\"HP\", \"BM\"]].groupby(\"HP\")  # grouped objects perform operations on the grouped column/variable\n",
    "del nyse\n",
    "brk = grp.quantile(pd.np.array(range(1, 21))/20).unstack()  # 5% to 100% in 5% increments\n",
    "#brk = brk.reset_index(\"date\")  # grab the date column out of the index\n",
    "#brk[\"HP\"] = brk.date.dt.year + 1  # create holding period from the date\n",
    "#brk = brk.drop(\"date\", axis=1).set_index(\"HP\")  # we don't want the date column anymore\n",
    "brk.columns = brk.columns.droplevel(0)  # drop the needless \"ME\" top-level column index"
   ]
  },
  {
   "cell_type": "code",
   "execution_count": null,
   "metadata": {},
   "outputs": [],
   "source": [
    "brk.head(n=10)"
   ]
  },
  {
   "cell_type": "markdown",
   "metadata": {},
   "source": [
    "Writing this to a file means we can check it later or use breakpoints from Kennth French later if we have a lot of troubles."
   ]
  },
  {
   "cell_type": "code",
   "execution_count": null,
   "metadata": {},
   "outputs": [],
   "source": [
    "brk.to_csv(\"C:/Data/Thesis/Brks_BM.csv\")  # column headers are decimals, potential floating point precision garbage"
   ]
  },
  {
   "cell_type": "markdown",
   "metadata": {},
   "source": [
    "NYSE breakpoints are used to assign _all_ stocks to $Size$ buckets."
   ]
  },
  {
   "cell_type": "code",
   "execution_count": null,
   "metadata": {},
   "outputs": [],
   "source": [
    "jul = jul.merge(brk.reset_index(\"HP\"), on=[\"HP\",], how=\"left\")"
   ]
  },
  {
   "cell_type": "code",
   "execution_count": null,
   "metadata": {},
   "outputs": [],
   "source": [
    "jul.shape"
   ]
  },
  {
   "cell_type": "markdown",
   "metadata": {},
   "source": [
    "### Factor Buckets"
   ]
  },
  {
   "cell_type": "code",
   "execution_count": null,
   "metadata": {
    "scrolled": true
   },
   "outputs": [],
   "source": [
    "jul = assign_bkts(jul, \"BM\", [.3, .7, 1.])\n",
    "jul[[\"PERMNO\", \"HP\", \"BMBkt\"]].set_index(\"HP\").to_csv(\"C:/Data/Thesis/Bkts_BM_3.csv\")"
   ]
  },
  {
   "cell_type": "markdown",
   "metadata": {},
   "source": [
    "### Quartiles"
   ]
  },
  {
   "cell_type": "code",
   "execution_count": null,
   "metadata": {
    "scrolled": true
   },
   "outputs": [],
   "source": [
    "jul = assign_bkts(jul, \"BM\", [.25, .5, .75, 1.])\n",
    "jul[[\"PERMNO\", \"HP\", \"BMBkt\"]].set_index(\"HP\").to_csv(\"C:/Data/Thesis/Bkts_BM_4.csv\")"
   ]
  },
  {
   "cell_type": "markdown",
   "metadata": {},
   "source": [
    "### Quintiles"
   ]
  },
  {
   "cell_type": "code",
   "execution_count": null,
   "metadata": {
    "scrolled": true
   },
   "outputs": [],
   "source": [
    "jul = assign_bkts(jul, \"BM\", [.2, .4, .6, .8, 1.])\n",
    "jul[[\"PERMNO\", \"HP\", \"BMBkt\"]].set_index(\"HP\").to_csv(\"C:/Data/Thesis/Bkts_BM_5.csv\")"
   ]
  },
  {
   "cell_type": "markdown",
   "metadata": {},
   "source": [
    "### Deciles"
   ]
  },
  {
   "cell_type": "code",
   "execution_count": null,
   "metadata": {
    "scrolled": true
   },
   "outputs": [],
   "source": [
    "jul = assign_bkts(jul, \"BM\", [.1, .2, .3, .4, .5, .6, .7, .8, .9, 1.])\n",
    "jul[[\"PERMNO\", \"HP\", \"BMBkt\"]].set_index(\"HP\").to_csv(\"C:/Data/Thesis/Bkts_BM_10.csv\")"
   ]
  },
  {
   "cell_type": "markdown",
   "metadata": {},
   "source": [
    "Let's use the decile breakpoints to check how close we get to the returns from Kenneth French's website for 10 value buckets."
   ]
  },
  {
   "cell_type": "code",
   "execution_count": null,
   "metadata": {},
   "outputs": [],
   "source": [
    "df = df.merge(jul[[\"PERMNO\", \"HP\", \"BMBkt\"]], on=[\"PERMNO\", \"HP\"], how=\"left\")  # could use inner here"
   ]
  },
  {
   "cell_type": "code",
   "execution_count": null,
   "metadata": {},
   "outputs": [],
   "source": [
    "((df.BMBkt.isna()) & (~df.BMOK)).sum() / df.PERMNO.count()"
   ]
  },
  {
   "cell_type": "code",
   "execution_count": null,
   "metadata": {},
   "outputs": [],
   "source": [
    "df[\"BktSize\"] = df[df.BMOK].groupby([\"BMBkt\", \"date\"]).Size.transform(\"sum\")  # dplyr `mutate`\n",
    "df[\"WtRET\"] = df.Size * df.RET / df.BktSize\n",
    "bkt = df[df.BMOK].groupby([\"BMBkt\", \"date\"]).WtRET.sum()"
   ]
  },
  {
   "cell_type": "code",
   "execution_count": null,
   "metadata": {},
   "outputs": [],
   "source": [
    "# 0.83, 0.95, 0.98, 0.92, 0.95, 1.06, 1.00, 1.11, 1.25, 1.30"
   ]
  },
  {
   "cell_type": "code",
   "execution_count": null,
   "metadata": {},
   "outputs": [],
   "source": [
    "(bkt.unstack(level=0)[\"1963-07\":\"2017-12\"].mean()*100).round(2)"
   ]
  },
  {
   "cell_type": "code",
   "execution_count": null,
   "metadata": {
    "scrolled": true
   },
   "outputs": [],
   "source": [
    "brk = df[[\"date\", \"BMm\"]][(df.EXCHCD==1) & (df.BMmOK)].groupby(\"date\").quantile(pd.np.array(range(1, 21))/20).unstack()\n",
    "brk.columns = brk.columns.droplevel(0)"
   ]
  },
  {
   "cell_type": "code",
   "execution_count": null,
   "metadata": {
    "scrolled": true
   },
   "outputs": [],
   "source": [
    "brk[\"1963-07\":].head(n=10)"
   ]
  },
  {
   "cell_type": "code",
   "execution_count": null,
   "metadata": {},
   "outputs": [],
   "source": [
    "brk.to_csv(\"C:/Data/Thesis/Brks_BMm.csv\")  # column headers are decimals, potential floating point precision garbage"
   ]
  },
  {
   "cell_type": "code",
   "execution_count": null,
   "metadata": {},
   "outputs": [],
   "source": [
    "df.columns"
   ]
  },
  {
   "cell_type": "code",
   "execution_count": null,
   "metadata": {},
   "outputs": [],
   "source": [
    "df = df.merge(brk.reset_index(\"date\"), on=\"date\", how=\"left\")"
   ]
  },
  {
   "cell_type": "markdown",
   "metadata": {},
   "source": [
    "### Factor Buckets"
   ]
  },
  {
   "cell_type": "code",
   "execution_count": null,
   "metadata": {},
   "outputs": [],
   "source": [
    "prb = assign_bkts(df.loc[:,[\"PERMNO\", \"date\", \"BMm\", .3, .7, 1.]], \"BMm\", [.3, .7, 1.])"
   ]
  },
  {
   "cell_type": "code",
   "execution_count": null,
   "metadata": {},
   "outputs": [],
   "source": [
    "prb[[\"PERMNO\", \"date\", \"BMmBkt\"]].set_index(\"date\").to_csv(\"C:/Data/Thesis/Bkts_BMm_3.csv\")"
   ]
  },
  {
   "cell_type": "markdown",
   "metadata": {},
   "source": [
    "### Quartiles"
   ]
  },
  {
   "cell_type": "code",
   "execution_count": null,
   "metadata": {},
   "outputs": [],
   "source": [
    "prb = assign_bkts(df.loc[:,[\"PERMNO\", \"date\", \"BMm\", .25, .5, .75, 1.]], \"BMm\", [.25, .5, .75, 1.])"
   ]
  },
  {
   "cell_type": "code",
   "execution_count": null,
   "metadata": {},
   "outputs": [],
   "source": [
    "prb[[\"PERMNO\", \"date\", \"BMmBkt\"]].set_index(\"date\").to_csv(\"C:/Data/Thesis/Bkts_BMm_4.csv\")"
   ]
  },
  {
   "cell_type": "markdown",
   "metadata": {},
   "source": [
    "### Quintiles"
   ]
  },
  {
   "cell_type": "code",
   "execution_count": null,
   "metadata": {},
   "outputs": [],
   "source": [
    "prb = assign_bkts(df.loc[:,[\"PERMNO\", \"date\", \"BMm\", .2, .4, .6, .8, 1.]], \"BMm\", [.2, .4, .6, .8, 1.])"
   ]
  },
  {
   "cell_type": "code",
   "execution_count": null,
   "metadata": {},
   "outputs": [],
   "source": [
    "prb[[\"PERMNO\", \"date\", \"BMmBkt\"]].set_index(\"date\").to_csv(\"C:/Data/Thesis/Bkts_BMm_5.csv\")"
   ]
  },
  {
   "cell_type": "markdown",
   "metadata": {},
   "source": [
    "### Deciles"
   ]
  },
  {
   "cell_type": "code",
   "execution_count": null,
   "metadata": {},
   "outputs": [],
   "source": [
    "prb = assign_bkts(df.loc[:,[\"PERMNO\", \"date\", \"BMm\", .1, .2, .3, .4, .5, .6, .7, .8, .9, 1.]], \"BMm\", [.1, .2, .3, .4, .5, .6, .7, .8, .9, 1.])"
   ]
  },
  {
   "cell_type": "code",
   "execution_count": null,
   "metadata": {},
   "outputs": [],
   "source": [
    "prb[[\"PERMNO\", \"date\", \"BMmBkt\"]].set_index(\"date\").to_csv(\"C:/Data/Thesis/Bkts_BMm_10.csv\")"
   ]
  },
  {
   "cell_type": "markdown",
   "metadata": {},
   "source": [
    "I am not aware of a monthly Book-to-Market return file.\n",
    "Asness and his pals have a monthly Book-to-Price.\n",
    "Nevertheless, we can still check the returns."
   ]
  },
  {
   "cell_type": "code",
   "execution_count": null,
   "metadata": {},
   "outputs": [],
   "source": [
    "df = df.merge(prb[[\"PERMNO\", \"date\", \"BMmBkt\"]], on=[\"PERMNO\", \"date\"], how=\"left\")"
   ]
  },
  {
   "cell_type": "code",
   "execution_count": null,
   "metadata": {},
   "outputs": [],
   "source": [
    "df = df.drop(pd.np.array(range(1, 21))/20, axis=1)"
   ]
  },
  {
   "cell_type": "code",
   "execution_count": null,
   "metadata": {},
   "outputs": [],
   "source": [
    "df.BMmBkt.isna().sum() / df.PERMNO.count()"
   ]
  },
  {
   "cell_type": "markdown",
   "metadata": {},
   "source": [
    "**`L1_ME` instead of `Size` here**."
   ]
  },
  {
   "cell_type": "code",
   "execution_count": null,
   "metadata": {},
   "outputs": [],
   "source": [
    "df[\"BktSize\"] = df[df.BMmOK].groupby([\"BMmBkt\", \"date\"]).L1_ME.transform(\"sum\")  # dplyr `mutate`\n",
    "\n",
    "df[\"WtRET\"] = df.L1_ME * df.RET / df.BktSize\n",
    "\n",
    "bkt = df[df.BMmOK].groupby([\"BMmBkt\", \"date\"]).WtRET.sum()"
   ]
  },
  {
   "cell_type": "markdown",
   "metadata": {},
   "source": [
    "Seems sensible."
   ]
  },
  {
   "cell_type": "code",
   "execution_count": null,
   "metadata": {},
   "outputs": [],
   "source": [
    "(bkt.unstack(level=0)[\"1963-07\":\"2017-12\"].mean()*100).round(2)"
   ]
  },
  {
   "cell_type": "markdown",
   "metadata": {},
   "source": [
    "## Profit"
   ]
  },
  {
   "cell_type": "code",
   "execution_count": null,
   "metadata": {},
   "outputs": [],
   "source": [
    "jul = df[[\"PERMNO\", \"HP\", \"EXCHCD\", \"OP06\", \"OP06OK\"]][df.date.dt.month==7]"
   ]
  },
  {
   "cell_type": "code",
   "execution_count": null,
   "metadata": {},
   "outputs": [],
   "source": [
    "nyse = jul[(jul.EXCHCD==1) & (jul.OP06OK)]"
   ]
  },
  {
   "cell_type": "code",
   "execution_count": null,
   "metadata": {
    "scrolled": true
   },
   "outputs": [],
   "source": [
    "grp = nyse[[\"HP\", \"OP06\"]].groupby(\"HP\")  # grouped objects perform operations on the grouped column/variable\n",
    "del nyse\n",
    "brk = grp.quantile(pd.np.array(range(1, 21))/20).unstack()  # 5% to 100% in 5% increments\n",
    "#brk = brk.reset_index(\"date\")  # grab the date column out of the index\n",
    "#brk[\"HP\"] = brk.date.dt.year + 1  # create holding period from the date\n",
    "#brk = brk.drop(\"date\", axis=1).set_index(\"HP\")  # we don't want the date column anymore\n",
    "brk.columns = brk.columns.droplevel(0)  # drop the needless \"ME\" top-level column index"
   ]
  },
  {
   "cell_type": "code",
   "execution_count": null,
   "metadata": {
    "scrolled": false
   },
   "outputs": [],
   "source": [
    "brk.head(n=10)"
   ]
  },
  {
   "cell_type": "markdown",
   "metadata": {},
   "source": [
    "Writing this to a file means we can check it later or use breakpoints from Kennth French later if we have a lot of troubles."
   ]
  },
  {
   "cell_type": "code",
   "execution_count": null,
   "metadata": {},
   "outputs": [],
   "source": [
    "brk.to_csv(\"C:/Data/Thesis/Brks_OP06.csv\")  # column headers are decimals, potential floating point precision garbage"
   ]
  },
  {
   "cell_type": "markdown",
   "metadata": {},
   "source": [
    "NYSE breakpoints are used to assign _all_ stocks to $Size$ buckets."
   ]
  },
  {
   "cell_type": "code",
   "execution_count": null,
   "metadata": {},
   "outputs": [],
   "source": [
    "jul = jul.merge(brk.reset_index(\"HP\"), on=[\"HP\",], how=\"left\")"
   ]
  },
  {
   "cell_type": "code",
   "execution_count": null,
   "metadata": {},
   "outputs": [],
   "source": [
    "jul.shape"
   ]
  },
  {
   "cell_type": "markdown",
   "metadata": {},
   "source": [
    "### Factor Buckets"
   ]
  },
  {
   "cell_type": "code",
   "execution_count": null,
   "metadata": {
    "scrolled": true
   },
   "outputs": [],
   "source": [
    "jul = assign_bkts(jul, \"OP06\", [.3, .7, 1.])\n",
    "jul[[\"PERMNO\", \"HP\", \"OP06Bkt\"]].set_index(\"HP\").to_csv(\"C:/Data/Thesis/Bkts_OP06_3.csv\")"
   ]
  },
  {
   "cell_type": "markdown",
   "metadata": {},
   "source": [
    "### Quartiles"
   ]
  },
  {
   "cell_type": "code",
   "execution_count": null,
   "metadata": {
    "scrolled": true
   },
   "outputs": [],
   "source": [
    "jul = assign_bkts(jul, \"OP06\", [.25, .5, .75, 1.])\n",
    "jul[[\"PERMNO\", \"HP\", \"OP06Bkt\"]].set_index(\"HP\").to_csv(\"C:/Data/Thesis/Bkts_OP06_4.csv\")"
   ]
  },
  {
   "cell_type": "markdown",
   "metadata": {},
   "source": [
    "### Quintiles"
   ]
  },
  {
   "cell_type": "code",
   "execution_count": null,
   "metadata": {
    "scrolled": true
   },
   "outputs": [],
   "source": [
    "jul = assign_bkts(jul, \"OP06\", [.2, .4, .6, .8, 1.])\n",
    "jul[[\"PERMNO\", \"HP\", \"OP06Bkt\"]].set_index(\"HP\").to_csv(\"C:/Data/Thesis/Bkts_OP06_5.csv\")"
   ]
  },
  {
   "cell_type": "markdown",
   "metadata": {},
   "source": [
    "### Deciles"
   ]
  },
  {
   "cell_type": "code",
   "execution_count": null,
   "metadata": {
    "scrolled": true
   },
   "outputs": [],
   "source": [
    "jul = assign_bkts(jul, \"OP06\", [.1, .2, .3, .4, .5, .6, .7, .8, .9, 1.])\n",
    "jul[[\"PERMNO\", \"HP\", \"OP06Bkt\"]].set_index(\"HP\").to_csv(\"C:/Data/Thesis/Bkts_OP06_10.csv\")"
   ]
  },
  {
   "cell_type": "markdown",
   "metadata": {},
   "source": [
    "Let's use the decile breakpoints to check how close we get to the returns from Kenneth French's website for 10 value buckets."
   ]
  },
  {
   "cell_type": "code",
   "execution_count": null,
   "metadata": {},
   "outputs": [],
   "source": [
    "df = df.merge(jul[[\"PERMNO\", \"HP\", \"OP06Bkt\"]], on=[\"PERMNO\", \"HP\"], how=\"left\")  # could use inner here"
   ]
  },
  {
   "cell_type": "code",
   "execution_count": null,
   "metadata": {},
   "outputs": [],
   "source": [
    "((df.OP06Bkt.isna()) & (~df.OP06OK)).sum()  / df.PERMNO.count()"
   ]
  },
  {
   "cell_type": "code",
   "execution_count": null,
   "metadata": {},
   "outputs": [],
   "source": [
    "df[\"BktSize\"] = df[df.OP06OK].groupby([\"OP06Bkt\", \"date\"]).Size.transform(\"sum\")  # dplyr `mutate`\n",
    "df[\"WtRET\"] = df.Size * df.RET / df.BktSize\n",
    "bkt = df[df.OP06OK].groupby([\"OP06Bkt\", \"date\"]).WtRET.sum()"
   ]
  },
  {
   "cell_type": "markdown",
   "metadata": {},
   "source": [
    "Not bad :)"
   ]
  },
  {
   "cell_type": "code",
   "execution_count": null,
   "metadata": {},
   "outputs": [],
   "source": [
    "# 0.74, 0.84, 0.87, 0.89, 0.94, 0.93, 0.90, 1.01, 1.06, 0.99"
   ]
  },
  {
   "cell_type": "code",
   "execution_count": null,
   "metadata": {},
   "outputs": [],
   "source": [
    "(bkt.unstack(level=0)[\"1963-07\":\"2017-12\"].mean()*100).round(2)"
   ]
  },
  {
   "cell_type": "code",
   "execution_count": null,
   "metadata": {},
   "outputs": [],
   "source": [
    "jul = df[[\"PERMNO\", \"HP\", \"EXCHCD\", \"OP16\", \"OP06OK\"]][df.date.dt.month==7]"
   ]
  },
  {
   "cell_type": "code",
   "execution_count": null,
   "metadata": {},
   "outputs": [],
   "source": [
    "nyse = jul[(jul.EXCHCD==1) & (jul.OP06OK)]"
   ]
  },
  {
   "cell_type": "code",
   "execution_count": null,
   "metadata": {
    "scrolled": true
   },
   "outputs": [],
   "source": [
    "grp = nyse[[\"HP\", \"OP16\"]].groupby(\"HP\")  # grouped objects perform operations on the grouped column/variable\n",
    "del nyse\n",
    "brk = grp.quantile(pd.np.array(range(1, 21))/20).unstack()  # 5% to 100% in 5% increments\n",
    "#brk = brk.reset_index(\"date\")  # grab the date column out of the index\n",
    "#brk[\"HP\"] = brk.date.dt.year + 1  # create holding period from the date\n",
    "#brk = brk.drop(\"date\", axis=1).set_index(\"HP\")  # we don't want the date column anymore\n",
    "brk.columns = brk.columns.droplevel(0)  # drop the needless \"ME\" top-level column index"
   ]
  },
  {
   "cell_type": "code",
   "execution_count": null,
   "metadata": {
    "scrolled": false
   },
   "outputs": [],
   "source": [
    "brk.head(n=10)"
   ]
  },
  {
   "cell_type": "code",
   "execution_count": null,
   "metadata": {},
   "outputs": [],
   "source": [
    "brk.to_csv(\"C:/Data/Thesis/Brks_OP16.csv\")  # column headers are decimals, potential floating point precision garbage"
   ]
  },
  {
   "cell_type": "markdown",
   "metadata": {},
   "source": [
    "NYSE breakpoints are used to assign _all_ stocks to $Size$ buckets."
   ]
  },
  {
   "cell_type": "code",
   "execution_count": null,
   "metadata": {},
   "outputs": [],
   "source": [
    "jul = jul.merge(brk.reset_index(\"HP\"), on=[\"HP\",], how=\"left\")\n",
    "\n",
    "jul.shape"
   ]
  },
  {
   "cell_type": "markdown",
   "metadata": {},
   "source": [
    "### Factor Buckets"
   ]
  },
  {
   "cell_type": "code",
   "execution_count": null,
   "metadata": {
    "scrolled": true
   },
   "outputs": [],
   "source": [
    "jul = assign_bkts(jul, \"OP16\", [.3, .7, 1.])\n",
    "jul[[\"PERMNO\", \"HP\", \"OP16Bkt\"]].set_index(\"HP\").to_csv(\"C:/Data/Thesis/Bkts_OP16_3.csv\")"
   ]
  },
  {
   "cell_type": "markdown",
   "metadata": {},
   "source": [
    "### Quartiles"
   ]
  },
  {
   "cell_type": "code",
   "execution_count": null,
   "metadata": {
    "scrolled": true
   },
   "outputs": [],
   "source": [
    "jul = assign_bkts(jul, \"OP16\", [.25, .5, .75, 1.])\n",
    "jul[[\"PERMNO\", \"HP\", \"OP16Bkt\"]].set_index(\"HP\").to_csv(\"C:/Data/Thesis/Bkts_OP16_4.csv\")"
   ]
  },
  {
   "cell_type": "markdown",
   "metadata": {},
   "source": [
    "### Quintiles"
   ]
  },
  {
   "cell_type": "code",
   "execution_count": null,
   "metadata": {
    "scrolled": true
   },
   "outputs": [],
   "source": [
    "jul = assign_bkts(jul, \"OP16\", [.2, .4, .6, .8, 1.])\n",
    "jul[[\"PERMNO\", \"HP\", \"OP16Bkt\"]].set_index(\"HP\").to_csv(\"C:/Data/Thesis/Bkts_OP16_5.csv\")"
   ]
  },
  {
   "cell_type": "markdown",
   "metadata": {},
   "source": [
    "### Deciles"
   ]
  },
  {
   "cell_type": "code",
   "execution_count": null,
   "metadata": {
    "scrolled": true
   },
   "outputs": [],
   "source": [
    "jul = assign_bkts(jul, \"OP16\", [.1, .2, .3, .4, .5, .6, .7, .8, .9, 1.])\n",
    "jul[[\"PERMNO\", \"HP\", \"OP16Bkt\"]].set_index(\"HP\").to_csv(\"C:/Data/Thesis/Bkts_OP16_10.csv\")"
   ]
  },
  {
   "cell_type": "code",
   "execution_count": null,
   "metadata": {},
   "outputs": [],
   "source": [
    "df = df.merge(jul[[\"PERMNO\", \"HP\", \"OP16Bkt\"]], on=[\"PERMNO\", \"HP\"], how=\"left\")  # could use inner here"
   ]
  },
  {
   "cell_type": "code",
   "execution_count": null,
   "metadata": {},
   "outputs": [],
   "source": [
    "((df.OP16Bkt.isna()) & (~df.OP06OK)).sum()  / df.PERMNO.count()"
   ]
  },
  {
   "cell_type": "code",
   "execution_count": null,
   "metadata": {},
   "outputs": [],
   "source": [
    "df[\"BktSize\"] = df[df.OP06OK].groupby([\"OP16Bkt\", \"date\"]).Size.transform(\"sum\")  # dplyr `mutate`\n",
    "df[\"WtRET\"] = df.Size * df.RET / df.BktSize\n",
    "bkt = df[df.OP06OK].groupby([\"OP16Bkt\", \"date\"]).WtRET.sum()\n",
    "\n",
    "(bkt.unstack(level=0)[\"1963-07\":\"2017-12\"].mean()*100).round(2)"
   ]
  },
  {
   "cell_type": "code",
   "execution_count": null,
   "metadata": {},
   "outputs": [],
   "source": [
    "jul = df[[\"PERMNO\", \"HP\", \"EXCHCD\", \"CP\", \"OP06OK\"]][df.date.dt.month==7]"
   ]
  },
  {
   "cell_type": "code",
   "execution_count": null,
   "metadata": {},
   "outputs": [],
   "source": [
    "nyse = jul[(jul.EXCHCD==1) & (jul.OP06OK)]"
   ]
  },
  {
   "cell_type": "code",
   "execution_count": null,
   "metadata": {
    "scrolled": true
   },
   "outputs": [],
   "source": [
    "grp = nyse[[\"HP\", \"CP\"]].groupby(\"HP\")  # grouped objects perform operations on the grouped column/variable\n",
    "del nyse\n",
    "brk = grp.quantile(pd.np.array(range(1, 21))/20).unstack()  # 5% to 100% in 5% increments\n",
    "#brk = brk.reset_index(\"date\")  # grab the date column out of the index\n",
    "#brk[\"HP\"] = brk.date.dt.year + 1  # create holding period from the date\n",
    "#brk = brk.drop(\"date\", axis=1).set_index(\"HP\")  # we don't want the date column anymore\n",
    "brk.columns = brk.columns.droplevel(0)  # drop the needless \"ME\" top-level column index"
   ]
  },
  {
   "cell_type": "code",
   "execution_count": null,
   "metadata": {
    "scrolled": false
   },
   "outputs": [],
   "source": [
    "brk.head(n=10)"
   ]
  },
  {
   "cell_type": "code",
   "execution_count": null,
   "metadata": {},
   "outputs": [],
   "source": [
    "brk.to_csv(\"C:/Data/Thesis/Brks_CP.csv\")  # column headers are decimals, potential floating point precision garbage"
   ]
  },
  {
   "cell_type": "markdown",
   "metadata": {},
   "source": [
    "NYSE breakpoints are used to assign _all_ stocks to $Size$ buckets."
   ]
  },
  {
   "cell_type": "code",
   "execution_count": null,
   "metadata": {},
   "outputs": [],
   "source": [
    "jul = jul.merge(brk.reset_index(\"HP\"), on=[\"HP\",], how=\"left\")\n",
    "\n",
    "jul.shape"
   ]
  },
  {
   "cell_type": "markdown",
   "metadata": {},
   "source": [
    "### Factor Buckets"
   ]
  },
  {
   "cell_type": "code",
   "execution_count": null,
   "metadata": {
    "scrolled": true
   },
   "outputs": [],
   "source": [
    "jul = assign_bkts(jul, \"CP\", [.3, .7, 1.])\n",
    "jul[[\"PERMNO\", \"HP\", \"CPBkt\"]].set_index(\"HP\").to_csv(\"C:/Data/Thesis/Bkts_CP_3.csv\")"
   ]
  },
  {
   "cell_type": "markdown",
   "metadata": {},
   "source": [
    "### Quartiles"
   ]
  },
  {
   "cell_type": "code",
   "execution_count": null,
   "metadata": {
    "scrolled": true
   },
   "outputs": [],
   "source": [
    "jul = assign_bkts(jul, \"CP\", [.25, .5, .75, 1.])\n",
    "jul[[\"PERMNO\", \"HP\", \"CPBkt\"]].set_index(\"HP\").to_csv(\"C:/Data/Thesis/Bkts_CP_4.csv\")"
   ]
  },
  {
   "cell_type": "markdown",
   "metadata": {},
   "source": [
    "### Quintiles"
   ]
  },
  {
   "cell_type": "code",
   "execution_count": null,
   "metadata": {
    "scrolled": true
   },
   "outputs": [],
   "source": [
    "jul = assign_bkts(jul, \"CP\", [.2, .4, .6, .8, 1.])\n",
    "jul[[\"PERMNO\", \"HP\", \"CPBkt\"]].set_index(\"HP\").to_csv(\"C:/Data/Thesis/Bkts_CP_5.csv\")"
   ]
  },
  {
   "cell_type": "markdown",
   "metadata": {},
   "source": [
    "### Deciles"
   ]
  },
  {
   "cell_type": "code",
   "execution_count": null,
   "metadata": {
    "scrolled": true
   },
   "outputs": [],
   "source": [
    "jul = assign_bkts(jul, \"CP\", [.1, .2, .3, .4, .5, .6, .7, .8, .9, 1.])\n",
    "jul[[\"PERMNO\", \"HP\", \"CPBkt\"]].set_index(\"HP\").to_csv(\"C:/Data/Thesis/Bkts_CP_10.csv\")"
   ]
  },
  {
   "cell_type": "code",
   "execution_count": null,
   "metadata": {},
   "outputs": [],
   "source": [
    "df = df.merge(jul[[\"PERMNO\", \"HP\", \"CPBkt\"]], on=[\"PERMNO\", \"HP\"], how=\"left\")  # could use inner here"
   ]
  },
  {
   "cell_type": "code",
   "execution_count": null,
   "metadata": {},
   "outputs": [],
   "source": [
    "((df.CPBkt.isna()) & (~df.OP06OK)).sum()  / df.PERMNO.count()"
   ]
  },
  {
   "cell_type": "code",
   "execution_count": null,
   "metadata": {
    "scrolled": true
   },
   "outputs": [],
   "source": [
    "df[\"BktSize\"] = df[df.OP06OK].groupby([\"CPBkt\", \"date\"]).Size.transform(\"sum\")  # dplyr `mutate`\n",
    "df[\"WtRET\"] = df.Size * df.RET / df.BktSize\n",
    "bkt = df[df.OP06OK].groupby([\"CPBkt\", \"date\"]).WtRET.sum()\n",
    "\n",
    "(bkt.unstack(level=0)[\"1963-07\":\"2017-12\"].mean()*100).round(2)"
   ]
  },
  {
   "cell_type": "markdown",
   "metadata": {},
   "source": [
    "## Investment"
   ]
  },
  {
   "cell_type": "code",
   "execution_count": null,
   "metadata": {},
   "outputs": [],
   "source": [
    "jul = df[[\"PERMNO\", \"HP\", \"EXCHCD\", \"Inv\", \"ME_Jun\"]][df.date.dt.month==7]"
   ]
  },
  {
   "cell_type": "code",
   "execution_count": null,
   "metadata": {},
   "outputs": [],
   "source": [
    "nyse = jul[(jul.EXCHCD==1) & (~jul.ME_Jun.isna()) & (~jul.Inv.isna())]"
   ]
  },
  {
   "cell_type": "code",
   "execution_count": null,
   "metadata": {
    "scrolled": true
   },
   "outputs": [],
   "source": [
    "grp = nyse[[\"HP\", \"Inv\"]].groupby(\"HP\")  # grouped objects perform operations on the grouped column/variable\n",
    "del nyse\n",
    "brk = grp.quantile(pd.np.array(range(1, 21))/20).unstack()  # 5% to 100% in 5% increments\n",
    "#brk = brk.reset_index(\"date\")  # grab the date column out of the index\n",
    "#brk[\"HP\"] = brk.date.dt.year + 1  # create holding period from the date\n",
    "#brk = brk.drop(\"date\", axis=1).set_index(\"HP\")  # we don't want the date column anymore\n",
    "brk.columns = brk.columns.droplevel(0)  # drop the needless \"ME\" top-level column index"
   ]
  },
  {
   "cell_type": "code",
   "execution_count": null,
   "metadata": {
    "scrolled": false
   },
   "outputs": [],
   "source": [
    "brk.head(n=10)"
   ]
  },
  {
   "cell_type": "markdown",
   "metadata": {},
   "source": [
    "Writing this to a file means we can check it later or use breakpoints from Kennth French later if we have a lot of troubles."
   ]
  },
  {
   "cell_type": "code",
   "execution_count": null,
   "metadata": {},
   "outputs": [],
   "source": [
    "brk.to_csv(\"C:/Data/Thesis/Brks_Inv.csv\")  # column headers are decimals, potential floating point precision garbage"
   ]
  },
  {
   "cell_type": "markdown",
   "metadata": {},
   "source": [
    "NYSE breakpoints are used to assign _all_ stocks to $Size$ buckets."
   ]
  },
  {
   "cell_type": "code",
   "execution_count": null,
   "metadata": {},
   "outputs": [],
   "source": [
    "jul = jul.merge(brk.reset_index(\"HP\"), on=[\"HP\",], how=\"left\")"
   ]
  },
  {
   "cell_type": "code",
   "execution_count": null,
   "metadata": {},
   "outputs": [],
   "source": [
    "jul.shape"
   ]
  },
  {
   "cell_type": "markdown",
   "metadata": {},
   "source": [
    "### Factor Buckets"
   ]
  },
  {
   "cell_type": "code",
   "execution_count": null,
   "metadata": {
    "scrolled": true
   },
   "outputs": [],
   "source": [
    "jul = assign_bkts(jul, \"Inv\", [.3, .7, 1.])\n",
    "jul[[\"PERMNO\", \"HP\", \"InvBkt\"]].set_index(\"HP\").to_csv(\"C:/Data/Thesis/Bkts_Inv_3.csv\")"
   ]
  },
  {
   "cell_type": "markdown",
   "metadata": {},
   "source": [
    "### Quartiles"
   ]
  },
  {
   "cell_type": "code",
   "execution_count": null,
   "metadata": {
    "scrolled": true
   },
   "outputs": [],
   "source": [
    "jul = assign_bkts(jul, \"Inv\", [.25, .5, .75, 1.])\n",
    "jul[[\"PERMNO\", \"HP\", \"InvBkt\"]].set_index(\"HP\").to_csv(\"C:/Data/Thesis/Bkts_Inv_4.csv\")"
   ]
  },
  {
   "cell_type": "markdown",
   "metadata": {},
   "source": [
    "### Quintiles"
   ]
  },
  {
   "cell_type": "code",
   "execution_count": null,
   "metadata": {
    "scrolled": true
   },
   "outputs": [],
   "source": [
    "jul = assign_bkts(jul, \"Inv\", [.2, .4, .6, .8, 1.])\n",
    "jul[[\"PERMNO\", \"HP\", \"InvBkt\"]].set_index(\"HP\").to_csv(\"C:/Data/Thesis/Bkts_Inv_5.csv\")"
   ]
  },
  {
   "cell_type": "markdown",
   "metadata": {},
   "source": [
    "### Deciles"
   ]
  },
  {
   "cell_type": "code",
   "execution_count": null,
   "metadata": {
    "scrolled": true
   },
   "outputs": [],
   "source": [
    "jul = assign_bkts(jul, \"Inv\", [.1, .2, .3, .4, .5, .6, .7, .8, .9, 1.])\n",
    "jul[[\"PERMNO\", \"HP\", \"InvBkt\"]].set_index(\"HP\").to_csv(\"C:/Data/Thesis/Bkts_Inv_10.csv\")"
   ]
  },
  {
   "cell_type": "markdown",
   "metadata": {},
   "source": [
    "Let's use the decile breakpoints to check how close we get to the returns from Kenneth French's website for 10 value buckets."
   ]
  },
  {
   "cell_type": "code",
   "execution_count": null,
   "metadata": {},
   "outputs": [],
   "source": [
    "df = df.merge(jul[[\"PERMNO\", \"HP\", \"InvBkt\"]], on=[\"PERMNO\", \"HP\"], how=\"left\")  # could use inner here"
   ]
  },
  {
   "cell_type": "code",
   "execution_count": null,
   "metadata": {},
   "outputs": [],
   "source": [
    "((df.InvBkt.isna()) & (~df.ME_Jun.isna())).sum()  / df.PERMNO.count()"
   ]
  },
  {
   "cell_type": "code",
   "execution_count": null,
   "metadata": {},
   "outputs": [],
   "source": [
    "df[\"BktSize\"] = df[(~df.ME_Jun.isna()) & (~df.Inv.isna())].groupby([\"InvBkt\", \"date\"]).Size.transform(\"sum\")  # dplyr `mutate`\n",
    "df[\"WtRET\"] = df.Size * df.RET / df.BktSize\n",
    "bkt = df[(~df.ME_Jun.isna()) & (~df.Inv.isna())].groupby([\"InvBkt\", \"date\"]).WtRET.sum()"
   ]
  },
  {
   "cell_type": "markdown",
   "metadata": {},
   "source": [
    "Not bad :)"
   ]
  },
  {
   "cell_type": "code",
   "execution_count": null,
   "metadata": {},
   "outputs": [],
   "source": [
    "# 1.14, 1.17, 1.04, 0.99, 0.96, 0.95, 0.99, 0.91, 0.99, 0.72"
   ]
  },
  {
   "cell_type": "code",
   "execution_count": null,
   "metadata": {},
   "outputs": [],
   "source": [
    "(bkt.unstack(level=0)[\"1963-07\":\"2017-12\"].mean()*100).round(2)"
   ]
  },
  {
   "cell_type": "markdown",
   "metadata": {},
   "source": [
    "# Create Factors"
   ]
  },
  {
   "cell_type": "code",
   "execution_count": null,
   "metadata": {},
   "outputs": [],
   "source": [
    "df.columns"
   ]
  },
  {
   "cell_type": "code",
   "execution_count": null,
   "metadata": {},
   "outputs": [],
   "source": [
    "for bkt in [\"ME_JunBkt\", \"PriorBkt\", \"BMBkt\", \"BMmBkt\", \"OP06Bkt\", \"OP16Bkt\", \"CPBkt\", \"InvBkt\"]:\n",
    "    try:\n",
    "        df = df.drop(bkt, axis=1)\n",
    "    except ValueError:\n",
    "        print(\"{} not in df\".format(bkt))"
   ]
  },
  {
   "cell_type": "code",
   "execution_count": null,
   "metadata": {},
   "outputs": [],
   "source": [
    "for nonsense in [\"COMNAM\", \"CUSIP\", \"PAYDT\", \"DIVAMT\", \"ACPERM\", \"VOL\", \"SPREAD\", \"vwretd\", \"ewretd\",\n",
    "                 \"sprtrn\", \"BktSize\", \"WtRET\", \"PriorRET\"]:\n",
    "    try:\n",
    "        df = df.drop(nonsense, axis=1)\n",
    "    except ValueError:\n",
    "        print(\"{} not in df\".format(nonsense))"
   ]
  },
  {
   "cell_type": "code",
   "execution_count": null,
   "metadata": {},
   "outputs": [],
   "source": [
    "df.columns"
   ]
  },
  {
   "cell_type": "markdown",
   "metadata": {},
   "source": [
    "Size buckets are the same for each factor."
   ]
  },
  {
   "cell_type": "code",
   "execution_count": null,
   "metadata": {},
   "outputs": [],
   "source": [
    "size_bkts = pd.read_csv(\"C:/Data/Thesis/Bkts_Jun_ME_2.csv\")"
   ]
  },
  {
   "cell_type": "code",
   "execution_count": null,
   "metadata": {},
   "outputs": [],
   "source": [
    "df = df.merge(size_bkts, on=[\"PERMNO\", \"HP\"], how=\"left\")"
   ]
  },
  {
   "cell_type": "markdown",
   "metadata": {},
   "source": [
    "## Value"
   ]
  },
  {
   "cell_type": "code",
   "execution_count": null,
   "metadata": {},
   "outputs": [],
   "source": [
    "BM_bkts = pd.read_csv(\"C:/Data/Thesis/Bkts_BM_3.csv\")\n",
    "\n",
    "df = df.merge(BM_bkts, on=[\"PERMNO\", \"HP\"], how=\"left\")\n",
    "\n",
    "grp, ix = [\"date\", \"ME_JunBkt\", \"BMBkt\"], (df.BMOK) & (~df.ME_Jun.isna())\n",
    "\n",
    "df[\"BktSize\"] = df[ix].groupby(grp)[\"Size\"].transform(\"sum\")\n",
    "df[\"WtRET\"] = df.RET * df.Size / df.BktSize\n",
    "bkt = df[ix].groupby(grp).WtRET.sum()\n",
    "bkt = bkt.reset_index([\"ME_JunBkt\", \"BMBkt\"])\n",
    "bkt[\"HML\"] = bkt.ME_JunBkt.astype(\"int\").astype(\"str\") + bkt.BMBkt.astype(\"int\").astype(\"str\")\n",
    "bkt = bkt.pivot(columns=\"HML\", values=\"WtRET\")\n",
    "\n",
    "bkt[\"HMLs\"] = bkt[\"13\"] - bkt[\"11\"]\n",
    "bkt[\"HMLb\"] = bkt[\"23\"] - bkt[\"21\"]\n",
    "bkt[\"HML\"] = (bkt.HMLs + bkt.HMLb) / 2\n",
    "\n",
    "HML = bkt[[\"HML\", \"HMLs\", \"HMLb\"]]"
   ]
  },
  {
   "cell_type": "markdown",
   "metadata": {},
   "source": [
    "Not bad :)"
   ]
  },
  {
   "cell_type": "code",
   "execution_count": null,
   "metadata": {},
   "outputs": [],
   "source": [
    "# 0.91, 1.27, 1.40, 0.90, 0.93, 1.10"
   ]
  },
  {
   "cell_type": "code",
   "execution_count": null,
   "metadata": {},
   "outputs": [],
   "source": [
    "\"HMLs: {:.2f}, HMLb: {:.2f}, HML: {:.2f}\".format(1.4-.91, 1.1-.9, (1.4-.91 + 1.1-.9)/2)"
   ]
  },
  {
   "cell_type": "code",
   "execution_count": null,
   "metadata": {},
   "outputs": [],
   "source": [
    "(bkt[\"1963-07\":\"2017-12\"].mean()*100).round(2)"
   ]
  },
  {
   "cell_type": "code",
   "execution_count": null,
   "metadata": {},
   "outputs": [],
   "source": [
    "bkt[\"1963-07\":\"2017-12\"].to_csv(\"C:/Data/Thesis/HML.csv\")"
   ]
  },
  {
   "cell_type": "code",
   "execution_count": null,
   "metadata": {},
   "outputs": [],
   "source": [
    "ME_brk = pd.read_csv(\"C:/Data/Thesis/Brks_Months_ME.csv\")\n",
    "ME_brk = ME_brk.rename(columns={\"0.5\": .5, \"1\":1.})\n",
    "ME_brk.date = pd.to_datetime(ME_brk.date, format=\"%m/%d/%Y\").astype(pd.Timestamp)\n",
    "\n",
    "df = df.merge(ME_brk[[\"date\", .5, 1.]], on=\"date\", how=\"left\")\n",
    "\n",
    "df = assign_bkts(df, \"ME\", [.5, 1.])\n",
    "df[\"L1_MEBkt\"] = df.groupby(\"PERMNO\")[\"MEBkt\"].shift(1)\n",
    "df = df.drop([.5, 1.], axis=1)"
   ]
  },
  {
   "cell_type": "code",
   "execution_count": null,
   "metadata": {},
   "outputs": [],
   "source": [
    "BMm_bkts = pd.read_csv(\"C:/Data/Thesis/Bkts_BMm_3.csv\")\n",
    "BMm_bkts.date = pd.to_datetime(BMm_bkts.date).astype(pd.Timestamp)\n",
    "\n",
    "df = df.merge(BMm_bkts, on=[\"PERMNO\", \"date\"], how=\"left\")\n",
    "\n",
    "grp, ix = [\"date\", \"L1_MEBkt\", \"BMmBkt\"], (df.BMOK) & (~df.L1_ME.isna())\n",
    "\n",
    "df[\"BktSize\"] = df[ix].groupby(grp)[\"L1_ME\"].transform(\"sum\")\n",
    "df[\"WtRET\"] = df.RET * df.L1_ME / df.BktSize\n",
    "bkt = df[ix].groupby(grp).WtRET.sum()\n",
    "\n",
    "bkt = bkt.reset_index([\"L1_MEBkt\", \"BMmBkt\"])\n",
    "bkt[\"HMLm\"] = bkt.L1_MEBkt.astype(\"int\").astype(\"str\") + bkt.BMmBkt.astype(\"int\").astype(\"str\")\n",
    "bkt = bkt.pivot(columns=\"HMLm\", values=\"WtRET\")\n",
    "\n",
    "bkt[\"HMLms\"] = bkt[\"13\"] - bkt[\"11\"]\n",
    "bkt[\"HMLmb\"] = bkt[\"23\"] - bkt[\"21\"]\n",
    "bkt[\"HMLm\"] = (bkt.HMLms + bkt.HMLmb) / 2\n",
    "\n",
    "HMLm = bkt[[\"HMLm\", \"HMLms\", \"HMLmb\"]]"
   ]
  },
  {
   "cell_type": "code",
   "execution_count": null,
   "metadata": {},
   "outputs": [],
   "source": [
    "(bkt[\"1963-07\":\"2017-12\"].mean()*100).round(2)"
   ]
  },
  {
   "cell_type": "code",
   "execution_count": null,
   "metadata": {},
   "outputs": [],
   "source": [
    "bkt[\"1963-07\":\"2017-12\"].to_csv(\"C:/Data/Thesis/HMLm.csv\")"
   ]
  },
  {
   "cell_type": "markdown",
   "metadata": {},
   "source": [
    "## Profit"
   ]
  },
  {
   "cell_type": "code",
   "execution_count": null,
   "metadata": {},
   "outputs": [],
   "source": [
    "OP06_bkts = pd.read_csv(\"C:/Data/Thesis/Bkts_OP06_3.csv\")\n",
    "\n",
    "df = df.merge(OP06_bkts, on=[\"PERMNO\", \"HP\"], how=\"left\")\n",
    "\n",
    "grp, ix = [\"date\", \"ME_JunBkt\", \"OP06Bkt\"], (df.OP06OK) & (~df.ME_Jun.isna())\n",
    "\n",
    "df[\"BktSize\"] = df[ix].groupby(grp)[\"Size\"].transform(\"sum\")\n",
    "df[\"WtRET\"] = df.RET * df.Size / df.BktSize\n",
    "bkt = df[ix].groupby(grp).WtRET.sum()\n",
    "bkt = bkt.reset_index([\"ME_JunBkt\", \"OP06Bkt\"])\n",
    "bkt[\"PMU06\"] = bkt.ME_JunBkt.astype(\"int\").astype(\"str\") + bkt.OP06Bkt.astype(\"int\").astype(\"str\")\n",
    "bkt = bkt.pivot(columns=\"PMU06\", values=\"WtRET\")\n",
    "\n",
    "bkt[\"PMU06s\"] = bkt[\"13\"] - bkt[\"11\"]\n",
    "bkt[\"PMU06b\"] = bkt[\"23\"] - bkt[\"21\"]\n",
    "bkt[\"PMU06\"] = (bkt.PMU06s + bkt.PMU06b) / 2\n",
    "\n",
    "PMU06 = bkt[[\"PMU06\", \"PMU06s\", \"PMU06b\"]]"
   ]
  },
  {
   "cell_type": "markdown",
   "metadata": {},
   "source": [
    "Not bad :)"
   ]
  },
  {
   "cell_type": "code",
   "execution_count": null,
   "metadata": {},
   "outputs": [],
   "source": [
    "# 1.00, 1.24, 1.32, 0.81, 0.87, 0.99"
   ]
  },
  {
   "cell_type": "code",
   "execution_count": null,
   "metadata": {},
   "outputs": [],
   "source": [
    "\"PMU06s: {:.2f}, PMU06b: {:.2f}, PMU06: {:.2f}\".format(1.32-1., .99-.81, (1.32-1. + .99-.81)/2)"
   ]
  },
  {
   "cell_type": "code",
   "execution_count": null,
   "metadata": {},
   "outputs": [],
   "source": [
    "(bkt[\"1963-07\":\"2017-12\"].mean()*100).round(2)"
   ]
  },
  {
   "cell_type": "code",
   "execution_count": null,
   "metadata": {},
   "outputs": [],
   "source": [
    "bkt[\"1963-07\":\"2017-12\"].to_csv(\"C:/Data/Thesis/OP06.csv\")"
   ]
  },
  {
   "cell_type": "code",
   "execution_count": null,
   "metadata": {},
   "outputs": [],
   "source": [
    "OP16_bkts = pd.read_csv(\"C:/Data/Thesis/Bkts_OP16_3.csv\")\n",
    "\n",
    "df = df.merge(OP16_bkts, on=[\"PERMNO\", \"HP\"], how=\"left\")\n",
    "\n",
    "grp, ix = [\"date\", \"ME_JunBkt\", \"OP16Bkt\"], (df.OP06OK) & (~df.ME_Jun.isna())\n",
    "\n",
    "df[\"BktSize\"] = df[ix].groupby(grp)[\"Size\"].transform(\"sum\")\n",
    "df[\"WtRET\"] = df.RET * df.Size / df.BktSize\n",
    "bkt = df[ix].groupby(grp).WtRET.sum()\n",
    "bkt = bkt.reset_index([\"ME_JunBkt\", \"OP16Bkt\"])\n",
    "bkt[\"PMU16\"] = bkt.ME_JunBkt.astype(\"int\").astype(\"str\") + bkt.OP16Bkt.astype(\"int\").astype(\"str\")\n",
    "bkt = bkt.pivot(columns=\"PMU16\", values=\"WtRET\")\n",
    "\n",
    "bkt[\"PMU16s\"] = bkt[\"13\"] - bkt[\"11\"]\n",
    "bkt[\"PMU16b\"] = bkt[\"23\"] - bkt[\"21\"]\n",
    "bkt[\"PMU16\"] = (bkt.PMU16s + bkt.PMU16b) / 2\n",
    "\n",
    "PMU16 = bkt[[\"PMU16\", \"PMU16s\", \"PMU16b\"]]"
   ]
  },
  {
   "cell_type": "code",
   "execution_count": null,
   "metadata": {},
   "outputs": [],
   "source": [
    "(bkt[\"1963-07\":\"2017-12\"].mean()*100).round(2)"
   ]
  },
  {
   "cell_type": "code",
   "execution_count": null,
   "metadata": {},
   "outputs": [],
   "source": [
    "bkt[\"1963-07\":\"2017-12\"].to_csv(\"C:/Data/Thesis/OP16.csv\")"
   ]
  },
  {
   "cell_type": "code",
   "execution_count": null,
   "metadata": {},
   "outputs": [],
   "source": [
    "CP_bkts = pd.read_csv(\"C:/Data/Thesis/Bkts_CP_3.csv\")\n",
    "\n",
    "df = df.merge(CP_bkts, on=[\"PERMNO\", \"HP\"], how=\"left\")\n",
    "\n",
    "grp, ix = [\"date\", \"ME_JunBkt\", \"CPBkt\"], (df.OP06OK) & (~df.ME_Jun.isna())\n",
    "\n",
    "df[\"BktSize\"] = df[ix].groupby(grp)[\"Size\"].transform(\"sum\")\n",
    "df[\"WtRET\"] = df.RET * df.Size / df.BktSize\n",
    "bkt = df[ix].groupby(grp).WtRET.sum()\n",
    "bkt = bkt.reset_index([\"ME_JunBkt\", \"CPBkt\"])\n",
    "bkt[\"PMU\"] = bkt.ME_JunBkt.astype(\"int\").astype(\"str\") + bkt.CPBkt.astype(\"int\").astype(\"str\")\n",
    "bkt = bkt.pivot(columns=\"PMU\", values=\"WtRET\")\n",
    "\n",
    "bkt[\"PMUs\"] = bkt[\"13\"] - bkt[\"11\"]\n",
    "bkt[\"PMUb\"] = bkt[\"23\"] - bkt[\"21\"]\n",
    "bkt[\"PMU\"] = (bkt.PMUs + bkt.PMUb) / 2\n",
    "\n",
    "PMU = bkt[[\"PMU\", \"PMUs\", \"PMUb\"]]"
   ]
  },
  {
   "cell_type": "code",
   "execution_count": null,
   "metadata": {},
   "outputs": [],
   "source": [
    "(bkt[\"1963-07\":\"2017-12\"].mean()*100).round(2)"
   ]
  },
  {
   "cell_type": "code",
   "execution_count": null,
   "metadata": {},
   "outputs": [],
   "source": [
    "bkt[\"1963-07\":\"2017-12\"].to_csv(\"C:/Data/Thesis/CP.csv\")"
   ]
  },
  {
   "cell_type": "markdown",
   "metadata": {},
   "source": [
    "## Investment"
   ]
  },
  {
   "cell_type": "code",
   "execution_count": null,
   "metadata": {},
   "outputs": [],
   "source": [
    "Inv_bkts = pd.read_csv(\"C:/Data/Thesis/Bkts_Inv_3.csv\")\n",
    "\n",
    "df = df.merge(Inv_bkts, on=[\"PERMNO\", \"HP\"], how=\"left\")\n",
    "\n",
    "grp, ix = [\"date\", \"ME_JunBkt\", \"InvBkt\"], (~df.Inv.isna()) & (~df.ME_Jun.isna())\n",
    "\n",
    "df[\"BktSize\"] = df[ix].groupby(grp)[\"Size\"].transform(\"sum\")\n",
    "df[\"WtRET\"] = df.RET * df.Size / df.BktSize\n",
    "bkt = df[ix].groupby(grp).WtRET.sum()\n",
    "bkt = bkt.reset_index([\"ME_JunBkt\", \"InvBkt\"])\n",
    "bkt[\"CMA\"] = bkt.ME_JunBkt.astype(\"int\").astype(\"str\") + bkt.InvBkt.astype(\"int\").astype(\"str\")\n",
    "bkt = bkt.pivot(columns=\"CMA\", values=\"WtRET\")\n",
    "\n",
    "bkt[\"CMAs\"] = bkt[\"11\"] - bkt[\"13\"]\n",
    "bkt[\"CMAb\"] = bkt[\"21\"] - bkt[\"23\"]\n",
    "bkt[\"CMA\"] = (bkt.CMAs + bkt.CMAb) / 2\n",
    "\n",
    "CMA = bkt[[\"CMA\", \"CMAs\", \"CMAb\"]]"
   ]
  },
  {
   "cell_type": "markdown",
   "metadata": {},
   "source": [
    "Not great :|"
   ]
  },
  {
   "cell_type": "code",
   "execution_count": null,
   "metadata": {},
   "outputs": [],
   "source": [
    "# 1.33, 1.31, 0.95, 1.06, 0.94, 0.87"
   ]
  },
  {
   "cell_type": "code",
   "execution_count": null,
   "metadata": {},
   "outputs": [],
   "source": [
    "\"CMAs: {:.2f}, CMAb: {:.2f}, CMA: {:.2f}\".format(1.33-.95, 1.06-.87, (1.33-.95 + 1.06-.87)/2)"
   ]
  },
  {
   "cell_type": "code",
   "execution_count": null,
   "metadata": {},
   "outputs": [],
   "source": [
    "(bkt[\"1963-07\":\"2017-12\"].mean()*100).round(2)"
   ]
  },
  {
   "cell_type": "code",
   "execution_count": null,
   "metadata": {},
   "outputs": [],
   "source": [
    "bkt[\"1963-07\":\"2017-12\"].to_csv(\"C:/Data/Thesis/Inv.csv\")"
   ]
  },
  {
   "cell_type": "markdown",
   "metadata": {},
   "source": [
    "## Prior"
   ]
  },
  {
   "cell_type": "code",
   "execution_count": null,
   "metadata": {},
   "outputs": [],
   "source": [
    "Prior_bkts = pd.read_csv(\"C:/Data/Thesis/Bkts_Prior_3.csv\")\n",
    "Prior_bkts.date = pd.to_datetime(Prior_bkts.date).astype(pd.Timestamp)\n",
    "\n",
    "df = df.merge(Prior_bkts, on=[\"PERMNO\", \"date\"], how=\"left\")\n",
    "\n",
    "grp, ix = [\"date\", \"L1_MEBkt\", \"PriorBkt\"], (df.PriorOK) & (~df.L1_ME.isna())\n",
    "\n",
    "df[\"BktSize\"] = df[ix].groupby(grp)[\"L1_ME\"].transform(\"sum\")\n",
    "df[\"WtRET\"] = df.RET * df.L1_ME / df.BktSize\n",
    "bkt = df[ix].groupby(grp).WtRET.sum()\n",
    "\n",
    "bkt = bkt.reset_index([\"L1_MEBkt\", \"PriorBkt\"])\n",
    "bkt[\"WML\"] = bkt.L1_MEBkt.astype(\"int\").astype(\"str\") + bkt.PriorBkt.astype(\"int\").astype(\"str\")\n",
    "bkt = bkt.pivot(columns=\"WML\", values=\"WtRET\")\n",
    "\n",
    "bkt[\"WMLs\"] = bkt[\"13\"] - bkt[\"11\"]\n",
    "bkt[\"WMLb\"] = bkt[\"23\"] - bkt[\"21\"]\n",
    "bkt[\"WML\"] = (bkt.WMLs + bkt.WMLb) / 2\n",
    "\n",
    "WML = bkt[[\"WML\", \"WML\", \"WML\"]]"
   ]
  },
  {
   "cell_type": "markdown",
   "metadata": {},
   "source": [
    "Not great :|"
   ]
  },
  {
   "cell_type": "code",
   "execution_count": null,
   "metadata": {},
   "outputs": [],
   "source": [
    "# 0.68, 1.21, 1.57, 0.73, 0.84, 1.16"
   ]
  },
  {
   "cell_type": "code",
   "execution_count": null,
   "metadata": {},
   "outputs": [],
   "source": [
    "\"WMLs: {:.2f}, WMLb: {:.2f}, WML: {:.2f}\".format(1.57-.68, 1.16-.73, (1.57-.68 + 1.16-.73) / 2)"
   ]
  },
  {
   "cell_type": "code",
   "execution_count": null,
   "metadata": {},
   "outputs": [],
   "source": [
    "(bkt[\"1963-07\":\"2017-12\"].mean()*100).round(2)"
   ]
  },
  {
   "cell_type": "code",
   "execution_count": null,
   "metadata": {},
   "outputs": [],
   "source": [
    "bkt[\"1963-07\":\"2017-12\"].to_csv(\"C:/Data/Thesis/WML.csv\")"
   ]
  },
  {
   "cell_type": "code",
   "execution_count": null,
   "metadata": {},
   "outputs": [],
   "source": [
    "HML.HML.head()"
   ]
  },
  {
   "cell_type": "code",
   "execution_count": null,
   "metadata": {},
   "outputs": [],
   "source": [
    "HMLm.HMLm.head()"
   ]
  },
  {
   "cell_type": "markdown",
   "metadata": {},
   "source": [
    "## Combined Factors File"
   ]
  },
  {
   "cell_type": "code",
   "execution_count": null,
   "metadata": {},
   "outputs": [],
   "source": [
    "f = pd.concat([HML, HMLm, PMU06, PMU16, PMU, CMA, WML], axis=1)[\"1963-07\":\"2017-12\"]"
   ]
  },
  {
   "cell_type": "code",
   "execution_count": null,
   "metadata": {},
   "outputs": [],
   "source": [
    "f.to_csv(\"C:/Data/Thesis/_MyFactors.csv\")"
   ]
  },
  {
   "cell_type": "markdown",
   "metadata": {},
   "source": [
    "# Size-BMm-Prior Sorts"
   ]
  },
  {
   "cell_type": "code",
   "execution_count": 119,
   "metadata": {},
   "outputs": [],
   "source": [
    "size_bkts = pd.read_csv(\"C:/Data/Thesis/Bkts_Jun_ME_2.csv\")\n",
    "\n",
    "df = df.merge(size_bkts, on=[\"PERMNO\", \"HP\"], how=\"left\")"
   ]
  },
  {
   "cell_type": "markdown",
   "metadata": {},
   "source": [
    "## Small"
   ]
  },
  {
   "cell_type": "code",
   "execution_count": 176,
   "metadata": {},
   "outputs": [
    {
     "data": {
      "text/plain": [
       "(2370047, 40)"
      ]
     },
     "execution_count": 176,
     "metadata": {},
     "output_type": "execute_result"
    }
   ],
   "source": [
    "sub_df = df[df.ME_JunBkt==1]\n",
    "\n",
    "sub_df.shape"
   ]
  },
  {
   "cell_type": "markdown",
   "metadata": {},
   "source": [
    "Monthly value and prior buckets are assigned within size buckets."
   ]
  },
  {
   "cell_type": "code",
   "execution_count": 177,
   "metadata": {},
   "outputs": [],
   "source": [
    "brk = sub_df[[\"date\", \"BMm\"]][(sub_df.EXCHCD==1) & (sub_df.BMmOK)].groupby(\"date\")\n",
    "brk = brk.quantile(pd.np.array(range(1, 21))/20).unstack()\n",
    "brk.columns = brk.columns.droplevel(0)\n",
    "\n",
    "brk.to_csv(\"C:/Data/Thesis/Brks_Small_BMm.csv\")  # column headers are decimals, potential floating point precision garbage\n",
    "\n",
    "sub_df = sub_df.merge(brk.reset_index(\"date\"), on=\"date\", how=\"left\")\n",
    "\n",
    "sub_df = assign_bkts(sub_df, \"BMm\", [.25, .5, .75, 1.])\n",
    "\n",
    "sub_df = sub_df.drop(pd.np.array(range(1, 21))/20, axis=1)"
   ]
  },
  {
   "cell_type": "code",
   "execution_count": 178,
   "metadata": {},
   "outputs": [],
   "source": [
    "brk = sub_df[[\"date\", \"Prior\"]][(sub_df.EXCHCD==1) & (sub_df.PriorOK)].groupby(\"date\")\n",
    "brk = brk.quantile(pd.np.array(range(1, 21))/20).unstack()\n",
    "brk.columns = brk.columns.droplevel(0)\n",
    "\n",
    "brk.to_csv(\"C:/Data/Thesis/Brks_Small_Prior.csv\")  # column headers are decimals, potential floating point precision garbage\n",
    "\n",
    "sub_df = sub_df.merge(brk.reset_index(\"date\"), on=\"date\", how=\"left\")\n",
    "\n",
    "sub_df = assign_bkts(sub_df, \"Prior\", [.25, .5, .75, 1.])\n",
    "\n",
    "sub_df = sub_df.drop(pd.np.array(range(1, 21))/20, axis=1)"
   ]
  },
  {
   "cell_type": "markdown",
   "metadata": {},
   "source": [
    "Small returns"
   ]
  },
  {
   "cell_type": "code",
   "execution_count": 179,
   "metadata": {},
   "outputs": [],
   "source": [
    "grp, ix = [\"date\", \"BMmBkt\", \"PriorBkt\"], ((sub_df.BMmOK) & (sub_df.Prior))\n",
    "\n",
    "sub_df[\"BktSize\"] = sub_df[ix].groupby(grp)[\"L1_ME\"].transform(\"sum\")\n",
    "sub_df[\"WtRET\"] = sub_df.RET * sub_df.L1_ME / sub_df.BktSize\n",
    "bkt = sub_df[ix].groupby(grp).WtRET.sum()\n",
    "bkt = bkt.reset_index(grp[1:])\n",
    "bkt[grp[1]+grp[2]] = \"S\" + bkt[grp[1]].astype(\"int\").astype(\"str\") + bkt[grp[2]].astype(\"int\").astype(\"str\")\n",
    "small_bkt = bkt.pivot(columns=grp[1]+grp[2], values=\"WtRET\")"
   ]
  },
  {
   "cell_type": "markdown",
   "metadata": {},
   "source": [
    "## Big"
   ]
  },
  {
   "cell_type": "code",
   "execution_count": 180,
   "metadata": {},
   "outputs": [
    {
     "data": {
      "text/plain": [
       "(581661, 40)"
      ]
     },
     "execution_count": 180,
     "metadata": {},
     "output_type": "execute_result"
    }
   ],
   "source": [
    "sub_df = df[df.ME_JunBkt==2]\n",
    "\n",
    "sub_df.shape"
   ]
  },
  {
   "cell_type": "markdown",
   "metadata": {},
   "source": [
    "Monthly value and prior buckets are assigned within size buckets."
   ]
  },
  {
   "cell_type": "code",
   "execution_count": 181,
   "metadata": {},
   "outputs": [],
   "source": [
    "brk = sub_df[[\"date\", \"BMm\"]][(sub_df.EXCHCD==1) & (sub_df.BMmOK)].groupby(\"date\")\n",
    "brk = brk.quantile(pd.np.array(range(1, 21))/20).unstack()\n",
    "brk.columns = brk.columns.droplevel(0)\n",
    "\n",
    "brk.to_csv(\"C:/Data/Thesis/Brks_Big_BMm.csv\")  # column headers are decimals, potential floating point precision garbage\n",
    "\n",
    "sub_df = sub_df.merge(brk.reset_index(\"date\"), on=\"date\", how=\"left\")\n",
    "\n",
    "sub_df = assign_bkts(sub_df, \"BMm\", [.25, .5, .75, 1.])\n",
    "\n",
    "sub_df = sub_df.drop(pd.np.array(range(1, 21))/20, axis=1)"
   ]
  },
  {
   "cell_type": "code",
   "execution_count": 182,
   "metadata": {},
   "outputs": [],
   "source": [
    "brk = sub_df[[\"date\", \"Prior\"]][(sub_df.EXCHCD==1) & (sub_df.PriorOK)].groupby(\"date\")\n",
    "brk = brk.quantile(pd.np.array(range(1, 21))/20).unstack()\n",
    "brk.columns = brk.columns.droplevel(0)\n",
    "\n",
    "brk.to_csv(\"C:/Data/Thesis/Brks_Big_Prior.csv\")  # column headers are decimals, potential floating point precision garbage\n",
    "\n",
    "sub_df = sub_df.merge(brk.reset_index(\"date\"), on=\"date\", how=\"left\")\n",
    "\n",
    "sub_df = assign_bkts(sub_df, \"Prior\", [.25, .5, .75, 1.])\n",
    "\n",
    "sub_df = sub_df.drop(pd.np.array(range(1, 21))/20, axis=1)"
   ]
  },
  {
   "cell_type": "markdown",
   "metadata": {},
   "source": [
    "Big returns"
   ]
  },
  {
   "cell_type": "code",
   "execution_count": 184,
   "metadata": {},
   "outputs": [],
   "source": [
    "grp, ix = [\"date\", \"BMmBkt\", \"PriorBkt\"], ((sub_df.BMmOK) & (sub_df.Prior))\n",
    "\n",
    "sub_df[\"BktSize\"] = sub_df[ix].groupby(grp)[\"L1_ME\"].transform(\"sum\")\n",
    "sub_df[\"WtRET\"] = sub_df.RET * sub_df.L1_ME / sub_df.BktSize\n",
    "bkt = sub_df[ix].groupby(grp).WtRET.sum()\n",
    "bkt = bkt.reset_index(grp[1:])\n",
    "bkt[grp[1]+grp[2]] = \"B\" + bkt[grp[1]].astype(\"int\").astype(\"str\") + bkt[grp[2]].astype(\"int\").astype(\"str\")\n",
    "big_bkt = bkt.pivot(columns=grp[1]+grp[2], values=\"WtRET\")"
   ]
  },
  {
   "cell_type": "markdown",
   "metadata": {},
   "source": [
    "## Combined 32 Buckets"
   ]
  },
  {
   "cell_type": "code",
   "execution_count": 189,
   "metadata": {},
   "outputs": [],
   "source": [
    "bkt = small_bkt.reset_index(\"date\").merge(big_bkt.reset_index(\"date\"), how=\"left\")"
   ]
  },
  {
   "cell_type": "code",
   "execution_count": 192,
   "metadata": {},
   "outputs": [],
   "source": [
    "(bkt.set_index(\"date\", drop=True)*100).to_csv(\"C:/Data/Thesis/32_Portfolios_BMm_Prior.csv\")"
   ]
  }
 ],
 "metadata": {
  "kernelspec": {
   "display_name": "Python 3",
   "language": "python",
   "name": "python3"
  },
  "language_info": {
   "codemirror_mode": {
    "name": "ipython",
    "version": 3
   },
   "file_extension": ".py",
   "mimetype": "text/x-python",
   "name": "python",
   "nbconvert_exporter": "python",
   "pygments_lexer": "ipython3",
   "version": "3.6.4"
  }
 },
 "nbformat": 4,
 "nbformat_minor": 2
}
