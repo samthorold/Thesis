{
 "cells": [
  {
   "cell_type": "markdown",
   "metadata": {},
   "source": [
    "# SDF"
   ]
  },
  {
   "cell_type": "code",
   "execution_count": 1,
   "metadata": {},
   "outputs": [
    {
     "name": "stderr",
     "output_type": "stream",
     "text": [
      "C:\\Users\\samth\\Miniconda3\\envs\\econ36\\lib\\site-packages\\statsmodels\\compat\\pandas.py:56: FutureWarning: The pandas.core.datetools module is deprecated and will be removed in a future version. Please use the pandas.tseries module instead.\n",
      "  from pandas.core import datetools\n"
     ]
    }
   ],
   "source": [
    "from collections import OrderedDict\n",
    "\n",
    "#import jinja2\n",
    "import matplotlib.pyplot as plot\n",
    "#import os\n",
    "import pandas as pd\n",
    "from scipy.optimize import minimize\n",
    "import statsmodels.api as sm\n",
    "\n",
    "%matplotlib inline"
   ]
  },
  {
   "cell_type": "code",
   "execution_count": 2,
   "metadata": {},
   "outputs": [
    {
     "data": {
      "text/html": [
       "<div>\n",
       "<style scoped>\n",
       "    .dataframe tbody tr th:only-of-type {\n",
       "        vertical-align: middle;\n",
       "    }\n",
       "\n",
       "    .dataframe tbody tr th {\n",
       "        vertical-align: top;\n",
       "    }\n",
       "\n",
       "    .dataframe thead th {\n",
       "        text-align: right;\n",
       "    }\n",
       "</style>\n",
       "<table border=\"1\" class=\"dataframe\">\n",
       "  <thead>\n",
       "    <tr style=\"text-align: right;\">\n",
       "      <th></th>\n",
       "      <th>rf</th>\n",
       "      <th>rm</th>\n",
       "      <th>smb</th>\n",
       "      <th>hml</th>\n",
       "      <th>rmw</th>\n",
       "      <th>cma</th>\n",
       "      <th>wml</th>\n",
       "      <th>str</th>\n",
       "      <th>hmlm</th>\n",
       "      <th>bab</th>\n",
       "      <th>qmj</th>\n",
       "      <th>HML</th>\n",
       "      <th>HMLm</th>\n",
       "      <th>PMU06</th>\n",
       "      <th>PMU16</th>\n",
       "      <th>PMU</th>\n",
       "      <th>CMA</th>\n",
       "      <th>WML</th>\n",
       "    </tr>\n",
       "    <tr>\n",
       "      <th>date</th>\n",
       "      <th></th>\n",
       "      <th></th>\n",
       "      <th></th>\n",
       "      <th></th>\n",
       "      <th></th>\n",
       "      <th></th>\n",
       "      <th></th>\n",
       "      <th></th>\n",
       "      <th></th>\n",
       "      <th></th>\n",
       "      <th></th>\n",
       "      <th></th>\n",
       "      <th></th>\n",
       "      <th></th>\n",
       "      <th></th>\n",
       "      <th></th>\n",
       "      <th></th>\n",
       "      <th></th>\n",
       "    </tr>\n",
       "  </thead>\n",
       "  <tbody>\n",
       "    <tr>\n",
       "      <th>1963-07-01</th>\n",
       "      <td>0.27</td>\n",
       "      <td>-0.39</td>\n",
       "      <td>-0.46</td>\n",
       "      <td>-0.81</td>\n",
       "      <td>0.72</td>\n",
       "      <td>-1.16</td>\n",
       "      <td>0.99</td>\n",
       "      <td>-0.04</td>\n",
       "      <td>-0.59</td>\n",
       "      <td>0.81</td>\n",
       "      <td>0.47</td>\n",
       "      <td>-0.721155</td>\n",
       "      <td>-0.864465</td>\n",
       "      <td>0.888426</td>\n",
       "      <td>0.739828</td>\n",
       "      <td>0.355650</td>\n",
       "      <td>-1.132040</td>\n",
       "      <td>0.550726</td>\n",
       "    </tr>\n",
       "    <tr>\n",
       "      <th>1963-08-01</th>\n",
       "      <td>0.25</td>\n",
       "      <td>5.07</td>\n",
       "      <td>-0.81</td>\n",
       "      <td>1.65</td>\n",
       "      <td>0.42</td>\n",
       "      <td>-0.40</td>\n",
       "      <td>1.08</td>\n",
       "      <td>1.36</td>\n",
       "      <td>0.28</td>\n",
       "      <td>-1.22</td>\n",
       "      <td>-0.63</td>\n",
       "      <td>1.000628</td>\n",
       "      <td>-0.060107</td>\n",
       "      <td>0.212301</td>\n",
       "      <td>0.470122</td>\n",
       "      <td>0.456718</td>\n",
       "      <td>-0.070141</td>\n",
       "      <td>1.443902</td>\n",
       "    </tr>\n",
       "    <tr>\n",
       "      <th>1963-09-01</th>\n",
       "      <td>0.27</td>\n",
       "      <td>-1.57</td>\n",
       "      <td>-0.48</td>\n",
       "      <td>0.19</td>\n",
       "      <td>-0.80</td>\n",
       "      <td>0.23</td>\n",
       "      <td>0.13</td>\n",
       "      <td>1.20</td>\n",
       "      <td>0.27</td>\n",
       "      <td>1.07</td>\n",
       "      <td>0.61</td>\n",
       "      <td>1.045719</td>\n",
       "      <td>1.463823</td>\n",
       "      <td>-1.169019</td>\n",
       "      <td>-1.130309</td>\n",
       "      <td>-0.665664</td>\n",
       "      <td>-0.361107</td>\n",
       "      <td>0.267052</td>\n",
       "    </tr>\n",
       "    <tr>\n",
       "      <th>1963-10-01</th>\n",
       "      <td>0.29</td>\n",
       "      <td>2.53</td>\n",
       "      <td>-1.29</td>\n",
       "      <td>-0.09</td>\n",
       "      <td>2.75</td>\n",
       "      <td>-2.26</td>\n",
       "      <td>3.14</td>\n",
       "      <td>-0.66</td>\n",
       "      <td>-2.11</td>\n",
       "      <td>-1.88</td>\n",
       "      <td>2.08</td>\n",
       "      <td>-0.549914</td>\n",
       "      <td>-1.635921</td>\n",
       "      <td>2.612164</td>\n",
       "      <td>3.006009</td>\n",
       "      <td>3.007174</td>\n",
       "      <td>-1.886318</td>\n",
       "      <td>3.648531</td>\n",
       "    </tr>\n",
       "    <tr>\n",
       "      <th>1963-11-01</th>\n",
       "      <td>0.27</td>\n",
       "      <td>-0.85</td>\n",
       "      <td>-0.85</td>\n",
       "      <td>1.71</td>\n",
       "      <td>-0.34</td>\n",
       "      <td>2.22</td>\n",
       "      <td>-0.75</td>\n",
       "      <td>1.15</td>\n",
       "      <td>0.91</td>\n",
       "      <td>-0.52</td>\n",
       "      <td>-0.88</td>\n",
       "      <td>1.288533</td>\n",
       "      <td>1.400487</td>\n",
       "      <td>-0.099125</td>\n",
       "      <td>-0.481188</td>\n",
       "      <td>-0.625498</td>\n",
       "      <td>0.314912</td>\n",
       "      <td>-1.489579</td>\n",
       "    </tr>\n",
       "  </tbody>\n",
       "</table>\n",
       "</div>"
      ],
      "text/plain": [
       "              rf    rm   smb   hml   rmw   cma   wml   str  hmlm   bab   qmj  \\\n",
       "date                                                                           \n",
       "1963-07-01  0.27 -0.39 -0.46 -0.81  0.72 -1.16  0.99 -0.04 -0.59  0.81  0.47   \n",
       "1963-08-01  0.25  5.07 -0.81  1.65  0.42 -0.40  1.08  1.36  0.28 -1.22 -0.63   \n",
       "1963-09-01  0.27 -1.57 -0.48  0.19 -0.80  0.23  0.13  1.20  0.27  1.07  0.61   \n",
       "1963-10-01  0.29  2.53 -1.29 -0.09  2.75 -2.26  3.14 -0.66 -2.11 -1.88  2.08   \n",
       "1963-11-01  0.27 -0.85 -0.85  1.71 -0.34  2.22 -0.75  1.15  0.91 -0.52 -0.88   \n",
       "\n",
       "                 HML      HMLm     PMU06     PMU16       PMU       CMA  \\\n",
       "date                                                                     \n",
       "1963-07-01 -0.721155 -0.864465  0.888426  0.739828  0.355650 -1.132040   \n",
       "1963-08-01  1.000628 -0.060107  0.212301  0.470122  0.456718 -0.070141   \n",
       "1963-09-01  1.045719  1.463823 -1.169019 -1.130309 -0.665664 -0.361107   \n",
       "1963-10-01 -0.549914 -1.635921  2.612164  3.006009  3.007174 -1.886318   \n",
       "1963-11-01  1.288533  1.400487 -0.099125 -0.481188 -0.625498  0.314912   \n",
       "\n",
       "                 WML  \n",
       "date                  \n",
       "1963-07-01  0.550726  \n",
       "1963-08-01  1.443902  \n",
       "1963-09-01  0.267052  \n",
       "1963-10-01  3.648531  \n",
       "1963-11-01 -1.489579  "
      ]
     },
     "execution_count": 2,
     "metadata": {},
     "output_type": "execute_result"
    }
   ],
   "source": [
    "factors = pd.read_csv(\"C:/Data/Thesis/_Factors.csv\")\n",
    "\n",
    "myfactors = pd.read_csv(\"C:/Data/Thesis/_MyFactors.csv\")\n",
    "myfactors.iloc[:,1:] = myfactors.iloc[:,1:]*100\n",
    "\n",
    "f = pd.concat([factors, myfactors[[\"HML\", \"HMLm\", \"PMU06\", \"PMU16\", \"PMU\", \"CMA\", \"WML\"]]], axis=1)\n",
    "f.date = pd.to_datetime(f.date.astype(\"str\"), format=\"%Y%m\")\n",
    "f = f.set_index(\"date\")\n",
    "\n",
    "f.head()"
   ]
  },
  {
   "cell_type": "markdown",
   "metadata": {},
   "source": [
    "Factor weights in max Sh2 portfolio\n",
    "\n",
    "$$E(R_p) = w'\\bar{R}$$\n",
    "$$Var(R_p) = w'V_Rw$$\n",
    "$$Sh^2(f) = \\bar{f}'V_f^{-1}\\bar{f}$$"
   ]
  },
  {
   "cell_type": "code",
   "execution_count": 3,
   "metadata": {},
   "outputs": [],
   "source": [
    "def E(w, R):\n",
    "    \"\"\"Expected return on portfolio given vector of weights `w` and matrix of returns `R`\n",
    "    \n",
    "    Returns scalar\"\"\"\n",
    "\n",
    "    return w.transpose() @ pd.np.mean(R, axis=0)\n",
    "\n",
    "def V(w, R):\n",
    "    \"\"\"Variance of portfolio given vector of weights `w` and matrix of returns `R`\n",
    "\n",
    "    Returns scalar\"\"\"\n",
    "\n",
    "    return w.transpose() @ pd.np.cov(R, rowvar=False) @ w\n",
    "\n",
    "def SR(w, R):\n",
    "    \"\"\"Sharpe ratio of portfolio given weights `w` and matrix of returns `R`\n",
    "\n",
    "    Returns scalar\"\"\"\n",
    "\n",
    "    return (E(w, R) / pd.np.sqrt(V(w, R)))\n",
    "\n",
    "def obj_SR(*args, **kwargs):\n",
    "    \"\"\"Objective function to minimize negative Sharpe ratio.\n",
    "\n",
    "    Wrapped function expects vector of weights `w` and matrix of returns `R`\n",
    "\n",
    "    Returns optimization results object\"\"\"\n",
    "\n",
    "    return -SR(*args, **kwargs)\n",
    "\n",
    "# equality constraint functions are set to 0\n",
    "cons = ({\"type\": \"eq\", \"fun\": lambda w: pd.np.sum(w) - 1},)"
   ]
  },
  {
   "cell_type": "code",
   "execution_count": 4,
   "metadata": {},
   "outputs": [
    {
     "data": {
      "text/plain": [
       "(array([0.52, 0.48]), 0.29413184785396596)"
      ]
     },
     "execution_count": 4,
     "metadata": {},
     "output_type": "execute_result"
    }
   ],
   "source": [
    "ValMom = f[\"1963-07\":\"2017-12\"][[\"hmlm\", \"wml\"]].as_matrix()\n",
    "ValMom_res = minimize(obj_SR, [.5,.5], args=(ValMom,), constraints=cons)\n",
    "ValMom_res[\"x\"].round(2), SR(ValMom_res[\"x\"], ValMom)"
   ]
  },
  {
   "cell_type": "code",
   "execution_count": 5,
   "metadata": {},
   "outputs": [
    {
     "data": {
      "text/plain": [
       "(array([0.1 , 0.07, 0.23, 0.14, 0.46]), 0.5624495392772361)"
      ]
     },
     "execution_count": 5,
     "metadata": {},
     "output_type": "execute_result"
    }
   ],
   "source": [
    "SDF = f[\"1963-07\":\"2017-12\"][[\"rm\", \"smb\", \"hmlm\", \"wml\", \"PMU\"]].as_matrix()\n",
    "SDF_res = minimize(obj_SR, [.2,.2,.2,.2,.2], args=(SDF,), constraints=cons)\n",
    "SDF_res[\"x\"].round(2), SR(SDF_res[\"x\"], SDF)"
   ]
  },
  {
   "cell_type": "code",
   "execution_count": 6,
   "metadata": {},
   "outputs": [
    {
     "data": {
      "text/plain": [
       "(array([0.12, 0.1 , 0.13, 0.54, 0.12]), 0.47416457882441704)"
      ]
     },
     "execution_count": 6,
     "metadata": {},
     "output_type": "execute_result"
    }
   ],
   "source": [
    "SDF2 = f[\"1963-07\":\"2017-12\"][[\"rm\", \"smb\", \"hml\", \"PMU\", \"cma\"]].as_matrix()\n",
    "SDF2_res = minimize(obj_SR, [.2,.2,.2,.2,.2], args=(SDF2,), constraints=cons)\n",
    "SDF2_res[\"x\"].round(2), SR(SDF2_res[\"x\"], SDF2)"
   ]
  },
  {
   "cell_type": "code",
   "execution_count": 7,
   "metadata": {},
   "outputs": [
    {
     "data": {
      "text/plain": [
       "<matplotlib.axes._subplots.AxesSubplot at 0x1fcddec7a20>"
      ]
     },
     "execution_count": 7,
     "metadata": {},
     "output_type": "execute_result"
    },
    {
     "data": {
      "image/png": "[encoded data removed]",
      "text/plain": [
       "<matplotlib.figure.Figure at 0x1fcddec7668>"
      ]
     },
     "metadata": {},
     "output_type": "display_data"
    }
   ],
   "source": [
    "df = pd.DataFrame(OrderedDict([\n",
    "    (\"Model 1\", SDF.dot(SDF_res[\"x\"])),\n",
    "    (\"Model 2\", SDF2.dot(SDF2_res[\"x\"])),\n",
    "    (\"Mkt\", f[\"1963-07\":\"2017-12\"][\"rm\"]),\n",
    "    #(\"Mom\", f[\"1963-07\":\"2017-12\"][\"wml\"]),\n",
    "    #(\"Val\", f[\"1963-07\":\"2017-12\"][\"hmlm\"]),\n",
    "    #(\"ValMom\", ValMom.dot(ValMom_res[\"x\"])),\n",
    "]))/100\n",
    "\n",
    "# (df + 1).cumprod().plot()\n",
    "pd.np.log(df + 1).cumsum().plot()"
   ]
  },
  {
   "cell_type": "code",
   "execution_count": 8,
   "metadata": {},
   "outputs": [
    {
     "data": {
      "text/plain": [
       "<matplotlib.axes._subplots.AxesSubplot at 0x1fcde0e3198>"
      ]
     },
     "execution_count": 8,
     "metadata": {},
     "output_type": "execute_result"
    },
    {
     "data": {
      "image/png": "[encoded data removed]",
      "text/plain": [
       "<matplotlib.figure.Figure at 0x1fcde0d26a0>"
      ]
     },
     "metadata": {},
     "output_type": "display_data"
    }
   ],
   "source": [
    "df = pd.DataFrame(OrderedDict([\n",
    "    #(\"Model 1\", SDF.dot(SDF_res[\"x\"])),\n",
    "    #(\"Model 2\", SDF2.dot(SDF2_res[\"x\"])),\n",
    "    (\"Mkt\", f[\"1963-07\":\"2017-12\"][\"rm\"]),\n",
    "    (\"Mom\", f[\"1963-07\":\"2017-12\"][\"wml\"]),\n",
    "    (\"Val\", f[\"1963-07\":\"2017-12\"][\"hmlm\"]),\n",
    "    (\"ValMom\", ValMom.dot(ValMom_res[\"x\"])),\n",
    "]))/100\n",
    "\n",
    "# (df + 1).cumprod().plot()\n",
    "pd.np.log(df + 1).cumsum().plot()"
   ]
  },
  {
   "cell_type": "code",
   "execution_count": 33,
   "metadata": {},
   "outputs": [],
   "source": [
    "a = pd.read_csv(\"C:/Data/FrenchDartmouth/25_Portfolios_ME_VAR_5x5.csv\")\n",
    "a.index = f.index"
   ]
  },
  {
   "cell_type": "code",
   "execution_count": 34,
   "metadata": {},
   "outputs": [
    {
     "data": {
      "text/plain": [
       "<matplotlib.axes._subplots.AxesSubplot at 0x1fcdf02d748>"
      ]
     },
     "execution_count": 34,
     "metadata": {},
     "output_type": "execute_result"
    },
    {
     "data": {
      "image/png": "[encoded data removed]",
      "text/plain": [
       "<matplotlib.figure.Figure at 0x1fcdef21048>"
      ]
     },
     "metadata": {},
     "output_type": "display_data"
    }
   ],
   "source": [
    "pd.np.log(a[\"SMALL HiVAR\"]/100 + 1).cumsum().plot()"
   ]
  },
  {
   "cell_type": "code",
   "execution_count": 42,
   "metadata": {},
   "outputs": [
    {
     "data": {
      "text/html": [
       "<table class=\"simpletable\">\n",
       "<caption>OLS Regression Results</caption>\n",
       "<tr>\n",
       "  <th>Dep. Variable:</th>            <td>y</td>        <th>  R-squared:         </th> <td>   0.845</td> \n",
       "</tr>\n",
       "<tr>\n",
       "  <th>Model:</th>                   <td>OLS</td>       <th>  Adj. R-squared:    </th> <td>   0.844</td> \n",
       "</tr>\n",
       "<tr>\n",
       "  <th>Method:</th>             <td>Least Squares</td>  <th>  F-statistic:       </th> <td>   707.4</td> \n",
       "</tr>\n",
       "<tr>\n",
       "  <th>Date:</th>             <td>Fri, 27 Apr 2018</td> <th>  Prob (F-statistic):</th> <td>1.16e-259</td>\n",
       "</tr>\n",
       "<tr>\n",
       "  <th>Time:</th>                 <td>15:07:15</td>     <th>  Log-Likelihood:    </th> <td> -1766.7</td> \n",
       "</tr>\n",
       "<tr>\n",
       "  <th>No. Observations:</th>      <td>   654</td>      <th>  AIC:               </th> <td>   3545.</td> \n",
       "</tr>\n",
       "<tr>\n",
       "  <th>Df Residuals:</th>          <td>   648</td>      <th>  BIC:               </th> <td>   3572.</td> \n",
       "</tr>\n",
       "<tr>\n",
       "  <th>Df Model:</th>              <td>     5</td>      <th>                     </th>     <td> </td>    \n",
       "</tr>\n",
       "<tr>\n",
       "  <th>Covariance Type:</th>      <td>nonrobust</td>    <th>                     </th>     <td> </td>    \n",
       "</tr>\n",
       "</table>\n",
       "<table class=\"simpletable\">\n",
       "<tr>\n",
       "    <td></td>       <th>coef</th>     <th>std err</th>      <th>t</th>      <th>P>|t|</th>  <th>[0.025</th>    <th>0.975]</th>  \n",
       "</tr>\n",
       "<tr>\n",
       "  <th>const</th> <td>   -0.7531</td> <td>    0.163</td> <td>   -4.634</td> <td> 0.000</td> <td>   -1.072</td> <td>   -0.434</td>\n",
       "</tr>\n",
       "<tr>\n",
       "  <th>rm</th>    <td>    1.1867</td> <td>    0.037</td> <td>   32.194</td> <td> 0.000</td> <td>    1.114</td> <td>    1.259</td>\n",
       "</tr>\n",
       "<tr>\n",
       "  <th>smb</th>   <td>    1.5062</td> <td>    0.051</td> <td>   29.597</td> <td> 0.000</td> <td>    1.406</td> <td>    1.606</td>\n",
       "</tr>\n",
       "<tr>\n",
       "  <th>hmlm</th>  <td>   -0.0046</td> <td>    0.060</td> <td>   -0.077</td> <td> 0.939</td> <td>   -0.123</td> <td>    0.113</td>\n",
       "</tr>\n",
       "<tr>\n",
       "  <th>wml</th>   <td>   -0.3608</td> <td>    0.046</td> <td>   -7.824</td> <td> 0.000</td> <td>   -0.451</td> <td>   -0.270</td>\n",
       "</tr>\n",
       "<tr>\n",
       "  <th>PMU</th>   <td>   -0.5031</td> <td>    0.121</td> <td>   -4.158</td> <td> 0.000</td> <td>   -0.741</td> <td>   -0.266</td>\n",
       "</tr>\n",
       "</table>\n",
       "<table class=\"simpletable\">\n",
       "<tr>\n",
       "  <th>Omnibus:</th>       <td>198.338</td> <th>  Durbin-Watson:     </th> <td>   1.886</td>\n",
       "</tr>\n",
       "<tr>\n",
       "  <th>Prob(Omnibus):</th> <td> 0.000</td>  <th>  Jarque-Bera (JB):  </th> <td>2179.608</td>\n",
       "</tr>\n",
       "<tr>\n",
       "  <th>Skew:</th>          <td> 1.018</td>  <th>  Prob(JB):          </th> <td>    0.00</td>\n",
       "</tr>\n",
       "<tr>\n",
       "  <th>Kurtosis:</th>      <td>11.709</td>  <th>  Cond. No.          </th> <td>    6.21</td>\n",
       "</tr>\n",
       "</table>"
      ],
      "text/plain": [
       "<class 'statsmodels.iolib.summary.Summary'>\n",
       "\"\"\"\n",
       "                            OLS Regression Results                            \n",
       "==============================================================================\n",
       "Dep. Variable:                      y   R-squared:                       0.845\n",
       "Model:                            OLS   Adj. R-squared:                  0.844\n",
       "Method:                 Least Squares   F-statistic:                     707.4\n",
       "Date:                Fri, 27 Apr 2018   Prob (F-statistic):          1.16e-259\n",
       "Time:                        15:07:15   Log-Likelihood:                -1766.7\n",
       "No. Observations:                 654   AIC:                             3545.\n",
       "Df Residuals:                     648   BIC:                             3572.\n",
       "Df Model:                           5                                         \n",
       "Covariance Type:            nonrobust                                         \n",
       "==============================================================================\n",
       "                 coef    std err          t      P>|t|      [0.025      0.975]\n",
       "------------------------------------------------------------------------------\n",
       "const         -0.7531      0.163     -4.634      0.000      -1.072      -0.434\n",
       "rm             1.1867      0.037     32.194      0.000       1.114       1.259\n",
       "smb            1.5062      0.051     29.597      0.000       1.406       1.606\n",
       "hmlm          -0.0046      0.060     -0.077      0.939      -0.123       0.113\n",
       "wml           -0.3608      0.046     -7.824      0.000      -0.451      -0.270\n",
       "PMU           -0.5031      0.121     -4.158      0.000      -0.741      -0.266\n",
       "==============================================================================\n",
       "Omnibus:                      198.338   Durbin-Watson:                   1.886\n",
       "Prob(Omnibus):                  0.000   Jarque-Bera (JB):             2179.608\n",
       "Skew:                           1.018   Prob(JB):                         0.00\n",
       "Kurtosis:                      11.709   Cond. No.                         6.21\n",
       "==============================================================================\n",
       "\n",
       "Warnings:\n",
       "[1] Standard Errors assume that the covariance matrix of the errors is correctly specified.\n",
       "\"\"\""
      ]
     },
     "execution_count": 42,
     "metadata": {},
     "output_type": "execute_result"
    }
   ],
   "source": [
    "rhs = sm.add_constant(f[[\"rm\", \"smb\", \"hmlm\", \"wml\", \"PMU\"]])\n",
    "lhs = a[\"SMALL HiVAR\"] - f[\"rf\"]\n",
    "\n",
    "model = sm.OLS(lhs, rhs)\n",
    "fit = model.fit()\n",
    "\n",
    "fit.summary()"
   ]
  },
  {
   "cell_type": "code",
   "execution_count": 38,
   "metadata": {},
   "outputs": [
    {
     "data": {
      "text/html": [
       "<table class=\"simpletable\">\n",
       "<caption>OLS Regression Results</caption>\n",
       "<tr>\n",
       "  <th>Dep. Variable:</th>            <td>y</td>        <th>  R-squared:         </th> <td>   0.822</td> \n",
       "</tr>\n",
       "<tr>\n",
       "  <th>Model:</th>                   <td>OLS</td>       <th>  Adj. R-squared:    </th> <td>   0.820</td> \n",
       "</tr>\n",
       "<tr>\n",
       "  <th>Method:</th>             <td>Least Squares</td>  <th>  F-statistic:       </th> <td>   596.9</td> \n",
       "</tr>\n",
       "<tr>\n",
       "  <th>Date:</th>             <td>Fri, 27 Apr 2018</td> <th>  Prob (F-statistic):</th> <td>9.04e-240</td>\n",
       "</tr>\n",
       "<tr>\n",
       "  <th>Time:</th>                 <td>14:59:38</td>     <th>  Log-Likelihood:    </th> <td> -1812.9</td> \n",
       "</tr>\n",
       "<tr>\n",
       "  <th>No. Observations:</th>      <td>   654</td>      <th>  AIC:               </th> <td>   3638.</td> \n",
       "</tr>\n",
       "<tr>\n",
       "  <th>Df Residuals:</th>          <td>   648</td>      <th>  BIC:               </th> <td>   3665.</td> \n",
       "</tr>\n",
       "<tr>\n",
       "  <th>Df Model:</th>              <td>     5</td>      <th>                     </th>     <td> </td>    \n",
       "</tr>\n",
       "<tr>\n",
       "  <th>Covariance Type:</th>      <td>nonrobust</td>    <th>                     </th>     <td> </td>    \n",
       "</tr>\n",
       "</table>\n",
       "<table class=\"simpletable\">\n",
       "<tr>\n",
       "    <td></td>       <th>coef</th>     <th>std err</th>      <th>t</th>      <th>P>|t|</th>  <th>[0.025</th>    <th>0.975]</th>  \n",
       "</tr>\n",
       "<tr>\n",
       "  <th>const</th> <td>   -0.8015</td> <td>    0.168</td> <td>   -4.763</td> <td> 0.000</td> <td>   -1.132</td> <td>   -0.471</td>\n",
       "</tr>\n",
       "<tr>\n",
       "  <th>rm</th>    <td>    1.1802</td> <td>    0.041</td> <td>   29.122</td> <td> 0.000</td> <td>    1.101</td> <td>    1.260</td>\n",
       "</tr>\n",
       "<tr>\n",
       "  <th>smb</th>   <td>    1.4584</td> <td>    0.055</td> <td>   26.715</td> <td> 0.000</td> <td>    1.351</td> <td>    1.566</td>\n",
       "</tr>\n",
       "<tr>\n",
       "  <th>hml</th>   <td>   -0.0195</td> <td>    0.079</td> <td>   -0.246</td> <td> 0.805</td> <td>   -0.175</td> <td>    0.136</td>\n",
       "</tr>\n",
       "<tr>\n",
       "  <th>PMU</th>   <td>   -0.8571</td> <td>    0.126</td> <td>   -6.813</td> <td> 0.000</td> <td>   -1.104</td> <td>   -0.610</td>\n",
       "</tr>\n",
       "<tr>\n",
       "  <th>cma</th>   <td>   -0.1391</td> <td>    0.111</td> <td>   -1.254</td> <td> 0.210</td> <td>   -0.357</td> <td>    0.079</td>\n",
       "</tr>\n",
       "</table>\n",
       "<table class=\"simpletable\">\n",
       "<tr>\n",
       "  <th>Omnibus:</th>       <td>324.208</td> <th>  Durbin-Watson:     </th> <td>   2.075</td>\n",
       "</tr>\n",
       "<tr>\n",
       "  <th>Prob(Omnibus):</th> <td> 0.000</td>  <th>  Jarque-Bera (JB):  </th> <td>6782.498</td>\n",
       "</tr>\n",
       "<tr>\n",
       "  <th>Skew:</th>          <td> 1.714</td>  <th>  Prob(JB):          </th> <td>    0.00</td>\n",
       "</tr>\n",
       "<tr>\n",
       "  <th>Kurtosis:</th>      <td>18.400</td>  <th>  Cond. No.          </th> <td>    5.64</td>\n",
       "</tr>\n",
       "</table>"
      ],
      "text/plain": [
       "<class 'statsmodels.iolib.summary.Summary'>\n",
       "\"\"\"\n",
       "                            OLS Regression Results                            \n",
       "==============================================================================\n",
       "Dep. Variable:                      y   R-squared:                       0.822\n",
       "Model:                            OLS   Adj. R-squared:                  0.820\n",
       "Method:                 Least Squares   F-statistic:                     596.9\n",
       "Date:                Fri, 27 Apr 2018   Prob (F-statistic):          9.04e-240\n",
       "Time:                        14:59:38   Log-Likelihood:                -1812.9\n",
       "No. Observations:                 654   AIC:                             3638.\n",
       "Df Residuals:                     648   BIC:                             3665.\n",
       "Df Model:                           5                                         \n",
       "Covariance Type:            nonrobust                                         \n",
       "==============================================================================\n",
       "                 coef    std err          t      P>|t|      [0.025      0.975]\n",
       "------------------------------------------------------------------------------\n",
       "const         -0.8015      0.168     -4.763      0.000      -1.132      -0.471\n",
       "rm             1.1802      0.041     29.122      0.000       1.101       1.260\n",
       "smb            1.4584      0.055     26.715      0.000       1.351       1.566\n",
       "hml           -0.0195      0.079     -0.246      0.805      -0.175       0.136\n",
       "PMU           -0.8571      0.126     -6.813      0.000      -1.104      -0.610\n",
       "cma           -0.1391      0.111     -1.254      0.210      -0.357       0.079\n",
       "==============================================================================\n",
       "Omnibus:                      324.208   Durbin-Watson:                   2.075\n",
       "Prob(Omnibus):                  0.000   Jarque-Bera (JB):             6782.498\n",
       "Skew:                           1.714   Prob(JB):                         0.00\n",
       "Kurtosis:                      18.400   Cond. No.                         5.64\n",
       "==============================================================================\n",
       "\n",
       "Warnings:\n",
       "[1] Standard Errors assume that the covariance matrix of the errors is correctly specified.\n",
       "\"\"\""
      ]
     },
     "execution_count": 38,
     "metadata": {},
     "output_type": "execute_result"
    }
   ],
   "source": [
    "rhs = sm.add_constant(f[[\"rm\", \"smb\", \"hml\", \"PMU\", \"cma\"]])\n",
    "lhs = a[\"SMALL HiVAR\"] - f[\"rf\"]\n",
    "\n",
    "model = sm.OLS(lhs, rhs)\n",
    "fit = model.fit()\n",
    "\n",
    "fit.summary()"
   ]
  }
 ],
 "metadata": {
  "kernelspec": {
   "display_name": "Python 3",
   "language": "python",
   "name": "python3"
  },
  "language_info": {
   "codemirror_mode": {
    "name": "ipython",
    "version": 3
   },
   "file_extension": ".py",
   "mimetype": "text/x-python",
   "name": "python",
   "nbconvert_exporter": "python",
   "pygments_lexer": "ipython3",
   "version": "3.6.4"
  }
 },
 "nbformat": 4,
 "nbformat_minor": 2
}
